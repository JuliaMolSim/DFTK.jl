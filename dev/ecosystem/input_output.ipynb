{
 "cells": [
  {
   "cell_type": "markdown",
   "source": [
    "# Input and output formats"
   ],
   "metadata": {}
  },
  {
   "cell_type": "markdown",
   "source": [
    "This section provides an overview of the input and output formats\n",
    "supported by DFTK, usually via integration with a third-party library.\n",
    "\n",
    "## Reading / writing files supported by AtomsIO\n",
    "[AtomsIO](https://github.com/mfherbst/AtomsIO.jl) is a Julia package which supports\n",
    "reading / writing atomistic structures from / to a large range of file formats.\n",
    "Supported formats include Crystallographic Information Framework (CIF),\n",
    "XYZ and extxyz files, ASE / Gromacs / LAMMPS / Amber trajectory files\n",
    "or input files of various other codes (e.g. Quantum Espresso, VASP, ABINIT, CASTEP, …).\n",
    "The full list of formats is is available in the\n",
    "[AtomsIO documentation](https://mfherbst.github.io/AtomsIO.jl/stable).\n",
    "\n",
    "The AtomsIO functionality is split into two packages. The main package, `AtomsIO` itself,\n",
    "only depends on packages, which are registered in the Julia General package registry.\n",
    "In contrast `AtomsIOPython` extends `AtomsIO` by parsers depending on python packages,\n",
    "which are automatically managed via `PythonCall`. While it thus provides the full set of\n",
    "supported IO formats, this also adds additional practical complications, so some users\n",
    "may choose not to use `AtomsIOPython`.\n",
    "\n",
    "As an example we start the calculation of a simple antiferromagnetic iron crystal\n",
    "using a Quantum-Espresso input file, [Fe_afm.pwi](Fe_afm.pwi).\n",
    "For more details about calculations on magnetic systems\n",
    "using collinear spin, see Collinear spin and magnetic systems.\n",
    "\n",
    "First we parse the Quantum Espresso input file using AtomsIO,\n",
    "which reads the lattice, atomic positions and initial magnetisation\n",
    "from the input file and returns it as an\n",
    "[AtomsBase](https://github.com/JuliaMolSim/AtomsBase.jl) `AbstractSystem`,\n",
    "the JuliaMolSim community standard for representing atomic systems."
   ],
   "metadata": {}
  },
  {
   "outputs": [
    {
     "output_type": "execute_result",
     "data": {
      "text/plain": "FlexibleSystem(Fe₂, periodicity = TTT):\n    cell_vectors      : [ 2.86814        0        0;\n                                0  2.86814        0;\n                                0        0  2.86814]u\"Å\"\n\n    Atom(Fe, [       0,        0,        0]u\"Å\")\n    Atom(Fe, [ 1.43407,  1.43407,  1.43407]u\"Å\")\n"
     },
     "metadata": {},
     "execution_count": 1
    }
   ],
   "cell_type": "code",
   "source": [
    "using AtomsIO        # Use Julia-only IO parsers\n",
    "using AtomsIOPython  # Use python-based IO parsers (e.g. ASE)\n",
    "system = load_system(\"Fe_afm.pwi\")"
   ],
   "metadata": {},
   "execution_count": 1
  },
  {
   "cell_type": "markdown",
   "source": [
    "Next we build a model making use of the AtomsBase integration\n",
    "of DFTK and supplying a pseudpotential family\n",
    "from the [PseudoPotentialData](https://github.com/JuliaMolSim/PseudoPotentialData.jl)"
   ],
   "metadata": {}
  },
  {
   "outputs": [
    {
     "output_type": "execute_result",
     "data": {
      "text/plain": "Model(lda_x+lda_c_pw, 3D):\n    lattice (in Bohr)    : [5.42      , 0         , 0         ]\n                           [0         , 5.42      , 0         ]\n                           [0         , 0         , 5.42      ]\n    unit cell volume     : 159.22 Bohr³\n\n    atoms                : Fe₂\n    pseudopot. family    : PseudoFamily(\"dojo.nc.sr.lda.v0_4_1.standard.upf\")\n\n    num. electrons       : 32\n    spin polarization    : collinear\n    temperature          : 0.01 Ha\n    smearing             : DFTK.Smearing.FermiDirac()\n\n    terms                : Kinetic()\n                           AtomicLocal()\n                           AtomicNonlocal()\n                           Ewald(nothing)\n                           PspCorrection()\n                           Hartree()\n                           Xc(lda_x, lda_c_pw)\n                           Entropy()"
     },
     "metadata": {},
     "execution_count": 2
    }
   ],
   "cell_type": "code",
   "source": [
    "using DFTK\n",
    "using PseudoPotentialData\n",
    "pd_lda_family = PseudoFamily(\"dojo.nc.sr.lda.v0_4_1.standard.upf\")\n",
    "model = model_DFT(system;\n",
    "                  functionals=LDA(),\n",
    "                  temperature=0.01,\n",
    "                  pseudopotentials=pd_lda_family)"
   ],
   "metadata": {},
   "execution_count": 2
  },
  {
   "cell_type": "markdown",
   "source": [
    "Finally we run the calculation:"
   ],
   "metadata": {}
  },
  {
   "outputs": [
    {
     "name": "stdout",
     "output_type": "stream",
     "text": [
      "┌ Warning: Negative ρcore detected: -0.010160696831625918\n",
      "└ @ DFTK ~/work/DFTK.jl/DFTK.jl/src/terms/xc.jl:39\n",
      "n     Energy            log10(ΔE)   log10(Δρ)   Magnet   |Magn|   Diag   Δtime\n",
      "---   ---------------   ---------   ---------   ------   ------   ----   ------\n",
      "  1   -230.6860532440                    0.31   -0.517    0.517    5.0    233ms\n",
      "  2   -234.1251614803        0.54       -0.32   -0.457    0.457    2.5    158ms\n",
      "  3   -234.2144402176       -1.05       -1.06   -0.446    0.446    3.5    171ms\n",
      "  4   -234.2154861931       -2.98       -1.94   -0.448    0.448    1.2    147ms\n",
      "  5   -234.2155202008       -4.47       -2.79   -0.451    0.451    2.0    119ms\n",
      "  6   -234.2155226312       -5.61       -2.96   -0.452    0.452    4.1    147ms\n",
      "  7   -234.2155233186       -6.16       -3.09   -0.454    0.454    1.1    110ms\n",
      "  8   -234.2155235921       -6.56       -3.19   -0.455    0.455    1.0    123ms\n",
      "  9   -234.2155236919       -7.00       -3.23   -0.455    0.456    1.0    107ms\n",
      " 10   -234.2155240471       -6.45       -3.79   -0.462    0.462    1.2    113ms\n",
      " 11   -234.2155241068       -7.22       -3.65   -0.468    0.468    2.0    136ms\n",
      " 12   -234.2155241281       -7.67       -3.61   -0.471    0.471    1.0    107ms\n",
      " 13   -234.2155243518       -6.65       -3.92   -0.490    0.490    2.0    136ms\n",
      " 14   -234.2155246040       -6.60       -4.25   -0.531    0.531    3.2    167ms\n",
      " 15   -234.2155246329       -7.54       -4.71   -0.552    0.552    3.5    164ms\n",
      " 16   -234.2155246330       -9.78       -5.01   -0.547    0.547    2.9    159ms\n",
      " 17   -234.2155246335       -9.34       -5.24   -0.551    0.552    3.5    165ms\n",
      " 18   -234.2155246339       -9.44       -5.51   -0.550    0.550    3.0    163ms\n",
      " 19   -234.2155246340      -10.03       -5.55   -0.550    0.550    1.9    136ms\n",
      " 20   -234.2155246341      -10.03       -5.59   -0.550    0.550    1.2    115ms\n",
      " 21   -234.2155246341      -10.28       -5.62   -0.550    0.550    1.0    118ms\n",
      " 22   -234.2155246342      -10.12       -5.65   -0.550    0.550    1.0    109ms\n",
      " 23   -234.2155246343       -9.96       -5.71   -0.550    0.550    1.0    109ms\n",
      " 24   -234.2155246345       -9.72       -5.87   -0.550    0.550    1.9    129ms\n",
      " 25   -234.2155246346       -9.78       -6.62   -0.550    0.550    2.0    139ms\n"
     ]
    }
   ],
   "cell_type": "code",
   "source": [
    "basis = PlaneWaveBasis(model; Ecut=10, kgrid=(2, 2, 2))\n",
    "ρ0 = guess_density(basis, system)\n",
    "scfres = self_consistent_field(basis, ρ=ρ0);"
   ],
   "metadata": {},
   "execution_count": 3
  },
  {
   "cell_type": "markdown",
   "source": [
    "> **DFTK data formats are not yet fully matured**\n",
    ">\n",
    "> The data format in which DFTK saves data as well as the general interface\n",
    "> of the `load_scfres` and `save_scfres` pair of functions\n",
    "> are not yet fully matured. They have become fairly stable, but we reserve\n",
    "> the right to change them incompatibly between DFTK versions (including\n",
    "> patch versions) at this point."
   ],
   "metadata": {}
  },
  {
   "cell_type": "markdown",
   "source": [
    "## Writing VTK files for visualization\n",
    "For visualizing the density or the Kohn-Sham orbitals DFTK supports storing\n",
    "the result of an SCF calculations in the form of VTK files.\n",
    "These can afterwards be visualized using tools such\n",
    "as [paraview](https://www.paraview.org/).\n",
    "Using this feature requires\n",
    "the [WriteVTK.jl](https://github.com/jipolanco/WriteVTK.jl/) Julia package."
   ],
   "metadata": {}
  },
  {
   "outputs": [],
   "cell_type": "code",
   "source": [
    "using WriteVTK\n",
    "save_scfres(\"iron_afm.vts\", scfres; save_ψ=true);"
   ],
   "metadata": {},
   "execution_count": 4
  },
  {
   "cell_type": "markdown",
   "source": [
    "This will save the iron calculation above into the file `iron_afm.vts`,\n",
    "using `save_ψ=true` to also include the KS orbitals."
   ],
   "metadata": {}
  },
  {
   "cell_type": "markdown",
   "source": [
    "## Parsable data-export using json\n",
    "Many structures in DFTK support the (unexported) `todict` function,\n",
    "which returns a simplified dictionary representation of the data."
   ],
   "metadata": {}
  },
  {
   "outputs": [
    {
     "output_type": "execute_result",
     "data": {
      "text/plain": "Dict{String, Float64} with 9 entries:\n  \"AtomicNonlocal\" => 0.658899\n  \"PspCorrection\"  => 6.08846\n  \"Ewald\"          => -171.89\n  \"total\"          => -234.216\n  \"Entropy\"        => -0.0383971\n  \"Kinetic\"        => 79.7534\n  \"AtomicLocal\"    => -154.422\n  \"Hartree\"        => 36.1749\n  \"Xc\"             => -30.5409"
     },
     "metadata": {},
     "execution_count": 5
    }
   ],
   "cell_type": "code",
   "source": [
    "DFTK.todict(scfres.energies)"
   ],
   "metadata": {},
   "execution_count": 5
  },
  {
   "cell_type": "markdown",
   "source": [
    "This in turn can be easily written to disk using a JSON library.\n",
    "Currently we integrate most closely with `JSON3`,\n",
    "which is thus recommended."
   ],
   "metadata": {}
  },
  {
   "outputs": [
    {
     "name": "stdout",
     "output_type": "stream",
     "text": [
      "{\n",
      "    \"AtomicNonlocal\": 0.6588992280856815,\n",
      "    \"PspCorrection\": 6.088457202681559,\n",
      "    \"Ewald\": -171.88999401525265,\n",
      "    \"total\": -234.21552463464337,\n",
      "    \"Entropy\": -0.03839706554261535,\n",
      "    \"Kinetic\": 79.75342125169338,\n",
      "    \"AtomicLocal\": -154.4219207512634,\n",
      "    \"Hartree\": 36.17494381277106,\n",
      "    \"Xc\": -30.540934297816364\n",
      "}\n"
     ]
    }
   ],
   "cell_type": "code",
   "source": [
    "using JSON3\n",
    "open(\"iron_afm_energies.json\", \"w\") do io\n",
    "    JSON3.pretty(io, DFTK.todict(scfres.energies))\n",
    "end\n",
    "println(read(\"iron_afm_energies.json\", String))"
   ],
   "metadata": {},
   "execution_count": 6
  },
  {
   "cell_type": "markdown",
   "source": [
    "Once JSON3 is loaded, additionally a convenience function for saving\n",
    "a summary of `scfres` objects using `save_scfres` is available:"
   ],
   "metadata": {}
  },
  {
   "outputs": [],
   "cell_type": "code",
   "source": [
    "using JSON3\n",
    "save_scfres(\"iron_afm.json\", scfres)"
   ],
   "metadata": {},
   "execution_count": 7
  },
  {
   "cell_type": "markdown",
   "source": [
    "Similarly a summary of the band data (occupations, eigenvalues, εF, etc.)\n",
    "for post-processing can be dumped using `save_bands`:"
   ],
   "metadata": {}
  },
  {
   "outputs": [],
   "cell_type": "code",
   "source": [
    "save_bands(\"iron_afm_scfres.json\", scfres)"
   ],
   "metadata": {},
   "execution_count": 8
  },
  {
   "cell_type": "markdown",
   "source": [
    "Notably this function works both for the results obtained\n",
    "by `self_consistent_field` as well as `compute_bands`:"
   ],
   "metadata": {}
  },
  {
   "outputs": [
    {
     "name": "stdout",
     "output_type": "stream",
     "text": [
      "┌ Warning: The provided cell is a supercell: the returned k-path is the standard k-path of the associated primitive cell in the basis of the supercell reciprocal lattice.\n",
      "│   cell =\n",
      "│    Spglib.SpglibCell{Float64, Float64, Int64, Float64}\n",
      "│     lattice:\n",
      "│       5.41999997388764  0.0  0.0\n",
      "│       0.0  5.41999997388764  0.0\n",
      "│       0.0  0.0  5.41999997388764\n",
      "│     2 atomic positions:\n",
      "│       0.0  0.0  0.0\n",
      "│       0.5  0.5  0.5\n",
      "│     2 atoms:\n",
      "│       1  1\n",
      "│     2 magmoms:\n",
      "│       0.0  0.0\n",
      "│    \n",
      "└ @ BrillouinSpglibExt ~/.julia/packages/Brillouin/FwrEN/ext/BrillouinSpglibExt.jl:28\n",
      "┌ Warning: Negative ρcore detected: -0.010160696831625918\n",
      "└ @ DFTK ~/work/DFTK.jl/DFTK.jl/src/terms/xc.jl:39\n"
     ]
    }
   ],
   "cell_type": "code",
   "source": [
    "bands = compute_bands(scfres, kline_density=10)\n",
    "save_bands(\"iron_afm_bands.json\", bands)"
   ],
   "metadata": {},
   "execution_count": 9
  },
  {
   "cell_type": "markdown",
   "source": [
    "## Writing and reading JLD2 files\n",
    "The full state of a DFTK self-consistent field calculation can be\n",
    "stored on disk in form of an [JLD2.jl](https://github.com/JuliaIO/JLD2.jl) file.\n",
    "This file can be read from other Julia scripts\n",
    "as well as other external codes supporting the HDF5 file format\n",
    "(since the JLD2 format is based on HDF5). This includes notably `h5py`\n",
    "to read DFTK output from python."
   ],
   "metadata": {}
  },
  {
   "outputs": [],
   "cell_type": "code",
   "source": [
    "using JLD2\n",
    "save_scfres(\"iron_afm.jld2\", scfres)"
   ],
   "metadata": {},
   "execution_count": 10
  },
  {
   "cell_type": "markdown",
   "source": [
    "Saving such JLD2 files supports some options, such as `save_ψ=false`, which avoids saving\n",
    "the Bloch waves (much faster and smaller files). Notice that JLD2 files can also be used\n",
    "with `save_bands`."
   ],
   "metadata": {}
  },
  {
   "cell_type": "markdown",
   "source": [
    "Since such JLD2 can also be read by DFTK to start or continue a calculation,\n",
    "these can also be used for checkpointing or for transferring results\n",
    "to a different computer.\n",
    "See Saving SCF results on disk and SCF checkpoints for details."
   ],
   "metadata": {}
  },
  {
   "cell_type": "markdown",
   "source": [
    "(Cleanup files generated by this notebook.)"
   ],
   "metadata": {}
  },
  {
   "outputs": [],
   "cell_type": "code",
   "source": [
    "rm.([\"iron_afm.vts\", \"iron_afm.jld2\",\n",
    "     \"iron_afm.json\", \"iron_afm_energies.json\", \"iron_afm_scfres.json\",\n",
    "     \"iron_afm_bands.json\"]);"
   ],
   "metadata": {},
   "execution_count": 11
  }
 ],
 "nbformat_minor": 3,
 "metadata": {
  "language_info": {
   "file_extension": ".jl",
   "mimetype": "application/julia",
   "name": "julia",
   "version": "1.12.0"
  },
  "kernelspec": {
   "name": "julia-1.12",
   "display_name": "Julia 1.12.0",
   "language": "julia"
  }
 },
 "nbformat": 4
}
