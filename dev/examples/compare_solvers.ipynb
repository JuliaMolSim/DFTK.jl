{
 "cells": [
  {
   "cell_type": "markdown",
   "source": [
    "# Comparison of DFT solvers"
   ],
   "metadata": {}
  },
  {
   "cell_type": "markdown",
   "source": [
    "We compare four different approaches for solving the DFT minimisation problem,\n",
    "namely a density-based SCF, a potential-based SCF, direct minimisation and Newton."
   ],
   "metadata": {}
  },
  {
   "cell_type": "markdown",
   "source": [
    "First we setup our problem"
   ],
   "metadata": {}
  },
  {
   "outputs": [
    {
     "output_type": "execute_result",
     "data": {
      "text/plain": "1.0e-6"
     },
     "metadata": {},
     "execution_count": 1
    }
   ],
   "cell_type": "code",
   "source": [
    "using AtomsBuilder\n",
    "using DFTK\n",
    "using LinearAlgebra\n",
    "using PseudoPotentialData\n",
    "\n",
    "pseudopotentials = PseudoFamily(\"dojo.nc.sr.pbesol.v0_4_1.standard.upf\")\n",
    "model = model_DFT(bulk(:Si); functionals=PBEsol(), pseudopotentials)\n",
    "basis = PlaneWaveBasis(model; Ecut=5, kgrid=[3, 3, 3])\n",
    "\n",
    "# Convergence we desire in the density\n",
    "tol = 1e-6"
   ],
   "metadata": {},
   "execution_count": 1
  },
  {
   "cell_type": "markdown",
   "source": [
    "## Density-based self-consistent field"
   ],
   "metadata": {}
  },
  {
   "outputs": [
    {
     "name": "stdout",
     "output_type": "stream",
     "text": [
      "n     Energy            log10(ΔE)   log10(Δρ)   Diag   Δtime\n",
      "---   ---------------   ---------   ---------   ----   ------\n",
      "  1   -8.397876843038                   -0.90    5.2   28.1ms\n",
      "  2   -8.400236693321       -2.63       -1.74    1.0   20.0ms\n",
      "  3   -8.400406511497       -3.77       -2.96    1.8   21.6ms\n",
      "  4   -8.400427864393       -4.67       -2.98    3.2   80.6ms\n",
      "  5   -8.400427932125       -7.17       -3.02    1.0   20.2ms\n",
      "  6   -8.400428144727       -6.67       -4.61    1.0   20.2ms\n",
      "  7   -8.400428151732       -8.15       -4.41    2.8   25.5ms\n",
      "  8   -8.400428152185       -9.34       -5.27    1.0   20.5ms\n",
      "  9   -8.400428152207      -10.66       -6.27    1.5   21.6ms\n"
     ]
    }
   ],
   "cell_type": "code",
   "source": [
    "scfres_scf = self_consistent_field(basis; tol);"
   ],
   "metadata": {},
   "execution_count": 2
  },
  {
   "cell_type": "markdown",
   "source": [
    "## Potential-based SCF"
   ],
   "metadata": {}
  },
  {
   "outputs": [
    {
     "name": "stdout",
     "output_type": "stream",
     "text": [
      "n     Energy            log10(ΔE)   log10(Δρ)   α      Diag   Δtime\n",
      "---   ---------------   ---------   ---------   ----   ----   ------\n",
      "  1   -8.397881680250                   -0.90           5.2    908ms\n",
      "  2   -8.400382653024       -2.60       -1.78   0.80    2.0    565ms\n",
      "  3   -8.400422585802       -4.40       -3.00   0.80    1.0    235ms\n",
      "  4   -8.400428111982       -5.26       -3.43   0.80    2.8   23.0ms\n",
      "  5   -8.400428149229       -7.43       -4.65   0.80    1.0   17.9ms\n",
      "  6   -8.400428152183       -8.53       -5.97   0.80    2.5   22.2ms\n",
      "  7   -8.400428152209      -10.59       -5.99   0.80    3.5   24.2ms\n",
      "  8   -8.400428152209      -13.03       -7.44   0.80    1.0   18.0ms\n"
     ]
    }
   ],
   "cell_type": "code",
   "source": [
    "scfres_scfv = DFTK.scf_potential_mixing(basis; tol);"
   ],
   "metadata": {},
   "execution_count": 3
  },
  {
   "cell_type": "markdown",
   "source": [
    "## Direct minimization"
   ],
   "metadata": {}
  },
  {
   "outputs": [
    {
     "name": "stdout",
     "output_type": "stream",
     "text": [
      "┌ Warning: x_tol is deprecated. Use x_abstol or x_reltol instead. The provided value (-1) will be used as x_abstol.\n",
      "└ @ Optim ~/.julia/packages/Optim/7krni/src/types.jl:110\n",
      "┌ Warning: f_tol is deprecated. Use f_abstol or f_reltol instead. The provided value (-1) will be used as f_reltol.\n",
      "└ @ Optim ~/.julia/packages/Optim/7krni/src/types.jl:120\n",
      "n     Energy            log10(ΔE)   log10(Δρ)   Δtime\n",
      "---   ---------------   ---------   ---------   ------\n",
      "  1   +1.166070902390                   -1.05    3.86s\n",
      "  2   -1.566163506390        0.44       -0.64    148ms\n",
      "  3   -4.360100051169        0.45       -0.35   44.4ms\n",
      "  4   -6.025988837808        0.22       -0.43    104ms\n",
      "  5   -7.561785230802        0.19       -0.67   45.2ms\n",
      "  6   -7.999865456209       -0.36       -1.22   33.1ms\n",
      "  7   -8.222850476009       -0.65       -1.51   33.1ms\n",
      "  8   -8.292678141588       -1.16       -1.70   33.1ms\n",
      "  9   -8.355745574583       -1.20       -2.37   33.3ms\n",
      " 10   -8.374664484170       -1.72       -2.11   63.0ms\n",
      " 11   -8.388809816813       -1.85       -2.67   33.3ms\n",
      " 12   -8.392765613590       -2.40       -2.76   33.5ms\n",
      " 13   -8.395740801637       -2.53       -2.98   33.5ms\n",
      " 14   -8.397194751636       -2.84       -3.06   33.0ms\n",
      " 15   -8.398322319502       -2.95       -3.14   33.3ms\n",
      " 16   -8.399502127189       -2.93       -2.82   39.0ms\n",
      " 17   -8.399976991432       -3.32       -3.57   33.6ms\n",
      " 18   -8.400302862437       -3.49       -3.42   33.6ms\n",
      " 19   -8.400326495784       -4.63       -3.59   33.5ms\n",
      " 20   -8.400407200000       -4.09       -4.03   34.0ms\n",
      " 21   -8.400414124435       -5.16       -3.89   39.2ms\n",
      " 22   -8.400423536843       -5.03       -4.23   33.8ms\n",
      " 23   -8.400425392415       -5.73       -4.78   33.7ms\n",
      " 24   -8.400427430113       -5.69       -5.29   33.9ms\n",
      " 25   -8.400427719037       -6.54       -4.79   38.9ms\n",
      " 26   -8.400428017470       -6.53       -5.77   33.6ms\n",
      " 27   -8.400428057730       -7.40       -5.21   33.2ms\n",
      " 28   -8.400428115725       -7.24       -5.88   33.5ms\n",
      " 29   -8.400428130336       -7.84       -5.66   38.8ms\n",
      " 30   -8.400428143436       -7.88       -6.31   33.5ms\n"
     ]
    }
   ],
   "cell_type": "code",
   "source": [
    "scfres_dm = direct_minimization(basis; tol);"
   ],
   "metadata": {},
   "execution_count": 4
  },
  {
   "cell_type": "markdown",
   "source": [
    "## Newton algorithm"
   ],
   "metadata": {}
  },
  {
   "cell_type": "markdown",
   "source": [
    "Start not too far from the solution to ensure convergence:\n",
    "We run first a very crude SCF to get close and then switch to Newton."
   ],
   "metadata": {}
  },
  {
   "outputs": [
    {
     "name": "stdout",
     "output_type": "stream",
     "text": [
      "n     Energy            log10(ΔE)   log10(Δρ)   Diag   Δtime\n",
      "---   ---------------   ---------   ---------   ----   ------\n",
      "  1   -8.397884401920                   -0.90    5.2   28.4ms\n"
     ]
    }
   ],
   "cell_type": "code",
   "source": [
    "scfres_start = self_consistent_field(basis; tol=0.5);"
   ],
   "metadata": {},
   "execution_count": 5
  },
  {
   "cell_type": "markdown",
   "source": [
    "Remove the virtual orbitals (which Newton cannot treat yet)"
   ],
   "metadata": {}
  },
  {
   "outputs": [
    {
     "name": "stdout",
     "output_type": "stream",
     "text": [
      "n     Energy            log10(ΔE)   log10(Δρ)   Δtime\n",
      "---   ---------------   ---------   ---------   ------\n",
      "  1   -8.400427981725                   -1.78    8.89s\n",
      "  2   -8.400428152209       -6.77       -4.03    3.34s\n",
      "  3   -8.400428152209      -14.75       -7.83    127ms\n"
     ]
    }
   ],
   "cell_type": "code",
   "source": [
    "ψ = DFTK.select_occupied_orbitals(basis, scfres_start.ψ, scfres_start.occupation).ψ\n",
    "scfres_newton = newton(basis, ψ; tol);"
   ],
   "metadata": {},
   "execution_count": 6
  },
  {
   "cell_type": "markdown",
   "source": [
    "## Comparison of results"
   ],
   "metadata": {}
  },
  {
   "outputs": [
    {
     "name": "stdout",
     "output_type": "stream",
     "text": [
      "|ρ_newton - ρ_scf|  = 1.2017938046716233e-6\n",
      "|ρ_newton - ρ_scfv| = 1.4394807918957885e-7\n",
      "|ρ_newton - ρ_dm|   = 3.471308200028946e-6\n"
     ]
    }
   ],
   "cell_type": "code",
   "source": [
    "println(\"|ρ_newton - ρ_scf|  = \", norm(scfres_newton.ρ - scfres_scf.ρ))\n",
    "println(\"|ρ_newton - ρ_scfv| = \", norm(scfres_newton.ρ - scfres_scfv.ρ))\n",
    "println(\"|ρ_newton - ρ_dm|   = \", norm(scfres_newton.ρ - scfres_dm.ρ))"
   ],
   "metadata": {},
   "execution_count": 7
  }
 ],
 "nbformat_minor": 3,
 "metadata": {
  "language_info": {
   "file_extension": ".jl",
   "mimetype": "application/julia",
   "name": "julia",
   "version": "1.12.0"
  },
  "kernelspec": {
   "name": "julia-1.12",
   "display_name": "Julia 1.12.0",
   "language": "julia"
  }
 },
 "nbformat": 4
}
