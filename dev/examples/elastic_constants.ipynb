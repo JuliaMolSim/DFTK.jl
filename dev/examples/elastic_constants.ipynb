{
 "cells": [
  {
   "cell_type": "markdown",
   "source": [
    "# Elastic constants"
   ],
   "metadata": {}
  },
  {
   "cell_type": "markdown",
   "source": [
    "We compute *clamped-ion* elastic constants of a crystal using\n",
    "the algorithmic differentiation density-functional perturbation theory (AD-DFPT) approach\n",
    "as introduced in [^SPH25].\n",
    "\n",
    "[^SPH25]:\n",
    "    Schmitz, N. F., Ploumhans, B., & Herbst, M. F. (2025)\n",
    "    *Algorithmic differentiation for plane-wave DFT: materials design, error control and learning model parameters.*\n",
    "    [arXiv:2509.07785](https://arxiv.org/abs/2509.07785)\n",
    "\n",
    "We consider a crystal in its equilibrium configuration, where all atomic forces\n",
    "and stresses vanish.  Homogeneous strains $η$ are then applied\n",
    "relative to this relaxed structure.\n",
    "The elastic constants are derived from the stress-strain relationship.\n",
    "In [Voigt notation](https://en.wikipedia.org/wiki/Voigt_notation),\n",
    "the stress $\\sigma$ and strain $\\eta$ tensors are represented as 6-component vectors.\n",
    "The elastic constants $C$ are then given by\n",
    "the Jacobian of the stress with respect to strain, forming a $6 \\times 6$ matrix\n",
    "$$\n",
    "  C = \\frac{\\partial \\sigma}{\\partial \\eta}.\n",
    "$$\n",
    "\n",
    "The sparsity pattern of the matrix $C$ follows from crystal symmetry\n",
    "and is tabulated in standard references (eg. Table 9 in [^Nye1985]).\n",
    "This sparsity can be used a priori to reduce the number of strain patterns\n",
    "that need to be probed to extract all independent components of $C$.\n",
    "For example, cubic crystals have only three independent elastic constants\n",
    "$C_{11}$, $C_{12}$ and $C_{44}$, with the pattern\n",
    "$$\n",
    "C = \\begin{pmatrix}\n",
    "  C_{11} & C_{12} & C_{12} & 0      & 0      & 0 \\\\\n",
    "  C_{12} & C_{11} & C_{12} & 0      & 0      & 0 \\\\\n",
    "  C_{12} & C_{12} & C_{11} & 0      & 0      & 0 \\\\\n",
    "  0      & 0      & 0      & C_{44} & 0      & 0 \\\\\n",
    "  0      & 0      & 0      & 0      & C_{44} & 0 \\\\\n",
    "  0      & 0      & 0      & 0      & 0      & C_{44} \\\\\n",
    "\\end{pmatrix}.\n",
    "$$\n",
    "Thus we can just choose a suitable strain pattern $\\dot{\\eta} = (1, 0, 0, 1, 0, 0)^\\top$,\n",
    "such that $C\\dot{\\eta} = (C_{11}, C_{12}, C_{12}, C_{44}, 0, 0)^\\top$. That is,\n",
    "for cubic crystals like diamond silicon we obtain all independent elastic\n",
    "constants from a single Jacobian-vector product on the stress-strain function.\n",
    "\n",
    "[^Nye1985]:\n",
    "     Nye, J. F. (1985).\n",
    "     *Physical Properties of Crystals*. Oxford University Press.\n",
    "     Comment: Since the elastic tensor transforms equivariantly under rotations,\n",
    "     its numerical components depend on the chosen Cartesian coordinate frame.\n",
    "     These tabulated patterns assume a standardized orientation of the structure\n",
    "     with respect to conventional crystallographic axes.\n",
    "\n",
    "This example computes the *clamped-ion* elastic tensor, keeping internal\n",
    "atomic positions fixed under strain.  The *relaxed-ion* tensor includes\n",
    "additional corrections from internal relaxations, which can be obtained\n",
    "from first-order atomic displacements in DFPT (see [^Wu2005]).\n",
    "\n",
    "[^Wu2005]:\n",
    "    Wu, X., Vanderbilt, D., & Hamann, D. R. (2005).\n",
    "    *Systematic treatment of displacements, strains, and electric fields in density-functional perturbation theory.*\n",
    "    [Physical Review B, 72(3), 035105](https://doi.org/10.1103/PhysRevB.72.035105)."
   ],
   "metadata": {}
  },
  {
   "outputs": [],
   "cell_type": "code",
   "source": [
    "using DFTK\n",
    "using PseudoPotentialData\n",
    "using LinearAlgebra\n",
    "using ForwardDiff\n",
    "using DifferentiationInterface\n",
    "using AtomsBuilder\n",
    "using Unitful\n",
    "using UnitfulAtomic\n",
    "\n",
    "\n",
    "pseudopotentials = PseudoFamily(\"dojo.nc.sr.pbe.v0_4_1.standard.upf\")\n",
    "a0_pbe = 10.33u\"bohr\"  # Equilibrium lattice constant of silicon with PBE\n",
    "model0 = model_DFT(bulk(:Si; a=a0_pbe); pseudopotentials, functionals=PBE())\n",
    "\n",
    "Ecut = recommended_cutoff(model0).Ecut\n",
    "kgrid = [4, 4, 4]\n",
    "tol = 1e-6\n",
    "\n",
    "function symmetries_from_strain(model0, voigt_strain)\n",
    "    lattice = DFTK.voigt_strain_to_full(voigt_strain) * model0.lattice\n",
    "    model = Model(model0; lattice, symmetries=true)\n",
    "    model.symmetries\n",
    "end\n",
    "\n",
    "strain_pattern = [1., 0., 0., 1., 0., 0.];  # recovers [c11, c12, c12, c44, 0, 0]"
   ],
   "metadata": {},
   "execution_count": 1
  },
  {
   "cell_type": "markdown",
   "source": [
    "For elastic constants beyond the bulk modulus, symmetry-breaking strains\n",
    "are required. That is, the symmetry group of the crystal is reduced.\n",
    "Here we simply precompute the relevant subgroup by applying the automatic\n",
    "symmetry detection (spglib) to the finitely perturbed crystal."
   ],
   "metadata": {}
  },
  {
   "outputs": [
    {
     "name": "stdout",
     "output_type": "stream",
     "text": [
      "n     Energy            log10(ΔE)   log10(Δρ)   Diag   Δtime\n",
      "---   ---------------   ---------   ---------   ----   ------\n",
      "  1   -8.453512409853                   -0.94    5.3    1.07s\n",
      "  2   -8.455637770144       -2.67       -1.77    1.0    841ms\n",
      "  3   -8.455775764404       -3.86       -2.88    1.8    219ms\n",
      "  4   -8.455790060543       -4.84       -3.22    3.0    312ms\n",
      "  5   -8.455790173225       -6.95       -3.72    1.0    171ms\n",
      "  6   -8.455790186158       -7.89       -4.58    1.2    184ms\n",
      "  7   -8.455790187671       -8.82       -5.40    2.1    256ms\n",
      "  8   -8.455790187713      -10.39       -6.04    2.7    280ms\n",
      "Solving response problem\n",
      "Iter  Restart  Krydim  log10(res)  avg(CG)  Δtime   Comment\n",
      "----  -------  ------  ----------  -------  ------  ---------------\n",
      "                                      63.2   6.46s  Non-interacting\n",
      "   1        0       1        0.11     47.5   14.4s  \n",
      "   2        0       2       -0.70     42.8   1.15s  \n",
      "   3        0       3       -1.71     36.7   684ms  \n",
      "   4        0       4       -2.78     28.8   580ms  \n",
      "   5        0       5       -4.04     19.5   440ms  \n",
      "   6        0       6       -5.58      6.7   284ms  \n",
      "   7        0       7       -7.82      4.0   220ms  \n",
      "   8        1       1       -6.29     60.0   1.29s  Restart\n",
      "                                      62.2   1.28s  Final orbitals\n"
     ]
    }
   ],
   "cell_type": "code",
   "source": [
    "symmetries_strain = symmetries_from_strain(model0, 0.01 * strain_pattern)\n",
    "\n",
    "\n",
    "function stress_from_strain(model0, voigt_strain; symmetries, Ecut, kgrid, tol)\n",
    "    lattice = DFTK.voigt_strain_to_full(voigt_strain) * model0.lattice\n",
    "    model = Model(model0; lattice, symmetries)\n",
    "    basis = PlaneWaveBasis(model; Ecut, kgrid)\n",
    "    scfres = self_consistent_field(basis; tol)\n",
    "    DFTK.full_stress_to_voigt(compute_stresses_cart(scfres))\n",
    "end\n",
    "\n",
    "stress_fn(voigt_strain) = stress_from_strain(model0, voigt_strain;\n",
    "                                             symmetries=symmetries_strain,\n",
    "                                             Ecut, kgrid, tol)\n",
    "stress, (dstress,) = value_and_pushforward(stress_fn, AutoForwardDiff(),\n",
    "                                           zeros(6), (strain_pattern,));"
   ],
   "metadata": {},
   "execution_count": 2
  },
  {
   "cell_type": "markdown",
   "source": [
    "We can inspect the stress to verify it is small (close to equilibrium):"
   ],
   "metadata": {}
  },
  {
   "outputs": [
    {
     "output_type": "execute_result",
     "data": {
      "text/plain": "6-element StaticArraysCore.SVector{6, Float64} with indices SOneTo(6):\n -2.312043346596343e-5\n -2.312072528279069e-5\n -2.3120725282790703e-5\n  8.512409199968687e-10\n  0.0\n  0.0"
     },
     "metadata": {},
     "execution_count": 3
    }
   ],
   "cell_type": "code",
   "source": [
    "stress"
   ],
   "metadata": {},
   "execution_count": 3
  },
  {
   "cell_type": "markdown",
   "source": [
    "The response of the stress to `strain_pattern` contains the elastic constants\n",
    "in atomic units, with the expected pattern $(c11, c12, c12, c44, 0, 0)$:"
   ],
   "metadata": {}
  },
  {
   "outputs": [
    {
     "output_type": "execute_result",
     "data": {
      "text/plain": "6-element StaticArraysCore.SVector{6, Float64} with indices SOneTo(6):\n 0.005319940881451631\n 0.0020248993166091973\n 0.0020248993166091973\n 0.003351906840267518\n 0.0\n 0.0"
     },
     "metadata": {},
     "execution_count": 4
    }
   ],
   "cell_type": "code",
   "source": [
    "dstress"
   ],
   "metadata": {},
   "execution_count": 4
  },
  {
   "cell_type": "markdown",
   "source": [
    "Convert to GPa:"
   ],
   "metadata": {}
  },
  {
   "outputs": [
    {
     "name": "stdout",
     "output_type": "stream",
     "text": [
      "C11: 156.5180641783388 GPa\n",
      "C12: 59.57459457805711 GPa\n",
      "C44: 98.61650376115634 GPa\n"
     ]
    }
   ],
   "cell_type": "code",
   "source": [
    "println(\"C11: \", uconvert(u\"GPa\", dstress[1] * u\"hartree\" / u\"bohr\"^3))\n",
    "println(\"C12: \", uconvert(u\"GPa\", dstress[2] * u\"hartree\" / u\"bohr\"^3))\n",
    "println(\"C44: \", uconvert(u\"GPa\", dstress[4] * u\"hartree\" / u\"bohr\"^3))"
   ],
   "metadata": {},
   "execution_count": 5
  },
  {
   "cell_type": "markdown",
   "source": [
    "These results can be compared directly to finite differences of the stress_fn:"
   ],
   "metadata": {}
  },
  {
   "outputs": [
    {
     "name": "stdout",
     "output_type": "stream",
     "text": [
      "n     Energy            log10(ΔE)   log10(Δρ)   Diag   Δtime\n",
      "---   ---------------   ---------   ---------   ----   ------\n",
      "  1   -8.453504799655                   -0.94    5.3    465ms\n",
      "  2   -8.455634225697       -2.67       -1.77    1.0    168ms\n",
      "  3   -8.455783322788       -3.83       -2.88    1.9    212ms\n",
      "  4   -8.455795216157       -4.92       -3.35    3.0    294ms\n",
      "  5   -8.455795305181       -7.05       -3.88    1.2    181ms\n",
      "  6   -8.455795314494       -8.03       -4.88    1.5    196ms\n",
      "  7   -8.455795315182       -9.16       -5.33    2.7    278ms\n",
      "  8   -8.455795315197      -10.80       -6.38    1.7    206ms\n",
      "n     Energy            log10(ΔE)   log10(Δρ)   Diag   Δtime\n",
      "---   ---------------   ---------   ---------   ----   ------\n",
      "  1   -8.453435159366                   -0.94    5.4    438ms\n",
      "  2   -8.455607156685       -2.66       -1.77    1.0    171ms\n",
      "  3   -8.455768862959       -3.79       -2.88    2.0    220ms\n",
      "  4   -8.455782141883       -4.88       -3.33    2.9    287ms\n",
      "  5   -8.455782243608       -6.99       -3.88    1.2    177ms\n",
      "  6   -8.455782253718       -8.00       -4.99    1.6    198ms\n",
      "  7   -8.455782254366       -9.19       -5.52    3.0    293ms\n",
      "  8   -8.455782254371      -11.29       -6.00    1.7    207ms\n",
      "C11 (FD): 156.31927329585906 GPa\n",
      "C12 (FD): 59.5392188352108 GPa\n",
      "C44 (FD): 98.52078458655059 GPa\n"
     ]
    }
   ],
   "cell_type": "code",
   "source": [
    "h = 1e-3\n",
    "dstress_fd = (stress_fn(h * strain_pattern) - stress_fn(-h * strain_pattern)) / 2h\n",
    "println(\"C11 (FD): \", uconvert(u\"GPa\", dstress_fd[1] * u\"hartree\" / u\"bohr\"^3))\n",
    "println(\"C12 (FD): \", uconvert(u\"GPa\", dstress_fd[2] * u\"hartree\" / u\"bohr\"^3))\n",
    "println(\"C44 (FD): \", uconvert(u\"GPa\", dstress_fd[4] * u\"hartree\" / u\"bohr\"^3))"
   ],
   "metadata": {},
   "execution_count": 6
  },
  {
   "cell_type": "markdown",
   "source": [
    "Here are AD-DFPT results from increasing discretization parameters:\n",
    "\n",
    "| Ecut | kgrid         | c11    | c12   | c44    |\n",
    "|------|---------------|-------:|------:|-------:|\n",
    "| 18   | [4, 4, 4]     | 156.51 | 59.57 |  98.61 |\n",
    "| 18   | [8, 8, 8]     | 153.53 | 56.90 | 100.07 |\n",
    "| 24   | [8, 8, 8]     | 153.26 | 56.82 |  99.97 |\n",
    "| 24   | [14, 14, 14]  | 153.03 | 56.71 | 100.09 |\n",
    "\n",
    "For comparison, Materials Project for PBE *relaxed-ion* elastic constants of\n",
    "silicon [mp-149](https://next-gen.materialsproject.org/materials/mp-149):\n",
    "c11 = 153 GPa, c12 = 57 GPa, c44 = 74 GPa.\n",
    "Note the discrepancy in c44, which is due to us not yet including\n",
    "ionic relaxation in this example."
   ],
   "metadata": {}
  }
 ],
 "nbformat_minor": 3,
 "metadata": {
  "language_info": {
   "file_extension": ".jl",
   "mimetype": "application/julia",
   "name": "julia",
   "version": "1.12.0"
  },
  "kernelspec": {
   "name": "julia-1.12",
   "display_name": "Julia 1.12.0",
   "language": "julia"
  }
 },
 "nbformat": 4
}
