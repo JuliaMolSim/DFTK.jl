{
 "cells": [
  {
   "cell_type": "markdown",
   "source": [
    "# Polarizability using automatic differentiation\n",
    "\n",
    "Simple example for computing properties using (forward-mode)\n",
    "automatic differentiation.\n",
    "For a more classical approach and more details about computing polarizabilities,\n",
    "see Polarizability by linear response."
   ],
   "metadata": {}
  },
  {
   "outputs": [],
   "cell_type": "code",
   "source": [
    "using DFTK\n",
    "using LinearAlgebra\n",
    "using ForwardDiff\n",
    "using PseudoPotentialData\n",
    "\n",
    "# Construct PlaneWaveBasis given a particular electric field strength\n",
    "# Again we take the example of a Helium atom.\n",
    "function make_basis(ε::T; a=10., Ecut=30) where {T}\n",
    "    lattice = T(a) * I(3)  # lattice is a cube of $a$ Bohrs\n",
    "    # Helium at the center of the box\n",
    "    pseudopotentials = PseudoFamily(\"cp2k.nc.sr.lda.v0_1.semicore.gth\")\n",
    "    atoms     = [ElementPsp(:He, pseudopotentials)]\n",
    "    positions = [[1/2, 1/2, 1/2]]\n",
    "\n",
    "    model = model_DFT(lattice, atoms, positions;\n",
    "                      functionals=[:lda_x, :lda_c_vwn],\n",
    "                      extra_terms=[ExternalFromReal(r -> -ε * (r[1] - a/2))],\n",
    "                      symmetries=false)\n",
    "    PlaneWaveBasis(model; Ecut, kgrid=[1, 1, 1])  # No k-point sampling on isolated system\n",
    "end\n",
    "\n",
    "# dipole moment of a given density (assuming the current geometry)\n",
    "function dipole(basis, ρ)\n",
    "    @assert isdiag(basis.model.lattice)\n",
    "    a  = basis.model.lattice[1, 1]\n",
    "    rr = [a * (r[1] - 1/2) for r in r_vectors(basis)]\n",
    "    sum(rr .* ρ) * basis.dvol\n",
    "end\n",
    "\n",
    "# Function to compute the dipole for a given field strength\n",
    "function compute_dipole(ε; tol=1e-8, kwargs...)\n",
    "    scfres = self_consistent_field(make_basis(ε; kwargs...); tol)\n",
    "    dipole(scfres.basis, scfres.ρ)\n",
    "end;"
   ],
   "metadata": {},
   "execution_count": 1
  },
  {
   "cell_type": "markdown",
   "source": [
    "With this in place we can compute the polarizability from finite differences\n",
    "(just like in the previous example):"
   ],
   "metadata": {}
  },
  {
   "outputs": [
    {
     "name": "stdout",
     "output_type": "stream",
     "text": [
      "n     Energy            log10(ΔE)   log10(Δρ)   Diag   Δtime\n",
      "---   ---------------   ---------   ---------   ----   ------\n",
      "  1   -2.770882826177                   -0.52    9.0    173ms\n",
      "  2   -2.772149004635       -2.90       -1.32    1.0    128ms\n",
      "  3   -2.772170297265       -4.67       -2.44    1.0    121ms\n",
      "  4   -2.772170652540       -6.45       -3.15    1.0    104ms\n",
      "  5   -2.772170722903       -7.15       -4.42    2.0    125ms\n",
      "  6   -2.772170722961      -10.24       -4.54    1.0    111ms\n",
      "  7   -2.772170723012      -10.29       -5.43    1.0    117ms\n",
      "  8   -2.772170723014      -11.72       -5.64    1.0    120ms\n",
      "  9   -2.772170723015      -12.14       -6.57    2.0    136ms\n",
      " 10   -2.772170723015      -13.78       -6.84    1.0    119ms\n",
      " 11   -2.772170723015      -13.78       -7.38    1.0    121ms\n",
      " 12   -2.772170723015      -14.88       -7.75    1.0    131ms\n",
      " 13   -2.772170723015   +  -13.97       -8.55    1.0    1.09s\n",
      "n     Energy            log10(ΔE)   log10(Δρ)   Diag   Δtime\n",
      "---   ---------------   ---------   ---------   ----   ------\n",
      "  1   -2.770754345708                   -0.52    9.0    189ms\n",
      "  2   -2.772060005298       -2.88       -1.32    1.0    123ms\n",
      "  3   -2.772083137678       -4.64       -2.47    1.0    145ms\n",
      "  4   -2.772083339818       -6.69       -3.16    1.0    143ms\n",
      "  5   -2.772083415725       -7.12       -3.86    2.0    164ms\n",
      "  6   -2.772083417681       -8.71       -4.68    1.0    139ms\n",
      "  7   -2.772083417807       -9.90       -5.46    2.0    130ms\n",
      "  8   -2.772083417811      -11.50       -6.24    2.0    130ms\n",
      "  9   -2.772083417811      -13.41       -6.57    1.0    132ms\n",
      " 10   -2.772083417811      -13.88       -7.95    2.0    129ms\n",
      " 11   -2.772083417811   +  -14.18       -8.46    1.0    122ms\n"
     ]
    },
    {
     "output_type": "execute_result",
     "data": {
      "text/plain": "1.7735580114553477"
     },
     "metadata": {},
     "execution_count": 2
    }
   ],
   "cell_type": "code",
   "source": [
    "polarizability_fd = let\n",
    "    ε = 0.01\n",
    "    (compute_dipole(ε) - compute_dipole(0.0)) / ε\n",
    "end"
   ],
   "metadata": {},
   "execution_count": 2
  },
  {
   "cell_type": "markdown",
   "source": [
    "We do the same thing using automatic differentiation. Under the hood this uses\n",
    "custom rules to implicitly differentiate through the self-consistent\n",
    "field fixed-point problem. This leads to a density-functional perturbation\n",
    "theory problem, which is automatically set up and solved in the background."
   ],
   "metadata": {}
  },
  {
   "outputs": [
    {
     "name": "stdout",
     "output_type": "stream",
     "text": [
      "n     Energy            log10(ΔE)   log10(Δρ)   Diag   Δtime\n",
      "---   ---------------   ---------   ---------   ----   ------\n",
      "  1   -2.770775926047                   -0.52    8.0    193ms\n",
      "  2   -2.772056940426       -2.89       -1.32    1.0    101ms\n",
      "  3   -2.772083057659       -4.58       -2.51    1.0    119ms\n",
      "  4   -2.772083362439       -6.52       -3.31    1.0    107ms\n",
      "  5   -2.772083415633       -7.27       -3.85    2.0    128ms\n",
      "  6   -2.772083417738       -8.68       -5.08    1.0    111ms\n",
      "  7   -2.772083417810      -10.14       -5.62    2.0    134ms\n",
      "  8   -2.772083417811      -12.88       -6.10    1.0    117ms\n",
      "  9   -2.772083417811      -13.45       -6.98    1.0    119ms\n",
      " 10   -2.772083417811      -13.70       -7.57    1.0    119ms\n",
      " 11   -2.772083417811   +  -14.05       -8.04    2.0    134ms\n",
      "Solving response problem\n",
      "Iter  Restart  Krydim  log10(res)  avg(CG)  Δtime   Comment\n",
      "----  -------  ------  ----------  -------  ------  ---------------\n",
      "                                      13.0  82.8ms  Non-interacting\n",
      "   1        0       1       -0.60     10.0   173ms  \n",
      "   2        0       2       -2.42      7.0   113ms  \n",
      "   3        0       3       -3.55      5.0   123ms  \n",
      "   4        0       4       -5.33      4.0   104ms  \n",
      "   5        0       5       -7.91      1.0  89.3ms  \n",
      "   6        0       6      -10.28      1.0  89.1ms  \n",
      "   7        1       1       -7.45     13.0   234ms  Restart\n",
      "   8        1       2       -8.92      1.0  91.6ms  \n",
      "                                      13.0   138ms  Final orbitals\n",
      "\n",
      "Polarizability via ForwardDiff:       1.7725349583174779\n",
      "Polarizability via finite difference: 1.7735580114553477\n"
     ]
    }
   ],
   "cell_type": "code",
   "source": [
    "polarizability = ForwardDiff.derivative(compute_dipole, 0.0)\n",
    "println()\n",
    "println(\"Polarizability via ForwardDiff:       $polarizability\")\n",
    "println(\"Polarizability via finite difference: $polarizability_fd\")"
   ],
   "metadata": {},
   "execution_count": 3
  }
 ],
 "nbformat_minor": 3,
 "metadata": {
  "language_info": {
   "file_extension": ".jl",
   "mimetype": "application/julia",
   "name": "julia",
   "version": "1.12.0"
  },
  "kernelspec": {
   "name": "julia-1.12",
   "display_name": "Julia 1.12.0",
   "language": "julia"
  }
 },
 "nbformat": 4
}
