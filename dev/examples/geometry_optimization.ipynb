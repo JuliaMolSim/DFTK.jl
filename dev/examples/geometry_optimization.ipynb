{
 "cells": [
  {
   "cell_type": "markdown",
   "source": [
    "# Geometry optimization\n",
    "\n",
    "We use DFTK and the [GeometryOptimization](https://github.com/JuliaMolSim/GeometryOptimization.jl/)\n",
    "package to find the minimal-energy bond length of the $H_2$ molecule.\n",
    "First we set up an appropriate `DFTKCalculator` (see AtomsCalculators integration),\n",
    "for which we use the LDA model just like in the Tutorial for silicon\n",
    "in combination with a pseudodojo pseudopotential (see Pseudopotentials)."
   ],
   "metadata": {}
  },
  {
   "outputs": [
    {
     "output_type": "execute_result",
     "data": {
      "text/plain": "DFTKCalculator(functionals=Xc(lda_x, lda_c_pw), pseudopotentials=PseudoFamily(\"dojo.nc.sr.pbe.v0_4_1.standard.upf\"), Ecut=10, kgrid=[1, 1, 1])"
     },
     "metadata": {},
     "execution_count": 1
    }
   ],
   "cell_type": "code",
   "source": [
    "using DFTK\n",
    "using PseudoPotentialData\n",
    "\n",
    "pseudopotentials = PseudoFamily(\"dojo.nc.sr.pbe.v0_4_1.standard.upf\")\n",
    "calc = DFTKCalculator(;\n",
    "    model_kwargs = (; functionals=LDA(), pseudopotentials),  # model_DFT keyword arguments\n",
    "    basis_kwargs = (; kgrid=[1, 1, 1], Ecut=10)  # PlaneWaveBasis keyword arguments\n",
    ")"
   ],
   "metadata": {},
   "execution_count": 1
  },
  {
   "cell_type": "markdown",
   "source": [
    "Next we set up an initial hydrogen molecule within a box of vacuum.\n",
    "We use the parameters of the\n",
    "[equivalent tutorial from ABINIT](https://docs.abinit.org/tutorial/base1/)\n",
    "and DFTK's AtomsBase integration to setup the hydrogen molecule.\n",
    "We employ a simulation box of 10 bohr times 10 bohr times 10 bohr and a\n",
    "pseudodojo pseudopotential."
   ],
   "metadata": {}
  },
  {
   "outputs": [
    {
     "output_type": "execute_result",
     "data": {
      "text/plain": "FlexibleSystem(H₂, periodicity = TTT):\n    cell_vectors      : [      10        0        0;\n                                0       10        0;\n                                0        0       10]u\"a₀\"\n\n    Atom(H,  [       0,        0,        0]u\"a₀\")\n    Atom(H,  [     1.4,        0,        0]u\"a₀\")\n"
     },
     "metadata": {},
     "execution_count": 2
    }
   ],
   "cell_type": "code",
   "source": [
    "using LinearAlgebra\n",
    "using Unitful\n",
    "using UnitfulAtomic\n",
    "\n",
    "r0 = 1.4   # Initial bond length in Bohr\n",
    "a  = 10.0  # Box size in Bohr\n",
    "\n",
    "cell_vectors = [[a, 0, 0]u\"bohr\", [0, a, 0]u\"bohr\", [0, 0, a]u\"bohr\"]\n",
    "h2_crude = periodic_system([:H => [0, 0, 0.]u\"bohr\",\n",
    "                            :H => [r0, 0, 0]u\"bohr\"],\n",
    "                           cell_vectors)"
   ],
   "metadata": {},
   "execution_count": 2
  },
  {
   "cell_type": "markdown",
   "source": [
    "Finally we call `minimize_energy!` to start the geometry optimisation.\n",
    "We use `verbosity=2` to get some insight into the minimisation.\n",
    "With `verbosity=1` only a summarising table would be printed and with\n",
    "`verbosity=0` (default) the minimisation would be quiet."
   ],
   "metadata": {}
  },
  {
   "outputs": [
    {
     "name": "stdout",
     "output_type": "stream",
     "text": [
      "n     Energy            log10(ΔE)   log10(Δρ)   α      Diag   Δtime\n",
      "---   ---------------   ---------   ---------   ----   ----   ------\n",
      "  1   -1.110567473329                   -0.83   0.80    6.0    3.73s\n",
      "  2   -1.117171702912       -2.18       -1.88   0.80    1.0    1.59s\n",
      "  3   -1.117247831338       -4.12       -2.64   0.80    1.0   73.7ms\n",
      "  4   -1.117251062259       -5.49       -3.27   0.80    2.0   21.8ms\n",
      "  5   -1.117251183328       -6.92       -4.03   0.80    1.0   19.7ms\n",
      "  6   -1.117251190114       -8.17       -4.70   0.80    2.0   21.8ms\n",
      "  7   -1.117251190140      -10.58       -5.30   0.80    1.0   31.5ms\n",
      "  8   -1.117251190143      -11.59       -6.54   0.80    1.0   20.4ms\n",
      "  9   -1.117251190143      -13.09       -6.91   0.80    2.0   22.9ms\n",
      " 10   -1.117251190143      -14.51       -7.76   0.80    1.0   24.7ms\n",
      " 11   -1.117251190143   +  -14.45       -8.56   0.80    1.0   20.7ms\n",
      "n     Energy            log10(ΔE)   log10(Δρ)   α      Diag   Δtime\n",
      "---   ---------------   ---------   ---------   ----   ----   ------\n",
      "  1   -1.117251190143                   -8.89   0.80    1.0    3.31s\n",
      "  2   -1.117251190143      -14.75       -9.72   0.80    1.0   18.4ms\n",
      "\n",
      "Geometry optimisation convergence (in atomic units)\n",
      "┌─────┬─────────────────┬───────────┬─────────────┬────────┐\n",
      "│   n │          Energy │ log10(ΔE) │  max(Force) │  Δtime │\n",
      "├─────┼─────────────────┼───────────┼─────────────┼────────┤\n",
      "│   0 │ -1.117251190143 │           │   0.0269318 │  20.3s │\n",
      "└─────┴─────────────────┴───────────┴─────────────┴────────┘\n",
      "\n",
      "n     Energy            log10(ΔE)   log10(Δρ)   α      Diag   Δtime\n",
      "---   ---------------   ---------   ---------   ----   ----   ------\n",
      "  1   -1.117517998062                   -2.46   0.80    1.0   12.0ms\n",
      "  2   -1.117520586056       -5.59       -3.49   0.80    1.0   62.0ms\n",
      "  3   -1.117520612989       -7.57       -4.23   0.80    1.0   18.5ms\n",
      "  4   -1.117520613449       -9.34       -5.14   0.80    1.0   19.7ms\n",
      "  5   -1.117520613465      -10.81       -5.93   0.80    1.0   19.9ms\n",
      "  6   -1.117520613465      -12.15       -6.43   0.80    1.0    137ms\n",
      "  7   -1.117520613465      -13.36       -7.41   0.80    1.0   30.3ms\n",
      "  8   -1.117520613465   +  -15.05       -8.24   0.80    1.0   30.5ms\n",
      "  9   -1.117520613465      -15.35       -8.92   0.80    1.0    728ms\n",
      "n     Energy            log10(ΔE)   log10(Δρ)   α      Diag   Δtime\n",
      "---   ---------------   ---------   ---------   ----   ----   ------\n",
      "  1   -1.118247264596                   -1.69   0.80    1.0   12.9ms\n",
      "  2   -1.118339043931       -4.04       -2.70   0.80    1.0   19.8ms\n",
      "  3   -1.118340011110       -6.01       -3.44   0.80    1.0   20.1ms\n",
      "  4   -1.118340028550       -7.76       -4.36   0.80    1.0   21.1ms\n",
      "  5   -1.118340029135       -9.23       -5.12   0.80    1.0   20.4ms\n",
      "  6   -1.118340029162      -10.57       -5.62   0.80    1.0   22.9ms\n",
      "  7   -1.118340029164      -11.73       -6.68   0.80    1.0   29.0ms\n",
      "  8   -1.118340029164      -13.57       -7.58   0.80    1.0   30.4ms\n",
      "  9   -1.118340029164      -15.18       -8.12   0.80    1.0   31.0ms\n",
      " 10   -1.118340029164   +  -15.35       -8.55   0.80    1.0   24.9ms\n",
      "n     Energy            log10(ΔE)   log10(Δρ)   α      Diag   Δtime\n",
      "---   ---------------   ---------   ---------   ----   ----   ------\n",
      "  1   -1.118340029164                   -9.05   0.80    1.0   12.3ms\n",
      "  2   -1.118340029164   +  -14.61      -10.36   0.80    1.0   19.2ms\n",
      "n     Energy            log10(ΔE)   log10(Δρ)   α      Diag   Δtime\n",
      "---   ---------------   ---------   ---------   ----   ----   ------\n",
      "  1   -1.118340029164                  -11.05   0.80    1.0   12.1ms\n",
      "  2   -1.118340029164   +  -15.35      -11.42   0.80    1.0   19.0ms\n",
      "\n",
      "┌─────┬─────────────────┬───────────┬─────────────┬────────┐\n",
      "│   n │          Energy │ log10(ΔE) │  max(Force) │  Δtime │\n",
      "├─────┼─────────────────┼───────────┼─────────────┼────────┤\n",
      "│   1 │ -1.118340029164 │           │  0.00297055 │  3.03s │\n",
      "└─────┴─────────────────┴───────────┴─────────────┴────────┘\n",
      "\n",
      "n     Energy            log10(ΔE)   log10(Δρ)   α      Diag   Δtime\n",
      "---   ---------------   ---------   ---------   ----   ----   ------\n",
      "  1   -1.118346721505                   -3.09   0.80    1.0   12.1ms\n",
      "  2   -1.118346864757       -6.84       -4.11   0.80    1.0   19.6ms\n",
      "  3   -1.118346866234       -8.83       -4.86   0.80    1.0   29.4ms\n",
      "  4   -1.118346866260      -10.59       -5.78   0.80    1.0   19.7ms\n",
      "  5   -1.118346866260      -12.08       -6.55   0.80    1.0   20.0ms\n",
      "  6   -1.118346866260      -13.44       -7.04   0.80    1.0   20.5ms\n",
      "  7   -1.118346866260      -14.40       -8.13   0.80    1.0   20.9ms\n",
      "  8   -1.118346866260      -14.65       -8.95   0.80    1.0   21.2ms\n",
      "n     Energy            log10(ΔE)   log10(Δρ)   α      Diag   Δtime\n",
      "---   ---------------   ---------   ---------   ----   ----   ------\n",
      "  1   -1.118354724004                   -2.61   0.80    1.0   12.7ms\n",
      "  2   -1.118356087056       -5.87       -3.62   0.80    1.0   19.6ms\n",
      "  3   -1.118356101131       -7.85       -4.37   0.80    1.0   19.4ms\n",
      "  4   -1.118356101377       -9.61       -5.29   0.80    1.0   20.0ms\n",
      "  5   -1.118356101385      -11.10       -6.06   0.80    1.0   24.3ms\n",
      "  6   -1.118356101386      -12.45       -6.55   0.80    1.0   20.7ms\n",
      "  7   -1.118356101386      -13.59       -7.65   0.80    1.0   21.0ms\n",
      "  8   -1.118356101386   +  -14.81       -8.45   0.80    1.0   21.3ms\n",
      "n     Energy            log10(ΔE)   log10(Δρ)   α      Diag   Δtime\n",
      "---   ---------------   ---------   ---------   ----   ----   ------\n",
      "  1   -1.118356101386                   -9.24   0.80    1.0   12.5ms\n",
      "  2   -1.118356101386      -15.65       -9.82   0.80    1.0   19.2ms\n",
      "n     Energy            log10(ΔE)   log10(Δρ)   α      Diag   Δtime\n",
      "---   ---------------   ---------   ---------   ----   ----   ------\n",
      "  1   -1.118356101386                  -10.62   0.80    1.0   12.1ms\n",
      "  2   -1.118356101386      -14.70      -11.46   0.80    1.0   18.8ms\n",
      "\n",
      "┌─────┬─────────────────┬───────────┬─────────────┬────────┐\n",
      "│   n │          Energy │ log10(ΔE) │  max(Force) │  Δtime │\n",
      "├─────┼─────────────────┼───────────┼─────────────┼────────┤\n",
      "│   2 │ -1.118356101386 │     -4.79 │  4.47268e-5 │  597ms │\n",
      "└─────┴─────────────────┴───────────┴─────────────┴────────┘\n",
      "\n",
      "n     Energy            log10(ΔE)   log10(Δρ)   α      Diag   Δtime\n",
      "---   ---------------   ---------   ---------   ----   ----   ------\n",
      "  1   -1.118356102848                   -4.94   0.80    1.0   12.4ms\n",
      "  2   -1.118356102877      -10.54       -5.96   0.80    1.0   28.9ms\n",
      "  3   -1.118356102877      -12.52       -6.70   0.80    1.0   20.1ms\n",
      "  4   -1.118356102877      -14.31       -7.62   0.80    1.0   19.6ms\n",
      "  5   -1.118356102877      -14.75       -8.39   0.80    1.0   27.8ms\n",
      "  6   -1.118356102877   +  -15.18       -8.89   0.80    1.0   20.7ms\n",
      "n     Energy            log10(ΔE)   log10(Δρ)   α      Diag   Δtime\n",
      "---   ---------------   ---------   ---------   ----   ----   ------\n",
      "  1   -1.118356104771                   -4.40   0.80    1.0   16.1ms\n",
      "  2   -1.118356105116       -9.46       -5.42   0.80    1.0   19.2ms\n",
      "  3   -1.118356105120      -11.45       -6.17   0.80    1.0   22.2ms\n",
      "  4   -1.118356105120      -13.21       -7.09   0.80    1.0   19.8ms\n",
      "  5   -1.118356105120      -14.57       -7.86   0.80    1.0   22.8ms\n",
      "  6   -1.118356105120      -15.05       -8.35   0.80    1.0   20.9ms\n",
      "  7   -1.118356105120   +  -14.95       -9.45   0.80    1.0   25.6ms\n",
      "n     Energy            log10(ΔE)   log10(Δρ)   α      Diag   Δtime\n",
      "---   ---------------   ---------   ---------   ----   ----   ------\n",
      "  1   -1.118356105120                  -10.08   0.80    1.0   12.2ms\n",
      "  2   -1.118356105120      -14.51      -11.02   0.80    1.0   24.3ms\n",
      "n     Energy            log10(ΔE)   log10(Δρ)   α      Diag   Δtime\n",
      "---   ---------------   ---------   ---------   ----   ----   ------\n",
      "  1   -1.118356105120                  -11.67   0.80    1.0   15.7ms\n",
      "  2   -1.118356105120   +  -14.45      -12.44   0.80    1.0   19.1ms\n",
      "\n",
      "┌─────┬─────────────────┬───────────┬─────────────┬────────┐\n",
      "│   n │          Energy │ log10(ΔE) │  max(Force) │  Δtime │\n",
      "├─────┼─────────────────┼───────────┼─────────────┼────────┤\n",
      "│   3 │ -1.118356105120 │     -8.43 │  1.00669e-8 │  555ms │\n",
      "└─────┴─────────────────┴───────────┴─────────────┴────────┘\n",
      "\n"
     ]
    }
   ],
   "cell_type": "code",
   "source": [
    "using GeometryOptimization\n",
    "results = minimize_energy!(h2_crude, calc; tol_forces=2e-6, verbosity=2)\n",
    "nothing  # hide"
   ],
   "metadata": {},
   "execution_count": 3
  },
  {
   "cell_type": "markdown",
   "source": [
    "Structure after optimisation (note that the atom has wrapped around)"
   ],
   "metadata": {}
  },
  {
   "outputs": [
    {
     "output_type": "execute_result",
     "data": {
      "text/plain": "FlexibleSystem(H₂, periodicity = TTT):\n    cell_vectors      : [      10        0        0;\n                                0       10        0;\n                                0        0       10]u\"a₀\"\n\n    Atom(H,  [-0.0431829, -5.65548e-12, 8.56583e-12]u\"a₀\")\n    Atom(H,  [ 1.44318, -4.07645e-12, 1.18966e-11]u\"a₀\")\n"
     },
     "metadata": {},
     "execution_count": 4
    }
   ],
   "cell_type": "code",
   "source": [
    "results.system"
   ],
   "metadata": {},
   "execution_count": 4
  },
  {
   "cell_type": "markdown",
   "source": [
    "Compute final bond length:"
   ],
   "metadata": {}
  },
  {
   "outputs": [
    {
     "name": "stdout",
     "output_type": "stream",
     "text": [
      "Optimal bond length: 1.4863658683129257 a₀\n"
     ]
    }
   ],
   "cell_type": "code",
   "source": [
    "rmin = norm(position(results.system[1]) - position(results.system[2]))\n",
    "println(\"Optimal bond length: \", rmin)"
   ],
   "metadata": {},
   "execution_count": 5
  },
  {
   "cell_type": "markdown",
   "source": [
    "Our results (1.486 Bohr) agrees with the\n",
    "[equivalent tutorial from ABINIT](https://docs.abinit.org/tutorial/base1/).\n",
    "\n",
    "> **Cell optimisations**\n",
    ">\n",
    "> Recent versions of [GeometryOptimization](https://github.com/JuliaMolSim/GeometryOptimization.jl/)\n",
    "> support cell shape optimisations as well by passing `variablecell=true` to `minimize_energy!`.\n",
    "> See the\n",
    "> [GeometryOptimization documentation](https://juliamolsim.github.io/GeometryOptimization.jl/stable/examples/variablecell/)\n",
    "> for an example."
   ],
   "metadata": {}
  }
 ],
 "nbformat_minor": 3,
 "metadata": {
  "language_info": {
   "file_extension": ".jl",
   "mimetype": "application/julia",
   "name": "julia",
   "version": "1.12.0"
  },
  "kernelspec": {
   "name": "julia-1.12",
   "display_name": "Julia 1.12.0",
   "language": "julia"
  }
 },
 "nbformat": 4
}
