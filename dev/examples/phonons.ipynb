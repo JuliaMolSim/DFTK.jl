{
 "cells": [
  {
   "cell_type": "markdown",
   "source": [
    "# Phonon computations\n",
    "\n",
    "This is a quick sketch how to run a simple phonon calculation using DFTK."
   ],
   "metadata": {}
  },
  {
   "cell_type": "markdown",
   "source": [
    "> **Preliminary implementation**\n",
    ">\n",
    "> Practical phonon computations have only seen rudimentary testing as of now.\n",
    "> As of now we do not yet recommend relying on this feature for production\n",
    "> calculations. We appreciate any issues, bug reports or PRs.\n",
    "\n",
    "First we run an SCF calculation."
   ],
   "metadata": {}
  },
  {
   "outputs": [
    {
     "name": "stdout",
     "output_type": "stream",
     "text": [
      "n     Energy            log10(ΔE)   log10(Δρ)   Diag   Δtime\n",
      "---   ---------------   ---------   ---------   ----   ------\n",
      "  1   -7.916386041477                   -0.69    4.6    163ms\n",
      "  2   -7.921195196612       -2.32       -1.52    1.0   58.6ms\n",
      "  3   -7.921406854611       -3.67       -2.49    1.4   64.0ms\n",
      "  4   -7.921440998772       -4.47       -2.85    2.5   80.7ms\n",
      "  5   -7.921441723920       -6.14       -3.08    1.1   59.2ms\n",
      "  6   -7.921442008785       -6.55       -4.56    1.0   82.0ms\n",
      "  7   -7.921442021918       -7.88       -4.68    2.9   88.5ms\n",
      "  8   -7.921442022135       -9.66       -5.26    1.0   58.3ms\n",
      "  9   -7.921442022140      -11.36       -5.38    1.2   62.4ms\n",
      " 10   -7.921442022144      -11.38       -6.04    1.0   59.3ms\n",
      " 11   -7.921442022144      -12.55       -6.59    1.2   63.2ms\n",
      " 12   -7.921442022144      -13.51       -7.30    1.5   70.4ms\n",
      " 13   -7.921442022144      -14.45       -7.55    2.0   73.7ms\n",
      " 14   -7.921442022144      -14.75       -8.56    1.0   59.3ms\n"
     ]
    }
   ],
   "cell_type": "code",
   "source": [
    "using AtomsBuilder\n",
    "using DFTK\n",
    "using PseudoPotentialData\n",
    "\n",
    "pseudopotentials = PseudoFamily(\"cp2k.nc.sr.lda.v0_1.semicore.gth\")\n",
    "model  = model_DFT(bulk(:Si); pseudopotentials, functionals=LDA())\n",
    "basis  = PlaneWaveBasis(model; Ecut=10, kgrid=[4, 4, 4])\n",
    "scfres = self_consistent_field(basis, tol=1e-8);\n",
    "nothing  # hide"
   ],
   "metadata": {},
   "execution_count": 1
  },
  {
   "cell_type": "markdown",
   "source": [
    "Next we compute the phonon modes at the q-point `[1/4, 1/4, 1/4]`."
   ],
   "metadata": {}
  },
  {
   "outputs": [
    {
     "name": "stdout",
     "output_type": "stream",
     "text": [
      "Iter  Restart  Krydim  log10(res)  avg(CG)  Δtime   Comment\n",
      "----  -------  ------  ----------  -------  ------  ---------------\n",
      "                                      73.0   2.51s  Non-interacting\n",
      "   1        0       1        0.31     52.7   10.1s  \n",
      "   2        0       2       -0.52     47.2   1.70s  \n",
      "   3        0       3       -2.40     41.9   1.47s  \n",
      "   4        0       4       -4.46     30.0   1.14s  \n",
      "   5        0       5       -6.46     17.5   789ms  \n",
      "   6        0       6       -8.92      4.0   438ms  \n",
      "   7        1       1       -7.82     55.9   2.33s  Restart\n",
      "   8        1       2       -8.97      5.7   1.26s  \n",
      "                                      72.8   2.09s  Final orbitals\n",
      "Iter  Restart  Krydim  log10(res)  avg(CG)  Δtime   Comment\n",
      "----  -------  ------  ----------  -------  ------  ---------------\n",
      "                                      73.0   2.06s  Non-interacting\n",
      "   1        0       1        0.31     52.7   1.91s  \n",
      "   2        0       2       -0.52     47.2   1.67s  \n",
      "   3        0       3       -2.40     41.9   1.53s  \n",
      "   4        0       4       -4.46     30.0   1.20s  \n",
      "   5        0       5       -6.46     17.5   838ms  \n",
      "   6        0       6       -8.92      4.0   454ms  \n",
      "   7        1       1       -7.82     55.9   2.26s  Restart\n",
      "   8        1       2       -8.97      5.7   495ms  \n",
      "                                      72.9   2.24s  Final orbitals\n",
      "Iter  Restart  Krydim  log10(res)  avg(CG)  Δtime   Comment\n",
      "----  -------  ------  ----------  -------  ------  ---------------\n",
      "                                      73.0   2.07s  Non-interacting\n",
      "   1        0       1        0.31     52.7   1.88s  \n",
      "   2        0       2       -0.52     47.2   1.63s  \n",
      "   3        0       3       -2.40     41.9   1.49s  \n",
      "   4        0       4       -4.46     30.0   1.16s  \n",
      "   5        0       5       -6.46     17.5   827ms  \n",
      "   6        0       6       -8.92      4.0   1.50s  \n",
      "   7        1       1       -7.82     55.9   2.05s  Restart\n",
      "   8        1       2       -8.97      5.7   502ms  \n",
      "                                      72.9   2.30s  Final orbitals\n",
      "Iter  Restart  Krydim  log10(res)  avg(CG)  Δtime   Comment\n",
      "----  -------  ------  ----------  -------  ------  ---------------\n",
      "                                      73.0   2.12s  Non-interacting\n",
      "   1        0       1        0.31     52.7   1.93s  \n",
      "   2        0       2       -0.52     47.2   1.71s  \n",
      "   3        0       3       -2.40     41.9   1.55s  \n",
      "   4        0       4       -4.46     30.0   1.20s  \n",
      "   5        0       5       -6.46     17.5   848ms  \n",
      "   6        0       6       -8.92      4.0   455ms  \n",
      "   7        1       1       -7.83     55.9   2.25s  Restart\n",
      "   8        1       2       -9.00      5.6   498ms  \n",
      "                                      72.8   2.26s  Final orbitals\n",
      "Iter  Restart  Krydim  log10(res)  avg(CG)  Δtime   Comment\n",
      "----  -------  ------  ----------  -------  ------  ---------------\n",
      "                                      72.9   2.12s  Non-interacting\n",
      "   1        0       1        0.31     52.7   1.93s  \n",
      "   2        0       2       -0.52     47.2   1.69s  \n",
      "   3        0       3       -2.40     41.9   2.46s  \n",
      "   4        0       4       -4.46     30.0   1.10s  \n",
      "   5        0       5       -6.46     17.5   829ms  \n",
      "   6        0       6       -8.92      4.0   465ms  \n",
      "   7        1       1       -7.83     55.9   2.25s  Restart\n",
      "   8        1       2       -9.00      5.6   501ms  \n",
      "                                      72.8   2.27s  Final orbitals\n",
      "Iter  Restart  Krydim  log10(res)  avg(CG)  Δtime   Comment\n",
      "----  -------  ------  ----------  -------  ------  ---------------\n",
      "                                      73.0   2.05s  Non-interacting\n",
      "   1        0       1        0.31     52.7   1.90s  \n",
      "   2        0       2       -0.52     47.2   1.66s  \n",
      "   3        0       3       -2.40     41.9   1.56s  \n",
      "   4        0       4       -4.46     30.0   1.18s  \n",
      "   5        0       5       -6.46     17.5   825ms  \n",
      "   6        0       6       -8.92      4.0   437ms  \n",
      "   7        1       1       -7.83     55.9   2.22s  Restart\n",
      "   8        1       2       -9.00      5.6   489ms  \n",
      "                                      72.9   2.24s  Final orbitals\n",
      "131.617573 seconds (151.51 M allocations: 82.920 GiB, 8.79% gc time, 25.31% compilation time)\n"
     ]
    }
   ],
   "cell_type": "code",
   "source": [
    "scfres = DFTK.unfold_bz(scfres)\n",
    "phret_q0 = @time DFTK.phonon_modes(scfres; q=[0.25, 0.25, 0.25]);\n",
    "nothing  # hide"
   ],
   "metadata": {},
   "execution_count": 2
  },
  {
   "cell_type": "markdown",
   "source": [
    "These are the final phonon frequencies:"
   ],
   "metadata": {}
  },
  {
   "outputs": [
    {
     "output_type": "execute_result",
     "data": {
      "text/plain": "6-element Vector{Float64}:\n -0.0034981553611111195\n -0.0029774511624445876\n -0.0029774511620736\n  0.004302230625230136\n  0.004302230625579245\n  0.00435320175472293"
     },
     "metadata": {},
     "execution_count": 3
    }
   ],
   "cell_type": "code",
   "source": [
    "phret_q0.frequencies"
   ],
   "metadata": {},
   "execution_count": 3
  }
 ],
 "nbformat_minor": 3,
 "metadata": {
  "language_info": {
   "file_extension": ".jl",
   "mimetype": "application/julia",
   "name": "julia",
   "version": "1.12.0"
  },
  "kernelspec": {
   "name": "julia-1.12",
   "display_name": "Julia 1.12.0",
   "language": "julia"
  }
 },
 "nbformat": 4
}
