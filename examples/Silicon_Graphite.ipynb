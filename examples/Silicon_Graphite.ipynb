{
 "cells": [
  {
   "cell_type": "markdown",
   "metadata": {},
   "source": [
    "# DFT calculations in DFTK"
   ]
  },
  {
   "cell_type": "code",
   "execution_count": null,
   "metadata": {},
   "outputs": [],
   "source": [
    "# Activate source directory of DFTK\n",
    "import Pkg\n",
    "Pkg.activate(\"..\")\n",
    "Pkg.instantiate()\n",
    "\n",
    "using DFTK\n",
    "using Plots"
   ]
  },
  {
   "cell_type": "markdown",
   "metadata": {},
   "source": [
    "### Parameters"
   ]
  },
  {
   "cell_type": "code",
   "execution_count": null,
   "metadata": {},
   "outputs": [],
   "source": [
    "kgrid = [3, 3, 3]    # k-Point grid\n",
    "Ecut = 15            # Kinetic energy cutoff in Hartree\n",
    "temperature = 0.01   # Smearing temperature in Hartree (for metals)\n",
    "T = Float64;         # Floating point type for computations"
   ]
  },
  {
   "cell_type": "markdown",
   "metadata": {},
   "source": [
    "### Setting up lattices and structures"
   ]
  },
  {
   "cell_type": "code",
   "execution_count": null,
   "metadata": {},
   "outputs": [],
   "source": [
    "# Build Silicon (an Insulator)\n",
    "\n",
    "a = 10.263141334305942  # Silicon lattice constant in Bohr\n",
    "lattice = a / 2 .* [[0 1 1.]; [1 0 1.]; [1 1 0.]]\n",
    "Si = ElementPsp(:Si, psp=load_psp(\"hgh/lda/Si-q4\"))\n",
    "atoms = [Si => [ones(3)/8, -ones(3)/8]]\n",
    "n_bands = 6\n",
    "\n",
    "model = model_LDA(Array{T}(lattice), atoms);"
   ]
  },
  {
   "cell_type": "markdown",
   "metadata": {},
   "source": [
    "or to have full control over the employed terms:"
   ]
  },
  {
   "cell_type": "code",
   "execution_count": null,
   "metadata": {},
   "outputs": [],
   "source": [
    "terms = [\n",
    "    Kinetic(),\n",
    "    AtomicLocal(),\n",
    "    AtomicNonlocal(),\n",
    "    Ewald(),\n",
    "    PspCorrection(),\n",
    "    Hartree(),\n",
    "    Xc(:lda_x, :lda_c_vwn)\n",
    "]\n",
    "model = Model(Array{T}(lattice), atoms=atoms, terms=terms);"
   ]
  },
  {
   "cell_type": "markdown",
   "metadata": {},
   "source": [
    "or"
   ]
  },
  {
   "cell_type": "code",
   "execution_count": null,
   "metadata": {},
   "outputs": [],
   "source": [
    "# Build graphite (a Metal)\n",
    "# Note: This is not exactly the minimum-energy structure\n",
    "\n",
    "ÅtoBohr = 1.8897261246257702  # Convert Ångström to bohr\n",
    "a = 1.228ÅtoBohr   \n",
    "b = 2.12695839ÅtoBohr\n",
    "c = 7ÅtoBohr\n",
    "lattice = [[a a 0]; [-b b 0]; [0 0 c]]\n",
    "C = ElementPsp(:C, psp=load_psp(\"hgh/lda/C-q4\"))\n",
    "atoms = [C => [[0, 0, 1/4], [0, 0, 3/4],\n",
    "               [1/3, 2/3, 1/4], [2/3, 1/3, 3/4]], ]\n",
    "n_bands = 15\n",
    "\n",
    "model = model_DFT(Array{T}(lattice), atoms, :lda_xc_teter93;\n",
    "                  temperature=temperature, smearing=Smearing.MethfesselPaxton2());"
   ]
  },
  {
   "cell_type": "markdown",
   "metadata": {},
   "source": [
    "### Running an SCF computation"
   ]
  },
  {
   "cell_type": "code",
   "execution_count": null,
   "metadata": {},
   "outputs": [],
   "source": [
    "# Discretize the model\n",
    "basis = PlaneWaveBasis(model, Ecut, kgrid=kgrid);"
   ]
  },
  {
   "cell_type": "code",
   "execution_count": null,
   "metadata": {},
   "outputs": [],
   "source": [
    "# Run self-consistent field calculation\n",
    "scfres = self_consistent_field(basis, tol=1e-10)\n",
    "\n",
    "display(scfres.energies)\n",
    "println(\"\\nkpt   occupation\")\n",
    "for ik in 1:length(basis.kpoints)\n",
    "    println(\"   $ik  $(scfres.occupation[ik])\")\n",
    "end"
   ]
  },
  {
   "cell_type": "markdown",
   "metadata": {},
   "source": [
    "### Post-process SCF results"
   ]
  },
  {
   "cell_type": "code",
   "execution_count": null,
   "metadata": {
    "scrolled": true
   },
   "outputs": [],
   "source": [
    "# Compute bandstructure\n",
    "plot_bandstructure(scfres, n_bands)"
   ]
  },
  {
   "cell_type": "code",
   "execution_count": null,
   "metadata": {},
   "outputs": [],
   "source": [
    "# Plot of the density versus the norm of the reciprocal lattice points\n",
    "\n",
    "Gabs = vec([sum(abs, G) for G in G_vectors(basis)])\n",
    "scatter(Gabs, vec(abs.(scfres.ρ.fourier)), yaxis=:log)"
   ]
  },
  {
   "cell_type": "code",
   "execution_count": null,
   "metadata": {},
   "outputs": [],
   "source": [
    "# Plot the density of state\n",
    "εs = collect(-0.1:0.005:0.5)\n",
    "doses = DOS.(εs, Ref(basis), Ref(scfres.eigenvalues), T=temperature*4,\n",
    "             smearing=DFTK.Smearing.MethfesselPaxton1())\n",
    "q = plot(εs, doses, label=\"DOS\")\n",
    "vline!(q, [scfres.εF], label=\"Fermi level\")"
   ]
  }
 ],
 "metadata": {
  "@webio": {
   "lastCommId": null,
   "lastKernelId": null
  },
  "kernelspec": {
   "display_name": "Julia 1.3.1",
   "language": "julia",
   "name": "julia-1.3"
  },
  "language_info": {
   "file_extension": ".jl",
   "mimetype": "application/julia",
   "name": "julia",
   "version": "1.3.1"
  }
 },
 "nbformat": 4,
 "nbformat_minor": 2
}
