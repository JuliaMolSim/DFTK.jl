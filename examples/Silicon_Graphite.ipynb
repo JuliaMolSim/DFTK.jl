{
 "cells": [
  {
   "cell_type": "markdown",
   "metadata": {},
   "source": [
    "# DFT calculations in DFTK"
   ]
  },
  {
   "cell_type": "code",
   "execution_count": null,
   "metadata": {},
   "outputs": [],
   "source": [
    "using DFTK\n",
    "\n",
    "# Paramaters\n",
    "kgrid = [3, 3, 3]    # k-Point grid\n",
    "Ecut = 15            # Kinetic energy cutoff in Hartree\n",
    "Tsmear = 0.01        # Smearing temperature in Hartree (for metals)\n",
    "T = Float64;         # Floating point type for computations"
   ]
  },
  {
   "cell_type": "code",
   "execution_count": null,
   "metadata": {},
   "outputs": [],
   "source": [
    "# Build Silicon (an Insulator)\n",
    "\n",
    "a = 10.263141334305942  # Silicon lattice constant in Bohr\n",
    "lattice = a / 2 .* [[0 1 1.]; [1 0 1.]; [1 1 0.]]\n",
    "Si = Species(14, psp=load_psp(\"hgh/lda/Si-q4\"))\n",
    "composition = [Si => [ones(3)/8, -ones(3)/8]]\n",
    "n_bands = 6\n",
    "\n",
    "model = model_dft(lattice, :lda_xc_teter93, composition...)\n",
    "\n",
    "#\n",
    "# ... or ...\n",
    "#\n",
    "\n",
    "n_electrons = sum(length(pos) * n_elec_valence(spec) for (spec, pos) in composition)    \n",
    "model = Model(Array{T}(lattice), n_electrons;    \n",
    "              external=term_external(composition...),    \n",
    "              nonlocal=term_nonlocal(composition...),    \n",
    "              hartree=term_hartree(),    \n",
    "              xc=term_xc(:lda_x, :lda_c_vwn));"
   ]
  },
  {
   "cell_type": "code",
   "execution_count": null,
   "metadata": {},
   "outputs": [],
   "source": [
    "# Build graphite (a Metal)\n",
    "# Note: This is not exactly the minimum-energy structure\n",
    "\n",
    "ÅtoBohr = 1.8897261246257702  # Convert Ångström to bohr\n",
    "a = 1.228ÅtoBohr   \n",
    "b = 2.12695839ÅtoBohr\n",
    "c = 7ÅtoBohr\n",
    "lattice = [[a a 0]; [-b b 0]; [0 0 c]]\n",
    "C = Species(6, load_psp(\"hgh/lda/C-q4\"))\n",
    "composition = (C => [[0, 0, 1/4], [0, 0, 3/4],\n",
    "                     [1/3, 2/3, 1/4], [2/3, 1/3, 3/4]], )\n",
    "n_bands = 15\n",
    "\n",
    "model = model_dft(Array{T}(lattice), :lda_xc_teter93, composition...;\n",
    "                  temperature=Tsmear, smearing=smearing_methfessel_paxton_2);"
   ]
  },
  {
   "cell_type": "code",
   "execution_count": null,
   "metadata": {},
   "outputs": [],
   "source": [
    "# Discretise the model\n",
    "\n",
    "kcoords, ksymops = bzmesh_ir_wedge(kgrid, lattice, composition...)\n",
    "basis = PlaneWaveBasis(model, Ecut, kcoords, ksymops);"
   ]
  },
  {
   "cell_type": "code",
   "execution_count": null,
   "metadata": {},
   "outputs": [],
   "source": [
    "# Build self-consistent Hamiltonian\n",
    "\n",
    "ham = Hamiltonian(basis, guess_density(basis, composition...))\n",
    "scfres = self_consistent_field!(ham, n_bands, tol=1e-4);\n",
    "\n",
    "println(\"\\nkpt   occupation\")\n",
    "for ik in 1:length(basis.kpoints)\n",
    "    println(\"   $ik  $(scfres.occupation[ik])\")\n",
    "end"
   ]
  },
  {
   "cell_type": "code",
   "execution_count": null,
   "metadata": {},
   "outputs": [],
   "source": [
    "# Compute and print energies\n",
    "\n",
    "using Printf\n",
    "energies = scfres.energies\n",
    "energies[:Ewald] = energy_nuclear_ewald(model.lattice, composition...)\n",
    "energies[:PspCorrection] = energy_nuclear_psp_correction(model.lattice, composition...)\n",
    "println(\"\\nEnergy breakdown:\")\n",
    "for key in sort([keys(energies)...]; by=S -> string(S))\n",
    "    @printf \"    %-20s%-10.7f\\n\" string(key) energies[key]\n",
    "end\n",
    "@printf \"\\n    %-20s%-15.12f\\n\\n\" \"total\" sum(values(energies))"
   ]
  },
  {
   "cell_type": "code",
   "execution_count": null,
   "metadata": {},
   "outputs": [],
   "source": [
    "# Compute bandstructure\n",
    "\n",
    "kline_density = 15   # Density of k-Points for bandstructure\n",
    "kpoints, klabels, kpath = high_symmetry_kpath(basis, kline_density, composition...)\n",
    "println(\"Computing bands along kpath:\\n     $(join(kpath[1], \" -> \"))\")\n",
    "band_data = compute_bands(ham, kpoints, n_bands, tol=1e-4);"
   ]
  },
  {
   "cell_type": "code",
   "execution_count": null,
   "metadata": {},
   "outputs": [],
   "source": [
    "# Plot it in pymatgen\n",
    "\n",
    "using PyCall\n",
    "import PyPlot\n",
    "PyPlot.svg(true) \n",
    "\n",
    "plotter = pyimport(\"pymatgen.electronic_structure.plotter\")\n",
    "bs = pymatgen_bandstructure(basis, band_data, klabels, fermi_level=scfres.εF)\n",
    "bsplot = plotter.BSPlotter(bs)\n",
    "plt = bsplot.get_plot()\n",
    "plt.autoscale()\n",
    "plt.show()"
   ]
  },
  {
   "cell_type": "code",
   "execution_count": null,
   "metadata": {},
   "outputs": [],
   "source": [
    "# Plot of the density versus the norm of the reciprocal lattice points\n",
    "\n",
    "Gabs = vec([sum(abs, G) for G in basis_Cρ(basis)])\n",
    "PyPlot.semilogy(Gabs, vec(abs.(fourier(scfres.ρ))), \".\");"
   ]
  }
 ],
 "metadata": {
  "@webio": {
   "lastCommId": null,
   "lastKernelId": null
  },
  "kernelspec": {
   "display_name": "Julia 1.1.1",
   "language": "julia",
   "name": "julia-1.1"
  },
  "language_info": {
   "file_extension": ".jl",
   "mimetype": "application/julia",
   "name": "julia",
   "version": "1.1.1"
  }
 },
 "nbformat": 4,
 "nbformat_minor": 2
}
