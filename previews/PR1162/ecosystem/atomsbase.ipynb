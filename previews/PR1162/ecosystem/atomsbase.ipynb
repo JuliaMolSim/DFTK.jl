{
 "cells": [
  {
   "cell_type": "markdown",
   "source": [
    "# AtomsBase integration"
   ],
   "metadata": {}
  },
  {
   "cell_type": "markdown",
   "source": [
    "[AtomsBase.jl](https://github.com/JuliaMolSim/AtomsBase.jl) is a common interface\n",
    "for representing atomic structures in Julia. DFTK directly supports using such\n",
    "structures to run a calculation as is demonstrated here."
   ],
   "metadata": {}
  },
  {
   "outputs": [],
   "cell_type": "code",
   "source": [
    "using DFTK\n",
    "using AtomsBuilder"
   ],
   "metadata": {},
   "execution_count": 1
  },
  {
   "cell_type": "markdown",
   "source": [
    "## Feeding an AtomsBase AbstractSystem to DFTK\n",
    "\n",
    "In this example we construct a bulk silicon system using the `bulk` function\n",
    "from [AtomsBuilder](https://github.com/JuliaMolSim/AtomsBuilder.jl). This function\n",
    "uses tabulated data to set up a reasonable starting geometry and lattice for bulk silicon."
   ],
   "metadata": {}
  },
  {
   "outputs": [
    {
     "output_type": "execute_result",
     "data": {
      "text/plain": "FlexibleSystem(Si₂, periodicity = TTT):\n    cell_vectors      : [       0    2.715    2.715;\n                            2.715        0    2.715;\n                            2.715    2.715        0]u\"Å\"\n\n    Atom(Si, [       0,        0,        0]u\"Å\")\n    Atom(Si, [  1.3575,   1.3575,   1.3575]u\"Å\")\n"
     },
     "metadata": {},
     "execution_count": 2
    }
   ],
   "cell_type": "code",
   "source": [
    "system = bulk(:Si)"
   ],
   "metadata": {},
   "execution_count": 2
  },
  {
   "cell_type": "markdown",
   "source": [
    "By default the atoms of an `AbstractSystem` employ the bare Coulomb potential.\n",
    "To employ pseudpotential models (which is almost always advisable for\n",
    "plane-wave DFT) one employs the `pseudopotential` keyword argument in\n",
    "model constructors such as `model_DFT`.\n",
    "For example we can employ a `PseudoFamily` object\n",
    "from the [PseudoPotentialData](https://github.com/JuliaMolSim/PseudoPotentialData.jl)\n",
    "package. See its documentation for more information on the available\n",
    "pseudopotential families and how to select them."
   ],
   "metadata": {}
  },
  {
   "outputs": [
    {
     "output_type": "execute_result",
     "data": {
      "text/plain": "Model(lda_x+lda_c_pw, 3D):\n    lattice (in Bohr)    : [0         , 5.13061   , 5.13061   ]\n                           [5.13061   , 0         , 5.13061   ]\n                           [5.13061   , 5.13061   , 0         ]\n    unit cell volume     : 270.11 Bohr³\n\n    atoms                : Si₂\n    pseudopot. family    : PseudoFamily(\"dojo.nc.sr.lda.v0_4_1.standard.upf\")\n\n    num. electrons       : 8\n    spin polarization    : none\n    temperature          : 0.001 Ha\n    smearing             : DFTK.Smearing.FermiDirac()\n\n    terms                : Kinetic()\n                           AtomicLocal()\n                           AtomicNonlocal()\n                           Ewald(nothing)\n                           PspCorrection()\n                           Hartree()\n                           Xc(lda_x, lda_c_pw)\n                           Entropy()"
     },
     "metadata": {},
     "execution_count": 3
    }
   ],
   "cell_type": "code",
   "source": [
    "using PseudoPotentialData  # defines PseudoFamily\n",
    "\n",
    "pd_lda_family = PseudoFamily(\"dojo.nc.sr.lda.v0_4_1.standard.upf\")\n",
    "model = model_DFT(system; functionals=LDA(), temperature=1e-3,\n",
    "                  pseudopotentials=pd_lda_family)"
   ],
   "metadata": {},
   "execution_count": 3
  },
  {
   "cell_type": "markdown",
   "source": [
    "Alternatively the `pseudopotentials` object also accepts a `Dict{Symbol,String}`,\n",
    "which provides for each element symbol the filename or identifier\n",
    "of the pseudopotential to be employed, e.g."
   ],
   "metadata": {}
  },
  {
   "outputs": [
    {
     "output_type": "execute_result",
     "data": {
      "text/plain": "Model(lda_x+lda_c_pw, 3D):\n    lattice (in Bohr)    : [0         , 5.13061   , 5.13061   ]\n                           [5.13061   , 0         , 5.13061   ]\n                           [5.13061   , 5.13061   , 0         ]\n    unit cell volume     : 270.11 Bohr³\n\n    atoms                : Si₂\n    atom potentials      : ElementPsp(:Si, \"/home/runner/.julia/artifacts/966fd9cdcd7dbaba6dc2bf43ee50dd81e63e8837/Si.gth\")\n                           ElementPsp(:Si, \"/home/runner/.julia/artifacts/966fd9cdcd7dbaba6dc2bf43ee50dd81e63e8837/Si.gth\")\n\n    num. electrons       : 8\n    spin polarization    : none\n    temperature          : 0.001 Ha\n    smearing             : DFTK.Smearing.FermiDirac()\n\n    terms                : Kinetic()\n                           AtomicLocal()\n                           AtomicNonlocal()\n                           Ewald(nothing)\n                           PspCorrection()\n                           Hartree()\n                           Xc(lda_x, lda_c_pw)\n                           Entropy()"
     },
     "metadata": {},
     "execution_count": 4
    }
   ],
   "cell_type": "code",
   "source": [
    "path_to_pspfile = PseudoFamily(\"cp2k.nc.sr.lda.v0_1.semicore.gth\")[:Si]\n",
    "model = model_DFT(system; functionals=LDA(), temperature=1e-3,\n",
    "                  pseudopotentials=Dict(:Si => path_to_pspfile))"
   ],
   "metadata": {},
   "execution_count": 4
  },
  {
   "cell_type": "markdown",
   "source": [
    "We can then discretise such a model and solve:"
   ],
   "metadata": {}
  },
  {
   "outputs": [
    {
     "name": "stdout",
     "output_type": "stream",
     "text": [
      "n     Energy            log10(ΔE)   log10(Δρ)   Diag   Δtime\n",
      "---   ---------------   ---------   ---------   ----   ------\n",
      "  1   -7.921728150136                   -0.69    5.6    231ms\n",
      "  2   -7.926131087284       -2.36       -1.22    1.0    146ms\n",
      "  3   -7.926834040387       -3.15       -2.37    2.0    249ms\n",
      "  4   -7.926861305968       -4.56       -3.02    3.1    209ms\n",
      "  5   -7.926861656280       -6.46       -3.47    2.0    181ms\n",
      "  6   -7.926861675599       -7.71       -4.05    1.6    160ms\n",
      "  7   -7.926861678225       -8.58       -4.08    2.1    178ms\n",
      "  8   -7.926861679009       -9.11       -4.14    1.0    151ms\n",
      "  9   -7.926861681730       -8.57       -4.37    1.0    150ms\n",
      " 10   -7.926861681844       -9.94       -4.53    1.0    149ms\n",
      " 11   -7.926861681853      -11.05       -4.58    1.0    152ms\n",
      " 12   -7.926861681867      -10.86       -5.05    1.0    231ms\n",
      " 13   -7.926861681871      -11.35       -5.35    1.1    866ms\n",
      " 14   -7.926861681872      -12.32       -5.22    1.0    147ms\n",
      " 15   -7.926861681872      -12.16       -5.74    1.0    149ms\n",
      " 16   -7.926861681873      -13.23       -5.75    1.4    153ms\n",
      " 17   -7.926861681873      -13.05       -6.04    1.0    146ms\n",
      " 18   -7.926861681873      -13.73       -7.08    1.0    147ms\n",
      " 19   -7.926861681873      -14.45       -7.18    2.5    185ms\n",
      " 20   -7.926861681873      -15.05       -7.15    1.0    148ms\n",
      " 21   -7.926861681873   +  -14.45       -7.14    1.0    148ms\n",
      " 22   -7.926861681873      -14.45       -7.65    1.0    149ms\n",
      " 23   -7.926861681873      -15.05       -8.00    1.0    147ms\n"
     ]
    }
   ],
   "cell_type": "code",
   "source": [
    "basis  = PlaneWaveBasis(model; Ecut=15, kgrid=[4, 4, 4])\n",
    "scfres = self_consistent_field(basis, tol=1e-8);"
   ],
   "metadata": {},
   "execution_count": 5
  },
  {
   "cell_type": "markdown",
   "source": [
    "If we did not want to use\n",
    "[AtomsBuilder](https://github.com/JuliaMolSim/AtomsBuilder.jl)\n",
    "we could of course use any other package\n",
    "which yields an AbstractSystem object. This includes:"
   ],
   "metadata": {}
  },
  {
   "cell_type": "markdown",
   "source": [
    "### Reading a system using AtomsIO\n",
    "\n",
    "Read a file using [AtomsIO](https://github.com/mfherbst/AtomsIO.jl),\n",
    "which directly yields an AbstractSystem."
   ],
   "metadata": {}
  },
  {
   "outputs": [],
   "cell_type": "code",
   "source": [
    "using AtomsIO\n",
    "system = load_system(\"Si.extxyz\");"
   ],
   "metadata": {},
   "execution_count": 6
  },
  {
   "cell_type": "markdown",
   "source": [
    "Run the LDA calculation:"
   ],
   "metadata": {}
  },
  {
   "outputs": [
    {
     "name": "stdout",
     "output_type": "stream",
     "text": [
      "n     Energy            log10(ΔE)   log10(Δρ)   Diag   Δtime\n",
      "---   ---------------   ---------   ---------   ----   ------\n",
      "  1   -7.921747015495                   -0.69    5.5    210ms\n",
      "  2   -7.926130570805       -2.36       -1.22    1.0    230ms\n",
      "  3   -7.926834130054       -3.15       -2.37    2.0    167ms\n",
      "  4   -7.926861048379       -4.57       -3.02    3.1    240ms\n",
      "  5   -7.926861665677       -6.21       -3.47    2.1    173ms\n",
      "  6   -7.926861676819       -7.95       -4.09    1.5    159ms\n",
      "  7   -7.926861681626       -8.32       -4.77    1.9    162ms\n",
      "  8   -7.926861681863       -9.63       -5.54    2.6    189ms\n",
      "  9   -7.926861681872      -11.08       -5.64    2.2    179ms\n",
      " 10   -7.926861681872      -12.10       -6.30    1.0    150ms\n",
      " 11   -7.926861681873      -12.84       -7.49    1.6    162ms\n",
      " 12   -7.926861681873      -14.45       -7.93    3.5    211ms\n",
      " 13   -7.926861681873   +  -14.75       -8.72    3.0    187ms\n"
     ]
    }
   ],
   "cell_type": "code",
   "source": [
    "pseudopotentials = PseudoFamily(\"cp2k.nc.sr.lda.v0_1.semicore.gth\")\n",
    "model  = model_DFT(system; pseudopotentials, functionals=LDA(), temperature=1e-3)\n",
    "basis  = PlaneWaveBasis(model; Ecut=15, kgrid=[4, 4, 4])\n",
    "scfres = self_consistent_field(basis, tol=1e-8);"
   ],
   "metadata": {},
   "execution_count": 7
  },
  {
   "cell_type": "markdown",
   "source": [
    "The same could be achieved using [ExtXYZ](https://github.com/libAtoms/ExtXYZ.jl)\n",
    "by `system = Atoms(read_frame(\"Si.extxyz\"))`,\n",
    "since the `ExtXYZ.Atoms` object is directly AtomsBase-compatible."
   ],
   "metadata": {}
  },
  {
   "cell_type": "markdown",
   "source": [
    "### Directly setting up a system in AtomsBase"
   ],
   "metadata": {}
  },
  {
   "outputs": [
    {
     "name": "stdout",
     "output_type": "stream",
     "text": [
      "n     Energy            log10(ΔE)   log10(Δρ)   Diag   Δtime\n",
      "---   ---------------   ---------   ---------   ----   ------\n",
      "  1   -7.921700723895                   -0.69    5.6    250ms\n",
      "  2   -7.926135986992       -2.35       -1.22    1.0    127ms\n",
      "  3   -7.926836667531       -3.15       -2.37    2.0    173ms\n",
      "  4   -7.926864667646       -4.55       -2.99    3.0    198ms\n",
      "  5   -7.926865056768       -6.41       -3.38    1.8    152ms\n",
      "  6   -7.926865081718       -7.60       -3.84    1.6    141ms\n",
      "  7   -7.926865090611       -8.05       -4.16    1.8    148ms\n"
     ]
    }
   ],
   "cell_type": "code",
   "source": [
    "using AtomsBase\n",
    "using Unitful\n",
    "using UnitfulAtomic\n",
    "\n",
    "# Construct a system in the AtomsBase world\n",
    "a = 10.26u\"bohr\"  # Silicon lattice constant\n",
    "lattice = a / 2 * [[0, 1, 1.],  # Lattice as vector of vectors\n",
    "                   [1, 0, 1.],\n",
    "                   [1, 1, 0.]]\n",
    "atoms  = [:Si => ones(3)/8, :Si => -ones(3)/8]\n",
    "system = periodic_system(atoms, lattice; fractional=true)\n",
    "\n",
    "# Now run the LDA calculation:\n",
    "pseudopotentials = PseudoFamily(\"cp2k.nc.sr.lda.v0_1.semicore.gth\")\n",
    "model  = model_DFT(system; pseudopotentials, functionals=LDA(), temperature=1e-3)\n",
    "basis  = PlaneWaveBasis(model; Ecut=15, kgrid=[4, 4, 4])\n",
    "scfres = self_consistent_field(basis, tol=1e-4);"
   ],
   "metadata": {},
   "execution_count": 8
  },
  {
   "cell_type": "markdown",
   "source": [
    "## Obtaining an AbstractSystem from DFTK data"
   ],
   "metadata": {}
  },
  {
   "cell_type": "markdown",
   "source": [
    "At any point we can also get back the DFTK model as an\n",
    "AtomsBase-compatible `AbstractSystem`:"
   ],
   "metadata": {}
  },
  {
   "outputs": [
    {
     "output_type": "execute_result",
     "data": {
      "text/plain": "FlexibleSystem(Si₂, periodicity = TTT):\n    cell_vectors      : [       0     5.13     5.13;\n                             5.13        0     5.13;\n                             5.13     5.13        0]u\"a₀\"\n\n    Atom(Si, [  1.2825,   1.2825,   1.2825]u\"a₀\")\n    Atom(Si, [ -1.2825,  -1.2825,  -1.2825]u\"a₀\")\n"
     },
     "metadata": {},
     "execution_count": 9
    }
   ],
   "cell_type": "code",
   "source": [
    "second_system = atomic_system(model)"
   ],
   "metadata": {},
   "execution_count": 9
  },
  {
   "cell_type": "markdown",
   "source": [
    "Similarly DFTK offers a method to the `atomic_system` and `periodic_system` functions\n",
    "(from AtomsBase), which enable a seamless conversion of the usual data structures for\n",
    "setting up DFTK calculations into an `AbstractSystem`:"
   ],
   "metadata": {}
  },
  {
   "outputs": [
    {
     "output_type": "execute_result",
     "data": {
      "text/plain": "FlexibleSystem(Si₂, periodicity = TTT):\n    cell_vectors      : [       0  5.13155  5.13155;\n                          5.13155        0  5.13155;\n                          5.13155  5.13155        0]u\"a₀\"\n\n    Atom(Si, [ 1.28289,  1.28289,  1.28289]u\"a₀\")\n    Atom(Si, [-1.28289, -1.28289, -1.28289]u\"a₀\")\n"
     },
     "metadata": {},
     "execution_count": 10
    }
   ],
   "cell_type": "code",
   "source": [
    "lattice = 5.431u\"Å\" / 2 * [[0 1 1.];\n",
    "                           [1 0 1.];\n",
    "                           [1 1 0.]];\n",
    "Si = ElementPsp(:Si, pseudopotentials)\n",
    "atoms     = [Si, Si]\n",
    "positions = [ones(3)/8, -ones(3)/8]\n",
    "\n",
    "third_system = atomic_system(lattice, atoms, positions)"
   ],
   "metadata": {},
   "execution_count": 10
  }
 ],
 "nbformat_minor": 3,
 "metadata": {
  "language_info": {
   "file_extension": ".jl",
   "mimetype": "application/julia",
   "name": "julia",
   "version": "1.12.0"
  },
  "kernelspec": {
   "name": "julia-1.12",
   "display_name": "Julia 1.12.0",
   "language": "julia"
  }
 },
 "nbformat": 4
}
