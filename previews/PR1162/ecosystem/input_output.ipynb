{
 "cells": [
  {
   "cell_type": "markdown",
   "source": [
    "# Input and output formats"
   ],
   "metadata": {}
  },
  {
   "cell_type": "markdown",
   "source": [
    "This section provides an overview of the input and output formats\n",
    "supported by DFTK, usually via integration with a third-party library.\n",
    "\n",
    "## Reading / writing files supported by AtomsIO\n",
    "[AtomsIO](https://github.com/mfherbst/AtomsIO.jl) is a Julia package which supports\n",
    "reading / writing atomistic structures from / to a large range of file formats.\n",
    "Supported formats include Crystallographic Information Framework (CIF),\n",
    "XYZ and extxyz files, ASE / Gromacs / LAMMPS / Amber trajectory files\n",
    "or input files of various other codes (e.g. Quantum Espresso, VASP, ABINIT, CASTEP, …).\n",
    "The full list of formats is is available in the\n",
    "[AtomsIO documentation](https://mfherbst.github.io/AtomsIO.jl/stable).\n",
    "\n",
    "The AtomsIO functionality is split into two packages. The main package, `AtomsIO` itself,\n",
    "only depends on packages, which are registered in the Julia General package registry.\n",
    "In contrast `AtomsIOPython` extends `AtomsIO` by parsers depending on python packages,\n",
    "which are automatically managed via `PythonCall`. While it thus provides the full set of\n",
    "supported IO formats, this also adds additional practical complications, so some users\n",
    "may choose not to use `AtomsIOPython`.\n",
    "\n",
    "As an example we start the calculation of a simple antiferromagnetic iron crystal\n",
    "using a Quantum-Espresso input file, [Fe_afm.pwi](Fe_afm.pwi).\n",
    "For more details about calculations on magnetic systems\n",
    "using collinear spin, see Collinear spin and magnetic systems.\n",
    "\n",
    "First we parse the Quantum Espresso input file using AtomsIO,\n",
    "which reads the lattice, atomic positions and initial magnetisation\n",
    "from the input file and returns it as an\n",
    "[AtomsBase](https://github.com/JuliaMolSim/AtomsBase.jl) `AbstractSystem`,\n",
    "the JuliaMolSim community standard for representing atomic systems."
   ],
   "metadata": {}
  },
  {
   "outputs": [
    {
     "output_type": "execute_result",
     "data": {
      "text/plain": "FlexibleSystem(Fe₂, periodicity = TTT):\n    cell_vectors      : [ 2.86814        0        0;\n                                0  2.86814        0;\n                                0        0  2.86814]u\"Å\"\n\n    Atom(Fe, [       0,        0,        0]u\"Å\")\n    Atom(Fe, [ 1.43407,  1.43407,  1.43407]u\"Å\")\n"
     },
     "metadata": {},
     "execution_count": 1
    }
   ],
   "cell_type": "code",
   "source": [
    "using AtomsIO        # Use Julia-only IO parsers\n",
    "using AtomsIOPython  # Use python-based IO parsers (e.g. ASE)\n",
    "system = load_system(\"Fe_afm.pwi\")"
   ],
   "metadata": {},
   "execution_count": 1
  },
  {
   "cell_type": "markdown",
   "source": [
    "Next we build a model making use of the AtomsBase integration\n",
    "of DFTK and supplying a pseudpotential family\n",
    "from the [PseudoPotentialData](https://github.com/JuliaMolSim/PseudoPotentialData.jl)"
   ],
   "metadata": {}
  },
  {
   "outputs": [
    {
     "output_type": "execute_result",
     "data": {
      "text/plain": "Model(lda_x+lda_c_pw, 3D):\n    lattice (in Bohr)    : [5.42      , 0         , 0         ]\n                           [0         , 5.42      , 0         ]\n                           [0         , 0         , 5.42      ]\n    unit cell volume     : 159.22 Bohr³\n\n    atoms                : Fe₂\n    pseudopot. family    : PseudoFamily(\"dojo.nc.sr.lda.v0_4_1.standard.upf\")\n\n    num. electrons       : 32\n    spin polarization    : collinear\n    temperature          : 0.01 Ha\n    smearing             : DFTK.Smearing.FermiDirac()\n\n    terms                : Kinetic()\n                           AtomicLocal()\n                           AtomicNonlocal()\n                           Ewald(nothing)\n                           PspCorrection()\n                           Hartree()\n                           Xc(lda_x, lda_c_pw)\n                           Entropy()"
     },
     "metadata": {},
     "execution_count": 2
    }
   ],
   "cell_type": "code",
   "source": [
    "using DFTK\n",
    "using PseudoPotentialData\n",
    "pd_lda_family = PseudoFamily(\"dojo.nc.sr.lda.v0_4_1.standard.upf\")\n",
    "model = model_DFT(system;\n",
    "                  functionals=LDA(),\n",
    "                  temperature=0.01,\n",
    "                  pseudopotentials=pd_lda_family)"
   ],
   "metadata": {},
   "execution_count": 2
  },
  {
   "cell_type": "markdown",
   "source": [
    "Finally we run the calculation:"
   ],
   "metadata": {}
  },
  {
   "outputs": [
    {
     "name": "stdout",
     "output_type": "stream",
     "text": [
      "┌ Warning: Negative ρcore detected: -0.010160696831625975\n",
      "└ @ DFTK ~/work/DFTK.jl/DFTK.jl/src/terms/xc.jl:39\n",
      "n     Energy            log10(ΔE)   log10(Δρ)   Magnet   |Magn|   Diag   Δtime\n",
      "---   ---------------   ---------   ---------   ------   ------   ----   ------\n",
      "  1   -230.6864609807                    0.31   -0.518    0.518    5.1    223ms\n",
      "  2   -234.1249023733        0.54       -0.32   -0.458    0.458    2.6    157ms\n",
      "  3   -234.2144458451       -1.05       -1.06   -0.447    0.447    3.2    179ms\n",
      "  4   -234.2154845898       -2.98       -1.94   -0.450    0.450    1.2    140ms\n",
      "  5   -234.2155200978       -4.45       -2.78   -0.453    0.453    1.8    113ms\n",
      "  6   -234.2155224413       -5.63       -2.94   -0.454    0.454    4.1    135ms\n",
      "  7   -234.2155232854       -6.07       -3.08   -0.456    0.456    1.2    106ms\n",
      "  8   -234.2155236162       -6.48       -3.18   -0.457    0.457    1.0    110ms\n",
      "  9   -234.2155236969       -7.09       -3.22   -0.458    0.458    1.0    104ms\n",
      " 10   -234.2155240301       -6.48       -3.64   -0.463    0.463    1.1    106ms\n",
      " 11   -234.2155241206       -7.04       -3.76   -0.467    0.467    1.6    124ms\n",
      " 12   -234.2155241606       -7.40       -3.71   -0.471    0.471    1.2    116ms\n",
      " 13   -234.2155243369       -6.75       -3.78   -0.489    0.489    2.0    123ms\n",
      " 14   -234.2155245693       -6.63       -3.98   -0.531    0.531    2.9    152ms\n",
      " 15   -234.2155245929       -7.63       -4.48   -0.547    0.547    2.1    130ms\n",
      " 16   -234.2155245987       -8.23       -4.66   -0.547    0.547    1.8    127ms\n",
      " 17   -234.2155246007       -8.70       -4.71   -0.551    0.551    2.5    142ms\n",
      " 18   -234.2155246051       -8.36       -4.74   -0.549    0.549    1.2    109ms\n",
      " 19   -234.2155246071       -8.69       -4.76   -0.550    0.550    1.0    109ms\n",
      " 20   -234.2155246104       -8.48       -4.79   -0.550    0.550    1.0    104ms\n",
      " 21   -234.2155246142       -8.42       -4.83   -0.550    0.550    1.0    104ms\n",
      " 22   -234.2155246217       -8.13       -4.93   -0.550    0.550    1.4    114ms\n",
      " 23   -234.2155246259       -8.38       -5.02   -0.550    0.550    1.8    114ms\n",
      " 24   -234.2155246323       -8.20       -5.30   -0.550    0.550    2.0    127ms\n",
      " 25   -234.2155246344       -8.68       -5.76   -0.550    0.550    2.0    137ms\n",
      " 26   -234.2155246346       -9.62       -6.20   -0.550    0.550    2.4    129ms\n"
     ]
    }
   ],
   "cell_type": "code",
   "source": [
    "basis = PlaneWaveBasis(model; Ecut=10, kgrid=(2, 2, 2))\n",
    "ρ0 = guess_density(basis, system)\n",
    "scfres = self_consistent_field(basis, ρ=ρ0);"
   ],
   "metadata": {},
   "execution_count": 3
  },
  {
   "cell_type": "markdown",
   "source": [
    "> **DFTK data formats are not yet fully matured**\n",
    ">\n",
    "> The data format in which DFTK saves data as well as the general interface\n",
    "> of the `load_scfres` and `save_scfres` pair of functions\n",
    "> are not yet fully matured. They have become fairly stable, but we reserve\n",
    "> the right to change them incompatibly between DFTK versions (including\n",
    "> patch versions) at this point."
   ],
   "metadata": {}
  },
  {
   "cell_type": "markdown",
   "source": [
    "## Writing VTK files for visualization\n",
    "For visualizing the density or the Kohn-Sham orbitals DFTK supports storing\n",
    "the result of an SCF calculations in the form of VTK files.\n",
    "These can afterwards be visualized using tools such\n",
    "as [paraview](https://www.paraview.org/).\n",
    "Using this feature requires\n",
    "the [WriteVTK.jl](https://github.com/jipolanco/WriteVTK.jl/) Julia package."
   ],
   "metadata": {}
  },
  {
   "outputs": [],
   "cell_type": "code",
   "source": [
    "using WriteVTK\n",
    "save_scfres(\"iron_afm.vts\", scfres; save_ψ=true);"
   ],
   "metadata": {},
   "execution_count": 4
  },
  {
   "cell_type": "markdown",
   "source": [
    "This will save the iron calculation above into the file `iron_afm.vts`,\n",
    "using `save_ψ=true` to also include the KS orbitals."
   ],
   "metadata": {}
  },
  {
   "cell_type": "markdown",
   "source": [
    "## Parsable data-export using json\n",
    "Many structures in DFTK support the (unexported) `todict` function,\n",
    "which returns a simplified dictionary representation of the data."
   ],
   "metadata": {}
  },
  {
   "outputs": [
    {
     "output_type": "execute_result",
     "data": {
      "text/plain": "Dict{String, Float64} with 9 entries:\n  \"AtomicNonlocal\" => 0.658899\n  \"PspCorrection\"  => 6.08846\n  \"Ewald\"          => -171.89\n  \"total\"          => -234.216\n  \"Entropy\"        => -0.0383971\n  \"Kinetic\"        => 79.7534\n  \"AtomicLocal\"    => -154.422\n  \"Hartree\"        => 36.1749\n  \"Xc\"             => -30.5409"
     },
     "metadata": {},
     "execution_count": 5
    }
   ],
   "cell_type": "code",
   "source": [
    "DFTK.todict(scfres.energies)"
   ],
   "metadata": {},
   "execution_count": 5
  },
  {
   "cell_type": "markdown",
   "source": [
    "This in turn can be easily written to disk using a JSON library.\n",
    "Currently we integrate most closely with `JSON3`,\n",
    "which is thus recommended."
   ],
   "metadata": {}
  },
  {
   "outputs": [
    {
     "name": "stdout",
     "output_type": "stream",
     "text": [
      "{\n",
      "    \"AtomicNonlocal\": 0.6588990528557028,\n",
      "    \"PspCorrection\": 6.088457202681564,\n",
      "    \"Ewald\": -171.88999401525265,\n",
      "    \"total\": -234.21552463463138,\n",
      "    \"Entropy\": -0.03839705073930062,\n",
      "    \"Kinetic\": 79.75342284464416,\n",
      "    \"AtomicLocal\": -154.4219231227132,\n",
      "    \"Hartree\": 36.17494499629599,\n",
      "    \"Xc\": -30.54093454240362\n",
      "}\n"
     ]
    }
   ],
   "cell_type": "code",
   "source": [
    "using JSON3\n",
    "open(\"iron_afm_energies.json\", \"w\") do io\n",
    "    JSON3.pretty(io, DFTK.todict(scfres.energies))\n",
    "end\n",
    "println(read(\"iron_afm_energies.json\", String))"
   ],
   "metadata": {},
   "execution_count": 6
  },
  {
   "cell_type": "markdown",
   "source": [
    "Once JSON3 is loaded, additionally a convenience function for saving\n",
    "a summary of `scfres` objects using `save_scfres` is available:"
   ],
   "metadata": {}
  },
  {
   "outputs": [],
   "cell_type": "code",
   "source": [
    "using JSON3\n",
    "save_scfres(\"iron_afm.json\", scfres)"
   ],
   "metadata": {},
   "execution_count": 7
  },
  {
   "cell_type": "markdown",
   "source": [
    "Similarly a summary of the band data (occupations, eigenvalues, εF, etc.)\n",
    "for post-processing can be dumped using `save_bands`:"
   ],
   "metadata": {}
  },
  {
   "outputs": [],
   "cell_type": "code",
   "source": [
    "save_bands(\"iron_afm_scfres.json\", scfres)"
   ],
   "metadata": {},
   "execution_count": 8
  },
  {
   "cell_type": "markdown",
   "source": [
    "Notably this function works both for the results obtained\n",
    "by `self_consistent_field` as well as `compute_bands`:"
   ],
   "metadata": {}
  },
  {
   "outputs": [
    {
     "name": "stdout",
     "output_type": "stream",
     "text": [
      "┌ Warning: The provided cell is a supercell: the returned k-path is the standard k-path of the associated primitive cell in the basis of the supercell reciprocal lattice.\n",
      "│   cell =\n",
      "│    Spglib.SpglibCell{Float64, Float64, Int64, Float64}\n",
      "│     lattice:\n",
      "│       5.41999997388764  0.0  0.0\n",
      "│       0.0  5.41999997388764  0.0\n",
      "│       0.0  0.0  5.41999997388764\n",
      "│     2 atomic positions:\n",
      "│       0.0  0.0  0.0\n",
      "│       0.5  0.5  0.5\n",
      "│     2 atoms:\n",
      "│       1  1\n",
      "│     2 magmoms:\n",
      "│       0.0  0.0\n",
      "│    \n",
      "└ @ BrillouinSpglibExt ~/.julia/packages/Brillouin/FwrEN/ext/BrillouinSpglibExt.jl:28\n",
      "┌ Warning: Negative ρcore detected: -0.010160696831625975\n",
      "└ @ DFTK ~/work/DFTK.jl/DFTK.jl/src/terms/xc.jl:39\n"
     ]
    }
   ],
   "cell_type": "code",
   "source": [
    "bands = compute_bands(scfres, kline_density=10)\n",
    "save_bands(\"iron_afm_bands.json\", bands)"
   ],
   "metadata": {},
   "execution_count": 9
  },
  {
   "cell_type": "markdown",
   "source": [
    "## Writing and reading JLD2 files\n",
    "The full state of a DFTK self-consistent field calculation can be\n",
    "stored on disk in form of an [JLD2.jl](https://github.com/JuliaIO/JLD2.jl) file.\n",
    "This file can be read from other Julia scripts\n",
    "as well as other external codes supporting the HDF5 file format\n",
    "(since the JLD2 format is based on HDF5). This includes notably `h5py`\n",
    "to read DFTK output from python."
   ],
   "metadata": {}
  },
  {
   "outputs": [],
   "cell_type": "code",
   "source": [
    "using JLD2\n",
    "save_scfres(\"iron_afm.jld2\", scfres)"
   ],
   "metadata": {},
   "execution_count": 10
  },
  {
   "cell_type": "markdown",
   "source": [
    "Saving such JLD2 files supports some options, such as `save_ψ=false`, which avoids saving\n",
    "the Bloch waves (much faster and smaller files). Notice that JLD2 files can also be used\n",
    "with `save_bands`."
   ],
   "metadata": {}
  },
  {
   "cell_type": "markdown",
   "source": [
    "Since such JLD2 can also be read by DFTK to start or continue a calculation,\n",
    "these can also be used for checkpointing or for transferring results\n",
    "to a different computer.\n",
    "See Saving SCF results on disk and SCF checkpoints for details."
   ],
   "metadata": {}
  },
  {
   "cell_type": "markdown",
   "source": [
    "(Cleanup files generated by this notebook.)"
   ],
   "metadata": {}
  },
  {
   "outputs": [],
   "cell_type": "code",
   "source": [
    "rm.([\"iron_afm.vts\", \"iron_afm.jld2\",\n",
    "     \"iron_afm.json\", \"iron_afm_energies.json\", \"iron_afm_scfres.json\",\n",
    "     \"iron_afm_bands.json\"]);"
   ],
   "metadata": {},
   "execution_count": 11
  }
 ],
 "nbformat_minor": 3,
 "metadata": {
  "language_info": {
   "file_extension": ".jl",
   "mimetype": "application/julia",
   "name": "julia",
   "version": "1.12.0"
  },
  "kernelspec": {
   "name": "julia-1.12",
   "display_name": "Julia 1.12.0",
   "language": "julia"
  }
 },
 "nbformat": 4
}
