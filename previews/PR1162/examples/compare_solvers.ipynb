{
 "cells": [
  {
   "cell_type": "markdown",
   "source": [
    "# Comparison of DFT solvers"
   ],
   "metadata": {}
  },
  {
   "cell_type": "markdown",
   "source": [
    "We compare four different approaches for solving the DFT minimisation problem,\n",
    "namely a density-based SCF, a potential-based SCF, direct minimisation and Newton."
   ],
   "metadata": {}
  },
  {
   "cell_type": "markdown",
   "source": [
    "First we setup our problem"
   ],
   "metadata": {}
  },
  {
   "outputs": [
    {
     "name": "stdout",
     "output_type": "stream",
     "text": [
      " Downloading artifact: dojo.nc.sr.pbesol.v0_4_1.standard.upf\n"
     ]
    },
    {
     "output_type": "execute_result",
     "data": {
      "text/plain": "1.0e-6"
     },
     "metadata": {},
     "execution_count": 1
    }
   ],
   "cell_type": "code",
   "source": [
    "using AtomsBuilder\n",
    "using DFTK\n",
    "using LinearAlgebra\n",
    "using PseudoPotentialData\n",
    "\n",
    "pseudopotentials = PseudoFamily(\"dojo.nc.sr.pbesol.v0_4_1.standard.upf\")\n",
    "model = model_DFT(bulk(:Si); functionals=PBEsol(), pseudopotentials)\n",
    "basis = PlaneWaveBasis(model; Ecut=5, kgrid=[3, 3, 3])\n",
    "\n",
    "# Convergence we desire in the density\n",
    "tol = 1e-6"
   ],
   "metadata": {},
   "execution_count": 1
  },
  {
   "cell_type": "markdown",
   "source": [
    "## Density-based self-consistent field"
   ],
   "metadata": {}
  },
  {
   "outputs": [
    {
     "name": "stdout",
     "output_type": "stream",
     "text": [
      "n     Energy            log10(ΔE)   log10(Δρ)   Diag   Δtime\n",
      "---   ---------------   ---------   ---------   ----   ------\n",
      "  1   -8.397815877140                   -0.90    5.2   27.6ms\n",
      "  2   -8.400238361214       -2.62       -1.73    1.0   19.1ms\n",
      "  3   -8.400402429978       -3.78       -2.95    1.5   19.9ms\n",
      "  4   -8.400427746381       -4.60       -2.91    3.2   24.6ms\n",
      "  5   -8.400427982463       -6.63       -3.09    1.0   19.0ms\n",
      "  6   -8.400428147274       -6.78       -5.03    1.0   70.6ms\n",
      "  7   -8.400428151913       -8.33       -4.51    3.2   26.2ms\n",
      "  8   -8.400428152200       -9.54       -5.79    1.2   20.4ms\n",
      "  9   -8.400428152209      -11.07       -6.23    2.0   22.6ms\n"
     ]
    }
   ],
   "cell_type": "code",
   "source": [
    "scfres_scf = self_consistent_field(basis; tol);"
   ],
   "metadata": {},
   "execution_count": 2
  },
  {
   "cell_type": "markdown",
   "source": [
    "## Potential-based SCF"
   ],
   "metadata": {}
  },
  {
   "outputs": [
    {
     "name": "stdout",
     "output_type": "stream",
     "text": [
      "n     Energy            log10(ΔE)   log10(Δρ)   α      Diag   Δtime\n",
      "---   ---------------   ---------   ---------   ----   ----   ------\n",
      "  1   -8.397818300903                   -0.90           5.0    770ms\n",
      "  2   -8.400385642999       -2.59       -1.79   0.80    2.2    495ms\n",
      "  3   -8.400423203899       -4.43       -3.02   0.80    1.0    207ms\n",
      "  4   -8.400428109924       -5.31       -3.50   0.80    2.5   20.7ms\n",
      "  5   -8.400428148927       -7.41       -4.85   0.80    1.0   16.4ms\n",
      "  6   -8.400428152203       -8.48       -5.58   0.80    3.2   22.5ms\n",
      "  7   -8.400428152209      -11.28       -6.45   0.80    1.0   16.8ms\n"
     ]
    }
   ],
   "cell_type": "code",
   "source": [
    "scfres_scfv = DFTK.scf_potential_mixing(basis; tol);"
   ],
   "metadata": {},
   "execution_count": 3
  },
  {
   "cell_type": "markdown",
   "source": [
    "## Direct minimization"
   ],
   "metadata": {}
  },
  {
   "outputs": [
    {
     "name": "stdout",
     "output_type": "stream",
     "text": [
      "┌ Warning: x_tol is deprecated. Use x_abstol or x_reltol instead. The provided value (-1) will be used as x_abstol.\n",
      "└ @ Optim ~/.julia/packages/Optim/7krni/src/types.jl:110\n",
      "┌ Warning: f_tol is deprecated. Use f_abstol or f_reltol instead. The provided value (-1) will be used as f_reltol.\n",
      "└ @ Optim ~/.julia/packages/Optim/7krni/src/types.jl:120\n",
      "n     Energy            log10(ΔE)   log10(Δρ)   Δtime\n",
      "---   ---------------   ---------   ---------   ------\n",
      "  1   +0.970021156820                   -1.05    3.52s\n",
      "  2   -1.896490357628        0.46       -0.70    141ms\n",
      "  3   -4.839677377880        0.47       -0.38   43.7ms\n",
      "  4   -6.650325530993        0.26       -0.51   43.3ms\n",
      "  5   -7.804558040399        0.06       -0.89   83.2ms\n",
      "  6   -8.124406522898       -0.50       -1.26   32.2ms\n",
      "  7   -8.248764968722       -0.91       -1.90   32.4ms\n",
      "  8   -8.339042192453       -1.04       -1.93   32.7ms\n",
      "  9   -8.363130122385       -1.62       -2.16   32.5ms\n",
      " 10   -8.385733530526       -1.65       -2.38   55.8ms\n",
      " 11   -8.392597179834       -2.16       -2.47   32.6ms\n",
      " 12   -8.397035739008       -2.35       -2.57   32.3ms\n",
      " 13   -8.398694066304       -2.78       -3.16   32.4ms\n",
      " 14   -8.399594548083       -3.05       -3.02   32.7ms\n",
      " 15   -8.400016374650       -3.37       -3.21   32.4ms\n",
      " 16   -8.400232395213       -3.67       -3.19   37.4ms\n",
      " 17   -8.400344651818       -3.95       -3.77   32.2ms\n",
      " 18   -8.400391484207       -4.33       -3.48   32.6ms\n",
      " 19   -8.400415798120       -4.61       -4.00   32.5ms\n",
      " 20   -8.400422197130       -5.19       -3.73   37.2ms\n",
      " 21   -8.400426299485       -5.39       -4.02   32.3ms\n",
      " 22   -8.400427299145       -6.00       -4.38   32.3ms\n",
      " 23   -8.400427863656       -6.25       -5.26   32.2ms\n",
      " 24   -8.400428022096       -6.80       -4.85   36.6ms\n",
      " 25   -8.400428098473       -7.12       -5.14   32.3ms\n",
      " 26   -8.400428126073       -7.56       -5.34   32.3ms\n",
      " 27   -8.400428142034       -7.80       -5.64   32.3ms\n",
      " 28   -8.400428146762       -8.33       -5.72   37.1ms\n",
      " 29   -8.400428150205       -8.46       -6.19   32.8ms\n"
     ]
    }
   ],
   "cell_type": "code",
   "source": [
    "scfres_dm = direct_minimization(basis; tol);"
   ],
   "metadata": {},
   "execution_count": 4
  },
  {
   "cell_type": "markdown",
   "source": [
    "## Newton algorithm"
   ],
   "metadata": {}
  },
  {
   "cell_type": "markdown",
   "source": [
    "Start not too far from the solution to ensure convergence:\n",
    "We run first a very crude SCF to get close and then switch to Newton."
   ],
   "metadata": {}
  },
  {
   "outputs": [
    {
     "name": "stdout",
     "output_type": "stream",
     "text": [
      "n     Energy            log10(ΔE)   log10(Δρ)   Diag   Δtime\n",
      "---   ---------------   ---------   ---------   ----   ------\n",
      "  1   -8.397838742750                   -0.90    5.5   28.3ms\n"
     ]
    }
   ],
   "cell_type": "code",
   "source": [
    "scfres_start = self_consistent_field(basis; tol=0.5);"
   ],
   "metadata": {},
   "execution_count": 5
  },
  {
   "cell_type": "markdown",
   "source": [
    "Remove the virtual orbitals (which Newton cannot treat yet)"
   ],
   "metadata": {}
  },
  {
   "outputs": [
    {
     "name": "stdout",
     "output_type": "stream",
     "text": [
      "n     Energy            log10(ΔE)   log10(Δρ)   Δtime\n",
      "---   ---------------   ---------   ---------   ------\n",
      "  1   -8.400427980395                   -1.79    8.21s\n",
      "  2   -8.400428152209       -6.76       -4.03    3.08s\n",
      "  3   -8.400428152209      -14.45       -7.82    141ms\n"
     ]
    }
   ],
   "cell_type": "code",
   "source": [
    "ψ = DFTK.select_occupied_orbitals(basis, scfres_start.ψ, scfres_start.occupation).ψ\n",
    "scfres_newton = newton(basis, ψ; tol);"
   ],
   "metadata": {},
   "execution_count": 6
  },
  {
   "cell_type": "markdown",
   "source": [
    "## Comparison of results"
   ],
   "metadata": {}
  },
  {
   "outputs": [
    {
     "name": "stdout",
     "output_type": "stream",
     "text": [
      "|ρ_newton - ρ_scf|  = 2.9748064101557237e-7\n",
      "|ρ_newton - ρ_scfv| = 3.8982448433523255e-7\n",
      "|ρ_newton - ρ_dm|   = 2.0268891439612135e-6\n"
     ]
    }
   ],
   "cell_type": "code",
   "source": [
    "println(\"|ρ_newton - ρ_scf|  = \", norm(scfres_newton.ρ - scfres_scf.ρ))\n",
    "println(\"|ρ_newton - ρ_scfv| = \", norm(scfres_newton.ρ - scfres_scfv.ρ))\n",
    "println(\"|ρ_newton - ρ_dm|   = \", norm(scfres_newton.ρ - scfres_dm.ρ))"
   ],
   "metadata": {},
   "execution_count": 7
  }
 ],
 "nbformat_minor": 3,
 "metadata": {
  "language_info": {
   "file_extension": ".jl",
   "mimetype": "application/julia",
   "name": "julia",
   "version": "1.12.0"
  },
  "kernelspec": {
   "name": "julia-1.12",
   "display_name": "Julia 1.12.0",
   "language": "julia"
  }
 },
 "nbformat": 4
}
