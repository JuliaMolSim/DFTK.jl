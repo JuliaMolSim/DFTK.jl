{
 "cells": [
  {
   "cell_type": "markdown",
   "source": [
    "# Elastic constants"
   ],
   "metadata": {}
  },
  {
   "cell_type": "markdown",
   "source": [
    "We compute *clamped-ion* elastic constants of a crystal using the algorithmic differentiation\n",
    "density-functional perturbation theory (AD-DFPT) approach as introduced in [^SPH25].\n",
    "\n",
    "[^SPH25]:\n",
    "    Schmitz, N. F., Ploumhans, B., & Herbst, M. F. (2025)\n",
    "    *Algorithmic differentiation for plane-wave DFT: materials design, error control and learning model parameters.*\n",
    "    [arXiv:2509.07785](https://arxiv.org/abs/2509.07785)"
   ],
   "metadata": {}
  },
  {
   "cell_type": "markdown",
   "source": [
    "We consider a crystal in its equilibrium configuration, where all atomic forces\n",
    "and stresses vanish.  Homogeneous strains `η` are then applied\n",
    "relative to this relaxed structure.\n",
    "The elastic constants are derived from the stress-strain relationship.\n",
    "In [Voigt notation](https://en.wikipedia.org/wiki/Voigt_notation),\n",
    "the stress $\\sigma$ and strain $\\eta$ tensors are represented as 6-component vectors.\n",
    "The elastic constants $C$ are then given by\n",
    "the Jacobian of the stress with respect to strain, forming a $6 \\times 6$ matrix\n",
    "$$\n",
    "  C = \\frac{\\partial \\sigma}{\\partial \\eta}.\n",
    "$$\n",
    "\n",
    "\n",
    "The sparsity pattern of the matrix $C$ follows from crystal symmetry\n",
    "and is tabulated in standard references (eg. Table 9 in [^Nye1985]).\n",
    "This sparsity can be used a priori to reduce the number of strain patterns\n",
    "that need to be probed to extract all independent components of $C$.\n",
    "For example, cubic crystals have only three independent elastic constants $C_{11}$, $C_{12}$ and $C_{44}$,\n",
    "with the pattern\n",
    "$$\n",
    "C = \\begin{pmatrix}\n",
    "  C_{11} & C_{12} & C_{12} & 0      & 0      & 0 \\\\\n",
    "  C_{12} & C_{11} & C_{12} & 0      & 0      & 0 \\\\\n",
    "  C_{12} & C_{12} & C_{11} & 0      & 0      & 0 \\\\\n",
    "  0      & 0      & 0      & C_{44} & 0      & 0 \\\\\n",
    "  0      & 0      & 0      & 0      & C_{44} & 0 \\\\\n",
    "  0      & 0      & 0      & 0      & 0      & C_{44} \\\\\n",
    "\\end{pmatrix}.\n",
    "$$\n",
    "Thus we can just choose a suitable strain pattern $\\dot{\\eta} = (1, 0, 0, 1, 0, 0)^\\top$,\n",
    "such that $C\\dot{\\eta} = (C_{11}, C_{12}, C_{12}, C_{44}, 0, 0)^\\top$. That is,\n",
    "for cubic crystals like diamond silicon we obtain all independent elastic\n",
    "constants from a single Jacobian-vector product on the stress-strain function.\n",
    "\n",
    "[^Nye1985]:\n",
    "     Nye, J. F. (1985).\n",
    "     *Physical Properties of Crystals*. Oxford University Press.\n",
    "     Comment: Since the elastic tensor transforms equivariantly under rotations,\n",
    "     its numerical components depend on the chosen Cartesian coordinate frame.\n",
    "     These tabulated patterns assume a standardized orientation of the structure\n",
    "     with respect to conventional crystallographic axes.\n",
    "\n",
    "This example computes the *clamped-ion* elastic tensor, keeping internal\n",
    "atomic positions fixed under strain.  The *relaxed-ion* tensor includes\n",
    "additional corrections from internal relaxations, which can be obtained\n",
    "from first-order atomic displacements in DFPT (see [^Wu2005]).\n",
    "\n",
    "[^Wu2005]:\n",
    "    Wu, X., Vanderbilt, D., & Hamann, D. R. (2005).\n",
    "    *Systematic treatment of displacements, strains, and electric fields in density-functional perturbation theory.*\n",
    "    [Physical Review B, 72(3), 035105](https://doi.org/10.1103/PhysRevB.72.035105)."
   ],
   "metadata": {}
  },
  {
   "outputs": [
    {
     "output_type": "execute_result",
     "data": {
      "text/plain": "6-element Vector{Float64}:\n 1.0\n 0.0\n 0.0\n 1.0\n 0.0\n 0.0"
     },
     "metadata": {},
     "execution_count": 1
    }
   ],
   "cell_type": "code",
   "source": [
    "using DFTK\n",
    "using PseudoPotentialData\n",
    "using LinearAlgebra\n",
    "using ForwardDiff\n",
    "using DifferentiationInterface\n",
    "using AtomsBuilder\n",
    "using Unitful\n",
    "using UnitfulAtomic\n",
    "\n",
    "\n",
    "pseudopotentials = PseudoFamily(\"dojo.nc.sr.pbe.v0_4_1.standard.upf\")\n",
    "a0_pbe = 10.33u\"bohr\"  # Equilibrium lattice constant of silicon with PBE\n",
    "model0 = model_DFT(bulk(:Si; a=a0_pbe); pseudopotentials, functionals=PBE())\n",
    "\n",
    "Ecut = recommended_cutoff(model0).Ecut\n",
    "kgrid = [4, 4, 4]\n",
    "tol = 1e-6\n",
    "\n",
    "function symmetries_from_strain(model0, voigt_strain)\n",
    "    lattice = DFTK.voigt_strain_to_full(voigt_strain) * model0.lattice\n",
    "    model = Model(model0; lattice, symmetries=true)\n",
    "    model.symmetries\n",
    "end\n",
    "\n",
    "\n",
    "strain_pattern = [1., 0., 0., 1., 0., 0.]  # should yield [c11, c12, c12, c44, 0, 0] for cubic crystal"
   ],
   "metadata": {},
   "execution_count": 1
  },
  {
   "cell_type": "markdown",
   "source": [
    "For elastic constants beyond the bulk modulus, symmetry-breaking strains\n",
    "are required. That is, the symmetry group of the crystal is reduced.\n",
    "Here we simply precompute the relevant subgroup by applying the automatic\n",
    "symmetry detection (spglib) to the finitely perturbed crystal."
   ],
   "metadata": {}
  },
  {
   "outputs": [
    {
     "name": "stdout",
     "output_type": "stream",
     "text": [
      "n     Energy            log10(ΔE)   log10(Δρ)   Diag   Δtime\n",
      "---   ---------------   ---------   ---------   ----   ------\n",
      "  1   -8.453484001519                   -0.94    5.5    981ms\n",
      "  2   -8.455625403048       -2.67       -1.77    1.0    766ms\n",
      "  3   -8.455776985589       -3.82       -2.88    1.9    206ms\n",
      "  4   -8.455790074373       -4.88       -3.28    2.9    346ms\n",
      "  5   -8.455790174728       -7.00       -3.77    1.1    805ms\n",
      "  6   -8.455790186594       -7.93       -4.85    1.3    168ms\n",
      "  7   -8.455790187698       -8.96       -5.29    3.1    277ms\n",
      "  8   -8.455790187713      -10.82       -6.02    1.2    171ms\n",
      "Solving response problem\n",
      "Iter  Restart  Krydim  log10(res)  avg(CG)  Δtime   Comment\n",
      "----  -------  ------  ----------  -------  ------  ---------------\n",
      "                                      62.9   903ms  Non-interacting\n",
      "   1        0       1        0.11     47.4   6.20s  \n",
      "   2        0       2       -0.70     42.6   731ms  \n",
      "   3        0       3       -1.71     36.6   650ms  \n",
      "   4        0       4       -2.78     28.6   543ms  \n",
      "   5        0       5       -4.04     19.4   417ms  \n",
      "   6        0       6       -5.59      6.6   247ms  \n",
      "   7        0       7       -7.82      4.0   215ms  \n",
      "   8        1       1       -6.27     59.8   1.14s  Restart\n",
      "                                      62.2   957ms  Final orbitals\n",
      "c11 = 156.51847329381894 GPa\n",
      "c12 = 59.57457791544446 GPa\n",
      "c44 = 98.61672056619193 GPa\n"
     ]
    },
    {
     "output_type": "execute_result",
     "data": {
      "text/plain": "98.61672056619193 GPa"
     },
     "metadata": {},
     "execution_count": 2
    }
   ],
   "cell_type": "code",
   "source": [
    "symmetries_strain = symmetries_from_strain(model0, 0.01 * strain_pattern)\n",
    "\n",
    "\n",
    "function stress_from_strain(model0, voigt_strain; symmetries, Ecut, kgrid, tol)\n",
    "    lattice = DFTK.voigt_strain_to_full(voigt_strain) * model0.lattice\n",
    "    model = Model(model0; lattice, symmetries)\n",
    "    basis = PlaneWaveBasis(model; Ecut, kgrid)\n",
    "    scfres = self_consistent_field(basis; tol)\n",
    "    DFTK.full_stress_to_voigt(compute_stresses_cart(scfres))\n",
    "end\n",
    "\n",
    "stress_fn(voigt_strain) = stress_from_strain(model0, voigt_strain; symmetries=symmetries_strain, Ecut, kgrid, tol)\n",
    "stress, (dstress,) = value_and_pushforward(stress_fn, AutoForwardDiff(), zeros(6), (strain_pattern,))\n",
    "\n",
    "c11 = uconvert(u\"GPa\", dstress[1] * u\"hartree\" / u\"bohr\"^3)\n",
    "c12 = uconvert(u\"GPa\", dstress[2] * u\"hartree\" / u\"bohr\"^3)\n",
    "c44 = uconvert(u\"GPa\", dstress[4] * u\"hartree\" / u\"bohr\"^3)\n",
    "@show c11 c12 c44"
   ],
   "metadata": {},
   "execution_count": 2
  },
  {
   "cell_type": "markdown",
   "source": [
    "These results can be compared directly to finite differences of the stress-strain relation:"
   ],
   "metadata": {}
  },
  {
   "outputs": [
    {
     "name": "stdout",
     "output_type": "stream",
     "text": [
      "n     Energy            log10(ΔE)   log10(Δρ)   Diag   Δtime\n",
      "---   ---------------   ---------   ---------   ----   ------\n",
      "  1   -8.453551383389                   -0.94    5.4    453ms\n",
      "  2   -8.455642101622       -2.68       -1.77    1.0    161ms\n",
      "  3   -8.455783655031       -3.85       -2.89    1.9    211ms\n",
      "  4   -8.455795206751       -4.94       -3.33    3.0    294ms\n",
      "  5   -8.455795304783       -7.01       -3.89    1.2    172ms\n",
      "  6   -8.455795314607       -8.01       -5.09    1.6    197ms\n",
      "  7   -8.455795315195       -9.23       -5.64    3.1    301ms\n",
      "  8   -8.455795315198      -11.61       -6.19    1.3    180ms\n",
      "n     Energy            log10(ΔE)   log10(Δρ)   Diag   Δtime\n",
      "---   ---------------   ---------   ---------   ----   ------\n",
      "  1   -8.453474487547                   -0.94    5.4    431ms\n",
      "  2   -8.455613801106       -2.67       -1.77    1.0    158ms\n",
      "  3   -8.455770508600       -3.80       -2.88    2.0    216ms\n",
      "  4   -8.455782150337       -4.93       -3.34    2.9    284ms\n",
      "  5   -8.455782244779       -7.02       -3.90    1.2    166ms\n",
      "  6   -8.455782253690       -8.05       -4.88    1.6    194ms\n",
      "  7   -8.455782254359       -9.17       -5.38    2.9    280ms\n",
      "  8   -8.455782254371      -10.93       -6.39    1.5    194ms\n",
      "c11_fd = 156.28524182127543 GPa\n",
      "c12_fd = 59.512644761280555 GPa\n",
      "c44_fd = 98.53773256303401 GPa\n"
     ]
    },
    {
     "output_type": "execute_result",
     "data": {
      "text/plain": "98.53773256303401 GPa"
     },
     "metadata": {},
     "execution_count": 3
    }
   ],
   "cell_type": "code",
   "source": [
    "h = 1e-3\n",
    "dstress_fd = (stress_fn(h * strain_pattern) - stress_fn(-h * strain_pattern)) / 2h\n",
    "c11_fd = uconvert(u\"GPa\", dstress_fd[1] * u\"hartree\" / u\"bohr\"^3)\n",
    "c12_fd = uconvert(u\"GPa\", dstress_fd[2] * u\"hartree\" / u\"bohr\"^3)\n",
    "c44_fd = uconvert(u\"GPa\", dstress_fd[4] * u\"hartree\" / u\"bohr\"^3)\n",
    "@show c11_fd c12_fd c44_fd"
   ],
   "metadata": {},
   "execution_count": 3
  },
  {
   "cell_type": "markdown",
   "source": [
    "Here are AD-DFPT results from increasing discretization parameters:\n",
    "| Ecut | kgrid         | c11    | c12   | c44    |\n",
    "|------|---------------|--------|-------|--------|\n",
    "| 18   | [4, 4, 4]     | 156.51 | 59.57 |  98.61 |\n",
    "| 18   | [8, 8, 8]     | 153.53 | 56.90 | 100.07 |\n",
    "| 24   | [8, 8, 8]     | 153.26 | 56.82 |  99.97 |\n",
    "| 24   | [14, 14, 14]  | 153.03 | 56.71 | 100.09 |\n",
    "\n",
    "For comparison, Materials Project for PBE *relaxed-ion* elastic constants of silicon [mp-149](https://next-gen.materialsproject.org/materials/mp-149):\n",
    "c11 = 153 GPa, c12 = 57 GPa, c44 = 74 GPa\n",
    "Note the discrepancy in c44, which is due to us not yet including ionic relaxation in this example."
   ],
   "metadata": {}
  }
 ],
 "nbformat_minor": 3,
 "metadata": {
  "language_info": {
   "file_extension": ".jl",
   "mimetype": "application/julia",
   "name": "julia",
   "version": "1.12.0"
  },
  "kernelspec": {
   "name": "julia-1.12",
   "display_name": "Julia 1.12.0",
   "language": "julia"
  }
 },
 "nbformat": 4
}
