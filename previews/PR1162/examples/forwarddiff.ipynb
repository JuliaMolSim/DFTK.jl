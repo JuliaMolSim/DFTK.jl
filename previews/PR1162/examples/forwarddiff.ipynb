{
 "cells": [
  {
   "cell_type": "markdown",
   "source": [
    "# Polarizability using automatic differentiation\n",
    "\n",
    "Simple example for computing properties using (forward-mode)\n",
    "automatic differentiation.\n",
    "For a more classical approach and more details about computing polarizabilities,\n",
    "see Polarizability by linear response."
   ],
   "metadata": {}
  },
  {
   "outputs": [],
   "cell_type": "code",
   "source": [
    "using DFTK\n",
    "using LinearAlgebra\n",
    "using ForwardDiff\n",
    "using PseudoPotentialData\n",
    "\n",
    "# Construct PlaneWaveBasis given a particular electric field strength\n",
    "# Again we take the example of a Helium atom.\n",
    "function make_basis(ε::T; a=10., Ecut=30) where {T}\n",
    "    lattice = T(a) * I(3)  # lattice is a cube of $a$ Bohrs\n",
    "    # Helium at the center of the box\n",
    "    pseudopotentials = PseudoFamily(\"cp2k.nc.sr.lda.v0_1.semicore.gth\")\n",
    "    atoms     = [ElementPsp(:He, pseudopotentials)]\n",
    "    positions = [[1/2, 1/2, 1/2]]\n",
    "\n",
    "    model = model_DFT(lattice, atoms, positions;\n",
    "                      functionals=[:lda_x, :lda_c_vwn],\n",
    "                      extra_terms=[ExternalFromReal(r -> -ε * (r[1] - a/2))],\n",
    "                      symmetries=false)\n",
    "    PlaneWaveBasis(model; Ecut, kgrid=[1, 1, 1])  # No k-point sampling on isolated system\n",
    "end\n",
    "\n",
    "# dipole moment of a given density (assuming the current geometry)\n",
    "function dipole(basis, ρ)\n",
    "    @assert isdiag(basis.model.lattice)\n",
    "    a  = basis.model.lattice[1, 1]\n",
    "    rr = [a * (r[1] - 1/2) for r in r_vectors(basis)]\n",
    "    sum(rr .* ρ) * basis.dvol\n",
    "end\n",
    "\n",
    "# Function to compute the dipole for a given field strength\n",
    "function compute_dipole(ε; tol=1e-8, kwargs...)\n",
    "    scfres = self_consistent_field(make_basis(ε; kwargs...); tol)\n",
    "    dipole(scfres.basis, scfres.ρ)\n",
    "end;"
   ],
   "metadata": {},
   "execution_count": 1
  },
  {
   "cell_type": "markdown",
   "source": [
    "With this in place we can compute the polarizability from finite differences\n",
    "(just like in the previous example):"
   ],
   "metadata": {}
  },
  {
   "outputs": [
    {
     "name": "stdout",
     "output_type": "stream",
     "text": [
      "n     Energy            log10(ΔE)   log10(Δρ)   Diag   Δtime\n",
      "---   ---------------   ---------   ---------   ----   ------\n",
      "  1   -2.770828322609                   -0.52    9.0    172ms\n",
      "  2   -2.772142426381       -2.88       -1.32    1.0    114ms\n",
      "  3   -2.772170298372       -4.55       -2.52    1.0    101ms\n",
      "  4   -2.772170670897       -6.43       -3.35    1.0    106ms\n",
      "  5   -2.772170722235       -7.29       -4.01    2.0    123ms\n",
      "  6   -2.772170722982       -9.13       -4.90    1.0    108ms\n",
      "  7   -2.772170723013      -10.51       -5.50    1.0    110ms\n",
      "  8   -2.772170723015      -11.79       -6.22    2.0    134ms\n",
      "  9   -2.772170723015      -14.15       -6.72    1.0    116ms\n",
      " 10   -2.772170723015      -13.64       -7.39    2.0    134ms\n",
      " 11   -2.772170723015   +  -13.85       -8.03    1.0    117ms\n",
      "n     Energy            log10(ΔE)   log10(Δρ)   Diag   Δtime\n",
      "---   ---------------   ---------   ---------   ----   ------\n",
      "  1   -2.770807997169                   -0.52    9.0    182ms\n",
      "  2   -2.772062121501       -2.90       -1.32    1.0    102ms\n",
      "  3   -2.772083096790       -4.68       -2.46    1.0    105ms\n",
      "  4   -2.772083347263       -6.60       -3.16    1.0    107ms\n",
      "  5   -2.772083417171       -7.16       -4.08    2.0    125ms\n",
      "  6   -2.772083417681       -9.29       -4.55    1.0    111ms\n",
      "  7   -2.772083417808       -9.89       -5.93    1.0    178ms\n",
      "  8   -2.772083417810      -11.70       -5.76    2.0    739ms\n",
      "  9   -2.772083417811      -12.44       -6.82    1.0    110ms\n",
      " 10   -2.772083417811      -14.57       -8.24    1.0    110ms\n"
     ]
    },
    {
     "output_type": "execute_result",
     "data": {
      "text/plain": "1.7735579341557428"
     },
     "metadata": {},
     "execution_count": 2
    }
   ],
   "cell_type": "code",
   "source": [
    "polarizability_fd = let\n",
    "    ε = 0.01\n",
    "    (compute_dipole(ε) - compute_dipole(0.0)) / ε\n",
    "end"
   ],
   "metadata": {},
   "execution_count": 2
  },
  {
   "cell_type": "markdown",
   "source": [
    "We do the same thing using automatic differentiation. Under the hood this uses\n",
    "custom rules to implicitly differentiate through the self-consistent\n",
    "field fixed-point problem. This leads to a density-functional perturbation\n",
    "theory problem, which is automatically set up and solved in the background."
   ],
   "metadata": {}
  },
  {
   "outputs": [
    {
     "name": "stdout",
     "output_type": "stream",
     "text": [
      "n     Energy            log10(ΔE)   log10(Δρ)   Diag   Δtime\n",
      "---   ---------------   ---------   ---------   ----   ------\n",
      "  1   -2.770773614040                   -0.52    9.0    195ms\n",
      "  2   -2.772059897500       -2.89       -1.33    1.0    100ms\n",
      "  3   -2.772082857773       -4.64       -2.40    1.0    109ms\n",
      "  4   -2.772083336262       -6.32       -3.11    1.0    108ms\n",
      "  5   -2.772083417633       -7.09       -4.64    2.0    126ms\n",
      "  6   -2.772083417741       -9.97       -4.62    2.0    127ms\n",
      "  7   -2.772083417809      -10.17       -5.53    1.0    113ms\n",
      "  8   -2.772083417811      -11.77       -6.61    2.0    131ms\n",
      "  9   -2.772083417811      -14.45       -7.62    1.0    114ms\n",
      " 10   -2.772083417811      -14.12       -8.33    2.0    129ms\n",
      "Solving response problem\n",
      "Iter  Restart  Krydim  log10(res)  avg(CG)  Δtime   Comment\n",
      "----  -------  ------  ----------  -------  ------  ---------------\n",
      "                                      13.0   158ms  Non-interacting\n",
      "   1        0       1       -0.60     10.0   784ms  \n",
      "   2        0       2       -2.42      8.0   115ms  \n",
      "   3        0       3       -3.55      6.0   113ms  \n",
      "   4        0       4       -5.33      5.0   105ms  \n",
      "   5        0       5       -7.92      2.0  91.4ms  \n",
      "   6        0       6      -10.50      1.0  86.8ms  \n",
      "   7        1       1       -9.03     11.0   219ms  Restart\n",
      "                                      13.0   133ms  Final orbitals\n",
      "\n",
      "Polarizability via ForwardDiff:       1.7725349820950391\n",
      "Polarizability via finite difference: 1.7735579341557428\n"
     ]
    }
   ],
   "cell_type": "code",
   "source": [
    "polarizability = ForwardDiff.derivative(compute_dipole, 0.0)\n",
    "println()\n",
    "println(\"Polarizability via ForwardDiff:       $polarizability\")\n",
    "println(\"Polarizability via finite difference: $polarizability_fd\")"
   ],
   "metadata": {},
   "execution_count": 3
  }
 ],
 "nbformat_minor": 3,
 "metadata": {
  "language_info": {
   "file_extension": ".jl",
   "mimetype": "application/julia",
   "name": "julia",
   "version": "1.12.0"
  },
  "kernelspec": {
   "name": "julia-1.12",
   "display_name": "Julia 1.12.0",
   "language": "julia"
  }
 },
 "nbformat": 4
}
