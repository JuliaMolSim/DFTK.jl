{
 "cells": [
  {
   "cell_type": "markdown",
   "source": [
    "# Modelling a gallium arsenide surface\n",
    "\n",
    "This example shows how to use the atomistic simulation environment or ASE for short,\n",
    "to set up and run a particular calculation of a gallium arsenide surface.\n",
    "ASE is a Python package to simplify the process of setting up,\n",
    "running and analysing results from atomistic simulations across different simulation codes.\n",
    "For more details on the integration DFTK provides with ASE,\n",
    "see Atomistic simulation environment (ASE).\n",
    "\n",
    "In this example we will consider modelling the (1, 1, 0) GaAs surface separated by vacuum."
   ],
   "metadata": {}
  },
  {
   "cell_type": "markdown",
   "source": [
    "Parameters of the calculation. Since this surface is far from easy to converge,\n",
    "we made the problem simpler by choosing a smaller `Ecut` and smaller values\n",
    "for `n_GaAs` and `n_vacuum`.\n",
    "More interesting settings are `Ecut = 15` and `n_GaAs = n_vacuum = 20`."
   ],
   "metadata": {}
  },
  {
   "outputs": [],
   "cell_type": "code",
   "source": [
    "miller = (1, 1, 0)   # Surface Miller indices\n",
    "n_GaAs = 2           # Number of GaAs layers\n",
    "n_vacuum = 4         # Number of vacuum layers\n",
    "Ecut = 5             # Hartree\n",
    "kgrid = (4, 4, 1);   # Monkhorst-Pack mesh"
   ],
   "metadata": {},
   "execution_count": 1
  },
  {
   "cell_type": "markdown",
   "source": [
    "Use ASE to build the structure:"
   ],
   "metadata": {}
  },
  {
   "outputs": [],
   "cell_type": "code",
   "source": [
    "using ASEconvert\n",
    "using PythonCall\n",
    "\n",
    "a = 5.6537  # GaAs lattice parameter in Ångström (because ASE uses Å as length unit)\n",
    "gaas = ase.build.bulk(\"GaAs\", \"zincblende\"; a)\n",
    "surface = ase.build.surface(gaas, miller, n_GaAs, 0, periodic=true);"
   ],
   "metadata": {},
   "execution_count": 2
  },
  {
   "cell_type": "markdown",
   "source": [
    "Get the amount of vacuum in Ångström we need to add"
   ],
   "metadata": {}
  },
  {
   "outputs": [],
   "cell_type": "code",
   "source": [
    "d_vacuum = maximum(maximum, surface.cell) / n_GaAs * n_vacuum\n",
    "surface = ase.build.surface(gaas, miller, n_GaAs, d_vacuum, periodic=true);"
   ],
   "metadata": {},
   "execution_count": 3
  },
  {
   "cell_type": "markdown",
   "source": [
    "Write an image of the surface and embed it as a nice illustration:"
   ],
   "metadata": {}
  },
  {
   "outputs": [
    {
     "output_type": "execute_result",
     "data": {
      "text/plain": "Python: None"
     },
     "metadata": {},
     "execution_count": 4
    }
   ],
   "cell_type": "code",
   "source": [
    "ase.io.write(\"surface.png\", surface * pytuple((3, 3, 1)), rotation=\"-90x, 30y, -75z\")"
   ],
   "metadata": {},
   "execution_count": 4
  },
  {
   "cell_type": "markdown",
   "source": [
    "<img src=\"https://docs.dftk.org/stable/surface.png\" width=500 height=500 />"
   ],
   "metadata": {}
  },
  {
   "cell_type": "markdown",
   "source": [
    "Use the `pyconvert` function from `PythonCall` to convert the ASE atoms\n",
    "to an AtomsBase-compatible system.\n",
    "This can then be used in the same way as other `AtomsBase` systems\n",
    "(see AtomsBase integration for details) to construct a DFTK model:"
   ],
   "metadata": {}
  },
  {
   "outputs": [
    {
     "name": "stdout",
     "output_type": "stream",
     "text": [
      " Downloading artifact: cp2k.nc.sr.pbe.v0_1.largecore.gth\n"
     ]
    },
    {
     "output_type": "execute_result",
     "data": {
      "text/plain": "Model(gga_x_pbe+gga_c_pbe, 3D):\n    lattice (in Bohr)    : [7.55469   , 0         , 0         ]\n                           [0         , 7.55469   , 0         ]\n                           [0         , 0         , 40.0648   ]\n    unit cell volume     : 2286.6 Bohr³\n\n    atoms                : As₂Ga₂\n    pseudopot. family    : PseudoFamily(\"cp2k.nc.sr.pbe.v0_1.largecore.gth\")\n\n    num. electrons       : 16\n    spin polarization    : none\n    temperature          : 0.001 Ha\n    smearing             : DFTK.Smearing.Gaussian()\n\n    terms                : Kinetic()\n                           AtomicLocal()\n                           AtomicNonlocal()\n                           Ewald(nothing)\n                           PspCorrection()\n                           Hartree()\n                           Xc(gga_x_pbe, gga_c_pbe)\n                           Entropy()"
     },
     "metadata": {},
     "execution_count": 5
    }
   ],
   "cell_type": "code",
   "source": [
    "using DFTK\n",
    "using PseudoPotentialData\n",
    "\n",
    "pseudopotentials = PseudoFamily(\"cp2k.nc.sr.pbe.v0_1.largecore.gth\")\n",
    "model = model_DFT(pyconvert(AbstractSystem, surface);\n",
    "                  functionals=PBE(),\n",
    "                  temperature=1e-3,\n",
    "                  smearing=DFTK.Smearing.Gaussian(),\n",
    "                  pseudopotentials)"
   ],
   "metadata": {},
   "execution_count": 5
  },
  {
   "cell_type": "markdown",
   "source": [
    "In the above we use the `pseudopotential` keyword argument to\n",
    "assign the respective pseudopotentials to the imported `model.atoms`.\n",
    "Try lowering the SCF convergence tolerance (`tol`)\n",
    "or try `mixing=KerkerMixing()` to see the full challenge of this system."
   ],
   "metadata": {}
  },
  {
   "outputs": [
    {
     "name": "stdout",
     "output_type": "stream",
     "text": [
      "n     Energy            log10(ΔE)   log10(Δρ)   Diag   Δtime\n",
      "---   ---------------   ---------   ---------   ----   ------\n",
      "  1   -16.58883311284                   -0.58    5.2    8.54s\n",
      "  2   -16.72521305253       -0.87       -1.01    1.0    4.26s\n",
      "  3   -16.73055666622       -2.27       -1.57    2.0    386ms\n",
      "  4   -16.73122118171       -3.18       -2.16    1.0    306ms\n",
      "  5   -16.73132377634       -3.99       -2.59    1.9    734ms\n",
      "  6   -16.73133032883       -5.18       -2.84    2.0    256ms\n",
      "  7   -16.73056666447   +   -3.12       -2.37    2.4    282ms\n",
      "  8   -16.73132791466       -3.12       -2.99    2.2    249ms\n",
      "  9   -16.73130320350   +   -4.61       -3.00    2.0    256ms\n",
      " 10   -16.73131399391       -4.97       -3.07    1.8    234ms\n",
      " 11   -16.73133531598       -4.67       -3.42    1.1    209ms\n",
      " 12   -16.73133781344       -5.60       -3.56    1.0    211ms\n",
      " 13   -16.73133948136       -5.78       -3.82    1.0    210ms\n",
      " 14   -16.73134019298       -6.15       -4.67    1.3    220ms\n",
      " 15   -16.73134017501   +   -7.75       -4.56    2.3    292ms\n",
      " 16   -16.73134016963   +   -8.27       -4.52    1.0    209ms\n",
      " 17   -16.73134017435       -8.33       -4.55    1.0    209ms\n",
      " 18   -16.73134017103   +   -8.48       -4.53    1.0    209ms\n",
      " 19   -16.73134020027       -7.53       -5.32    1.4    218ms\n",
      " 20   -16.73134020042       -9.83       -5.73    2.3    264ms\n",
      " 21   -16.73134020040   +  -10.73       -5.71    1.8    242ms\n",
      " 22   -16.73134020043      -10.63       -6.02    1.0    210ms\n"
     ]
    }
   ],
   "cell_type": "code",
   "source": [
    "basis  = PlaneWaveBasis(model; Ecut, kgrid)\n",
    "scfres = self_consistent_field(basis; tol=1e-6, mixing=LdosMixing());"
   ],
   "metadata": {},
   "execution_count": 6
  },
  {
   "outputs": [
    {
     "output_type": "execute_result",
     "data": {
      "text/plain": "Energy breakdown (in Ha):\n    Kinetic             5.8593974 \n    AtomicLocal         -105.6100197\n    AtomicNonlocal      2.3494810 \n    Ewald               35.5044300\n    PspCorrection       0.2016043 \n    Hartree             49.5614342\n    Xc                  -4.5976638\n    Entropy             -0.0000035\n\n    total               -16.731340200426"
     },
     "metadata": {},
     "execution_count": 7
    }
   ],
   "cell_type": "code",
   "source": [
    "scfres.energies"
   ],
   "metadata": {},
   "execution_count": 7
  }
 ],
 "nbformat_minor": 3,
 "metadata": {
  "language_info": {
   "file_extension": ".jl",
   "mimetype": "application/julia",
   "name": "julia",
   "version": "1.12.0"
  },
  "kernelspec": {
   "name": "julia-1.12",
   "display_name": "Julia 1.12.0",
   "language": "julia"
  }
 },
 "nbformat": 4
}
