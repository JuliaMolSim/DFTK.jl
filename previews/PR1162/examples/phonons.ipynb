{
 "cells": [
  {
   "cell_type": "markdown",
   "source": [
    "# Phonon computations\n",
    "\n",
    "This is a quick sketch how to run a simple phonon calculation using DFTK."
   ],
   "metadata": {}
  },
  {
   "cell_type": "markdown",
   "source": [
    "> **Preliminary implementation**\n",
    ">\n",
    "> Practical phonon computations have only seen rudimentary testing as of now.\n",
    "> As of now we do not yet recommend relying on this feature for production\n",
    "> calculations. We appreciate any issues, bug reports or PRs.\n",
    "\n",
    "First we run an SCF calculation."
   ],
   "metadata": {}
  },
  {
   "outputs": [
    {
     "name": "stdout",
     "output_type": "stream",
     "text": [
      "n     Energy            log10(ΔE)   log10(Δρ)   Diag   Δtime\n",
      "---   ---------------   ---------   ---------   ----   ------\n",
      "  1   -7.916474679381                   -0.69    4.8    109ms\n",
      "  2   -7.921208160538       -2.32       -1.52    1.0   79.4ms\n",
      "  3   -7.921403808925       -3.71       -2.49    1.4   59.1ms\n",
      "  4   -7.921440850717       -4.43       -2.81    2.8   78.9ms\n",
      "  5   -7.921441542246       -6.16       -2.95    1.0   55.7ms\n",
      "  6   -7.921442006228       -6.33       -4.45    1.0   55.9ms\n",
      "  7   -7.921442021671       -7.81       -4.53    2.8    100ms\n",
      "  8   -7.921442022127       -9.34       -5.19    1.0   56.8ms\n",
      "  9   -7.921442022142      -10.82       -5.57    1.2   59.0ms\n",
      " 10   -7.921442022143      -12.10       -5.69    1.5   62.2ms\n",
      " 11   -7.921442022144      -11.91       -6.96    1.0    280ms\n",
      " 12   -7.921442022144      -13.15       -6.95    2.8   93.8ms\n",
      " 13   -7.921442022144      -14.75       -7.78    1.0   57.1ms\n",
      " 14   -7.921442022144   +    -Inf       -8.01    1.2   60.9ms\n"
     ]
    }
   ],
   "cell_type": "code",
   "source": [
    "using AtomsBuilder\n",
    "using DFTK\n",
    "using PseudoPotentialData\n",
    "\n",
    "pseudopotentials = PseudoFamily(\"cp2k.nc.sr.lda.v0_1.semicore.gth\")\n",
    "model  = model_DFT(bulk(:Si); pseudopotentials, functionals=LDA())\n",
    "basis  = PlaneWaveBasis(model; Ecut=10, kgrid=[4, 4, 4])\n",
    "scfres = self_consistent_field(basis, tol=1e-8);\n",
    "nothing  # hide"
   ],
   "metadata": {},
   "execution_count": 1
  },
  {
   "cell_type": "markdown",
   "source": [
    "Next we compute the phonon modes at the q-point `[1/4, 1/4, 1/4]`."
   ],
   "metadata": {}
  },
  {
   "outputs": [
    {
     "name": "stdout",
     "output_type": "stream",
     "text": [
      "Iter  Restart  Krydim  log10(res)  avg(CG)  Δtime   Comment\n",
      "----  -------  ------  ----------  -------  ------  ---------------\n",
      "                                      73.0   2.59s  Non-interacting\n",
      "   1        0       1        0.31     52.6   9.17s  \n",
      "   2        0       2       -0.52     47.0   1.59s  \n",
      "   3        0       3       -2.40     41.8   1.37s  \n",
      "   4        0       4       -4.46     29.7   1.10s  \n",
      "   5        0       5       -6.46     17.5   783ms  \n",
      "   6        0       6       -8.91      4.0   429ms  \n",
      "   7        1       1       -7.81     55.9   2.78s  Restart\n",
      "   8        1       2       -8.90      5.6   467ms  \n",
      "                                      72.8   2.04s  Final orbitals\n",
      "Iter  Restart  Krydim  log10(res)  avg(CG)  Δtime   Comment\n",
      "----  -------  ------  ----------  -------  ------  ---------------\n",
      "                                      73.0   1.89s  Non-interacting\n",
      "   1        0       1        0.31     52.6   1.74s  \n",
      "   2        0       2       -0.52     47.0   1.50s  \n",
      "   3        0       3       -2.40     41.8   1.38s  \n",
      "   4        0       4       -4.46     29.7   1.06s  \n",
      "   5        0       5       -6.46     17.5   755ms  \n",
      "   6        0       6       -8.91      4.0   412ms  \n",
      "   7        1       1       -7.81     55.9   2.03s  Restart\n",
      "   8        1       2       -8.90      5.6   445ms  \n",
      "                                      72.8   2.00s  Final orbitals\n",
      "Iter  Restart  Krydim  log10(res)  avg(CG)  Δtime   Comment\n",
      "----  -------  ------  ----------  -------  ------  ---------------\n",
      "                                      73.0   1.88s  Non-interacting\n",
      "   1        0       1        0.31     52.6   1.75s  \n",
      "   2        0       2       -0.52     47.0   2.17s  \n",
      "   3        0       3       -2.40     41.8   1.34s  \n",
      "   4        0       4       -4.46     29.7   1.08s  \n",
      "   5        0       5       -6.46     17.5   779ms  \n",
      "   6        0       6       -8.91      4.0   425ms  \n",
      "   7        1       1       -7.81     55.9   2.04s  Restart\n",
      "   8        1       2       -8.90      5.6   462ms  \n",
      "                                      72.8   2.03s  Final orbitals\n",
      "Iter  Restart  Krydim  log10(res)  avg(CG)  Δtime   Comment\n",
      "----  -------  ------  ----------  -------  ------  ---------------\n",
      "                                      73.0   1.89s  Non-interacting\n",
      "   1        0       1        0.31     52.6   1.75s  \n",
      "   2        0       2       -0.52     47.0   1.51s  \n",
      "   3        0       3       -2.40     41.8   1.37s  \n",
      "   4        0       4       -4.46     29.7   1.11s  \n",
      "   5        0       5       -6.46     17.4   875ms  \n",
      "   6        0       6       -8.91      4.0   425ms  \n",
      "   7        1       1       -7.82     55.8   2.03s  Restart\n",
      "   8        1       2       -8.98      5.6   1.13s  \n",
      "                                      72.8   2.00s  Final orbitals\n",
      "Iter  Restart  Krydim  log10(res)  avg(CG)  Δtime   Comment\n",
      "----  -------  ------  ----------  -------  ------  ---------------\n",
      "                                      73.0   1.91s  Non-interacting\n",
      "   1        0       1        0.31     52.6   1.77s  \n",
      "   2        0       2       -0.52     47.0   1.50s  \n",
      "   3        0       3       -2.40     41.8   1.37s  \n",
      "   4        0       4       -4.46     29.7   1.08s  \n",
      "   5        0       5       -6.46     17.4   764ms  \n",
      "   6        0       6       -8.91      4.0   430ms  \n",
      "   7        1       1       -7.82     55.8   2.04s  Restart\n",
      "   8        1       2       -8.98      5.6   461ms  \n",
      "                                      72.8   2.06s  Final orbitals\n",
      "Iter  Restart  Krydim  log10(res)  avg(CG)  Δtime   Comment\n",
      "----  -------  ------  ----------  -------  ------  ---------------\n",
      "                                      73.0   1.88s  Non-interacting\n",
      "   1        0       1        0.31     52.6   1.75s  \n",
      "   2        0       2       -0.52     47.0   1.50s  \n",
      "   3        0       3       -2.40     41.8   1.39s  \n",
      "   4        0       4       -4.46     29.7   1.75s  \n",
      "   5        0       5       -6.46     17.4   723ms  \n",
      "   6        0       6       -8.91      4.0   413ms  \n",
      "   7        1       1       -7.82     55.8   2.07s  Restart\n",
      "   8        1       2       -8.98      5.6   470ms  \n",
      "                                      72.8   2.04s  Final orbitals\n",
      "118.502853 seconds (151.91 M allocations: 82.858 GiB, 7.13% gc time, 24.61% compilation time)\n"
     ]
    }
   ],
   "cell_type": "code",
   "source": [
    "scfres = DFTK.unfold_bz(scfres)\n",
    "phret_q0 = @time DFTK.phonon_modes(scfres; q=[0.25, 0.25, 0.25]);\n",
    "nothing  # hide"
   ],
   "metadata": {},
   "execution_count": 2
  },
  {
   "cell_type": "markdown",
   "source": [
    "These are the final phonon frequencies:"
   ],
   "metadata": {}
  },
  {
   "outputs": [
    {
     "output_type": "execute_result",
     "data": {
      "text/plain": "6-element Vector{Float64}:\n -0.0034981553511830993\n -0.0029774511552584115\n -0.0029774511548889574\n  0.004302230648874873\n  0.004302230648972435\n  0.004353201776256149"
     },
     "metadata": {},
     "execution_count": 3
    }
   ],
   "cell_type": "code",
   "source": [
    "phret_q0.frequencies"
   ],
   "metadata": {},
   "execution_count": 3
  }
 ],
 "nbformat_minor": 3,
 "metadata": {
  "language_info": {
   "file_extension": ".jl",
   "mimetype": "application/julia",
   "name": "julia",
   "version": "1.12.0"
  },
  "kernelspec": {
   "name": "julia-1.12",
   "display_name": "Julia 1.12.0",
   "language": "julia"
  }
 },
 "nbformat": 4
}
