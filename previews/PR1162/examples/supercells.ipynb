{
 "cells": [
  {
   "cell_type": "markdown",
   "source": [
    "# Creating and modelling metallic supercells\n",
    "\n",
    "In this section we will be concerned with modelling supercells of aluminium.\n",
    "When dealing with periodic problems there is no unique definition of the\n",
    "lattice: Clearly any duplication of the lattice along an axis is also a valid\n",
    "repetitive unit to describe exactly the same system.\n",
    "This is exactly what a **supercell** is: An $n$-fold repetition along one (or multiple)\n",
    "axes of the original lattice.\n",
    "\n",
    "The following code achieves this for aluminium:"
   ],
   "metadata": {}
  },
  {
   "outputs": [],
   "cell_type": "code",
   "source": [
    "using AtomsBuilder\n",
    "using DFTK\n",
    "using LinearAlgebra\n",
    "using Unitful\n",
    "using UnitfulAtomic\n",
    "using PseudoPotentialData\n",
    "\n",
    "function aluminium_setup(repeat=1; Ecut=7.0, kgrid=[2, 2, 2])\n",
    "    # Use AtomsBuilder to setup aluminium cubic unit cell (4 Al atoms)\n",
    "    # with provided lattice constant, see AtomsBase integration for details.\n",
    "    unit_cell = bulk(:Al; a=7.65339u\"bohr\", cubic=true)\n",
    "    supercell = unit_cell * (repeat, 1, 1)  # Make a supercell\n",
    "\n",
    "    # Select standard pseudodojo pseudopotentials, construct an LDA model, discretize\n",
    "    # Note: We disable symmetries explicitly here. Otherwise the problem sizes\n",
    "    #       we are able to run on the CI are too simple to observe the numerical\n",
    "    #       instabilities we want to trigger here.\n",
    "    pseudopotentials = PseudoFamily(\"dojo.nc.sr.lda.v0_4_1.standard.upf\")\n",
    "    model = model_DFT(supercell; pseudopotentials, functionals=LDA(),\n",
    "                      temperature=1e-3, symmetries=false)\n",
    "    PlaneWaveBasis(model; Ecut, kgrid)\n",
    "end;"
   ],
   "metadata": {},
   "execution_count": 1
  },
  {
   "cell_type": "markdown",
   "source": [
    "As expected we obtain the unit cell for `repeat=1`:"
   ],
   "metadata": {}
  },
  {
   "outputs": [
    {
     "output_type": "execute_result",
     "data": {
      "text/plain": "PlaneWaveBasis discretization:\n    architecture         : DFTK.CPU()\n    num. mpi processes   : 1\n    num. julia threads   : 1\n    num. DFTK  threads   : 1\n    num. blas  threads   : 2\n    num. fft   threads   : 1\n\n    Ecut                 : 7.0 Ha\n    fft_size             : (24, 24, 24), 13824 total points\n    kgrid                : MonkhorstPack([2, 2, 2])\n    num.   red. kpoints  : 8\n    num. irred. kpoints  : 8\n\n    Discretized Model(lda_x+lda_c_pw, 3D):\n        lattice (in Bohr)    : [7.65339   , 0         , 0         ]\n                               [0         , 7.65339   , 0         ]\n                               [0         , 0         , 7.65339   ]\n        unit cell volume     : 448.29 Bohr³\n    \n        atoms                : Al₄\n        pseudopot. family    : PseudoFamily(\"dojo.nc.sr.lda.v0_4_1.standard.upf\")\n    \n        num. electrons       : 12\n        spin polarization    : none\n        temperature          : 0.001 Ha\n        smearing             : DFTK.Smearing.FermiDirac()\n    \n        terms                : Kinetic()\n                               AtomicLocal()\n                               AtomicNonlocal()\n                               Ewald(nothing)\n                               PspCorrection()\n                               Hartree()\n                               Xc(lda_x, lda_c_pw)\n                               Entropy()"
     },
     "metadata": {},
     "execution_count": 2
    }
   ],
   "cell_type": "code",
   "source": [
    "aluminium_setup(1)"
   ],
   "metadata": {},
   "execution_count": 2
  },
  {
   "cell_type": "markdown",
   "source": [
    "and 5-fold as large supercell with `repeat=5`:"
   ],
   "metadata": {}
  },
  {
   "outputs": [
    {
     "output_type": "execute_result",
     "data": {
      "text/plain": "PlaneWaveBasis discretization:\n    architecture         : DFTK.CPU()\n    num. mpi processes   : 1\n    num. julia threads   : 1\n    num. DFTK  threads   : 1\n    num. blas  threads   : 2\n    num. fft   threads   : 1\n\n    Ecut                 : 7.0 Ha\n    fft_size             : (96, 24, 24), 55296 total points\n    kgrid                : MonkhorstPack([2, 2, 2])\n    num.   red. kpoints  : 8\n    num. irred. kpoints  : 8\n\n    Discretized Model(lda_x+lda_c_pw, 3D):\n        lattice (in Bohr)    : [38.267    , 0         , 0         ]\n                               [0         , 7.65339   , 0         ]\n                               [0         , 0         , 7.65339   ]\n        unit cell volume     : 2241.5 Bohr³\n    \n        atoms                : Al₂₀\n        pseudopot. family    : PseudoFamily(\"dojo.nc.sr.lda.v0_4_1.standard.upf\")\n    \n        num. electrons       : 60\n        spin polarization    : none\n        temperature          : 0.001 Ha\n        smearing             : DFTK.Smearing.FermiDirac()\n    \n        terms                : Kinetic()\n                               AtomicLocal()\n                               AtomicNonlocal()\n                               Ewald(nothing)\n                               PspCorrection()\n                               Hartree()\n                               Xc(lda_x, lda_c_pw)\n                               Entropy()"
     },
     "metadata": {},
     "execution_count": 3
    }
   ],
   "cell_type": "code",
   "source": [
    "aluminium_setup(5)"
   ],
   "metadata": {},
   "execution_count": 3
  },
  {
   "cell_type": "markdown",
   "source": [
    "As we will see in this notebook the modelling of a system generally becomes\n",
    "harder if the system becomes larger.\n",
    "\n",
    "- This sounds like a trivial statement as *per se* the cost per SCF step increases\n",
    "  as the system (and thus $N$) gets larger.\n",
    "- But there is more to it:\n",
    "  If one is not careful also the *number of SCF iterations* increases\n",
    "  as the system gets larger.\n",
    "- The aim of a proper computational treatment of such supercells is therefore\n",
    "  to ensure that the **number of SCF iterations remains constant** when the\n",
    "  system size increases."
   ],
   "metadata": {}
  },
  {
   "cell_type": "markdown",
   "source": [
    "For achieving the latter DFTK by default employs the `LdosMixing`\n",
    "preconditioner [^HL2021] during the SCF iterations. This mixing approach is\n",
    "completely parameter free, but still automatically adapts to the treated\n",
    "system in order to efficiently prevent charge sloshing. As a result,\n",
    "modelling aluminium slabs indeed takes roughly the same number of SCF iterations\n",
    "irrespective of the supercell size:\n",
    "\n",
    "[^HL2021]:\n",
    "   M. F. Herbst and A. Levitt.\n",
    "   *Black-box inhomogeneous preconditioning for self-consistent field iterations in density functional theory.*\n",
    "   J. Phys. Cond. Matt *33* 085503 (2021). [ArXiv:2009.01665](https://arxiv.org/abs/2009.01665)"
   ],
   "metadata": {}
  },
  {
   "outputs": [
    {
     "name": "stdout",
     "output_type": "stream",
     "text": [
      "n     Energy            log10(ΔE)   log10(Δρ)   Diag   Δtime\n",
      "---   ---------------   ---------   ---------   ----   ------\n",
      "  1   -9.355079178900                   -1.10    6.1    141ms\n",
      "  2   -9.356770917343       -2.77       -1.44    1.0   73.5ms\n",
      "  3   -9.357065870780       -3.53       -2.80    3.9    124ms\n",
      "  4   -9.357110452401       -4.35       -3.02    5.8    170ms\n",
      "  5   -9.357110868498       -6.38       -3.15    2.9   91.5ms\n",
      "  6   -9.357111161609       -6.53       -3.29    1.5   84.1ms\n",
      "  7   -9.357111355517       -6.71       -3.45    2.1   83.8ms\n",
      "  8   -9.357111440410       -7.07       -3.60    1.0   73.1ms\n",
      "  9   -9.357111489694       -7.31       -3.84    1.0   71.0ms\n",
      " 10   -9.357111503415       -7.86       -4.07    2.4   90.3ms\n"
     ]
    }
   ],
   "cell_type": "code",
   "source": [
    "self_consistent_field(aluminium_setup(1); tol=1e-4);"
   ],
   "metadata": {},
   "execution_count": 4
  },
  {
   "outputs": [
    {
     "name": "stdout",
     "output_type": "stream",
     "text": [
      "n     Energy            log10(ΔE)   log10(Δρ)   Diag   Δtime\n",
      "---   ---------------   ---------   ---------   ----   ------\n",
      "  1   -18.74732821048                   -0.97    6.0    378ms\n",
      "┌ Warning: Eigensolver not converged\n",
      "│   n_iter =\n",
      "│    8-element Vector{Int64}:\n",
      "│     5\n",
      "│     1\n",
      "│     1\n",
      "│     1\n",
      "│     1\n",
      "│     6\n",
      "│     1\n",
      "│     1\n",
      "└ @ DFTK ~/work/DFTK.jl/DFTK.jl/src/scf/self_consistent_field.jl:76\n",
      "  2   -18.75458285841       -2.14       -1.34    2.1    253ms\n",
      "┌ Warning: Eigensolver not converged\n",
      "│   n_iter =\n",
      "│    8-element Vector{Int64}:\n",
      "│      3\n",
      "│      2\n",
      "│      3\n",
      "│     10\n",
      "│      2\n",
      "│      9\n",
      "│      1\n",
      "│      8\n",
      "└ @ DFTK ~/work/DFTK.jl/DFTK.jl/src/scf/self_consistent_field.jl:76\n",
      "  3   -18.79237921996       -1.42       -1.91    4.8    309ms\n",
      "  4   -18.79257223327       -3.71       -2.15    4.2    304ms\n",
      "  5   -18.79259648992       -4.62       -3.31    1.5    226ms\n",
      "  6   -18.79260562662       -5.04       -3.46    7.9    469ms\n",
      "  7   -18.79260627467       -6.19       -3.73    1.0    198ms\n",
      "  8   -18.79260638281       -6.97       -4.11    1.6    219ms\n"
     ]
    }
   ],
   "cell_type": "code",
   "source": [
    "self_consistent_field(aluminium_setup(2); tol=1e-4);"
   ],
   "metadata": {},
   "execution_count": 5
  },
  {
   "outputs": [
    {
     "name": "stdout",
     "output_type": "stream",
     "text": [
      "n     Energy            log10(ΔE)   log10(Δρ)   Diag   Δtime\n",
      "---   ---------------   ---------   ---------   ----   ------\n",
      "  1   -37.53798572137                   -0.84    8.9    2.07s\n",
      "  2   -37.55833070525       -1.69       -1.22    2.5    802ms\n",
      "  3   -37.55993120671       -2.80       -2.59    7.5    1.25s\n",
      "┌ Warning: Detected large minimal occupation 1.728520054247905. SCF could be unstable. Try switching to adaptive band selection (`nbandsalg=AdaptiveBands(model)`) or request more converged bands than 29 (e.g. `nbandsalg=AdaptiveBands(model; n_bands_converge=32`)\n",
      "└ @ DFTK ~/work/DFTK.jl/DFTK.jl/src/scf/self_consistent_field.jl:87\n",
      "  4   -37.56492416489       -2.30       -2.18   15.2    1.80s\n",
      "  5   -37.56492551344       -5.87       -2.18    4.6    958ms\n",
      "  6   -37.56493769600       -4.91       -2.24    1.0    753ms\n",
      "  7   -37.56491125889   +   -4.58       -2.61    2.4    1.30s\n",
      "  8   -37.56492984272       -4.73       -2.78    1.0    747ms\n",
      "  9   -37.56493312088       -5.48       -2.82    3.0    860ms\n",
      " 10   -37.56494293992       -5.01       -2.97    1.0    722ms\n",
      " 11   -37.56494916619       -5.21       -3.35    1.4    751ms\n",
      " 12   -37.56494940528       -6.62       -3.51    5.6    1.01s\n",
      " 13   -37.56494967618       -6.57       -3.80    1.8    794ms\n",
      " 14   -37.56494983443       -6.80       -4.27    2.9    917ms\n"
     ]
    }
   ],
   "cell_type": "code",
   "source": [
    "self_consistent_field(aluminium_setup(4); tol=1e-4);"
   ],
   "metadata": {},
   "execution_count": 6
  },
  {
   "cell_type": "markdown",
   "source": [
    "When switching off explicitly the `LdosMixing`, by selecting `mixing=SimpleMixing()`,\n",
    "the performance of number of required SCF steps starts to increase as we increase\n",
    "the size of the modelled problem:"
   ],
   "metadata": {}
  },
  {
   "outputs": [
    {
     "name": "stdout",
     "output_type": "stream",
     "text": [
      "n     Energy            log10(ΔE)   log10(Δρ)   Diag   Δtime\n",
      "---   ---------------   ---------   ---------   ----   ------\n",
      "  1   -9.355128612544                   -1.10    5.9    182ms\n",
      "  2   -9.356792289073       -2.78       -1.91    1.0   65.3ms\n",
      "  3   -9.357083750740       -3.54       -2.57    4.2    129ms\n",
      "  4   -9.357090544960       -5.17       -2.59    4.4    120ms\n",
      "  5   -9.357111223342       -4.68       -3.67    1.0    111ms\n",
      "  6   -9.357111417814       -6.71       -3.85    4.8    131ms\n",
      "  7   -9.357111506024       -7.05       -4.60    1.6    530ms\n"
     ]
    }
   ],
   "cell_type": "code",
   "source": [
    "self_consistent_field(aluminium_setup(1); tol=1e-4, mixing=SimpleMixing());"
   ],
   "metadata": {},
   "execution_count": 7
  },
  {
   "outputs": [
    {
     "name": "stdout",
     "output_type": "stream",
     "text": [
      "┌ Warning: Eigensolver not converged\n",
      "│   n_iter =\n",
      "│    8-element Vector{Int64}:\n",
      "│     11\n",
      "│      3\n",
      "│     14\n",
      "│      5\n",
      "│     19\n",
      "│      9\n",
      "│     14\n",
      "│      2\n",
      "└ @ DFTK ~/work/DFTK.jl/DFTK.jl/src/scf/self_consistent_field.jl:76\n",
      "n     Energy            log10(ΔE)   log10(Δρ)   Diag   Δtime\n",
      "---   ---------------   ---------   ---------   ----   ------\n",
      "  1   -37.54386694065                   -0.84    9.6    1.57s\n",
      "  2   -37.51464570573   +   -1.53       -1.49    3.4    759ms\n",
      "  3   -10.94619513623   +    1.42       -0.35   10.4    2.40s\n",
      "  4   -35.98532403038        1.40       -0.87    7.5    1.74s\n",
      "  5   -37.54100058307        0.19       -1.66    6.8    1.47s\n",
      "  6   -37.53004360823   +   -1.96       -1.65    1.8    749ms\n",
      "  7   -37.52158550249   +   -2.07       -1.64    2.2    809ms\n",
      "  8   -37.56286270212       -1.38       -1.98    1.8    751ms\n",
      "  9   -37.56305589292       -3.71       -2.17    2.9    930ms\n",
      " 10   -37.56407774626       -2.99       -2.40    2.4    1.41s\n",
      " 11   -37.56493721671       -3.07       -2.96    2.1    800ms\n",
      " 12   -37.56489331824   +   -4.36       -2.96    4.5    1.17s\n",
      " 13   -37.56493193464       -4.41       -3.18    2.0    828ms\n",
      " 14   -37.56494668701       -4.83       -3.64    1.8    773ms\n",
      " 15   -37.56494978200       -5.51       -4.22    4.2    1.14s\n"
     ]
    }
   ],
   "cell_type": "code",
   "source": [
    "self_consistent_field(aluminium_setup(4); tol=1e-4, mixing=SimpleMixing());"
   ],
   "metadata": {},
   "execution_count": 8
  },
  {
   "cell_type": "markdown",
   "source": [
    "For completion let us note that the more traditional `mixing=KerkerMixing()`\n",
    "approach would also help in this particular setting to obtain a constant\n",
    "number of SCF iterations for an increasing system size (try it!). In contrast\n",
    "to `LdosMixing`, however, `KerkerMixing` is only suitable to model bulk metallic\n",
    "system (like the case we are considering here). When modelling metallic surfaces\n",
    "or mixtures of metals and insulators, `KerkerMixing` fails, while `LdosMixing`\n",
    "still works well. See the Modelling a gallium arsenide surface example\n",
    "or [^HL2021] for details. Due to the general applicability of `LdosMixing` this\n",
    "method is the default mixing approach in DFTK."
   ],
   "metadata": {}
  }
 ],
 "nbformat_minor": 3,
 "metadata": {
  "language_info": {
   "file_extension": ".jl",
   "mimetype": "application/julia",
   "name": "julia",
   "version": "1.12.0"
  },
  "kernelspec": {
   "name": "julia-1.12",
   "display_name": "Julia 1.12.0",
   "language": "julia"
  }
 },
 "nbformat": 4
}
