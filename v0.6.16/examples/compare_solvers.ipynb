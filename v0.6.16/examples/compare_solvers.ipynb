{
 "cells": [
  {
   "cell_type": "markdown",
   "source": [
    "# Comparison of DFT solvers"
   ],
   "metadata": {}
  },
  {
   "cell_type": "markdown",
   "source": [
    "We compare four different approaches for solving the DFT minimisation problem,\n",
    "namely a density-based SCF, a potential-based SCF, direct minimisation and Newton."
   ],
   "metadata": {}
  },
  {
   "cell_type": "markdown",
   "source": [
    "First we setup our problem"
   ],
   "metadata": {}
  },
  {
   "outputs": [
    {
     "output_type": "execute_result",
     "data": {
      "text/plain": "1.0e-6"
     },
     "metadata": {},
     "execution_count": 1
    }
   ],
   "cell_type": "code",
   "source": [
    "using DFTK\n",
    "using LinearAlgebra\n",
    "\n",
    "a = 10.26  # Silicon lattice constant in Bohr\n",
    "lattice = a / 2 * [[0 1 1.];\n",
    "                   [1 0 1.];\n",
    "                   [1 1 0.]]\n",
    "Si = ElementPsp(:Si; psp=load_psp(\"hgh/lda/Si-q4\"))\n",
    "atoms     = [Si, Si]\n",
    "positions = [ones(3)/8, -ones(3)/8]\n",
    "\n",
    "model = model_LDA(lattice, atoms, positions)\n",
    "basis = PlaneWaveBasis(model; Ecut=5, kgrid=[3, 3, 3])\n",
    "\n",
    "# Convergence we desire in the density\n",
    "tol = 1e-6"
   ],
   "metadata": {},
   "execution_count": 1
  },
  {
   "cell_type": "markdown",
   "source": [
    "## Density-based self-consistent field"
   ],
   "metadata": {}
  },
  {
   "outputs": [
    {
     "name": "stdout",
     "output_type": "stream",
     "text": [
      "n     Energy            log10(ΔE)   log10(Δρ)   Diag   Δtime\n",
      "---   ---------------   ---------   ---------   ----   ------\n",
      "  1   -7.847750717977                   -0.70    4.8   30.6ms\n",
      "  2   -7.852401839074       -2.33       -1.53    1.0   17.3ms\n",
      "  3   -7.852607366913       -3.69       -2.54    1.0   17.0ms\n",
      "  4   -7.852645342785       -4.42       -2.78    2.2   67.3ms\n",
      "  5   -7.852646071392       -6.14       -2.87    1.0   17.3ms\n",
      "  6   -7.852646669005       -6.22       -3.98    1.0   17.1ms\n",
      "  7   -7.852646686252       -7.76       -4.53    1.8   20.4ms\n",
      "  8   -7.852646686705       -9.34       -5.35    1.2   18.3ms\n",
      "  9   -7.852646686719      -10.84       -5.27    1.8   19.8ms\n",
      " 10   -7.852646686729      -11.01       -5.87    1.0   17.9ms\n",
      " 11   -7.852646686730      -12.08       -6.86    1.0   17.4ms\n"
     ]
    }
   ],
   "cell_type": "code",
   "source": [
    "scfres_scf = self_consistent_field(basis; tol);"
   ],
   "metadata": {},
   "execution_count": 2
  },
  {
   "cell_type": "markdown",
   "source": [
    "## Potential-based SCF"
   ],
   "metadata": {}
  },
  {
   "outputs": [
    {
     "name": "stdout",
     "output_type": "stream",
     "text": [
      "n     Energy            log10(ΔE)   log10(Δρ)   α      Diag   Δtime\n",
      "---   ---------------   ---------   ---------   ----   ----   ------\n",
      "  1   -7.847785866858                   -0.70           4.8    552ms\n",
      "  2   -7.852561326627       -2.32       -1.62   0.80    2.0    498ms\n",
      "  3   -7.852641492499       -4.10       -2.69   0.80    1.0    301ms\n",
      "  4   -7.852646529901       -5.30       -3.38   0.80    1.8   19.3ms\n",
      "  5   -7.852646681225       -6.82       -4.37   0.80    1.8   18.5ms\n",
      "  6   -7.852646686620       -8.27       -4.82   0.80    2.2   21.2ms\n",
      "  7   -7.852646686726       -9.97       -5.51   0.80    1.0   15.9ms\n",
      "  8   -7.852646686730      -11.48       -6.70   0.80    1.5   17.8ms\n"
     ]
    }
   ],
   "cell_type": "code",
   "source": [
    "scfres_scfv = DFTK.scf_potential_mixing(basis; tol);"
   ],
   "metadata": {},
   "execution_count": 3
  },
  {
   "cell_type": "markdown",
   "source": [
    "## Direct minimization\n",
    "Note: Unlike the other algorithms, tolerance for this one is in the energy,\n",
    "thus we square the density tolerance value to be roughly equivalent."
   ],
   "metadata": {}
  },
  {
   "outputs": [
    {
     "name": "stdout",
     "output_type": "stream",
     "text": [
      "Iter     Function value   Gradient norm \n",
      "     0     1.427035e+01     3.444237e+00\n",
      " * time: 0.04597187042236328\n",
      "     1     1.070274e+00     1.768442e+00\n",
      " * time: 0.27100205421447754\n",
      "     2    -1.591883e+00     2.139380e+00\n",
      " * time: 0.2886168956756592\n",
      "     3    -3.800034e+00     1.782293e+00\n",
      " * time: 0.3139040470123291\n",
      "     4    -5.025576e+00     1.987891e+00\n",
      " * time: 0.3391458988189697\n",
      "     5    -6.761978e+00     1.198385e+00\n",
      " * time: 0.36451292037963867\n",
      "     6    -7.328938e+00     4.610408e-01\n",
      " * time: 0.38998985290527344\n",
      "     7    -7.572582e+00     3.017163e-01\n",
      " * time: 0.4076390266418457\n",
      "     8    -7.669602e+00     1.218459e-01\n",
      " * time: 0.4253678321838379\n",
      "     9    -7.731643e+00     1.218257e-01\n",
      " * time: 0.44299793243408203\n",
      "    10    -7.771973e+00     1.245007e-01\n",
      " * time: 0.46068787574768066\n",
      "    11    -7.808097e+00     8.620072e-02\n",
      " * time: 0.4784209728240967\n",
      "    12    -7.834978e+00     4.329769e-02\n",
      " * time: 0.4963810443878174\n",
      "    13    -7.848132e+00     2.315259e-02\n",
      " * time: 0.5141289234161377\n",
      "    14    -7.851289e+00     1.170433e-02\n",
      " * time: 0.531743049621582\n",
      "    15    -7.852339e+00     8.423049e-03\n",
      " * time: 0.5497369766235352\n",
      "    16    -7.852558e+00     5.012420e-03\n",
      " * time: 0.5674078464508057\n",
      "    17    -7.852624e+00     2.467389e-03\n",
      " * time: 0.5850269794464111\n",
      "    18    -7.852639e+00     1.203354e-03\n",
      " * time: 0.602668046951294\n",
      "    19    -7.852643e+00     7.940482e-04\n",
      " * time: 0.6209299564361572\n",
      "    20    -7.852646e+00     4.543134e-04\n",
      " * time: 0.6385998725891113\n",
      "    21    -7.852646e+00     2.248817e-04\n",
      " * time: 0.6562938690185547\n",
      "    22    -7.852647e+00     1.466325e-04\n",
      " * time: 0.6739449501037598\n",
      "    23    -7.852647e+00     7.310760e-05\n",
      " * time: 0.6916239261627197\n",
      "    24    -7.852647e+00     4.047682e-05\n",
      " * time: 0.7093410491943359\n",
      "    25    -7.852647e+00     2.242636e-05\n",
      " * time: 0.7270040512084961\n",
      "    26    -7.852647e+00     1.289246e-05\n",
      " * time: 0.7447018623352051\n",
      "    27    -7.852647e+00     6.609812e-06\n",
      " * time: 0.7624149322509766\n",
      "    28    -7.852647e+00     4.162215e-06\n",
      " * time: 0.7801229953765869\n",
      "    29    -7.852647e+00     3.056154e-06\n",
      " * time: 0.7978048324584961\n",
      "    30    -7.852647e+00     1.435621e-06\n",
      " * time: 0.8155429363250732\n",
      "    31    -7.852647e+00     8.089927e-07\n",
      " * time: 0.833366870880127\n",
      "    32    -7.852647e+00     4.695037e-07\n",
      " * time: 0.8511509895324707\n",
      "    33    -7.852647e+00     2.620038e-07\n",
      " * time: 0.8689768314361572\n",
      "    34    -7.852647e+00     1.538045e-07\n",
      " * time: 0.8868558406829834\n",
      "    35    -7.852647e+00     6.958609e-08\n",
      " * time: 0.9046909809112549\n",
      "    36    -7.852647e+00     5.293928e-08\n",
      " * time: 0.922806978225708\n",
      "    37    -7.852647e+00     2.489355e-08\n",
      " * time: 0.9406359195709229\n",
      "    38    -7.852647e+00     1.627907e-08\n",
      " * time: 0.9584510326385498\n",
      "    39    -7.852647e+00     9.689845e-09\n",
      " * time: 0.9762530326843262\n",
      "    40    -7.852647e+00     5.908684e-09\n",
      " * time: 0.9940290451049805\n",
      "    41    -7.852647e+00     3.490889e-09\n",
      " * time: 1.0122148990631104\n"
     ]
    }
   ],
   "cell_type": "code",
   "source": [
    "scfres_dm = direct_minimization(basis; tol=tol^2);"
   ],
   "metadata": {},
   "execution_count": 4
  },
  {
   "cell_type": "markdown",
   "source": [
    "## Newton algorithm"
   ],
   "metadata": {}
  },
  {
   "cell_type": "markdown",
   "source": [
    "Start not too far from the solution to ensure convergence:\n",
    "We run first a very crude SCF to get close and then switch to Newton."
   ],
   "metadata": {}
  },
  {
   "outputs": [
    {
     "name": "stdout",
     "output_type": "stream",
     "text": [
      "n     Energy            log10(ΔE)   log10(Δρ)   Diag   Δtime\n",
      "---   ---------------   ---------   ---------   ----   ------\n",
      "  1   -7.847766927299                   -0.70    4.5   30.3ms\n"
     ]
    }
   ],
   "cell_type": "code",
   "source": [
    "scfres_start = self_consistent_field(basis; tol=0.5);"
   ],
   "metadata": {},
   "execution_count": 5
  },
  {
   "cell_type": "markdown",
   "source": [
    "Remove the virtual orbitals (which Newton cannot treat yet)"
   ],
   "metadata": {}
  },
  {
   "outputs": [
    {
     "name": "stdout",
     "output_type": "stream",
     "text": [
      "n     Energy            log10(ΔE)   log10(Δρ)   Δtime\n",
      "---   ---------------   ---------   ---------   ------\n",
      "  1   -7.852645831302                   -1.63    3.65s\n",
      "  2   -7.852646686730       -6.07       -3.69    1.68s\n",
      "  3   -7.852646686730      -13.19       -7.19    124ms\n"
     ]
    }
   ],
   "cell_type": "code",
   "source": [
    "ψ = DFTK.select_occupied_orbitals(basis, scfres_start.ψ, scfres_start.occupation).ψ\n",
    "scfres_newton = newton(basis, ψ; tol);"
   ],
   "metadata": {},
   "execution_count": 6
  },
  {
   "cell_type": "markdown",
   "source": [
    "## Comparison of results"
   ],
   "metadata": {}
  },
  {
   "outputs": [
    {
     "name": "stdout",
     "output_type": "stream",
     "text": [
      "|ρ_newton - ρ_scf|  = 2.3334047560673926e-7\n",
      "|ρ_newton - ρ_scfv| = 4.103275347485547e-7\n",
      "|ρ_newton - ρ_dm|   = 7.369658346262652e-10\n"
     ]
    }
   ],
   "cell_type": "code",
   "source": [
    "println(\"|ρ_newton - ρ_scf|  = \", norm(scfres_newton.ρ - scfres_scf.ρ))\n",
    "println(\"|ρ_newton - ρ_scfv| = \", norm(scfres_newton.ρ - scfres_scfv.ρ))\n",
    "println(\"|ρ_newton - ρ_dm|   = \", norm(scfres_newton.ρ - scfres_dm.ρ))"
   ],
   "metadata": {},
   "execution_count": 7
  }
 ],
 "nbformat_minor": 3,
 "metadata": {
  "language_info": {
   "file_extension": ".jl",
   "mimetype": "application/julia",
   "name": "julia",
   "version": "1.9.4"
  },
  "kernelspec": {
   "name": "julia-1.9",
   "display_name": "Julia 1.9.4",
   "language": "julia"
  }
 },
 "nbformat": 4
}
