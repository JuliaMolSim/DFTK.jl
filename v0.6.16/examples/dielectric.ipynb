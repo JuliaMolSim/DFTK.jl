{
 "cells": [
  {
   "cell_type": "markdown",
   "source": [
    "# Eigenvalues of the dielectric matrix\n",
    "\n",
    "We compute a few eigenvalues of the dielectric matrix ($q=0$, $ω=0$) iteratively."
   ],
   "metadata": {}
  },
  {
   "outputs": [
    {
     "name": "stdout",
     "output_type": "stream",
     "text": [
      "n     Energy            log10(ΔE)   log10(Δρ)   Diag   Δtime\n",
      "---   ---------------   ---------   ---------   ----   ------\n",
      "  1   -7.235595008085                   -0.50    7.0   10.7ms\n",
      "  2   -7.250418659775       -1.83       -1.40    1.0   5.44ms\n",
      "  3   -7.251217673621       -3.10       -2.27    1.0   5.23ms\n",
      "  4   -7.251325664533       -3.97       -2.44    2.0   6.47ms\n",
      "  5   -7.251335394217       -5.01       -2.86    1.0   5.32ms\n",
      "  6   -7.251337412487       -5.70       -3.05    2.0   6.28ms\n",
      "  7   -7.251338724626       -5.88       -3.63    1.0   5.52ms\n",
      "  8   -7.251338783158       -7.23       -3.98    1.0   5.66ms\n",
      "  9   -7.251338795988       -7.89       -4.31    1.0   5.67ms\n",
      " 10   -7.251338798125       -8.67       -4.59    2.0   45.8ms\n",
      " 11   -7.251338798520       -9.40       -4.90    1.0   6.19ms\n",
      " 12   -7.251338798647       -9.90       -5.16    2.0   7.27ms\n",
      " 13   -7.251338798697      -10.29       -5.75    1.0   6.06ms\n",
      " 14   -7.251338798702      -11.35       -5.81    3.0   7.96ms\n",
      " 15   -7.251338798704      -11.68       -6.19    1.0   5.95ms\n",
      " 16   -7.251338798704      -12.29       -6.77    2.0   6.64ms\n",
      " 17   -7.251338798705      -13.00       -6.90    3.0   7.65ms\n",
      " 18   -7.251338798705      -14.10       -7.02    1.0   5.94ms\n",
      " 19   -7.251338798705      -14.15       -7.94    1.0   5.86ms\n",
      " 20   -7.251338798705      -15.05       -7.64    3.0   7.87ms\n",
      " 21   -7.251338798705      -14.75       -8.00    1.0   5.90ms\n",
      " 22   -7.251338798705      -15.05       -8.87    2.0   6.89ms\n"
     ]
    }
   ],
   "cell_type": "code",
   "source": [
    "using DFTK\n",
    "using Plots\n",
    "using KrylovKit\n",
    "using Printf\n",
    "\n",
    "# Calculation parameters\n",
    "kgrid = [1, 1, 1]\n",
    "Ecut = 5\n",
    "\n",
    "# Silicon lattice\n",
    "a = 10.26\n",
    "lattice = a / 2 .* [[0 1 1.]; [1 0 1.]; [1 1 0.]]\n",
    "Si = ElementPsp(:Si; psp=load_psp(\"hgh/lda/Si-q4\"))\n",
    "atoms     = [Si, Si]\n",
    "positions = [ones(3)/8, -ones(3)/8]\n",
    "\n",
    "# Compute the dielectric operator without symmetries\n",
    "model  = model_LDA(lattice, atoms, positions, symmetries=false)\n",
    "basis  = PlaneWaveBasis(model; Ecut, kgrid)\n",
    "scfres = self_consistent_field(basis, tol=1e-8);"
   ],
   "metadata": {},
   "execution_count": 1
  },
  {
   "cell_type": "markdown",
   "source": [
    "Applying $ε^† ≔ (1- χ_0 K)$ …"
   ],
   "metadata": {}
  },
  {
   "outputs": [],
   "cell_type": "code",
   "source": [
    "function eps_fun(δρ)\n",
    "    δV = apply_kernel(basis, δρ; ρ=scfres.ρ)\n",
    "    χ0δV = apply_χ0(scfres, δV)\n",
    "    δρ - χ0δV\n",
    "end;"
   ],
   "metadata": {},
   "execution_count": 2
  },
  {
   "cell_type": "markdown",
   "source": [
    "… eagerly diagonalizes the subspace matrix at each iteration"
   ],
   "metadata": {}
  },
  {
   "outputs": [
    {
     "name": "stdout",
     "output_type": "stream",
     "text": [
      "[ Info: Arnoldi iteration step 1: normres = 0.050408485829918366\n",
      "[ Info: Arnoldi iteration step 2: normres = 0.46790047772085686\n",
      "[ Info: Arnoldi iteration step 3: normres = 0.9698175755209208\n",
      "[ Info: Arnoldi iteration step 4: normres = 0.2868478211907985\n",
      "[ Info: Arnoldi iteration step 5: normres = 0.6068282042073576\n",
      "[ Info: Arnoldi schursolve in iter 1, krylovdim = 5: 0 values converged, normres = (6.40e-02, 8.69e-02, 5.68e-01, 1.86e-01, 4.70e-03)\n",
      "[ Info: Arnoldi iteration step 6: normres = 0.2452895635346112\n",
      "[ Info: Arnoldi schursolve in iter 1, krylovdim = 6: 0 values converged, normres = (1.26e-02, 1.30e-01, 1.42e-01, 1.05e-01, 8.98e-02)\n",
      "[ Info: Arnoldi iteration step 7: normres = 0.06982931943631544\n",
      "[ Info: Arnoldi schursolve in iter 1, krylovdim = 7: 0 values converged, normres = (4.32e-04, 8.83e-03, 8.26e-03, 5.28e-02, 3.66e-02)\n",
      "[ Info: Arnoldi iteration step 8: normres = 0.09137492729964601\n",
      "[ Info: Arnoldi schursolve in iter 1, krylovdim = 8: 0 values converged, normres = (1.69e-05, 5.66e-04, 5.89e-04, 1.43e-02, 2.16e-02)\n",
      "[ Info: Arnoldi iteration step 9: normres = 0.06143821058837507\n",
      "[ Info: Arnoldi schursolve in iter 1, krylovdim = 9: 0 values converged, normres = (4.44e-07, 2.43e-05, 2.81e-05, 2.69e-03, 1.15e-02)\n",
      "[ Info: Arnoldi iteration step 10: normres = 0.11329741932604655\n",
      "[ Info: Arnoldi schursolve in iter 1, krylovdim = 10: 0 values converged, normres = (2.18e-08, 1.97e-06, 2.53e-06, 1.02e-03, 1.64e-02)\n",
      "[ Info: Arnoldi iteration step 11: normres = 0.09253431612122322\n",
      "[ Info: Arnoldi schursolve in iter 1, krylovdim = 11: 0 values converged, normres = (8.90e-10, 1.34e-07, 1.92e-07, 3.81e-04, 5.72e-02)\n",
      "[ Info: Arnoldi iteration step 12: normres = 0.0825262662987034\n",
      "[ Info: Arnoldi schursolve in iter 1, krylovdim = 12: 0 values converged, normres = (3.17e-11, 7.87e-09, 1.25e-08, 1.08e-04, 3.15e-02)\n",
      "[ Info: Arnoldi iteration step 13: normres = 0.0456567868519694\n",
      "[ Info: Arnoldi schursolve in iter 1, krylovdim = 13: 1 values converged, normres = (6.20e-13, 2.52e-10, 4.43e-10, 1.56e-05, 8.81e-03)\n",
      "[ Info: Arnoldi iteration step 14: normres = 0.721190111205919\n",
      "[ Info: Arnoldi schursolve in iter 1, krylovdim = 14: 1 values converged, normres = (2.59e-13, 2.23e-10, 4.73e-10, 7.14e-01, 5.78e-02)\n",
      "[ Info: Arnoldi iteration step 15: normres = 0.0716120261660322\n",
      "[ Info: Arnoldi schursolve in iter 1, krylovdim = 15: 1 values converged, normres = (1.27e-14, 6.75e-11, 5.07e-02, 5.93e-04, 1.35e-05)\n",
      "[ Info: Arnoldi iteration step 16: normres = 0.6080220853874011\n",
      "[ Info: Arnoldi schursolve in iter 1, krylovdim = 16: 1 values converged, normres = (5.94e-15, 1.10e-10, 1.07e-01, 1.69e-03, 5.95e-01)\n",
      "[ Info: Arnoldi iteration step 17: normres = 0.039240509343174954\n",
      "[ Info: Arnoldi schursolve in iter 1, krylovdim = 17: 1 values converged, normres = (1.37e-16, 1.33e-02, 1.16e-02, 6.63e-03, 5.93e-04)\n",
      "[ Info: Arnoldi iteration step 18: normres = 0.024158486821443583\n",
      "[ Info: Arnoldi schursolve in iter 1, krylovdim = 18: 1 values converged, normres = (1.36e-18, 1.91e-04, 2.05e-04, 2.15e-08, 1.17e-04)\n",
      "[ Info: Arnoldi iteration step 19: normres = 0.16397133099174727\n",
      "[ Info: Arnoldi schursolve in iter 1, krylovdim = 19: 1 values converged, normres = (9.54e-20, 2.79e-09, 3.20e-05, 3.58e-06, 1.44e-05)\n",
      "[ Info: Arnoldi iteration step 20: normres = 0.06928800725704705\n",
      "[ Info: Arnoldi schursolve in iter 1, krylovdim = 20: 1 values converged, normres = (3.17e-21, 1.82e-06, 5.13e-07, 8.90e-07, 4.63e-07)\n",
      "[ Info: Arnoldi iteration step 21: normres = 0.026419111801948992\n",
      "[ Info: Arnoldi schursolve in iter 1, krylovdim = 21: 1 values converged, normres = (3.51e-23, 9.90e-10, 3.38e-08, 3.88e-09, 1.94e-08)\n",
      "[ Info: Arnoldi iteration step 22: normres = 0.04121516734123961\n",
      "[ Info: Arnoldi schursolve in iter 1, krylovdim = 22: 1 values converged, normres = (5.93e-25, 2.14e-10, 8.85e-10, 1.79e-10, 5.58e-10)\n",
      "[ Info: Arnoldi iteration step 23: normres = 0.5189755560084361\n",
      "[ Info: Arnoldi schursolve in iter 1, krylovdim = 23: 1 values converged, normres = (2.40e-25, 3.52e-10, 1.21e-09, 4.04e-10, 1.22e-09)\n",
      "[ Info: Arnoldi iteration step 24: normres = 0.012841751431998774\n",
      "[ Info: Arnoldi schursolve in iter 1, krylovdim = 24: 1 values converged, normres = (1.55e-27, 6.81e-12, 2.75e-11, 4.65e-09, 2.92e-08)\n",
      "[ Info: Arnoldi iteration step 25: normres = 0.10496067680180289\n",
      "[ Info: Arnoldi schursolve in iter 1, krylovdim = 25: 2 values converged, normres = (6.82e-29, 4.86e-13, 1.95e-12, 8.15e-05, 1.36e-04)\n",
      "[ Info: Arnoldi iteration step 26: normres = 0.0338980507497649\n",
      "[ Info: Arnoldi schursolve in iter 1, krylovdim = 26: 3 values converged, normres = (1.03e-30, 1.23e-14, 4.96e-14, 3.44e-08, 7.51e-08)\n",
      "[ Info: Arnoldi iteration step 27: normres = 0.019724656017570927\n",
      "[ Info: Arnoldi schursolve in iter 1, krylovdim = 27: 3 values converged, normres = (8.34e-33, 1.59e-16, 6.40e-16, 1.08e-07, 1.15e-07)\n",
      "[ Info: Arnoldi iteration step 28: normres = 0.10541802161532567\n",
      "[ Info: Arnoldi schursolve in iter 1, krylovdim = 28: 3 values converged, normres = (3.75e-34, 1.17e-17, 4.69e-17, 9.09e-09, 7.24e-09)\n",
      "[ Info: Arnoldi iteration step 29: normres = 0.04553074403925548\n",
      "[ Info: Arnoldi schursolve in iter 1, krylovdim = 29: 3 values converged, normres = (7.33e-36, 3.74e-19, 1.50e-18, 1.38e-10, 4.51e-10)\n",
      "[ Info: Arnoldi iteration step 30: normres = 0.1758246671981681\n",
      "[ Info: Arnoldi schursolve in iter 1, krylovdim = 30: 3 values converged, normres = (6.19e-37, 5.60e-20, 2.25e-19, 2.34e-11, 7.68e-11)\n",
      "[ Info: Arnoldi schursolve in iter 2, krylovdim = 19: 3 values converged, normres = (6.19e-37, 5.60e-20, 2.25e-19, 2.34e-11, 7.68e-11)\n",
      "[ Info: Arnoldi iteration step 20: normres = 0.033489401635875514\n",
      "[ Info: Arnoldi schursolve in iter 2, krylovdim = 20: 4 values converged, normres = (8.87e-39, 1.32e-21, 5.31e-21, 6.16e-13, 2.01e-12)\n",
      "[ Info: Arnoldi iteration step 21: normres = 0.08212783903139129\n",
      "┌ Info: Arnoldi eigsolve finished after 2 iterations:\n",
      "│ *  6 eigenvalues converged\n",
      "│ *  norm of residuals = (3.091970789881947e-40, 7.488689742494257e-23, 3.013010560120999e-22, 3.863566264720267e-14, 1.2977885769186446e-13, 1.0811403035811525e-13)\n",
      "└ *  number of operations = 32\n"
     ]
    }
   ],
   "cell_type": "code",
   "source": [
    "eigsolve(eps_fun, randn(size(scfres.ρ)), 5, :LM; eager=true, verbosity=3);"
   ],
   "metadata": {},
   "execution_count": 3
  }
 ],
 "nbformat_minor": 3,
 "metadata": {
  "language_info": {
   "file_extension": ".jl",
   "mimetype": "application/julia",
   "name": "julia",
   "version": "1.9.4"
  },
  "kernelspec": {
   "name": "julia-1.9",
   "display_name": "Julia 1.9.4",
   "language": "julia"
  }
 },
 "nbformat": 4
}
