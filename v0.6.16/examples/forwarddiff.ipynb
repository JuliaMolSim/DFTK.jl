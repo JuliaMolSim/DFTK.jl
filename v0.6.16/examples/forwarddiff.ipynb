{
 "cells": [
  {
   "cell_type": "markdown",
   "source": [
    "# Polarizability using automatic differentiation\n",
    "\n",
    "Simple example for computing properties using (forward-mode)\n",
    "automatic differentiation.\n",
    "For a more classical approach and more details about computing polarizabilities,\n",
    "see Polarizability by linear response."
   ],
   "metadata": {}
  },
  {
   "outputs": [],
   "cell_type": "code",
   "source": [
    "using DFTK\n",
    "using LinearAlgebra\n",
    "using ForwardDiff\n",
    "\n",
    "# Construct PlaneWaveBasis given a particular electric field strength\n",
    "# Again we take the example of a Helium atom.\n",
    "function make_basis(ε::T; a=10., Ecut=30) where {T}\n",
    "    lattice=T(a) * I(3)  # lattice is a cube of $a$ Bohrs\n",
    "    # Helium at the center of the box\n",
    "    atoms     = [ElementPsp(:He; psp=load_psp(\"hgh/lda/He-q2\"))]\n",
    "    positions = [[1/2, 1/2, 1/2]]\n",
    "\n",
    "    model = model_DFT(lattice, atoms, positions, [:lda_x, :lda_c_vwn];\n",
    "                      extra_terms=[ExternalFromReal(r -> -ε * (r[1] - a/2))],\n",
    "                      symmetries=false)\n",
    "    PlaneWaveBasis(model; Ecut, kgrid=[1, 1, 1])  # No k-point sampling on isolated system\n",
    "end\n",
    "\n",
    "# dipole moment of a given density (assuming the current geometry)\n",
    "function dipole(basis, ρ)\n",
    "    @assert isdiag(basis.model.lattice)\n",
    "    a  = basis.model.lattice[1, 1]\n",
    "    rr = [a * (r[1] - 1/2) for r in r_vectors(basis)]\n",
    "    sum(rr .* ρ) * basis.dvol\n",
    "end\n",
    "\n",
    "# Function to compute the dipole for a given field strength\n",
    "function compute_dipole(ε; tol=1e-8, kwargs...)\n",
    "    scfres = self_consistent_field(make_basis(ε; kwargs...); tol)\n",
    "    dipole(scfres.basis, scfres.ρ)\n",
    "end;"
   ],
   "metadata": {},
   "execution_count": 1
  },
  {
   "cell_type": "markdown",
   "source": [
    "With this in place we can compute the polarizability from finite differences\n",
    "(just like in the previous example):"
   ],
   "metadata": {}
  },
  {
   "outputs": [
    {
     "name": "stdout",
     "output_type": "stream",
     "text": [
      "n     Energy            log10(ΔE)   log10(Δρ)   Diag   Δtime\n",
      "---   ---------------   ---------   ---------   ----   ------\n",
      "  1   -2.770797255293                   -0.53    8.0    185ms\n",
      "  2   -2.772140796864       -2.87       -1.31    1.0    104ms\n",
      "  3   -2.772170392297       -4.53       -2.55    1.0    123ms\n",
      "  4   -2.772170690995       -6.52       -3.51    1.0    146ms\n",
      "  5   -2.772170721212       -7.52       -3.91    2.0    123ms\n",
      "  6   -2.772170722973       -8.75       -5.46    1.0    110ms\n",
      "  7   -2.772170723014      -10.39       -5.46    3.0    156ms\n",
      "  8   -2.772170723015      -11.82       -6.36    1.0    114ms\n",
      "  9   -2.772170723015      -13.94       -6.80    1.0    130ms\n",
      " 10   -2.772170723015      -14.88       -7.66    1.0    116ms\n",
      " 11   -2.772170723015      -14.18       -7.82    2.0    148ms\n",
      " 12   -2.772170723015   +  -14.40       -8.62    1.0    126ms\n",
      "n     Energy            log10(ΔE)   log10(Δρ)   Diag   Δtime\n",
      "---   ---------------   ---------   ---------   ----   ------\n",
      "  1   -2.770718018808                   -0.53    9.0    185ms\n",
      "  2   -2.772054628905       -2.87       -1.31    1.0    104ms\n",
      "  3   -2.772083162427       -4.54       -2.60    1.0    105ms\n",
      "  4   -2.772083401861       -6.62       -3.78    1.0    120ms\n",
      "  5   -2.772083417268       -7.81       -4.18    2.0    123ms\n",
      "  6   -2.772083417795       -9.28       -5.57    1.0    123ms\n",
      "  7   -2.772083417810      -10.84       -5.66    2.0    127ms\n",
      "  8   -2.772083417811      -12.20       -6.68    1.0    116ms\n",
      "  9   -2.772083417811      -13.76       -7.45    2.0    153ms\n",
      " 10   -2.772083417811   +  -15.35       -7.56    1.0    123ms\n",
      " 11   -2.772083417811   +  -14.51       -8.32    1.0    125ms\n"
     ]
    },
    {
     "output_type": "execute_result",
     "data": {
      "text/plain": "1.773557909182737"
     },
     "metadata": {},
     "execution_count": 2
    }
   ],
   "cell_type": "code",
   "source": [
    "polarizability_fd = let\n",
    "    ε = 0.01\n",
    "    (compute_dipole(ε) - compute_dipole(0.0)) / ε\n",
    "end"
   ],
   "metadata": {},
   "execution_count": 2
  },
  {
   "cell_type": "markdown",
   "source": [
    "We do the same thing using automatic differentiation. Under the hood this uses\n",
    "custom rules to implicitly differentiate through the self-consistent\n",
    "field fixed-point problem."
   ],
   "metadata": {}
  },
  {
   "outputs": [
    {
     "name": "stdout",
     "output_type": "stream",
     "text": [
      "n     Energy            log10(ΔE)   log10(Δρ)   Diag   Δtime\n",
      "---   ---------------   ---------   ---------   ----   ------\n",
      "  1   -2.770767735584                   -0.52    9.0    209ms\n",
      "  2   -2.772060329011       -2.89       -1.32    1.0    105ms\n",
      "  3   -2.772083005592       -4.64       -2.43    1.0    106ms\n",
      "  4   -2.772083332396       -6.49       -3.12    1.0    148ms\n",
      "  5   -2.772083417199       -7.07       -4.10    2.0    124ms\n",
      "  6   -2.772083417698       -9.30       -4.63    1.0    111ms\n",
      "  7   -2.772083417806       -9.96       -5.72    1.0    131ms\n",
      "  8   -2.772083417810      -11.41       -5.90    2.0    127ms\n",
      "  9   -2.772083417811      -12.54       -7.17    1.0    134ms\n",
      " 10   -2.772083417811   +  -14.57       -7.57    2.0    137ms\n",
      " 11   -2.772083417811      -15.35       -8.11    2.0    140ms\n",
      "\n",
      "Polarizability via ForwardDiff:       1.772534966639569\n",
      "Polarizability via finite difference: 1.773557909182737\n"
     ]
    }
   ],
   "cell_type": "code",
   "source": [
    "polarizability = ForwardDiff.derivative(compute_dipole, 0.0)\n",
    "println()\n",
    "println(\"Polarizability via ForwardDiff:       $polarizability\")\n",
    "println(\"Polarizability via finite difference: $polarizability_fd\")"
   ],
   "metadata": {},
   "execution_count": 3
  }
 ],
 "nbformat_minor": 3,
 "metadata": {
  "language_info": {
   "file_extension": ".jl",
   "mimetype": "application/julia",
   "name": "julia",
   "version": "1.9.4"
  },
  "kernelspec": {
   "name": "julia-1.9",
   "display_name": "Julia 1.9.4",
   "language": "julia"
  }
 },
 "nbformat": 4
}
