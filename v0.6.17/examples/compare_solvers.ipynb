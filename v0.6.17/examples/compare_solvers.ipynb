{
 "cells": [
  {
   "cell_type": "markdown",
   "source": [
    "# Comparison of DFT solvers"
   ],
   "metadata": {}
  },
  {
   "cell_type": "markdown",
   "source": [
    "We compare four different approaches for solving the DFT minimisation problem,\n",
    "namely a density-based SCF, a potential-based SCF, direct minimisation and Newton."
   ],
   "metadata": {}
  },
  {
   "cell_type": "markdown",
   "source": [
    "First we setup our problem"
   ],
   "metadata": {}
  },
  {
   "outputs": [
    {
     "output_type": "execute_result",
     "data": {
      "text/plain": "1.0e-6"
     },
     "metadata": {},
     "execution_count": 1
    }
   ],
   "cell_type": "code",
   "source": [
    "using DFTK\n",
    "using LinearAlgebra\n",
    "\n",
    "a = 10.26  # Silicon lattice constant in Bohr\n",
    "lattice = a / 2 * [[0 1 1.];\n",
    "                   [1 0 1.];\n",
    "                   [1 1 0.]]\n",
    "Si = ElementPsp(:Si; psp=load_psp(\"hgh/lda/Si-q4\"))\n",
    "atoms     = [Si, Si]\n",
    "positions = [ones(3)/8, -ones(3)/8]\n",
    "\n",
    "model = model_LDA(lattice, atoms, positions)\n",
    "basis = PlaneWaveBasis(model; Ecut=5, kgrid=[3, 3, 3])\n",
    "\n",
    "# Convergence we desire in the density\n",
    "tol = 1e-6"
   ],
   "metadata": {},
   "execution_count": 1
  },
  {
   "cell_type": "markdown",
   "source": [
    "## Density-based self-consistent field"
   ],
   "metadata": {}
  },
  {
   "outputs": [
    {
     "name": "stdout",
     "output_type": "stream",
     "text": [
      "n     Energy            log10(ΔE)   log10(Δρ)   Diag   Δtime\n",
      "---   ---------------   ---------   ---------   ----   ------\n",
      "  1   -7.847727350622                   -0.70    4.5   28.7ms\n",
      "  2   -7.852399974528       -2.33       -1.53    1.0   17.0ms\n",
      "  3   -7.852609612559       -3.68       -2.54    1.2   17.4ms\n",
      "  4   -7.852645445696       -4.45       -2.77    2.5   48.0ms\n",
      "  5   -7.852646084943       -6.19       -2.87    1.0   17.5ms\n",
      "  6   -7.852646665599       -6.24       -3.83    1.0   17.7ms\n",
      "  7   -7.852646684886       -7.71       -4.66    1.5   19.4ms\n",
      "  8   -7.852646686679       -8.75       -5.01    1.8   20.6ms\n",
      "  9   -7.852646686705      -10.58       -5.13    1.2   18.6ms\n",
      " 10   -7.852646686727      -10.66       -5.58    1.0   17.9ms\n",
      " 11   -7.852646686730      -11.54       -6.16    1.2   18.5ms\n"
     ]
    }
   ],
   "cell_type": "code",
   "source": [
    "scfres_scf = self_consistent_field(basis; tol);"
   ],
   "metadata": {},
   "execution_count": 2
  },
  {
   "cell_type": "markdown",
   "source": [
    "## Potential-based SCF"
   ],
   "metadata": {}
  },
  {
   "outputs": [
    {
     "name": "stdout",
     "output_type": "stream",
     "text": [
      "n     Energy            log10(ΔE)   log10(Δρ)   α      Diag   Δtime\n",
      "---   ---------------   ---------   ---------   ----   ----   ------\n",
      "  1   -7.847752665561                   -0.70           4.5    401ms\n",
      "  2   -7.852562076064       -2.32       -1.62   0.80    2.2    2.30s\n",
      "  3   -7.852641328256       -4.10       -2.70   0.80    1.0    227ms\n",
      "  4   -7.852646511100       -5.29       -3.40   0.80    1.8   18.8ms\n",
      "  5   -7.852646681980       -6.77       -4.43   0.80    2.0   18.8ms\n",
      "  6   -7.852646686627       -8.33       -4.91   0.80    2.2   20.7ms\n",
      "  7   -7.852646686726      -10.01       -5.55   0.80    1.2   16.4ms\n",
      "  8   -7.852646686730      -11.45       -6.72   0.80    1.8   17.9ms\n"
     ]
    }
   ],
   "cell_type": "code",
   "source": [
    "scfres_scfv = DFTK.scf_potential_mixing(basis; tol);"
   ],
   "metadata": {},
   "execution_count": 3
  },
  {
   "cell_type": "markdown",
   "source": [
    "## Direct minimization\n",
    "Note: Unlike the other algorithms, tolerance for this one is in the energy,\n",
    "thus we square the density tolerance value to be roughly equivalent."
   ],
   "metadata": {}
  },
  {
   "outputs": [
    {
     "name": "stdout",
     "output_type": "stream",
     "text": [
      "n     Energy            log10(ΔE)   log10(Δρ)   Δtime\n",
      "---   ---------------   ---------   ---------   ------\n",
      "  1   +1.348191839589                   -1.05    4.61s\n",
      "  2   -1.431696375520        0.44       -0.65    105ms\n",
      "  3   -3.656713203952        0.35       -0.43   32.7ms\n",
      "  4   -4.847730875617        0.08       -0.56   32.7ms\n",
      "  5   -6.572732137641        0.24       -0.70   32.7ms\n",
      "  6   -7.335425628804       -0.12       -1.06   32.7ms\n",
      "  7   -7.608493007253       -0.56       -1.44   24.6ms\n",
      "  8   -7.714953683312       -0.97       -1.92   24.7ms\n",
      "  9   -7.743786113871       -1.54       -1.84   24.6ms\n",
      " 10   -7.775443711426       -1.50       -2.16   24.7ms\n",
      " 11   -7.798934401337       -1.63       -2.14   24.7ms\n",
      " 12   -7.817784447370       -1.72       -2.14   24.7ms\n",
      " 13   -7.835645758700       -1.75       -2.24   24.8ms\n",
      " 14   -7.847399932752       -1.93       -2.27   24.7ms\n",
      " 15   -7.850262882215       -2.54       -3.12   25.6ms\n",
      " 16   -7.851992700991       -2.76       -2.88   24.7ms\n",
      " 17   -7.852441353884       -3.35       -3.66   24.6ms\n",
      " 18   -7.852576344133       -3.87       -3.56   24.7ms\n",
      " 19   -7.852622597943       -4.33       -3.84   24.6ms\n",
      " 20   -7.852637924201       -4.81       -4.16   24.6ms\n",
      " 21   -7.852643681106       -5.24       -4.45   24.7ms\n",
      " 22   -7.852645748566       -5.68       -4.52   24.6ms\n",
      " 23   -7.852646295981       -6.26       -5.29   24.6ms\n",
      " 24   -7.852646523503       -6.64       -4.99   24.7ms\n",
      " 25   -7.852646604282       -7.09       -5.47   24.7ms\n",
      " 26   -7.852646647516       -7.36       -5.42   24.8ms\n",
      " 27   -7.852646673146       -7.59       -5.76   24.6ms\n",
      " 28   -7.852646681839       -8.06       -6.55   24.6ms\n",
      " 29   -7.852646685347       -8.45       -6.32   24.6ms\n",
      " 30   -7.852646686371       -8.99       -6.29   50.9ms\n",
      " 31   -7.852646686607       -9.63       -6.96   25.3ms\n",
      " 32   -7.852646686693      -10.07       -6.88   24.9ms\n",
      " 33   -7.852646686717      -10.61       -7.11   31.6ms\n",
      " 34   -7.852646686726      -11.09       -7.28   25.0ms\n",
      " 35   -7.852646686728      -11.54       -7.64   24.8ms\n",
      " 36   -7.852646686729      -12.05       -7.99   24.7ms\n",
      " 37   -7.852646686730      -12.44       -8.16   24.8ms\n",
      " 38   -7.852646686730      -12.85       -8.55   24.7ms\n",
      " 39   -7.852646686730      -13.37       -8.79   24.7ms\n",
      " 40   -7.852646686730      -13.88       -8.87   24.6ms\n",
      " 41   -7.852646686730      -14.57       -9.40   24.6ms\n",
      " 42   -7.852646686730      -14.57       -9.20   24.6ms\n",
      " 43   -7.852646686730      -15.05       -9.12   97.5ms\n",
      " 44   -7.852646686730   +    -Inf       -8.78   41.1ms\n",
      " 45   -7.852646686730   +    -Inf       -9.54   89.0ms\n",
      "┌ Warning: DM not converged.\n",
      "└ @ DFTK ~/work/DFTK.jl/DFTK.jl/src/scf/scf_callbacks.jl:60\n"
     ]
    }
   ],
   "cell_type": "code",
   "source": [
    "scfres_dm = direct_minimization(basis; tol=tol^2);"
   ],
   "metadata": {},
   "execution_count": 4
  },
  {
   "cell_type": "markdown",
   "source": [
    "## Newton algorithm"
   ],
   "metadata": {}
  },
  {
   "cell_type": "markdown",
   "source": [
    "Start not too far from the solution to ensure convergence:\n",
    "We run first a very crude SCF to get close and then switch to Newton."
   ],
   "metadata": {}
  },
  {
   "outputs": [
    {
     "name": "stdout",
     "output_type": "stream",
     "text": [
      "n     Energy            log10(ΔE)   log10(Δρ)   Diag   Δtime\n",
      "---   ---------------   ---------   ---------   ----   ------\n",
      "  1   -7.847728572261                   -0.70    4.8   34.8ms\n"
     ]
    }
   ],
   "cell_type": "code",
   "source": [
    "scfres_start = self_consistent_field(basis; tol=0.5);"
   ],
   "metadata": {},
   "execution_count": 5
  },
  {
   "cell_type": "markdown",
   "source": [
    "Remove the virtual orbitals (which Newton cannot treat yet)"
   ],
   "metadata": {}
  },
  {
   "outputs": [
    {
     "name": "stdout",
     "output_type": "stream",
     "text": [
      "n     Energy            log10(ΔE)   log10(Δρ)   Δtime\n",
      "---   ---------------   ---------   ---------   ------\n",
      "  1   -7.852645821338                   -1.63    13.6s\n",
      "  2   -7.852646686730       -6.06       -3.69    3.60s\n",
      "  3   -7.852646686730      -13.16       -7.18    126ms\n"
     ]
    }
   ],
   "cell_type": "code",
   "source": [
    "ψ = DFTK.select_occupied_orbitals(basis, scfres_start.ψ, scfres_start.occupation).ψ\n",
    "scfres_newton = newton(basis, ψ; tol);"
   ],
   "metadata": {},
   "execution_count": 6
  },
  {
   "cell_type": "markdown",
   "source": [
    "## Comparison of results"
   ],
   "metadata": {}
  },
  {
   "outputs": [
    {
     "name": "stdout",
     "output_type": "stream",
     "text": [
      "|ρ_newton - ρ_scf|  = 7.786126011006329e-7\n",
      "|ρ_newton - ρ_scfv| = 4.813174774539961e-7\n",
      "|ρ_newton - ρ_dm|   = 1.1456275422720287e-9\n"
     ]
    }
   ],
   "cell_type": "code",
   "source": [
    "println(\"|ρ_newton - ρ_scf|  = \", norm(scfres_newton.ρ - scfres_scf.ρ))\n",
    "println(\"|ρ_newton - ρ_scfv| = \", norm(scfres_newton.ρ - scfres_scfv.ρ))\n",
    "println(\"|ρ_newton - ρ_dm|   = \", norm(scfres_newton.ρ - scfres_dm.ρ))"
   ],
   "metadata": {},
   "execution_count": 7
  }
 ],
 "nbformat_minor": 3,
 "metadata": {
  "language_info": {
   "file_extension": ".jl",
   "mimetype": "application/julia",
   "name": "julia",
   "version": "1.10.0"
  },
  "kernelspec": {
   "name": "julia-1.10",
   "display_name": "Julia 1.10.0",
   "language": "julia"
  }
 },
 "nbformat": 4
}
