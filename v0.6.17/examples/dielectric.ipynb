{
 "cells": [
  {
   "cell_type": "markdown",
   "source": [
    "# Eigenvalues of the dielectric matrix\n",
    "\n",
    "We compute a few eigenvalues of the dielectric matrix ($q=0$, $ω=0$) iteratively."
   ],
   "metadata": {}
  },
  {
   "outputs": [
    {
     "name": "stdout",
     "output_type": "stream",
     "text": [
      "n     Energy            log10(ΔE)   log10(Δρ)   Diag   Δtime\n",
      "---   ---------------   ---------   ---------   ----   ------\n",
      "  1   -7.235847917872                   -0.50    7.0   11.8ms\n",
      "  2   -7.250327938398       -1.84       -1.40    1.0   7.67ms\n",
      "  3   -7.250999559449       -3.17       -1.90    2.0   8.51ms\n",
      "  4   -7.250948696699   +   -4.29       -1.87    2.0   9.06ms\n",
      "  5   -7.251331068999       -3.42       -2.67    1.0   7.37ms\n",
      "  6   -7.251338293023       -5.14       -3.29    1.0   6.55ms\n",
      "  7   -7.251338734100       -6.36       -3.65    2.0   6.33ms\n",
      "  8   -7.251338781367       -7.33       -3.93    1.0   5.41ms\n",
      "  9   -7.251338795389       -7.85       -4.29    2.0   6.17ms\n",
      " 10   -7.251338798198       -8.55       -4.79    2.0   6.30ms\n",
      " 11   -7.251338798679       -9.32       -5.24    2.0   6.57ms\n",
      " 12   -7.251338798697      -10.73       -5.64    1.0   5.71ms\n",
      " 13   -7.251338798704      -11.20       -6.14    2.0   6.66ms\n",
      " 14   -7.251338798704      -12.08       -6.55    2.0   6.81ms\n",
      " 15   -7.251338798705      -13.27       -7.01    1.0   5.70ms\n",
      " 16   -7.251338798705      -13.91       -7.44    2.0   6.66ms\n",
      " 17   -7.251338798705      -14.75       -8.12    1.0   5.69ms\n"
     ]
    }
   ],
   "cell_type": "code",
   "source": [
    "using DFTK\n",
    "using Plots\n",
    "using KrylovKit\n",
    "using Printf\n",
    "\n",
    "# Calculation parameters\n",
    "kgrid = [1, 1, 1]\n",
    "Ecut = 5\n",
    "\n",
    "# Silicon lattice\n",
    "a = 10.26\n",
    "lattice = a / 2 .* [[0 1 1.]; [1 0 1.]; [1 1 0.]]\n",
    "Si = ElementPsp(:Si; psp=load_psp(\"hgh/lda/Si-q4\"))\n",
    "atoms     = [Si, Si]\n",
    "positions = [ones(3)/8, -ones(3)/8]\n",
    "\n",
    "# Compute the dielectric operator without symmetries\n",
    "model  = model_LDA(lattice, atoms, positions, symmetries=false)\n",
    "basis  = PlaneWaveBasis(model; Ecut, kgrid)\n",
    "scfres = self_consistent_field(basis, tol=1e-8);"
   ],
   "metadata": {},
   "execution_count": 1
  },
  {
   "cell_type": "markdown",
   "source": [
    "Applying $ε^† ≔ (1- χ_0 K)$ …"
   ],
   "metadata": {}
  },
  {
   "outputs": [],
   "cell_type": "code",
   "source": [
    "function eps_fun(δρ)\n",
    "    δV = apply_kernel(basis, δρ; ρ=scfres.ρ)\n",
    "    χ0δV = apply_χ0(scfres, δV)\n",
    "    δρ - χ0δV\n",
    "end;"
   ],
   "metadata": {},
   "execution_count": 2
  },
  {
   "cell_type": "markdown",
   "source": [
    "… eagerly diagonalizes the subspace matrix at each iteration"
   ],
   "metadata": {}
  },
  {
   "outputs": [
    {
     "name": "stdout",
     "output_type": "stream",
     "text": [
      "[ Info: Arnoldi iteration step 1: normres = 0.03822593620238611\n",
      "[ Info: Arnoldi iteration step 2: normres = 0.5640318937978195\n",
      "[ Info: Arnoldi iteration step 3: normres = 0.9218079878776702\n",
      "[ Info: Arnoldi iteration step 4: normres = 0.38624350882467695\n",
      "[ Info: Arnoldi iteration step 5: normres = 0.24085755746152887\n",
      "[ Info: Arnoldi schursolve in iter 1, krylovdim = 5: 0 values converged, normres = (3.07e-02, 3.88e-02, 1.78e-01, 1.40e-01, 6.57e-02)\n",
      "[ Info: Arnoldi iteration step 6: normres = 0.4929826070254614\n",
      "[ Info: Arnoldi schursolve in iter 1, krylovdim = 6: 0 values converged, normres = (1.17e-02, 5.28e-02, 4.71e-01, 1.15e-01, 2.80e-02)\n",
      "[ Info: Arnoldi iteration step 7: normres = 0.08483570533764531\n",
      "[ Info: Arnoldi schursolve in iter 1, krylovdim = 7: 0 values converged, normres = (5.35e-04, 8.48e-03, 3.60e-02, 2.77e-02, 6.75e-02)\n",
      "[ Info: Arnoldi iteration step 8: normres = 0.10277346050423909\n",
      "[ Info: Arnoldi schursolve in iter 1, krylovdim = 8: 0 values converged, normres = (2.39e-05, 6.30e-04, 2.94e-03, 9.61e-03, 6.04e-02)\n",
      "[ Info: Arnoldi iteration step 9: normres = 0.07234883178392133\n",
      "[ Info: Arnoldi schursolve in iter 1, krylovdim = 9: 0 values converged, normres = (7.44e-07, 3.23e-05, 1.67e-04, 2.37e-03, 3.38e-02)\n",
      "[ Info: Arnoldi iteration step 10: normres = 0.11567242526638426\n",
      "[ Info: Arnoldi schursolve in iter 1, krylovdim = 10: 0 values converged, normres = (3.80e-08, 2.75e-06, 1.59e-05, 1.06e-03, 4.01e-02)\n",
      "[ Info: Arnoldi iteration step 11: normres = 0.06105304844728932\n",
      "[ Info: Arnoldi schursolve in iter 1, krylovdim = 11: 0 values converged, normres = (1.00e-09, 1.20e-07, 7.70e-07, 2.38e-04, 2.44e-02)\n",
      "[ Info: Arnoldi iteration step 12: normres = 0.0888474041710801\n",
      "[ Info: Arnoldi schursolve in iter 1, krylovdim = 12: 0 values converged, normres = (3.77e-11, 7.32e-09, 5.20e-08, 5.89e-05, 1.08e-02)\n",
      "[ Info: Arnoldi iteration step 13: normres = 0.176047773811772\n",
      "[ Info: Arnoldi schursolve in iter 1, krylovdim = 13: 0 values converged, normres = (2.92e-12, 9.44e-10, 7.48e-09, 3.95e-05, 1.80e-02)\n",
      "[ Info: Arnoldi iteration step 14: normres = 0.34645437202960205\n",
      "[ Info: Arnoldi schursolve in iter 1, krylovdim = 14: 0 values converged, normres = (1.02e-12, 4.01e-09, 3.18e-01, 1.25e-01, 2.01e-03)\n",
      "[ Info: Arnoldi iteration step 15: normres = 0.04515869997143047\n",
      "[ Info: Arnoldi schursolve in iter 1, krylovdim = 15: 1 values converged, normres = (2.06e-14, 1.83e-08, 1.04e-02, 6.31e-06, 1.84e-06)\n",
      "[ Info: Arnoldi iteration step 16: normres = 0.5783144314043371\n",
      "[ Info: Arnoldi schursolve in iter 1, krylovdim = 16: 1 values converged, normres = (8.76e-15, 1.76e-08, 1.35e-02, 8.29e-06, 5.75e-01)\n",
      "[ Info: Arnoldi iteration step 17: normres = 0.03957062544123441\n",
      "[ Info: Arnoldi schursolve in iter 1, krylovdim = 17: 1 values converged, normres = (1.86e-16, 8.84e-04, 7.09e-04, 2.40e-07, 1.88e-02)\n",
      "[ Info: Arnoldi iteration step 18: normres = 0.018890975731742046\n",
      "[ Info: Arnoldi schursolve in iter 1, krylovdim = 18: 1 values converged, normres = (1.46e-18, 1.12e-07, 1.43e-05, 1.83e-08, 2.62e-04)\n",
      "[ Info: Arnoldi iteration step 19: normres = 0.0712235381615384\n",
      "[ Info: Arnoldi schursolve in iter 1, krylovdim = 19: 1 values converged, normres = (4.29e-20, 1.40e-07, 6.57e-07, 2.67e-06, 1.33e-05)\n",
      "[ Info: Arnoldi iteration step 20: normres = 0.14668873867916896\n",
      "[ Info: Arnoldi schursolve in iter 1, krylovdim = 20: 1 values converged, normres = (3.04e-21, 3.05e-08, 7.92e-08, 5.01e-07, 1.88e-06)\n",
      "[ Info: Arnoldi iteration step 21: normres = 0.030837061488713163\n",
      "[ Info: Arnoldi schursolve in iter 1, krylovdim = 21: 1 values converged, normres = (4.01e-23, 5.63e-10, 1.75e-09, 6.94e-09, 4.63e-08)\n",
      "[ Info: Arnoldi iteration step 22: normres = 0.03014615843216232\n",
      "[ Info: Arnoldi schursolve in iter 1, krylovdim = 22: 1 values converged, normres = (4.98e-25, 1.12e-11, 3.46e-11, 2.79e-10, 9.82e-10)\n",
      "[ Info: Arnoldi iteration step 23: normres = 0.6783378165334957\n",
      "[ Info: Arnoldi schursolve in iter 1, krylovdim = 23: 1 values converged, normres = (2.28e-25, 1.32e-11, 4.07e-11, 4.21e-10, 1.52e-09)\n",
      "[ Info: Arnoldi iteration step 24: normres = 0.016301327392616593\n",
      "[ Info: Arnoldi schursolve in iter 1, krylovdim = 24: 2 values converged, normres = (2.15e-27, 5.78e-13, 1.78e-12, 1.38e-08, 4.65e-08)\n",
      "[ Info: Arnoldi iteration step 25: normres = 0.0370197191203105\n",
      "[ Info: Arnoldi schursolve in iter 1, krylovdim = 25: 3 values converged, normres = (3.27e-29, 1.40e-14, 4.32e-14, 1.13e-04, 5.96e-05)\n",
      "[ Info: Arnoldi iteration step 26: normres = 0.09559823231369448\n",
      "[ Info: Arnoldi schursolve in iter 1, krylovdim = 26: 3 values converged, normres = (1.40e-30, 1.01e-15, 3.10e-15, 1.03e-08, 2.58e-08)\n",
      "[ Info: Arnoldi iteration step 27: normres = 0.017688753001318596\n",
      "[ Info: Arnoldi schursolve in iter 1, krylovdim = 27: 3 values converged, normres = (1.03e-32, 1.20e-17, 3.69e-17, 1.10e-07, 1.64e-07)\n",
      "[ Info: Arnoldi iteration step 28: normres = 0.09576608762419475\n",
      "[ Info: Arnoldi schursolve in iter 1, krylovdim = 28: 3 values converged, normres = (4.14e-34, 7.74e-19, 2.39e-18, 1.47e-08, 7.14e-09)\n",
      "[ Info: Arnoldi iteration step 29: normres = 0.09596189083972209\n",
      "[ Info: Arnoldi schursolve in iter 1, krylovdim = 29: 3 values converged, normres = (1.76e-35, 5.50e-20, 1.70e-19, 1.10e-09, 9.40e-10)\n",
      "[ Info: Arnoldi iteration step 30: normres = 0.09866574513123841\n",
      "[ Info: Arnoldi schursolve in iter 1, krylovdim = 30: 3 values converged, normres = (8.45e-37, 4.74e-21, 1.46e-20, 1.08e-10, 9.15e-11)\n",
      "[ Info: Arnoldi schursolve in iter 2, krylovdim = 19: 3 values converged, normres = (8.46e-37, 4.74e-21, 1.46e-20, 1.08e-10, 9.15e-11)\n",
      "[ Info: Arnoldi iteration step 20: normres = 0.05988661582047134\n",
      "[ Info: Arnoldi schursolve in iter 2, krylovdim = 20: 3 values converged, normres = (2.13e-38, 1.93e-22, 5.96e-22, 4.89e-12, 4.11e-12)\n",
      "[ Info: Arnoldi iteration step 21: normres = 0.05158517814971411\n",
      "┌ Info: Arnoldi eigsolve finished after 2 iterations:\n",
      "│ *  6 eigenvalues converged\n",
      "│ *  norm of residuals = (4.726383937079186e-40, 7.042314106118627e-24, 2.182729902105407e-23, 1.979881053477996e-13, 8.943425192088202e-14, 8.646903942624529e-14)\n",
      "└ *  number of operations = 32\n"
     ]
    }
   ],
   "cell_type": "code",
   "source": [
    "eigsolve(eps_fun, randn(size(scfres.ρ)), 5, :LM; eager=true, verbosity=3);"
   ],
   "metadata": {},
   "execution_count": 3
  }
 ],
 "nbformat_minor": 3,
 "metadata": {
  "language_info": {
   "file_extension": ".jl",
   "mimetype": "application/julia",
   "name": "julia",
   "version": "1.10.0"
  },
  "kernelspec": {
   "name": "julia-1.10",
   "display_name": "Julia 1.10.0",
   "language": "julia"
  }
 },
 "nbformat": 4
}
