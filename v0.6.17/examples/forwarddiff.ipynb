{
 "cells": [
  {
   "cell_type": "markdown",
   "source": [
    "# Polarizability using automatic differentiation\n",
    "\n",
    "Simple example for computing properties using (forward-mode)\n",
    "automatic differentiation.\n",
    "For a more classical approach and more details about computing polarizabilities,\n",
    "see Polarizability by linear response."
   ],
   "metadata": {}
  },
  {
   "outputs": [],
   "cell_type": "code",
   "source": [
    "using DFTK\n",
    "using LinearAlgebra\n",
    "using ForwardDiff\n",
    "\n",
    "# Construct PlaneWaveBasis given a particular electric field strength\n",
    "# Again we take the example of a Helium atom.\n",
    "function make_basis(ε::T; a=10., Ecut=30) where {T}\n",
    "    lattice=T(a) * I(3)  # lattice is a cube of $a$ Bohrs\n",
    "    # Helium at the center of the box\n",
    "    atoms     = [ElementPsp(:He; psp=load_psp(\"hgh/lda/He-q2\"))]\n",
    "    positions = [[1/2, 1/2, 1/2]]\n",
    "\n",
    "    model = model_DFT(lattice, atoms, positions, [:lda_x, :lda_c_vwn];\n",
    "                      extra_terms=[ExternalFromReal(r -> -ε * (r[1] - a/2))],\n",
    "                      symmetries=false)\n",
    "    PlaneWaveBasis(model; Ecut, kgrid=[1, 1, 1])  # No k-point sampling on isolated system\n",
    "end\n",
    "\n",
    "# dipole moment of a given density (assuming the current geometry)\n",
    "function dipole(basis, ρ)\n",
    "    @assert isdiag(basis.model.lattice)\n",
    "    a  = basis.model.lattice[1, 1]\n",
    "    rr = [a * (r[1] - 1/2) for r in r_vectors(basis)]\n",
    "    sum(rr .* ρ) * basis.dvol\n",
    "end\n",
    "\n",
    "# Function to compute the dipole for a given field strength\n",
    "function compute_dipole(ε; tol=1e-8, kwargs...)\n",
    "    scfres = self_consistent_field(make_basis(ε; kwargs...); tol)\n",
    "    dipole(scfres.basis, scfres.ρ)\n",
    "end;"
   ],
   "metadata": {},
   "execution_count": 1
  },
  {
   "cell_type": "markdown",
   "source": [
    "With this in place we can compute the polarizability from finite differences\n",
    "(just like in the previous example):"
   ],
   "metadata": {}
  },
  {
   "outputs": [
    {
     "name": "stdout",
     "output_type": "stream",
     "text": [
      "n     Energy            log10(ΔE)   log10(Δρ)   Diag   Δtime\n",
      "---   ---------------   ---------   ---------   ----   ------\n",
      "  1   -2.770902606321                   -0.52    9.0    173ms\n",
      "  2   -2.772148440179       -2.90       -1.32    1.0    114ms\n",
      "  3   -2.772170349925       -4.66       -2.47    1.0    109ms\n",
      "  4   -2.772170653399       -6.52       -3.18    1.0    110ms\n",
      "  5   -2.772170722133       -7.16       -3.98    2.0    130ms\n",
      "  6   -2.772170722437       -9.52       -4.11    1.0    116ms\n",
      "  7   -2.772170722993       -9.26       -4.87    1.0    114ms\n",
      "  8   -2.772170723009      -10.78       -5.14    1.0    122ms\n",
      "  9   -2.772170723015      -11.26       -6.22    1.0    121ms\n",
      " 10   -2.772170723015      -12.92       -6.11    2.0    152ms\n",
      " 11   -2.772170723015      -13.30       -6.50    1.0    124ms\n",
      " 12   -2.772170723015      -13.72       -7.14    1.0    140ms\n",
      " 13   -2.772170723015      -13.70       -7.56    1.0    136ms\n",
      " 14   -2.772170723015   +  -13.67       -7.91    2.0    143ms\n",
      " 15   -2.772170723015      -13.91       -8.61    1.0    145ms\n",
      "n     Energy            log10(ΔE)   log10(Δρ)   Diag   Δtime\n",
      "---   ---------------   ---------   ---------   ----   ------\n",
      "  1   -2.770741737137                   -0.52    9.0    188ms\n",
      "  2   -2.772059181019       -2.88       -1.32    1.0    109ms\n",
      "  3   -2.772082945885       -4.62       -2.43    1.0    123ms\n",
      "  4   -2.772083322478       -6.42       -3.10    1.0    114ms\n",
      "  5   -2.772083417487       -7.02       -4.21    2.0    136ms\n",
      "  6   -2.772083417670       -9.74       -4.46    1.0    112ms\n",
      "  7   -2.772083417809       -9.86       -5.79    1.0    117ms\n",
      "  8   -2.772083417811      -11.73       -6.46    2.0    141ms\n",
      "  9   -2.772083417811      -14.45       -6.43    2.0    136ms\n",
      " 10   -2.772083417811      -13.69       -7.40    1.0    164ms\n",
      " 11   -2.772083417811      -13.75       -7.90    2.0    206ms\n",
      " 12   -2.772083417811   +  -14.15       -8.98    1.0    194ms\n"
     ]
    },
    {
     "output_type": "execute_result",
     "data": {
      "text/plain": "1.7735579671161017"
     },
     "metadata": {},
     "execution_count": 2
    }
   ],
   "cell_type": "code",
   "source": [
    "polarizability_fd = let\n",
    "    ε = 0.01\n",
    "    (compute_dipole(ε) - compute_dipole(0.0)) / ε\n",
    "end"
   ],
   "metadata": {},
   "execution_count": 2
  },
  {
   "cell_type": "markdown",
   "source": [
    "We do the same thing using automatic differentiation. Under the hood this uses\n",
    "custom rules to implicitly differentiate through the self-consistent\n",
    "field fixed-point problem."
   ],
   "metadata": {}
  },
  {
   "outputs": [
    {
     "name": "stdout",
     "output_type": "stream",
     "text": [
      "n     Energy            log10(ΔE)   log10(Δρ)   Diag   Δtime\n",
      "---   ---------------   ---------   ---------   ----   ------\n",
      "  1   -2.770783549717                   -0.52    9.0    185ms\n",
      "  2   -2.772060936365       -2.89       -1.32    1.0    107ms\n",
      "  3   -2.772083065833       -4.66       -2.46    1.0    130ms\n",
      "  4   -2.772083336281       -6.57       -3.14    1.0    111ms\n",
      "  5   -2.772083416681       -7.09       -3.99    2.0    141ms\n",
      "  6   -2.772083417678       -9.00       -4.58    1.0    114ms\n",
      "  7   -2.772083417806       -9.90       -5.72    1.0    215ms\n",
      "  8   -2.772083417810      -11.34       -5.79    2.0    184ms\n",
      "  9   -2.772083417811      -12.38       -6.40    1.0    475ms\n",
      " 10   -2.772083417811      -13.55       -7.62    2.0    157ms\n",
      " 11   -2.772083417811      -13.85       -8.31    1.0    404ms\n",
      "\n",
      "Polarizability via ForwardDiff:       1.7725349608243555\n",
      "Polarizability via finite difference: 1.7735579671161017\n"
     ]
    }
   ],
   "cell_type": "code",
   "source": [
    "polarizability = ForwardDiff.derivative(compute_dipole, 0.0)\n",
    "println()\n",
    "println(\"Polarizability via ForwardDiff:       $polarizability\")\n",
    "println(\"Polarizability via finite difference: $polarizability_fd\")"
   ],
   "metadata": {},
   "execution_count": 3
  }
 ],
 "nbformat_minor": 3,
 "metadata": {
  "language_info": {
   "file_extension": ".jl",
   "mimetype": "application/julia",
   "name": "julia",
   "version": "1.10.0"
  },
  "kernelspec": {
   "name": "julia-1.10",
   "display_name": "Julia 1.10.0",
   "language": "julia"
  }
 },
 "nbformat": 4
}
