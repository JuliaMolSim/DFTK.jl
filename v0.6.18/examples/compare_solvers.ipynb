{
 "cells": [
  {
   "cell_type": "markdown",
   "source": [
    "# Comparison of DFT solvers"
   ],
   "metadata": {}
  },
  {
   "cell_type": "markdown",
   "source": [
    "We compare four different approaches for solving the DFT minimisation problem,\n",
    "namely a density-based SCF, a potential-based SCF, direct minimisation and Newton."
   ],
   "metadata": {}
  },
  {
   "cell_type": "markdown",
   "source": [
    "First we setup our problem"
   ],
   "metadata": {}
  },
  {
   "outputs": [
    {
     "output_type": "execute_result",
     "data": {
      "text/plain": "1.0e-6"
     },
     "metadata": {},
     "execution_count": 1
    }
   ],
   "cell_type": "code",
   "source": [
    "using DFTK\n",
    "using LinearAlgebra\n",
    "\n",
    "a = 10.26  # Silicon lattice constant in Bohr\n",
    "lattice = a / 2 * [[0 1 1.];\n",
    "                   [1 0 1.];\n",
    "                   [1 1 0.]]\n",
    "Si = ElementPsp(:Si; psp=load_psp(\"hgh/lda/Si-q4\"))\n",
    "atoms     = [Si, Si]\n",
    "positions = [ones(3)/8, -ones(3)/8]\n",
    "\n",
    "model = model_LDA(lattice, atoms, positions)\n",
    "basis = PlaneWaveBasis(model; Ecut=5, kgrid=[3, 3, 3])\n",
    "\n",
    "# Convergence we desire in the density\n",
    "tol = 1e-6"
   ],
   "metadata": {},
   "execution_count": 1
  },
  {
   "cell_type": "markdown",
   "source": [
    "## Density-based self-consistent field"
   ],
   "metadata": {}
  },
  {
   "outputs": [
    {
     "name": "stdout",
     "output_type": "stream",
     "text": [
      "n     Energy            log10(ΔE)   log10(Δρ)   Diag   Δtime\n",
      "---   ---------------   ---------   ---------   ----   ------\n",
      "  1   -7.847673633630                   -0.70    4.5   28.8ms\n",
      "  2   -7.852385195870       -2.33       -1.53    1.0   17.0ms\n",
      "  3   -7.852608698699       -3.65       -2.54    1.2   17.4ms\n",
      "  4   -7.852645444228       -4.43       -2.77    2.5   22.1ms\n",
      "  5   -7.852646087138       -6.19       -2.87    1.2   17.5ms\n",
      "  6   -7.852646668034       -6.24       -3.85    1.0   17.1ms\n",
      "  7   -7.852646684922       -7.77       -4.56    1.5   18.5ms\n",
      "  8   -7.852646686679       -8.76       -5.05    1.8   19.8ms\n",
      "  9   -7.852646686726      -10.34       -5.90    1.0   17.1ms\n",
      " 10   -7.852646686727      -11.77       -5.61    2.2   22.0ms\n",
      " 11   -7.852646686730      -11.61       -6.61    1.0   17.2ms\n"
     ]
    }
   ],
   "cell_type": "code",
   "source": [
    "scfres_scf = self_consistent_field(basis; tol);"
   ],
   "metadata": {},
   "execution_count": 2
  },
  {
   "cell_type": "markdown",
   "source": [
    "## Potential-based SCF"
   ],
   "metadata": {}
  },
  {
   "outputs": [
    {
     "name": "stdout",
     "output_type": "stream",
     "text": [
      "n     Energy            log10(ΔE)   log10(Δρ)   α      Diag   Δtime\n",
      "---   ---------------   ---------   ---------   ----   ----   ------\n",
      "  1   -7.847792325897                   -0.70           4.8    368ms\n",
      "  2   -7.852561709296       -2.32       -1.62   0.80    2.0    2.20s\n",
      "  3   -7.852641221041       -4.10       -2.71   0.80    1.0    222ms\n",
      "  4   -7.852646510899       -5.28       -3.38   0.80    1.8   18.6ms\n",
      "  5   -7.852646681665       -6.77       -4.40   0.80    1.5   17.6ms\n",
      "  6   -7.852646686627       -8.30       -4.88   0.80    2.5   21.6ms\n",
      "  7   -7.852646686726      -10.00       -5.54   0.80    1.2   16.8ms\n",
      "  8   -7.852646686730      -11.46       -6.80   0.80    1.5   44.1ms\n"
     ]
    }
   ],
   "cell_type": "code",
   "source": [
    "scfres_scfv = DFTK.scf_potential_mixing(basis; tol);"
   ],
   "metadata": {},
   "execution_count": 3
  },
  {
   "cell_type": "markdown",
   "source": [
    "## Direct minimization\n",
    "Note: Unlike the other algorithms, tolerance for this one is in the energy,\n",
    "thus we square the density tolerance value to be roughly equivalent."
   ],
   "metadata": {}
  },
  {
   "outputs": [
    {
     "name": "stdout",
     "output_type": "stream",
     "text": [
      "n     Energy            log10(ΔE)   log10(Δρ)   Δtime\n",
      "---   ---------------   ---------   ---------   ------\n",
      "  1   +1.580126083218                   -1.03    4.38s\n",
      "  2   -1.744853950801        0.52       -0.65    108ms\n",
      "  3   -3.682796050944        0.29       -0.44   32.7ms\n",
      "  4   -5.248133110475        0.19       -0.60   32.7ms\n",
      "  5   -6.714268677196        0.17       -0.79   32.7ms\n",
      "  6   -7.079485842840       -0.44       -1.54   24.6ms\n",
      "  7   -7.566240589324       -0.31       -1.68   24.5ms\n",
      "  8   -7.698053644269       -0.88       -1.81   24.6ms\n",
      "  9   -7.746166754830       -1.32       -1.86   24.6ms\n",
      " 10   -7.775219637867       -1.54       -2.05   24.6ms\n",
      " 11   -7.799130754917       -1.62       -2.03   24.6ms\n",
      " 12   -7.828836285966       -1.53       -2.38   24.5ms\n",
      " 13   -7.845434713962       -1.78       -2.33   24.6ms\n",
      " 14   -7.849478717253       -2.39       -3.09   24.5ms\n",
      " 15   -7.851775687990       -2.64       -2.99   24.5ms\n",
      " 16   -7.852337763460       -3.25       -3.26   24.6ms\n",
      " 17   -7.852579982749       -3.62       -3.55   24.5ms\n",
      " 18   -7.852625994250       -4.34       -3.89   24.5ms\n",
      " 19   -7.852639484856       -4.87       -4.37   24.6ms\n",
      " 20   -7.852644498277       -5.30       -4.22   52.8ms\n",
      " 21   -7.852645966132       -5.83       -4.51   24.7ms\n",
      " 22   -7.852646441177       -6.32       -5.52   24.6ms\n",
      " 23   -7.852646614265       -6.76       -5.59   24.6ms\n",
      " 24   -7.852646664296       -7.30       -5.50   24.6ms\n",
      " 25   -7.852646678499       -7.85       -5.54   24.5ms\n",
      " 26   -7.852646683613       -8.29       -6.49   24.7ms\n",
      " 27   -7.852646685619       -8.70       -6.14   24.8ms\n",
      " 28   -7.852646686345       -9.14       -6.47   24.9ms\n",
      " 29   -7.852646686619       -9.56       -6.62   25.0ms\n",
      " 30   -7.852646686699      -10.10       -7.31   24.9ms\n",
      " 31   -7.852646686719      -10.69       -6.99   24.8ms\n",
      " 32   -7.852646686726      -11.16       -7.20   24.8ms\n",
      " 33   -7.852646686729      -11.58       -7.58   24.9ms\n",
      " 34   -7.852646686729      -12.10       -8.33   24.8ms\n",
      " 35   -7.852646686730      -12.59       -7.91   24.8ms\n",
      " 36   -7.852646686730      -13.07       -8.02   24.8ms\n",
      " 37   -7.852646686730      -13.53       -8.47   24.8ms\n",
      " 38   -7.852646686730      -13.85       -9.01   25.2ms\n",
      " 39   -7.852646686730      -14.45       -8.83   25.1ms\n",
      " 40   -7.852646686730      -14.75       -9.05   24.8ms\n",
      " 41   -7.852646686730   +    -Inf       -9.58   40.9ms\n",
      " 42   -7.852646686730   +    -Inf       -9.61   32.8ms\n",
      "┌ Warning: DM not converged.\n",
      "└ @ DFTK ~/work/DFTK.jl/DFTK.jl/src/scf/scf_callbacks.jl:60\n"
     ]
    }
   ],
   "cell_type": "code",
   "source": [
    "scfres_dm = direct_minimization(basis; tol=tol^2);"
   ],
   "metadata": {},
   "execution_count": 4
  },
  {
   "cell_type": "markdown",
   "source": [
    "## Newton algorithm"
   ],
   "metadata": {}
  },
  {
   "cell_type": "markdown",
   "source": [
    "Start not too far from the solution to ensure convergence:\n",
    "We run first a very crude SCF to get close and then switch to Newton."
   ],
   "metadata": {}
  },
  {
   "outputs": [
    {
     "name": "stdout",
     "output_type": "stream",
     "text": [
      "n     Energy            log10(ΔE)   log10(Δρ)   Diag   Δtime\n",
      "---   ---------------   ---------   ---------   ----   ------\n",
      "  1   -7.847774730799                   -0.70    4.8   30.0ms\n"
     ]
    }
   ],
   "cell_type": "code",
   "source": [
    "scfres_start = self_consistent_field(basis; tol=0.5);"
   ],
   "metadata": {},
   "execution_count": 5
  },
  {
   "cell_type": "markdown",
   "source": [
    "Remove the virtual orbitals (which Newton cannot treat yet)"
   ],
   "metadata": {}
  },
  {
   "outputs": [
    {
     "name": "stdout",
     "output_type": "stream",
     "text": [
      "n     Energy            log10(ΔE)   log10(Δρ)   Δtime\n",
      "---   ---------------   ---------   ---------   ------\n",
      "  1   -7.852645844827                   -1.63    13.5s\n",
      "  2   -7.852646686730       -6.07       -3.69    3.55s\n",
      "  3   -7.852646686730      -13.25       -7.20    124ms\n"
     ]
    }
   ],
   "cell_type": "code",
   "source": [
    "ψ = DFTK.select_occupied_orbitals(basis, scfres_start.ψ, scfres_start.occupation).ψ\n",
    "scfres_newton = newton(basis, ψ; tol);"
   ],
   "metadata": {},
   "execution_count": 6
  },
  {
   "cell_type": "markdown",
   "source": [
    "## Comparison of results"
   ],
   "metadata": {}
  },
  {
   "outputs": [
    {
     "name": "stdout",
     "output_type": "stream",
     "text": [
      "|ρ_newton - ρ_scf|  = 3.604260338846249e-7\n",
      "|ρ_newton - ρ_scfv| = 5.548967209614181e-7\n",
      "|ρ_newton - ρ_dm|   = 7.923082878754927e-10\n"
     ]
    }
   ],
   "cell_type": "code",
   "source": [
    "println(\"|ρ_newton - ρ_scf|  = \", norm(scfres_newton.ρ - scfres_scf.ρ))\n",
    "println(\"|ρ_newton - ρ_scfv| = \", norm(scfres_newton.ρ - scfres_scfv.ρ))\n",
    "println(\"|ρ_newton - ρ_dm|   = \", norm(scfres_newton.ρ - scfres_dm.ρ))"
   ],
   "metadata": {},
   "execution_count": 7
  }
 ],
 "nbformat_minor": 3,
 "metadata": {
  "language_info": {
   "file_extension": ".jl",
   "mimetype": "application/julia",
   "name": "julia",
   "version": "1.10.0"
  },
  "kernelspec": {
   "name": "julia-1.10",
   "display_name": "Julia 1.10.0",
   "language": "julia"
  }
 },
 "nbformat": 4
}
