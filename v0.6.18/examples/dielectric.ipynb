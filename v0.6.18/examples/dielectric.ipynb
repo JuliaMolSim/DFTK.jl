{
 "cells": [
  {
   "cell_type": "markdown",
   "source": [
    "# Eigenvalues of the dielectric matrix\n",
    "\n",
    "We compute a few eigenvalues of the dielectric matrix ($q=0$, $ω=0$) iteratively."
   ],
   "metadata": {}
  },
  {
   "outputs": [
    {
     "name": "stdout",
     "output_type": "stream",
     "text": [
      "n     Energy            log10(ΔE)   log10(Δρ)   Diag   Δtime\n",
      "---   ---------------   ---------   ---------   ----   ------\n",
      "  1   -7.235224325734                   -0.50    8.0   11.0ms\n",
      "  2   -7.250342837936       -1.82       -1.41    1.0   5.31ms\n",
      "  3   -7.251206639503       -3.06       -2.00    2.0   30.2ms\n",
      "  4   -7.251074141510   +   -3.88       -1.95    1.0   5.63ms\n",
      "  5   -7.251333651395       -3.59       -2.84    1.0   5.47ms\n",
      "  6   -7.251338305558       -5.33       -3.42    1.0   5.41ms\n",
      "  7   -7.251338747038       -6.36       -3.71    2.0   6.49ms\n",
      "  8   -7.251338792088       -7.35       -4.13    1.0   5.53ms\n",
      "  9   -7.251338797696       -8.25       -4.71    2.0   6.21ms\n",
      " 10   -7.251338798515       -9.09       -4.93    2.0   6.74ms\n",
      " 11   -7.251338798687       -9.77       -5.47    1.0   5.60ms\n",
      " 12   -7.251338798702      -10.81       -5.95    2.0   6.60ms\n",
      " 13   -7.251338798704      -11.67       -6.72    1.0   5.72ms\n",
      " 14   -7.251338798705      -12.79       -6.72    3.0   7.63ms\n",
      " 15   -7.251338798705      -13.59       -7.13    1.0   5.73ms\n",
      " 16   -7.251338798705   +    -Inf       -7.26    2.0   6.70ms\n",
      " 17   -7.251338798705      -14.57       -7.82    1.0   5.76ms\n",
      " 18   -7.251338798705      -14.75       -8.48    2.0   6.73ms\n"
     ]
    }
   ],
   "cell_type": "code",
   "source": [
    "using DFTK\n",
    "using Plots\n",
    "using KrylovKit\n",
    "using Printf\n",
    "\n",
    "# Calculation parameters\n",
    "kgrid = [1, 1, 1]\n",
    "Ecut = 5\n",
    "\n",
    "# Silicon lattice\n",
    "a = 10.26\n",
    "lattice = a / 2 .* [[0 1 1.]; [1 0 1.]; [1 1 0.]]\n",
    "Si = ElementPsp(:Si; psp=load_psp(\"hgh/lda/Si-q4\"))\n",
    "atoms     = [Si, Si]\n",
    "positions = [ones(3)/8, -ones(3)/8]\n",
    "\n",
    "# Compute the dielectric operator without symmetries\n",
    "model  = model_LDA(lattice, atoms, positions, symmetries=false)\n",
    "basis  = PlaneWaveBasis(model; Ecut, kgrid)\n",
    "scfres = self_consistent_field(basis, tol=1e-8);"
   ],
   "metadata": {},
   "execution_count": 1
  },
  {
   "cell_type": "markdown",
   "source": [
    "Applying $ε^† ≔ (1- χ_0 K)$ …"
   ],
   "metadata": {}
  },
  {
   "outputs": [],
   "cell_type": "code",
   "source": [
    "function eps_fun(δρ)\n",
    "    δV = apply_kernel(basis, δρ; ρ=scfres.ρ)\n",
    "    χ0δV = apply_χ0(scfres, δV)\n",
    "    δρ - χ0δV\n",
    "end;"
   ],
   "metadata": {},
   "execution_count": 2
  },
  {
   "cell_type": "markdown",
   "source": [
    "… eagerly diagonalizes the subspace matrix at each iteration"
   ],
   "metadata": {}
  },
  {
   "outputs": [
    {
     "name": "stdout",
     "output_type": "stream",
     "text": [
      "[ Info: Arnoldi iteration step 1: normres = 0.035592272043670894\n",
      "[ Info: Arnoldi iteration step 2: normres = 0.6293176025539942\n",
      "[ Info: Arnoldi iteration step 3: normres = 0.8656301896293287\n",
      "[ Info: Arnoldi iteration step 4: normres = 0.34450852868879184\n",
      "[ Info: Arnoldi iteration step 5: normres = 0.3271122071851418\n",
      "[ Info: Arnoldi schursolve in iter 1, krylovdim = 5: 0 values converged, normres = (3.42e-02, 5.84e-02, 2.45e-01, 2.06e-01, 1.02e-02)\n",
      "[ Info: Arnoldi iteration step 6: normres = 0.49757220295013643\n",
      "[ Info: Arnoldi schursolve in iter 1, krylovdim = 6: 0 values converged, normres = (1.44e-02, 1.94e-01, 4.28e-01, 1.22e-01, 1.06e-01)\n",
      "[ Info: Arnoldi iteration step 7: normres = 0.07053957747772949\n",
      "[ Info: Arnoldi schursolve in iter 1, krylovdim = 7: 0 values converged, normres = (5.56e-04, 2.53e-02, 1.25e-02, 3.04e-02, 4.59e-02)\n",
      "[ Info: Arnoldi iteration step 8: normres = 0.09744186435304994\n",
      "[ Info: Arnoldi schursolve in iter 1, krylovdim = 8: 0 values converged, normres = (2.33e-05, 1.74e-03, 9.58e-04, 9.19e-03, 3.58e-02)\n",
      "[ Info: Arnoldi iteration step 9: normres = 0.06426388751414407\n",
      "[ Info: Arnoldi schursolve in iter 1, krylovdim = 9: 0 values converged, normres = (6.41e-07, 7.84e-05, 4.77e-05, 1.85e-03, 2.10e-02)\n",
      "[ Info: Arnoldi iteration step 10: normres = 0.08598718125281214\n",
      "[ Info: Arnoldi schursolve in iter 1, krylovdim = 10: 0 values converged, normres = (2.39e-08, 4.82e-06, 3.26e-06, 5.27e-04, 1.94e-02)\n",
      "[ Info: Arnoldi iteration step 11: normres = 0.10508996434822183\n",
      "[ Info: Arnoldi schursolve in iter 1, krylovdim = 11: 0 values converged, normres = (1.09e-09, 3.63e-07, 2.73e-07, 1.92e-04, 3.32e-02)\n",
      "[ Info: Arnoldi iteration step 12: normres = 0.09509833012475266\n",
      "[ Info: Arnoldi schursolve in iter 1, krylovdim = 12: 0 values converged, normres = (4.58e-11, 2.54e-08, 2.13e-08, 7.64e-05, 4.80e-02)\n",
      "[ Info: Arnoldi iteration step 13: normres = 0.0338964267984082\n",
      "[ Info: Arnoldi schursolve in iter 1, krylovdim = 13: 1 values converged, normres = (6.58e-13, 5.96e-10, 5.53e-10, 7.80e-06, 9.16e-03)\n",
      "[ Info: Arnoldi iteration step 14: normres = 0.6568947394132167\n",
      "[ Info: Arnoldi schursolve in iter 1, krylovdim = 14: 1 values converged, normres = (2.16e-13, 3.57e-10, 3.79e-10, 9.22e-04, 6.30e-01)\n",
      "[ Info: Arnoldi iteration step 15: normres = 0.04675596935870377\n",
      "[ Info: Arnoldi schursolve in iter 1, krylovdim = 15: 1 values converged, normres = (7.95e-15, 8.72e-11, 3.70e-02, 1.14e-02, 1.36e-06)\n",
      "[ Info: Arnoldi iteration step 16: normres = 0.7472611946276624\n",
      "[ Info: Arnoldi schursolve in iter 1, krylovdim = 16: 1 values converged, normres = (3.22e-15, 7.11e-11, 3.56e-02, 3.16e-03, 7.34e-01)\n",
      "[ Info: Arnoldi iteration step 17: normres = 0.05597810064712678\n",
      "[ Info: Arnoldi schursolve in iter 1, krylovdim = 17: 1 values converged, normres = (1.52e-16, 8.85e-10, 4.40e-02, 5.85e-03, 5.68e-03)\n",
      "[ Info: Arnoldi iteration step 18: normres = 0.022321725551371862\n",
      "[ Info: Arnoldi schursolve in iter 1, krylovdim = 18: 1 values converged, normres = (1.40e-18, 2.18e-09, 6.48e-04, 8.36e-09, 1.41e-04)\n",
      "[ Info: Arnoldi iteration step 19: normres = 0.07200988220521588\n",
      "[ Info: Arnoldi schursolve in iter 1, krylovdim = 19: 1 values converged, normres = (4.18e-20, 3.09e-05, 9.60e-07, 1.67e-06, 7.21e-06)\n",
      "[ Info: Arnoldi iteration step 20: normres = 0.15411430359224834\n",
      "[ Info: Arnoldi schursolve in iter 1, krylovdim = 20: 1 values converged, normres = (3.08e-21, 2.36e-09, 4.04e-06, 9.65e-08, 1.09e-06)\n",
      "[ Info: Arnoldi iteration step 21: normres = 0.02950957472818174\n",
      "[ Info: Arnoldi schursolve in iter 1, krylovdim = 21: 1 values converged, normres = (3.92e-23, 3.32e-08, 7.80e-08, 6.09e-09, 2.49e-08)\n",
      "[ Info: Arnoldi iteration step 22: normres = 0.022038029972490346\n",
      "[ Info: Arnoldi schursolve in iter 1, krylovdim = 22: 1 values converged, normres = (3.55e-25, 1.96e-10, 1.21e-09, 8.99e-11, 3.98e-10)\n",
      "[ Info: Arnoldi iteration step 23: normres = 0.6800208595215054\n",
      "[ Info: Arnoldi schursolve in iter 1, krylovdim = 23: 1 values converged, normres = (1.42e-25, 1.63e-10, 1.04e-09, 9.42e-11, 4.14e-10)\n",
      "[ Info: Arnoldi iteration step 24: normres = 0.017257674518026858\n",
      "[ Info: Arnoldi schursolve in iter 1, krylovdim = 24: 1 values converged, normres = (1.63e-27, 1.05e-11, 6.66e-11, 9.05e-03, 7.24e-03)\n",
      "[ Info: Arnoldi iteration step 25: normres = 0.05698746671010119\n",
      "[ Info: Arnoldi schursolve in iter 1, krylovdim = 25: 2 values converged, normres = (3.83e-29, 3.92e-13, 2.48e-12, 7.19e-09, 2.56e-08)\n",
      "[ Info: Arnoldi iteration step 26: normres = 0.0589362311477636\n",
      "[ Info: Arnoldi schursolve in iter 1, krylovdim = 26: 3 values converged, normres = (1.02e-30, 1.76e-14, 1.12e-13, 2.19e-05, 5.30e-06)\n",
      "[ Info: Arnoldi iteration step 27: normres = 0.04438853478714786\n",
      "[ Info: Arnoldi schursolve in iter 1, krylovdim = 27: 3 values converged, normres = (1.87e-32, 5.18e-16, 3.28e-15, 6.07e-10, 2.90e-09)\n",
      "[ Info: Arnoldi iteration step 28: normres = 0.06995419568806178\n",
      "[ Info: Arnoldi schursolve in iter 1, krylovdim = 28: 3 values converged, normres = (5.76e-34, 2.66e-17, 1.68e-16, 2.24e-08, 3.11e-08)\n",
      "[ Info: Arnoldi iteration step 29: normres = 0.03684946729455038\n",
      "[ Info: Arnoldi schursolve in iter 1, krylovdim = 29: 3 values converged, normres = (8.80e-36, 6.52e-19, 4.12e-18, 5.13e-11, 8.82e-10)\n",
      "[ Info: Arnoldi iteration step 30: normres = 0.1370923582544469\n",
      "[ Info: Arnoldi schursolve in iter 1, krylovdim = 30: 3 values converged, normres = (5.87e-37, 7.77e-20, 4.92e-19, 7.01e-12, 1.22e-10)\n",
      "[ Info: Arnoldi schursolve in iter 2, krylovdim = 19: 3 values converged, normres = (5.87e-37, 7.77e-20, 4.92e-19, 7.01e-12, 1.22e-10)\n",
      "[ Info: Arnoldi iteration step 20: normres = 0.05111882989700508\n",
      "[ Info: Arnoldi schursolve in iter 2, krylovdim = 20: 4 values converged, normres = (1.27e-38, 2.75e-21, 1.74e-20, 2.75e-13, 4.78e-12)\n",
      "[ Info: Arnoldi iteration step 21: normres = 0.05282309640812098\n",
      "┌ Info: Arnoldi eigsolve finished after 2 iterations:\n",
      "│ *  6 eigenvalues converged\n",
      "│ *  norm of residuals = (2.9012005072011973e-40, 1.0322762669290461e-22, 6.45696749968325e-22, 1.1457971879831744e-14, 1.9884393198117188e-13, 2.4575518102499476e-13)\n",
      "└ *  number of operations = 32\n"
     ]
    }
   ],
   "cell_type": "code",
   "source": [
    "eigsolve(eps_fun, randn(size(scfres.ρ)), 5, :LM; eager=true, verbosity=3);"
   ],
   "metadata": {},
   "execution_count": 3
  }
 ],
 "nbformat_minor": 3,
 "metadata": {
  "language_info": {
   "file_extension": ".jl",
   "mimetype": "application/julia",
   "name": "julia",
   "version": "1.10.0"
  },
  "kernelspec": {
   "name": "julia-1.10",
   "display_name": "Julia 1.10.0",
   "language": "julia"
  }
 },
 "nbformat": 4
}
