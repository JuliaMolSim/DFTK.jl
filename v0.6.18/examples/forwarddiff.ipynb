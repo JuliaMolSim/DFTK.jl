{
 "cells": [
  {
   "cell_type": "markdown",
   "source": [
    "# Polarizability using automatic differentiation\n",
    "\n",
    "Simple example for computing properties using (forward-mode)\n",
    "automatic differentiation.\n",
    "For a more classical approach and more details about computing polarizabilities,\n",
    "see Polarizability by linear response."
   ],
   "metadata": {}
  },
  {
   "outputs": [],
   "cell_type": "code",
   "source": [
    "using DFTK\n",
    "using LinearAlgebra\n",
    "using ForwardDiff\n",
    "\n",
    "# Construct PlaneWaveBasis given a particular electric field strength\n",
    "# Again we take the example of a Helium atom.\n",
    "function make_basis(ε::T; a=10., Ecut=30) where {T}\n",
    "    lattice=T(a) * I(3)  # lattice is a cube of $a$ Bohrs\n",
    "    # Helium at the center of the box\n",
    "    atoms     = [ElementPsp(:He; psp=load_psp(\"hgh/lda/He-q2\"))]\n",
    "    positions = [[1/2, 1/2, 1/2]]\n",
    "\n",
    "    model = model_DFT(lattice, atoms, positions, [:lda_x, :lda_c_vwn];\n",
    "                      extra_terms=[ExternalFromReal(r -> -ε * (r[1] - a/2))],\n",
    "                      symmetries=false)\n",
    "    PlaneWaveBasis(model; Ecut, kgrid=[1, 1, 1])  # No k-point sampling on isolated system\n",
    "end\n",
    "\n",
    "# dipole moment of a given density (assuming the current geometry)\n",
    "function dipole(basis, ρ)\n",
    "    @assert isdiag(basis.model.lattice)\n",
    "    a  = basis.model.lattice[1, 1]\n",
    "    rr = [a * (r[1] - 1/2) for r in r_vectors(basis)]\n",
    "    sum(rr .* ρ) * basis.dvol\n",
    "end\n",
    "\n",
    "# Function to compute the dipole for a given field strength\n",
    "function compute_dipole(ε; tol=1e-8, kwargs...)\n",
    "    scfres = self_consistent_field(make_basis(ε; kwargs...); tol)\n",
    "    dipole(scfres.basis, scfres.ρ)\n",
    "end;"
   ],
   "metadata": {},
   "execution_count": 1
  },
  {
   "cell_type": "markdown",
   "source": [
    "With this in place we can compute the polarizability from finite differences\n",
    "(just like in the previous example):"
   ],
   "metadata": {}
  },
  {
   "outputs": [
    {
     "name": "stdout",
     "output_type": "stream",
     "text": [
      "n     Energy            log10(ΔE)   log10(Δρ)   Diag   Δtime\n",
      "---   ---------------   ---------   ---------   ----   ------\n",
      "  1   -2.770882981348                   -0.52    9.0    211ms\n",
      "  2   -2.772148367335       -2.90       -1.32    1.0    108ms\n",
      "  3   -2.772170227048       -4.66       -2.43    1.0    127ms\n",
      "  4   -2.772170655877       -6.37       -3.14    1.0    110ms\n",
      "  5   -2.772170722765       -7.17       -4.37    2.0    138ms\n",
      "  6   -2.772170722898       -9.88       -4.58    1.0    110ms\n",
      "  7   -2.772170723009       -9.95       -5.25    1.0    150ms\n",
      "  8   -2.772170723014      -11.30       -5.68    1.0    118ms\n",
      "  9   -2.772170723015      -12.09       -6.56    2.0    453ms\n",
      " 10   -2.772170723015   +  -14.88       -6.71    1.0    412ms\n",
      " 11   -2.772170723015   +  -14.65       -7.47    1.0    132ms\n",
      " 12   -2.772170723015      -14.35       -8.25    2.0    134ms\n",
      "n     Energy            log10(ΔE)   log10(Δρ)   Diag   Δtime\n",
      "---   ---------------   ---------   ---------   ----   ------\n",
      "  1   -2.770773581644                   -0.52    9.0    159ms\n",
      "  2   -2.772060247032       -2.89       -1.33    1.0    106ms\n",
      "  3   -2.772082924158       -4.64       -2.42    1.0    107ms\n",
      "  4   -2.772083334082       -6.39       -3.11    1.0    109ms\n",
      "  5   -2.772083417756       -7.08       -4.74    2.0    123ms\n",
      "  6   -2.772083417739   +  -10.76       -4.65    2.0    125ms\n",
      "  7   -2.772083417809      -10.16       -5.49    1.0    113ms\n",
      "  8   -2.772083417810      -11.78       -6.11    1.0    116ms\n",
      "  9   -2.772083417811      -12.59       -6.40    2.0    139ms\n",
      " 10   -2.772083417811      -14.21       -7.23    1.0    125ms\n",
      " 11   -2.772083417811      -14.24       -7.70    1.0    117ms\n",
      " 12   -2.772083417811      -14.45       -8.69    1.0    131ms\n"
     ]
    },
    {
     "output_type": "execute_result",
     "data": {
      "text/plain": "1.7735580858634685"
     },
     "metadata": {},
     "execution_count": 2
    }
   ],
   "cell_type": "code",
   "source": [
    "polarizability_fd = let\n",
    "    ε = 0.01\n",
    "    (compute_dipole(ε) - compute_dipole(0.0)) / ε\n",
    "end"
   ],
   "metadata": {},
   "execution_count": 2
  },
  {
   "cell_type": "markdown",
   "source": [
    "We do the same thing using automatic differentiation. Under the hood this uses\n",
    "custom rules to implicitly differentiate through the self-consistent\n",
    "field fixed-point problem."
   ],
   "metadata": {}
  },
  {
   "outputs": [
    {
     "name": "stdout",
     "output_type": "stream",
     "text": [
      "n     Energy            log10(ΔE)   log10(Δρ)   Diag   Δtime\n",
      "---   ---------------   ---------   ---------   ----   ------\n",
      "  1   -2.770812365020                   -0.52    9.0    156ms\n",
      "  2   -2.772062245286       -2.90       -1.32    1.0    118ms\n",
      "  3   -2.772083066616       -4.68       -2.45    1.0    108ms\n",
      "  4   -2.772083342710       -6.56       -3.15    1.0    124ms\n",
      "  5   -2.772083417320       -7.13       -4.14    2.0    133ms\n",
      "  6   -2.772083417688       -9.43       -4.57    1.0    113ms\n",
      "  7   -2.772083417809       -9.92       -5.71    1.0    121ms\n",
      "  8   -2.772083417810      -11.82       -5.75    2.0    127ms\n",
      "  9   -2.772083417811      -12.37       -6.48    1.0    127ms\n",
      " 10   -2.772083417811      -13.66       -7.47    1.0    130ms\n",
      " 11   -2.772083417811      -14.27       -7.66    2.0    138ms\n",
      " 12   -2.772083417811   +  -14.45       -8.66    1.0    130ms\n",
      "\n",
      "Polarizability via ForwardDiff:       1.7725349768726653\n",
      "Polarizability via finite difference: 1.7735580858634685\n"
     ]
    }
   ],
   "cell_type": "code",
   "source": [
    "polarizability = ForwardDiff.derivative(compute_dipole, 0.0)\n",
    "println()\n",
    "println(\"Polarizability via ForwardDiff:       $polarizability\")\n",
    "println(\"Polarizability via finite difference: $polarizability_fd\")"
   ],
   "metadata": {},
   "execution_count": 3
  }
 ],
 "nbformat_minor": 3,
 "metadata": {
  "language_info": {
   "file_extension": ".jl",
   "mimetype": "application/julia",
   "name": "julia",
   "version": "1.10.0"
  },
  "kernelspec": {
   "name": "julia-1.10",
   "display_name": "Julia 1.10.0",
   "language": "julia"
  }
 },
 "nbformat": 4
}
