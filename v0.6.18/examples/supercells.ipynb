{
 "cells": [
  {
   "cell_type": "markdown",
   "source": [
    "# Creating and modelling metallic supercells\n",
    "\n",
    "In this section we will be concerned with modelling supercells of aluminium.\n",
    "When dealing with periodic problems there is no unique definition of the\n",
    "lattice: Clearly any duplication of the lattice along an axis is also a valid\n",
    "repetitive unit to describe exactly the same system.\n",
    "This is exactly what a **supercell** is: An $n$-fold repetition along one of the\n",
    "axes of the original lattice.\n",
    "\n",
    "The following code achieves this for aluminium:"
   ],
   "metadata": {}
  },
  {
   "outputs": [
    {
     "name": "stdout",
     "output_type": "stream",
     "text": [
      "\u001b[32m\u001b[1m    CondaPkg \u001b[22m\u001b[39m\u001b[0mFound dependencies: /home/runner/.julia/packages/ASEconvert/CNQ1A/CondaPkg.toml\n",
      "\u001b[32m\u001b[1m    CondaPkg \u001b[22m\u001b[39m\u001b[0mFound dependencies: /home/runner/.julia/packages/PythonCall/wXfah/CondaPkg.toml\n",
      "\u001b[32m\u001b[1m    CondaPkg \u001b[22m\u001b[39m\u001b[0mDependencies already up to date\n"
     ]
    }
   ],
   "cell_type": "code",
   "source": [
    "using DFTK\n",
    "using LinearAlgebra\n",
    "using ASEconvert\n",
    "\n",
    "function aluminium_setup(repeat=1; Ecut=7.0, kgrid=[2, 2, 2])\n",
    "    a = 7.65339\n",
    "    lattice = a * Matrix(I, 3, 3)\n",
    "    Al = ElementPsp(:Al; psp=load_psp(\"hgh/lda/al-q3\"))\n",
    "    atoms     = [Al, Al, Al, Al]\n",
    "    positions = [[0.0, 0.0, 0.0], [0.0, 0.5, 0.5], [0.5, 0.0, 0.5], [0.5, 0.5, 0.0]]\n",
    "    unit_cell = periodic_system(lattice, atoms, positions)\n",
    "\n",
    "    # Make supercell in ASE:\n",
    "    # We convert our lattice to the conventions used in ASE, make the supercell\n",
    "    # and then convert back ...\n",
    "    supercell_ase = convert_ase(unit_cell) * pytuple((repeat, 1, 1))\n",
    "    supercell     = pyconvert(AbstractSystem, supercell_ase)\n",
    "\n",
    "    # Unfortunately right now the conversion to ASE drops the pseudopotential information,\n",
    "    # so we need to reattach it:\n",
    "    supercell = attach_psp(supercell; Al=\"hgh/lda/al-q3\")\n",
    "\n",
    "    # Construct an LDA model and discretise\n",
    "    # Note: We disable symmetries explicitly here. Otherwise the problem sizes\n",
    "    #       we are able to run on the CI are too simple to observe the numerical\n",
    "    #       instabilities we want to trigger here.\n",
    "    model = model_LDA(supercell; temperature=1e-3, symmetries=false)\n",
    "    PlaneWaveBasis(model; Ecut, kgrid)\n",
    "end;"
   ],
   "metadata": {},
   "execution_count": 1
  },
  {
   "cell_type": "markdown",
   "source": [
    "As part of the code we are using a routine inside the ASE,\n",
    "the [atomistic simulation environment](https://wiki.fysik.dtu.dk/ase/index.html)\n",
    "for creating the supercell and make use of the two-way interoperability of\n",
    "DFTK and ASE. For more details on this aspect see the documentation\n",
    "on Input and output formats."
   ],
   "metadata": {}
  },
  {
   "cell_type": "markdown",
   "source": [
    "Write an example supercell structure to a file to plot it:"
   ],
   "metadata": {}
  },
  {
   "outputs": [
    {
     "name": "stdout",
     "output_type": "stream",
     "text": [
      "┌ Warning: Skipping atomic property pseudopotential, which is not supported in ASE.\n",
      "└ @ ASEconvert ~/.julia/packages/ASEconvert/CNQ1A/src/ASEconvert.jl:123\n",
      "┌ Warning: Skipping atomic property pseudopotential, which is not supported in ASE.\n",
      "└ @ ASEconvert ~/.julia/packages/ASEconvert/CNQ1A/src/ASEconvert.jl:123\n"
     ]
    },
    {
     "output_type": "execute_result",
     "data": {
      "text/plain": "Python: None"
     },
     "metadata": {},
     "execution_count": 2
    }
   ],
   "cell_type": "code",
   "source": [
    "setup = aluminium_setup(5)\n",
    "convert_ase(periodic_system(setup.model)).write(\"al_supercell.png\")"
   ],
   "metadata": {},
   "execution_count": 2
  },
  {
   "cell_type": "markdown",
   "source": [
    "<img src=\"https://docs.dftk.org/stable/examples/al_supercell.png\" width=500 height=500 />"
   ],
   "metadata": {}
  },
  {
   "cell_type": "markdown",
   "source": [
    "As we will see in this notebook the modelling of a system generally becomes\n",
    "harder if the system becomes larger.\n",
    "\n",
    "- This sounds like a trivial statement as *per se* the cost per SCF step increases\n",
    "  as the system (and thus $N$) gets larger.\n",
    "- But there is more to it:\n",
    "  If one is not careful also the *number of SCF iterations* increases\n",
    "  as the system gets larger.\n",
    "- The aim of a proper computational treatment of such supercells is therefore\n",
    "  to ensure that the **number of SCF iterations remains constant** when the\n",
    "  system size increases."
   ],
   "metadata": {}
  },
  {
   "cell_type": "markdown",
   "source": [
    "For achieving the latter DFTK by default employs the `LdosMixing`\n",
    "preconditioner [^HL2021] during the SCF iterations. This mixing approach is\n",
    "completely parameter free, but still automatically adapts to the treated\n",
    "system in order to efficiently prevent charge sloshing. As a result,\n",
    "modelling aluminium slabs indeed takes roughly the same number of SCF iterations\n",
    "irrespective of the supercell size:\n",
    "\n",
    "[^HL2021]:\n",
    "   M. F. Herbst and A. Levitt.\n",
    "   *Black-box inhomogeneous preconditioning for self-consistent field iterations in density functional theory.*\n",
    "   J. Phys. Cond. Matt *33* 085503 (2021). [ArXiv:2009.01665](https://arxiv.org/abs/2009.01665)"
   ],
   "metadata": {}
  },
  {
   "outputs": [
    {
     "name": "stdout",
     "output_type": "stream",
     "text": [
      "┌ Warning: Skipping atomic property pseudopotential, which is not supported in ASE.\n",
      "└ @ ASEconvert ~/.julia/packages/ASEconvert/CNQ1A/src/ASEconvert.jl:123\n",
      "n     Energy            log10(ΔE)   log10(Δρ)   Diag   Δtime\n",
      "---   ---------------   ---------   ---------   ----   ------\n",
      "  1   -8.298713842688                   -0.85    5.8    216ms\n",
      "  2   -8.300236354105       -2.82       -1.26    1.0   98.6ms\n",
      "  3   -8.300444264495       -3.68       -1.90    3.6    160ms\n",
      "  4   -8.300461357753       -4.77       -2.78    1.0   96.6ms\n",
      "  5   -8.300463939267       -5.59       -3.03    3.0    132ms\n",
      "  6   -8.300464366779       -6.37       -3.24    1.1    104ms\n",
      "  7   -8.300464518234       -6.82       -3.39    1.0   92.0ms\n",
      "  8   -8.300464593131       -7.13       -3.55    1.0   91.8ms\n",
      "  9   -8.300464632683       -7.40       -3.76    1.2   95.7ms\n",
      " 10   -8.300464634978       -8.64       -3.81    1.0   94.0ms\n",
      " 11   -8.300464642841       -8.10       -4.11    1.0   92.7ms\n"
     ]
    }
   ],
   "cell_type": "code",
   "source": [
    "self_consistent_field(aluminium_setup(1); tol=1e-4);"
   ],
   "metadata": {},
   "execution_count": 3
  },
  {
   "outputs": [
    {
     "name": "stdout",
     "output_type": "stream",
     "text": [
      "┌ Warning: Skipping atomic property pseudopotential, which is not supported in ASE.\n",
      "└ @ ASEconvert ~/.julia/packages/ASEconvert/CNQ1A/src/ASEconvert.jl:123\n",
      "n     Energy            log10(ΔE)   log10(Δρ)   Diag   Δtime\n",
      "---   ---------------   ---------   ---------   ----   ------\n",
      "  1   -16.67565683242                   -0.70    7.5    526ms\n",
      "  2   -16.67880195027       -2.50       -1.14    1.0    209ms\n",
      "  3   -16.67922589307       -3.37       -1.86    2.0    245ms\n",
      "  4   -16.67927302198       -4.33       -2.74    1.0    206ms\n",
      "  5   -16.67928561687       -4.90       -3.19    5.9    385ms\n",
      "  6   -16.67928614379       -6.28       -3.48    3.6    287ms\n",
      "  7   -16.67928621204       -7.17       -3.89    1.8    225ms\n",
      "  8   -16.67928621973       -8.11       -4.49    2.2    246ms\n"
     ]
    }
   ],
   "cell_type": "code",
   "source": [
    "self_consistent_field(aluminium_setup(2); tol=1e-4);"
   ],
   "metadata": {},
   "execution_count": 4
  },
  {
   "outputs": [
    {
     "name": "stdout",
     "output_type": "stream",
     "text": [
      "┌ Warning: Skipping atomic property pseudopotential, which is not supported in ASE.\n",
      "└ @ ASEconvert ~/.julia/packages/ASEconvert/CNQ1A/src/ASEconvert.jl:123\n",
      "n     Energy            log10(ΔE)   log10(Δρ)   Diag   Δtime\n",
      "---   ---------------   ---------   ---------   ----   ------\n",
      "  1   -33.32646459315                   -0.56    7.9    1.46s\n",
      "  2   -33.33290946818       -2.19       -1.00    1.0    692ms\n",
      "  3   -33.33414239551       -2.91       -1.73    4.1    932ms\n",
      "  4   -33.33426521758       -3.91       -2.64    1.2    685ms\n",
      "  5   -33.33519105305       -3.03       -2.43    5.2    1.20s\n",
      "  6   -33.33694293836       -2.76       -2.52    7.8    1.17s\n",
      "  7   -33.33694304449       -6.97       -2.52    1.0    622ms\n",
      "  8   -33.33685855774   +   -4.07       -2.39    2.4    668ms\n",
      "  9   -33.33673267828   +   -3.90       -2.21    2.1    652ms\n",
      " 10   -33.33671922215   +   -4.87       -2.20    1.0    617ms\n",
      " 11   -33.33673744542       -4.74       -2.21    1.0    617ms\n",
      " 12   -33.33675787032       -4.69       -2.23    2.2    657ms\n",
      " 13   -33.33677758035       -4.71       -2.26    1.0    620ms\n",
      " 14   -33.33678347245       -5.23       -2.27    1.0    644ms\n",
      " 15   -33.33682190402       -4.42       -2.33    1.0    647ms\n",
      " 16   -33.33682318851       -5.89       -2.33    1.0    650ms\n",
      " 17   -33.33694288051       -3.92       -3.64    1.0    652ms\n",
      " 18   -33.33694374539       -6.06       -3.77    4.5    1.13s\n",
      " 19   -33.33694375652       -7.95       -3.73    1.2    642ms\n",
      " 20   -33.33694375655      -10.58       -3.75    1.1    624ms\n",
      " 21   -33.33694374810   +   -8.07       -3.72    1.0    610ms\n",
      " 22   -33.33694374662   +   -8.83       -3.79    1.0    630ms\n",
      " 23   -33.33694377712       -7.52       -4.30    1.0    629ms\n"
     ]
    }
   ],
   "cell_type": "code",
   "source": [
    "self_consistent_field(aluminium_setup(4); tol=1e-4);"
   ],
   "metadata": {},
   "execution_count": 5
  },
  {
   "cell_type": "markdown",
   "source": [
    "When switching off explicitly the `LdosMixing`, by selecting `mixing=SimpleMixing()`,\n",
    "the performance of number of required SCF steps starts to increase as we increase\n",
    "the size of the modelled problem:"
   ],
   "metadata": {}
  },
  {
   "outputs": [
    {
     "name": "stdout",
     "output_type": "stream",
     "text": [
      "┌ Warning: Skipping atomic property pseudopotential, which is not supported in ASE.\n",
      "└ @ ASEconvert ~/.julia/packages/ASEconvert/CNQ1A/src/ASEconvert.jl:123\n",
      "n     Energy            log10(ΔE)   log10(Δρ)   Diag   Δtime\n",
      "---   ---------------   ---------   ---------   ----   ------\n",
      "  1   -8.298573564907                   -0.85    5.2    257ms\n",
      "  2   -8.300269908682       -2.77       -1.59    1.1   81.2ms\n",
      "  3   -8.300429063398       -3.80       -2.59    3.2    104ms\n",
      "  4   -8.300407130762   +   -4.66       -2.37    4.6    162ms\n",
      "  5   -8.300463675541       -4.25       -3.24    1.0   87.3ms\n",
      "  6   -8.300464571691       -6.05       -3.67    3.6    141ms\n",
      "  7   -8.300464637246       -7.18       -4.22    1.4   98.5ms\n"
     ]
    }
   ],
   "cell_type": "code",
   "source": [
    "self_consistent_field(aluminium_setup(1); tol=1e-4, mixing=SimpleMixing());"
   ],
   "metadata": {},
   "execution_count": 6
  },
  {
   "outputs": [
    {
     "name": "stdout",
     "output_type": "stream",
     "text": [
      "┌ Warning: Skipping atomic property pseudopotential, which is not supported in ASE.\n",
      "└ @ ASEconvert ~/.julia/packages/ASEconvert/CNQ1A/src/ASEconvert.jl:123\n",
      "n     Energy            log10(ΔE)   log10(Δρ)   Diag   Δtime\n",
      "---   ---------------   ---------   ---------   ----   ------\n",
      "  1   -33.32608097885                   -0.56    6.9    1.70s\n",
      "  2   -33.30723333006   +   -1.72       -1.26    1.0    579ms\n",
      "  3   -8.443423133991   +    1.40       -0.37    6.6    1.49s\n",
      "  4   -33.32967251917        1.40       -1.82    6.1    1.36s\n",
      "  5   -33.18815777352   +   -0.85       -1.28    3.9    1.07s\n",
      "  6   -32.68122257707   +   -0.30       -1.15    3.9    1.06s\n",
      "  7   -33.32235509496       -0.19       -1.95    4.9    1.04s\n",
      "  8   -33.33455554383       -1.91       -2.23    2.4    715ms\n",
      "  9   -33.33608394639       -2.82       -2.34    2.5    834ms\n",
      " 10   -33.33683006188       -3.13       -2.89    1.8    697ms\n",
      " 11   -33.33687717778       -4.33       -3.11    3.4    854ms\n",
      " 12   -33.33693759062       -4.22       -3.46    3.0    878ms\n",
      " 13   -33.33693857926       -6.00       -3.64    2.9    839ms\n",
      " 14   -33.33694343791       -5.31       -4.10    3.1    967ms\n"
     ]
    }
   ],
   "cell_type": "code",
   "source": [
    "self_consistent_field(aluminium_setup(4); tol=1e-4, mixing=SimpleMixing());"
   ],
   "metadata": {},
   "execution_count": 7
  },
  {
   "cell_type": "markdown",
   "source": [
    "For completion let us note that the more traditional `mixing=KerkerMixing()`\n",
    "approach would also help in this particular setting to obtain a constant\n",
    "number of SCF iterations for an increasing system size (try it!). In contrast\n",
    "to `LdosMixing`, however, `KerkerMixing` is only suitable to model bulk metallic\n",
    "system (like the case we are considering here). When modelling metallic surfaces\n",
    "or mixtures of metals and insulators, `KerkerMixing` fails, while `LdosMixing`\n",
    "still works well. See the Modelling a gallium arsenide surface example\n",
    "or [^HL2021] for details. Due to the general applicability of `LdosMixing` this\n",
    "method is the default mixing approach in DFTK."
   ],
   "metadata": {}
  }
 ],
 "nbformat_minor": 3,
 "metadata": {
  "language_info": {
   "file_extension": ".jl",
   "mimetype": "application/julia",
   "name": "julia",
   "version": "1.10.0"
  },
  "kernelspec": {
   "name": "julia-1.10",
   "display_name": "Julia 1.10.0",
   "language": "julia"
  }
 },
 "nbformat": 4
}
