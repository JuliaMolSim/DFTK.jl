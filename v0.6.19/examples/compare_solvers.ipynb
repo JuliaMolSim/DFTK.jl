{
 "cells": [
  {
   "cell_type": "markdown",
   "source": [
    "# Comparison of DFT solvers"
   ],
   "metadata": {}
  },
  {
   "cell_type": "markdown",
   "source": [
    "We compare four different approaches for solving the DFT minimisation problem,\n",
    "namely a density-based SCF, a potential-based SCF, direct minimisation and Newton."
   ],
   "metadata": {}
  },
  {
   "cell_type": "markdown",
   "source": [
    "First we setup our problem"
   ],
   "metadata": {}
  },
  {
   "outputs": [
    {
     "output_type": "execute_result",
     "data": {
      "text/plain": "1.0e-6"
     },
     "metadata": {},
     "execution_count": 1
    }
   ],
   "cell_type": "code",
   "source": [
    "using DFTK\n",
    "using LinearAlgebra\n",
    "\n",
    "a = 10.26  # Silicon lattice constant in Bohr\n",
    "lattice = a / 2 * [[0 1 1.];\n",
    "                   [1 0 1.];\n",
    "                   [1 1 0.]]\n",
    "Si = ElementPsp(:Si; psp=load_psp(\"hgh/lda/Si-q4\"))\n",
    "atoms     = [Si, Si]\n",
    "positions = [ones(3)/8, -ones(3)/8]\n",
    "\n",
    "model = model_LDA(lattice, atoms, positions)\n",
    "basis = PlaneWaveBasis(model; Ecut=5, kgrid=[3, 3, 3])\n",
    "\n",
    "# Convergence we desire in the density\n",
    "tol = 1e-6"
   ],
   "metadata": {},
   "execution_count": 1
  },
  {
   "cell_type": "markdown",
   "source": [
    "## Density-based self-consistent field"
   ],
   "metadata": {}
  },
  {
   "outputs": [
    {
     "name": "stdout",
     "output_type": "stream",
     "text": [
      "n     Energy            log10(ΔE)   log10(Δρ)   Diag   Δtime\n",
      "---   ---------------   ---------   ---------   ----   ------\n",
      "  1   -7.847768065569                   -0.70    4.5   83.2ms\n",
      "  2   -7.852391886513       -2.33       -1.53    1.0   17.1ms\n",
      "  3   -7.852609711015       -3.66       -2.55    1.2   17.4ms\n",
      "  4   -7.852645462427       -4.45       -2.78    2.5   22.2ms\n",
      "  5   -7.852646059784       -6.22       -2.86    1.2   17.7ms\n",
      "  6   -7.852646667721       -6.22       -3.85    1.0   16.9ms\n",
      "  7   -7.852646685003       -7.76       -4.66    1.5   18.6ms\n",
      "  8   -7.852646686687       -8.77       -5.02    1.8   20.0ms\n",
      "  9   -7.852646686715      -10.55       -5.26    1.0   17.1ms\n",
      " 10   -7.852646686727      -10.89       -5.63    1.0   17.7ms\n",
      " 11   -7.852646686730      -11.64       -6.37    1.2   17.9ms\n"
     ]
    }
   ],
   "cell_type": "code",
   "source": [
    "scfres_scf = self_consistent_field(basis; tol);"
   ],
   "metadata": {},
   "execution_count": 2
  },
  {
   "cell_type": "markdown",
   "source": [
    "## Potential-based SCF"
   ],
   "metadata": {}
  },
  {
   "outputs": [
    {
     "name": "stdout",
     "output_type": "stream",
     "text": [
      "n     Energy            log10(ΔE)   log10(Δρ)   α      Diag   Δtime\n",
      "---   ---------------   ---------   ---------   ----   ----   ------\n",
      "  1   -7.847732570054                   -0.70           4.8    418ms\n",
      "  2   -7.852560326211       -2.32       -1.62   0.80    2.0    2.21s\n",
      "  3   -7.852640980890       -4.09       -2.70   0.80    1.0    223ms\n",
      "  4   -7.852646535848       -5.26       -3.40   0.80    2.0   19.6ms\n",
      "  5   -7.852646679098       -6.84       -4.45   0.80    1.5   17.4ms\n",
      "  6   -7.852646686610       -8.12       -4.83   0.80    2.0   20.2ms\n",
      "  7   -7.852646686725       -9.94       -5.49   0.80    1.0   15.9ms\n",
      "  8   -7.852646686730      -11.37       -6.57   0.80    1.8   18.1ms\n"
     ]
    }
   ],
   "cell_type": "code",
   "source": [
    "scfres_scfv = DFTK.scf_potential_mixing(basis; tol);"
   ],
   "metadata": {},
   "execution_count": 3
  },
  {
   "cell_type": "markdown",
   "source": [
    "## Direct minimization\n",
    "Note: Unlike the other algorithms, tolerance for this one is in the energy,\n",
    "thus we square the density tolerance value to be roughly equivalent."
   ],
   "metadata": {}
  },
  {
   "outputs": [
    {
     "name": "stdout",
     "output_type": "stream",
     "text": [
      "n     Energy            log10(ΔE)   log10(Δρ)   Δtime\n",
      "---   ---------------   ---------   ---------   ------\n",
      "  1   +1.302867381357                   -1.02    4.15s\n",
      "  2   -1.473996605246        0.44       -0.70    104ms\n",
      "  3   -3.877556968770        0.38       -0.44   32.7ms\n",
      "  4   -5.137589003036        0.10       -0.58   32.7ms\n",
      "  5   -6.817505478699        0.23       -0.75   32.7ms\n",
      "  6   -6.958464135979       -0.85       -1.47   24.6ms\n",
      "  7   -7.545286211606       -0.23       -1.58   25.1ms\n",
      "  8   -7.691670519929       -0.83       -1.84   25.1ms\n",
      "  9   -7.768680554181       -1.11       -1.85   24.9ms\n",
      " 10   -7.800840892725       -1.49       -2.01   59.3ms\n",
      " 11   -7.816952161262       -1.79       -2.20   25.2ms\n",
      " 12   -7.836111721766       -1.72       -2.57   24.9ms\n",
      " 13   -7.848584371312       -1.90       -2.58   24.7ms\n",
      " 14   -7.851093983229       -2.60       -3.16   24.8ms\n",
      " 15   -7.851829891347       -3.13       -3.41   24.8ms\n",
      " 16   -7.852234795909       -3.39       -3.61   24.8ms\n",
      " 17   -7.852522251304       -3.54       -3.40   25.0ms\n",
      " 18   -7.852612398442       -4.05       -3.73   25.0ms\n",
      " 19   -7.852634973852       -4.65       -3.82   25.1ms\n",
      " 20   -7.852641809786       -5.17       -4.43   25.0ms\n",
      " 21   -7.852644587248       -5.56       -4.34   25.1ms\n",
      " 22   -7.852645914130       -5.88       -4.94   24.8ms\n",
      " 23   -7.852646443491       -6.28       -5.18   24.8ms\n",
      " 24   -7.852646608568       -6.78       -5.13   24.9ms\n",
      " 25   -7.852646660049       -7.29       -5.32   24.9ms\n",
      " 26   -7.852646677104       -7.77       -5.54   24.9ms\n",
      " 27   -7.852646683603       -8.19       -5.92   24.9ms\n",
      " 28   -7.852646685844       -8.65       -6.04   24.9ms\n",
      " 29   -7.852646686443       -9.22       -6.57   24.8ms\n",
      " 30   -7.852646686626       -9.74       -6.78   24.8ms\n",
      " 31   -7.852646686693      -10.17       -7.13   24.8ms\n",
      " 32   -7.852646686717      -10.62       -7.16   24.8ms\n",
      " 33   -7.852646686726      -11.05       -7.23   24.7ms\n",
      " 34   -7.852646686729      -11.59       -7.37   24.8ms\n",
      " 35   -7.852646686729      -12.15       -7.84   24.7ms\n",
      " 36   -7.852646686730      -12.54       -8.29   24.7ms\n",
      " 37   -7.852646686730      -12.86       -7.96   24.8ms\n",
      " 38   -7.852646686730      -13.17       -8.16   24.8ms\n",
      " 39   -7.852646686730      -13.64       -9.31   24.7ms\n",
      " 40   -7.852646686730      -13.91       -8.72   25.0ms\n",
      " 41   -7.852646686730      -14.57       -8.84   24.6ms\n",
      " 42   -7.852646686730      -15.05       -9.25   32.7ms\n",
      " 43   -7.852646686730   +    -Inf       -9.65   24.6ms\n",
      " 44   -7.852646686730   +    -Inf       -9.81   25.8ms\n",
      "┌ Warning: DM not converged.\n",
      "└ @ DFTK ~/work/DFTK.jl/DFTK.jl/src/scf/scf_callbacks.jl:60\n"
     ]
    }
   ],
   "cell_type": "code",
   "source": [
    "scfres_dm = direct_minimization(basis; tol=tol^2);"
   ],
   "metadata": {},
   "execution_count": 4
  },
  {
   "cell_type": "markdown",
   "source": [
    "## Newton algorithm"
   ],
   "metadata": {}
  },
  {
   "cell_type": "markdown",
   "source": [
    "Start not too far from the solution to ensure convergence:\n",
    "We run first a very crude SCF to get close and then switch to Newton."
   ],
   "metadata": {}
  },
  {
   "outputs": [
    {
     "name": "stdout",
     "output_type": "stream",
     "text": [
      "n     Energy            log10(ΔE)   log10(Δρ)   Diag   Δtime\n",
      "---   ---------------   ---------   ---------   ----   ------\n",
      "  1   -7.847773973845                   -0.70    4.8   30.4ms\n"
     ]
    }
   ],
   "cell_type": "code",
   "source": [
    "scfres_start = self_consistent_field(basis; tol=0.5);"
   ],
   "metadata": {},
   "execution_count": 5
  },
  {
   "cell_type": "markdown",
   "source": [
    "Remove the virtual orbitals (which Newton cannot treat yet)"
   ],
   "metadata": {}
  },
  {
   "outputs": [
    {
     "name": "stdout",
     "output_type": "stream",
     "text": [
      "n     Energy            log10(ΔE)   log10(Δρ)   Δtime\n",
      "---   ---------------   ---------   ---------   ------\n",
      "  1   -7.852645851432                   -1.63    13.4s\n",
      "  2   -7.852646686730       -6.08       -3.69    3.51s\n",
      "  3   -7.852646686730      -13.22       -7.20    124ms\n"
     ]
    }
   ],
   "cell_type": "code",
   "source": [
    "ψ = DFTK.select_occupied_orbitals(basis, scfres_start.ψ, scfres_start.occupation).ψ\n",
    "scfres_newton = newton(basis, ψ; tol);"
   ],
   "metadata": {},
   "execution_count": 6
  },
  {
   "cell_type": "markdown",
   "source": [
    "## Comparison of results"
   ],
   "metadata": {}
  },
  {
   "outputs": [
    {
     "name": "stdout",
     "output_type": "stream",
     "text": [
      "|ρ_newton - ρ_scf|  = 5.220810422208978e-7\n",
      "|ρ_newton - ρ_scfv| = 2.862807611357331e-7\n",
      "|ρ_newton - ρ_dm|   = 3.422723810254697e-10\n"
     ]
    }
   ],
   "cell_type": "code",
   "source": [
    "println(\"|ρ_newton - ρ_scf|  = \", norm(scfres_newton.ρ - scfres_scf.ρ))\n",
    "println(\"|ρ_newton - ρ_scfv| = \", norm(scfres_newton.ρ - scfres_scfv.ρ))\n",
    "println(\"|ρ_newton - ρ_dm|   = \", norm(scfres_newton.ρ - scfres_dm.ρ))"
   ],
   "metadata": {},
   "execution_count": 7
  }
 ],
 "nbformat_minor": 3,
 "metadata": {
  "language_info": {
   "file_extension": ".jl",
   "mimetype": "application/julia",
   "name": "julia",
   "version": "1.10.3"
  },
  "kernelspec": {
   "name": "julia-1.10",
   "display_name": "Julia 1.10.3",
   "language": "julia"
  }
 },
 "nbformat": 4
}
