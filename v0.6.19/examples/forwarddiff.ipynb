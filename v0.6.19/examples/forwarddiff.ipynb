{
 "cells": [
  {
   "cell_type": "markdown",
   "source": [
    "# Polarizability using automatic differentiation\n",
    "\n",
    "Simple example for computing properties using (forward-mode)\n",
    "automatic differentiation.\n",
    "For a more classical approach and more details about computing polarizabilities,\n",
    "see Polarizability by linear response."
   ],
   "metadata": {}
  },
  {
   "outputs": [],
   "cell_type": "code",
   "source": [
    "using DFTK\n",
    "using LinearAlgebra\n",
    "using ForwardDiff\n",
    "\n",
    "# Construct PlaneWaveBasis given a particular electric field strength\n",
    "# Again we take the example of a Helium atom.\n",
    "function make_basis(ε::T; a=10., Ecut=30) where {T}\n",
    "    lattice=T(a) * I(3)  # lattice is a cube of $a$ Bohrs\n",
    "    # Helium at the center of the box\n",
    "    atoms     = [ElementPsp(:He; psp=load_psp(\"hgh/lda/He-q2\"))]\n",
    "    positions = [[1/2, 1/2, 1/2]]\n",
    "\n",
    "    model = model_DFT(lattice, atoms, positions, [:lda_x, :lda_c_vwn];\n",
    "                      extra_terms=[ExternalFromReal(r -> -ε * (r[1] - a/2))],\n",
    "                      symmetries=false)\n",
    "    PlaneWaveBasis(model; Ecut, kgrid=[1, 1, 1])  # No k-point sampling on isolated system\n",
    "end\n",
    "\n",
    "# dipole moment of a given density (assuming the current geometry)\n",
    "function dipole(basis, ρ)\n",
    "    @assert isdiag(basis.model.lattice)\n",
    "    a  = basis.model.lattice[1, 1]\n",
    "    rr = [a * (r[1] - 1/2) for r in r_vectors(basis)]\n",
    "    sum(rr .* ρ) * basis.dvol\n",
    "end\n",
    "\n",
    "# Function to compute the dipole for a given field strength\n",
    "function compute_dipole(ε; tol=1e-8, kwargs...)\n",
    "    scfres = self_consistent_field(make_basis(ε; kwargs...); tol)\n",
    "    dipole(scfres.basis, scfres.ρ)\n",
    "end;"
   ],
   "metadata": {},
   "execution_count": 1
  },
  {
   "cell_type": "markdown",
   "source": [
    "With this in place we can compute the polarizability from finite differences\n",
    "(just like in the previous example):"
   ],
   "metadata": {}
  },
  {
   "outputs": [
    {
     "name": "stdout",
     "output_type": "stream",
     "text": [
      "n     Energy            log10(ΔE)   log10(Δρ)   Diag   Δtime\n",
      "---   ---------------   ---------   ---------   ----   ------\n",
      "  1   -2.770845272487                   -0.53    9.0    156ms\n",
      "  2   -2.772141691323       -2.89       -1.31    1.0    123ms\n",
      "  3   -2.772170183601       -4.55       -2.58    1.0    107ms\n",
      "  4   -2.772170689026       -6.30       -3.75    1.0    233ms\n",
      "  5   -2.772170722229       -7.48       -4.09    2.0    166ms\n",
      "  6   -2.772170722983       -9.12       -5.36    1.0    450ms\n",
      "  7   -2.772170723013      -10.53       -5.39    2.0    139ms\n",
      "  8   -2.772170723015      -11.67       -6.13    1.0    120ms\n",
      "  9   -2.772170723015      -13.40       -6.47    2.0    141ms\n",
      " 10   -2.772170723015      -13.92       -7.25    1.0    136ms\n",
      " 11   -2.772170723015      -13.92       -8.07    1.0    134ms\n",
      "n     Energy            log10(ΔE)   log10(Δρ)   Diag   Δtime\n",
      "---   ---------------   ---------   ---------   ----   ------\n",
      "  1   -2.770659066573                   -0.53    9.0    202ms\n",
      "  2   -2.772054531253       -2.86       -1.30    1.0    128ms\n",
      "  3   -2.772083114577       -4.54       -2.62    1.0    109ms\n",
      "  4   -2.772083394916       -6.55       -3.69    1.0    114ms\n",
      "  5   -2.772083416879       -7.66       -4.06    2.0    131ms\n",
      "  6   -2.772083417781       -9.04       -5.38    1.0    114ms\n",
      "  7   -2.772083417810      -10.54       -5.55    2.0    139ms\n",
      "  8   -2.772083417811      -12.10       -6.02    1.0    120ms\n",
      "  9   -2.772083417811      -13.45       -6.91    1.0    130ms\n",
      " 10   -2.772083417811      -14.51       -7.14    2.0    165ms\n",
      " 11   -2.772083417811   +  -14.07       -7.82    1.0    119ms\n",
      " 12   -2.772083417811      -13.76       -7.86    1.0    130ms\n",
      " 13   -2.772083417811   +  -13.72       -8.56    1.0    147ms\n"
     ]
    },
    {
     "output_type": "execute_result",
     "data": {
      "text/plain": "1.7735578908022214"
     },
     "metadata": {},
     "execution_count": 2
    }
   ],
   "cell_type": "code",
   "source": [
    "polarizability_fd = let\n",
    "    ε = 0.01\n",
    "    (compute_dipole(ε) - compute_dipole(0.0)) / ε\n",
    "end"
   ],
   "metadata": {},
   "execution_count": 2
  },
  {
   "cell_type": "markdown",
   "source": [
    "We do the same thing using automatic differentiation. Under the hood this uses\n",
    "custom rules to implicitly differentiate through the self-consistent\n",
    "field fixed-point problem."
   ],
   "metadata": {}
  },
  {
   "outputs": [
    {
     "name": "stdout",
     "output_type": "stream",
     "text": [
      "n     Energy            log10(ΔE)   log10(Δρ)   Diag   Δtime\n",
      "---   ---------------   ---------   ---------   ----   ------\n",
      "  1   -2.770723236962                   -0.53    9.0    208ms\n",
      "  2   -2.772054073399       -2.88       -1.31    1.0    124ms\n",
      "  3   -2.772083012542       -4.54       -2.60    1.0    128ms\n",
      "  4   -2.772083390503       -6.42       -3.96    1.0    120ms\n",
      "  5   -2.772083417429       -7.57       -4.24    2.0    135ms\n",
      "  6   -2.772083417793       -9.44       -5.31    1.0    116ms\n",
      "  7   -2.772083417810      -10.78       -5.68    2.0    128ms\n",
      "  8   -2.772083417811      -12.18       -6.52    1.0    123ms\n",
      "  9   -2.772083417811      -13.77       -6.79    2.0    136ms\n",
      " 10   -2.772083417811   +  -14.21       -7.55    1.0    159ms\n",
      " 11   -2.772083417811      -13.97       -8.25    1.0    124ms\n",
      "\n",
      "Polarizability via ForwardDiff:       1.7725349615914252\n",
      "Polarizability via finite difference: 1.7735578908022214\n"
     ]
    }
   ],
   "cell_type": "code",
   "source": [
    "polarizability = ForwardDiff.derivative(compute_dipole, 0.0)\n",
    "println()\n",
    "println(\"Polarizability via ForwardDiff:       $polarizability\")\n",
    "println(\"Polarizability via finite difference: $polarizability_fd\")"
   ],
   "metadata": {},
   "execution_count": 3
  }
 ],
 "nbformat_minor": 3,
 "metadata": {
  "language_info": {
   "file_extension": ".jl",
   "mimetype": "application/julia",
   "name": "julia",
   "version": "1.10.3"
  },
  "kernelspec": {
   "name": "julia-1.10",
   "display_name": "Julia 1.10.3",
   "language": "julia"
  }
 },
 "nbformat": 4
}
