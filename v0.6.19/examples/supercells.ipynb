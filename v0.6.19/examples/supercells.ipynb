{
 "cells": [
  {
   "cell_type": "markdown",
   "source": [
    "# Creating and modelling metallic supercells\n",
    "\n",
    "In this section we will be concerned with modelling supercells of aluminium.\n",
    "When dealing with periodic problems there is no unique definition of the\n",
    "lattice: Clearly any duplication of the lattice along an axis is also a valid\n",
    "repetitive unit to describe exactly the same system.\n",
    "This is exactly what a **supercell** is: An $n$-fold repetition along one of the\n",
    "axes of the original lattice.\n",
    "\n",
    "The following code achieves this for aluminium:"
   ],
   "metadata": {}
  },
  {
   "outputs": [],
   "cell_type": "code",
   "source": [
    "using DFTK\n",
    "using LinearAlgebra\n",
    "using ASEconvert\n",
    "\n",
    "function aluminium_setup(repeat=1; Ecut=7.0, kgrid=[2, 2, 2])\n",
    "    a = 7.65339\n",
    "    lattice = a * Matrix(I, 3, 3)\n",
    "    Al = ElementPsp(:Al; psp=load_psp(\"hgh/lda/al-q3\"))\n",
    "    atoms     = [Al, Al, Al, Al]\n",
    "    positions = [[0.0, 0.0, 0.0], [0.0, 0.5, 0.5], [0.5, 0.0, 0.5], [0.5, 0.5, 0.0]]\n",
    "    unit_cell = periodic_system(lattice, atoms, positions)\n",
    "\n",
    "    # Make supercell in ASE:\n",
    "    # We convert our lattice to the conventions used in ASE, make the supercell\n",
    "    # and then convert back ...\n",
    "    supercell_ase = convert_ase(unit_cell) * pytuple((repeat, 1, 1))\n",
    "    supercell     = pyconvert(AbstractSystem, supercell_ase)\n",
    "\n",
    "    # Unfortunately right now the conversion to ASE drops the pseudopotential information,\n",
    "    # so we need to reattach it:\n",
    "    supercell = attach_psp(supercell; Al=\"hgh/lda/al-q3\")\n",
    "\n",
    "    # Construct an LDA model and discretise\n",
    "    # Note: We disable symmetries explicitly here. Otherwise the problem sizes\n",
    "    #       we are able to run on the CI are too simple to observe the numerical\n",
    "    #       instabilities we want to trigger here.\n",
    "    model = model_LDA(supercell; temperature=1e-3, symmetries=false)\n",
    "    PlaneWaveBasis(model; Ecut, kgrid)\n",
    "end;"
   ],
   "metadata": {},
   "execution_count": 1
  },
  {
   "cell_type": "markdown",
   "source": [
    "As part of the code we are using a routine inside the ASE,\n",
    "the [atomistic simulation environment](https://wiki.fysik.dtu.dk/ase/index.html)\n",
    "for creating the supercell and make use of the two-way interoperability of\n",
    "DFTK and ASE. For more details on this aspect see the documentation\n",
    "on Input and output formats."
   ],
   "metadata": {}
  },
  {
   "cell_type": "markdown",
   "source": [
    "Write an example supercell structure to a file to plot it:"
   ],
   "metadata": {}
  },
  {
   "outputs": [
    {
     "name": "stdout",
     "output_type": "stream",
     "text": [
      "┌ Warning: Skipping atomic property pseudopotential, which is not supported in ASE.\n",
      "└ @ ASEconvert ~/.julia/packages/ASEconvert/yMJC2/src/ase_conversions.jl:100\n",
      "┌ Warning: Skipping atomic property pseudopotential, which is not supported in ASE.\n",
      "└ @ ASEconvert ~/.julia/packages/ASEconvert/yMJC2/src/ase_conversions.jl:100\n"
     ]
    },
    {
     "output_type": "execute_result",
     "data": {
      "text/plain": "Python: None"
     },
     "metadata": {},
     "execution_count": 2
    }
   ],
   "cell_type": "code",
   "source": [
    "setup = aluminium_setup(5)\n",
    "convert_ase(periodic_system(setup.model)).write(\"al_supercell.png\")"
   ],
   "metadata": {},
   "execution_count": 2
  },
  {
   "cell_type": "markdown",
   "source": [
    "<img src=\"https://docs.dftk.org/stable/examples/al_supercell.png\" width=500 height=500 />"
   ],
   "metadata": {}
  },
  {
   "cell_type": "markdown",
   "source": [
    "As we will see in this notebook the modelling of a system generally becomes\n",
    "harder if the system becomes larger.\n",
    "\n",
    "- This sounds like a trivial statement as *per se* the cost per SCF step increases\n",
    "  as the system (and thus $N$) gets larger.\n",
    "- But there is more to it:\n",
    "  If one is not careful also the *number of SCF iterations* increases\n",
    "  as the system gets larger.\n",
    "- The aim of a proper computational treatment of such supercells is therefore\n",
    "  to ensure that the **number of SCF iterations remains constant** when the\n",
    "  system size increases."
   ],
   "metadata": {}
  },
  {
   "cell_type": "markdown",
   "source": [
    "For achieving the latter DFTK by default employs the `LdosMixing`\n",
    "preconditioner [^HL2021] during the SCF iterations. This mixing approach is\n",
    "completely parameter free, but still automatically adapts to the treated\n",
    "system in order to efficiently prevent charge sloshing. As a result,\n",
    "modelling aluminium slabs indeed takes roughly the same number of SCF iterations\n",
    "irrespective of the supercell size:\n",
    "\n",
    "[^HL2021]:\n",
    "   M. F. Herbst and A. Levitt.\n",
    "   *Black-box inhomogeneous preconditioning for self-consistent field iterations in density functional theory.*\n",
    "   J. Phys. Cond. Matt *33* 085503 (2021). [ArXiv:2009.01665](https://arxiv.org/abs/2009.01665)"
   ],
   "metadata": {}
  },
  {
   "outputs": [
    {
     "name": "stdout",
     "output_type": "stream",
     "text": [
      "┌ Warning: Skipping atomic property pseudopotential, which is not supported in ASE.\n",
      "└ @ ASEconvert ~/.julia/packages/ASEconvert/yMJC2/src/ase_conversions.jl:100\n",
      "n     Energy            log10(ΔE)   log10(Δρ)   Diag   Δtime\n",
      "---   ---------------   ---------   ---------   ----   ------\n",
      "  1   -8.298534828841                   -0.85    5.2    195ms\n",
      "  2   -8.300216305592       -2.77       -1.26    1.4    111ms\n",
      "  3   -8.300437175112       -3.66       -1.89    2.6    104ms\n",
      "  4   -8.300459768950       -4.65       -2.73    2.0    104ms\n",
      "  5   -8.300464020184       -5.37       -3.16    2.2    113ms\n",
      "  6   -8.300464368988       -6.46       -3.30    7.8    171ms\n",
      "  7   -8.300464501974       -6.88       -3.44    1.1   98.5ms\n",
      "  8   -8.300464577195       -7.12       -3.58    2.0    108ms\n",
      "  9   -8.300464628461       -7.29       -3.80    1.0   97.4ms\n",
      " 10   -8.300464639334       -7.96       -3.97    1.0   96.2ms\n",
      " 11   -8.300464642825       -8.46       -4.25    1.0   96.6ms\n"
     ]
    }
   ],
   "cell_type": "code",
   "source": [
    "self_consistent_field(aluminium_setup(1); tol=1e-4);"
   ],
   "metadata": {},
   "execution_count": 3
  },
  {
   "outputs": [
    {
     "name": "stdout",
     "output_type": "stream",
     "text": [
      "┌ Warning: Skipping atomic property pseudopotential, which is not supported in ASE.\n",
      "└ @ ASEconvert ~/.julia/packages/ASEconvert/yMJC2/src/ase_conversions.jl:100\n",
      "n     Energy            log10(ΔE)   log10(Δρ)   Diag   Δtime\n",
      "---   ---------------   ---------   ---------   ----   ------\n",
      "  1   -16.66654983748                   -0.71    6.6    510ms\n",
      "  2   -16.67881380420       -1.91       -1.13    1.4    224ms\n",
      "  3   -16.67922608450       -3.38       -1.86    2.4    249ms\n",
      "  4   -16.67927376483       -4.32       -2.70    1.2    221ms\n",
      "  5   -16.67928566169       -4.92       -3.08    5.1    350ms\n",
      "  6   -16.67928614527       -6.32       -3.46    1.6    217ms\n",
      "  7   -16.67928620880       -7.20       -3.97    3.9    269ms\n",
      "  8   -16.67928622049       -7.93       -4.42    2.9    288ms\n"
     ]
    }
   ],
   "cell_type": "code",
   "source": [
    "self_consistent_field(aluminium_setup(2); tol=1e-4);"
   ],
   "metadata": {},
   "execution_count": 4
  },
  {
   "outputs": [
    {
     "name": "stdout",
     "output_type": "stream",
     "text": [
      "┌ Warning: Skipping atomic property pseudopotential, which is not supported in ASE.\n",
      "└ @ ASEconvert ~/.julia/packages/ASEconvert/yMJC2/src/ase_conversions.jl:100\n",
      "n     Energy            log10(ΔE)   log10(Δρ)   Diag   Δtime\n",
      "---   ---------------   ---------   ---------   ----   ------\n",
      "  1   -33.32174207492                   -0.56    7.4    1.51s\n",
      "  2   -33.33285742809       -1.95       -1.00    1.0    676ms\n",
      "  3   -33.33412359468       -2.90       -1.73    4.8    973ms\n",
      "  4   -33.33426555406       -3.85       -2.64    1.0    662ms\n",
      "  5   -33.33581145123       -2.81       -2.48    6.4    1.21s\n",
      "  6   -33.33694118461       -2.95       -2.51    5.2    872ms\n",
      "  7   -33.33693726389   +   -5.41       -2.52    3.8    849ms\n",
      "  8   -33.33681601715   +   -3.92       -2.38    1.6    713ms\n",
      "  9   -33.33684024265       -4.62       -2.43    1.0    661ms\n",
      " 10   -33.33685786185       -4.75       -2.47    1.0    654ms\n",
      " 11   -33.33687792626       -4.70       -2.52    1.0    647ms\n",
      " 12   -33.33688837396       -4.98       -2.56    1.0    615ms\n",
      " 13   -33.33690066191       -4.91       -2.62    1.0    646ms\n",
      " 14   -33.33692711224       -4.58       -2.82    1.0    667ms\n",
      " 15   -33.33693893497       -4.93       -3.07    1.0    623ms\n",
      " 16   -33.33694237785       -5.46       -3.34    1.0    621ms\n",
      " 17   -33.33694374781       -5.86       -4.52    1.9    758ms\n"
     ]
    }
   ],
   "cell_type": "code",
   "source": [
    "self_consistent_field(aluminium_setup(4); tol=1e-4);"
   ],
   "metadata": {},
   "execution_count": 5
  },
  {
   "cell_type": "markdown",
   "source": [
    "When switching off explicitly the `LdosMixing`, by selecting `mixing=SimpleMixing()`,\n",
    "the performance of number of required SCF steps starts to increase as we increase\n",
    "the size of the modelled problem:"
   ],
   "metadata": {}
  },
  {
   "outputs": [
    {
     "name": "stdout",
     "output_type": "stream",
     "text": [
      "┌ Warning: Skipping atomic property pseudopotential, which is not supported in ASE.\n",
      "└ @ ASEconvert ~/.julia/packages/ASEconvert/yMJC2/src/ase_conversions.jl:100\n",
      "n     Energy            log10(ΔE)   log10(Δρ)   Diag   Δtime\n",
      "---   ---------------   ---------   ---------   ----   ------\n",
      "  1   -8.298674329251                   -0.85    5.5    210ms\n",
      "  2   -8.300286069929       -2.79       -1.59    1.4   92.1ms\n",
      "  3   -8.300388891699       -3.99       -2.33    2.5    110ms\n",
      "  4   -8.300323431766   +   -4.18       -2.17    3.1    131ms\n",
      "  5   -8.300464092435       -3.85       -3.54    1.0   87.9ms\n",
      "  6   -8.300464568365       -6.32       -3.79    5.0    197ms\n",
      "  7   -8.300464636091       -7.17       -4.17    1.0    130ms\n"
     ]
    }
   ],
   "cell_type": "code",
   "source": [
    "self_consistent_field(aluminium_setup(1); tol=1e-4, mixing=SimpleMixing());"
   ],
   "metadata": {},
   "execution_count": 6
  },
  {
   "outputs": [
    {
     "name": "stdout",
     "output_type": "stream",
     "text": [
      "┌ Warning: Skipping atomic property pseudopotential, which is not supported in ASE.\n",
      "└ @ ASEconvert ~/.julia/packages/ASEconvert/yMJC2/src/ase_conversions.jl:100\n",
      "n     Energy            log10(ΔE)   log10(Δρ)   Diag   Δtime\n",
      "---   ---------------   ---------   ---------   ----   ------\n",
      "  1   -33.32604202278                   -0.56    6.6    1.51s\n",
      "  2   -33.30082738370   +   -1.60       -1.26    1.0    532ms\n",
      "  3   -1.635425897586   +    1.50       -0.31    7.1    1.32s\n",
      "  4   -33.31361322957        1.50       -1.61    6.5    1.18s\n",
      "  5   -32.97566166171   +   -0.47       -1.20    4.0    909ms\n",
      "  6   -30.06202977127   +    0.46       -0.81    5.0    968ms\n",
      "  7   -33.32015991469        0.51       -1.91    4.6    890ms\n",
      "  8   -33.33371795814       -1.87       -2.15    1.9    670ms\n",
      "  9   -33.33449142470       -3.11       -2.13    2.5    1.07s\n",
      " 10   -33.33512439859       -3.20       -2.42    1.8    678ms\n",
      " 11   -33.33661324435       -2.83       -2.74    1.8    661ms\n",
      " 12   -33.33664364607       -4.52       -2.81    2.6    753ms\n",
      " 13   -33.33694194114       -3.53       -3.33    2.9    791ms\n",
      " 14   -33.33693966931   +   -5.64       -3.59    4.1    952ms\n",
      " 15   -33.33693916672   +   -6.30       -3.72    1.5    631ms\n",
      " 16   -33.33694328308       -5.39       -4.18    2.1    701ms\n"
     ]
    }
   ],
   "cell_type": "code",
   "source": [
    "self_consistent_field(aluminium_setup(4); tol=1e-4, mixing=SimpleMixing());"
   ],
   "metadata": {},
   "execution_count": 7
  },
  {
   "cell_type": "markdown",
   "source": [
    "For completion let us note that the more traditional `mixing=KerkerMixing()`\n",
    "approach would also help in this particular setting to obtain a constant\n",
    "number of SCF iterations for an increasing system size (try it!). In contrast\n",
    "to `LdosMixing`, however, `KerkerMixing` is only suitable to model bulk metallic\n",
    "system (like the case we are considering here). When modelling metallic surfaces\n",
    "or mixtures of metals and insulators, `KerkerMixing` fails, while `LdosMixing`\n",
    "still works well. See the Modelling a gallium arsenide surface example\n",
    "or [^HL2021] for details. Due to the general applicability of `LdosMixing` this\n",
    "method is the default mixing approach in DFTK."
   ],
   "metadata": {}
  }
 ],
 "nbformat_minor": 3,
 "metadata": {
  "language_info": {
   "file_extension": ".jl",
   "mimetype": "application/julia",
   "name": "julia",
   "version": "1.10.3"
  },
  "kernelspec": {
   "name": "julia-1.10",
   "display_name": "Julia 1.10.3",
   "language": "julia"
  }
 },
 "nbformat": 4
}
