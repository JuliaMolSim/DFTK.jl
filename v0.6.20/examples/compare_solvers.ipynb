{
 "cells": [
  {
   "cell_type": "markdown",
   "source": [
    "# Comparison of DFT solvers"
   ],
   "metadata": {}
  },
  {
   "cell_type": "markdown",
   "source": [
    "We compare four different approaches for solving the DFT minimisation problem,\n",
    "namely a density-based SCF, a potential-based SCF, direct minimisation and Newton."
   ],
   "metadata": {}
  },
  {
   "cell_type": "markdown",
   "source": [
    "First we setup our problem"
   ],
   "metadata": {}
  },
  {
   "outputs": [
    {
     "output_type": "execute_result",
     "data": {
      "text/plain": "1.0e-6"
     },
     "metadata": {},
     "execution_count": 1
    }
   ],
   "cell_type": "code",
   "source": [
    "using DFTK\n",
    "using LinearAlgebra\n",
    "\n",
    "a = 10.26  # Silicon lattice constant in Bohr\n",
    "lattice = a / 2 * [[0 1 1.];\n",
    "                   [1 0 1.];\n",
    "                   [1 1 0.]]\n",
    "Si = ElementPsp(:Si; psp=load_psp(\"hgh/lda/Si-q4\"))\n",
    "atoms     = [Si, Si]\n",
    "positions = [ones(3)/8, -ones(3)/8]\n",
    "\n",
    "model = model_LDA(lattice, atoms, positions)\n",
    "basis = PlaneWaveBasis(model; Ecut=5, kgrid=[3, 3, 3])\n",
    "\n",
    "# Convergence we desire in the density\n",
    "tol = 1e-6"
   ],
   "metadata": {},
   "execution_count": 1
  },
  {
   "cell_type": "markdown",
   "source": [
    "## Density-based self-consistent field"
   ],
   "metadata": {}
  },
  {
   "outputs": [
    {
     "name": "stdout",
     "output_type": "stream",
     "text": [
      "n     Energy            log10(ΔE)   log10(Δρ)   Diag   Δtime\n",
      "---   ---------------   ---------   ---------   ----   ------\n",
      "  1   -7.847793312951                   -0.70    4.5   88.7ms\n",
      "  2   -7.852408853165       -2.34       -1.53    1.0   18.7ms\n",
      "  3   -7.852610056311       -3.70       -2.55    1.0   18.5ms\n",
      "  4   -7.852645458011       -4.45       -2.78    2.2   25.0ms\n",
      "  5   -7.852646067791       -6.21       -2.87    1.0   18.7ms\n",
      "  6   -7.852646666629       -6.22       -3.87    1.0   18.5ms\n",
      "  7   -7.852646685414       -7.73       -4.67    1.5   21.3ms\n",
      "  8   -7.852646686702       -8.89       -5.15    1.5   21.9ms\n",
      "  9   -7.852646686727      -10.61       -5.65    1.2   20.0ms\n",
      " 10   -7.852646686728      -11.88       -5.58    1.5   21.5ms\n",
      " 11   -7.852646686730      -11.75       -6.30    1.0   19.2ms\n"
     ]
    }
   ],
   "cell_type": "code",
   "source": [
    "scfres_scf = self_consistent_field(basis; tol);"
   ],
   "metadata": {},
   "execution_count": 2
  },
  {
   "cell_type": "markdown",
   "source": [
    "## Potential-based SCF"
   ],
   "metadata": {}
  },
  {
   "outputs": [
    {
     "name": "stdout",
     "output_type": "stream",
     "text": [
      "n     Energy            log10(ΔE)   log10(Δρ)   α      Diag   Δtime\n",
      "---   ---------------   ---------   ---------   ----   ----   ------\n",
      "  1   -7.847795881277                   -0.70           4.8    426ms\n",
      "  2   -7.852562090579       -2.32       -1.62   0.80    2.0    2.29s\n",
      "  3   -7.852641730069       -4.10       -2.70   0.80    1.0    227ms\n",
      "  4   -7.852646514667       -5.32       -3.40   0.80    1.8   21.6ms\n",
      "  5   -7.852646681352       -6.78       -4.41   0.80    1.5   20.4ms\n",
      "  6   -7.852646686608       -8.28       -4.85   0.80    2.5   25.6ms\n",
      "  7   -7.852646686726       -9.93       -5.48   0.80    1.0   17.9ms\n",
      "  8   -7.852646686730      -11.39       -6.54   0.80    1.5   20.2ms\n"
     ]
    }
   ],
   "cell_type": "code",
   "source": [
    "scfres_scfv = DFTK.scf_potential_mixing(basis; tol);"
   ],
   "metadata": {},
   "execution_count": 3
  },
  {
   "cell_type": "markdown",
   "source": [
    "## Direct minimization\n",
    "Note: Unlike the other algorithms, tolerance for this one is in the energy,\n",
    "thus we square the density tolerance value to be roughly equivalent."
   ],
   "metadata": {}
  },
  {
   "outputs": [
    {
     "name": "stdout",
     "output_type": "stream",
     "text": [
      "n     Energy            log10(ΔE)   log10(Δρ)   Δtime\n",
      "---   ---------------   ---------   ---------   ------\n",
      "  1   +1.201144214242                   -1.06    4.27s\n",
      "  2   -1.353070864366        0.41       -0.68    107ms\n",
      "  3   -3.771485095358        0.38       -0.43   33.6ms\n",
      "  4   -4.885333205778        0.05       -0.58   33.6ms\n",
      "  5   -6.706978066753        0.26       -0.68   33.8ms\n",
      "  6   -7.347936593986       -0.19       -1.15   33.5ms\n",
      "  7   -7.614660081520       -0.57       -1.38   25.5ms\n",
      "  8   -7.726994418788       -0.95       -1.73   25.9ms\n",
      "  9   -7.793756630164       -1.18       -1.72   25.7ms\n",
      " 10   -7.823808012029       -1.52       -2.14   25.6ms\n",
      " 11   -7.841368719819       -1.76       -2.48   25.5ms\n",
      " 12   -7.847576816153       -2.21       -2.47   25.4ms\n",
      " 13   -7.850225227551       -2.58       -2.80   25.3ms\n",
      " 14   -7.851638747579       -2.85       -2.90   25.3ms\n",
      " 15   -7.852191407453       -3.26       -3.19   25.4ms\n",
      " 16   -7.852474159784       -3.55       -3.50   25.8ms\n",
      " 17   -7.852595581604       -3.92       -3.68   25.5ms\n",
      " 18   -7.852630886057       -4.45       -3.84   25.5ms\n",
      " 19   -7.852640611214       -5.01       -4.42   25.4ms\n",
      " 20   -7.852644498088       -5.41       -4.56   25.4ms\n",
      " 21   -7.852645969348       -5.83       -4.50   25.3ms\n",
      " 22   -7.852646457177       -6.31       -5.03   25.3ms\n",
      " 23   -7.852646620415       -6.79       -5.09   25.3ms\n",
      " 24   -7.852646663906       -7.36       -5.16   25.5ms\n",
      " 25   -7.852646676936       -7.89       -5.59   25.5ms\n",
      " 26   -7.852646683079       -8.21       -6.16   25.7ms\n",
      " 27   -7.852646685548       -8.61       -5.82   25.6ms\n",
      " 28   -7.852646686396       -9.07       -6.10   25.5ms\n",
      " 29   -7.852646686632       -9.63       -6.68   44.9ms\n",
      " 30   -7.852646686696      -10.20       -7.01   26.2ms\n",
      " 31   -7.852646686719      -10.64       -7.15   26.0ms\n",
      " 32   -7.852646686726      -11.11       -7.81   25.3ms\n",
      " 33   -7.852646686729      -11.60       -7.76   25.3ms\n",
      " 34   -7.852646686730      -12.14       -8.08   25.3ms\n",
      " 35   -7.852646686730      -12.69       -8.79   25.5ms\n",
      " 36   -7.852646686730      -13.18       -8.56   25.5ms\n",
      " 37   -7.852646686730      -13.60       -8.51   25.4ms\n",
      " 38   -7.852646686730      -13.94       -9.01   25.2ms\n",
      " 39   -7.852646686730      -14.21       -9.43   25.2ms\n",
      " 40   -7.852646686730   +    -Inf       -9.43   25.3ms\n",
      " 41   -7.852646686730      -15.05       -9.53   25.2ms\n",
      " 42   -7.852646686730   +    -Inf       -9.97   82.0ms\n",
      " 43   -7.852646686730      -15.05       -9.82   25.6ms\n",
      " 44   -7.852646686730   +    -Inf       -9.97   34.0ms\n",
      " 45   -7.852646686730   +    -Inf       -9.89   33.9ms\n",
      "┌ Warning: DM not converged.\n",
      "└ @ DFTK ~/work/DFTK.jl/DFTK.jl/src/scf/scf_callbacks.jl:60\n"
     ]
    }
   ],
   "cell_type": "code",
   "source": [
    "scfres_dm = direct_minimization(basis; tol=tol^2);"
   ],
   "metadata": {},
   "execution_count": 4
  },
  {
   "cell_type": "markdown",
   "source": [
    "## Newton algorithm"
   ],
   "metadata": {}
  },
  {
   "cell_type": "markdown",
   "source": [
    "Start not too far from the solution to ensure convergence:\n",
    "We run first a very crude SCF to get close and then switch to Newton."
   ],
   "metadata": {}
  },
  {
   "outputs": [
    {
     "name": "stdout",
     "output_type": "stream",
     "text": [
      "n     Energy            log10(ΔE)   log10(Δρ)   Diag   Δtime\n",
      "---   ---------------   ---------   ---------   ----   ------\n",
      "  1   -7.847773094015                   -0.70    4.5   35.5ms\n"
     ]
    }
   ],
   "cell_type": "code",
   "source": [
    "scfres_start = self_consistent_field(basis; tol=0.5);"
   ],
   "metadata": {},
   "execution_count": 5
  },
  {
   "cell_type": "markdown",
   "source": [
    "Remove the virtual orbitals (which Newton cannot treat yet)"
   ],
   "metadata": {}
  },
  {
   "outputs": [
    {
     "name": "stdout",
     "output_type": "stream",
     "text": [
      "n     Energy            log10(ΔE)   log10(Δρ)   Δtime\n",
      "---   ---------------   ---------   ---------   ------\n",
      "  1   -7.852645850405                   -1.63    13.7s\n",
      "  2   -7.852646686730       -6.08       -3.69    3.62s\n",
      "  3   -7.852646686730      -13.25       -7.20    130ms\n"
     ]
    }
   ],
   "cell_type": "code",
   "source": [
    "ψ = DFTK.select_occupied_orbitals(basis, scfres_start.ψ, scfres_start.occupation).ψ\n",
    "scfres_newton = newton(basis, ψ; tol);"
   ],
   "metadata": {},
   "execution_count": 6
  },
  {
   "cell_type": "markdown",
   "source": [
    "## Comparison of results"
   ],
   "metadata": {}
  },
  {
   "outputs": [
    {
     "name": "stdout",
     "output_type": "stream",
     "text": [
      "|ρ_newton - ρ_scf|  = 5.204344341301999e-7\n",
      "|ρ_newton - ρ_scfv| = 3.7038909581097414e-7\n",
      "|ρ_newton - ρ_dm|   = 1.0122318708635521e-9\n"
     ]
    }
   ],
   "cell_type": "code",
   "source": [
    "println(\"|ρ_newton - ρ_scf|  = \", norm(scfres_newton.ρ - scfres_scf.ρ))\n",
    "println(\"|ρ_newton - ρ_scfv| = \", norm(scfres_newton.ρ - scfres_scfv.ρ))\n",
    "println(\"|ρ_newton - ρ_dm|   = \", norm(scfres_newton.ρ - scfres_dm.ρ))"
   ],
   "metadata": {},
   "execution_count": 7
  }
 ],
 "nbformat_minor": 3,
 "metadata": {
  "language_info": {
   "file_extension": ".jl",
   "mimetype": "application/julia",
   "name": "julia",
   "version": "1.10.4"
  },
  "kernelspec": {
   "name": "julia-1.10",
   "display_name": "Julia 1.10.4",
   "language": "julia"
  }
 },
 "nbformat": 4
}
