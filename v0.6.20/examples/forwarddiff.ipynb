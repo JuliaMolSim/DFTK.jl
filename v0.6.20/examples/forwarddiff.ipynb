{
 "cells": [
  {
   "cell_type": "markdown",
   "source": [
    "# Polarizability using automatic differentiation\n",
    "\n",
    "Simple example for computing properties using (forward-mode)\n",
    "automatic differentiation.\n",
    "For a more classical approach and more details about computing polarizabilities,\n",
    "see Polarizability by linear response."
   ],
   "metadata": {}
  },
  {
   "outputs": [],
   "cell_type": "code",
   "source": [
    "using DFTK\n",
    "using LinearAlgebra\n",
    "using ForwardDiff\n",
    "\n",
    "# Construct PlaneWaveBasis given a particular electric field strength\n",
    "# Again we take the example of a Helium atom.\n",
    "function make_basis(ε::T; a=10., Ecut=30) where {T}\n",
    "    lattice=T(a) * I(3)  # lattice is a cube of $a$ Bohrs\n",
    "    # Helium at the center of the box\n",
    "    atoms     = [ElementPsp(:He; psp=load_psp(\"hgh/lda/He-q2\"))]\n",
    "    positions = [[1/2, 1/2, 1/2]]\n",
    "\n",
    "    model = model_DFT(lattice, atoms, positions, [:lda_x, :lda_c_vwn];\n",
    "                      extra_terms=[ExternalFromReal(r -> -ε * (r[1] - a/2))],\n",
    "                      symmetries=false)\n",
    "    PlaneWaveBasis(model; Ecut, kgrid=[1, 1, 1])  # No k-point sampling on isolated system\n",
    "end\n",
    "\n",
    "# dipole moment of a given density (assuming the current geometry)\n",
    "function dipole(basis, ρ)\n",
    "    @assert isdiag(basis.model.lattice)\n",
    "    a  = basis.model.lattice[1, 1]\n",
    "    rr = [a * (r[1] - 1/2) for r in r_vectors(basis)]\n",
    "    sum(rr .* ρ) * basis.dvol\n",
    "end\n",
    "\n",
    "# Function to compute the dipole for a given field strength\n",
    "function compute_dipole(ε; tol=1e-8, kwargs...)\n",
    "    scfres = self_consistent_field(make_basis(ε; kwargs...); tol)\n",
    "    dipole(scfres.basis, scfres.ρ)\n",
    "end;"
   ],
   "metadata": {},
   "execution_count": 1
  },
  {
   "cell_type": "markdown",
   "source": [
    "With this in place we can compute the polarizability from finite differences\n",
    "(just like in the previous example):"
   ],
   "metadata": {}
  },
  {
   "outputs": [
    {
     "name": "stdout",
     "output_type": "stream",
     "text": [
      "n     Energy            log10(ΔE)   log10(Δρ)   Diag   Δtime\n",
      "---   ---------------   ---------   ---------   ----   ------\n",
      "  1   -2.770830276216                   -0.52    9.0    157ms\n",
      "  2   -2.772142053028       -2.88       -1.32    1.0    140ms\n",
      "  3   -2.772170397386       -4.55       -2.51    1.0    130ms\n",
      "  4   -2.772170674326       -6.56       -3.29    1.0    110ms\n",
      "  5   -2.772170722059       -7.32       -3.97    2.0    132ms\n",
      "  6   -2.772170722947       -9.05       -4.66    1.0    118ms\n",
      "  7   -2.772170723010      -10.20       -5.37    1.0    115ms\n",
      "  8   -2.772170723015      -11.31       -5.73    2.0    134ms\n",
      "  9   -2.772170723015      -12.43       -6.86    1.0    126ms\n",
      " 10   -2.772170723015      -14.07       -7.36    2.0    172ms\n",
      " 11   -2.772170723015      -13.97       -7.58    1.0    143ms\n",
      " 12   -2.772170723015   +  -14.15       -8.48    1.0    135ms\n",
      "n     Energy            log10(ΔE)   log10(Δρ)   Diag   Δtime\n",
      "---   ---------------   ---------   ---------   ----   ------\n",
      "  1   -2.770759429349                   -0.53    9.0    185ms\n",
      "  2   -2.772053256621       -2.89       -1.31    1.0    110ms\n",
      "  3   -2.772082881956       -4.53       -2.54    1.0    112ms\n",
      "  4   -2.772083360322       -6.32       -3.46    1.0    113ms\n",
      "  5   -2.772083415112       -7.26       -3.83    2.0    136ms\n",
      "  6   -2.772083417740       -8.58       -5.21    1.0    112ms\n",
      "  7   -2.772083417809      -10.16       -5.38    2.0    135ms\n",
      "  8   -2.772083417810      -11.76       -5.70    2.0    154ms\n",
      "  9   -2.772083417811      -12.82       -6.55    1.0    128ms\n",
      " 10   -2.772083417811      -14.10       -6.83    1.0    123ms\n",
      " 11   -2.772083417811      -13.81       -8.03    1.0    133ms\n"
     ]
    },
    {
     "output_type": "execute_result",
     "data": {
      "text/plain": "1.773557958607659"
     },
     "metadata": {},
     "execution_count": 2
    }
   ],
   "cell_type": "code",
   "source": [
    "polarizability_fd = let\n",
    "    ε = 0.01\n",
    "    (compute_dipole(ε) - compute_dipole(0.0)) / ε\n",
    "end"
   ],
   "metadata": {},
   "execution_count": 2
  },
  {
   "cell_type": "markdown",
   "source": [
    "We do the same thing using automatic differentiation. Under the hood this uses\n",
    "custom rules to implicitly differentiate through the self-consistent\n",
    "field fixed-point problem."
   ],
   "metadata": {}
  },
  {
   "outputs": [
    {
     "name": "stdout",
     "output_type": "stream",
     "text": [
      "n     Energy            log10(ΔE)   log10(Δρ)   Diag   Δtime\n",
      "---   ---------------   ---------   ---------   ----   ------\n",
      "  1   -2.770702290882                   -0.53    8.0    164ms\n",
      "  2   -2.772047483865       -2.87       -1.31    1.0    118ms\n",
      "  3   -2.772082046398       -4.46       -2.59    1.0    107ms\n",
      "  4   -2.772083412374       -5.86       -3.79    2.0    122ms\n",
      "  5   -2.772083417225       -8.31       -4.12    2.0    123ms\n",
      "  6   -2.772083417791       -9.25       -5.19    1.0    112ms\n",
      "  7   -2.772083417810      -10.71       -5.65    2.0    127ms\n",
      "  8   -2.772083417811      -12.34       -6.36    1.0    115ms\n",
      "  9   -2.772083417811      -13.85       -7.22    1.0    126ms\n",
      " 10   -2.772083417811      -14.03       -7.83    2.0    142ms\n",
      " 11   -2.772083417811   +  -13.91       -8.27    1.0    118ms\n",
      "\n",
      "Polarizability via ForwardDiff:       1.7725349592701778\n",
      "Polarizability via finite difference: 1.773557958607659\n"
     ]
    }
   ],
   "cell_type": "code",
   "source": [
    "polarizability = ForwardDiff.derivative(compute_dipole, 0.0)\n",
    "println()\n",
    "println(\"Polarizability via ForwardDiff:       $polarizability\")\n",
    "println(\"Polarizability via finite difference: $polarizability_fd\")"
   ],
   "metadata": {},
   "execution_count": 3
  }
 ],
 "nbformat_minor": 3,
 "metadata": {
  "language_info": {
   "file_extension": ".jl",
   "mimetype": "application/julia",
   "name": "julia",
   "version": "1.10.4"
  },
  "kernelspec": {
   "name": "julia-1.10",
   "display_name": "Julia 1.10.4",
   "language": "julia"
  }
 },
 "nbformat": 4
}
