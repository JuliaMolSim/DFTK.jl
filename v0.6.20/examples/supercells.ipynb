{
 "cells": [
  {
   "cell_type": "markdown",
   "source": [
    "# Creating and modelling metallic supercells\n",
    "\n",
    "In this section we will be concerned with modelling supercells of aluminium.\n",
    "When dealing with periodic problems there is no unique definition of the\n",
    "lattice: Clearly any duplication of the lattice along an axis is also a valid\n",
    "repetitive unit to describe exactly the same system.\n",
    "This is exactly what a **supercell** is: An $n$-fold repetition along one of the\n",
    "axes of the original lattice.\n",
    "\n",
    "The following code achieves this for aluminium:"
   ],
   "metadata": {}
  },
  {
   "outputs": [],
   "cell_type": "code",
   "source": [
    "using DFTK\n",
    "using LinearAlgebra\n",
    "using ASEconvert\n",
    "\n",
    "function aluminium_setup(repeat=1; Ecut=7.0, kgrid=[2, 2, 2])\n",
    "    a = 7.65339\n",
    "    lattice = a * Matrix(I, 3, 3)\n",
    "    Al = ElementPsp(:Al; psp=load_psp(\"hgh/lda/al-q3\"))\n",
    "    atoms     = [Al, Al, Al, Al]\n",
    "    positions = [[0.0, 0.0, 0.0], [0.0, 0.5, 0.5], [0.5, 0.0, 0.5], [0.5, 0.5, 0.0]]\n",
    "    unit_cell = periodic_system(lattice, atoms, positions)\n",
    "\n",
    "    # Make supercell in ASE:\n",
    "    # We convert our lattice to the conventions used in ASE, make the supercell\n",
    "    # and then convert back ...\n",
    "    supercell_ase = convert_ase(unit_cell) * pytuple((repeat, 1, 1))\n",
    "    supercell     = pyconvert(AbstractSystem, supercell_ase)\n",
    "\n",
    "    # Unfortunately right now the conversion to ASE drops the pseudopotential information,\n",
    "    # so we need to reattach it:\n",
    "    supercell = attach_psp(supercell; Al=\"hgh/lda/al-q3\")\n",
    "\n",
    "    # Construct an LDA model and discretise\n",
    "    # Note: We disable symmetries explicitly here. Otherwise the problem sizes\n",
    "    #       we are able to run on the CI are too simple to observe the numerical\n",
    "    #       instabilities we want to trigger here.\n",
    "    model = model_LDA(supercell; temperature=1e-3, symmetries=false)\n",
    "    PlaneWaveBasis(model; Ecut, kgrid)\n",
    "end;"
   ],
   "metadata": {},
   "execution_count": 1
  },
  {
   "cell_type": "markdown",
   "source": [
    "As part of the code we are using a routine inside the ASE,\n",
    "the [atomistic simulation environment](https://wiki.fysik.dtu.dk/ase/index.html)\n",
    "for creating the supercell and make use of the two-way interoperability of\n",
    "DFTK and ASE. For more details on this aspect see the documentation\n",
    "on Input and output formats."
   ],
   "metadata": {}
  },
  {
   "cell_type": "markdown",
   "source": [
    "Write an example supercell structure to a file to plot it:"
   ],
   "metadata": {}
  },
  {
   "outputs": [
    {
     "name": "stdout",
     "output_type": "stream",
     "text": [
      "┌ Warning: Skipping atomic property pseudopotential, which is not supported in ASE.\n",
      "└ @ ASEconvert ~/.julia/packages/ASEconvert/I2wvg/src/ase_conversions.jl:100\n",
      "┌ Warning: Skipping atomic property pseudopotential, which is not supported in ASE.\n",
      "└ @ ASEconvert ~/.julia/packages/ASEconvert/I2wvg/src/ase_conversions.jl:100\n"
     ]
    },
    {
     "output_type": "execute_result",
     "data": {
      "text/plain": "Python: None"
     },
     "metadata": {},
     "execution_count": 2
    }
   ],
   "cell_type": "code",
   "source": [
    "setup = aluminium_setup(5)\n",
    "convert_ase(periodic_system(setup.model)).write(\"al_supercell.png\")"
   ],
   "metadata": {},
   "execution_count": 2
  },
  {
   "cell_type": "markdown",
   "source": [
    "<img src=\"https://docs.dftk.org/stable/examples/al_supercell.png\" width=500 height=500 />"
   ],
   "metadata": {}
  },
  {
   "cell_type": "markdown",
   "source": [
    "As we will see in this notebook the modelling of a system generally becomes\n",
    "harder if the system becomes larger.\n",
    "\n",
    "- This sounds like a trivial statement as *per se* the cost per SCF step increases\n",
    "  as the system (and thus $N$) gets larger.\n",
    "- But there is more to it:\n",
    "  If one is not careful also the *number of SCF iterations* increases\n",
    "  as the system gets larger.\n",
    "- The aim of a proper computational treatment of such supercells is therefore\n",
    "  to ensure that the **number of SCF iterations remains constant** when the\n",
    "  system size increases."
   ],
   "metadata": {}
  },
  {
   "cell_type": "markdown",
   "source": [
    "For achieving the latter DFTK by default employs the `LdosMixing`\n",
    "preconditioner [^HL2021] during the SCF iterations. This mixing approach is\n",
    "completely parameter free, but still automatically adapts to the treated\n",
    "system in order to efficiently prevent charge sloshing. As a result,\n",
    "modelling aluminium slabs indeed takes roughly the same number of SCF iterations\n",
    "irrespective of the supercell size:\n",
    "\n",
    "[^HL2021]:\n",
    "   M. F. Herbst and A. Levitt.\n",
    "   *Black-box inhomogeneous preconditioning for self-consistent field iterations in density functional theory.*\n",
    "   J. Phys. Cond. Matt *33* 085503 (2021). [ArXiv:2009.01665](https://arxiv.org/abs/2009.01665)"
   ],
   "metadata": {}
  },
  {
   "outputs": [
    {
     "name": "stdout",
     "output_type": "stream",
     "text": [
      "┌ Warning: Skipping atomic property pseudopotential, which is not supported in ASE.\n",
      "└ @ ASEconvert ~/.julia/packages/ASEconvert/I2wvg/src/ase_conversions.jl:100\n",
      "n     Energy            log10(ΔE)   log10(Δρ)   Diag   Δtime\n",
      "---   ---------------   ---------   ---------   ----   ------\n",
      "  1   -8.298698032567                   -0.85    5.4    230ms\n",
      "  2   -8.300236306333       -2.81       -1.25    1.2    106ms\n",
      "  3   -8.300445239383       -3.68       -1.89    2.8    131ms\n",
      "  4   -8.300461657362       -4.78       -2.76    1.1    116ms\n",
      "  5   -8.300464065454       -5.62       -3.07    2.6    144ms\n",
      "  6   -8.300464374532       -6.51       -3.25    1.0   96.7ms\n",
      "  7   -8.300464505462       -6.88       -3.40    1.0    103ms\n",
      "  8   -8.300464582468       -7.11       -3.55    1.0   97.3ms\n",
      "  9   -8.300464627631       -7.35       -3.74    1.0   98.1ms\n",
      " 10   -8.300464632637       -8.30       -3.82    1.0   98.0ms\n",
      " 11   -8.300464642542       -8.00       -4.10    1.0    102ms\n"
     ]
    }
   ],
   "cell_type": "code",
   "source": [
    "self_consistent_field(aluminium_setup(1); tol=1e-4);"
   ],
   "metadata": {},
   "execution_count": 3
  },
  {
   "outputs": [
    {
     "name": "stdout",
     "output_type": "stream",
     "text": [
      "┌ Warning: Skipping atomic property pseudopotential, which is not supported in ASE.\n",
      "└ @ ASEconvert ~/.julia/packages/ASEconvert/I2wvg/src/ase_conversions.jl:100\n",
      "n     Energy            log10(ΔE)   log10(Δρ)   Diag   Δtime\n",
      "---   ---------------   ---------   ---------   ----   ------\n",
      "  1   -16.63478238143                   -0.70    5.4    512ms\n",
      "  2   -16.67866881105       -1.36       -1.14    1.4    224ms\n",
      "  3   -16.67922445169       -3.26       -1.87    3.6    296ms\n",
      "  4   -16.67927361944       -4.31       -2.67    1.2    221ms\n",
      "  5   -16.67928490336       -4.95       -3.05    4.9    382ms\n",
      "  6   -16.67928615632       -5.90       -3.47    1.6    236ms\n",
      "  7   -16.67928620640       -7.30       -4.08    2.2    244ms\n"
     ]
    }
   ],
   "cell_type": "code",
   "source": [
    "self_consistent_field(aluminium_setup(2); tol=1e-4);"
   ],
   "metadata": {},
   "execution_count": 4
  },
  {
   "outputs": [
    {
     "name": "stdout",
     "output_type": "stream",
     "text": [
      "┌ Warning: Skipping atomic property pseudopotential, which is not supported in ASE.\n",
      "└ @ ASEconvert ~/.julia/packages/ASEconvert/I2wvg/src/ase_conversions.jl:100\n",
      "┌ Warning: Eigensolver not converged\n",
      "│   n_iter =\n",
      "│    8-element Vector{Int64}:\n",
      "│     10\n",
      "│      5\n",
      "│     11\n",
      "│      7\n",
      "│     11\n",
      "│      1\n",
      "│     11\n",
      "│      3\n",
      "└ @ DFTK ~/work/DFTK.jl/DFTK.jl/src/scf/self_consistent_field.jl:76\n",
      "n     Energy            log10(ΔE)   log10(Δρ)   Diag   Δtime\n",
      "---   ---------------   ---------   ---------   ----   ------\n",
      "  1   -33.31254729285                   -0.56    7.4    1.60s\n",
      "  2   -33.33466635813       -1.66       -0.99    1.8    761ms\n",
      "┌ Warning: Eigensolver not converged\n",
      "│   n_iter =\n",
      "│    8-element Vector{Int64}:\n",
      "│      5\n",
      "│      4\n",
      "│     10\n",
      "│     14\n",
      "│      1\n",
      "│     11\n",
      "│      3\n",
      "│      3\n",
      "└ @ DFTK ~/work/DFTK.jl/DFTK.jl/src/scf/self_consistent_field.jl:76\n",
      "  3   -33.33596232634       -2.89       -1.71    6.4    1.14s\n",
      "  4   -33.33610091874       -3.86       -2.54    2.8    1.15s\n",
      "  5   -33.33677134269       -3.17       -2.21    5.8    1.24s\n",
      "  6   -33.33681643181       -4.35       -2.28    2.4    713ms\n",
      "  7   -33.33694011095       -3.91       -3.47    1.2    659ms\n",
      "  8   -33.33694293784       -5.55       -3.36    5.9    1.21s\n",
      "  9   -33.33694315589       -6.66       -3.43    1.0    615ms\n",
      " 10   -33.33694376549       -6.21       -4.25    1.0    619ms\n"
     ]
    }
   ],
   "cell_type": "code",
   "source": [
    "self_consistent_field(aluminium_setup(4); tol=1e-4);"
   ],
   "metadata": {},
   "execution_count": 5
  },
  {
   "cell_type": "markdown",
   "source": [
    "When switching off explicitly the `LdosMixing`, by selecting `mixing=SimpleMixing()`,\n",
    "the performance of number of required SCF steps starts to increase as we increase\n",
    "the size of the modelled problem:"
   ],
   "metadata": {}
  },
  {
   "outputs": [
    {
     "name": "stdout",
     "output_type": "stream",
     "text": [
      "┌ Warning: Skipping atomic property pseudopotential, which is not supported in ASE.\n",
      "└ @ ASEconvert ~/.julia/packages/ASEconvert/I2wvg/src/ase_conversions.jl:100\n",
      "n     Energy            log10(ΔE)   log10(Δρ)   Diag   Δtime\n",
      "---   ---------------   ---------   ---------   ----   ------\n",
      "  1   -8.298609352880                   -0.85    5.2    228ms\n",
      "  2   -8.300281471419       -2.78       -1.59    1.2   84.5ms\n",
      "  3   -8.300437482766       -3.81       -2.68    3.1    125ms\n",
      "  4   -8.300435144088   +   -5.63       -2.51    2.9    140ms\n",
      "  5   -8.300464444002       -4.53       -3.40    1.0   80.1ms\n",
      "  6   -8.300464618252       -6.76       -3.99    3.8    123ms\n",
      "  7   -8.300464640830       -7.65       -4.38    2.9    134ms\n"
     ]
    }
   ],
   "cell_type": "code",
   "source": [
    "self_consistent_field(aluminium_setup(1); tol=1e-4, mixing=SimpleMixing());"
   ],
   "metadata": {},
   "execution_count": 6
  },
  {
   "outputs": [
    {
     "name": "stdout",
     "output_type": "stream",
     "text": [
      "┌ Warning: Skipping atomic property pseudopotential, which is not supported in ASE.\n",
      "└ @ ASEconvert ~/.julia/packages/ASEconvert/I2wvg/src/ase_conversions.jl:100\n",
      "n     Energy            log10(ΔE)   log10(Δρ)   Diag   Δtime\n",
      "---   ---------------   ---------   ---------   ----   ------\n",
      "  1   -33.32894124832                   -0.56    7.0    1.46s\n",
      "  2   -33.31686453778   +   -1.92       -1.27    1.5    626ms\n",
      "  3   -15.39168728056   +    1.25       -0.44    6.2    1.47s\n",
      "  4   -33.32448458432        1.25       -1.79    5.1    1.30s\n",
      "  5   -33.24486186523   +   -1.10       -1.33    3.2    1.01s\n",
      "  6   -32.69933171362   +   -0.26       -1.16    3.9    1.05s\n",
      "  7   -33.33100646992       -0.20       -2.11    4.4    1.07s\n",
      "  8   -33.33464952206       -2.44       -2.30    2.4    969ms\n",
      "  9   -33.33659439045       -2.71       -2.45    2.6    796ms\n",
      " 10   -33.33668797088       -4.03       -2.81    1.8    693ms\n",
      " 11   -33.33690166168       -3.67       -3.13    2.5    798ms\n",
      " 12   -33.33692952501       -4.55       -3.27    2.8    862ms\n",
      " 13   -33.33693798162       -5.07       -3.54    1.6    685ms\n",
      " 14   -33.33694348901       -5.26       -4.03    3.4    846ms\n"
     ]
    }
   ],
   "cell_type": "code",
   "source": [
    "self_consistent_field(aluminium_setup(4); tol=1e-4, mixing=SimpleMixing());"
   ],
   "metadata": {},
   "execution_count": 7
  },
  {
   "cell_type": "markdown",
   "source": [
    "For completion let us note that the more traditional `mixing=KerkerMixing()`\n",
    "approach would also help in this particular setting to obtain a constant\n",
    "number of SCF iterations for an increasing system size (try it!). In contrast\n",
    "to `LdosMixing`, however, `KerkerMixing` is only suitable to model bulk metallic\n",
    "system (like the case we are considering here). When modelling metallic surfaces\n",
    "or mixtures of metals and insulators, `KerkerMixing` fails, while `LdosMixing`\n",
    "still works well. See the Modelling a gallium arsenide surface example\n",
    "or [^HL2021] for details. Due to the general applicability of `LdosMixing` this\n",
    "method is the default mixing approach in DFTK."
   ],
   "metadata": {}
  }
 ],
 "nbformat_minor": 3,
 "metadata": {
  "language_info": {
   "file_extension": ".jl",
   "mimetype": "application/julia",
   "name": "julia",
   "version": "1.10.4"
  },
  "kernelspec": {
   "name": "julia-1.10",
   "display_name": "Julia 1.10.4",
   "language": "julia"
  }
 },
 "nbformat": 4
}
