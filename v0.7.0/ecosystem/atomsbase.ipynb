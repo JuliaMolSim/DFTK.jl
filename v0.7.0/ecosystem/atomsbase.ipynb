{
 "cells": [
  {
   "cell_type": "markdown",
   "source": [
    "# AtomsBase integration"
   ],
   "metadata": {}
  },
  {
   "cell_type": "markdown",
   "source": [
    "[AtomsBase.jl](https://github.com/JuliaMolSim/AtomsBase.jl) is a common interface\n",
    "for representing atomic structures in Julia. DFTK directly supports using such\n",
    "structures to run a calculation as is demonstrated here."
   ],
   "metadata": {}
  },
  {
   "outputs": [],
   "cell_type": "code",
   "source": [
    "using DFTK\n",
    "using AtomsBuilder"
   ],
   "metadata": {},
   "execution_count": 1
  },
  {
   "cell_type": "markdown",
   "source": [
    "## Feeding an AtomsBase AbstractSystem to DFTK\n",
    "\n",
    "In this example we construct a bulk silicon system using the `bulk` function\n",
    "from [AtomsBuilder](https://github.com/JuliaMolSim/AtomsBuilder.jl). This function\n",
    "uses tabulated data to set up a reasonable starting geometry and lattice for bulk silicon."
   ],
   "metadata": {}
  },
  {
   "outputs": [
    {
     "output_type": "execute_result",
     "data": {
      "text/plain": "FlexibleSystem(Si₂, periodic = TTT):\n    bounding_box      : [       0    2.715    2.715;\n                            2.715        0    2.715;\n                            2.715    2.715        0]u\"Å\"\n\n    Atom(Si, [       0,        0,        0]u\"Å\")\n    Atom(Si, [  1.3575,   1.3575,   1.3575]u\"Å\")\n\n                       \n                       \n                       \n                       \n              Si       \n                       \n          Si           \n                       \n                       \n                       \n                       \n"
     },
     "metadata": {},
     "execution_count": 2
    }
   ],
   "cell_type": "code",
   "source": [
    "system = bulk(:Si)"
   ],
   "metadata": {},
   "execution_count": 2
  },
  {
   "cell_type": "markdown",
   "source": [
    "By default the atoms of an `AbstractSystem` employ the bare Coulomb potential.\n",
    "To employ pseudpotential models (which is almost always advisable for\n",
    "plane-wave DFT) one employs the `pseudopotential` keyword argument in\n",
    "model constructors such as `model_DFT`.\n",
    "For example we can employ a `PseudoFamily` object\n",
    "from the [PseudoPotentialData](https://github.com/JuliaMolSim/PseudoPotentialData.jl)\n",
    "package. See its documentation for more information on the available\n",
    "pseudopotential families and how to select them."
   ],
   "metadata": {}
  },
  {
   "outputs": [
    {
     "output_type": "execute_result",
     "data": {
      "text/plain": "Model(lda_x+lda_c_pw, 3D):\n    lattice (in Bohr)    : [0         , 5.13061   , 5.13061   ]\n                           [5.13061   , 0         , 5.13061   ]\n                           [5.13061   , 5.13061   , 0         ]\n    unit cell volume     : 270.11 Bohr³\n\n    atoms                : Si₂\n    atom potentials      : ElementPsp(Si, \"/home/runner/.julia/artifacts/1ea71a84cf375286564538a9cab789991f4bf1f4/Si.upf\")\n                           ElementPsp(Si, \"/home/runner/.julia/artifacts/1ea71a84cf375286564538a9cab789991f4bf1f4/Si.upf\")\n\n    num. electrons       : 8\n    spin polarization    : none\n    temperature          : 0.001 Ha\n    smearing             : DFTK.Smearing.FermiDirac()\n\n    terms                : Kinetic()\n                           AtomicLocal()\n                           AtomicNonlocal()\n                           Ewald(nothing)\n                           PspCorrection()\n                           Hartree()\n                           Xc(lda_x, lda_c_pw)\n                           Entropy()"
     },
     "metadata": {},
     "execution_count": 3
    }
   ],
   "cell_type": "code",
   "source": [
    "using PseudoPotentialData  # defines PseudoFamily\n",
    "\n",
    "pd_lda_family = PseudoFamily(\"dojo.nc.sr.lda.v0_4_1.oncvpsp3.standard.upf\")\n",
    "model = model_DFT(system;\n",
    "                  functionals=LDA(),\n",
    "                  temperature=1e-3,\n",
    "                  pseudopotentials=pd_lda_family)"
   ],
   "metadata": {},
   "execution_count": 3
  },
  {
   "cell_type": "markdown",
   "source": [
    "Alternatively the `pseudopotentials` object also accepts a `Dict{Symbol,String}`,\n",
    "which provides for each element symbol the filename or identifier\n",
    "of the pseudopotential to be employed, e.g."
   ],
   "metadata": {}
  },
  {
   "outputs": [
    {
     "output_type": "execute_result",
     "data": {
      "text/plain": "Model(lda_x+lda_c_pw, 3D):\n    lattice (in Bohr)    : [0         , 5.13061   , 5.13061   ]\n                           [5.13061   , 0         , 5.13061   ]\n                           [5.13061   , 5.13061   , 0         ]\n    unit cell volume     : 270.11 Bohr³\n\n    atoms                : Si₂\n    atom potentials      : ElementPsp(Si, \"hgh/lda/si-q4\")\n                           ElementPsp(Si, \"hgh/lda/si-q4\")\n\n    num. electrons       : 8\n    spin polarization    : none\n    temperature          : 0.001 Ha\n    smearing             : DFTK.Smearing.FermiDirac()\n\n    terms                : Kinetic()\n                           AtomicLocal()\n                           AtomicNonlocal()\n                           Ewald(nothing)\n                           PspCorrection()\n                           Hartree()\n                           Xc(lda_x, lda_c_pw)\n                           Entropy()"
     },
     "metadata": {},
     "execution_count": 4
    }
   ],
   "cell_type": "code",
   "source": [
    "model = model_DFT(system;\n",
    "                  functionals=LDA(),\n",
    "                  temperature=1e-3,\n",
    "                  pseudopotentials=Dict(:Si => \"hgh/lda/si-q4\"))"
   ],
   "metadata": {},
   "execution_count": 4
  },
  {
   "cell_type": "markdown",
   "source": [
    "We can then discretise such a model and solve:"
   ],
   "metadata": {}
  },
  {
   "outputs": [
    {
     "name": "stdout",
     "output_type": "stream",
     "text": [
      "n     Energy            log10(ΔE)   log10(Δρ)   Diag   Δtime\n",
      "---   ---------------   ---------   ---------   ----   ------\n",
      "  1   -7.921719038178                   -0.69    6.0    848ms\n",
      "  2   -7.926165314847       -2.35       -1.22    1.0    745ms\n",
      "  3   -7.926838674518       -3.17       -2.37    1.9    219ms\n",
      "  4   -7.926861212405       -4.65       -3.03    2.2    219ms\n",
      "  5   -7.926861648728       -6.36       -3.39    1.8    193ms\n",
      "  6   -7.926861669269       -7.69       -3.78    1.6    183ms\n",
      "  7   -7.926861678921       -8.02       -4.10    1.4    179ms\n",
      "  8   -7.926861681797       -8.54       -5.05    1.5    181ms\n",
      "  9   -7.926861681860      -10.20       -5.21    3.1    220ms\n",
      " 10   -7.926861681872      -10.93       -6.38    1.0    174ms\n",
      " 11   -7.926861681873      -12.13       -6.52    3.0    227ms\n",
      " 12   -7.926861681873      -14.10       -7.42    1.0    173ms\n",
      " 13   -7.926861681873      -14.75       -7.58    2.6    215ms\n",
      " 14   -7.926861681873   +  -14.57       -7.88    1.0    178ms\n",
      " 15   -7.926861681873      -14.45       -9.22    1.1    176ms\n"
     ]
    }
   ],
   "cell_type": "code",
   "source": [
    "basis  = PlaneWaveBasis(model; Ecut=15, kgrid=[4, 4, 4])\n",
    "scfres = self_consistent_field(basis, tol=1e-8);"
   ],
   "metadata": {},
   "execution_count": 5
  },
  {
   "cell_type": "markdown",
   "source": [
    "If we did not want to use\n",
    "[AtomsBuilder](https://github.com/JuliaMolSim/AtomsBuilder.jl)\n",
    "we could of course use any other package\n",
    "which yields an AbstractSystem object. This includes:"
   ],
   "metadata": {}
  },
  {
   "cell_type": "markdown",
   "source": [
    "### Reading a system using AtomsIO\n",
    "\n",
    "Read a file using [AtomsIO](https://github.com/mfherbst/AtomsIO.jl),\n",
    "which directly yields an AbstractSystem."
   ],
   "metadata": {}
  },
  {
   "outputs": [],
   "cell_type": "code",
   "source": [
    "using AtomsIO\n",
    "system = load_system(\"Si.extxyz\");"
   ],
   "metadata": {},
   "execution_count": 6
  },
  {
   "cell_type": "markdown",
   "source": [
    "Run the LDA calculation:"
   ],
   "metadata": {}
  },
  {
   "outputs": [
    {
     "name": "stdout",
     "output_type": "stream",
     "text": [
      "n     Energy            log10(ΔE)   log10(Δρ)   Diag   Δtime\n",
      "---   ---------------   ---------   ---------   ----   ------\n",
      "  1   -7.921725430029                   -0.69    5.9    243ms\n",
      "  2   -7.926162679817       -2.35       -1.22    1.0    209ms\n",
      "  3   -7.926837979010       -3.17       -2.37    1.9    211ms\n",
      "  4   -7.926861172982       -4.63       -3.03    2.2    217ms\n",
      "  5   -7.926861648316       -6.32       -3.39    1.9    194ms\n",
      "  6   -7.926861670015       -7.66       -3.80    1.5    179ms\n",
      "  7   -7.926861678409       -8.08       -4.06    1.4    178ms\n",
      "  8   -7.926861681794       -8.47       -4.95    1.4    181ms\n",
      "  9   -7.926861681855      -10.22       -5.16    2.6    256ms\n",
      " 10   -7.926861681871      -10.79       -6.21    1.0    559ms\n",
      " 11   -7.926861681873      -11.88       -6.45    3.0    220ms\n",
      " 12   -7.926861681873   +  -14.57       -6.18    1.0    169ms\n",
      " 13   -7.926861681873      -13.80       -7.48    1.0    173ms\n",
      " 14   -7.926861681873      -15.05       -7.42    2.8    208ms\n",
      " 15   -7.926861681873      -15.05       -8.21    1.0    172ms\n"
     ]
    }
   ],
   "cell_type": "code",
   "source": [
    "pseudopotentials = Dict(:Si => \"hgh/lda/si-q4\")\n",
    "model  = model_DFT(system; pseudopotentials, functionals=LDA(), temperature=1e-3)\n",
    "basis  = PlaneWaveBasis(model; Ecut=15, kgrid=[4, 4, 4])\n",
    "scfres = self_consistent_field(basis, tol=1e-8);"
   ],
   "metadata": {},
   "execution_count": 7
  },
  {
   "cell_type": "markdown",
   "source": [
    "The same could be achieved using [ExtXYZ](https://github.com/libAtoms/ExtXYZ.jl)\n",
    "by `system = Atoms(read_frame(\"Si.extxyz\"))`,\n",
    "since the `ExtXYZ.Atoms` object is directly AtomsBase-compatible."
   ],
   "metadata": {}
  },
  {
   "cell_type": "markdown",
   "source": [
    "### Directly setting up a system in AtomsBase"
   ],
   "metadata": {}
  },
  {
   "outputs": [
    {
     "name": "stdout",
     "output_type": "stream",
     "text": [
      "n     Energy            log10(ΔE)   log10(Δρ)   Diag   Δtime\n",
      "---   ---------------   ---------   ---------   ----   ------\n",
      "  1   -7.921719024196                   -0.69    5.9    280ms\n",
      "  2   -7.926167111907       -2.35       -1.22    1.0    201ms\n",
      "  3   -7.926841603169       -3.17       -2.37    1.9    200ms\n",
      "  4   -7.926864621670       -4.64       -3.02    2.2    238ms\n",
      "  5   -7.926865049998       -6.37       -3.35    1.9    196ms\n",
      "  6   -7.926865075840       -7.59       -3.70    1.5    171ms\n",
      "  7   -7.926865090381       -7.84       -4.15    1.0    164ms\n"
     ]
    }
   ],
   "cell_type": "code",
   "source": [
    "using AtomsBase\n",
    "using Unitful\n",
    "using UnitfulAtomic\n",
    "\n",
    "# Construct a system in the AtomsBase world\n",
    "a = 10.26u\"bohr\"  # Silicon lattice constant\n",
    "lattice = a / 2 * [[0, 1, 1.],  # Lattice as vector of vectors\n",
    "                   [1, 0, 1.],\n",
    "                   [1, 1, 0.]]\n",
    "atoms  = [:Si => ones(3)/8, :Si => -ones(3)/8]\n",
    "system = periodic_system(atoms, lattice; fractional=true)\n",
    "\n",
    "# Now run the LDA calculation:\n",
    "pseudopotentials = Dict(:Si => \"hgh/lda/si-q4\")\n",
    "model  = model_DFT(system; pseudopotentials, functionals=LDA(), temperature=1e-3)\n",
    "basis  = PlaneWaveBasis(model; Ecut=15, kgrid=[4, 4, 4])\n",
    "scfres = self_consistent_field(basis, tol=1e-4);"
   ],
   "metadata": {},
   "execution_count": 8
  },
  {
   "cell_type": "markdown",
   "source": [
    "## Obtaining an AbstractSystem from DFTK data"
   ],
   "metadata": {}
  },
  {
   "cell_type": "markdown",
   "source": [
    "At any point we can also get back the DFTK model as an\n",
    "AtomsBase-compatible `AbstractSystem`:"
   ],
   "metadata": {}
  },
  {
   "outputs": [
    {
     "output_type": "execute_result",
     "data": {
      "text/plain": "FlexibleSystem(Si₂, periodic = TTT):\n    bounding_box      : [       0     5.13     5.13;\n                             5.13        0     5.13;\n                             5.13     5.13        0]u\"a₀\"\n\n    Atom(Si, [  1.2825,   1.2825,   1.2825]u\"a₀\")\n    Atom(Si, [ -1.2825,  -1.2825,  -1.2825]u\"a₀\")\n\n                       \n                       \n                       \n                       \n              Si       \n                       \n          Si           \n                       \n                       \n                       \n                       \n"
     },
     "metadata": {},
     "execution_count": 9
    }
   ],
   "cell_type": "code",
   "source": [
    "second_system = atomic_system(model)"
   ],
   "metadata": {},
   "execution_count": 9
  },
  {
   "cell_type": "markdown",
   "source": [
    "Similarly DFTK offers a method to the `atomic_system` and `periodic_system` functions\n",
    "(from AtomsBase), which enable a seamless conversion of the usual data structures for\n",
    "setting up DFTK calculations into an `AbstractSystem`:"
   ],
   "metadata": {}
  },
  {
   "outputs": [
    {
     "output_type": "execute_result",
     "data": {
      "text/plain": "FlexibleSystem(Si₂, periodic = TTT):\n    bounding_box      : [       0  5.13155  5.13155;\n                          5.13155        0  5.13155;\n                          5.13155  5.13155        0]u\"a₀\"\n\n    Atom(Si, [ 1.28289,  1.28289,  1.28289]u\"a₀\")\n    Atom(Si, [-1.28289, -1.28289, -1.28289]u\"a₀\")\n\n                       \n                       \n                       \n                       \n              Si       \n                       \n          Si           \n                       \n                       \n                       \n                       \n"
     },
     "metadata": {},
     "execution_count": 10
    }
   ],
   "cell_type": "code",
   "source": [
    "lattice = 5.431u\"Å\" / 2 * [[0 1 1.];\n",
    "                           [1 0 1.];\n",
    "                           [1 1 0.]];\n",
    "Si = ElementPsp(:Si, load_psp(\"hgh/lda/Si-q4\"))\n",
    "atoms     = [Si, Si]\n",
    "positions = [ones(3)/8, -ones(3)/8]\n",
    "\n",
    "third_system = atomic_system(lattice, atoms, positions)"
   ],
   "metadata": {},
   "execution_count": 10
  }
 ],
 "nbformat_minor": 3,
 "metadata": {
  "language_info": {
   "file_extension": ".jl",
   "mimetype": "application/julia",
   "name": "julia",
   "version": "1.11.1"
  },
  "kernelspec": {
   "name": "julia-1.11",
   "display_name": "Julia 1.11.1",
   "language": "julia"
  }
 },
 "nbformat": 4
}
