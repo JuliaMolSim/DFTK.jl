{
 "cells": [
  {
   "cell_type": "markdown",
   "source": [
    "# Comparison of DFT solvers"
   ],
   "metadata": {}
  },
  {
   "cell_type": "markdown",
   "source": [
    "We compare four different approaches for solving the DFT minimisation problem,\n",
    "namely a density-based SCF, a potential-based SCF, direct minimisation and Newton."
   ],
   "metadata": {}
  },
  {
   "cell_type": "markdown",
   "source": [
    "First we setup our problem"
   ],
   "metadata": {}
  },
  {
   "outputs": [
    {
     "output_type": "execute_result",
     "data": {
      "text/plain": "1.0e-6"
     },
     "metadata": {},
     "execution_count": 1
    }
   ],
   "cell_type": "code",
   "source": [
    "using AtomsBuilder\n",
    "using DFTK\n",
    "using LinearAlgebra\n",
    "using PseudoPotentialData\n",
    "\n",
    "pseudopotentials = PseudoFamily(\"dojo.nc.sr.pbesol.v0_4_1.oncvpsp3.standard.upf\")\n",
    "model = model_DFT(bulk(:Si); functionals=PBEsol(), pseudopotentials)\n",
    "basis = PlaneWaveBasis(model; Ecut=5, kgrid=[3, 3, 3])\n",
    "\n",
    "# Convergence we desire in the density\n",
    "tol = 1e-6"
   ],
   "metadata": {},
   "execution_count": 1
  },
  {
   "cell_type": "markdown",
   "source": [
    "## Density-based self-consistent field"
   ],
   "metadata": {}
  },
  {
   "outputs": [
    {
     "name": "stdout",
     "output_type": "stream",
     "text": [
      "n     Energy            log10(ΔE)   log10(Δρ)   Diag   Δtime\n",
      "---   ---------------   ---------   ---------   ----   ------\n",
      "  1   -8.397859268244                   -0.90    5.2   36.7ms\n",
      "  2   -8.400240798871       -2.62       -1.74    1.0   24.1ms\n",
      "  3   -8.400406519292       -3.78       -2.97    1.5   47.4ms\n",
      "  4   -8.400428702136       -4.65       -2.97    3.0   32.2ms\n",
      "  5   -8.400428821648       -6.92       -3.06    1.0   24.6ms\n",
      "  6   -8.400429019093       -6.70       -4.65    1.0   24.7ms\n",
      "  7   -8.400429024004       -8.31       -4.46    2.2   29.9ms\n",
      "  8   -8.400429024387       -9.42       -5.07    1.0   40.8ms\n",
      "  9   -8.400429024418      -10.50       -6.70    1.0   25.3ms\n"
     ]
    }
   ],
   "cell_type": "code",
   "source": [
    "scfres_scf = self_consistent_field(basis; tol);"
   ],
   "metadata": {},
   "execution_count": 2
  },
  {
   "cell_type": "markdown",
   "source": [
    "## Potential-based SCF"
   ],
   "metadata": {}
  },
  {
   "outputs": [
    {
     "name": "stdout",
     "output_type": "stream",
     "text": [
      "n     Energy            log10(ΔE)   log10(Δρ)   α      Diag   Δtime\n",
      "---   ---------------   ---------   ---------   ----   ----   ------\n",
      "  1   -8.397834962061                   -0.90           5.2    466ms\n",
      "  2   -8.400384204413       -2.59       -1.79   0.80    2.0    503ms\n",
      "  3   -8.400422950902       -4.41       -3.00   0.80    1.0    216ms\n",
      "  4   -8.400428976763       -5.22       -3.44   0.80    2.8   28.6ms\n",
      "  5   -8.400429021014       -7.35       -4.59   0.80    1.0   21.4ms\n",
      "  6   -8.400429024396       -8.47       -6.30   0.80    2.5   29.0ms\n"
     ]
    }
   ],
   "cell_type": "code",
   "source": [
    "scfres_scfv = DFTK.scf_potential_mixing(basis; tol);"
   ],
   "metadata": {},
   "execution_count": 3
  },
  {
   "cell_type": "markdown",
   "source": [
    "## Direct minimization"
   ],
   "metadata": {}
  },
  {
   "outputs": [
    {
     "name": "stdout",
     "output_type": "stream",
     "text": [
      "n     Energy            log10(ΔE)   log10(Δρ)   Δtime\n",
      "---   ---------------   ---------   ---------   ------\n",
      "  1   +1.168132159666                   -1.11    2.74s\n",
      "  2   -1.676652370668        0.45       -0.67    136ms\n",
      "  3   -3.615554832479        0.29       -0.39   56.6ms\n",
      "  4   -4.542300966760       -0.03       -0.45   57.3ms\n",
      "  5   -6.410491558129        0.27       -0.50   80.3ms\n",
      "  6   -7.220813593200       -0.09       -0.72   56.8ms\n",
      "  7   -7.983534505378       -0.12       -0.92   56.8ms\n",
      "  8   -8.128555180332       -0.84       -1.36   42.4ms\n",
      "  9   -8.215957183227       -1.06       -1.40   73.4ms\n",
      " 10   -8.261188517463       -1.34       -1.83   56.7ms\n",
      " 11   -8.322013342626       -1.22       -2.26   42.2ms\n",
      " 12   -8.339558788369       -1.76       -2.14   45.8ms\n",
      " 13   -8.367196469885       -1.56       -2.49   42.4ms\n",
      " 14   -8.383600156894       -1.79       -2.39   42.2ms\n",
      " 15   -8.396696212375       -1.88       -2.46   42.2ms\n",
      " 16   -8.397361188884       -3.18       -2.66   46.2ms\n",
      " 17   -8.399546418233       -2.66       -2.87   42.4ms\n",
      " 18   -8.400016004939       -3.33       -3.56   42.2ms\n",
      " 19   -8.400304600092       -3.54       -3.62   45.9ms\n",
      " 20   -8.400327359051       -4.64       -3.76   42.5ms\n",
      " 21   -8.400377650922       -4.30       -3.91   52.2ms\n",
      " 22   -8.400405964425       -4.55       -4.13   42.5ms\n",
      " 23   -8.400422274282       -4.79       -4.17   42.2ms\n",
      " 24   -8.400425161808       -5.54       -4.93   45.9ms\n",
      " 25   -8.400427198005       -5.69       -4.65   42.3ms\n",
      " 26   -8.400427769427       -6.24       -4.86   45.3ms\n",
      " 27   -8.400428558357       -6.10       -5.05   42.1ms\n",
      " 28   -8.400428837636       -6.55       -5.15   42.1ms\n",
      " 29   -8.400428937300       -7.00       -5.11   45.3ms\n",
      " 30   -8.400428988043       -7.29       -5.43   42.2ms\n",
      " 31   -8.400429007104       -7.72       -5.81   45.3ms\n",
      " 32   -8.400429019152       -7.92       -5.62   42.2ms\n",
      " 33   -8.400429022287       -8.50       -5.71   42.2ms\n",
      " 34   -8.400429023553       -8.90       -5.97   45.3ms\n",
      " 35   -8.400429023937       -9.42       -6.41   42.4ms\n"
     ]
    }
   ],
   "cell_type": "code",
   "source": [
    "scfres_dm = direct_minimization(basis; tol);"
   ],
   "metadata": {},
   "execution_count": 4
  },
  {
   "cell_type": "markdown",
   "source": [
    "## Newton algorithm"
   ],
   "metadata": {}
  },
  {
   "cell_type": "markdown",
   "source": [
    "Start not too far from the solution to ensure convergence:\n",
    "We run first a very crude SCF to get close and then switch to Newton."
   ],
   "metadata": {}
  },
  {
   "outputs": [
    {
     "name": "stdout",
     "output_type": "stream",
     "text": [
      "n     Energy            log10(ΔE)   log10(Δρ)   Diag   Δtime\n",
      "---   ---------------   ---------   ---------   ----   ------\n",
      "  1   -8.397858581254                   -0.90    5.5   41.5ms\n"
     ]
    }
   ],
   "cell_type": "code",
   "source": [
    "scfres_start = self_consistent_field(basis; tol=0.5);"
   ],
   "metadata": {},
   "execution_count": 5
  },
  {
   "cell_type": "markdown",
   "source": [
    "Remove the virtual orbitals (which Newton cannot treat yet)"
   ],
   "metadata": {}
  },
  {
   "outputs": [
    {
     "name": "stdout",
     "output_type": "stream",
     "text": [
      "n     Energy            log10(ΔE)   log10(Δρ)   Δtime\n",
      "---   ---------------   ---------   ---------   ------\n",
      "  1   -8.400428852547                   -1.78    24.5s\n",
      "  2   -8.400429024420       -6.76       -4.02    2.32s\n",
      "  3   -8.400429024420      -14.45       -7.83    128ms\n"
     ]
    }
   ],
   "cell_type": "code",
   "source": [
    "ψ = DFTK.select_occupied_orbitals(basis, scfres_start.ψ, scfres_start.occupation).ψ\n",
    "scfres_newton = newton(basis, ψ; tol);"
   ],
   "metadata": {},
   "execution_count": 6
  },
  {
   "cell_type": "markdown",
   "source": [
    "## Comparison of results"
   ],
   "metadata": {}
  },
  {
   "outputs": [
    {
     "name": "stdout",
     "output_type": "stream",
     "text": [
      "|ρ_newton - ρ_scf|  = 2.4523858411236823e-7\n",
      "|ρ_newton - ρ_scfv| = 5.006558045494872e-6\n",
      "|ρ_newton - ρ_dm|   = 9.76446280429483e-7\n"
     ]
    }
   ],
   "cell_type": "code",
   "source": [
    "println(\"|ρ_newton - ρ_scf|  = \", norm(scfres_newton.ρ - scfres_scf.ρ))\n",
    "println(\"|ρ_newton - ρ_scfv| = \", norm(scfres_newton.ρ - scfres_scfv.ρ))\n",
    "println(\"|ρ_newton - ρ_dm|   = \", norm(scfres_newton.ρ - scfres_dm.ρ))"
   ],
   "metadata": {},
   "execution_count": 7
  }
 ],
 "nbformat_minor": 3,
 "metadata": {
  "language_info": {
   "file_extension": ".jl",
   "mimetype": "application/julia",
   "name": "julia",
   "version": "1.11.1"
  },
  "kernelspec": {
   "name": "julia-1.11",
   "display_name": "Julia 1.11.1",
   "language": "julia"
  }
 },
 "nbformat": 4
}
