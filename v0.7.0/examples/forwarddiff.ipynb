{
 "cells": [
  {
   "cell_type": "markdown",
   "source": [
    "# Polarizability using automatic differentiation\n",
    "\n",
    "Simple example for computing properties using (forward-mode)\n",
    "automatic differentiation.\n",
    "For a more classical approach and more details about computing polarizabilities,\n",
    "see Polarizability by linear response."
   ],
   "metadata": {}
  },
  {
   "outputs": [],
   "cell_type": "code",
   "source": [
    "using DFTK\n",
    "using LinearAlgebra\n",
    "using ForwardDiff\n",
    "\n",
    "# Construct PlaneWaveBasis given a particular electric field strength\n",
    "# Again we take the example of a Helium atom.\n",
    "function make_basis(ε::T; a=10., Ecut=30) where {T}\n",
    "    lattice=T(a) * I(3)  # lattice is a cube of $a$ Bohrs\n",
    "    # Helium at the center of the box\n",
    "    atoms     = [ElementPsp(:He, load_psp(\"hgh/lda/He-q2\"))]\n",
    "    positions = [[1/2, 1/2, 1/2]]\n",
    "\n",
    "    model = model_DFT(lattice, atoms, positions;\n",
    "                      functionals=[:lda_x, :lda_c_vwn],\n",
    "                      extra_terms=[ExternalFromReal(r -> -ε * (r[1] - a/2))],\n",
    "                      symmetries=false)\n",
    "    PlaneWaveBasis(model; Ecut, kgrid=[1, 1, 1])  # No k-point sampling on isolated system\n",
    "end\n",
    "\n",
    "# dipole moment of a given density (assuming the current geometry)\n",
    "function dipole(basis, ρ)\n",
    "    @assert isdiag(basis.model.lattice)\n",
    "    a  = basis.model.lattice[1, 1]\n",
    "    rr = [a * (r[1] - 1/2) for r in r_vectors(basis)]\n",
    "    sum(rr .* ρ) * basis.dvol\n",
    "end\n",
    "\n",
    "# Function to compute the dipole for a given field strength\n",
    "function compute_dipole(ε; tol=1e-8, kwargs...)\n",
    "    scfres = self_consistent_field(make_basis(ε; kwargs...); tol)\n",
    "    dipole(scfres.basis, scfres.ρ)\n",
    "end;"
   ],
   "metadata": {},
   "execution_count": 1
  },
  {
   "cell_type": "markdown",
   "source": [
    "With this in place we can compute the polarizability from finite differences\n",
    "(just like in the previous example):"
   ],
   "metadata": {}
  },
  {
   "outputs": [
    {
     "name": "stdout",
     "output_type": "stream",
     "text": [
      "n     Energy            log10(ΔE)   log10(Δρ)   Diag   Δtime\n",
      "---   ---------------   ---------   ---------   ----   ------\n",
      "  1   -2.770886340313                   -0.52    9.0    181ms\n",
      "  2   -2.772149139154       -2.90       -1.32    1.0    108ms\n",
      "  3   -2.772170297222       -4.67       -2.45    1.0    111ms\n",
      "  4   -2.772170656032       -6.45       -3.17    1.0    114ms\n",
      "  5   -2.772170722878       -7.17       -4.39    2.0    132ms\n",
      "  6   -2.772170722939      -10.22       -4.49    1.0    118ms\n",
      "  7   -2.772170723013      -10.13       -5.25    1.0    119ms\n",
      "  8   -2.772170723014      -11.89       -5.42    1.0    177ms\n",
      "  9   -2.772170723015      -12.10       -6.40    1.0    474ms\n",
      " 10   -2.772170723015      -13.31       -6.61    2.0    134ms\n",
      " 11   -2.772170723015      -14.75       -7.27    1.0    143ms\n",
      " 12   -2.772170723015   +  -14.45       -7.87    1.0    118ms\n",
      " 13   -2.772170723015      -13.86       -8.69    2.0    148ms\n",
      "n     Energy            log10(ΔE)   log10(Δρ)   Diag   Δtime\n",
      "---   ---------------   ---------   ---------   ----   ------\n",
      "  1   -2.770818451946                   -0.52    9.0    186ms\n",
      "  2   -2.772062695251       -2.91       -1.32    1.0    108ms\n",
      "  3   -2.772083050964       -4.69       -2.44    1.0    110ms\n",
      "  4   -2.772083350173       -6.52       -3.16    1.0    113ms\n",
      "  5   -2.772083417717       -7.17       -4.42    2.0    131ms\n",
      "  6   -2.772083417790      -10.14       -4.86    1.0    130ms\n",
      "  7   -2.772083417809      -10.73       -5.64    1.0    121ms\n",
      "  8   -2.772083417811      -11.73       -6.89    2.0    175ms\n",
      "  9   -2.772083417811   +  -14.15       -7.67    1.0    465ms\n",
      " 10   -2.772083417811      -13.73       -8.39    2.0    129ms\n"
     ]
    },
    {
     "output_type": "execute_result",
     "data": {
      "text/plain": "1.7735578493219664"
     },
     "metadata": {},
     "execution_count": 2
    }
   ],
   "cell_type": "code",
   "source": [
    "polarizability_fd = let\n",
    "    ε = 0.01\n",
    "    (compute_dipole(ε) - compute_dipole(0.0)) / ε\n",
    "end"
   ],
   "metadata": {},
   "execution_count": 2
  },
  {
   "cell_type": "markdown",
   "source": [
    "We do the same thing using automatic differentiation. Under the hood this uses\n",
    "custom rules to implicitly differentiate through the self-consistent\n",
    "field fixed-point problem."
   ],
   "metadata": {}
  },
  {
   "outputs": [
    {
     "name": "stdout",
     "output_type": "stream",
     "text": [
      "n     Energy            log10(ΔE)   log10(Δρ)   Diag   Δtime\n",
      "---   ---------------   ---------   ---------   ----   ------\n",
      "  1   -2.770782012463                   -0.52    9.0    185ms\n",
      "  2   -2.772052281052       -2.90       -1.32    1.0    121ms\n",
      "  3   -2.772082967923       -4.51       -2.54    1.0    110ms\n",
      "  4   -2.772083379192       -6.39       -3.50    1.0    115ms\n",
      "  5   -2.772083416508       -7.43       -3.93    2.0    133ms\n",
      "  6   -2.772083417721       -8.92       -4.77    1.0    120ms\n",
      "  7   -2.772083417806      -10.07       -5.24    2.0    540ms\n",
      "  8   -2.772083417811      -11.39       -6.39    1.0    116ms\n",
      "  9   -2.772083417811      -13.09       -7.31    2.0    132ms\n",
      " 10   -2.772083417811   +  -14.18       -7.34    1.0    124ms\n",
      " 11   -2.772083417811      -14.51       -8.02    1.0    133ms\n",
      "\n",
      "Polarizability via ForwardDiff:       1.7725349511844861\n",
      "Polarizability via finite difference: 1.7735578493219664\n"
     ]
    }
   ],
   "cell_type": "code",
   "source": [
    "polarizability = ForwardDiff.derivative(compute_dipole, 0.0)\n",
    "println()\n",
    "println(\"Polarizability via ForwardDiff:       $polarizability\")\n",
    "println(\"Polarizability via finite difference: $polarizability_fd\")"
   ],
   "metadata": {},
   "execution_count": 3
  }
 ],
 "nbformat_minor": 3,
 "metadata": {
  "language_info": {
   "file_extension": ".jl",
   "mimetype": "application/julia",
   "name": "julia",
   "version": "1.11.1"
  },
  "kernelspec": {
   "name": "julia-1.11",
   "display_name": "Julia 1.11.1",
   "language": "julia"
  }
 },
 "nbformat": 4
}
