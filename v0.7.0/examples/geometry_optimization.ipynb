{
 "cells": [
  {
   "cell_type": "markdown",
   "source": [
    "# Geometry optimization\n",
    "\n",
    "We use DFTK and the [GeometryOptimization](https://github.com/JuliaMolSim/GeometryOptimization.jl/)\n",
    "package to find the minimal-energy bond length of the $H_2$ molecule.\n",
    "First we set up an appropriate `DFTKCalculator` (see AtomsCalculators integration),\n",
    "for which we use the LDA model just like in the Tutorial for silicon."
   ],
   "metadata": {}
  },
  {
   "outputs": [
    {
     "output_type": "execute_result",
     "data": {
      "text/plain": "DFTKCalculator(functionals=Xc(lda_x, lda_c_pw), Ecut=10, kgrid=[1, 1, 1])"
     },
     "metadata": {},
     "execution_count": 1
    }
   ],
   "cell_type": "code",
   "source": [
    "using DFTK\n",
    "\n",
    "calc = DFTKCalculator(;\n",
    "    model_kwargs = (; functionals=LDA()),        # model_DFT keyword arguments\n",
    "    basis_kwargs = (; kgrid=[1, 1, 1], Ecut=10)  # PlaneWaveBasis keyword arguments\n",
    ")"
   ],
   "metadata": {},
   "execution_count": 1
  },
  {
   "cell_type": "markdown",
   "source": [
    "Next we set up an initial hydrogen molecule within a box of vacuum.\n",
    "We use the parameters of the\n",
    "[equivalent tutorial from ABINIT](https://docs.abinit.org/tutorial/base1/),\n",
    "that is a simulation box of 10 bohr times 10 bohr times 10 bohr and a\n",
    "pseudodojo pseudopotential."
   ],
   "metadata": {}
  },
  {
   "outputs": [
    {
     "output_type": "execute_result",
     "data": {
      "text/plain": "FlexibleSystem(H₂, periodic = TTT):\n    bounding_box      : [      10        0        0;\n                                0       10        0;\n                                0        0       10]u\"a₀\"\n\n    Atom(H,  [       0,        0,        0]u\"a₀\")\n    Atom(H,  [     1.4,        0,        0]u\"a₀\")\n\n       .------------.  \n      /|            |  \n     / |            |  \n    *  |            |  \n    |  |            |  \n    |  |            |  \n    |  .------------.  \n    | /            /   \n    |/            /    \n    H-H----------*     \n"
     },
     "metadata": {},
     "execution_count": 2
    }
   ],
   "cell_type": "code",
   "source": [
    "using LinearAlgebra\n",
    "using PseudoPotentialData\n",
    "\n",
    "r0 = 1.4   # Initial bond length in Bohr\n",
    "a  = 10.0  # Box size in Bohr\n",
    "\n",
    "lattice = a * I(3)\n",
    "H = ElementPsp(:H, PseudoFamily(\"dojo.nc.sr.pbe.v0_4_1.oncvpsp3.standard.upf\"))\n",
    "atoms = [H, H]\n",
    "positions = [zeros(3), lattice \\ [r0, 0., 0.]]\n",
    "\n",
    "h2_crude = periodic_system(lattice, atoms, positions)"
   ],
   "metadata": {},
   "execution_count": 2
  },
  {
   "cell_type": "markdown",
   "source": [
    "Finally we call `minimize_energy!` to start the geometry optimisation.\n",
    "We use `verbosity=2` to get some insight into the minimisation.\n",
    "With `verbosity=1` only a summarising table would be printed and with\n",
    "`verbosity=0` (default) the minimisation would be quiet."
   ],
   "metadata": {}
  },
  {
   "outputs": [
    {
     "name": "stdout",
     "output_type": "stream",
     "text": [
      "n     Energy            log10(ΔE)   log10(Δρ)   α      Diag   Δtime\n",
      "---   ---------------   ---------   ---------   ----   ----   ------\n",
      "  1   -1.098147347254                   -0.89   0.80    8.0    4.27s\n",
      "  2   -1.100783197250       -2.58       -1.74   0.80    1.0    1.93s\n",
      "  3   -1.100802481321       -4.71       -2.81   0.80    1.0   39.8ms\n",
      "  4   -1.100803401815       -6.04       -3.62   0.80    1.0   17.2ms\n",
      "  5   -1.100803450682       -7.31       -4.18   0.80    2.0   24.7ms\n",
      "  6   -1.100803451409       -9.14       -4.50   0.80    1.0   18.0ms\n",
      "  7   -1.100803451661       -9.60       -5.86   0.80    1.0   20.2ms\n",
      "  8   -1.100803451664      -11.51       -6.20   0.80    2.0   23.3ms\n",
      "  9   -1.100803451664      -13.01       -6.65   0.80    1.0   25.0ms\n",
      " 10   -1.100803451664      -13.78       -7.64   0.80    1.0   20.9ms\n",
      " 11   -1.100803451664   +    -Inf       -7.61   0.80    2.0   23.2ms\n",
      " 12   -1.100803451664   +  -15.05       -8.08   0.80    1.0   22.6ms\n",
      " 13   -1.100803451664   +  -15.35       -8.37   0.80    1.0   21.4ms\n",
      " 14   -1.100803451664      -14.88       -8.84   0.80    1.0   22.2ms\n",
      "n     Energy            log10(ΔE)   log10(Δρ)   α      Diag   Δtime\n",
      "---   ---------------   ---------   ---------   ----   ----   ------\n",
      "  1   -1.100803451664                   -9.17   0.80    1.0    2.03s\n",
      "  2   -1.100803451664   +  -14.65      -10.15   0.80    1.0   19.8ms\n",
      "\n",
      "Geometry optimisation convergence (in atomic units)\n",
      "┌─────┬─────────────────┬───────────┬────────────┬────────┐\n",
      "│   n │          Energy │ log10(ΔE) │ max(Force) │  Δtime │\n",
      "├─────┼─────────────────┼───────────┼────────────┼────────┤\n",
      "│   0 │ -1.100803451664 │           │  0.0398785 │  17.5s │\n",
      "└─────┴─────────────────┴───────────┴────────────┴────────┘\n",
      "\n",
      "n     Energy            log10(ΔE)   log10(Δρ)   α      Diag   Δtime\n",
      "---   ---------------   ---------   ---------   ----   ----   ------\n",
      "  1   -1.101386188282                   -2.30   0.80    1.0   10.8ms\n",
      "  2   -1.101391725529       -5.26       -3.32   0.80    1.0   39.4ms\n",
      "  3   -1.101391786175       -7.22       -4.07   0.80    1.0   17.0ms\n",
      "  4   -1.101391787211       -8.98       -4.97   0.80    1.0   28.5ms\n",
      "  5   -1.101391787245      -10.46       -5.74   0.80    1.0   17.7ms\n",
      "  6   -1.101391787247      -11.79       -6.23   0.80    1.0   17.7ms\n",
      "  7   -1.101391787247      -12.98       -7.25   0.80    1.0   20.0ms\n",
      "  8   -1.101391787247      -14.51       -8.01   0.80    1.0   20.5ms\n",
      "  9   -1.101391787247      -14.75       -8.79   0.80    1.0   20.4ms\n",
      "n     Energy            log10(ΔE)   log10(Δρ)   α      Diag   Δtime\n",
      "---   ---------------   ---------   ---------   ----   ----   ------\n",
      "  1   -1.102942669459                   -1.56   0.80    1.0   10.8ms\n",
      "  2   -1.103115930441       -3.76       -2.55   0.80    1.0   18.1ms\n",
      "  3   -1.103117857162       -5.72       -3.31   0.80    1.0   18.5ms\n",
      "  4   -1.103117891968       -7.46       -4.21   0.80    1.0   17.4ms\n",
      "  5   -1.103117893129       -8.94       -4.97   0.80    1.0   19.3ms\n",
      "  6   -1.103117893181      -10.29       -5.47   0.80    1.0   19.4ms\n",
      "  7   -1.103117893185      -11.43       -6.53   0.80    1.0   20.3ms\n",
      "  8   -1.103117893185      -13.28       -7.43   0.80    1.0   20.6ms\n",
      "  9   -1.103117893185   +  -14.75       -7.78   0.80    2.0   22.7ms\n",
      " 10   -1.103117893185      -14.88       -8.60   0.80    1.0   20.3ms\n",
      "n     Energy            log10(ΔE)   log10(Δρ)   α      Diag   Δtime\n",
      "---   ---------------   ---------   ---------   ----   ----   ------\n",
      "  1   -1.103117893185                   -9.02   0.80    1.0   10.7ms\n",
      "  2   -1.103117893185   +    -Inf      -10.25   0.80    1.0   25.4ms\n",
      "\n",
      "┌─────┬─────────────────┬───────────┬────────────┬────────┐\n",
      "│   n │          Energy │ log10(ΔE) │ max(Force) │  Δtime │\n",
      "├─────┼─────────────────┼───────────┼────────────┼────────┤\n",
      "│   1 │ -1.103117893185 │     -2.64 │ 0.00571936 │  1.84s │\n",
      "└─────┴─────────────────┴───────────┴────────────┴────────┘\n",
      "\n",
      "n     Energy            log10(ΔE)   log10(Δρ)   α      Diag   Δtime\n",
      "---   ---------------   ---------   ---------   ----   ----   ------\n",
      "  1   -1.103141517488                   -2.86   0.80    1.0   10.7ms\n",
      "  2   -1.103141961838       -6.35       -3.86   0.80    1.0   22.6ms\n",
      "  3   -1.103141966642       -8.32       -4.62   0.80    1.0   31.7ms\n",
      "  4   -1.103141966726      -10.08       -5.52   0.80    1.0   17.1ms\n",
      "  5   -1.103141966729      -11.59       -6.29   0.80    1.0   19.4ms\n",
      "  6   -1.103141966729      -12.94       -6.78   0.80    1.0   19.5ms\n",
      "  7   -1.103141966729      -13.95       -7.93   0.80    1.0   19.8ms\n",
      "  8   -1.103141966729      -14.95       -8.69   0.80    1.0   18.1ms\n",
      "n     Energy            log10(ΔE)   log10(Δρ)   α      Diag   Δtime\n",
      "---   ---------------   ---------   ---------   ----   ----   ------\n",
      "  1   -1.103174548493                   -2.31   0.80    1.0   16.4ms\n",
      "  2   -1.103180009638       -5.26       -3.32   0.80    1.0   18.2ms\n",
      "  3   -1.103180068856       -7.23       -4.07   0.80    1.0   16.6ms\n",
      "  4   -1.103180069901       -8.98       -4.98   0.80    1.0   60.0ms\n",
      "  5   -1.103180069933      -10.49       -5.74   0.80    1.0    362ms\n",
      "  6   -1.103180069934      -11.85       -6.23   0.80    1.0   17.8ms\n",
      "  7   -1.103180069934      -12.96       -7.39   0.80    1.0   18.4ms\n",
      "  8   -1.103180069934   +    -Inf       -8.13   0.80    1.0   18.3ms\n",
      "  9   -1.103180069934   +  -15.35       -8.41   0.80    2.0   21.1ms\n",
      " 10   -1.103180069934      -14.88       -9.35   0.80    1.0   18.7ms\n",
      "n     Energy            log10(ΔE)   log10(Δρ)   α      Diag   Δtime\n",
      "---   ---------------   ---------   ---------   ----   ----   ------\n",
      "  1   -1.103180069934                   -9.81   0.80    1.0   10.6ms\n",
      "  2   -1.103180069934      -14.33      -11.00   0.80    1.0   16.5ms\n",
      "\n",
      "┌─────┬─────────────────┬───────────┬────────────┬────────┐\n",
      "│   n │          Energy │ log10(ΔE) │ max(Force) │  Δtime │\n",
      "├─────┼─────────────────┼───────────┼────────────┼────────┤\n",
      "│   2 │ -1.103180069934 │     -4.21 │ 0.0001620… │  1.08s │\n",
      "└─────┴─────────────────┴───────────┴────────────┴────────┘\n",
      "\n",
      "n     Energy            log10(ΔE)   log10(Δρ)   α      Diag   Δtime\n",
      "---   ---------------   ---------   ---------   ----   ----   ------\n",
      "  1   -1.103180090944                   -4.36   0.80    1.0   11.8ms\n",
      "  2   -1.103180091381       -9.36       -5.37   0.80    1.0   16.6ms\n",
      "  3   -1.103180091386      -11.33       -6.12   0.80    1.0   17.4ms\n",
      "  4   -1.103180091386      -13.08       -7.03   0.80    1.0   21.2ms\n",
      "  5   -1.103180091386      -15.05       -7.80   0.80    1.0   30.5ms\n",
      "  6   -1.103180091386      -14.95       -8.28   0.80    1.0   17.7ms\n",
      "  7   -1.103180091386   +  -15.65       -9.46   0.80    1.0   18.6ms\n",
      "n     Energy            log10(ΔE)   log10(Δρ)   α      Diag   Δtime\n",
      "---   ---------------   ---------   ---------   ----   ----   ------\n",
      "  1   -1.103180117369                   -3.84   0.80    1.0   10.7ms\n",
      "  2   -1.103180122136       -8.32       -4.85   0.80    1.0   16.6ms\n",
      "  3   -1.103180122187      -10.29       -5.60   0.80    1.0   16.7ms\n",
      "  4   -1.103180122188      -12.05       -6.51   0.80    1.0   23.2ms\n",
      "  5   -1.103180122188      -13.51       -7.28   0.80    1.0   17.5ms\n",
      "  6   -1.103180122188      -14.35       -7.76   0.80    1.0   17.6ms\n",
      "  7   -1.103180122188   +  -14.22       -8.94   0.80    1.0   18.2ms\n",
      "n     Energy            log10(ΔE)   log10(Δρ)   α      Diag   Δtime\n",
      "---   ---------------   ---------   ---------   ----   ----   ------\n",
      "  1   -1.103180122188                   -9.69   0.80    1.0   10.6ms\n",
      "  2   -1.103180122188      -14.45      -10.43   0.80    1.0   16.5ms\n",
      "\n",
      "┌─────┬─────────────────┬───────────┬────────────┬────────┐\n",
      "│   n │          Energy │ log10(ΔE) │ max(Force) │  Δtime │\n",
      "├─────┼─────────────────┼───────────┼────────────┼────────┤\n",
      "│   3 │ -1.103180122188 │     -7.28 │ 1.38852e-7 │  612ms │\n",
      "└─────┴─────────────────┴───────────┴────────────┴────────┘\n",
      "\n"
     ]
    }
   ],
   "cell_type": "code",
   "source": [
    "using GeometryOptimization\n",
    "results = minimize_energy!(h2_crude, calc; tol_forces=2e-6, verbosity=2)\n",
    "nothing  # hide"
   ],
   "metadata": {},
   "execution_count": 3
  },
  {
   "cell_type": "markdown",
   "source": [
    "Structure after optimisation (note that the atom has wrapped around)"
   ],
   "metadata": {}
  },
  {
   "outputs": [
    {
     "output_type": "execute_result",
     "data": {
      "text/plain": "FlexibleSystem(H₂, periodic = TTT):\n    bounding_box      : [      10        0        0;\n                                0       10        0;\n                                0        0       10]u\"a₀\"\n\n    Atom(H,  [-0.0640966, -7.09872e-13, -8.66745e-12]u\"a₀\")\n    Atom(H,  [  1.4641, -3.79466e-12, -6.33527e-12]u\"a₀\")\n\n       .-H----------H  \n      /|            |  \n     / |            |  \n    *  |            |  \n    |  |            |  \n    |  |            |  \n    |  .------------.  \n    | /            /   \n    |/            /    \n    *------------*     \n"
     },
     "metadata": {},
     "execution_count": 4
    }
   ],
   "cell_type": "code",
   "source": [
    "results.system"
   ],
   "metadata": {},
   "execution_count": 4
  },
  {
   "cell_type": "markdown",
   "source": [
    "Compute final bond length:"
   ],
   "metadata": {}
  },
  {
   "outputs": [
    {
     "name": "stdout",
     "output_type": "stream",
     "text": [
      "Optimal bond length: 1.5281933000251298 a₀\n"
     ]
    }
   ],
   "cell_type": "code",
   "source": [
    "rmin = norm(position(results.system[1]) - position(results.system[2]))\n",
    "println(\"Optimal bond length: \", rmin)"
   ],
   "metadata": {},
   "execution_count": 5
  },
  {
   "cell_type": "markdown",
   "source": [
    "Our results (1.486 Bohr) agrees with the\n",
    "[equivalent tutorial from ABINIT](https://docs.abinit.org/tutorial/base1/)."
   ],
   "metadata": {}
  }
 ],
 "nbformat_minor": 3,
 "metadata": {
  "language_info": {
   "file_extension": ".jl",
   "mimetype": "application/julia",
   "name": "julia",
   "version": "1.11.1"
  },
  "kernelspec": {
   "name": "julia-1.11",
   "display_name": "Julia 1.11.1",
   "language": "julia"
  }
 },
 "nbformat": 4
}
