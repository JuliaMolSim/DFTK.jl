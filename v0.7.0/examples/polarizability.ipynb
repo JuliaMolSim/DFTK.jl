{
 "cells": [
  {
   "cell_type": "markdown",
   "source": [
    "# Polarizability by linear response\n",
    "\n",
    "We compute the polarizability of a Helium atom. The polarizability\n",
    "is defined as the change in dipole moment\n",
    "$$\n",
    "μ = ∫ r ρ(r) dr\n",
    "$$\n",
    "with respect to a small uniform electric field $E = -x$.\n",
    "\n",
    "We compute this in two ways: first by finite differences (applying a\n",
    "finite electric field), then by linear response. Note that DFTK is\n",
    "not really adapted to isolated atoms because it uses periodic\n",
    "boundary conditions. Nevertheless we can simply embed the Helium\n",
    "atom in a large enough box (although this is computationally wasteful).\n",
    "\n",
    "As in other tests, this is not fully converged, convergence\n",
    "parameters were simply selected for fast execution on CI,"
   ],
   "metadata": {}
  },
  {
   "outputs": [],
   "cell_type": "code",
   "source": [
    "using DFTK\n",
    "using LinearAlgebra\n",
    "\n",
    "a = 10.\n",
    "lattice = a * I(3)  # cube of $a$ bohrs\n",
    "# Helium at the center of the box\n",
    "atoms     = [ElementPsp(:He, load_psp(\"hgh/lda/He-q2\"))]\n",
    "positions = [[1/2, 1/2, 1/2]]\n",
    "\n",
    "\n",
    "kgrid = [1, 1, 1]  # no k-point sampling for an isolated system\n",
    "Ecut = 30\n",
    "tol = 1e-8\n",
    "\n",
    "# dipole moment of a given density (assuming the current geometry)\n",
    "function dipole(basis, ρ)\n",
    "    rr = [(r[1] - a/2) for r in r_vectors_cart(basis)]\n",
    "    sum(rr .* ρ) * basis.dvol\n",
    "end;"
   ],
   "metadata": {},
   "execution_count": 1
  },
  {
   "cell_type": "markdown",
   "source": [
    "## Using finite differences\n",
    "We first compute the polarizability by finite differences.\n",
    "First compute the dipole moment at rest:"
   ],
   "metadata": {}
  },
  {
   "outputs": [
    {
     "name": "stdout",
     "output_type": "stream",
     "text": [
      "n     Energy            log10(ΔE)   log10(Δρ)   Diag   Δtime\n",
      "---   ---------------   ---------   ---------   ----   ------\n",
      "  1   -2.770326127996                   -0.53    9.0    166ms\n",
      "  2   -2.771687116006       -2.87       -1.30    1.0   92.9ms\n",
      "  3   -2.771714234053       -4.57       -2.62    1.0   95.9ms\n",
      "  4   -2.771714687990       -6.34       -3.96    1.0   97.1ms\n",
      "  5   -2.771714714913       -7.57       -4.31    2.0    115ms\n",
      "  6   -2.771714715237       -9.49       -5.54    1.0    486ms\n",
      "  7   -2.771714715249      -10.92       -5.80    2.0    120ms\n",
      "  8   -2.771714715250      -13.22       -5.94    2.0    147ms\n",
      "  9   -2.771714715250      -12.97       -7.22    1.0    135ms\n",
      " 10   -2.771714715250      -13.81       -7.43    2.0    115ms\n",
      " 11   -2.771714715250      -13.86       -8.13    1.0    103ms\n"
     ]
    },
    {
     "output_type": "execute_result",
     "data": {
      "text/plain": "-0.00013457372923182838"
     },
     "metadata": {},
     "execution_count": 2
    }
   ],
   "cell_type": "code",
   "source": [
    "model = model_DFT(lattice, atoms, positions;\n",
    "                  functionals=LDA(), symmetries=false)\n",
    "basis = PlaneWaveBasis(model; Ecut, kgrid)\n",
    "res   = self_consistent_field(basis; tol)\n",
    "μref  = dipole(basis, res.ρ)"
   ],
   "metadata": {},
   "execution_count": 2
  },
  {
   "cell_type": "markdown",
   "source": [
    "Then in a small uniform field:"
   ],
   "metadata": {}
  },
  {
   "outputs": [
    {
     "name": "stdout",
     "output_type": "stream",
     "text": [
      "n     Energy            log10(ΔE)   log10(Δρ)   Diag   Δtime\n",
      "---   ---------------   ---------   ---------   ----   ------\n",
      "  1   -2.770478647853                   -0.53    9.0    229ms\n",
      "  2   -2.771776605378       -2.89       -1.32    1.0    149ms\n",
      "  3   -2.771801714333       -4.60       -2.51    1.0   93.3ms\n",
      "  4   -2.771802009659       -6.53       -3.29    1.0   96.2ms\n",
      "  5   -2.771802072460       -7.20       -3.85    2.0    123ms\n",
      "  6   -2.771802074366       -8.72       -4.64    1.0    102ms\n",
      "  7   -2.771802074464      -10.01       -4.99    2.0    543ms\n",
      "  8   -2.771802074476      -10.92       -6.22    1.0    116ms\n",
      "  9   -2.771802074476   +  -13.30       -5.82    2.0    153ms\n",
      " 10   -2.771802074476      -12.56       -7.17    1.0    127ms\n",
      " 11   -2.771802074476      -14.88       -7.31    2.0    117ms\n",
      " 12   -2.771802074476      -13.97       -7.85    1.0    113ms\n",
      " 13   -2.771802074476   +  -14.21       -8.63    1.0    106ms\n"
     ]
    },
    {
     "output_type": "execute_result",
     "data": {
      "text/plain": "0.017612221333693577"
     },
     "metadata": {},
     "execution_count": 3
    }
   ],
   "cell_type": "code",
   "source": [
    "ε = .01\n",
    "model_ε = model_DFT(lattice, atoms, positions;\n",
    "                    functionals=LDA(),\n",
    "                    extra_terms=[ExternalFromReal(r -> -ε * (r[1] - a/2))],\n",
    "                    symmetries=false)\n",
    "basis_ε = PlaneWaveBasis(model_ε; Ecut, kgrid)\n",
    "res_ε   = self_consistent_field(basis_ε; tol)\n",
    "με = dipole(basis_ε, res_ε.ρ)"
   ],
   "metadata": {},
   "execution_count": 3
  },
  {
   "outputs": [
    {
     "name": "stdout",
     "output_type": "stream",
     "text": [
      "Reference dipole:  -0.00013457372923182838\n",
      "Displaced dipole:  0.017612221333693577\n",
      "Polarizability :   1.7746795062925402\n"
     ]
    }
   ],
   "cell_type": "code",
   "source": [
    "polarizability = (με - μref) / ε\n",
    "\n",
    "println(\"Reference dipole:  $μref\")\n",
    "println(\"Displaced dipole:  $με\")\n",
    "println(\"Polarizability :   $polarizability\")"
   ],
   "metadata": {},
   "execution_count": 4
  },
  {
   "cell_type": "markdown",
   "source": [
    "The result on more converged grids is very close to published results.\n",
    "For example [DOI 10.1039/C8CP03569E](https://doi.org/10.1039/C8CP03569E)\n",
    "quotes **1.65** with LSDA and **1.38** with CCSD(T)."
   ],
   "metadata": {}
  },
  {
   "cell_type": "markdown",
   "source": [
    "## Using linear response\n",
    "Now we use linear response to compute this analytically; we refer to standard\n",
    "textbooks for the formalism. In the following, $χ_0$ is the\n",
    "independent-particle polarizability, and $K$ the\n",
    "Hartree-exchange-correlation kernel. We denote with $δV_{\\rm ext}$ an external\n",
    "perturbing potential (like in this case the uniform electric field). Then:\n",
    "$$\n",
    "δρ = χ_0 δV = χ_0 (δV_{\\rm ext} + K δρ),\n",
    "$$\n",
    "which implies\n",
    "$$\n",
    "δρ = (1-χ_0 K)^{-1} χ_0 δV_{\\rm ext}.\n",
    "$$\n",
    "From this we identify the polarizability operator to be $χ = (1-χ_0 K)^{-1} χ_0$.\n",
    "Numerically, we apply $χ$ to $δV = -x$ by solving a linear equation\n",
    "(the Dyson equation) iteratively."
   ],
   "metadata": {}
  },
  {
   "outputs": [
    {
     "name": "stdout",
     "output_type": "stream",
     "text": [
      "WARNING: using KrylovKit.basis in module ##281 conflicts with an existing identifier.\n",
      "[ Info: GMRES linsolve in iter 1; step 1: normres = 2.493920641874e-01\n",
      "[ Info: GMRES linsolve in iter 1; step 2: normres = 3.766551188486e-03\n",
      "[ Info: GMRES linsolve in iter 1; step 3: normres = 2.852766602181e-04\n",
      "[ Info: GMRES linsolve in iter 1; step 4: normres = 4.694593759000e-06\n",
      "[ Info: GMRES linsolve in iter 1; step 5: normres = 1.088787361622e-08\n",
      "[ Info: GMRES linsolve in iter 1; step 6: normres = 6.273467781832e-11\n",
      "[ Info: GMRES linsolve in iter 1; step 7: normres = 6.516603448243e-13\n",
      "[ Info: GMRES linsolve in iter 1; finished at step 7: normres = 6.516603448243e-13\n",
      "[ Info: GMRES linsolve in iter 2; step 1: normres = 1.339715829327e-09\n",
      "[ Info: GMRES linsolve in iter 2; step 2: normres = 3.205168544015e-11\n",
      "[ Info: GMRES linsolve in iter 2; step 3: normres = 4.611492550780e-12\n",
      "[ Info: GMRES linsolve in iter 2; step 4: normres = 5.695452170693e-14\n",
      "[ Info: GMRES linsolve in iter 2; finished at step 4: normres = 5.695452170693e-14\n",
      "┌ Info: GMRES linsolve converged at iteration 2, step 4:\n",
      "│ *  norm of residual = 5.680744911838371e-14\n",
      "└ *  number of operations = 13\n",
      "Non-interacting polarizability: 1.9257125128705532\n",
      "Interacting polarizability:     1.7736548382496677\n"
     ]
    }
   ],
   "cell_type": "code",
   "source": [
    "using KrylovKit\n",
    "\n",
    "# Apply $(1- χ_0 K)$\n",
    "function dielectric_operator(δρ)\n",
    "    δV = apply_kernel(basis, δρ; res.ρ)\n",
    "    χ0δV = apply_χ0(res, δV)\n",
    "    δρ - χ0δV\n",
    "end\n",
    "\n",
    "# `δVext` is the potential from a uniform field interacting with the dielectric dipole\n",
    "# of the density.\n",
    "δVext = [-(r[1] - a/2) for r in r_vectors_cart(basis)]\n",
    "δVext = cat(δVext; dims=4)\n",
    "\n",
    "# Apply $χ_0$ once to get non-interacting dipole\n",
    "δρ_nointeract = apply_χ0(res, δVext)\n",
    "\n",
    "# Solve Dyson equation to get interacting dipole\n",
    "δρ = linsolve(dielectric_operator, δρ_nointeract, verbosity=3)[1]\n",
    "\n",
    "println(\"Non-interacting polarizability: $(dipole(basis, δρ_nointeract))\")\n",
    "println(\"Interacting polarizability:     $(dipole(basis, δρ))\")"
   ],
   "metadata": {},
   "execution_count": 5
  },
  {
   "cell_type": "markdown",
   "source": [
    "As expected, the interacting polarizability matches the finite difference\n",
    "result. The non-interacting polarizability is higher."
   ],
   "metadata": {}
  }
 ],
 "nbformat_minor": 3,
 "metadata": {
  "language_info": {
   "file_extension": ".jl",
   "mimetype": "application/julia",
   "name": "julia",
   "version": "1.11.1"
  },
  "kernelspec": {
   "name": "julia-1.11",
   "display_name": "Julia 1.11.1",
   "language": "julia"
  }
 },
 "nbformat": 4
}
