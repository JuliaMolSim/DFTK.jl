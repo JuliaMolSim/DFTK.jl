{
 "cells": [
  {
   "cell_type": "markdown",
   "source": [
    "# Comparison of DFT solvers"
   ],
   "metadata": {}
  },
  {
   "cell_type": "markdown",
   "source": [
    "We compare four different approaches for solving the DFT minimisation problem,\n",
    "namely a density-based SCF, a potential-based SCF, direct minimisation and Newton."
   ],
   "metadata": {}
  },
  {
   "cell_type": "markdown",
   "source": [
    "First we setup our problem"
   ],
   "metadata": {}
  },
  {
   "outputs": [
    {
     "output_type": "execute_result",
     "data": {
      "text/plain": "1.0e-6"
     },
     "metadata": {},
     "execution_count": 1
    }
   ],
   "cell_type": "code",
   "source": [
    "using AtomsBuilder\n",
    "using DFTK\n",
    "using LinearAlgebra\n",
    "using PseudoPotentialData\n",
    "\n",
    "pseudopotentials = PseudoFamily(\"dojo.nc.sr.pbesol.v0_4_1.oncvpsp3.standard.upf\")\n",
    "model = model_DFT(bulk(:Si); functionals=PBEsol(), pseudopotentials)\n",
    "basis = PlaneWaveBasis(model; Ecut=5, kgrid=[3, 3, 3])\n",
    "\n",
    "# Convergence we desire in the density\n",
    "tol = 1e-6"
   ],
   "metadata": {},
   "execution_count": 1
  },
  {
   "cell_type": "markdown",
   "source": [
    "## Density-based self-consistent field"
   ],
   "metadata": {}
  },
  {
   "outputs": [
    {
     "name": "stdout",
     "output_type": "stream",
     "text": [
      "n     Energy            log10(ΔE)   log10(Δρ)   Diag   Δtime\n",
      "---   ---------------   ---------   ---------   ----   ------\n",
      "  1   -8.397837979015                   -0.89    5.0   36.6ms\n",
      "  2   -8.400254931068       -2.62       -1.73    1.0   25.1ms\n",
      "  3   -8.400404100895       -3.83       -2.93    1.5   26.6ms\n",
      "  4   -8.400428652102       -4.61       -2.91    3.5   56.4ms\n",
      "  5   -8.400428803824       -6.82       -3.02    1.0   25.1ms\n",
      "  6   -8.400429017876       -6.67       -4.69    1.0   25.1ms\n",
      "  7   -8.400429023972       -8.21       -4.42    2.5   31.4ms\n",
      "  8   -8.400429024395       -9.37       -5.13    1.0   25.2ms\n",
      "  9   -8.400429024418      -10.64       -6.24    1.0   40.9ms\n"
     ]
    }
   ],
   "cell_type": "code",
   "source": [
    "scfres_scf = self_consistent_field(basis; tol);"
   ],
   "metadata": {},
   "execution_count": 2
  },
  {
   "cell_type": "markdown",
   "source": [
    "## Potential-based SCF"
   ],
   "metadata": {}
  },
  {
   "outputs": [
    {
     "name": "stdout",
     "output_type": "stream",
     "text": [
      "n     Energy            log10(ΔE)   log10(Δρ)   α      Diag   Δtime\n",
      "---   ---------------   ---------   ---------   ----   ----   ------\n",
      "  1   -8.397881881896                   -0.90           5.2    498ms\n",
      "  2   -8.400384637862       -2.60       -1.79   0.80    2.2    503ms\n",
      "  3   -8.400423533878       -4.41       -3.02   0.80    1.0    177ms\n",
      "  4   -8.400428979680       -5.26       -3.44   0.80    2.5   70.6ms\n",
      "  5   -8.400429021281       -7.38       -4.71   0.80    1.2   22.9ms\n",
      "  6   -8.400429024401       -8.51       -5.63   0.80    3.2   30.1ms\n",
      "  7   -8.400429024420      -10.73       -6.30   0.80    2.0   25.7ms\n"
     ]
    }
   ],
   "cell_type": "code",
   "source": [
    "scfres_scfv = DFTK.scf_potential_mixing(basis; tol);"
   ],
   "metadata": {},
   "execution_count": 3
  },
  {
   "cell_type": "markdown",
   "source": [
    "## Direct minimization"
   ],
   "metadata": {}
  },
  {
   "outputs": [
    {
     "name": "stdout",
     "output_type": "stream",
     "text": [
      "n     Energy            log10(ΔE)   log10(Δρ)   Δtime\n",
      "---   ---------------   ---------   ---------   ------\n",
      "  1   +0.511929385711                   -1.05    2.84s\n",
      "  2   -1.899768454959        0.38       -0.66    126ms\n",
      "  3   -3.851191192473        0.29       -0.40   57.5ms\n",
      "  4   -4.901628258454        0.02       -0.44   57.1ms\n",
      "  5   -6.720143537204        0.26       -0.56   82.0ms\n",
      "  6   -7.584697822042       -0.06       -0.82   56.7ms\n",
      "  7   -7.770202672421       -0.73       -1.42   42.1ms\n",
      "  8   -8.065475715411       -0.53       -1.69   42.0ms\n",
      "  9   -8.136478001173       -1.15       -1.88   58.8ms\n",
      " 10   -8.261526126942       -0.90       -1.93   42.6ms\n",
      " 11   -8.301802015749       -1.39       -2.14   42.5ms\n",
      " 12   -8.324686379806       -1.64       -2.27   42.4ms\n",
      " 13   -8.348319200765       -1.63       -2.15   42.1ms\n",
      " 14   -8.368382257007       -1.70       -2.36   46.1ms\n",
      " 15   -8.384161044771       -1.80       -2.37   42.1ms\n",
      " 16   -8.392338982169       -2.09       -3.20   42.1ms\n",
      " 17   -8.395736457633       -2.47       -3.02   45.5ms\n",
      " 18   -8.398644611045       -2.54       -3.20   42.3ms\n",
      " 19   -8.399296472900       -3.19       -3.14   42.6ms\n",
      " 20   -8.400086958108       -3.10       -3.55   58.1ms\n",
      " 21   -8.400183123299       -4.02       -3.47   43.1ms\n",
      " 22   -8.400349843663       -3.78       -4.04   42.6ms\n",
      " 23   -8.400374982825       -4.60       -4.24   45.4ms\n",
      " 24   -8.400416029029       -4.39       -4.23   42.7ms\n",
      " 25   -8.400421219953       -5.28       -4.09   46.4ms\n",
      " 26   -8.400426147991       -5.31       -4.75   43.2ms\n",
      " 27   -8.400427323659       -5.93       -4.56   45.8ms\n",
      " 28   -8.400428359512       -5.98       -4.89   43.0ms\n",
      " 29   -8.400428686223       -6.49       -4.86   43.0ms\n",
      " 30   -8.400428875455       -6.72       -5.33   46.6ms\n",
      " 31   -8.400428967476       -7.04       -5.08   43.0ms\n",
      " 32   -8.400429004849       -7.43       -5.40   46.6ms\n",
      " 33   -8.400429016921       -7.92       -5.72   43.2ms\n",
      " 34   -8.400429020397       -8.46       -5.86   43.4ms\n",
      " 35   -8.400429022837       -8.61       -6.03   46.2ms\n"
     ]
    }
   ],
   "cell_type": "code",
   "source": [
    "scfres_dm = direct_minimization(basis; tol);"
   ],
   "metadata": {},
   "execution_count": 4
  },
  {
   "cell_type": "markdown",
   "source": [
    "## Newton algorithm"
   ],
   "metadata": {}
  },
  {
   "cell_type": "markdown",
   "source": [
    "Start not too far from the solution to ensure convergence:\n",
    "We run first a very crude SCF to get close and then switch to Newton."
   ],
   "metadata": {}
  },
  {
   "outputs": [
    {
     "name": "stdout",
     "output_type": "stream",
     "text": [
      "n     Energy            log10(ΔE)   log10(Δρ)   Diag   Δtime\n",
      "---   ---------------   ---------   ---------   ----   ------\n",
      "  1   -8.397754038464                   -0.90    5.0   50.0ms\n"
     ]
    }
   ],
   "cell_type": "code",
   "source": [
    "scfres_start = self_consistent_field(basis; tol=0.5);"
   ],
   "metadata": {},
   "execution_count": 5
  },
  {
   "cell_type": "markdown",
   "source": [
    "Remove the virtual orbitals (which Newton cannot treat yet)"
   ],
   "metadata": {}
  },
  {
   "outputs": [
    {
     "name": "stdout",
     "output_type": "stream",
     "text": [
      "n     Energy            log10(ΔE)   log10(Δρ)   Δtime\n",
      "---   ---------------   ---------   ---------   ------\n",
      "  1   -8.400428849620                   -1.78    25.2s\n",
      "  2   -8.400429024420       -6.76       -4.03    2.41s\n",
      "  3   -8.400429024420      -14.45       -7.82    151ms\n"
     ]
    }
   ],
   "cell_type": "code",
   "source": [
    "ψ = DFTK.select_occupied_orbitals(basis, scfres_start.ψ, scfres_start.occupation).ψ\n",
    "scfres_newton = newton(basis, ψ; tol);"
   ],
   "metadata": {},
   "execution_count": 6
  },
  {
   "cell_type": "markdown",
   "source": [
    "## Comparison of results"
   ],
   "metadata": {}
  },
  {
   "outputs": [
    {
     "name": "stdout",
     "output_type": "stream",
     "text": [
      "|ρ_newton - ρ_scf|  = 1.0575067410721812e-6\n",
      "|ρ_newton - ρ_scfv| = 3.6519829031862675e-7\n",
      "|ρ_newton - ρ_dm|   = 3.3273158834762693e-6\n"
     ]
    }
   ],
   "cell_type": "code",
   "source": [
    "println(\"|ρ_newton - ρ_scf|  = \", norm(scfres_newton.ρ - scfres_scf.ρ))\n",
    "println(\"|ρ_newton - ρ_scfv| = \", norm(scfres_newton.ρ - scfres_scfv.ρ))\n",
    "println(\"|ρ_newton - ρ_dm|   = \", norm(scfres_newton.ρ - scfres_dm.ρ))"
   ],
   "metadata": {},
   "execution_count": 7
  }
 ],
 "nbformat_minor": 3,
 "metadata": {
  "language_info": {
   "file_extension": ".jl",
   "mimetype": "application/julia",
   "name": "julia",
   "version": "1.11.1"
  },
  "kernelspec": {
   "name": "julia-1.11",
   "display_name": "Julia 1.11.1",
   "language": "julia"
  }
 },
 "nbformat": 4
}
