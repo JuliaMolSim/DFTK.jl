{
 "cells": [
  {
   "cell_type": "markdown",
   "source": [
    "# Polarizability using automatic differentiation\n",
    "\n",
    "Simple example for computing properties using (forward-mode)\n",
    "automatic differentiation.\n",
    "For a more classical approach and more details about computing polarizabilities,\n",
    "see Polarizability by linear response."
   ],
   "metadata": {}
  },
  {
   "outputs": [],
   "cell_type": "code",
   "source": [
    "using DFTK\n",
    "using LinearAlgebra\n",
    "using ForwardDiff\n",
    "\n",
    "# Construct PlaneWaveBasis given a particular electric field strength\n",
    "# Again we take the example of a Helium atom.\n",
    "function make_basis(ε::T; a=10., Ecut=30) where {T}\n",
    "    lattice=T(a) * I(3)  # lattice is a cube of $a$ Bohrs\n",
    "    # Helium at the center of the box\n",
    "    atoms     = [ElementPsp(:He, load_psp(\"hgh/lda/He-q2\"))]\n",
    "    positions = [[1/2, 1/2, 1/2]]\n",
    "\n",
    "    model = model_DFT(lattice, atoms, positions;\n",
    "                      functionals=[:lda_x, :lda_c_vwn],\n",
    "                      extra_terms=[ExternalFromReal(r -> -ε * (r[1] - a/2))],\n",
    "                      symmetries=false)\n",
    "    PlaneWaveBasis(model; Ecut, kgrid=[1, 1, 1])  # No k-point sampling on isolated system\n",
    "end\n",
    "\n",
    "# dipole moment of a given density (assuming the current geometry)\n",
    "function dipole(basis, ρ)\n",
    "    @assert isdiag(basis.model.lattice)\n",
    "    a  = basis.model.lattice[1, 1]\n",
    "    rr = [a * (r[1] - 1/2) for r in r_vectors(basis)]\n",
    "    sum(rr .* ρ) * basis.dvol\n",
    "end\n",
    "\n",
    "# Function to compute the dipole for a given field strength\n",
    "function compute_dipole(ε; tol=1e-8, kwargs...)\n",
    "    scfres = self_consistent_field(make_basis(ε; kwargs...); tol)\n",
    "    dipole(scfres.basis, scfres.ρ)\n",
    "end;"
   ],
   "metadata": {},
   "execution_count": 1
  },
  {
   "cell_type": "markdown",
   "source": [
    "With this in place we can compute the polarizability from finite differences\n",
    "(just like in the previous example):"
   ],
   "metadata": {}
  },
  {
   "outputs": [
    {
     "name": "stdout",
     "output_type": "stream",
     "text": [
      "n     Energy            log10(ΔE)   log10(Δρ)   Diag   Δtime\n",
      "---   ---------------   ---------   ---------   ----   ------\n",
      "  1   -2.770799610797                   -0.53    9.0    179ms\n",
      "  2   -2.772138906124       -2.87       -1.30    1.0    108ms\n",
      "  3   -2.772170201544       -4.50       -2.64    1.0    112ms\n",
      "  4   -2.772170697530       -6.30       -4.01    1.0    125ms\n",
      "  5   -2.772170722869       -7.60       -4.47    2.0    138ms\n",
      "  6   -2.772170723007       -9.86       -5.53    1.0    546ms\n",
      "  7   -2.772170723015      -11.11       -5.71    2.0    126ms\n",
      "  8   -2.772170723015      -12.41       -6.18    1.0    127ms\n",
      "  9   -2.772170723015      -13.28       -6.87    1.0    140ms\n",
      " 10   -2.772170723015      -14.03       -7.15    2.0    131ms\n",
      " 11   -2.772170723015   +  -14.45       -8.51    1.0    120ms\n",
      "n     Energy            log10(ΔE)   log10(Δρ)   Diag   Δtime\n",
      "---   ---------------   ---------   ---------   ----   ------\n",
      "  1   -2.770788499961                   -0.52    9.0    182ms\n",
      "  2   -2.772059699127       -2.90       -1.33    1.0    109ms\n",
      "  3   -2.772082806136       -4.64       -2.39    1.0    113ms\n",
      "  4   -2.772083330227       -6.28       -3.10    1.0    125ms\n",
      "  5   -2.772083417580       -7.06       -4.60    2.0    133ms\n",
      "  6   -2.772083417787       -9.69       -4.76    2.0    132ms\n",
      "  7   -2.772083417810      -10.64       -5.83    1.0    122ms\n",
      "  8   -2.772083417811      -11.97       -6.29    2.0    570ms\n",
      "  9   -2.772083417811      -14.12       -7.38    1.0    116ms\n",
      " 10   -2.772083417811   +  -14.07       -7.92    2.0    131ms\n",
      " 11   -2.772083417811      -14.12       -8.40    1.0    119ms\n"
     ]
    },
    {
     "output_type": "execute_result",
     "data": {
      "text/plain": "1.7735580511504394"
     },
     "metadata": {},
     "execution_count": 2
    }
   ],
   "cell_type": "code",
   "source": [
    "polarizability_fd = let\n",
    "    ε = 0.01\n",
    "    (compute_dipole(ε) - compute_dipole(0.0)) / ε\n",
    "end"
   ],
   "metadata": {},
   "execution_count": 2
  },
  {
   "cell_type": "markdown",
   "source": [
    "We do the same thing using automatic differentiation. Under the hood this uses\n",
    "custom rules to implicitly differentiate through the self-consistent\n",
    "field fixed-point problem."
   ],
   "metadata": {}
  },
  {
   "outputs": [
    {
     "name": "stdout",
     "output_type": "stream",
     "text": [
      "n     Energy            log10(ΔE)   log10(Δρ)   Diag   Δtime\n",
      "---   ---------------   ---------   ---------   ----   ------\n",
      "  1   -2.770767515414                   -0.53    9.0    195ms\n",
      "  2   -2.772056707738       -2.89       -1.31    1.0    123ms\n",
      "  3   -2.772083126098       -4.58       -2.59    1.0    111ms\n",
      "  4   -2.772083380949       -6.59       -3.50    1.0    116ms\n",
      "  5   -2.772083415949       -7.46       -3.90    2.0    134ms\n",
      "  6   -2.772083417772       -8.74       -5.30    1.0    563ms\n",
      "  7   -2.772083417810      -10.42       -5.57    2.0    129ms\n",
      "  8   -2.772083417811      -12.34       -6.12    1.0    114ms\n",
      "  9   -2.772083417811      -13.20       -6.33    2.0    141ms\n",
      " 10   -2.772083417811      -13.45       -7.99    1.0    120ms\n",
      " 11   -2.772083417811   +  -13.81       -8.15    2.0    135ms\n",
      "\n",
      "Polarizability via ForwardDiff:       1.7725349604603038\n",
      "Polarizability via finite difference: 1.7735580511504394\n"
     ]
    }
   ],
   "cell_type": "code",
   "source": [
    "polarizability = ForwardDiff.derivative(compute_dipole, 0.0)\n",
    "println()\n",
    "println(\"Polarizability via ForwardDiff:       $polarizability\")\n",
    "println(\"Polarizability via finite difference: $polarizability_fd\")"
   ],
   "metadata": {},
   "execution_count": 3
  }
 ],
 "nbformat_minor": 3,
 "metadata": {
  "language_info": {
   "file_extension": ".jl",
   "mimetype": "application/julia",
   "name": "julia",
   "version": "1.11.1"
  },
  "kernelspec": {
   "name": "julia-1.11",
   "display_name": "Julia 1.11.1",
   "language": "julia"
  }
 },
 "nbformat": 4
}
