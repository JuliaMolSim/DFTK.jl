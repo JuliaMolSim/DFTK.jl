{
 "cells": [
  {
   "cell_type": "markdown",
   "source": [
    "# Creating and modelling metallic supercells\n",
    "\n",
    "In this section we will be concerned with modelling supercells of aluminium.\n",
    "When dealing with periodic problems there is no unique definition of the\n",
    "lattice: Clearly any duplication of the lattice along an axis is also a valid\n",
    "repetitive unit to describe exactly the same system.\n",
    "This is exactly what a **supercell** is: An $n$-fold repetition along one (or multiple)\n",
    "axes of the original lattice.\n",
    "\n",
    "The following code achieves this for aluminium:"
   ],
   "metadata": {}
  },
  {
   "outputs": [],
   "cell_type": "code",
   "source": [
    "using AtomsBuilder\n",
    "using DFTK\n",
    "using LinearAlgebra\n",
    "using Unitful\n",
    "using UnitfulAtomic\n",
    "using PseudoPotentialData\n",
    "\n",
    "function aluminium_setup(repeat=1; Ecut=7.0, kgrid=[2, 2, 2])\n",
    "    # Use AtomsBuilder to setup aluminium cubic unit cell (4 Al atoms)\n",
    "    # with provided lattice constant, see AtomsBase integration for details.\n",
    "    unit_cell = bulk(:Al; a=7.65339u\"bohr\", cubic=true)\n",
    "    supercell = unit_cell * (repeat, 1, 1)  # Make a supercell\n",
    "\n",
    "    # Select standard pseudodojo pseudopotentials, construct an LDA model, discretize\n",
    "    # Note: We disable symmetries explicitly here. Otherwise the problem sizes\n",
    "    #       we are able to run on the CI are too simple to observe the numerical\n",
    "    #       instabilities we want to trigger here.\n",
    "    pseudopotentials = PseudoFamily(\"dojo.nc.sr.lda.v0_4_1.oncvpsp3.standard.upf\")\n",
    "    model = model_DFT(supercell; pseudopotentials, functionals=LDA(),\n",
    "                      temperature=1e-3, symmetries=false)\n",
    "    PlaneWaveBasis(model; Ecut, kgrid)\n",
    "end;"
   ],
   "metadata": {},
   "execution_count": 1
  },
  {
   "cell_type": "markdown",
   "source": [
    "As expected we obtain the unit cell for `repeat=1`:"
   ],
   "metadata": {}
  },
  {
   "outputs": [
    {
     "output_type": "execute_result",
     "data": {
      "text/plain": "PlaneWaveBasis discretization:\n    architecture         : DFTK.CPU()\n    num. mpi processes   : 1\n    num. julia threads   : 1\n    num. DFTK  threads   : 1\n    num. blas  threads   : 2\n    num. fft   threads   : 1\n\n    Ecut                 : 7.0 Ha\n    fft_size             : (24, 24, 24), 13824 total points\n    kgrid                : MonkhorstPack([2, 2, 2])\n    num.   red. kpoints  : 8\n    num. irred. kpoints  : 8\n\n    Discretized Model(lda_x+lda_c_pw, 3D):\n        lattice (in Bohr)    : [7.65339   , 0         , 0         ]\n                               [0         , 7.65339   , 0         ]\n                               [0         , 0         , 7.65339   ]\n        unit cell volume     : 448.29 Bohr³\n    \n        atoms                : Al₄\n        atom potentials      : ElementPsp(Al, \"/home/runner/.julia/artifacts/1ea71a84cf375286564538a9cab789991f4bf1f4/Al.upf\")\n                               ElementPsp(Al, \"/home/runner/.julia/artifacts/1ea71a84cf375286564538a9cab789991f4bf1f4/Al.upf\")\n                               ElementPsp(Al, \"/home/runner/.julia/artifacts/1ea71a84cf375286564538a9cab789991f4bf1f4/Al.upf\")\n                               ElementPsp(Al, \"/home/runner/.julia/artifacts/1ea71a84cf375286564538a9cab789991f4bf1f4/Al.upf\")\n    \n        num. electrons       : 12\n        spin polarization    : none\n        temperature          : 0.001 Ha\n        smearing             : DFTK.Smearing.FermiDirac()\n    \n        terms                : Kinetic()\n                               AtomicLocal()\n                               AtomicNonlocal()\n                               Ewald(nothing)\n                               PspCorrection()\n                               Hartree()\n                               Xc(lda_x, lda_c_pw)\n                               Entropy()"
     },
     "metadata": {},
     "execution_count": 2
    }
   ],
   "cell_type": "code",
   "source": [
    "aluminium_setup(1)"
   ],
   "metadata": {},
   "execution_count": 2
  },
  {
   "cell_type": "markdown",
   "source": [
    "and 5-fold as large supercell with `repeat=5`:"
   ],
   "metadata": {}
  },
  {
   "outputs": [
    {
     "output_type": "execute_result",
     "data": {
      "text/plain": "PlaneWaveBasis discretization:\n    architecture         : DFTK.CPU()\n    num. mpi processes   : 1\n    num. julia threads   : 1\n    num. DFTK  threads   : 1\n    num. blas  threads   : 2\n    num. fft   threads   : 1\n\n    Ecut                 : 7.0 Ha\n    fft_size             : (96, 24, 24), 55296 total points\n    kgrid                : MonkhorstPack([2, 2, 2])\n    num.   red. kpoints  : 8\n    num. irred. kpoints  : 8\n\n    Discretized Model(lda_x+lda_c_pw, 3D):\n        lattice (in Bohr)    : [38.267    , 0         , 0         ]\n                               [0         , 7.65339   , 0         ]\n                               [0         , 0         , 7.65339   ]\n        unit cell volume     : 2241.5 Bohr³\n    \n        atoms                : Al₂₀\n        atom potentials      : ElementPsp(Al, \"/home/runner/.julia/artifacts/1ea71a84cf375286564538a9cab789991f4bf1f4/Al.upf\")\n                               ElementPsp(Al, \"/home/runner/.julia/artifacts/1ea71a84cf375286564538a9cab789991f4bf1f4/Al.upf\")\n                               ElementPsp(Al, \"/home/runner/.julia/artifacts/1ea71a84cf375286564538a9cab789991f4bf1f4/Al.upf\")\n                               ElementPsp(Al, \"/home/runner/.julia/artifacts/1ea71a84cf375286564538a9cab789991f4bf1f4/Al.upf\")\n                               ElementPsp(Al, \"/home/runner/.julia/artifacts/1ea71a84cf375286564538a9cab789991f4bf1f4/Al.upf\")\n                               ElementPsp(Al, \"/home/runner/.julia/artifacts/1ea71a84cf375286564538a9cab789991f4bf1f4/Al.upf\")\n                               ElementPsp(Al, \"/home/runner/.julia/artifacts/1ea71a84cf375286564538a9cab789991f4bf1f4/Al.upf\")\n                               ElementPsp(Al, \"/home/runner/.julia/artifacts/1ea71a84cf375286564538a9cab789991f4bf1f4/Al.upf\")\n                               ElementPsp(Al, \"/home/runner/.julia/artifacts/1ea71a84cf375286564538a9cab789991f4bf1f4/Al.upf\")\n                               ElementPsp(Al, \"/home/runner/.julia/artifacts/1ea71a84cf375286564538a9cab789991f4bf1f4/Al.upf\")\n                               ElementPsp(Al, \"/home/runner/.julia/artifacts/1ea71a84cf375286564538a9cab789991f4bf1f4/Al.upf\")\n                               ElementPsp(Al, \"/home/runner/.julia/artifacts/1ea71a84cf375286564538a9cab789991f4bf1f4/Al.upf\")\n                               ElementPsp(Al, \"/home/runner/.julia/artifacts/1ea71a84cf375286564538a9cab789991f4bf1f4/Al.upf\")\n                               ElementPsp(Al, \"/home/runner/.julia/artifacts/1ea71a84cf375286564538a9cab789991f4bf1f4/Al.upf\")\n                               ElementPsp(Al, \"/home/runner/.julia/artifacts/1ea71a84cf375286564538a9cab789991f4bf1f4/Al.upf\")\n                               ElementPsp(Al, \"/home/runner/.julia/artifacts/1ea71a84cf375286564538a9cab789991f4bf1f4/Al.upf\")\n                               ElementPsp(Al, \"/home/runner/.julia/artifacts/1ea71a84cf375286564538a9cab789991f4bf1f4/Al.upf\")\n                               ElementPsp(Al, \"/home/runner/.julia/artifacts/1ea71a84cf375286564538a9cab789991f4bf1f4/Al.upf\")\n                               ElementPsp(Al, \"/home/runner/.julia/artifacts/1ea71a84cf375286564538a9cab789991f4bf1f4/Al.upf\")\n                               ElementPsp(Al, \"/home/runner/.julia/artifacts/1ea71a84cf375286564538a9cab789991f4bf1f4/Al.upf\")\n    \n        num. electrons       : 60\n        spin polarization    : none\n        temperature          : 0.001 Ha\n        smearing             : DFTK.Smearing.FermiDirac()\n    \n        terms                : Kinetic()\n                               AtomicLocal()\n                               AtomicNonlocal()\n                               Ewald(nothing)\n                               PspCorrection()\n                               Hartree()\n                               Xc(lda_x, lda_c_pw)\n                               Entropy()"
     },
     "metadata": {},
     "execution_count": 3
    }
   ],
   "cell_type": "code",
   "source": [
    "aluminium_setup(5)"
   ],
   "metadata": {},
   "execution_count": 3
  },
  {
   "cell_type": "markdown",
   "source": [
    "As we will see in this notebook the modelling of a system generally becomes\n",
    "harder if the system becomes larger.\n",
    "\n",
    "- This sounds like a trivial statement as *per se* the cost per SCF step increases\n",
    "  as the system (and thus $N$) gets larger.\n",
    "- But there is more to it:\n",
    "  If one is not careful also the *number of SCF iterations* increases\n",
    "  as the system gets larger.\n",
    "- The aim of a proper computational treatment of such supercells is therefore\n",
    "  to ensure that the **number of SCF iterations remains constant** when the\n",
    "  system size increases."
   ],
   "metadata": {}
  },
  {
   "cell_type": "markdown",
   "source": [
    "For achieving the latter DFTK by default employs the `LdosMixing`\n",
    "preconditioner [^HL2021] during the SCF iterations. This mixing approach is\n",
    "completely parameter free, but still automatically adapts to the treated\n",
    "system in order to efficiently prevent charge sloshing. As a result,\n",
    "modelling aluminium slabs indeed takes roughly the same number of SCF iterations\n",
    "irrespective of the supercell size:\n",
    "\n",
    "[^HL2021]:\n",
    "   M. F. Herbst and A. Levitt.\n",
    "   *Black-box inhomogeneous preconditioning for self-consistent field iterations in density functional theory.*\n",
    "   J. Phys. Cond. Matt *33* 085503 (2021). [ArXiv:2009.01665](https://arxiv.org/abs/2009.01665)"
   ],
   "metadata": {}
  },
  {
   "outputs": [
    {
     "name": "stdout",
     "output_type": "stream",
     "text": [
      "n     Energy            log10(ΔE)   log10(Δρ)   Diag   Δtime\n",
      "---   ---------------   ---------   ---------   ----   ------\n",
      "  1   -9.355377439559                   -1.10    5.9    187ms\n",
      "  2   -9.356741224175       -2.87       -1.42    1.0    118ms\n",
      "  3   -9.356974447046       -3.63       -2.74    3.4    122ms\n",
      "  4   -9.357012035184       -4.42       -3.07    5.6    476ms\n",
      "  5   -9.357012275855       -6.62       -3.20    2.6    107ms\n",
      "  6   -9.357012403363       -6.89       -3.36    1.0   81.3ms\n",
      "  7   -9.357012476053       -7.14       -3.50    1.1   83.5ms\n",
      "  8   -9.357012514849       -7.41       -3.64    1.1   89.2ms\n",
      "  9   -9.357012540063       -7.60       -3.91    1.0   81.9ms\n",
      " 10   -9.357012547415       -8.13       -4.30    2.8    112ms\n"
     ]
    }
   ],
   "cell_type": "code",
   "source": [
    "self_consistent_field(aluminium_setup(1); tol=1e-4);"
   ],
   "metadata": {},
   "execution_count": 4
  },
  {
   "outputs": [
    {
     "name": "stdout",
     "output_type": "stream",
     "text": [
      "┌ Warning: Eigensolver not converged\n",
      "│   n_iter =\n",
      "│    8-element Vector{Int64}:\n",
      "│      9\n",
      "│      9\n",
      "│      8\n",
      "│     11\n",
      "│     13\n",
      "│      8\n",
      "│      5\n",
      "│      8\n",
      "└ @ DFTK ~/work/DFTK.jl/DFTK.jl/src/scf/self_consistent_field.jl:76\n",
      "n     Energy            log10(ΔE)   log10(Δρ)   Diag   Δtime\n",
      "---   ---------------   ---------   ---------   ----   ------\n",
      "  1   -18.78029668043                   -0.97    8.9    669ms\n",
      "  2   -18.79183594946       -1.94       -1.30    1.4    273ms\n",
      "  3   -18.79228842607       -3.34       -2.81    2.5    289ms\n",
      "  4   -18.79240716122       -3.93       -2.95    8.8    677ms\n",
      "  5   -18.79240840026       -5.91       -3.21    1.1    228ms\n",
      "  6   -18.79240856006       -6.80       -3.54    1.5    245ms\n",
      "  7   -18.79240859299       -7.48       -4.22    2.5    279ms\n"
     ]
    }
   ],
   "cell_type": "code",
   "source": [
    "self_consistent_field(aluminium_setup(2); tol=1e-4);"
   ],
   "metadata": {},
   "execution_count": 5
  },
  {
   "outputs": [
    {
     "name": "stdout",
     "output_type": "stream",
     "text": [
      "n     Energy            log10(ΔE)   log10(Δρ)   Diag   Δtime\n",
      "---   ---------------   ---------   ---------   ----   ------\n",
      "  1   -37.55468633604                   -0.84    9.4    2.20s\n",
      "  2   -37.56020560484       -2.26       -1.19    1.6    769ms\n",
      "  3   -37.56178755845       -2.80       -2.55    6.2    1.19s\n",
      "  4   -37.56452945776       -2.56       -2.43    5.6    1.68s\n",
      "  5   -37.56452349148   +   -5.22       -2.38   11.5    1.27s\n",
      "  6   -37.56455342808       -4.52       -3.39    1.0    751ms\n",
      "  7   -37.56455380783       -6.42       -3.64    9.2    1.35s\n",
      "  8   -37.56455405621       -6.60       -4.10    2.0    1.12s\n"
     ]
    }
   ],
   "cell_type": "code",
   "source": [
    "self_consistent_field(aluminium_setup(4); tol=1e-4);"
   ],
   "metadata": {},
   "execution_count": 6
  },
  {
   "cell_type": "markdown",
   "source": [
    "When switching off explicitly the `LdosMixing`, by selecting `mixing=SimpleMixing()`,\n",
    "the performance of number of required SCF steps starts to increase as we increase\n",
    "the size of the modelled problem:"
   ],
   "metadata": {}
  },
  {
   "outputs": [
    {
     "name": "stdout",
     "output_type": "stream",
     "text": [
      "n     Energy            log10(ΔE)   log10(Δρ)   Diag   Δtime\n",
      "---   ---------------   ---------   ---------   ----   ------\n",
      "  1   -9.355329401760                   -1.09    6.8    237ms\n",
      "  2   -9.356781921168       -2.84       -1.91    1.0   76.9ms\n",
      "  3   -9.356997254938       -3.67       -2.82    4.4    144ms\n",
      "  4   -9.356995590749   +   -5.78       -2.64    3.4    139ms\n",
      "  5   -9.357012066343       -4.78       -3.44    1.1   75.4ms\n",
      "  6   -9.357012481340       -6.38       -3.90    3.0    122ms\n",
      "  7   -9.357012546458       -7.19       -4.61    2.6    112ms\n"
     ]
    }
   ],
   "cell_type": "code",
   "source": [
    "self_consistent_field(aluminium_setup(1); tol=1e-4, mixing=SimpleMixing());"
   ],
   "metadata": {},
   "execution_count": 7
  },
  {
   "outputs": [
    {
     "name": "stdout",
     "output_type": "stream",
     "text": [
      "n     Energy            log10(ΔE)   log10(Δρ)   Diag   Δtime\n",
      "---   ---------------   ---------   ---------   ----   ------\n",
      "  1   -37.55505765972                   -0.84    9.9    2.22s\n",
      "  2   -37.54562063089   +   -2.03       -1.59    1.1    649ms\n",
      "  3   -22.06871342448   +    1.19       -0.47    8.0    1.61s\n",
      "  4   -37.56208506341        1.19       -1.99    8.9    2.05s\n",
      "  5   -37.55339425325   +   -2.06       -1.89    3.8    1.08s\n",
      "  6   -37.54448629854   +   -2.05       -1.90    3.4    983ms\n",
      "  7   -37.48493791865   +   -1.23       -1.61    5.2    1.15s\n",
      "  8   -37.56393837184       -1.10       -2.38    4.9    1.40s\n",
      "  9   -37.56447699093       -3.27       -2.89    2.8    957ms\n",
      " 10   -37.56453824230       -4.21       -3.14    4.4    1.27s\n",
      " 11   -37.56454137087       -5.50       -3.18    2.8    1.08s\n",
      " 12   -37.56455242779       -4.96       -3.64    1.6    1.18s\n",
      " 13   -37.56455368207       -5.90       -3.92    3.2    1.05s\n",
      " 14   -37.56455401848       -6.47       -4.37    2.2    907ms\n"
     ]
    }
   ],
   "cell_type": "code",
   "source": [
    "self_consistent_field(aluminium_setup(4); tol=1e-4, mixing=SimpleMixing());"
   ],
   "metadata": {},
   "execution_count": 8
  },
  {
   "cell_type": "markdown",
   "source": [
    "For completion let us note that the more traditional `mixing=KerkerMixing()`\n",
    "approach would also help in this particular setting to obtain a constant\n",
    "number of SCF iterations for an increasing system size (try it!). In contrast\n",
    "to `LdosMixing`, however, `KerkerMixing` is only suitable to model bulk metallic\n",
    "system (like the case we are considering here). When modelling metallic surfaces\n",
    "or mixtures of metals and insulators, `KerkerMixing` fails, while `LdosMixing`\n",
    "still works well. See the Modelling a gallium arsenide surface example\n",
    "or [^HL2021] for details. Due to the general applicability of `LdosMixing` this\n",
    "method is the default mixing approach in DFTK."
   ],
   "metadata": {}
  }
 ],
 "nbformat_minor": 3,
 "metadata": {
  "language_info": {
   "file_extension": ".jl",
   "mimetype": "application/julia",
   "name": "julia",
   "version": "1.11.1"
  },
  "kernelspec": {
   "name": "julia-1.11",
   "display_name": "Julia 1.11.1",
   "language": "julia"
  }
 },
 "nbformat": 4
}
