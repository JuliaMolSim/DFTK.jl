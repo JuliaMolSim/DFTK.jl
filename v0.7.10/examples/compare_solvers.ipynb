{
 "cells": [
  {
   "cell_type": "markdown",
   "source": [
    "# Comparison of DFT solvers"
   ],
   "metadata": {}
  },
  {
   "cell_type": "markdown",
   "source": [
    "We compare four different approaches for solving the DFT minimisation problem,\n",
    "namely a density-based SCF, a potential-based SCF, direct minimisation and Newton."
   ],
   "metadata": {}
  },
  {
   "cell_type": "markdown",
   "source": [
    "First we setup our problem"
   ],
   "metadata": {}
  },
  {
   "outputs": [
    {
     "output_type": "execute_result",
     "data": {
      "text/plain": "1.0e-6"
     },
     "metadata": {},
     "execution_count": 1
    }
   ],
   "cell_type": "code",
   "source": [
    "using AtomsBuilder\n",
    "using DFTK\n",
    "using LinearAlgebra\n",
    "using PseudoPotentialData\n",
    "\n",
    "pseudopotentials = PseudoFamily(\"dojo.nc.sr.pbesol.v0_4_1.standard.upf\")\n",
    "model = model_DFT(bulk(:Si); functionals=PBEsol(), pseudopotentials)\n",
    "basis = PlaneWaveBasis(model; Ecut=5, kgrid=[3, 3, 3])\n",
    "\n",
    "# Convergence we desire in the density\n",
    "tol = 1e-6"
   ],
   "metadata": {},
   "execution_count": 1
  },
  {
   "cell_type": "markdown",
   "source": [
    "## Density-based self-consistent field"
   ],
   "metadata": {}
  },
  {
   "outputs": [
    {
     "name": "stdout",
     "output_type": "stream",
     "text": [
      "n     Energy            log10(ΔE)   log10(Δρ)   Diag   Δtime\n",
      "---   ---------------   ---------   ---------   ----   ------\n",
      "  1   -8.397834415952                   -0.90    5.0   26.7ms\n",
      "  2   -8.400245915271       -2.62       -1.73    1.0   18.8ms\n",
      "  3   -8.400402020826       -3.81       -2.93    1.5   19.5ms\n",
      "  4   -8.400427767898       -4.59       -2.91    3.2   25.0ms\n",
      "  5   -8.400427954841       -6.73       -3.04    1.0   53.6ms\n",
      "  6   -8.400428149837       -6.71       -4.88    1.0   18.8ms\n",
      "  7   -8.400428155853       -8.22       -4.43    3.2   25.6ms\n",
      "  8   -8.400428156260       -9.39       -5.77    1.0   19.2ms\n",
      "  9   -8.400428156276      -10.79       -6.21    2.0   22.4ms\n"
     ]
    }
   ],
   "cell_type": "code",
   "source": [
    "scfres_scf = self_consistent_field(basis; tol);"
   ],
   "metadata": {},
   "execution_count": 2
  },
  {
   "cell_type": "markdown",
   "source": [
    "## Potential-based SCF"
   ],
   "metadata": {}
  },
  {
   "outputs": [
    {
     "name": "stdout",
     "output_type": "stream",
     "text": [
      "n     Energy            log10(ΔE)   log10(Δρ)   α      Diag   Δtime\n",
      "---   ---------------   ---------   ---------   ----   ----   ------\n",
      "  1   -8.397728855503                   -0.90           5.0    558ms\n",
      "  2   -8.400384528665       -2.58       -1.79   0.80    2.2    519ms\n",
      "  3   -8.400423208492       -4.41       -3.02   0.80    1.0    191ms\n",
      "  4   -8.400428116584       -5.31       -3.47   0.80    2.8   21.4ms\n",
      "  5   -8.400428152971       -7.44       -4.67   0.80    1.0   16.4ms\n",
      "  6   -8.400428156261       -8.48       -5.96   0.80    2.8   21.8ms\n",
      "  7   -8.400428156277      -10.81       -6.41   0.80    3.2   22.8ms\n"
     ]
    }
   ],
   "cell_type": "code",
   "source": [
    "scfres_scfv = DFTK.scf_potential_mixing(basis; tol);"
   ],
   "metadata": {},
   "execution_count": 3
  },
  {
   "cell_type": "markdown",
   "source": [
    "## Direct minimization"
   ],
   "metadata": {}
  },
  {
   "outputs": [
    {
     "name": "stdout",
     "output_type": "stream",
     "text": [
      "n     Energy            log10(ΔE)   log10(Δρ)   Δtime\n",
      "---   ---------------   ---------   ---------   ------\n",
      "  1   +0.846180307029                   -1.08    2.87s\n",
      "  2   -1.784578630584        0.42       -0.62    108ms\n",
      "  3   -3.597345251466        0.26       -0.39   39.3ms\n",
      "  4   -4.629740099205        0.01       -0.45   87.7ms\n",
      "  5   -6.320352035011        0.23       -0.50   39.5ms\n",
      "  6   -7.125459740811       -0.09       -0.68   39.5ms\n",
      "  7   -7.885911603677       -0.12       -0.90   39.2ms\n",
      "  8   -8.056020732470       -0.77       -1.51   50.3ms\n",
      "  9   -8.163188357514       -0.97       -1.81   29.1ms\n",
      " 10   -8.207796960236       -1.35       -1.91   29.1ms\n",
      " 11   -8.257183587233       -1.31       -2.09   29.1ms\n",
      " 12   -8.298237362961       -1.39       -1.74   29.0ms\n",
      " 13   -8.334447083358       -1.44       -1.91   28.9ms\n",
      " 14   -8.369960309394       -1.45       -2.05   33.4ms\n",
      " 15   -8.389194688309       -1.72       -2.39   29.1ms\n",
      " 16   -8.396577635833       -2.13       -2.47   29.3ms\n",
      " 17   -8.398623207060       -2.69       -2.61   29.0ms\n",
      " 18   -8.399924979238       -2.89       -2.67   32.9ms\n",
      " 19   -8.400062839950       -3.86       -2.97   28.9ms\n",
      " 20   -8.400358708190       -3.53       -3.00   29.1ms\n",
      " 21   -8.400391562218       -4.48       -3.52   32.5ms\n",
      " 22   -8.400418269130       -4.57       -3.58   28.9ms\n",
      " 23   -8.400418506098       -6.63       -3.83   32.8ms\n",
      " 24   -8.400424980330       -5.19       -4.05   29.0ms\n",
      " 25   -8.400426177836       -5.92       -4.23   29.0ms\n",
      " 26   -8.400427439360       -5.90       -4.47   32.5ms\n",
      " 27   -8.400427624091       -6.73       -4.62   28.8ms\n",
      " 28   -8.400427978785       -6.45       -5.03   29.0ms\n",
      " 29   -8.400428013495       -7.46       -4.82   32.4ms\n",
      " 30   -8.400428123245       -6.96       -5.21   28.9ms\n",
      " 31   -8.400428133174       -8.00       -5.40   29.0ms\n",
      " 32   -8.400428149409       -7.79       -5.81   32.3ms\n",
      " 33   -8.400428152042       -8.58       -5.76   29.0ms\n",
      " 34   -8.400428154453       -8.62       -5.94   32.4ms\n",
      " 35   -8.400428155267       -9.09       -5.83   28.9ms\n",
      " 36   -8.400428155935       -9.18       -6.19   33.4ms\n"
     ]
    }
   ],
   "cell_type": "code",
   "source": [
    "scfres_dm = direct_minimization(basis; tol);"
   ],
   "metadata": {},
   "execution_count": 4
  },
  {
   "cell_type": "markdown",
   "source": [
    "## Newton algorithm"
   ],
   "metadata": {}
  },
  {
   "cell_type": "markdown",
   "source": [
    "Start not too far from the solution to ensure convergence:\n",
    "We run first a very crude SCF to get close and then switch to Newton."
   ],
   "metadata": {}
  },
  {
   "outputs": [
    {
     "name": "stdout",
     "output_type": "stream",
     "text": [
      "n     Energy            log10(ΔE)   log10(Δρ)   Diag   Δtime\n",
      "---   ---------------   ---------   ---------   ----   ------\n",
      "  1   -8.397868493542                   -0.90    5.2   27.1ms\n"
     ]
    }
   ],
   "cell_type": "code",
   "source": [
    "scfres_start = self_consistent_field(basis; tol=0.5);"
   ],
   "metadata": {},
   "execution_count": 5
  },
  {
   "cell_type": "markdown",
   "source": [
    "Remove the virtual orbitals (which Newton cannot treat yet)"
   ],
   "metadata": {}
  },
  {
   "outputs": [
    {
     "name": "stdout",
     "output_type": "stream",
     "text": [
      "n     Energy            log10(ΔE)   log10(Δρ)   Δtime\n",
      "---   ---------------   ---------   ---------   ------\n",
      "  1   -8.400427988174                   -1.79    24.2s\n",
      "  2   -8.400428156277       -6.77       -4.03    2.19s\n",
      "  3   -8.400428156277      -14.45       -7.84   97.9ms\n"
     ]
    }
   ],
   "cell_type": "code",
   "source": [
    "ψ = DFTK.select_occupied_orbitals(basis, scfres_start.ψ, scfres_start.occupation).ψ\n",
    "scfres_newton = newton(basis, ψ; tol);"
   ],
   "metadata": {},
   "execution_count": 6
  },
  {
   "cell_type": "markdown",
   "source": [
    "## Comparison of results"
   ],
   "metadata": {}
  },
  {
   "outputs": [
    {
     "name": "stdout",
     "output_type": "stream",
     "text": [
      "|ρ_newton - ρ_scf|  = 8.188620488572257e-7\n",
      "|ρ_newton - ρ_scfv| = 8.629177351446814e-8\n",
      "|ρ_newton - ρ_dm|   = 9.043735642903614e-7\n"
     ]
    }
   ],
   "cell_type": "code",
   "source": [
    "println(\"|ρ_newton - ρ_scf|  = \", norm(scfres_newton.ρ - scfres_scf.ρ))\n",
    "println(\"|ρ_newton - ρ_scfv| = \", norm(scfres_newton.ρ - scfres_scfv.ρ))\n",
    "println(\"|ρ_newton - ρ_dm|   = \", norm(scfres_newton.ρ - scfres_dm.ρ))"
   ],
   "metadata": {},
   "execution_count": 7
  }
 ],
 "nbformat_minor": 3,
 "metadata": {
  "language_info": {
   "file_extension": ".jl",
   "mimetype": "application/julia",
   "name": "julia",
   "version": "1.11.3"
  },
  "kernelspec": {
   "name": "julia-1.11",
   "display_name": "Julia 1.11.3",
   "language": "julia"
  }
 },
 "nbformat": 4
}
