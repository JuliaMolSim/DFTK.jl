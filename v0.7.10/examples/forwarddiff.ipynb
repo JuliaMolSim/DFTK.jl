{
 "cells": [
  {
   "cell_type": "markdown",
   "source": [
    "# Polarizability using automatic differentiation\n",
    "\n",
    "Simple example for computing properties using (forward-mode)\n",
    "automatic differentiation.\n",
    "For a more classical approach and more details about computing polarizabilities,\n",
    "see Polarizability by linear response."
   ],
   "metadata": {}
  },
  {
   "outputs": [],
   "cell_type": "code",
   "source": [
    "using DFTK\n",
    "using LinearAlgebra\n",
    "using ForwardDiff\n",
    "using PseudoPotentialData\n",
    "\n",
    "# Construct PlaneWaveBasis given a particular electric field strength\n",
    "# Again we take the example of a Helium atom.\n",
    "function make_basis(ε::T; a=10., Ecut=30) where {T}\n",
    "    lattice = T(a) * I(3)  # lattice is a cube of $a$ Bohrs\n",
    "    # Helium at the center of the box\n",
    "    pseudopotentials = PseudoFamily(\"cp2k.nc.sr.lda.v0_1.semicore.gth\")\n",
    "    atoms     = [ElementPsp(:He, pseudopotentials)]\n",
    "    positions = [[1/2, 1/2, 1/2]]\n",
    "\n",
    "    model = model_DFT(lattice, atoms, positions;\n",
    "                      functionals=[:lda_x, :lda_c_vwn],\n",
    "                      extra_terms=[ExternalFromReal(r -> -ε * (r[1] - a/2))],\n",
    "                      symmetries=false)\n",
    "    PlaneWaveBasis(model; Ecut, kgrid=[1, 1, 1])  # No k-point sampling on isolated system\n",
    "end\n",
    "\n",
    "# dipole moment of a given density (assuming the current geometry)\n",
    "function dipole(basis, ρ)\n",
    "    @assert isdiag(basis.model.lattice)\n",
    "    a  = basis.model.lattice[1, 1]\n",
    "    rr = [a * (r[1] - 1/2) for r in r_vectors(basis)]\n",
    "    sum(rr .* ρ) * basis.dvol\n",
    "end\n",
    "\n",
    "# Function to compute the dipole for a given field strength\n",
    "function compute_dipole(ε; tol=1e-8, kwargs...)\n",
    "    scfres = self_consistent_field(make_basis(ε; kwargs...); tol)\n",
    "    dipole(scfres.basis, scfres.ρ)\n",
    "end;"
   ],
   "metadata": {},
   "execution_count": 1
  },
  {
   "cell_type": "markdown",
   "source": [
    "With this in place we can compute the polarizability from finite differences\n",
    "(just like in the previous example):"
   ],
   "metadata": {}
  },
  {
   "outputs": [
    {
     "name": "stdout",
     "output_type": "stream",
     "text": [
      "n     Energy            log10(ΔE)   log10(Δρ)   Diag   Δtime\n",
      "---   ---------------   ---------   ---------   ----   ------\n",
      "  1   -2.770852984465                   -0.53    9.0    173ms\n",
      "  2   -2.772143045155       -2.89       -1.31    1.0    139ms\n",
      "  3   -2.772170320480       -4.56       -2.57    1.0    163ms\n",
      "  4   -2.772170689447       -6.43       -3.61    1.0    109ms\n",
      "  5   -2.772170722402       -7.48       -4.10    2.0    141ms\n",
      "  6   -2.772170722996       -9.23       -5.07    1.0    125ms\n",
      "  7   -2.772170723014      -10.74       -5.57    1.0    119ms\n",
      "  8   -2.772170723015      -12.08       -6.03    2.0    132ms\n",
      "  9   -2.772170723015      -13.30       -6.86    1.0    124ms\n",
      " 10   -2.772170723015   +  -14.10       -7.96    2.0    137ms\n",
      " 11   -2.772170723015      -13.74       -8.85    1.0    124ms\n",
      "n     Energy            log10(ΔE)   log10(Δρ)   Diag   Δtime\n",
      "---   ---------------   ---------   ---------   ----   ------\n",
      "  1   -2.770769292987                   -0.53    9.0    172ms\n",
      "  2   -2.772048635471       -2.89       -1.31    1.0    108ms\n",
      "  3   -2.772082306622       -4.47       -2.62    1.0    109ms\n",
      "  4   -2.772083414495       -5.96       -3.92    2.0    571ms\n",
      "  5   -2.772083417668       -8.50       -4.47    2.0    124ms\n",
      "  6   -2.772083417806       -9.86       -5.46    1.0    113ms\n",
      "  7   -2.772083417811      -11.30       -6.23    2.0    163ms\n",
      "  8   -2.772083417811      -13.60       -6.95    1.0    116ms\n",
      "  9   -2.772083417811      -14.31       -7.61    2.0    138ms\n",
      " 10   -2.772083417811   +    -Inf       -8.28    1.0    116ms\n"
     ]
    },
    {
     "output_type": "execute_result",
     "data": {
      "text/plain": "1.7735580429064521"
     },
     "metadata": {},
     "execution_count": 2
    }
   ],
   "cell_type": "code",
   "source": [
    "polarizability_fd = let\n",
    "    ε = 0.01\n",
    "    (compute_dipole(ε) - compute_dipole(0.0)) / ε\n",
    "end"
   ],
   "metadata": {},
   "execution_count": 2
  },
  {
   "cell_type": "markdown",
   "source": [
    "We do the same thing using automatic differentiation. Under the hood this uses\n",
    "custom rules to implicitly differentiate through the self-consistent\n",
    "field fixed-point problem. This leads to a density-functional perturbation\n",
    "theory problem, which is automatically set up and solved in the background."
   ],
   "metadata": {}
  },
  {
   "outputs": [
    {
     "name": "stdout",
     "output_type": "stream",
     "text": [
      "n     Energy            log10(ΔE)   log10(Δρ)   Diag   Δtime\n",
      "---   ---------------   ---------   ---------   ----   ------\n",
      "  1   -2.770415118734                   -0.53    9.0    188ms\n",
      "  2   -2.772050943916       -2.79       -1.29    1.0    121ms\n",
      "  3   -2.772082734276       -4.50       -2.74    1.0    114ms\n",
      "  4   -2.772083416407       -6.17       -4.16    2.0    130ms\n",
      "  5   -2.772083417797       -8.86       -4.97    2.0    135ms\n",
      "  6   -2.772083417810      -10.89       -5.88    1.0    120ms\n",
      "  7   -2.772083417811      -12.02       -6.37    2.0    573ms\n",
      "  8   -2.772083417811      -14.24       -6.57    1.0    114ms\n",
      "  9   -2.772083417811      -13.82       -7.39    1.0    117ms\n",
      " 10   -2.772083417811      -13.92       -8.14    2.0    149ms\n",
      "Solving response problem\n",
      "[ Info: GMRES linsolve starts with norm of residual = 4.19e+00\n",
      "[ Info: GMRES linsolve in iteration 1; step 1: normres = 2.49e-01\n",
      "[ Info: GMRES linsolve in iteration 1; step 2: normres = 3.76e-03\n",
      "[ Info: GMRES linsolve in iteration 1; step 3: normres = 2.84e-04\n",
      "[ Info: GMRES linsolve in iteration 1; step 4: normres = 4.67e-06\n",
      "[ Info: GMRES linsolve in iteration 1; step 5: normres = 1.08e-08\n",
      "┌ Info: GMRES linsolve converged at iteration 1, step 6:\n",
      "│ * norm of residual = 6.50e-10\n",
      "└ * number of operations = 8\n",
      "\n",
      "Polarizability via ForwardDiff:       1.7725349535722763\n",
      "Polarizability via finite difference: 1.7735580429064521\n"
     ]
    }
   ],
   "cell_type": "code",
   "source": [
    "polarizability = ForwardDiff.derivative(compute_dipole, 0.0)\n",
    "println()\n",
    "println(\"Polarizability via ForwardDiff:       $polarizability\")\n",
    "println(\"Polarizability via finite difference: $polarizability_fd\")"
   ],
   "metadata": {},
   "execution_count": 3
  }
 ],
 "nbformat_minor": 3,
 "metadata": {
  "language_info": {
   "file_extension": ".jl",
   "mimetype": "application/julia",
   "name": "julia",
   "version": "1.11.3"
  },
  "kernelspec": {
   "name": "julia-1.11",
   "display_name": "Julia 1.11.3",
   "language": "julia"
  }
 },
 "nbformat": 4
}
