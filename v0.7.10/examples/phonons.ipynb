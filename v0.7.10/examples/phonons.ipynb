{
 "cells": [
  {
   "cell_type": "markdown",
   "source": [
    "# Phonon computations\n",
    "\n",
    "This is a quick sketch how to run a simple phonon calculation using DFTK.\n",
    "First we run an SCF calculation."
   ],
   "metadata": {}
  },
  {
   "outputs": [
    {
     "name": "stdout",
     "output_type": "stream",
     "text": [
      "n     Energy            log10(ΔE)   log10(Δρ)   Diag   Δtime\n",
      "---   ---------------   ---------   ---------   ----   ------\n",
      "  1   -7.916434645617                   -0.69    4.8    106ms\n",
      "  2   -7.921207613224       -2.32       -1.52    1.0   51.0ms\n",
      "  3   -7.921403645605       -3.71       -2.49    1.4   56.0ms\n",
      "  4   -7.921440880754       -4.43       -2.82    2.4    101ms\n",
      "  5   -7.921441572041       -6.16       -2.98    1.1   53.8ms\n",
      "  6   -7.921442004151       -6.36       -4.43    1.0   52.6ms\n",
      "  7   -7.921442021811       -7.75       -4.61    2.9   81.1ms\n",
      "  8   -7.921442022128       -9.50       -5.26    1.0   70.8ms\n",
      "  9   -7.921442022123   +  -11.29       -4.95    1.9   63.3ms\n",
      " 10   -7.921442022143      -10.69       -5.84    1.0   52.9ms\n",
      " 11   -7.921442022144      -12.08       -7.32    1.4   57.8ms\n",
      " 12   -7.921442022144      -13.37       -6.57    3.4   94.4ms\n",
      " 13   -7.921442022144      -13.91       -7.82    1.5   58.2ms\n",
      " 14   -7.921442022144      -14.75       -7.89    1.6   61.4ms\n",
      " 15   -7.921442022144   +    -Inf       -8.42    1.0   57.1ms\n"
     ]
    }
   ],
   "cell_type": "code",
   "source": [
    "using AtomsBuilder\n",
    "using DFTK\n",
    "using PseudoPotentialData\n",
    "\n",
    "pseudopotentials = PseudoFamily(\"cp2k.nc.sr.lda.v0_1.semicore.gth\")\n",
    "model  = model_DFT(bulk(:Si); pseudopotentials, functionals=LDA())\n",
    "basis  = PlaneWaveBasis(model; Ecut=10, kgrid=[4, 4, 4])\n",
    "scfres = self_consistent_field(basis, tol=1e-8);\n",
    "nothing  # hide"
   ],
   "metadata": {},
   "execution_count": 1
  },
  {
   "cell_type": "markdown",
   "source": [
    "Next we compute the phonon modes at the q-point `[1/4, 1/4, 1/4]`."
   ],
   "metadata": {}
  },
  {
   "outputs": [
    {
     "name": "stdout",
     "output_type": "stream",
     "text": [
      "155.524880 seconds (158.92 M allocations: 104.509 GiB, 7.55% gc time, 24.92% compilation time)\n"
     ]
    }
   ],
   "cell_type": "code",
   "source": [
    "scfres = DFTK.unfold_bz(scfres)\n",
    "phret_q0 = @time DFTK.phonon_modes(scfres; q=[0.25, 0.25, 0.25]);\n",
    "nothing  # hide"
   ],
   "metadata": {},
   "execution_count": 2
  },
  {
   "cell_type": "markdown",
   "source": [
    "These are the final phonon frequencies:"
   ],
   "metadata": {}
  },
  {
   "outputs": [
    {
     "output_type": "execute_result",
     "data": {
      "text/plain": "6-element Vector{Float64}:\n -0.003498155355381881\n -0.002977451155852223\n -0.002977451155791762\n  0.004302230631202808\n  0.004302230631287381\n  0.004353201762684511"
     },
     "metadata": {},
     "execution_count": 3
    }
   ],
   "cell_type": "code",
   "source": [
    "phret_q0.frequencies"
   ],
   "metadata": {},
   "execution_count": 3
  }
 ],
 "nbformat_minor": 3,
 "metadata": {
  "language_info": {
   "file_extension": ".jl",
   "mimetype": "application/julia",
   "name": "julia",
   "version": "1.11.3"
  },
  "kernelspec": {
   "name": "julia-1.11",
   "display_name": "Julia 1.11.3",
   "language": "julia"
  }
 },
 "nbformat": 4
}
