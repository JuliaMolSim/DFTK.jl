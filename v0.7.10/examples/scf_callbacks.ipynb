{
 "cells": [
  {
   "cell_type": "markdown",
   "source": [
    "# Monitoring self-consistent field calculations\n",
    "\n",
    "The `self_consistent_field` function takes as the `callback`\n",
    "keyword argument one function to be called after each iteration.\n",
    "This function gets passed the complete internal state of the SCF\n",
    "solver and can thus be used both to monitor and debug the iterations\n",
    "as well as to quickly patch it with additional functionality.\n",
    "\n",
    "This example discusses a few aspects of the `callback` function\n",
    "taking again our favourite silicon example."
   ],
   "metadata": {}
  },
  {
   "cell_type": "markdown",
   "source": [
    "We setup silicon in an LDA model using `AtomsBuilder`\n",
    "to build a bulk silicon lattice,\n",
    "(see AtomsBase integration for more details."
   ],
   "metadata": {}
  },
  {
   "outputs": [],
   "cell_type": "code",
   "source": [
    "using DFTK\n",
    "using AtomsBuilder\n",
    "using PseudoPotentialData\n",
    "\n",
    "pseudopotentials = PseudoFamily(\"dojo.nc.sr.lda.v0_4_1.standard.upf\")\n",
    "model = model_DFT(bulk(:Si); functionals=LDA(), pseudopotentials)\n",
    "basis = PlaneWaveBasis(model; Ecut=5, kgrid=[3, 3, 3]);"
   ],
   "metadata": {},
   "execution_count": 1
  },
  {
   "cell_type": "markdown",
   "source": [
    "DFTK already defines a few callback functions for standard\n",
    "tasks. One example is the usual convergence table,\n",
    "which is defined in the callback `ScfDefaultCallback`.\n",
    "Another example is `ScfSaveCheckpoints`, which stores the state\n",
    "of an SCF at each iterations to allow resuming from a failed\n",
    "calculation at a later point.\n",
    "See Saving SCF results on disk and SCF checkpoints for details\n",
    "how to use checkpointing with DFTK."
   ],
   "metadata": {}
  },
  {
   "cell_type": "markdown",
   "source": [
    "In this example we define a custom callback, which plots\n",
    "the change in density at each SCF iteration after the SCF\n",
    "has finished. This example is a bit artificial, since the norms\n",
    "of all density differences is available as `scfres.history_Δρ`\n",
    "after the SCF has finished and could be directly plotted, but\n",
    "the following nicely illustrates the use of callbacks in DFTK."
   ],
   "metadata": {}
  },
  {
   "cell_type": "markdown",
   "source": [
    "To enable plotting we first define the empty canvas\n",
    "and an empty container for all the density differences:"
   ],
   "metadata": {}
  },
  {
   "outputs": [],
   "cell_type": "code",
   "source": [
    "using Plots\n",
    "p = plot(; yaxis=:log)\n",
    "density_differences = Float64[];"
   ],
   "metadata": {},
   "execution_count": 2
  },
  {
   "cell_type": "markdown",
   "source": [
    "The callback function itself gets passed a named tuple\n",
    "similar to the one returned by `self_consistent_field`,\n",
    "which contains the input and output density of the SCF step\n",
    "as `ρin` and `ρout`. Since the callback gets called\n",
    "both during the SCF iterations as well as after convergence\n",
    "just before `self_consistent_field` finishes we can both\n",
    "collect the data and initiate the plotting in one function."
   ],
   "metadata": {}
  },
  {
   "outputs": [],
   "cell_type": "code",
   "source": [
    "using LinearAlgebra\n",
    "\n",
    "function plot_callback(info)\n",
    "    if info.stage == :finalize\n",
    "        plot!(p, density_differences, label=\"|ρout - ρin|\", markershape=:x)\n",
    "    else\n",
    "        push!(density_differences, norm(info.ρout - info.ρin))\n",
    "    end\n",
    "    info\n",
    "end\n",
    "callback = ScfDefaultCallback() ∘ plot_callback;"
   ],
   "metadata": {},
   "execution_count": 3
  },
  {
   "cell_type": "markdown",
   "source": [
    "Notice that for constructing the `callback` function we chained the `plot_callback`\n",
    "(which does the plotting) with the `ScfDefaultCallback`. The latter is the function\n",
    "responsible for printing the usual convergence table. Therefore if we simply did\n",
    "`callback=plot_callback` the SCF would go silent. The chaining of both callbacks\n",
    "(`plot_callback` for plotting and `ScfDefaultCallback()` for the convergence table)\n",
    "makes sure both features are enabled. We run the SCF with the chained callback …"
   ],
   "metadata": {}
  },
  {
   "outputs": [
    {
     "name": "stdout",
     "output_type": "stream",
     "text": [
      "n     Energy            log10(ΔE)   log10(Δρ)   α      Diag   Δtime\n",
      "---   ---------------   ---------   ---------   ----   ----   ------\n",
      "  1   -8.457126320659                   -0.89   0.80    5.5    107ms\n",
      "  2   -8.460013362344       -2.54       -1.72   0.80    1.0    142ms\n",
      "  3   -8.460189309087       -3.75       -2.90   0.80    1.5   64.8ms\n",
      "  4   -8.460214756956       -4.59       -2.94   0.80    3.2   22.0ms\n",
      "  5   -8.460214924847       -6.77       -3.07   0.80    1.0   15.7ms\n",
      "  6   -8.460215129678       -6.69       -4.83   0.80    1.0   15.6ms\n",
      "  7   -8.460215135370       -8.24       -4.49   0.80    3.0   21.6ms\n",
      "  8   -8.460215135736       -9.44       -5.25   0.80    1.0   16.3ms\n"
     ]
    }
   ],
   "cell_type": "code",
   "source": [
    "scfres = self_consistent_field(basis; tol=1e-5, callback);"
   ],
   "metadata": {},
   "execution_count": 4
  },
  {
   "cell_type": "markdown",
   "source": [
    "… and show the plot"
   ],
   "metadata": {}
  },
  {
   "outputs": [
    {
     "output_type": "execute_result",
     "data": {
      "text/plain": "Plot{Plots.GRBackend() n=1}",
      "image/png": "[encoded data removed]",
      "text/html": [
       "<?xml version=\"1.0\" encoding=\"utf-8\"?>\n",
       "<svg xmlns=\"http://www.w3.org/2000/svg\" xmlns:xlink=\"http://www.w3.org/1999/xlink\" width=\"600\" height=\"400\" viewBox=\"0 0 2400 1600\">\n",
       "<defs>\n",
       "  <clipPath id=\"clip120\">\n",
       "    <rect x=\"0\" y=\"0\" width=\"2400\" height=\"1600\"/>\n",
       "  </clipPath>\n",
       "</defs>\n",
       "<path clip-path=\"url(#clip120)\" d=\"M0 1600 L2400 1600 L2400 0 L0 0  Z\" fill=\"#ffffff\" fill-rule=\"evenodd\" fill-opacity=\"1\"/>\n",
       "<defs>\n",
       "  <clipPath id=\"clip121\">\n",
       "    <rect x=\"480\" y=\"0\" width=\"1681\" height=\"1600\"/>\n",
       "  </clipPath>\n",
       "</defs>\n",
       "<path clip-path=\"url(#clip120)\" d=\"M189.496 1486.45 L2352.76 1486.45 L2352.76 47.2441 L189.496 47.2441  Z\" fill=\"#ffffff\" fill-rule=\"evenodd\" fill-opacity=\"1\"/>\n",
       "<defs>\n",
       "  <clipPath id=\"clip122\">\n",
       "    <rect x=\"189\" y=\"47\" width=\"2164\" height=\"1440\"/>\n",
       "  </clipPath>\n",
       "</defs>\n",
       "<polyline clip-path=\"url(#clip122)\" style=\"stroke:#000000; stroke-linecap:round; stroke-linejoin:round; stroke-width:2; stroke-opacity:0.1; fill:none\" points=\"542.265,1486.45 542.265,47.2441 \"/>\n",
       "<polyline clip-path=\"url(#clip122)\" style=\"stroke:#000000; stroke-linecap:round; stroke-linejoin:round; stroke-width:2; stroke-opacity:0.1; fill:none\" points=\"1125.35,1486.45 1125.35,47.2441 \"/>\n",
       "<polyline clip-path=\"url(#clip122)\" style=\"stroke:#000000; stroke-linecap:round; stroke-linejoin:round; stroke-width:2; stroke-opacity:0.1; fill:none\" points=\"1708.44,1486.45 1708.44,47.2441 \"/>\n",
       "<polyline clip-path=\"url(#clip122)\" style=\"stroke:#000000; stroke-linecap:round; stroke-linejoin:round; stroke-width:2; stroke-opacity:0.1; fill:none\" points=\"2291.53,1486.45 2291.53,47.2441 \"/>\n",
       "<polyline clip-path=\"url(#clip122)\" style=\"stroke:#000000; stroke-linecap:round; stroke-linejoin:round; stroke-width:2; stroke-opacity:0.1; fill:none\" points=\"189.496,1285.52 2352.76,1285.52 \"/>\n",
       "<polyline clip-path=\"url(#clip122)\" style=\"stroke:#000000; stroke-linecap:round; stroke-linejoin:round; stroke-width:2; stroke-opacity:0.1; fill:none\" points=\"189.496,662.939 2352.76,662.939 \"/>\n",
       "<polyline clip-path=\"url(#clip120)\" style=\"stroke:#000000; stroke-linecap:round; stroke-linejoin:round; stroke-width:4; stroke-opacity:1; fill:none\" points=\"189.496,1486.45 2352.76,1486.45 \"/>\n",
       "<polyline clip-path=\"url(#clip120)\" style=\"stroke:#000000; stroke-linecap:round; stroke-linejoin:round; stroke-width:4; stroke-opacity:1; fill:none\" points=\"542.265,1486.45 542.265,1467.55 \"/>\n",
       "<polyline clip-path=\"url(#clip120)\" style=\"stroke:#000000; stroke-linecap:round; stroke-linejoin:round; stroke-width:4; stroke-opacity:1; fill:none\" points=\"1125.35,1486.45 1125.35,1467.55 \"/>\n",
       "<polyline clip-path=\"url(#clip120)\" style=\"stroke:#000000; stroke-linecap:round; stroke-linejoin:round; stroke-width:4; stroke-opacity:1; fill:none\" points=\"1708.44,1486.45 1708.44,1467.55 \"/>\n",
       "<polyline clip-path=\"url(#clip120)\" style=\"stroke:#000000; stroke-linecap:round; stroke-linejoin:round; stroke-width:4; stroke-opacity:1; fill:none\" points=\"2291.53,1486.45 2291.53,1467.55 \"/>\n",
       "<path clip-path=\"url(#clip120)\" d=\"M536.918 1544.91 L553.237 1544.91 L553.237 1548.85 L531.293 1548.85 L531.293 1544.91 Q533.955 1542.16 538.538 1537.53 Q543.144 1532.88 544.325 1531.53 Q546.57 1529.01 547.45 1527.27 Q548.353 1525.51 548.353 1523.82 Q548.353 1521.07 546.408 1519.33 Q544.487 1517.6 541.385 1517.6 Q539.186 1517.6 536.732 1518.36 Q534.302 1519.13 531.524 1520.68 L531.524 1515.95 Q534.348 1514.82 536.802 1514.24 Q539.255 1513.66 541.293 1513.66 Q546.663 1513.66 549.857 1516.35 Q553.052 1519.03 553.052 1523.52 Q553.052 1525.65 552.242 1527.57 Q551.454 1529.47 549.348 1532.07 Q548.769 1532.74 545.667 1535.95 Q542.566 1539.15 536.918 1544.91 Z\" fill=\"#000000\" fill-rule=\"nonzero\" fill-opacity=\"1\" /><path clip-path=\"url(#clip120)\" d=\"M1128.36 1518.36 L1116.56 1536.81 L1128.36 1536.81 L1128.36 1518.36 M1127.14 1514.29 L1133.02 1514.29 L1133.02 1536.81 L1137.95 1536.81 L1137.95 1540.7 L1133.02 1540.7 L1133.02 1548.85 L1128.36 1548.85 L1128.36 1540.7 L1112.76 1540.7 L1112.76 1536.19 L1127.14 1514.29 Z\" fill=\"#000000\" fill-rule=\"nonzero\" fill-opacity=\"1\" /><path clip-path=\"url(#clip120)\" d=\"M1708.85 1529.7 Q1705.7 1529.7 1703.85 1531.86 Q1702.02 1534.01 1702.02 1537.76 Q1702.02 1541.49 1703.85 1543.66 Q1705.7 1545.82 1708.85 1545.82 Q1712 1545.82 1713.82 1543.66 Q1715.68 1541.49 1715.68 1537.76 Q1715.68 1534.01 1713.82 1531.86 Q1712 1529.7 1708.85 1529.7 M1718.13 1515.05 L1718.13 1519.31 Q1716.37 1518.48 1714.57 1518.04 Q1712.78 1517.6 1711.02 1517.6 Q1706.39 1517.6 1703.94 1520.72 Q1701.51 1523.85 1701.16 1530.17 Q1702.53 1528.15 1704.59 1527.09 Q1706.65 1526 1709.13 1526 Q1714.33 1526 1717.34 1529.17 Q1720.38 1532.32 1720.38 1537.76 Q1720.38 1543.08 1717.23 1546.3 Q1714.08 1549.52 1708.85 1549.52 Q1702.85 1549.52 1699.68 1544.94 Q1696.51 1540.33 1696.51 1531.6 Q1696.51 1523.41 1700.4 1518.55 Q1704.29 1513.66 1710.84 1513.66 Q1712.6 1513.66 1714.38 1514.01 Q1716.19 1514.36 1718.13 1515.05 Z\" fill=\"#000000\" fill-rule=\"nonzero\" fill-opacity=\"1\" /><path clip-path=\"url(#clip120)\" d=\"M2291.53 1532.44 Q2288.2 1532.44 2286.28 1534.22 Q2284.38 1536 2284.38 1539.13 Q2284.38 1542.25 2286.28 1544.03 Q2288.2 1545.82 2291.53 1545.82 Q2294.86 1545.82 2296.79 1544.03 Q2298.71 1542.23 2298.71 1539.13 Q2298.71 1536 2296.79 1534.22 Q2294.89 1532.44 2291.53 1532.44 M2286.86 1530.45 Q2283.85 1529.7 2282.16 1527.64 Q2280.49 1525.58 2280.49 1522.62 Q2280.49 1518.48 2283.43 1516.07 Q2286.39 1513.66 2291.53 1513.66 Q2296.69 1513.66 2299.63 1516.07 Q2302.57 1518.48 2302.57 1522.62 Q2302.57 1525.58 2300.88 1527.64 Q2299.22 1529.7 2296.23 1530.45 Q2299.61 1531.23 2301.49 1533.52 Q2303.38 1535.82 2303.38 1539.13 Q2303.38 1544.15 2300.3 1546.83 Q2297.25 1549.52 2291.53 1549.52 Q2285.81 1549.52 2282.74 1546.83 Q2279.68 1544.15 2279.68 1539.13 Q2279.68 1535.82 2281.58 1533.52 Q2283.48 1531.23 2286.86 1530.45 M2285.14 1523.06 Q2285.14 1525.75 2286.81 1527.25 Q2288.5 1528.76 2291.53 1528.76 Q2294.54 1528.76 2296.23 1527.25 Q2297.94 1525.75 2297.94 1523.06 Q2297.94 1520.38 2296.23 1518.87 Q2294.54 1517.37 2291.53 1517.37 Q2288.5 1517.37 2286.81 1518.87 Q2285.14 1520.38 2285.14 1523.06 Z\" fill=\"#000000\" fill-rule=\"nonzero\" fill-opacity=\"1\" /><polyline clip-path=\"url(#clip120)\" style=\"stroke:#000000; stroke-linecap:round; stroke-linejoin:round; stroke-width:4; stroke-opacity:1; fill:none\" points=\"189.496,1486.45 189.496,47.2441 \"/>\n",
       "<polyline clip-path=\"url(#clip120)\" style=\"stroke:#000000; stroke-linecap:round; stroke-linejoin:round; stroke-width:4; stroke-opacity:1; fill:none\" points=\"189.496,1285.52 208.394,1285.52 \"/>\n",
       "<polyline clip-path=\"url(#clip120)\" style=\"stroke:#000000; stroke-linecap:round; stroke-linejoin:round; stroke-width:4; stroke-opacity:1; fill:none\" points=\"189.496,662.939 208.394,662.939 \"/>\n",
       "<path clip-path=\"url(#clip120)\" d=\"M51.6634 1305.31 L59.3023 1305.31 L59.3023 1278.94 L50.9921 1280.61 L50.9921 1276.35 L59.256 1274.68 L63.9319 1274.68 L63.9319 1305.31 L71.5707 1305.31 L71.5707 1309.24 L51.6634 1309.24 L51.6634 1305.31 Z\" fill=\"#000000\" fill-rule=\"nonzero\" fill-opacity=\"1\" /><path clip-path=\"url(#clip120)\" d=\"M91.0151 1277.76 Q87.404 1277.76 85.5753 1281.33 Q83.7697 1284.87 83.7697 1292 Q83.7697 1299.11 85.5753 1302.67 Q87.404 1306.21 91.0151 1306.21 Q94.6493 1306.21 96.4548 1302.67 Q98.2835 1299.11 98.2835 1292 Q98.2835 1284.87 96.4548 1281.33 Q94.6493 1277.76 91.0151 1277.76 M91.0151 1274.06 Q96.8252 1274.06 99.8808 1278.67 Q102.959 1283.25 102.959 1292 Q102.959 1300.73 99.8808 1305.33 Q96.8252 1309.92 91.0151 1309.92 Q85.2049 1309.92 82.1262 1305.33 Q79.0707 1300.73 79.0707 1292 Q79.0707 1283.25 82.1262 1278.67 Q85.2049 1274.06 91.0151 1274.06 Z\" fill=\"#000000\" fill-rule=\"nonzero\" fill-opacity=\"1\" /><path clip-path=\"url(#clip120)\" d=\"M102.959 1268.16 L127.071 1268.16 L127.071 1271.36 L102.959 1271.36 L102.959 1268.16 Z\" fill=\"#000000\" fill-rule=\"nonzero\" fill-opacity=\"1\" /><path clip-path=\"url(#clip120)\" d=\"M145.71 1257.06 L136.118 1272.05 L145.71 1272.05 L145.71 1257.06 M144.713 1253.75 L149.49 1253.75 L149.49 1272.05 L153.496 1272.05 L153.496 1275.21 L149.49 1275.21 L149.49 1281.83 L145.71 1281.83 L145.71 1275.21 L133.033 1275.21 L133.033 1271.55 L144.713 1253.75 Z\" fill=\"#000000\" fill-rule=\"nonzero\" fill-opacity=\"1\" /><path clip-path=\"url(#clip120)\" d=\"M53.3561 682.732 L60.995 682.732 L60.995 656.366 L52.6848 658.033 L52.6848 653.773 L60.9487 652.107 L65.6246 652.107 L65.6246 682.732 L73.2634 682.732 L73.2634 686.667 L53.3561 686.667 L53.3561 682.732 Z\" fill=\"#000000\" fill-rule=\"nonzero\" fill-opacity=\"1\" /><path clip-path=\"url(#clip120)\" d=\"M92.7078 655.185 Q89.0967 655.185 87.268 658.75 Q85.4624 662.292 85.4624 669.421 Q85.4624 676.528 87.268 680.093 Q89.0967 683.634 92.7078 683.634 Q96.342 683.634 98.1475 680.093 Q99.9762 676.528 99.9762 669.421 Q99.9762 662.292 98.1475 658.75 Q96.342 655.185 92.7078 655.185 M92.7078 651.482 Q98.5179 651.482 101.573 656.088 Q104.652 660.672 104.652 669.421 Q104.652 678.148 101.573 682.755 Q98.5179 687.338 92.7078 687.338 Q86.8976 687.338 83.8189 682.755 Q80.7634 678.148 80.7634 669.421 Q80.7634 660.672 83.8189 656.088 Q86.8976 651.482 92.7078 651.482 Z\" fill=\"#000000\" fill-rule=\"nonzero\" fill-opacity=\"1\" /><path clip-path=\"url(#clip120)\" d=\"M104.652 645.583 L128.764 645.583 L128.764 648.78 L104.652 648.78 L104.652 645.583 Z\" fill=\"#000000\" fill-rule=\"nonzero\" fill-opacity=\"1\" /><path clip-path=\"url(#clip120)\" d=\"M140.236 656.059 L153.496 656.059 L153.496 659.256 L135.666 659.256 L135.666 656.059 Q137.829 653.821 141.553 650.059 Q145.296 646.279 146.255 645.188 Q148.079 643.138 148.794 641.728 Q149.527 640.298 149.527 638.925 Q149.527 636.687 147.948 635.276 Q146.387 633.866 143.866 633.866 Q142.08 633.866 140.086 634.487 Q138.111 635.107 135.854 636.367 L135.854 632.531 Q138.149 631.609 140.142 631.139 Q142.136 630.669 143.791 630.669 Q148.155 630.669 150.75 632.85 Q153.345 635.032 153.345 638.681 Q153.345 640.411 152.687 641.972 Q152.048 643.514 150.336 645.621 Q149.866 646.166 147.346 648.78 Q144.826 651.376 140.236 656.059 Z\" fill=\"#000000\" fill-rule=\"nonzero\" fill-opacity=\"1\" /><polyline clip-path=\"url(#clip122)\" style=\"stroke:#009af9; stroke-linecap:round; stroke-linejoin:round; stroke-width:4; stroke-opacity:1; fill:none\" points=\"250.72,87.9763 542.265,347.472 833.809,713.193 1125.35,727.806 1416.9,765.589 1708.44,1314.08 1999.99,1208.52 2291.53,1445.72 \"/>\n",
       "<line clip-path=\"url(#clip122)\" x1=\"250.72\" y1=\"87.9763\" x2=\"234.72\" y2=\"71.9763\" style=\"stroke:#009af9; stroke-width:4; stroke-opacity:1\"/>\n",
       "<line clip-path=\"url(#clip122)\" x1=\"250.72\" y1=\"87.9763\" x2=\"234.72\" y2=\"103.976\" style=\"stroke:#009af9; stroke-width:4; stroke-opacity:1\"/>\n",
       "<line clip-path=\"url(#clip122)\" x1=\"250.72\" y1=\"87.9763\" x2=\"266.72\" y2=\"103.976\" style=\"stroke:#009af9; stroke-width:4; stroke-opacity:1\"/>\n",
       "<line clip-path=\"url(#clip122)\" x1=\"250.72\" y1=\"87.9763\" x2=\"266.72\" y2=\"71.9763\" style=\"stroke:#009af9; stroke-width:4; stroke-opacity:1\"/>\n",
       "<line clip-path=\"url(#clip122)\" x1=\"542.265\" y1=\"347.472\" x2=\"526.265\" y2=\"331.472\" style=\"stroke:#009af9; stroke-width:4; stroke-opacity:1\"/>\n",
       "<line clip-path=\"url(#clip122)\" x1=\"542.265\" y1=\"347.472\" x2=\"526.265\" y2=\"363.472\" style=\"stroke:#009af9; stroke-width:4; stroke-opacity:1\"/>\n",
       "<line clip-path=\"url(#clip122)\" x1=\"542.265\" y1=\"347.472\" x2=\"558.265\" y2=\"363.472\" style=\"stroke:#009af9; stroke-width:4; stroke-opacity:1\"/>\n",
       "<line clip-path=\"url(#clip122)\" x1=\"542.265\" y1=\"347.472\" x2=\"558.265\" y2=\"331.472\" style=\"stroke:#009af9; stroke-width:4; stroke-opacity:1\"/>\n",
       "<line clip-path=\"url(#clip122)\" x1=\"833.809\" y1=\"713.193\" x2=\"817.809\" y2=\"697.193\" style=\"stroke:#009af9; stroke-width:4; stroke-opacity:1\"/>\n",
       "<line clip-path=\"url(#clip122)\" x1=\"833.809\" y1=\"713.193\" x2=\"817.809\" y2=\"729.193\" style=\"stroke:#009af9; stroke-width:4; stroke-opacity:1\"/>\n",
       "<line clip-path=\"url(#clip122)\" x1=\"833.809\" y1=\"713.193\" x2=\"849.809\" y2=\"729.193\" style=\"stroke:#009af9; stroke-width:4; stroke-opacity:1\"/>\n",
       "<line clip-path=\"url(#clip122)\" x1=\"833.809\" y1=\"713.193\" x2=\"849.809\" y2=\"697.193\" style=\"stroke:#009af9; stroke-width:4; stroke-opacity:1\"/>\n",
       "<line clip-path=\"url(#clip122)\" x1=\"1125.35\" y1=\"727.806\" x2=\"1109.35\" y2=\"711.806\" style=\"stroke:#009af9; stroke-width:4; stroke-opacity:1\"/>\n",
       "<line clip-path=\"url(#clip122)\" x1=\"1125.35\" y1=\"727.806\" x2=\"1109.35\" y2=\"743.806\" style=\"stroke:#009af9; stroke-width:4; stroke-opacity:1\"/>\n",
       "<line clip-path=\"url(#clip122)\" x1=\"1125.35\" y1=\"727.806\" x2=\"1141.35\" y2=\"743.806\" style=\"stroke:#009af9; stroke-width:4; stroke-opacity:1\"/>\n",
       "<line clip-path=\"url(#clip122)\" x1=\"1125.35\" y1=\"727.806\" x2=\"1141.35\" y2=\"711.806\" style=\"stroke:#009af9; stroke-width:4; stroke-opacity:1\"/>\n",
       "<line clip-path=\"url(#clip122)\" x1=\"1416.9\" y1=\"765.589\" x2=\"1400.9\" y2=\"749.589\" style=\"stroke:#009af9; stroke-width:4; stroke-opacity:1\"/>\n",
       "<line clip-path=\"url(#clip122)\" x1=\"1416.9\" y1=\"765.589\" x2=\"1400.9\" y2=\"781.589\" style=\"stroke:#009af9; stroke-width:4; stroke-opacity:1\"/>\n",
       "<line clip-path=\"url(#clip122)\" x1=\"1416.9\" y1=\"765.589\" x2=\"1432.9\" y2=\"781.589\" style=\"stroke:#009af9; stroke-width:4; stroke-opacity:1\"/>\n",
       "<line clip-path=\"url(#clip122)\" x1=\"1416.9\" y1=\"765.589\" x2=\"1432.9\" y2=\"749.589\" style=\"stroke:#009af9; stroke-width:4; stroke-opacity:1\"/>\n",
       "<line clip-path=\"url(#clip122)\" x1=\"1708.44\" y1=\"1314.08\" x2=\"1692.44\" y2=\"1298.08\" style=\"stroke:#009af9; stroke-width:4; stroke-opacity:1\"/>\n",
       "<line clip-path=\"url(#clip122)\" x1=\"1708.44\" y1=\"1314.08\" x2=\"1692.44\" y2=\"1330.08\" style=\"stroke:#009af9; stroke-width:4; stroke-opacity:1\"/>\n",
       "<line clip-path=\"url(#clip122)\" x1=\"1708.44\" y1=\"1314.08\" x2=\"1724.44\" y2=\"1330.08\" style=\"stroke:#009af9; stroke-width:4; stroke-opacity:1\"/>\n",
       "<line clip-path=\"url(#clip122)\" x1=\"1708.44\" y1=\"1314.08\" x2=\"1724.44\" y2=\"1298.08\" style=\"stroke:#009af9; stroke-width:4; stroke-opacity:1\"/>\n",
       "<line clip-path=\"url(#clip122)\" x1=\"1999.99\" y1=\"1208.52\" x2=\"1983.99\" y2=\"1192.52\" style=\"stroke:#009af9; stroke-width:4; stroke-opacity:1\"/>\n",
       "<line clip-path=\"url(#clip122)\" x1=\"1999.99\" y1=\"1208.52\" x2=\"1983.99\" y2=\"1224.52\" style=\"stroke:#009af9; stroke-width:4; stroke-opacity:1\"/>\n",
       "<line clip-path=\"url(#clip122)\" x1=\"1999.99\" y1=\"1208.52\" x2=\"2015.99\" y2=\"1224.52\" style=\"stroke:#009af9; stroke-width:4; stroke-opacity:1\"/>\n",
       "<line clip-path=\"url(#clip122)\" x1=\"1999.99\" y1=\"1208.52\" x2=\"2015.99\" y2=\"1192.52\" style=\"stroke:#009af9; stroke-width:4; stroke-opacity:1\"/>\n",
       "<line clip-path=\"url(#clip122)\" x1=\"2291.53\" y1=\"1445.72\" x2=\"2275.53\" y2=\"1429.72\" style=\"stroke:#009af9; stroke-width:4; stroke-opacity:1\"/>\n",
       "<line clip-path=\"url(#clip122)\" x1=\"2291.53\" y1=\"1445.72\" x2=\"2275.53\" y2=\"1461.72\" style=\"stroke:#009af9; stroke-width:4; stroke-opacity:1\"/>\n",
       "<line clip-path=\"url(#clip122)\" x1=\"2291.53\" y1=\"1445.72\" x2=\"2307.53\" y2=\"1461.72\" style=\"stroke:#009af9; stroke-width:4; stroke-opacity:1\"/>\n",
       "<line clip-path=\"url(#clip122)\" x1=\"2291.53\" y1=\"1445.72\" x2=\"2307.53\" y2=\"1429.72\" style=\"stroke:#009af9; stroke-width:4; stroke-opacity:1\"/>\n",
       "<path clip-path=\"url(#clip120)\" d=\"M1816.13 198.898 L2280.65 198.898 L2280.65 95.2176 L1816.13 95.2176  Z\" fill=\"#ffffff\" fill-rule=\"evenodd\" fill-opacity=\"1\"/>\n",
       "<polyline clip-path=\"url(#clip120)\" style=\"stroke:#000000; stroke-linecap:round; stroke-linejoin:round; stroke-width:4; stroke-opacity:1; fill:none\" points=\"1816.13,198.898 2280.65,198.898 2280.65,95.2176 1816.13,95.2176 1816.13,198.898 \"/>\n",
       "<polyline clip-path=\"url(#clip120)\" style=\"stroke:#009af9; stroke-linecap:round; stroke-linejoin:round; stroke-width:4; stroke-opacity:1; fill:none\" points=\"1840.16,147.058 1984.38,147.058 \"/>\n",
       "<line clip-path=\"url(#clip120)\" x1=\"1912.27\" y1=\"147.058\" x2=\"1890.02\" y2=\"124.802\" style=\"stroke:#009af9; stroke-width:4.55111; stroke-opacity:1\"/>\n",
       "<line clip-path=\"url(#clip120)\" x1=\"1912.27\" y1=\"147.058\" x2=\"1890.02\" y2=\"169.313\" style=\"stroke:#009af9; stroke-width:4.55111; stroke-opacity:1\"/>\n",
       "<line clip-path=\"url(#clip120)\" x1=\"1912.27\" y1=\"147.058\" x2=\"1934.53\" y2=\"169.313\" style=\"stroke:#009af9; stroke-width:4.55111; stroke-opacity:1\"/>\n",
       "<line clip-path=\"url(#clip120)\" x1=\"1912.27\" y1=\"147.058\" x2=\"1934.53\" y2=\"124.802\" style=\"stroke:#009af9; stroke-width:4.55111; stroke-opacity:1\"/>\n",
       "<path clip-path=\"url(#clip120)\" d=\"M2012.35 128.111 L2012.35 175.518 L2008.42 175.518 L2008.42 128.111 L2012.35 128.111 Z\" fill=\"#000000\" fill-rule=\"nonzero\" fill-opacity=\"1\" /><path clip-path=\"url(#clip120)\" d=\"M2024.76 143.041 Q2026.17 140.68 2029.67 138.597 Q2031.03 137.787 2035.25 137.787 Q2039.97 137.787 2042.91 141.537 Q2045.87 145.287 2045.87 151.398 Q2045.87 157.509 2042.91 161.259 Q2039.97 165.009 2035.25 165.009 Q2032.4 165.009 2030.34 163.898 Q2028.3 162.763 2026.96 160.449 L2026.96 174.199 L2022.68 174.199 L2022.68 151.629 Q2022.68 146.282 2024.76 143.041 M2041.45 151.398 Q2041.45 146.699 2039.51 144.037 Q2037.58 141.352 2034.2 141.352 Q2030.83 141.352 2028.88 144.037 Q2026.96 146.699 2026.96 151.398 Q2026.96 156.097 2028.88 158.782 Q2030.83 161.444 2034.2 161.444 Q2037.58 161.444 2039.51 158.782 Q2041.45 156.097 2041.45 151.398 Z\" fill=\"#000000\" fill-rule=\"nonzero\" fill-opacity=\"1\" /><path clip-path=\"url(#clip120)\" d=\"M2062.98 141.398 Q2059.55 141.398 2057.56 144.083 Q2055.57 146.745 2055.57 151.398 Q2055.57 156.051 2057.54 158.736 Q2059.53 161.398 2062.98 161.398 Q2066.38 161.398 2068.37 158.713 Q2070.36 156.027 2070.36 151.398 Q2070.36 146.791 2068.37 144.106 Q2066.38 141.398 2062.98 141.398 M2062.98 137.787 Q2068.53 137.787 2071.7 141.398 Q2074.88 145.009 2074.88 151.398 Q2074.88 157.764 2071.7 161.398 Q2068.53 165.009 2062.98 165.009 Q2057.4 165.009 2054.23 161.398 Q2051.08 157.764 2051.08 151.398 Q2051.08 145.009 2054.23 141.398 Q2057.4 137.787 2062.98 137.787 Z\" fill=\"#000000\" fill-rule=\"nonzero\" fill-opacity=\"1\" /><path clip-path=\"url(#clip120)\" d=\"M2081.5 154.106 L2081.5 138.412 L2085.76 138.412 L2085.76 153.944 Q2085.76 157.625 2087.19 159.476 Q2088.63 161.305 2091.5 161.305 Q2094.95 161.305 2096.94 159.106 Q2098.95 156.907 2098.95 153.111 L2098.95 138.412 L2103.21 138.412 L2103.21 164.338 L2098.95 164.338 L2098.95 160.356 Q2097.4 162.717 2095.34 163.875 Q2093.3 165.009 2090.59 165.009 Q2086.13 165.009 2083.81 162.231 Q2081.5 159.453 2081.5 154.106 M2092.21 137.787 L2092.21 137.787 Z\" fill=\"#000000\" fill-rule=\"nonzero\" fill-opacity=\"1\" /><path clip-path=\"url(#clip120)\" d=\"M2116.2 131.051 L2116.2 138.412 L2124.97 138.412 L2124.97 141.722 L2116.2 141.722 L2116.2 155.796 Q2116.2 158.967 2117.05 159.87 Q2117.93 160.773 2120.59 160.773 L2124.97 160.773 L2124.97 164.338 L2120.59 164.338 Q2115.66 164.338 2113.79 162.509 Q2111.91 160.657 2111.91 155.796 L2111.91 141.722 L2108.79 141.722 L2108.79 138.412 L2111.91 138.412 L2111.91 131.051 L2116.2 131.051 Z\" fill=\"#000000\" fill-rule=\"nonzero\" fill-opacity=\"1\" /><path clip-path=\"url(#clip120)\" d=\"M2143.49 149.453 L2155.96 149.453 L2155.96 153.25 L2143.49 153.25 L2143.49 149.453 Z\" fill=\"#000000\" fill-rule=\"nonzero\" fill-opacity=\"1\" /><path clip-path=\"url(#clip120)\" d=\"M2179.74 143.041 Q2181.15 140.68 2184.64 138.597 Q2186.01 137.787 2190.22 137.787 Q2194.94 137.787 2197.88 141.537 Q2200.85 145.287 2200.85 151.398 Q2200.85 157.509 2197.88 161.259 Q2194.94 165.009 2190.22 165.009 Q2187.38 165.009 2185.32 163.898 Q2183.28 162.763 2181.94 160.449 L2181.94 174.199 L2177.65 174.199 L2177.65 151.629 Q2177.65 146.282 2179.74 143.041 M2196.43 151.398 Q2196.43 146.699 2194.48 144.037 Q2192.56 141.352 2189.18 141.352 Q2185.8 141.352 2183.86 144.037 Q2181.94 146.699 2181.94 151.398 Q2181.94 156.097 2183.86 158.782 Q2185.8 161.444 2189.18 161.444 Q2192.56 161.444 2194.48 158.782 Q2196.43 156.097 2196.43 151.398 Z\" fill=\"#000000\" fill-rule=\"nonzero\" fill-opacity=\"1\" /><path clip-path=\"url(#clip120)\" d=\"M2207.91 138.412 L2212.17 138.412 L2212.17 164.338 L2207.91 164.338 L2207.91 138.412 M2207.91 128.319 L2212.17 128.319 L2212.17 133.713 L2207.91 133.713 L2207.91 128.319 Z\" fill=\"#000000\" fill-rule=\"nonzero\" fill-opacity=\"1\" /><path clip-path=\"url(#clip120)\" d=\"M2242.63 148.689 L2242.63 164.338 L2238.37 164.338 L2238.37 148.828 Q2238.37 145.148 2236.94 143.319 Q2235.5 141.49 2232.63 141.49 Q2229.18 141.49 2227.19 143.69 Q2225.2 145.889 2225.2 149.685 L2225.2 164.338 L2220.92 164.338 L2220.92 138.412 L2225.2 138.412 L2225.2 142.44 Q2226.73 140.102 2228.79 138.944 Q2230.87 137.787 2233.58 137.787 Q2238.05 137.787 2240.34 140.565 Q2242.63 143.319 2242.63 148.689 Z\" fill=\"#000000\" fill-rule=\"nonzero\" fill-opacity=\"1\" /><path clip-path=\"url(#clip120)\" d=\"M2256.61 128.111 L2256.61 175.518 L2252.68 175.518 L2252.68 128.111 L2256.61 128.111 Z\" fill=\"#000000\" fill-rule=\"nonzero\" fill-opacity=\"1\" /></svg>\n"
      ],
      "image/svg+xml": [
       "<?xml version=\"1.0\" encoding=\"utf-8\"?>\n",
       "<svg xmlns=\"http://www.w3.org/2000/svg\" xmlns:xlink=\"http://www.w3.org/1999/xlink\" width=\"600\" height=\"400\" viewBox=\"0 0 2400 1600\">\n",
       "<defs>\n",
       "  <clipPath id=\"clip090\">\n",
       "    <rect x=\"0\" y=\"0\" width=\"2400\" height=\"1600\"/>\n",
       "  </clipPath>\n",
       "</defs>\n",
       "<path clip-path=\"url(#clip090)\" d=\"M0 1600 L2400 1600 L2400 0 L0 0  Z\" fill=\"#ffffff\" fill-rule=\"evenodd\" fill-opacity=\"1\"/>\n",
       "<defs>\n",
       "  <clipPath id=\"clip091\">\n",
       "    <rect x=\"480\" y=\"0\" width=\"1681\" height=\"1600\"/>\n",
       "  </clipPath>\n",
       "</defs>\n",
       "<path clip-path=\"url(#clip090)\" d=\"M189.496 1486.45 L2352.76 1486.45 L2352.76 47.2441 L189.496 47.2441  Z\" fill=\"#ffffff\" fill-rule=\"evenodd\" fill-opacity=\"1\"/>\n",
       "<defs>\n",
       "  <clipPath id=\"clip092\">\n",
       "    <rect x=\"189\" y=\"47\" width=\"2164\" height=\"1440\"/>\n",
       "  </clipPath>\n",
       "</defs>\n",
       "<polyline clip-path=\"url(#clip092)\" style=\"stroke:#000000; stroke-linecap:round; stroke-linejoin:round; stroke-width:2; stroke-opacity:0.1; fill:none\" points=\"542.265,1486.45 542.265,47.2441 \"/>\n",
       "<polyline clip-path=\"url(#clip092)\" style=\"stroke:#000000; stroke-linecap:round; stroke-linejoin:round; stroke-width:2; stroke-opacity:0.1; fill:none\" points=\"1125.35,1486.45 1125.35,47.2441 \"/>\n",
       "<polyline clip-path=\"url(#clip092)\" style=\"stroke:#000000; stroke-linecap:round; stroke-linejoin:round; stroke-width:2; stroke-opacity:0.1; fill:none\" points=\"1708.44,1486.45 1708.44,47.2441 \"/>\n",
       "<polyline clip-path=\"url(#clip092)\" style=\"stroke:#000000; stroke-linecap:round; stroke-linejoin:round; stroke-width:2; stroke-opacity:0.1; fill:none\" points=\"2291.53,1486.45 2291.53,47.2441 \"/>\n",
       "<polyline clip-path=\"url(#clip092)\" style=\"stroke:#000000; stroke-linecap:round; stroke-linejoin:round; stroke-width:2; stroke-opacity:0.1; fill:none\" points=\"189.496,1285.52 2352.76,1285.52 \"/>\n",
       "<polyline clip-path=\"url(#clip092)\" style=\"stroke:#000000; stroke-linecap:round; stroke-linejoin:round; stroke-width:2; stroke-opacity:0.1; fill:none\" points=\"189.496,662.939 2352.76,662.939 \"/>\n",
       "<polyline clip-path=\"url(#clip090)\" style=\"stroke:#000000; stroke-linecap:round; stroke-linejoin:round; stroke-width:4; stroke-opacity:1; fill:none\" points=\"189.496,1486.45 2352.76,1486.45 \"/>\n",
       "<polyline clip-path=\"url(#clip090)\" style=\"stroke:#000000; stroke-linecap:round; stroke-linejoin:round; stroke-width:4; stroke-opacity:1; fill:none\" points=\"542.265,1486.45 542.265,1467.55 \"/>\n",
       "<polyline clip-path=\"url(#clip090)\" style=\"stroke:#000000; stroke-linecap:round; stroke-linejoin:round; stroke-width:4; stroke-opacity:1; fill:none\" points=\"1125.35,1486.45 1125.35,1467.55 \"/>\n",
       "<polyline clip-path=\"url(#clip090)\" style=\"stroke:#000000; stroke-linecap:round; stroke-linejoin:round; stroke-width:4; stroke-opacity:1; fill:none\" points=\"1708.44,1486.45 1708.44,1467.55 \"/>\n",
       "<polyline clip-path=\"url(#clip090)\" style=\"stroke:#000000; stroke-linecap:round; stroke-linejoin:round; stroke-width:4; stroke-opacity:1; fill:none\" points=\"2291.53,1486.45 2291.53,1467.55 \"/>\n",
       "<path clip-path=\"url(#clip090)\" d=\"M536.918 1544.91 L553.237 1544.91 L553.237 1548.85 L531.293 1548.85 L531.293 1544.91 Q533.955 1542.16 538.538 1537.53 Q543.144 1532.88 544.325 1531.53 Q546.57 1529.01 547.45 1527.27 Q548.353 1525.51 548.353 1523.82 Q548.353 1521.07 546.408 1519.33 Q544.487 1517.6 541.385 1517.6 Q539.186 1517.6 536.732 1518.36 Q534.302 1519.13 531.524 1520.68 L531.524 1515.95 Q534.348 1514.82 536.802 1514.24 Q539.255 1513.66 541.293 1513.66 Q546.663 1513.66 549.857 1516.35 Q553.052 1519.03 553.052 1523.52 Q553.052 1525.65 552.242 1527.57 Q551.454 1529.47 549.348 1532.07 Q548.769 1532.74 545.667 1535.95 Q542.566 1539.15 536.918 1544.91 Z\" fill=\"#000000\" fill-rule=\"nonzero\" fill-opacity=\"1\" /><path clip-path=\"url(#clip090)\" d=\"M1128.36 1518.36 L1116.56 1536.81 L1128.36 1536.81 L1128.36 1518.36 M1127.14 1514.29 L1133.02 1514.29 L1133.02 1536.81 L1137.95 1536.81 L1137.95 1540.7 L1133.02 1540.7 L1133.02 1548.85 L1128.36 1548.85 L1128.36 1540.7 L1112.76 1540.7 L1112.76 1536.19 L1127.14 1514.29 Z\" fill=\"#000000\" fill-rule=\"nonzero\" fill-opacity=\"1\" /><path clip-path=\"url(#clip090)\" d=\"M1708.85 1529.7 Q1705.7 1529.7 1703.85 1531.86 Q1702.02 1534.01 1702.02 1537.76 Q1702.02 1541.49 1703.85 1543.66 Q1705.7 1545.82 1708.85 1545.82 Q1712 1545.82 1713.82 1543.66 Q1715.68 1541.49 1715.68 1537.76 Q1715.68 1534.01 1713.82 1531.86 Q1712 1529.7 1708.85 1529.7 M1718.13 1515.05 L1718.13 1519.31 Q1716.37 1518.48 1714.57 1518.04 Q1712.78 1517.6 1711.02 1517.6 Q1706.39 1517.6 1703.94 1520.72 Q1701.51 1523.85 1701.16 1530.17 Q1702.53 1528.15 1704.59 1527.09 Q1706.65 1526 1709.13 1526 Q1714.33 1526 1717.34 1529.17 Q1720.38 1532.32 1720.38 1537.76 Q1720.38 1543.08 1717.23 1546.3 Q1714.08 1549.52 1708.85 1549.52 Q1702.85 1549.52 1699.68 1544.94 Q1696.51 1540.33 1696.51 1531.6 Q1696.51 1523.41 1700.4 1518.55 Q1704.29 1513.66 1710.84 1513.66 Q1712.6 1513.66 1714.38 1514.01 Q1716.19 1514.36 1718.13 1515.05 Z\" fill=\"#000000\" fill-rule=\"nonzero\" fill-opacity=\"1\" /><path clip-path=\"url(#clip090)\" d=\"M2291.53 1532.44 Q2288.2 1532.44 2286.28 1534.22 Q2284.38 1536 2284.38 1539.13 Q2284.38 1542.25 2286.28 1544.03 Q2288.2 1545.82 2291.53 1545.82 Q2294.86 1545.82 2296.79 1544.03 Q2298.71 1542.23 2298.71 1539.13 Q2298.71 1536 2296.79 1534.22 Q2294.89 1532.44 2291.53 1532.44 M2286.86 1530.45 Q2283.85 1529.7 2282.16 1527.64 Q2280.49 1525.58 2280.49 1522.62 Q2280.49 1518.48 2283.43 1516.07 Q2286.39 1513.66 2291.53 1513.66 Q2296.69 1513.66 2299.63 1516.07 Q2302.57 1518.48 2302.57 1522.62 Q2302.57 1525.58 2300.88 1527.64 Q2299.22 1529.7 2296.23 1530.45 Q2299.61 1531.23 2301.49 1533.52 Q2303.38 1535.82 2303.38 1539.13 Q2303.38 1544.15 2300.3 1546.83 Q2297.25 1549.52 2291.53 1549.52 Q2285.81 1549.52 2282.74 1546.83 Q2279.68 1544.15 2279.68 1539.13 Q2279.68 1535.82 2281.58 1533.52 Q2283.48 1531.23 2286.86 1530.45 M2285.14 1523.06 Q2285.14 1525.75 2286.81 1527.25 Q2288.5 1528.76 2291.53 1528.76 Q2294.54 1528.76 2296.23 1527.25 Q2297.94 1525.75 2297.94 1523.06 Q2297.94 1520.38 2296.23 1518.87 Q2294.54 1517.37 2291.53 1517.37 Q2288.5 1517.37 2286.81 1518.87 Q2285.14 1520.38 2285.14 1523.06 Z\" fill=\"#000000\" fill-rule=\"nonzero\" fill-opacity=\"1\" /><polyline clip-path=\"url(#clip090)\" style=\"stroke:#000000; stroke-linecap:round; stroke-linejoin:round; stroke-width:4; stroke-opacity:1; fill:none\" points=\"189.496,1486.45 189.496,47.2441 \"/>\n",
       "<polyline clip-path=\"url(#clip090)\" style=\"stroke:#000000; stroke-linecap:round; stroke-linejoin:round; stroke-width:4; stroke-opacity:1; fill:none\" points=\"189.496,1285.52 208.394,1285.52 \"/>\n",
       "<polyline clip-path=\"url(#clip090)\" style=\"stroke:#000000; stroke-linecap:round; stroke-linejoin:round; stroke-width:4; stroke-opacity:1; fill:none\" points=\"189.496,662.939 208.394,662.939 \"/>\n",
       "<path clip-path=\"url(#clip090)\" d=\"M51.6634 1305.31 L59.3023 1305.31 L59.3023 1278.94 L50.9921 1280.61 L50.9921 1276.35 L59.256 1274.68 L63.9319 1274.68 L63.9319 1305.31 L71.5707 1305.31 L71.5707 1309.24 L51.6634 1309.24 L51.6634 1305.31 Z\" fill=\"#000000\" fill-rule=\"nonzero\" fill-opacity=\"1\" /><path clip-path=\"url(#clip090)\" d=\"M91.0151 1277.76 Q87.404 1277.76 85.5753 1281.33 Q83.7697 1284.87 83.7697 1292 Q83.7697 1299.11 85.5753 1302.67 Q87.404 1306.21 91.0151 1306.21 Q94.6493 1306.21 96.4548 1302.67 Q98.2835 1299.11 98.2835 1292 Q98.2835 1284.87 96.4548 1281.33 Q94.6493 1277.76 91.0151 1277.76 M91.0151 1274.06 Q96.8252 1274.06 99.8808 1278.67 Q102.959 1283.25 102.959 1292 Q102.959 1300.73 99.8808 1305.33 Q96.8252 1309.92 91.0151 1309.92 Q85.2049 1309.92 82.1262 1305.33 Q79.0707 1300.73 79.0707 1292 Q79.0707 1283.25 82.1262 1278.67 Q85.2049 1274.06 91.0151 1274.06 Z\" fill=\"#000000\" fill-rule=\"nonzero\" fill-opacity=\"1\" /><path clip-path=\"url(#clip090)\" d=\"M102.959 1268.16 L127.071 1268.16 L127.071 1271.36 L102.959 1271.36 L102.959 1268.16 Z\" fill=\"#000000\" fill-rule=\"nonzero\" fill-opacity=\"1\" /><path clip-path=\"url(#clip090)\" d=\"M145.71 1257.06 L136.118 1272.05 L145.71 1272.05 L145.71 1257.06 M144.713 1253.75 L149.49 1253.75 L149.49 1272.05 L153.496 1272.05 L153.496 1275.21 L149.49 1275.21 L149.49 1281.83 L145.71 1281.83 L145.71 1275.21 L133.033 1275.21 L133.033 1271.55 L144.713 1253.75 Z\" fill=\"#000000\" fill-rule=\"nonzero\" fill-opacity=\"1\" /><path clip-path=\"url(#clip090)\" d=\"M53.3561 682.732 L60.995 682.732 L60.995 656.366 L52.6848 658.033 L52.6848 653.773 L60.9487 652.107 L65.6246 652.107 L65.6246 682.732 L73.2634 682.732 L73.2634 686.667 L53.3561 686.667 L53.3561 682.732 Z\" fill=\"#000000\" fill-rule=\"nonzero\" fill-opacity=\"1\" /><path clip-path=\"url(#clip090)\" d=\"M92.7078 655.185 Q89.0967 655.185 87.268 658.75 Q85.4624 662.292 85.4624 669.421 Q85.4624 676.528 87.268 680.093 Q89.0967 683.634 92.7078 683.634 Q96.342 683.634 98.1475 680.093 Q99.9762 676.528 99.9762 669.421 Q99.9762 662.292 98.1475 658.75 Q96.342 655.185 92.7078 655.185 M92.7078 651.482 Q98.5179 651.482 101.573 656.088 Q104.652 660.672 104.652 669.421 Q104.652 678.148 101.573 682.755 Q98.5179 687.338 92.7078 687.338 Q86.8976 687.338 83.8189 682.755 Q80.7634 678.148 80.7634 669.421 Q80.7634 660.672 83.8189 656.088 Q86.8976 651.482 92.7078 651.482 Z\" fill=\"#000000\" fill-rule=\"nonzero\" fill-opacity=\"1\" /><path clip-path=\"url(#clip090)\" d=\"M104.652 645.583 L128.764 645.583 L128.764 648.78 L104.652 648.78 L104.652 645.583 Z\" fill=\"#000000\" fill-rule=\"nonzero\" fill-opacity=\"1\" /><path clip-path=\"url(#clip090)\" d=\"M140.236 656.059 L153.496 656.059 L153.496 659.256 L135.666 659.256 L135.666 656.059 Q137.829 653.821 141.553 650.059 Q145.296 646.279 146.255 645.188 Q148.079 643.138 148.794 641.728 Q149.527 640.298 149.527 638.925 Q149.527 636.687 147.948 635.276 Q146.387 633.866 143.866 633.866 Q142.08 633.866 140.086 634.487 Q138.111 635.107 135.854 636.367 L135.854 632.531 Q138.149 631.609 140.142 631.139 Q142.136 630.669 143.791 630.669 Q148.155 630.669 150.75 632.85 Q153.345 635.032 153.345 638.681 Q153.345 640.411 152.687 641.972 Q152.048 643.514 150.336 645.621 Q149.866 646.166 147.346 648.78 Q144.826 651.376 140.236 656.059 Z\" fill=\"#000000\" fill-rule=\"nonzero\" fill-opacity=\"1\" /><polyline clip-path=\"url(#clip092)\" style=\"stroke:#009af9; stroke-linecap:round; stroke-linejoin:round; stroke-width:4; stroke-opacity:1; fill:none\" points=\"250.72,87.9763 542.265,347.472 833.809,713.193 1125.35,727.806 1416.9,765.589 1708.44,1314.08 1999.99,1208.52 2291.53,1445.72 \"/>\n",
       "<line clip-path=\"url(#clip092)\" x1=\"250.72\" y1=\"87.9763\" x2=\"234.72\" y2=\"71.9763\" style=\"stroke:#009af9; stroke-width:4; stroke-opacity:1\"/>\n",
       "<line clip-path=\"url(#clip092)\" x1=\"250.72\" y1=\"87.9763\" x2=\"234.72\" y2=\"103.976\" style=\"stroke:#009af9; stroke-width:4; stroke-opacity:1\"/>\n",
       "<line clip-path=\"url(#clip092)\" x1=\"250.72\" y1=\"87.9763\" x2=\"266.72\" y2=\"103.976\" style=\"stroke:#009af9; stroke-width:4; stroke-opacity:1\"/>\n",
       "<line clip-path=\"url(#clip092)\" x1=\"250.72\" y1=\"87.9763\" x2=\"266.72\" y2=\"71.9763\" style=\"stroke:#009af9; stroke-width:4; stroke-opacity:1\"/>\n",
       "<line clip-path=\"url(#clip092)\" x1=\"542.265\" y1=\"347.472\" x2=\"526.265\" y2=\"331.472\" style=\"stroke:#009af9; stroke-width:4; stroke-opacity:1\"/>\n",
       "<line clip-path=\"url(#clip092)\" x1=\"542.265\" y1=\"347.472\" x2=\"526.265\" y2=\"363.472\" style=\"stroke:#009af9; stroke-width:4; stroke-opacity:1\"/>\n",
       "<line clip-path=\"url(#clip092)\" x1=\"542.265\" y1=\"347.472\" x2=\"558.265\" y2=\"363.472\" style=\"stroke:#009af9; stroke-width:4; stroke-opacity:1\"/>\n",
       "<line clip-path=\"url(#clip092)\" x1=\"542.265\" y1=\"347.472\" x2=\"558.265\" y2=\"331.472\" style=\"stroke:#009af9; stroke-width:4; stroke-opacity:1\"/>\n",
       "<line clip-path=\"url(#clip092)\" x1=\"833.809\" y1=\"713.193\" x2=\"817.809\" y2=\"697.193\" style=\"stroke:#009af9; stroke-width:4; stroke-opacity:1\"/>\n",
       "<line clip-path=\"url(#clip092)\" x1=\"833.809\" y1=\"713.193\" x2=\"817.809\" y2=\"729.193\" style=\"stroke:#009af9; stroke-width:4; stroke-opacity:1\"/>\n",
       "<line clip-path=\"url(#clip092)\" x1=\"833.809\" y1=\"713.193\" x2=\"849.809\" y2=\"729.193\" style=\"stroke:#009af9; stroke-width:4; stroke-opacity:1\"/>\n",
       "<line clip-path=\"url(#clip092)\" x1=\"833.809\" y1=\"713.193\" x2=\"849.809\" y2=\"697.193\" style=\"stroke:#009af9; stroke-width:4; stroke-opacity:1\"/>\n",
       "<line clip-path=\"url(#clip092)\" x1=\"1125.35\" y1=\"727.806\" x2=\"1109.35\" y2=\"711.806\" style=\"stroke:#009af9; stroke-width:4; stroke-opacity:1\"/>\n",
       "<line clip-path=\"url(#clip092)\" x1=\"1125.35\" y1=\"727.806\" x2=\"1109.35\" y2=\"743.806\" style=\"stroke:#009af9; stroke-width:4; stroke-opacity:1\"/>\n",
       "<line clip-path=\"url(#clip092)\" x1=\"1125.35\" y1=\"727.806\" x2=\"1141.35\" y2=\"743.806\" style=\"stroke:#009af9; stroke-width:4; stroke-opacity:1\"/>\n",
       "<line clip-path=\"url(#clip092)\" x1=\"1125.35\" y1=\"727.806\" x2=\"1141.35\" y2=\"711.806\" style=\"stroke:#009af9; stroke-width:4; stroke-opacity:1\"/>\n",
       "<line clip-path=\"url(#clip092)\" x1=\"1416.9\" y1=\"765.589\" x2=\"1400.9\" y2=\"749.589\" style=\"stroke:#009af9; stroke-width:4; stroke-opacity:1\"/>\n",
       "<line clip-path=\"url(#clip092)\" x1=\"1416.9\" y1=\"765.589\" x2=\"1400.9\" y2=\"781.589\" style=\"stroke:#009af9; stroke-width:4; stroke-opacity:1\"/>\n",
       "<line clip-path=\"url(#clip092)\" x1=\"1416.9\" y1=\"765.589\" x2=\"1432.9\" y2=\"781.589\" style=\"stroke:#009af9; stroke-width:4; stroke-opacity:1\"/>\n",
       "<line clip-path=\"url(#clip092)\" x1=\"1416.9\" y1=\"765.589\" x2=\"1432.9\" y2=\"749.589\" style=\"stroke:#009af9; stroke-width:4; stroke-opacity:1\"/>\n",
       "<line clip-path=\"url(#clip092)\" x1=\"1708.44\" y1=\"1314.08\" x2=\"1692.44\" y2=\"1298.08\" style=\"stroke:#009af9; stroke-width:4; stroke-opacity:1\"/>\n",
       "<line clip-path=\"url(#clip092)\" x1=\"1708.44\" y1=\"1314.08\" x2=\"1692.44\" y2=\"1330.08\" style=\"stroke:#009af9; stroke-width:4; stroke-opacity:1\"/>\n",
       "<line clip-path=\"url(#clip092)\" x1=\"1708.44\" y1=\"1314.08\" x2=\"1724.44\" y2=\"1330.08\" style=\"stroke:#009af9; stroke-width:4; stroke-opacity:1\"/>\n",
       "<line clip-path=\"url(#clip092)\" x1=\"1708.44\" y1=\"1314.08\" x2=\"1724.44\" y2=\"1298.08\" style=\"stroke:#009af9; stroke-width:4; stroke-opacity:1\"/>\n",
       "<line clip-path=\"url(#clip092)\" x1=\"1999.99\" y1=\"1208.52\" x2=\"1983.99\" y2=\"1192.52\" style=\"stroke:#009af9; stroke-width:4; stroke-opacity:1\"/>\n",
       "<line clip-path=\"url(#clip092)\" x1=\"1999.99\" y1=\"1208.52\" x2=\"1983.99\" y2=\"1224.52\" style=\"stroke:#009af9; stroke-width:4; stroke-opacity:1\"/>\n",
       "<line clip-path=\"url(#clip092)\" x1=\"1999.99\" y1=\"1208.52\" x2=\"2015.99\" y2=\"1224.52\" style=\"stroke:#009af9; stroke-width:4; stroke-opacity:1\"/>\n",
       "<line clip-path=\"url(#clip092)\" x1=\"1999.99\" y1=\"1208.52\" x2=\"2015.99\" y2=\"1192.52\" style=\"stroke:#009af9; stroke-width:4; stroke-opacity:1\"/>\n",
       "<line clip-path=\"url(#clip092)\" x1=\"2291.53\" y1=\"1445.72\" x2=\"2275.53\" y2=\"1429.72\" style=\"stroke:#009af9; stroke-width:4; stroke-opacity:1\"/>\n",
       "<line clip-path=\"url(#clip092)\" x1=\"2291.53\" y1=\"1445.72\" x2=\"2275.53\" y2=\"1461.72\" style=\"stroke:#009af9; stroke-width:4; stroke-opacity:1\"/>\n",
       "<line clip-path=\"url(#clip092)\" x1=\"2291.53\" y1=\"1445.72\" x2=\"2307.53\" y2=\"1461.72\" style=\"stroke:#009af9; stroke-width:4; stroke-opacity:1\"/>\n",
       "<line clip-path=\"url(#clip092)\" x1=\"2291.53\" y1=\"1445.72\" x2=\"2307.53\" y2=\"1429.72\" style=\"stroke:#009af9; stroke-width:4; stroke-opacity:1\"/>\n",
       "<path clip-path=\"url(#clip090)\" d=\"M1816.13 198.898 L2280.65 198.898 L2280.65 95.2176 L1816.13 95.2176  Z\" fill=\"#ffffff\" fill-rule=\"evenodd\" fill-opacity=\"1\"/>\n",
       "<polyline clip-path=\"url(#clip090)\" style=\"stroke:#000000; stroke-linecap:round; stroke-linejoin:round; stroke-width:4; stroke-opacity:1; fill:none\" points=\"1816.13,198.898 2280.65,198.898 2280.65,95.2176 1816.13,95.2176 1816.13,198.898 \"/>\n",
       "<polyline clip-path=\"url(#clip090)\" style=\"stroke:#009af9; stroke-linecap:round; stroke-linejoin:round; stroke-width:4; stroke-opacity:1; fill:none\" points=\"1840.16,147.058 1984.38,147.058 \"/>\n",
       "<line clip-path=\"url(#clip090)\" x1=\"1912.27\" y1=\"147.058\" x2=\"1890.02\" y2=\"124.802\" style=\"stroke:#009af9; stroke-width:4.55111; stroke-opacity:1\"/>\n",
       "<line clip-path=\"url(#clip090)\" x1=\"1912.27\" y1=\"147.058\" x2=\"1890.02\" y2=\"169.313\" style=\"stroke:#009af9; stroke-width:4.55111; stroke-opacity:1\"/>\n",
       "<line clip-path=\"url(#clip090)\" x1=\"1912.27\" y1=\"147.058\" x2=\"1934.53\" y2=\"169.313\" style=\"stroke:#009af9; stroke-width:4.55111; stroke-opacity:1\"/>\n",
       "<line clip-path=\"url(#clip090)\" x1=\"1912.27\" y1=\"147.058\" x2=\"1934.53\" y2=\"124.802\" style=\"stroke:#009af9; stroke-width:4.55111; stroke-opacity:1\"/>\n",
       "<path clip-path=\"url(#clip090)\" d=\"M2012.35 128.111 L2012.35 175.518 L2008.42 175.518 L2008.42 128.111 L2012.35 128.111 Z\" fill=\"#000000\" fill-rule=\"nonzero\" fill-opacity=\"1\" /><path clip-path=\"url(#clip090)\" d=\"M2024.76 143.041 Q2026.17 140.68 2029.67 138.597 Q2031.03 137.787 2035.25 137.787 Q2039.97 137.787 2042.91 141.537 Q2045.87 145.287 2045.87 151.398 Q2045.87 157.509 2042.91 161.259 Q2039.97 165.009 2035.25 165.009 Q2032.4 165.009 2030.34 163.898 Q2028.3 162.763 2026.96 160.449 L2026.96 174.199 L2022.68 174.199 L2022.68 151.629 Q2022.68 146.282 2024.76 143.041 M2041.45 151.398 Q2041.45 146.699 2039.51 144.037 Q2037.58 141.352 2034.2 141.352 Q2030.83 141.352 2028.88 144.037 Q2026.96 146.699 2026.96 151.398 Q2026.96 156.097 2028.88 158.782 Q2030.83 161.444 2034.2 161.444 Q2037.58 161.444 2039.51 158.782 Q2041.45 156.097 2041.45 151.398 Z\" fill=\"#000000\" fill-rule=\"nonzero\" fill-opacity=\"1\" /><path clip-path=\"url(#clip090)\" d=\"M2062.98 141.398 Q2059.55 141.398 2057.56 144.083 Q2055.57 146.745 2055.57 151.398 Q2055.57 156.051 2057.54 158.736 Q2059.53 161.398 2062.98 161.398 Q2066.38 161.398 2068.37 158.713 Q2070.36 156.027 2070.36 151.398 Q2070.36 146.791 2068.37 144.106 Q2066.38 141.398 2062.98 141.398 M2062.98 137.787 Q2068.53 137.787 2071.7 141.398 Q2074.88 145.009 2074.88 151.398 Q2074.88 157.764 2071.7 161.398 Q2068.53 165.009 2062.98 165.009 Q2057.4 165.009 2054.23 161.398 Q2051.08 157.764 2051.08 151.398 Q2051.08 145.009 2054.23 141.398 Q2057.4 137.787 2062.98 137.787 Z\" fill=\"#000000\" fill-rule=\"nonzero\" fill-opacity=\"1\" /><path clip-path=\"url(#clip090)\" d=\"M2081.5 154.106 L2081.5 138.412 L2085.76 138.412 L2085.76 153.944 Q2085.76 157.625 2087.19 159.476 Q2088.63 161.305 2091.5 161.305 Q2094.95 161.305 2096.94 159.106 Q2098.95 156.907 2098.95 153.111 L2098.95 138.412 L2103.21 138.412 L2103.21 164.338 L2098.95 164.338 L2098.95 160.356 Q2097.4 162.717 2095.34 163.875 Q2093.3 165.009 2090.59 165.009 Q2086.13 165.009 2083.81 162.231 Q2081.5 159.453 2081.5 154.106 M2092.21 137.787 L2092.21 137.787 Z\" fill=\"#000000\" fill-rule=\"nonzero\" fill-opacity=\"1\" /><path clip-path=\"url(#clip090)\" d=\"M2116.2 131.051 L2116.2 138.412 L2124.97 138.412 L2124.97 141.722 L2116.2 141.722 L2116.2 155.796 Q2116.2 158.967 2117.05 159.87 Q2117.93 160.773 2120.59 160.773 L2124.97 160.773 L2124.97 164.338 L2120.59 164.338 Q2115.66 164.338 2113.79 162.509 Q2111.91 160.657 2111.91 155.796 L2111.91 141.722 L2108.79 141.722 L2108.79 138.412 L2111.91 138.412 L2111.91 131.051 L2116.2 131.051 Z\" fill=\"#000000\" fill-rule=\"nonzero\" fill-opacity=\"1\" /><path clip-path=\"url(#clip090)\" d=\"M2143.49 149.453 L2155.96 149.453 L2155.96 153.25 L2143.49 153.25 L2143.49 149.453 Z\" fill=\"#000000\" fill-rule=\"nonzero\" fill-opacity=\"1\" /><path clip-path=\"url(#clip090)\" d=\"M2179.74 143.041 Q2181.15 140.68 2184.64 138.597 Q2186.01 137.787 2190.22 137.787 Q2194.94 137.787 2197.88 141.537 Q2200.85 145.287 2200.85 151.398 Q2200.85 157.509 2197.88 161.259 Q2194.94 165.009 2190.22 165.009 Q2187.38 165.009 2185.32 163.898 Q2183.28 162.763 2181.94 160.449 L2181.94 174.199 L2177.65 174.199 L2177.65 151.629 Q2177.65 146.282 2179.74 143.041 M2196.43 151.398 Q2196.43 146.699 2194.48 144.037 Q2192.56 141.352 2189.18 141.352 Q2185.8 141.352 2183.86 144.037 Q2181.94 146.699 2181.94 151.398 Q2181.94 156.097 2183.86 158.782 Q2185.8 161.444 2189.18 161.444 Q2192.56 161.444 2194.48 158.782 Q2196.43 156.097 2196.43 151.398 Z\" fill=\"#000000\" fill-rule=\"nonzero\" fill-opacity=\"1\" /><path clip-path=\"url(#clip090)\" d=\"M2207.91 138.412 L2212.17 138.412 L2212.17 164.338 L2207.91 164.338 L2207.91 138.412 M2207.91 128.319 L2212.17 128.319 L2212.17 133.713 L2207.91 133.713 L2207.91 128.319 Z\" fill=\"#000000\" fill-rule=\"nonzero\" fill-opacity=\"1\" /><path clip-path=\"url(#clip090)\" d=\"M2242.63 148.689 L2242.63 164.338 L2238.37 164.338 L2238.37 148.828 Q2238.37 145.148 2236.94 143.319 Q2235.5 141.49 2232.63 141.49 Q2229.18 141.49 2227.19 143.69 Q2225.2 145.889 2225.2 149.685 L2225.2 164.338 L2220.92 164.338 L2220.92 138.412 L2225.2 138.412 L2225.2 142.44 Q2226.73 140.102 2228.79 138.944 Q2230.87 137.787 2233.58 137.787 Q2238.05 137.787 2240.34 140.565 Q2242.63 143.319 2242.63 148.689 Z\" fill=\"#000000\" fill-rule=\"nonzero\" fill-opacity=\"1\" /><path clip-path=\"url(#clip090)\" d=\"M2256.61 128.111 L2256.61 175.518 L2252.68 175.518 L2252.68 128.111 L2256.61 128.111 Z\" fill=\"#000000\" fill-rule=\"nonzero\" fill-opacity=\"1\" /></svg>\n"
      ]
     },
     "metadata": {},
     "execution_count": 5
    }
   ],
   "cell_type": "code",
   "source": [
    "p"
   ],
   "metadata": {},
   "execution_count": 5
  },
  {
   "cell_type": "markdown",
   "source": [
    "The `info` object passed to the callback contains not just the densities\n",
    "but also the complete Bloch wave (in `ψ`), the `occupation`, band `eigenvalues`\n",
    "and so on.\n",
    "See [`src/scf/self_consistent_field.jl`](https://dftk.org/blob/master/src/scf/self_consistent_field.jl#L101)\n",
    "for all currently available keys.\n",
    "\n",
    "> **Debugging with callbacks**\n",
    ">\n",
    "> Very handy for debugging SCF algorithms is to employ callbacks\n",
    "> with an `@infiltrate` from [Infiltrator.jl](https://github.com/JuliaDebug/Infiltrator.jl)\n",
    "> to interactively monitor what is happening each SCF step."
   ],
   "metadata": {}
  }
 ],
 "nbformat_minor": 3,
 "metadata": {
  "language_info": {
   "file_extension": ".jl",
   "mimetype": "application/julia",
   "name": "julia",
   "version": "1.11.3"
  },
  "kernelspec": {
   "name": "julia-1.11",
   "display_name": "Julia 1.11.3",
   "language": "julia"
  }
 },
 "nbformat": 4
}
