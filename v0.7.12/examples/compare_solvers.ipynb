{
 "cells": [
  {
   "cell_type": "markdown",
   "source": [
    "# Comparison of DFT solvers"
   ],
   "metadata": {}
  },
  {
   "cell_type": "markdown",
   "source": [
    "We compare four different approaches for solving the DFT minimisation problem,\n",
    "namely a density-based SCF, a potential-based SCF, direct minimisation and Newton."
   ],
   "metadata": {}
  },
  {
   "cell_type": "markdown",
   "source": [
    "First we setup our problem"
   ],
   "metadata": {}
  },
  {
   "outputs": [
    {
     "output_type": "execute_result",
     "data": {
      "text/plain": "1.0e-6"
     },
     "metadata": {},
     "execution_count": 1
    }
   ],
   "cell_type": "code",
   "source": [
    "using AtomsBuilder\n",
    "using DFTK\n",
    "using LinearAlgebra\n",
    "using PseudoPotentialData\n",
    "\n",
    "pseudopotentials = PseudoFamily(\"dojo.nc.sr.pbesol.v0_4_1.standard.upf\")\n",
    "model = model_DFT(bulk(:Si); functionals=PBEsol(), pseudopotentials)\n",
    "basis = PlaneWaveBasis(model; Ecut=5, kgrid=[3, 3, 3])\n",
    "\n",
    "# Convergence we desire in the density\n",
    "tol = 1e-6"
   ],
   "metadata": {},
   "execution_count": 1
  },
  {
   "cell_type": "markdown",
   "source": [
    "## Density-based self-consistent field"
   ],
   "metadata": {}
  },
  {
   "outputs": [
    {
     "name": "stdout",
     "output_type": "stream",
     "text": [
      "n     Energy            log10(ΔE)   log10(Δρ)   Diag   Δtime\n",
      "---   ---------------   ---------   ---------   ----   ------\n",
      "  1   -8.397832909161                   -0.90    5.5   56.6ms\n",
      "  2   -8.400253381668       -2.62       -1.74    1.0   17.8ms\n",
      "  3   -8.400397926157       -3.84       -2.93    1.2   18.0ms\n",
      "  4   -8.400427771215       -4.53       -2.90    3.2   23.1ms\n",
      "  5   -8.400427763889   +   -8.14       -2.88    1.0   17.5ms\n",
      "  6   -8.400428145218       -6.42       -4.65    1.0   17.4ms\n",
      "  7   -8.400428155440       -7.99       -4.27    3.0   43.2ms\n",
      "  8   -8.400428156249       -9.09       -5.66    1.0   18.0ms\n",
      "  9   -8.400428156277      -10.55       -6.11    2.5   21.9ms\n"
     ]
    }
   ],
   "cell_type": "code",
   "source": [
    "scfres_scf = self_consistent_field(basis; tol);"
   ],
   "metadata": {},
   "execution_count": 2
  },
  {
   "cell_type": "markdown",
   "source": [
    "## Potential-based SCF"
   ],
   "metadata": {}
  },
  {
   "outputs": [
    {
     "name": "stdout",
     "output_type": "stream",
     "text": [
      "n     Energy            log10(ΔE)   log10(Δρ)   α      Diag   Δtime\n",
      "---   ---------------   ---------   ---------   ----   ----   ------\n",
      "  1   -8.397860479585                   -0.90           5.5    555ms\n",
      "  2   -8.400384366540       -2.60       -1.79   0.80    2.0    513ms\n",
      "  3   -8.400422735361       -4.42       -3.01   0.80    1.0    182ms\n",
      "  4   -8.400428105794       -5.27       -3.40   0.80    2.2   18.4ms\n",
      "  5   -8.400428152893       -7.33       -4.53   0.80    1.0   15.0ms\n",
      "  6   -8.400428156239       -8.48       -5.76   0.80    2.8   19.2ms\n",
      "  7   -8.400428156277      -10.42       -5.94   0.80    3.0   52.5ms\n",
      "  8   -8.400428156277      -12.71       -6.97   0.80    1.0   15.6ms\n"
     ]
    }
   ],
   "cell_type": "code",
   "source": [
    "scfres_scfv = DFTK.scf_potential_mixing(basis; tol);"
   ],
   "metadata": {},
   "execution_count": 3
  },
  {
   "cell_type": "markdown",
   "source": [
    "## Direct minimization"
   ],
   "metadata": {}
  },
  {
   "outputs": [
    {
     "name": "stdout",
     "output_type": "stream",
     "text": [
      "┌ Warning: x_tol is deprecated. Use x_abstol or x_reltol instead. The provided value (-1) will be used as x_abstol.\n",
      "└ @ Optim ~/.julia/packages/Optim/8dE7C/src/types.jl:110\n",
      "┌ Warning: f_tol is deprecated. Use f_abstol or f_reltol instead. The provided value (-1) will be used as f_reltol.\n",
      "└ @ Optim ~/.julia/packages/Optim/8dE7C/src/types.jl:120\n",
      "n     Energy            log10(ΔE)   log10(Δρ)   Δtime\n",
      "---   ---------------   ---------   ---------   ------\n",
      "  1   +0.629141041529                   -1.08    2.92s\n",
      "  2   -1.661286302511        0.36       -0.70    114ms\n",
      "  3   -4.486265583030        0.45       -0.41   87.4ms\n",
      "  4   -5.852374881127        0.14       -0.50   39.4ms\n",
      "  5   -7.558060635837        0.23       -0.70   38.9ms\n",
      "  6   -7.718259674941       -0.80       -1.36   53.5ms\n",
      "  7   -8.158719568990       -0.36       -1.60   29.3ms\n",
      "  8   -8.234714036956       -1.12       -1.86   29.3ms\n",
      "  9   -8.273483112864       -1.41       -2.02   29.0ms\n",
      " 10   -8.317358502064       -1.36       -2.14   28.9ms\n",
      " 11   -8.348807485340       -1.50       -2.14   28.9ms\n",
      " 12   -8.374473803882       -1.59       -2.22   33.2ms\n",
      " 13   -8.388481803753       -1.85       -2.57   28.9ms\n",
      " 14   -8.396205580325       -2.11       -2.34   28.9ms\n",
      " 15   -8.398265618457       -2.69       -3.04   28.8ms\n",
      " 16   -8.399430386786       -2.93       -2.93   32.2ms\n",
      " 17   -8.399904408860       -3.32       -3.58   29.2ms\n",
      " 18   -8.400196640187       -3.53       -3.12   29.1ms\n",
      " 19   -8.400309274155       -3.95       -3.62   32.2ms\n",
      " 20   -8.400385564118       -4.12       -3.57   29.2ms\n",
      " 21   -8.400404483960       -4.72       -3.89   32.2ms\n",
      " 22   -8.400420778131       -4.79       -3.94   29.1ms\n",
      " 23   -8.400424015086       -5.49       -4.12   31.7ms\n",
      " 24   -8.400426894630       -5.54       -4.47   29.1ms\n",
      " 25   -8.400427543891       -6.19       -4.75   29.1ms\n",
      " 26   -8.400427920891       -6.42       -5.12   32.0ms\n",
      " 27   -8.400428051618       -6.88       -4.90   29.2ms\n",
      " 28   -8.400428112796       -7.21       -5.74   32.1ms\n",
      " 29   -8.400428133048       -7.69       -5.41   29.2ms\n",
      " 30   -8.400428147208       -7.85       -5.83   29.1ms\n",
      " 31   -8.400428151907       -8.33       -5.80   31.9ms\n",
      " 32   -8.400428154497       -8.59       -6.53   28.9ms\n"
     ]
    }
   ],
   "cell_type": "code",
   "source": [
    "scfres_dm = direct_minimization(basis; tol);"
   ],
   "metadata": {},
   "execution_count": 4
  },
  {
   "cell_type": "markdown",
   "source": [
    "## Newton algorithm"
   ],
   "metadata": {}
  },
  {
   "cell_type": "markdown",
   "source": [
    "Start not too far from the solution to ensure convergence:\n",
    "We run first a very crude SCF to get close and then switch to Newton."
   ],
   "metadata": {}
  },
  {
   "outputs": [
    {
     "name": "stdout",
     "output_type": "stream",
     "text": [
      "n     Energy            log10(ΔE)   log10(Δρ)   Diag   Δtime\n",
      "---   ---------------   ---------   ---------   ----   ------\n",
      "  1   -8.397793313402                   -0.90    5.2   25.3ms\n"
     ]
    }
   ],
   "cell_type": "code",
   "source": [
    "scfres_start = self_consistent_field(basis; tol=0.5);"
   ],
   "metadata": {},
   "execution_count": 5
  },
  {
   "cell_type": "markdown",
   "source": [
    "Remove the virtual orbitals (which Newton cannot treat yet)"
   ],
   "metadata": {}
  },
  {
   "outputs": [
    {
     "name": "stdout",
     "output_type": "stream",
     "text": [
      "n     Energy            log10(ΔE)   log10(Δρ)   Δtime\n",
      "---   ---------------   ---------   ---------   ------\n",
      "  1   -8.400427979362                   -1.78    26.2s\n",
      "  2   -8.400428156277       -6.75       -4.02    2.03s\n",
      "  3   -8.400428156277      -14.45       -7.81    111ms\n"
     ]
    }
   ],
   "cell_type": "code",
   "source": [
    "ψ = DFTK.select_occupied_orbitals(basis, scfres_start.ψ, scfres_start.occupation).ψ\n",
    "scfres_newton = newton(basis, ψ; tol);"
   ],
   "metadata": {},
   "execution_count": 6
  },
  {
   "cell_type": "markdown",
   "source": [
    "## Comparison of results"
   ],
   "metadata": {}
  },
  {
   "outputs": [
    {
     "name": "stdout",
     "output_type": "stream",
     "text": [
      "|ρ_newton - ρ_scf|  = 2.215276473627085e-7\n",
      "|ρ_newton - ρ_scfv| = 1.497337721348362e-7\n",
      "|ρ_newton - ρ_dm|   = 2.005916443000951e-6\n"
     ]
    }
   ],
   "cell_type": "code",
   "source": [
    "println(\"|ρ_newton - ρ_scf|  = \", norm(scfres_newton.ρ - scfres_scf.ρ))\n",
    "println(\"|ρ_newton - ρ_scfv| = \", norm(scfres_newton.ρ - scfres_scfv.ρ))\n",
    "println(\"|ρ_newton - ρ_dm|   = \", norm(scfres_newton.ρ - scfres_dm.ρ))"
   ],
   "metadata": {},
   "execution_count": 7
  }
 ],
 "nbformat_minor": 3,
 "metadata": {
  "language_info": {
   "file_extension": ".jl",
   "mimetype": "application/julia",
   "name": "julia",
   "version": "1.11.5"
  },
  "kernelspec": {
   "name": "julia-1.11",
   "display_name": "Julia 1.11.5",
   "language": "julia"
  }
 },
 "nbformat": 4
}
