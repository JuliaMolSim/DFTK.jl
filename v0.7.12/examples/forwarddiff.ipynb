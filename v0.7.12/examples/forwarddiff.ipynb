{
 "cells": [
  {
   "cell_type": "markdown",
   "source": [
    "# Polarizability using automatic differentiation\n",
    "\n",
    "Simple example for computing properties using (forward-mode)\n",
    "automatic differentiation.\n",
    "For a more classical approach and more details about computing polarizabilities,\n",
    "see Polarizability by linear response."
   ],
   "metadata": {}
  },
  {
   "outputs": [],
   "cell_type": "code",
   "source": [
    "using DFTK\n",
    "using LinearAlgebra\n",
    "using ForwardDiff\n",
    "using PseudoPotentialData\n",
    "\n",
    "# Construct PlaneWaveBasis given a particular electric field strength\n",
    "# Again we take the example of a Helium atom.\n",
    "function make_basis(ε::T; a=10., Ecut=30) where {T}\n",
    "    lattice = T(a) * I(3)  # lattice is a cube of $a$ Bohrs\n",
    "    # Helium at the center of the box\n",
    "    pseudopotentials = PseudoFamily(\"cp2k.nc.sr.lda.v0_1.semicore.gth\")\n",
    "    atoms     = [ElementPsp(:He, pseudopotentials)]\n",
    "    positions = [[1/2, 1/2, 1/2]]\n",
    "\n",
    "    model = model_DFT(lattice, atoms, positions;\n",
    "                      functionals=[:lda_x, :lda_c_vwn],\n",
    "                      extra_terms=[ExternalFromReal(r -> -ε * (r[1] - a/2))],\n",
    "                      symmetries=false)\n",
    "    PlaneWaveBasis(model; Ecut, kgrid=[1, 1, 1])  # No k-point sampling on isolated system\n",
    "end\n",
    "\n",
    "# dipole moment of a given density (assuming the current geometry)\n",
    "function dipole(basis, ρ)\n",
    "    @assert isdiag(basis.model.lattice)\n",
    "    a  = basis.model.lattice[1, 1]\n",
    "    rr = [a * (r[1] - 1/2) for r in r_vectors(basis)]\n",
    "    sum(rr .* ρ) * basis.dvol\n",
    "end\n",
    "\n",
    "# Function to compute the dipole for a given field strength\n",
    "function compute_dipole(ε; tol=1e-8, kwargs...)\n",
    "    scfres = self_consistent_field(make_basis(ε; kwargs...); tol)\n",
    "    dipole(scfres.basis, scfres.ρ)\n",
    "end;"
   ],
   "metadata": {},
   "execution_count": 1
  },
  {
   "cell_type": "markdown",
   "source": [
    "With this in place we can compute the polarizability from finite differences\n",
    "(just like in the previous example):"
   ],
   "metadata": {}
  },
  {
   "outputs": [
    {
     "name": "stdout",
     "output_type": "stream",
     "text": [
      "n     Energy            log10(ΔE)   log10(Δρ)   Diag   Δtime\n",
      "---   ---------------   ---------   ---------   ----   ------\n",
      "  1   -2.770824098385                   -0.53    8.0    161ms\n",
      "  2   -2.772140551488       -2.88       -1.31    1.0   95.4ms\n",
      "  3   -2.772170061356       -4.53       -2.57    1.0    100ms\n",
      "  4   -2.772170668314       -6.22       -3.56    1.0    102ms\n",
      "  5   -2.772170721585       -7.27       -3.93    2.0    120ms\n",
      "  6   -2.772170722981       -8.86       -5.47    1.0    107ms\n",
      "  7   -2.772170723013      -10.49       -5.43    3.0    138ms\n",
      "  8   -2.772170723015      -11.80       -6.46    1.0    112ms\n",
      "  9   -2.772170723015      -13.51       -7.29    2.0    122ms\n",
      " 10   -2.772170723015   +  -13.95       -7.53    1.0    526ms\n",
      " 11   -2.772170723015      -14.40       -8.51    1.0    107ms\n",
      "n     Energy            log10(ΔE)   log10(Δρ)   Diag   Δtime\n",
      "---   ---------------   ---------   ---------   ----   ------\n",
      "  1   -2.770853917426                   -0.53    9.0    197ms\n",
      "  2   -2.772058517942       -2.92       -1.30    1.0   95.5ms\n",
      "  3   -2.772082932366       -4.61       -2.67    1.0    110ms\n",
      "  4   -2.772083394441       -6.34       -4.02    1.0   97.5ms\n",
      "  5   -2.772083417772       -7.63       -4.92    2.0    115ms\n",
      "  6   -2.772083417810      -10.42       -5.72    2.0    116ms\n",
      "  7   -2.772083417811      -12.54       -6.75    1.0    102ms\n",
      "  8   -2.772083417811      -13.78       -7.11    2.0    118ms\n",
      "  9   -2.772083417811      -14.40       -7.84    1.0    108ms\n",
      " 10   -2.772083417811   +  -14.21       -9.08    2.0    121ms\n"
     ]
    },
    {
     "output_type": "execute_result",
     "data": {
      "text/plain": "1.7735579994070851"
     },
     "metadata": {},
     "execution_count": 2
    }
   ],
   "cell_type": "code",
   "source": [
    "polarizability_fd = let\n",
    "    ε = 0.01\n",
    "    (compute_dipole(ε) - compute_dipole(0.0)) / ε\n",
    "end"
   ],
   "metadata": {},
   "execution_count": 2
  },
  {
   "cell_type": "markdown",
   "source": [
    "We do the same thing using automatic differentiation. Under the hood this uses\n",
    "custom rules to implicitly differentiate through the self-consistent\n",
    "field fixed-point problem. This leads to a density-functional perturbation\n",
    "theory problem, which is automatically set up and solved in the background."
   ],
   "metadata": {}
  },
  {
   "outputs": [
    {
     "name": "stdout",
     "output_type": "stream",
     "text": [
      "n     Energy            log10(ΔE)   log10(Δρ)   Diag   Δtime\n",
      "---   ---------------   ---------   ---------   ----   ------\n",
      "  1   -2.770783431162                   -0.52    9.0    545ms\n",
      "  2   -2.772060289750       -2.89       -1.32    1.0   97.0ms\n",
      "  3   -2.772082991169       -4.64       -2.44    1.0    100ms\n",
      "  4   -2.772083329022       -6.47       -3.11    1.0   99.1ms\n",
      "  5   -2.772083417315       -7.05       -4.13    2.0    121ms\n",
      "  6   -2.772083417687       -9.43       -4.59    1.0    104ms\n",
      "  7   -2.772083417809       -9.91       -5.74    1.0    109ms\n",
      "  8   -2.772083417811      -11.80       -6.19    2.0    127ms\n",
      "  9   -2.772083417811      -13.17       -6.63    1.0    114ms\n",
      " 10   -2.772083417811   +  -14.24       -8.01    1.0    112ms\n",
      "Solving response problem\n",
      "[ Info: GMRES linsolve starts with norm of residual = 4.19e+00\n",
      "[ Info: GMRES linsolve in iteration 1; step 1: normres = 2.49e-01\n",
      "[ Info: GMRES linsolve in iteration 1; step 2: normres = 3.76e-03\n",
      "[ Info: GMRES linsolve in iteration 1; step 3: normres = 2.84e-04\n",
      "[ Info: GMRES linsolve in iteration 1; step 4: normres = 4.67e-06\n",
      "[ Info: GMRES linsolve in iteration 1; step 5: normres = 1.08e-08\n",
      "┌ Info: GMRES linsolve converged at iteration 1, step 6:\n",
      "│ * norm of residual = 5.55e-10\n",
      "└ * number of operations = 8\n",
      "\n",
      "Polarizability via ForwardDiff:       1.7725349543572348\n",
      "Polarizability via finite difference: 1.7735579994070851\n"
     ]
    }
   ],
   "cell_type": "code",
   "source": [
    "polarizability = ForwardDiff.derivative(compute_dipole, 0.0)\n",
    "println()\n",
    "println(\"Polarizability via ForwardDiff:       $polarizability\")\n",
    "println(\"Polarizability via finite difference: $polarizability_fd\")"
   ],
   "metadata": {},
   "execution_count": 3
  }
 ],
 "nbformat_minor": 3,
 "metadata": {
  "language_info": {
   "file_extension": ".jl",
   "mimetype": "application/julia",
   "name": "julia",
   "version": "1.11.5"
  },
  "kernelspec": {
   "name": "julia-1.11",
   "display_name": "Julia 1.11.5",
   "language": "julia"
  }
 },
 "nbformat": 4
}
