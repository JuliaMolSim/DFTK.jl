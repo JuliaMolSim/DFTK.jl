{
 "cells": [
  {
   "cell_type": "markdown",
   "source": [
    "# Geometry optimization\n",
    "\n",
    "We use DFTK and the [GeometryOptimization](https://github.com/JuliaMolSim/GeometryOptimization.jl/)\n",
    "package to find the minimal-energy bond length of the $H_2$ molecule.\n",
    "First we set up an appropriate `DFTKCalculator` (see AtomsCalculators integration),\n",
    "for which we use the LDA model just like in the Tutorial for silicon\n",
    "in combination with a pseudodojo pseudopotential (see Pseudopotentials)."
   ],
   "metadata": {}
  },
  {
   "outputs": [
    {
     "output_type": "execute_result",
     "data": {
      "text/plain": "DFTKCalculator(functionals=Xc(lda_x, lda_c_pw), pseudopotentials=PseudoFamily(\"dojo.nc.sr.pbe.v0_4_1.standard.upf\"), Ecut=10, kgrid=[1, 1, 1])"
     },
     "metadata": {},
     "execution_count": 1
    }
   ],
   "cell_type": "code",
   "source": [
    "using DFTK\n",
    "using PseudoPotentialData\n",
    "\n",
    "pseudopotentials = PseudoFamily(\"dojo.nc.sr.pbe.v0_4_1.standard.upf\")\n",
    "calc = DFTKCalculator(;\n",
    "    model_kwargs = (; functionals=LDA(), pseudopotentials),  # model_DFT keyword arguments\n",
    "    basis_kwargs = (; kgrid=[1, 1, 1], Ecut=10)  # PlaneWaveBasis keyword arguments\n",
    ")"
   ],
   "metadata": {},
   "execution_count": 1
  },
  {
   "cell_type": "markdown",
   "source": [
    "Next we set up an initial hydrogen molecule within a box of vacuum.\n",
    "We use the parameters of the\n",
    "[equivalent tutorial from ABINIT](https://docs.abinit.org/tutorial/base1/)\n",
    "and DFTK's AtomsBase integration to setup the hydrogen molecule.\n",
    "We employ a simulation box of 10 bohr times 10 bohr times 10 bohr and a\n",
    "pseudodojo pseudopotential."
   ],
   "metadata": {}
  },
  {
   "outputs": [
    {
     "output_type": "execute_result",
     "data": {
      "text/plain": "FlexibleSystem(H₂, periodicity = TTT):\n    cell_vectors      : [      10        0        0;\n                                0       10        0;\n                                0        0       10]u\"a₀\"\n\n    Atom(H,  [       0,        0,        0]u\"a₀\")\n    Atom(H,  [     1.4,        0,        0]u\"a₀\")\n"
     },
     "metadata": {},
     "execution_count": 2
    }
   ],
   "cell_type": "code",
   "source": [
    "using LinearAlgebra\n",
    "using Unitful\n",
    "using UnitfulAtomic\n",
    "\n",
    "r0 = 1.4   # Initial bond length in Bohr\n",
    "a  = 10.0  # Box size in Bohr\n",
    "\n",
    "cell_vectors = [[a, 0, 0]u\"bohr\", [0, a, 0]u\"bohr\", [0, 0, a]u\"bohr\"]\n",
    "h2_crude = periodic_system([:H => [0, 0, 0.]u\"bohr\",\n",
    "                            :H => [r0, 0, 0]u\"bohr\"],\n",
    "                           cell_vectors)"
   ],
   "metadata": {},
   "execution_count": 2
  },
  {
   "cell_type": "markdown",
   "source": [
    "Finally we call `minimize_energy!` to start the geometry optimisation.\n",
    "We use `verbosity=2` to get some insight into the minimisation.\n",
    "With `verbosity=1` only a summarising table would be printed and with\n",
    "`verbosity=0` (default) the minimisation would be quiet."
   ],
   "metadata": {}
  },
  {
   "outputs": [
    {
     "name": "stdout",
     "output_type": "stream",
     "text": [
      "n     Energy            log10(ΔE)   log10(Δρ)   α      Diag   Δtime\n",
      "---   ---------------   ---------   ---------   ----   ----   ------\n",
      "  1   -1.110741741592                   -0.82   0.80    7.0    5.95s\n",
      "  2   -1.117207411761       -2.19       -1.88   0.80    1.0    3.11s\n",
      "  3   -1.117250807367       -4.36       -2.73   0.80    1.0   44.8ms\n",
      "  4   -1.117251300964       -6.31       -3.61   0.80    1.0   17.8ms\n",
      "  5   -1.117251309356       -8.08       -4.06   0.80    1.0   17.9ms\n",
      "  6   -1.117251310219       -9.06       -4.56   0.80    1.0   19.8ms\n",
      "  7   -1.117251310377       -9.80       -5.95   0.80    1.0   20.4ms\n",
      "  8   -1.117251310381      -11.41       -5.94   0.80    2.0   22.2ms\n",
      "  9   -1.117251310381      -12.44       -6.70   0.80    1.0   19.4ms\n",
      " 10   -1.117251310381      -14.03       -8.05   0.80    1.0   21.3ms\n",
      " 11   -1.117251310381   +  -14.95       -8.31   0.80    2.0    100ms\n",
      " 12   -1.117251310381   +  -15.65       -9.11   0.80    1.0    408ms\n",
      "n     Energy            log10(ΔE)   log10(Δρ)   α      Diag   Δtime\n",
      "---   ---------------   ---------   ---------   ----   ----   ------\n",
      "  1   -1.117251310381                   -9.62   0.80    1.0    2.53s\n",
      "  2   -1.117251310381   +  -15.05      -10.69   0.80    1.0   18.5ms\n",
      "\n",
      "Geometry optimisation convergence (in atomic units)\n",
      "┌─────┬─────────────────┬───────────┬────────────┬────────┐\n",
      "│   n │          Energy │ log10(ΔE) │ max(Force) │  Δtime │\n",
      "├─────┼─────────────────┼───────────┼────────────┼────────┤\n",
      "│   0 │ -1.117251310381 │           │  0.0269317 │  25.4s │\n",
      "└─────┴─────────────────┴───────────┴────────────┴────────┘\n",
      "\n",
      "n     Energy            log10(ΔE)   log10(Δρ)   α      Diag   Δtime\n",
      "---   ---------------   ---------   ---------   ----   ----   ------\n",
      "  1   -1.117518116478                   -2.46   0.80    1.0   13.2ms\n",
      "  2   -1.117520704463       -5.59       -3.49   0.80    1.0   47.5ms\n",
      "  3   -1.117520731397       -7.57       -4.23   0.80    1.0   17.6ms\n",
      "  4   -1.117520731860       -9.33       -5.14   0.80    1.0   17.9ms\n",
      "  5   -1.117520731876      -10.81       -5.92   0.80    1.0   33.0ms\n",
      "  6   -1.117520731877      -12.13       -6.42   0.80    1.0   18.8ms\n",
      "  7   -1.117520731877      -13.31       -7.39   0.80    1.0   20.6ms\n",
      "  8   -1.117520731877   +  -14.51       -8.18   0.80    1.0   21.9ms\n",
      "  9   -1.117520731877      -14.81       -8.96   0.80    1.0   19.7ms\n",
      "n     Energy            log10(ΔE)   log10(Δρ)   α      Diag   Δtime\n",
      "---   ---------------   ---------   ---------   ----   ----   ------\n",
      "  1   -1.118247378324                   -1.69   0.80    1.0   10.8ms\n",
      "  2   -1.118339157195       -4.04       -2.70   0.80    1.0   17.2ms\n",
      "  3   -1.118340124369       -6.01       -3.44   0.80    1.0   19.3ms\n",
      "  4   -1.118340141809       -7.76       -4.36   0.80    1.0   19.5ms\n",
      "  5   -1.118340142394       -9.23       -5.12   0.80    1.0   18.3ms\n",
      "  6   -1.118340142421      -10.57       -5.62   0.80    1.0   20.2ms\n",
      "  7   -1.118340142422      -11.73       -6.68   0.80    1.0   20.7ms\n",
      "  8   -1.118340142422      -13.55       -7.58   0.80    1.0   21.2ms\n",
      "  9   -1.118340142422   +    -Inf       -8.12   0.80    1.0   22.0ms\n",
      " 10   -1.118340142422      -14.65       -8.55   0.80    1.0   21.4ms\n",
      "n     Energy            log10(ΔE)   log10(Δρ)   α      Diag   Δtime\n",
      "---   ---------------   ---------   ---------   ----   ----   ------\n",
      "  1   -1.118340142422                   -9.05   0.80    1.0   10.9ms\n",
      "  2   -1.118340142422   +    -Inf      -10.36   0.80    1.0   22.8ms\n",
      "\n",
      "┌─────┬─────────────────┬───────────┬────────────┬────────┐\n",
      "│   n │          Energy │ log10(ΔE) │ max(Force) │  Δtime │\n",
      "├─────┼─────────────────┼───────────┼────────────┼────────┤\n",
      "│   1 │ -1.118340142422 │     -2.96 │ 0.00297053 │  1.83s │\n",
      "└─────┴─────────────────┴───────────┴────────────┴────────┘\n",
      "\n",
      "n     Energy            log10(ΔE)   log10(Δρ)   α      Diag   Δtime\n",
      "---   ---------------   ---------   ---------   ----   ----   ------\n",
      "  1   -1.118346834679                   -3.09   0.80    1.0   16.5ms\n",
      "  2   -1.118346977929       -6.84       -4.11   0.80    1.0   17.4ms\n",
      "  3   -1.118346979406       -8.83       -4.86   0.80    1.0   22.0ms\n",
      "  4   -1.118346979432      -10.59       -5.78   0.80    1.0   18.0ms\n",
      "  5   -1.118346979433      -12.08       -6.55   0.80    1.0   20.3ms\n",
      "  6   -1.118346979433      -13.40       -7.04   0.80    1.0   18.5ms\n",
      "  7   -1.118346979433   +  -15.35       -8.13   0.80    1.0   20.7ms\n",
      "  8   -1.118346979433      -14.57       -8.95   0.80    1.0   20.8ms\n",
      "n     Energy            log10(ΔE)   log10(Δρ)   α      Diag   Δtime\n",
      "---   ---------------   ---------   ---------   ----   ----   ------\n",
      "  1   -1.118354837062                   -2.61   0.80    1.0   13.5ms\n",
      "  2   -1.118356200096       -5.87       -3.62   0.80    1.0   17.4ms\n",
      "  3   -1.118356214170       -7.85       -4.37   0.80    1.0   19.3ms\n",
      "  4   -1.118356214417       -9.61       -5.29   0.80    1.0   19.6ms\n",
      "  5   -1.118356214425      -11.10       -6.06   0.80    1.0   19.9ms\n",
      "  6   -1.118356214425      -12.45       -6.55   0.80    1.0   18.4ms\n",
      "  7   -1.118356214425      -13.57       -7.65   0.80    1.0   20.8ms\n",
      "  8   -1.118356214425   +  -14.54       -8.45   0.80    1.0   21.6ms\n",
      "n     Energy            log10(ΔE)   log10(Δρ)   α      Diag   Δtime\n",
      "---   ---------------   ---------   ---------   ----   ----   ------\n",
      "  1   -1.118356214425                   -9.24   0.80    1.0   10.7ms\n",
      "  2   -1.118356214425   +  -15.35       -9.82   0.80    1.0   20.0ms\n",
      "\n",
      "┌─────┬─────────────────┬───────────┬────────────┬────────┐\n",
      "│   n │          Energy │ log10(ΔE) │ max(Force) │  Δtime │\n",
      "├─────┼─────────────────┼───────────┼────────────┼────────┤\n",
      "│   2 │ -1.118356214425 │     -4.79 │ 4.47261e-5 │  527ms │\n",
      "└─────┴─────────────────┴───────────┴────────────┴────────┘\n",
      "\n",
      "n     Energy            log10(ΔE)   log10(Δρ)   α      Diag   Δtime\n",
      "---   ---------------   ---------   ---------   ----   ----   ------\n",
      "  1   -1.118356215887                   -4.94   0.80    1.0   13.6ms\n",
      "  2   -1.118356215917      -10.54       -5.96   0.80    1.0   17.4ms\n",
      "  3   -1.118356215917      -12.53       -6.70   0.80    1.0   19.4ms\n",
      "  4   -1.118356215917      -14.22       -7.62   0.80    1.0   19.7ms\n",
      "  5   -1.118356215917   +  -15.05       -8.39   0.80    1.0   19.7ms\n",
      "  6   -1.118356215917      -14.88       -8.89   0.80    1.0   18.4ms\n",
      "n     Energy            log10(ΔE)   log10(Δρ)   α      Diag   Δtime\n",
      "---   ---------------   ---------   ---------   ----   ----   ------\n",
      "  1   -1.118356217810                   -4.40   0.80    1.0   13.5ms\n",
      "  2   -1.118356218156       -9.46       -5.42   0.80    1.0   17.2ms\n",
      "  3   -1.118356218159      -11.45       -6.17   0.80    1.0   19.4ms\n",
      "  4   -1.118356218159      -13.19       -7.09   0.80    1.0   19.5ms\n",
      "  5   -1.118356218159      -14.57       -7.86   0.80    1.0   19.7ms\n",
      "  6   -1.118356218159   +  -14.65       -8.35   0.80    1.0   18.7ms\n",
      "  7   -1.118356218159      -15.18       -9.45   0.80    1.0   20.8ms\n",
      "n     Energy            log10(ΔE)   log10(Δρ)   α      Diag   Δtime\n",
      "---   ---------------   ---------   ---------   ----   ----   ------\n",
      "  1   -1.118356218159                  -10.08   0.80    1.0   13.5ms\n",
      "  2   -1.118356218159   +    -Inf      -11.02   0.80    1.0   17.5ms\n",
      "\n",
      "┌─────┬─────────────────┬───────────┬────────────┬────────┐\n",
      "│   n │          Energy │ log10(ΔE) │ max(Force) │  Δtime │\n",
      "├─────┼─────────────────┼───────────┼────────────┼────────┤\n",
      "│   3 │ -1.118356218159 │     -8.43 │ 1.03318e-8 │  452ms │\n",
      "└─────┴─────────────────┴───────────┴────────────┴────────┘\n",
      "\n"
     ]
    }
   ],
   "cell_type": "code",
   "source": [
    "using GeometryOptimization\n",
    "results = minimize_energy!(h2_crude, calc; tol_forces=2e-6, verbosity=2)\n",
    "nothing  # hide"
   ],
   "metadata": {},
   "execution_count": 3
  },
  {
   "cell_type": "markdown",
   "source": [
    "Structure after optimisation (note that the atom has wrapped around)"
   ],
   "metadata": {}
  },
  {
   "outputs": [
    {
     "output_type": "execute_result",
     "data": {
      "text/plain": "FlexibleSystem(H₂, periodicity = TTT):\n    cell_vectors      : [      10        0        0;\n                                0       10        0;\n                                0        0       10]u\"a₀\"\n\n    Atom(H,  [-0.0431828, 1.06174e-10, 4.19776e-11]u\"a₀\")\n    Atom(H,  [ 1.44318, 1.06508e-10, 4.26745e-11]u\"a₀\")\n"
     },
     "metadata": {},
     "execution_count": 4
    }
   ],
   "cell_type": "code",
   "source": [
    "results.system"
   ],
   "metadata": {},
   "execution_count": 4
  },
  {
   "cell_type": "markdown",
   "source": [
    "Compute final bond length:"
   ],
   "metadata": {}
  },
  {
   "outputs": [
    {
     "name": "stdout",
     "output_type": "stream",
     "text": [
      "Optimal bond length: 1.4863655851132858 a₀\n"
     ]
    }
   ],
   "cell_type": "code",
   "source": [
    "rmin = norm(position(results.system[1]) - position(results.system[2]))\n",
    "println(\"Optimal bond length: \", rmin)"
   ],
   "metadata": {},
   "execution_count": 5
  },
  {
   "cell_type": "markdown",
   "source": [
    "Our results (1.486 Bohr) agrees with the\n",
    "[equivalent tutorial from ABINIT](https://docs.abinit.org/tutorial/base1/)."
   ],
   "metadata": {}
  }
 ],
 "nbformat_minor": 3,
 "metadata": {
  "language_info": {
   "file_extension": ".jl",
   "mimetype": "application/julia",
   "name": "julia",
   "version": "1.11.5"
  },
  "kernelspec": {
   "name": "julia-1.11",
   "display_name": "Julia 1.11.5",
   "language": "julia"
  }
 },
 "nbformat": 4
}
