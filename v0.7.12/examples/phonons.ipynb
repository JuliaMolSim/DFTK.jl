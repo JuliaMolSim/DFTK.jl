{
 "cells": [
  {
   "cell_type": "markdown",
   "source": [
    "# Phonon computations\n",
    "\n",
    "This is a quick sketch how to run a simple phonon calculation using DFTK.\n",
    "First we run an SCF calculation."
   ],
   "metadata": {}
  },
  {
   "outputs": [
    {
     "name": "stdout",
     "output_type": "stream",
     "text": [
      "n     Energy            log10(ΔE)   log10(Δρ)   Diag   Δtime\n",
      "---   ---------------   ---------   ---------   ----   ------\n",
      "  1   -7.916408080526                   -0.69    4.9    136ms\n",
      "  2   -7.921204613443       -2.32       -1.52    1.0   50.6ms\n",
      "  3   -7.921406854222       -3.69       -2.49    1.5   55.9ms\n",
      "  4   -7.921440967518       -4.47       -2.85    2.5   87.2ms\n",
      "  5   -7.921441720599       -6.12       -3.08    1.0   51.9ms\n",
      "  6   -7.921442009621       -6.54       -4.51    1.0   51.7ms\n",
      "  7   -7.921442021899       -7.91       -4.68    2.9   80.5ms\n",
      "  8   -7.921442022133       -9.63       -5.40    1.1   57.4ms\n",
      "  9   -7.921442022143      -11.03       -5.80    1.8   62.3ms\n",
      " 10   -7.921442022144      -11.91       -6.18    1.0   53.8ms\n",
      " 11   -7.921442022144      -12.87       -6.93    1.1   57.3ms\n",
      " 12   -7.921442022144      -13.82       -7.35    2.1   70.1ms\n",
      " 13   -7.921442022144      -14.45       -8.02    1.0    102ms\n"
     ]
    }
   ],
   "cell_type": "code",
   "source": [
    "using AtomsBuilder\n",
    "using DFTK\n",
    "using PseudoPotentialData\n",
    "\n",
    "pseudopotentials = PseudoFamily(\"cp2k.nc.sr.lda.v0_1.semicore.gth\")\n",
    "model  = model_DFT(bulk(:Si); pseudopotentials, functionals=LDA())\n",
    "basis  = PlaneWaveBasis(model; Ecut=10, kgrid=[4, 4, 4])\n",
    "scfres = self_consistent_field(basis, tol=1e-8);\n",
    "nothing  # hide"
   ],
   "metadata": {},
   "execution_count": 1
  },
  {
   "cell_type": "markdown",
   "source": [
    "Next we compute the phonon modes at the q-point `[1/4, 1/4, 1/4]`."
   ],
   "metadata": {}
  },
  {
   "outputs": [
    {
     "name": "stdout",
     "output_type": "stream",
     "text": [
      "153.806797 seconds (157.47 M allocations: 104.617 GiB, 6.80% gc time, 26.31% compilation time)\n"
     ]
    }
   ],
   "cell_type": "code",
   "source": [
    "scfres = DFTK.unfold_bz(scfres)\n",
    "phret_q0 = @time DFTK.phonon_modes(scfres; q=[0.25, 0.25, 0.25]);\n",
    "nothing  # hide"
   ],
   "metadata": {},
   "execution_count": 2
  },
  {
   "cell_type": "markdown",
   "source": [
    "These are the final phonon frequencies:"
   ],
   "metadata": {}
  },
  {
   "outputs": [
    {
     "output_type": "execute_result",
     "data": {
      "text/plain": "6-element Vector{Float64}:\n -0.003498155348362473\n -0.002977451152670728\n -0.002977451152474988\n  0.004302230651584787\n  0.004302230651763401\n  0.004353201780326841"
     },
     "metadata": {},
     "execution_count": 3
    }
   ],
   "cell_type": "code",
   "source": [
    "phret_q0.frequencies"
   ],
   "metadata": {},
   "execution_count": 3
  }
 ],
 "nbformat_minor": 3,
 "metadata": {
  "language_info": {
   "file_extension": ".jl",
   "mimetype": "application/julia",
   "name": "julia",
   "version": "1.11.5"
  },
  "kernelspec": {
   "name": "julia-1.11",
   "display_name": "Julia 1.11.5",
   "language": "julia"
  }
 },
 "nbformat": 4
}
