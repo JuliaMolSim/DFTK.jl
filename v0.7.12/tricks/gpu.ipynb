{
 "cells": [
  {
   "cell_type": "markdown",
   "source": [
    "# Using DFTK on GPUs\n",
    "\n",
    "In this example we will look how DFTK can be used on\n",
    "Graphics Processing Units.\n",
    "In its current state runs based on Nvidia GPUs\n",
    "using the [CUDA.jl](https://github.com/JuliaGPU/CUDA.jl) Julia\n",
    "package are better supported and there are considerably less rough\n",
    "edges.\n",
    "\n",
    "> **GPU parallelism not supported everywhere**\n",
    ">\n",
    "> GPU support is still a relatively new feature in DFTK.\n",
    "> While basic SCF computations and e.g. forces are supported,\n",
    "> this is not yet the case for all parts of the code.\n",
    "> In most cases there is no intrinsic limitation and typically it only takes\n",
    "> minor code modification to make it work on GPUs.\n",
    "> If you require GPU support in one of our routines, where this is not\n",
    "> yet supported, feel free to open an issue on github or otherwise get in touch."
   ],
   "metadata": {}
  },
  {
   "outputs": [],
   "cell_type": "code",
   "source": [
    "using AtomsBuilder\n",
    "using DFTK\n",
    "using PseudoPotentialData"
   ],
   "metadata": {},
   "execution_count": 1
  },
  {
   "cell_type": "markdown",
   "source": [
    "**Model setup.** First step is to setup a `Model` in DFTK.\n",
    "This proceeds exactly as in the standard CPU case\n",
    "(see also our Tutorial)."
   ],
   "metadata": {}
  },
  {
   "outputs": [],
   "cell_type": "code",
   "source": [
    "silicon = bulk(:Si)\n",
    "\n",
    "model  = model_DFT(silicon;\n",
    "                   functionals=PBE(),\n",
    "                   pseudopotentials=PseudoFamily(\"dojo.nc.sr.pbe.v0_4_1.standard.upf\"))\n",
    "nothing  # hide"
   ],
   "metadata": {},
   "execution_count": 2
  },
  {
   "cell_type": "markdown",
   "source": [
    "Next is the selection of the computational architecture.\n",
    "This effectively makes the choice, whether the computation will be run\n",
    "on the CPU or on a GPU.\n",
    "\n",
    "**Nvidia GPUs.**\n",
    "Supported via [CUDA.jl](https://github.com/JuliaGPU/CUDA.jl).\n",
    "Right now `Libxc` only supports CUDA 11,\n",
    "so we need to explicitly request the 11.8 CUDA runtime:"
   ],
   "metadata": {}
  },
  {
   "outputs": [
    {
     "name": "stdout",
     "output_type": "stream",
     "text": [
      "[ Info: Configure the active project to use CUDA 11.8; please re-start Julia for this to take effect.\n"
     ]
    },
    {
     "output_type": "execute_result",
     "data": {
      "text/plain": "DFTK.GPU{CUDA.CuArray}()"
     },
     "metadata": {},
     "execution_count": 3
    }
   ],
   "cell_type": "code",
   "source": [
    "using CUDA\n",
    "CUDA.set_runtime_version!(v\"11.8\")  # Note: This requires a restart of Julia\n",
    "architecture = DFTK.GPU(CuArray)"
   ],
   "metadata": {},
   "execution_count": 3
  },
  {
   "cell_type": "markdown",
   "source": [
    "**AMD GPUs.** Supported via [AMDGPU.jl](https://github.com/JuliaGPU/AMDGPU.jl).\n",
    "Here you need to [install ROCm](https://rocm.docs.amd.com/) manually.\n",
    "With that in place you can then select:"
   ],
   "metadata": {}
  },
  {
   "outputs": [
    {
     "output_type": "execute_result",
     "data": {
      "text/plain": "DFTK.GPU{AMDGPU.ROCArray}()"
     },
     "metadata": {},
     "execution_count": 4
    }
   ],
   "cell_type": "code",
   "source": [
    "using AMDGPU\n",
    "architecture = DFTK.GPU(ROCArray)"
   ],
   "metadata": {},
   "execution_count": 4
  },
  {
   "cell_type": "markdown",
   "source": [
    "**Portable architecture selection.**\n",
    "To make sure this script runs on the github CI (where we don't have GPUs\n",
    "available) we check for the availability of GPUs before selecting an\n",
    "architecture:"
   ],
   "metadata": {}
  },
  {
   "outputs": [
    {
     "output_type": "execute_result",
     "data": {
      "text/plain": "DFTK.CPU()"
     },
     "metadata": {},
     "execution_count": 5
    }
   ],
   "cell_type": "code",
   "source": [
    "architecture = has_cuda() ? DFTK.GPU(CuArray) : DFTK.CPU()"
   ],
   "metadata": {},
   "execution_count": 5
  },
  {
   "cell_type": "markdown",
   "source": [
    "**Basis and SCF.**\n",
    "Based on the `architecture` we construct a `PlaneWaveBasis` object\n",
    "as usual:"
   ],
   "metadata": {}
  },
  {
   "outputs": [],
   "cell_type": "code",
   "source": [
    "basis  = PlaneWaveBasis(model; Ecut=30, kgrid=(5, 5, 5), architecture)\n",
    "nothing  # hide"
   ],
   "metadata": {},
   "execution_count": 6
  },
  {
   "cell_type": "markdown",
   "source": [
    "... and run the SCF and some post-processing:"
   ],
   "metadata": {}
  },
  {
   "outputs": [
    {
     "name": "stdout",
     "output_type": "stream",
     "text": [
      "n     Energy            log10(ΔE)   log10(Δρ)   Diag   Δtime\n",
      "---   ---------------   ---------   ---------   ----   ------\n",
      "  1   -8.457794835537                   -0.94    5.4    4.51s\n",
      "  2   -8.459902661378       -2.68       -1.79    1.0    2.22s\n",
      "  3   -8.460055001716       -3.82       -2.91    2.2    425ms\n",
      "  4   -8.460064827817       -5.01       -3.41    2.9    507ms\n",
      "  5   -8.460064912734       -7.07       -3.99    1.6    357ms\n",
      "  6   -8.460064920264       -8.12       -5.22    1.8    384ms\n",
      "  7   -8.460064920676       -9.39       -5.52    3.4    556ms\n",
      "  8   -8.460064920680      -11.46       -6.42    1.0    313ms\n"
     ]
    },
    {
     "output_type": "execute_result",
     "data": {
      "text/plain": "2-element Vector{StaticArraysCore.SVector{3, Float64}}:\n [-1.3436212867122692e-14, -1.3735065952625096e-14, -1.843419811527009e-14]\n [1.520098257072764e-14, 1.6187347619217484e-14, 1.81556731815166e-14]"
     },
     "metadata": {},
     "execution_count": 7
    }
   ],
   "cell_type": "code",
   "source": [
    "scfres = self_consistent_field(basis; tol=1e-6)\n",
    "compute_forces(scfres)"
   ],
   "metadata": {},
   "execution_count": 7
  },
  {
   "cell_type": "markdown",
   "source": [
    "> **GPU performance**\n",
    ">\n",
    "> Our current (February 2025) benchmarks show DFTK to have reasonable performance\n",
    "> on Nvidia / CUDA GPUs with a 50-fold to 100-fold speed-up over single-threaded\n",
    "> CPU execution. However, support on AMD GPUs has been less benchmarked and\n",
    "> there are likely rough edges. Overall this feature is relatively new\n",
    "> and we appreciate any experience reports or bug reports."
   ],
   "metadata": {}
  }
 ],
 "nbformat_minor": 3,
 "metadata": {
  "language_info": {
   "file_extension": ".jl",
   "mimetype": "application/julia",
   "name": "julia",
   "version": "1.11.5"
  },
  "kernelspec": {
   "name": "julia-1.11",
   "display_name": "Julia 1.11.5",
   "language": "julia"
  }
 },
 "nbformat": 4
}
