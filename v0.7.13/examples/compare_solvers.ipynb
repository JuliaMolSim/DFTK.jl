{
 "cells": [
  {
   "cell_type": "markdown",
   "source": [
    "# Comparison of DFT solvers"
   ],
   "metadata": {}
  },
  {
   "cell_type": "markdown",
   "source": [
    "We compare four different approaches for solving the DFT minimisation problem,\n",
    "namely a density-based SCF, a potential-based SCF, direct minimisation and Newton."
   ],
   "metadata": {}
  },
  {
   "cell_type": "markdown",
   "source": [
    "First we setup our problem"
   ],
   "metadata": {}
  },
  {
   "outputs": [
    {
     "output_type": "execute_result",
     "data": {
      "text/plain": "1.0e-6"
     },
     "metadata": {},
     "execution_count": 1
    }
   ],
   "cell_type": "code",
   "source": [
    "using AtomsBuilder\n",
    "using DFTK\n",
    "using LinearAlgebra\n",
    "using PseudoPotentialData\n",
    "\n",
    "pseudopotentials = PseudoFamily(\"dojo.nc.sr.pbesol.v0_4_1.standard.upf\")\n",
    "model = model_DFT(bulk(:Si); functionals=PBEsol(), pseudopotentials)\n",
    "basis = PlaneWaveBasis(model; Ecut=5, kgrid=[3, 3, 3])\n",
    "\n",
    "# Convergence we desire in the density\n",
    "tol = 1e-6"
   ],
   "metadata": {},
   "execution_count": 1
  },
  {
   "cell_type": "markdown",
   "source": [
    "## Density-based self-consistent field"
   ],
   "metadata": {}
  },
  {
   "outputs": [
    {
     "name": "stdout",
     "output_type": "stream",
     "text": [
      "n     Energy            log10(ΔE)   log10(Δρ)   Diag   Δtime\n",
      "---   ---------------   ---------   ---------   ----   ------\n",
      "  1   -8.397865300482                   -0.90    5.0   24.5ms\n",
      "  2   -8.400242950387       -2.62       -1.74    1.0   17.8ms\n",
      "  3   -8.400405102446       -3.79       -2.97    1.5   18.8ms\n",
      "  4   -8.400427840399       -4.64       -2.97    3.2   54.8ms\n",
      "  5   -8.400427905174       -7.19       -3.01    1.0   18.4ms\n",
      "  6   -8.400428149272       -6.61       -4.44    1.0   18.7ms\n",
      "  7   -8.400428155749       -8.19       -4.41    2.2   22.2ms\n",
      "  8   -8.400428156251       -9.30       -5.22    1.0   18.9ms\n",
      "  9   -8.400428156275      -10.62       -6.53    1.2   19.3ms\n"
     ]
    }
   ],
   "cell_type": "code",
   "source": [
    "scfres_scf = self_consistent_field(basis; tol);"
   ],
   "metadata": {},
   "execution_count": 2
  },
  {
   "cell_type": "markdown",
   "source": [
    "## Potential-based SCF"
   ],
   "metadata": {}
  },
  {
   "outputs": [
    {
     "name": "stdout",
     "output_type": "stream",
     "text": [
      "n     Energy            log10(ΔE)   log10(Δρ)   α      Diag   Δtime\n",
      "---   ---------------   ---------   ---------   ----   ----   ------\n",
      "  1   -8.397772680049                   -0.90           5.0    622ms\n",
      "  2   -8.400381604026       -2.58       -1.79   0.80    2.0    623ms\n",
      "  3   -8.400422151621       -4.39       -3.02   0.80    1.0    198ms\n",
      "  4   -8.400428105347       -5.23       -3.42   0.80    2.5   19.4ms\n",
      "  5   -8.400428152419       -7.33       -4.56   0.80    1.0   15.7ms\n",
      "  6   -8.400428156249       -8.42       -5.35   0.80    2.2   19.6ms\n",
      "  7   -8.400428156276      -10.57       -6.55   0.80    2.0   18.5ms\n"
     ]
    }
   ],
   "cell_type": "code",
   "source": [
    "scfres_scfv = DFTK.scf_potential_mixing(basis; tol);"
   ],
   "metadata": {},
   "execution_count": 3
  },
  {
   "cell_type": "markdown",
   "source": [
    "## Direct minimization"
   ],
   "metadata": {}
  },
  {
   "outputs": [
    {
     "name": "stdout",
     "output_type": "stream",
     "text": [
      "┌ Warning: x_tol is deprecated. Use x_abstol or x_reltol instead. The provided value (-1) will be used as x_abstol.\n",
      "└ @ Optim ~/.julia/packages/Optim/8dE7C/src/types.jl:110\n",
      "┌ Warning: f_tol is deprecated. Use f_abstol or f_reltol instead. The provided value (-1) will be used as f_reltol.\n",
      "└ @ Optim ~/.julia/packages/Optim/8dE7C/src/types.jl:120\n",
      "n     Energy            log10(ΔE)   log10(Δρ)   Δtime\n",
      "---   ---------------   ---------   ---------   ------\n",
      "  1   +0.997956043364                   -1.04    3.11s\n",
      "  2   -1.341872910571        0.37       -0.69    115ms\n",
      "  3   -4.344656862808        0.48       -0.43   39.0ms\n",
      "  4   -5.752156965889        0.15       -0.53   70.7ms\n",
      "  5   -7.278399890699        0.18       -0.78   39.5ms\n",
      "  6   -7.413752934656       -0.87       -1.39   30.8ms\n",
      "  7   -7.983533223286       -0.24       -1.48   29.1ms\n",
      "  8   -8.221987658946       -0.62       -1.55   57.4ms\n",
      "  9   -8.301103420641       -1.10       -1.62   30.7ms\n",
      " 10   -8.356483030175       -1.26       -2.06   29.2ms\n",
      " 11   -8.380471525028       -1.62       -2.44   28.7ms\n",
      " 12   -8.390412970041       -2.00       -2.70   28.9ms\n",
      " 13   -8.396218069850       -2.24       -2.63   32.9ms\n",
      " 14   -8.398565232960       -2.63       -2.67   29.1ms\n",
      " 15   -8.399689913652       -2.95       -3.45   29.0ms\n",
      " 16   -8.400090227502       -3.40       -3.12   28.7ms\n",
      " 17   -8.400292825793       -3.69       -3.92   32.1ms\n",
      " 18   -8.400361484141       -4.16       -3.44   29.1ms\n",
      " 19   -8.400400618402       -4.41       -4.78   29.3ms\n",
      " 20   -8.400413116906       -4.90       -3.80   32.1ms\n",
      " 21   -8.400422313012       -5.04       -4.58   28.9ms\n",
      " 22   -8.400424474909       -5.67       -4.11   29.0ms\n",
      " 23   -8.400427097249       -5.58       -4.79   31.9ms\n",
      " 24   -8.400427531631       -6.36       -4.57   30.2ms\n",
      " 25   -8.400427931681       -6.40       -5.11   32.2ms\n",
      " 26   -8.400428028006       -7.02       -4.89   29.3ms\n",
      " 27   -8.400428105577       -7.11       -5.23   29.1ms\n",
      " 28   -8.400428129085       -7.63       -5.25   31.8ms\n",
      " 29   -8.400428146000       -7.77       -5.38   29.1ms\n",
      " 30   -8.400428151128       -8.29       -5.58   29.3ms\n",
      " 31   -8.400428154095       -8.53       -5.70   32.1ms\n",
      " 32   -8.400428155288       -8.92       -5.91   29.2ms\n",
      " 33   -8.400428155837       -9.26       -6.11   32.2ms\n"
     ]
    }
   ],
   "cell_type": "code",
   "source": [
    "scfres_dm = direct_minimization(basis; tol);"
   ],
   "metadata": {},
   "execution_count": 4
  },
  {
   "cell_type": "markdown",
   "source": [
    "## Newton algorithm"
   ],
   "metadata": {}
  },
  {
   "cell_type": "markdown",
   "source": [
    "Start not too far from the solution to ensure convergence:\n",
    "We run first a very crude SCF to get close and then switch to Newton."
   ],
   "metadata": {}
  },
  {
   "outputs": [
    {
     "name": "stdout",
     "output_type": "stream",
     "text": [
      "n     Energy            log10(ΔE)   log10(Δρ)   Diag   Δtime\n",
      "---   ---------------   ---------   ---------   ----   ------\n",
      "  1   -8.397834513131                   -0.90    5.0   24.7ms\n"
     ]
    }
   ],
   "cell_type": "code",
   "source": [
    "scfres_start = self_consistent_field(basis; tol=0.5);"
   ],
   "metadata": {},
   "execution_count": 5
  },
  {
   "cell_type": "markdown",
   "source": [
    "Remove the virtual orbitals (which Newton cannot treat yet)"
   ],
   "metadata": {}
  },
  {
   "outputs": [
    {
     "name": "stdout",
     "output_type": "stream",
     "text": [
      "n     Energy            log10(ΔE)   log10(Δρ)   Δtime\n",
      "---   ---------------   ---------   ---------   ------\n",
      "  1   -8.400427965486                   -1.78    26.4s\n",
      "  2   -8.400428156277       -6.72       -4.00    2.08s\n",
      "  3   -8.400428156277      -14.75       -7.78   94.7ms\n"
     ]
    }
   ],
   "cell_type": "code",
   "source": [
    "ψ = DFTK.select_occupied_orbitals(basis, scfres_start.ψ, scfres_start.occupation).ψ\n",
    "scfres_newton = newton(basis, ψ; tol);"
   ],
   "metadata": {},
   "execution_count": 6
  },
  {
   "cell_type": "markdown",
   "source": [
    "## Comparison of results"
   ],
   "metadata": {}
  },
  {
   "outputs": [
    {
     "name": "stdout",
     "output_type": "stream",
     "text": [
      "|ρ_newton - ρ_scf|  = 5.402882769486723e-7\n",
      "|ρ_newton - ρ_scfv| = 2.453357458693683e-7\n",
      "|ρ_newton - ρ_dm|   = 1.4568376815205163e-6\n"
     ]
    }
   ],
   "cell_type": "code",
   "source": [
    "println(\"|ρ_newton - ρ_scf|  = \", norm(scfres_newton.ρ - scfres_scf.ρ))\n",
    "println(\"|ρ_newton - ρ_scfv| = \", norm(scfres_newton.ρ - scfres_scfv.ρ))\n",
    "println(\"|ρ_newton - ρ_dm|   = \", norm(scfres_newton.ρ - scfres_dm.ρ))"
   ],
   "metadata": {},
   "execution_count": 7
  }
 ],
 "nbformat_minor": 3,
 "metadata": {
  "language_info": {
   "file_extension": ".jl",
   "mimetype": "application/julia",
   "name": "julia",
   "version": "1.11.5"
  },
  "kernelspec": {
   "name": "julia-1.11",
   "display_name": "Julia 1.11.5",
   "language": "julia"
  }
 },
 "nbformat": 4
}
