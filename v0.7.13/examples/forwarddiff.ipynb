{
 "cells": [
  {
   "cell_type": "markdown",
   "source": [
    "# Polarizability using automatic differentiation\n",
    "\n",
    "Simple example for computing properties using (forward-mode)\n",
    "automatic differentiation.\n",
    "For a more classical approach and more details about computing polarizabilities,\n",
    "see Polarizability by linear response."
   ],
   "metadata": {}
  },
  {
   "outputs": [],
   "cell_type": "code",
   "source": [
    "using DFTK\n",
    "using LinearAlgebra\n",
    "using ForwardDiff\n",
    "using PseudoPotentialData\n",
    "\n",
    "# Construct PlaneWaveBasis given a particular electric field strength\n",
    "# Again we take the example of a Helium atom.\n",
    "function make_basis(ε::T; a=10., Ecut=30) where {T}\n",
    "    lattice = T(a) * I(3)  # lattice is a cube of $a$ Bohrs\n",
    "    # Helium at the center of the box\n",
    "    pseudopotentials = PseudoFamily(\"cp2k.nc.sr.lda.v0_1.semicore.gth\")\n",
    "    atoms     = [ElementPsp(:He, pseudopotentials)]\n",
    "    positions = [[1/2, 1/2, 1/2]]\n",
    "\n",
    "    model = model_DFT(lattice, atoms, positions;\n",
    "                      functionals=[:lda_x, :lda_c_vwn],\n",
    "                      extra_terms=[ExternalFromReal(r -> -ε * (r[1] - a/2))],\n",
    "                      symmetries=false)\n",
    "    PlaneWaveBasis(model; Ecut, kgrid=[1, 1, 1])  # No k-point sampling on isolated system\n",
    "end\n",
    "\n",
    "# dipole moment of a given density (assuming the current geometry)\n",
    "function dipole(basis, ρ)\n",
    "    @assert isdiag(basis.model.lattice)\n",
    "    a  = basis.model.lattice[1, 1]\n",
    "    rr = [a * (r[1] - 1/2) for r in r_vectors(basis)]\n",
    "    sum(rr .* ρ) * basis.dvol\n",
    "end\n",
    "\n",
    "# Function to compute the dipole for a given field strength\n",
    "function compute_dipole(ε; tol=1e-8, kwargs...)\n",
    "    scfres = self_consistent_field(make_basis(ε; kwargs...); tol)\n",
    "    dipole(scfres.basis, scfres.ρ)\n",
    "end;"
   ],
   "metadata": {},
   "execution_count": 1
  },
  {
   "cell_type": "markdown",
   "source": [
    "With this in place we can compute the polarizability from finite differences\n",
    "(just like in the previous example):"
   ],
   "metadata": {}
  },
  {
   "outputs": [
    {
     "name": "stdout",
     "output_type": "stream",
     "text": [
      "n     Energy            log10(ΔE)   log10(Δρ)   Diag   Δtime\n",
      "---   ---------------   ---------   ---------   ----   ------\n",
      "  1   -2.770853852658                   -0.52    9.0    160ms\n",
      "  2   -2.772147316806       -2.89       -1.32    1.0    117ms\n",
      "  3   -2.772170256050       -4.64       -2.43    1.0    113ms\n",
      "  4   -2.772170649160       -6.41       -3.13    1.0    104ms\n",
      "  5   -2.772170722929       -7.13       -4.63    2.0    118ms\n",
      "  6   -2.772170722993      -10.19       -4.70    2.0    120ms\n",
      "  7   -2.772170723013      -10.69       -5.63    1.0    111ms\n",
      "  8   -2.772170723015      -11.77       -6.71    2.0    125ms\n",
      "  9   -2.772170723015      -14.12       -7.24    1.0    112ms\n",
      " 10   -2.772170723015   +  -13.97       -7.81    1.0    113ms\n",
      " 11   -2.772170723015      -14.31       -8.17    1.0    115ms\n",
      "n     Energy            log10(ΔE)   log10(Δρ)   Diag   Δtime\n",
      "---   ---------------   ---------   ---------   ----   ------\n",
      "  1   -2.770618463072                   -0.53    9.0    161ms\n",
      "  2   -2.772052664508       -2.84       -1.31    1.0   97.1ms\n",
      "  3   -2.772082994819       -4.52       -2.59    1.0    117ms\n",
      "  4   -2.772083384147       -6.41       -3.78    1.0    120ms\n",
      "  5   -2.772083417152       -7.48       -4.17    2.0    120ms\n",
      "  6   -2.772083417792       -9.19       -5.32    1.0    106ms\n",
      "  7   -2.772083417810      -10.77       -5.55    2.0    126ms\n",
      "  8   -2.772083417810      -12.06       -5.85    1.0    108ms\n",
      "  9   -2.772083417811      -12.70       -6.89    1.0    110ms\n",
      " 10   -2.772083417811      -13.70       -7.08    2.0    131ms\n",
      " 11   -2.772083417811   +  -14.24       -7.95    1.0    136ms\n",
      " 12   -2.772083417811      -14.18       -8.22    1.0    120ms\n"
     ]
    },
    {
     "output_type": "execute_result",
     "data": {
      "text/plain": "1.7735580054133593"
     },
     "metadata": {},
     "execution_count": 2
    }
   ],
   "cell_type": "code",
   "source": [
    "polarizability_fd = let\n",
    "    ε = 0.01\n",
    "    (compute_dipole(ε) - compute_dipole(0.0)) / ε\n",
    "end"
   ],
   "metadata": {},
   "execution_count": 2
  },
  {
   "cell_type": "markdown",
   "source": [
    "We do the same thing using automatic differentiation. Under the hood this uses\n",
    "custom rules to implicitly differentiate through the self-consistent\n",
    "field fixed-point problem. This leads to a density-functional perturbation\n",
    "theory problem, which is automatically set up and solved in the background."
   ],
   "metadata": {}
  },
  {
   "outputs": [
    {
     "name": "stdout",
     "output_type": "stream",
     "text": [
      "n     Energy            log10(ΔE)   log10(Δρ)   Diag   Δtime\n",
      "---   ---------------   ---------   ---------   ----   ------\n",
      "  1   -2.770806434875                   -0.52    9.0    677ms\n",
      "  2   -2.772061665000       -2.90       -1.32    1.0   97.1ms\n",
      "  3   -2.772083029406       -4.67       -2.44    1.0   97.3ms\n",
      "  4   -2.772083344498       -6.50       -3.14    1.0    101ms\n",
      "  5   -2.772083417690       -7.14       -4.39    2.0    118ms\n",
      "  6   -2.772083417761      -10.15       -4.66    1.0    104ms\n",
      "  7   -2.772083417808      -10.32       -5.64    1.0    108ms\n",
      "  8   -2.772083417811      -11.69       -6.27    2.0    123ms\n",
      "  9   -2.772083417811      -13.38       -6.56    1.0    114ms\n",
      " 10   -2.772083417811      -13.86       -7.45    1.0    112ms\n",
      " 11   -2.772083417811   +  -14.12       -8.02    2.0    129ms\n",
      "Solving response problem\n",
      "[ Info: GMRES linsolve starts with norm of residual = 4.19e+00\n",
      "[ Info: GMRES linsolve in iteration 1; step 1: normres = 2.49e-01\n",
      "[ Info: GMRES linsolve in iteration 1; step 2: normres = 3.76e-03\n",
      "[ Info: GMRES linsolve in iteration 1; step 3: normres = 2.84e-04\n",
      "[ Info: GMRES linsolve in iteration 1; step 4: normres = 4.67e-06\n",
      "[ Info: GMRES linsolve in iteration 1; step 5: normres = 1.08e-08\n",
      "[ Info: GMRES linsolve in iteration 1; step 6: normres = 1.62e-08\n",
      "┌ Info: GMRES linsolve converged at iteration 2, step 1:\n",
      "│ * norm of residual = 1.51e-09\n",
      "└ * number of operations = 9\n",
      "\n",
      "Polarizability via ForwardDiff:       1.7725349864164495\n",
      "Polarizability via finite difference: 1.7735580054133593\n"
     ]
    }
   ],
   "cell_type": "code",
   "source": [
    "polarizability = ForwardDiff.derivative(compute_dipole, 0.0)\n",
    "println()\n",
    "println(\"Polarizability via ForwardDiff:       $polarizability\")\n",
    "println(\"Polarizability via finite difference: $polarizability_fd\")"
   ],
   "metadata": {},
   "execution_count": 3
  }
 ],
 "nbformat_minor": 3,
 "metadata": {
  "language_info": {
   "file_extension": ".jl",
   "mimetype": "application/julia",
   "name": "julia",
   "version": "1.11.5"
  },
  "kernelspec": {
   "name": "julia-1.11",
   "display_name": "Julia 1.11.5",
   "language": "julia"
  }
 },
 "nbformat": 4
}
