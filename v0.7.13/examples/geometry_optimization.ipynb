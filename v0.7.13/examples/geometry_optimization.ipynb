{
 "cells": [
  {
   "cell_type": "markdown",
   "source": [
    "# Geometry optimization\n",
    "\n",
    "We use DFTK and the [GeometryOptimization](https://github.com/JuliaMolSim/GeometryOptimization.jl/)\n",
    "package to find the minimal-energy bond length of the $H_2$ molecule.\n",
    "First we set up an appropriate `DFTKCalculator` (see AtomsCalculators integration),\n",
    "for which we use the LDA model just like in the Tutorial for silicon\n",
    "in combination with a pseudodojo pseudopotential (see Pseudopotentials)."
   ],
   "metadata": {}
  },
  {
   "outputs": [
    {
     "output_type": "execute_result",
     "data": {
      "text/plain": "DFTKCalculator(functionals=Xc(lda_x, lda_c_pw), pseudopotentials=PseudoFamily(\"dojo.nc.sr.pbe.v0_4_1.standard.upf\"), Ecut=10, kgrid=[1, 1, 1])"
     },
     "metadata": {},
     "execution_count": 1
    }
   ],
   "cell_type": "code",
   "source": [
    "using DFTK\n",
    "using PseudoPotentialData\n",
    "\n",
    "pseudopotentials = PseudoFamily(\"dojo.nc.sr.pbe.v0_4_1.standard.upf\")\n",
    "calc = DFTKCalculator(;\n",
    "    model_kwargs = (; functionals=LDA(), pseudopotentials),  # model_DFT keyword arguments\n",
    "    basis_kwargs = (; kgrid=[1, 1, 1], Ecut=10)  # PlaneWaveBasis keyword arguments\n",
    ")"
   ],
   "metadata": {},
   "execution_count": 1
  },
  {
   "cell_type": "markdown",
   "source": [
    "Next we set up an initial hydrogen molecule within a box of vacuum.\n",
    "We use the parameters of the\n",
    "[equivalent tutorial from ABINIT](https://docs.abinit.org/tutorial/base1/)\n",
    "and DFTK's AtomsBase integration to setup the hydrogen molecule.\n",
    "We employ a simulation box of 10 bohr times 10 bohr times 10 bohr and a\n",
    "pseudodojo pseudopotential."
   ],
   "metadata": {}
  },
  {
   "outputs": [
    {
     "output_type": "execute_result",
     "data": {
      "text/plain": "FlexibleSystem(H₂, periodicity = TTT):\n    cell_vectors      : [      10        0        0;\n                                0       10        0;\n                                0        0       10]u\"a₀\"\n\n    Atom(H,  [       0,        0,        0]u\"a₀\")\n    Atom(H,  [     1.4,        0,        0]u\"a₀\")\n"
     },
     "metadata": {},
     "execution_count": 2
    }
   ],
   "cell_type": "code",
   "source": [
    "using LinearAlgebra\n",
    "using Unitful\n",
    "using UnitfulAtomic\n",
    "\n",
    "r0 = 1.4   # Initial bond length in Bohr\n",
    "a  = 10.0  # Box size in Bohr\n",
    "\n",
    "cell_vectors = [[a, 0, 0]u\"bohr\", [0, a, 0]u\"bohr\", [0, 0, a]u\"bohr\"]\n",
    "h2_crude = periodic_system([:H => [0, 0, 0.]u\"bohr\",\n",
    "                            :H => [r0, 0, 0]u\"bohr\"],\n",
    "                           cell_vectors)"
   ],
   "metadata": {},
   "execution_count": 2
  },
  {
   "cell_type": "markdown",
   "source": [
    "Finally we call `minimize_energy!` to start the geometry optimisation.\n",
    "We use `verbosity=2` to get some insight into the minimisation.\n",
    "With `verbosity=1` only a summarising table would be printed and with\n",
    "`verbosity=0` (default) the minimisation would be quiet."
   ],
   "metadata": {}
  },
  {
   "outputs": [
    {
     "name": "stdout",
     "output_type": "stream",
     "text": [
      "n     Energy            log10(ΔE)   log10(Δρ)   α      Diag   Δtime\n",
      "---   ---------------   ---------   ---------   ----   ----   ------\n",
      "  1   -1.110536980332                   -0.82   0.80    7.0    6.43s\n",
      "  2   -1.117201942195       -2.18       -1.86   0.80    1.0    3.34s\n",
      "  3   -1.117250665895       -4.31       -2.72   0.80    1.0   20.1ms\n",
      "  4   -1.117251293717       -6.20       -3.61   0.80    1.0   33.7ms\n",
      "  5   -1.117251308685       -7.82       -4.05   0.80    1.0   19.0ms\n",
      "  6   -1.117251310104       -8.85       -4.46   0.80    1.0   19.9ms\n",
      "  7   -1.117251310368       -9.58       -5.63   0.80    1.0   22.8ms\n",
      "  8   -1.117251310381      -10.88       -6.25   0.80    2.0   25.4ms\n",
      "  9   -1.117251310381   +  -13.97       -6.32   0.80    1.0   22.9ms\n",
      " 10   -1.117251310381      -13.24       -7.27   0.80    1.0   24.1ms\n",
      " 11   -1.117251310381   +  -15.05       -7.39   0.80    2.0   24.0ms\n",
      " 12   -1.117251310381      -14.88       -8.66   0.80    1.0   23.9ms\n",
      "n     Energy            log10(ΔE)   log10(Δρ)   α      Diag   Δtime\n",
      "---   ---------------   ---------   ---------   ----   ----   ------\n",
      "  1   -1.117251310381                   -8.71   0.80    1.0    2.69s\n",
      "  2   -1.117251310381   +  -14.81       -9.63   0.80    1.0   17.7ms\n",
      "\n",
      "Geometry optimisation convergence (in atomic units)\n",
      "┌─────┬─────────────────┬───────────┬────────────┬────────┐\n",
      "│   n │          Energy │ log10(ΔE) │ max(Force) │  Δtime │\n",
      "├─────┼─────────────────┼───────────┼────────────┼────────┤\n",
      "│   0 │ -1.117251310381 │           │  0.0269317 │  27.3s │\n",
      "└─────┴─────────────────┴───────────┴────────────┴────────┘\n",
      "\n",
      "n     Energy            log10(ΔE)   log10(Δρ)   α      Diag   Δtime\n",
      "---   ---------------   ---------   ---------   ----   ----   ------\n",
      "  1   -1.117518113319                   -2.46   0.80    1.0   11.3ms\n",
      "  2   -1.117520704465       -5.59       -3.49   0.80    1.0   17.7ms\n",
      "  3   -1.117520731416       -7.57       -4.23   0.80    1.0   32.4ms\n",
      "  4   -1.117520731865       -9.35       -5.15   0.80    1.0   18.4ms\n",
      "  5   -1.117520731881      -10.81       -5.94   0.80    1.0   19.0ms\n",
      "  6   -1.117520731882      -12.16       -6.46   0.80    1.0   21.4ms\n",
      "  7   -1.117520731882      -13.39       -7.48   0.80    1.0   19.2ms\n",
      "  8   -1.117520731882   +  -14.75       -8.27   0.80    1.0   21.5ms\n",
      "  9   -1.117520731882      -14.75       -8.66   0.80    1.0   21.8ms\n",
      "n     Energy            log10(ΔE)   log10(Δρ)   α      Diag   Δtime\n",
      "---   ---------------   ---------   ---------   ----   ----   ------\n",
      "  1   -1.118247378363                   -1.69   0.80    1.0   10.9ms\n",
      "  2   -1.118339157140       -4.04       -2.70   0.80    1.0   20.5ms\n",
      "  3   -1.118340124313       -6.01       -3.44   0.80    1.0   19.8ms\n",
      "  4   -1.118340141753       -7.76       -4.36   0.80    1.0   20.1ms\n",
      "  5   -1.118340142338       -9.23       -5.12   0.80    1.0   18.5ms\n",
      "  6   -1.118340142365      -10.57       -5.62   0.80    1.0   20.7ms\n",
      "  7   -1.118340142366      -11.73       -6.68   0.80    1.0   21.3ms\n",
      "  8   -1.118340142366      -13.56       -7.58   0.80    1.0   21.6ms\n",
      "  9   -1.118340142366      -14.75       -8.12   0.80    1.0   21.4ms\n",
      " 10   -1.118340142366      -15.35       -8.55   0.80    1.0   21.7ms\n",
      "n     Energy            log10(ΔE)   log10(Δρ)   α      Diag   Δtime\n",
      "---   ---------------   ---------   ---------   ----   ----   ------\n",
      "  1   -1.118340142366                   -9.05   0.80    1.0   17.3ms\n",
      "  2   -1.118340142366   +  -14.51      -10.35   0.80    1.0   17.5ms\n",
      "\n",
      "┌─────┬─────────────────┬───────────┬────────────┬────────┐\n",
      "│   n │          Energy │ log10(ΔE) │ max(Force) │  Δtime │\n",
      "├─────┼─────────────────┼───────────┼────────────┼────────┤\n",
      "│   1 │ -1.118340142366 │     -2.96 │ 0.00297053 │  1.88s │\n",
      "└─────┴─────────────────┴───────────┴────────────┴────────┘\n",
      "\n",
      "n     Energy            log10(ΔE)   log10(Δρ)   α      Diag   Δtime\n",
      "---   ---------------   ---------   ---------   ----   ----   ------\n",
      "  1   -1.118346834645                   -3.09   0.80    1.0   11.0ms\n",
      "  2   -1.118346977895       -6.84       -4.11   0.80    1.0   23.6ms\n",
      "  3   -1.118346979372       -8.83       -4.86   0.80    1.0   17.9ms\n",
      "  4   -1.118346979398      -10.59       -5.78   0.80    1.0   23.4ms\n",
      "  5   -1.118346979399      -12.08       -6.55   0.80    1.0   18.6ms\n",
      "  6   -1.118346979399      -13.43       -7.04   0.80    1.0   21.0ms\n",
      "  7   -1.118346979399      -14.37       -8.13   0.80    1.0   21.3ms\n",
      "  8   -1.118346979399   +  -14.57       -8.95   0.80    1.0   21.3ms\n",
      "n     Energy            log10(ΔE)   log10(Δρ)   α      Diag   Δtime\n",
      "---   ---------------   ---------   ---------   ----   ----   ------\n",
      "  1   -1.118354837058                   -2.61   0.80    1.0   10.8ms\n",
      "  2   -1.118356200096       -5.87       -3.62   0.80    1.0   19.3ms\n",
      "  3   -1.118356214170       -7.85       -4.37   0.80    1.0   17.8ms\n",
      "  4   -1.118356214417       -9.61       -5.29   0.80    1.0   19.9ms\n",
      "  5   -1.118356214425      -11.10       -6.06   0.80    1.0   20.3ms\n",
      "  6   -1.118356214425      -12.45       -6.55   0.80    1.0   20.7ms\n",
      "  7   -1.118356214425      -13.58       -7.65   0.80    1.0   19.3ms\n",
      "  8   -1.118356214425   +  -15.35       -8.45   0.80    1.0   21.1ms\n",
      "n     Energy            log10(ΔE)   log10(Δρ)   α      Diag   Δtime\n",
      "---   ---------------   ---------   ---------   ----   ----   ------\n",
      "  1   -1.118356214425                   -9.24   0.80    1.0   13.8ms\n",
      "  2   -1.118356214425   +  -15.05       -9.82   0.80    1.0   17.2ms\n",
      "\n",
      "┌─────┬─────────────────┬───────────┬────────────┬────────┐\n",
      "│   n │          Energy │ log10(ΔE) │ max(Force) │  Δtime │\n",
      "├─────┼─────────────────┼───────────┼────────────┼────────┤\n",
      "│   2 │ -1.118356214425 │     -4.79 │ 4.47263e-5 │  534ms │\n",
      "└─────┴─────────────────┴───────────┴────────────┴────────┘\n",
      "\n",
      "n     Energy            log10(ΔE)   log10(Δρ)   α      Diag   Δtime\n",
      "---   ---------------   ---------   ---------   ----   ----   ------\n",
      "  1   -1.118356215887                   -4.94   0.80    1.0   13.9ms\n",
      "  2   -1.118356215917      -10.54       -5.96   0.80    1.0   17.4ms\n",
      "  3   -1.118356215917      -12.52       -6.70   0.80    1.0   19.7ms\n",
      "  4   -1.118356215917      -14.37       -7.62   0.80    1.0   72.1ms\n",
      "  5   -1.118356215917   +  -15.18       -8.39   0.80    1.0   18.9ms\n",
      "  6   -1.118356215917      -14.57       -8.89   0.80    1.0    440ms\n",
      "n     Energy            log10(ΔE)   log10(Δρ)   α      Diag   Δtime\n",
      "---   ---------------   ---------   ---------   ----   ----   ------\n",
      "  1   -1.118356217810                   -4.40   0.80    1.0   10.9ms\n",
      "  2   -1.118356218156       -9.46       -5.42   0.80    1.0   17.4ms\n",
      "  3   -1.118356218159      -11.45       -6.17   0.80    1.0   20.6ms\n",
      "  4   -1.118356218159      -13.20       -7.09   0.80    1.0   25.2ms\n",
      "  5   -1.118356218159   +  -15.05       -7.86   0.80    1.0   24.1ms\n",
      "  6   -1.118356218159      -14.95       -8.35   0.80    1.0   21.4ms\n",
      "  7   -1.118356218159      -14.75       -9.45   0.80    1.0   23.8ms\n",
      "n     Energy            log10(ΔE)   log10(Δρ)   α      Diag   Δtime\n",
      "---   ---------------   ---------   ---------   ----   ----   ------\n",
      "  1   -1.118356218159                  -10.08   0.80    1.0   14.7ms\n",
      "  2   -1.118356218159   +  -14.65      -11.02   0.80    1.0   19.0ms\n",
      "\n",
      "┌─────┬─────────────────┬───────────┬────────────┬────────┐\n",
      "│   n │          Energy │ log10(ΔE) │ max(Force) │  Δtime │\n",
      "├─────┼─────────────────┼───────────┼────────────┼────────┤\n",
      "│   3 │ -1.118356218159 │     -8.43 │  1.0468e-8 │  950ms │\n",
      "└─────┴─────────────────┴───────────┴────────────┴────────┘\n",
      "\n"
     ]
    }
   ],
   "cell_type": "code",
   "source": [
    "using GeometryOptimization\n",
    "results = minimize_energy!(h2_crude, calc; tol_forces=2e-6, verbosity=2)\n",
    "nothing  # hide"
   ],
   "metadata": {},
   "execution_count": 3
  },
  {
   "cell_type": "markdown",
   "source": [
    "Structure after optimisation (note that the atom has wrapped around)"
   ],
   "metadata": {}
  },
  {
   "outputs": [
    {
     "output_type": "execute_result",
     "data": {
      "text/plain": "FlexibleSystem(H₂, periodicity = TTT):\n    cell_vectors      : [      10        0        0;\n                                0       10        0;\n                                0        0       10]u\"a₀\"\n\n    Atom(H,  [-0.0431828, 2.99105e-10, 7.93669e-11]u\"a₀\")\n    Atom(H,  [ 1.44318, 2.85265e-10, 1.19926e-10]u\"a₀\")\n"
     },
     "metadata": {},
     "execution_count": 4
    }
   ],
   "cell_type": "code",
   "source": [
    "results.system"
   ],
   "metadata": {},
   "execution_count": 4
  },
  {
   "cell_type": "markdown",
   "source": [
    "Compute final bond length:"
   ],
   "metadata": {}
  },
  {
   "outputs": [
    {
     "name": "stdout",
     "output_type": "stream",
     "text": [
      "Optimal bond length: 1.4863655846043131 a₀\n"
     ]
    }
   ],
   "cell_type": "code",
   "source": [
    "rmin = norm(position(results.system[1]) - position(results.system[2]))\n",
    "println(\"Optimal bond length: \", rmin)"
   ],
   "metadata": {},
   "execution_count": 5
  },
  {
   "cell_type": "markdown",
   "source": [
    "Our results (1.486 Bohr) agrees with the\n",
    "[equivalent tutorial from ABINIT](https://docs.abinit.org/tutorial/base1/)."
   ],
   "metadata": {}
  }
 ],
 "nbformat_minor": 3,
 "metadata": {
  "language_info": {
   "file_extension": ".jl",
   "mimetype": "application/julia",
   "name": "julia",
   "version": "1.11.5"
  },
  "kernelspec": {
   "name": "julia-1.11",
   "display_name": "Julia 1.11.5",
   "language": "julia"
  }
 },
 "nbformat": 4
}
