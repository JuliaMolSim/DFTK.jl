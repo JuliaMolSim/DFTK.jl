{
 "cells": [
  {
   "cell_type": "markdown",
   "source": [
    "# Phonon computations\n",
    "\n",
    "This is a quick sketch how to run a simple phonon calculation using DFTK.\n",
    "First we run an SCF calculation."
   ],
   "metadata": {}
  },
  {
   "outputs": [
    {
     "name": "stdout",
     "output_type": "stream",
     "text": [
      "n     Energy            log10(ΔE)   log10(Δρ)   Diag   Δtime\n",
      "---   ---------------   ---------   ---------   ----   ------\n",
      "  1   -7.916437780788                   -0.69    4.8    134ms\n",
      "  2   -7.921207458972       -2.32       -1.52    1.0   50.4ms\n",
      "  3   -7.921406426738       -3.70       -2.49    1.4   55.2ms\n",
      "  4   -7.921440984811       -4.46       -2.84    2.5   70.6ms\n",
      "  5   -7.921441643255       -6.18       -3.01    1.1   67.9ms\n",
      "  6   -7.921442007005       -6.44       -4.51    1.0   49.6ms\n",
      "  7   -7.921442021770       -7.83       -4.59    2.8   74.8ms\n",
      "  8   -7.921442022127       -9.45       -5.31    1.0   49.7ms\n",
      "  9   -7.921442022138      -10.94       -5.39    1.9   62.9ms\n",
      " 10   -7.921442022144      -11.28       -5.87    1.0   49.8ms\n",
      " 11   -7.921442022144      -12.35       -6.67    1.1   51.8ms\n",
      " 12   -7.921442022144      -13.42       -6.96    1.8   63.3ms\n",
      " 13   -7.921442022144      -14.27       -7.76    1.1   52.5ms\n",
      " 14   -7.921442022144   +    -Inf       -8.17    2.2   71.3ms\n"
     ]
    }
   ],
   "cell_type": "code",
   "source": [
    "using AtomsBuilder\n",
    "using DFTK\n",
    "using PseudoPotentialData\n",
    "\n",
    "pseudopotentials = PseudoFamily(\"cp2k.nc.sr.lda.v0_1.semicore.gth\")\n",
    "model  = model_DFT(bulk(:Si); pseudopotentials, functionals=LDA())\n",
    "basis  = PlaneWaveBasis(model; Ecut=10, kgrid=[4, 4, 4])\n",
    "scfres = self_consistent_field(basis, tol=1e-8);\n",
    "nothing  # hide"
   ],
   "metadata": {},
   "execution_count": 1
  },
  {
   "cell_type": "markdown",
   "source": [
    "Next we compute the phonon modes at the q-point `[1/4, 1/4, 1/4]`."
   ],
   "metadata": {}
  },
  {
   "outputs": [
    {
     "name": "stdout",
     "output_type": "stream",
     "text": [
      "155.734846 seconds (157.40 M allocations: 104.515 GiB, 7.11% gc time, 26.69% compilation time)\n"
     ]
    }
   ],
   "cell_type": "code",
   "source": [
    "scfres = DFTK.unfold_bz(scfres)\n",
    "phret_q0 = @time DFTK.phonon_modes(scfres; q=[0.25, 0.25, 0.25]);\n",
    "nothing  # hide"
   ],
   "metadata": {},
   "execution_count": 2
  },
  {
   "cell_type": "markdown",
   "source": [
    "These are the final phonon frequencies:"
   ],
   "metadata": {}
  },
  {
   "outputs": [
    {
     "output_type": "execute_result",
     "data": {
      "text/plain": "6-element Vector{Float64}:\n -0.0034981553620170316\n -0.0029774511615806836\n -0.0029774511614777486\n  0.004302230619000619\n  0.004302230619177501\n  0.004353201751828374"
     },
     "metadata": {},
     "execution_count": 3
    }
   ],
   "cell_type": "code",
   "source": [
    "phret_q0.frequencies"
   ],
   "metadata": {},
   "execution_count": 3
  }
 ],
 "nbformat_minor": 3,
 "metadata": {
  "language_info": {
   "file_extension": ".jl",
   "mimetype": "application/julia",
   "name": "julia",
   "version": "1.11.5"
  },
  "kernelspec": {
   "name": "julia-1.11",
   "display_name": "Julia 1.11.5",
   "language": "julia"
  }
 },
 "nbformat": 4
}
