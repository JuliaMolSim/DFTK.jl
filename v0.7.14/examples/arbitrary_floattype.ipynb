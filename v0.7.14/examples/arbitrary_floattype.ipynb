{
 "cells": [
  {
   "cell_type": "markdown",
   "source": [
    "# Arbitrary floating-point types\n",
    "\n",
    "Since DFTK is completely generic in the floating-point type\n",
    "in its routines, there is no reason to perform the computation\n",
    "using double-precision arithmetic (i.e.`Float64`).\n",
    "Other floating-point types such as `Float32` (single precision)\n",
    "are readily supported as well.\n",
    "On top of that we already reported[^HLC2020] calculations\n",
    "in DFTK using elevated precision\n",
    "from [DoubleFloats.jl](https://github.com/JuliaMath/DoubleFloats.jl)\n",
    "or interval arithmetic\n",
    "using [IntervalArithmetic.jl](https://github.com/JuliaIntervals/IntervalArithmetic.jl).\n",
    "In this example, however, we will concentrate on single-precision\n",
    "computations with `Float32`.\n",
    "\n",
    "The setup of such a reduced-precision calculation is basically identical\n",
    "to the regular case, since Julia automatically compiles all routines\n",
    "of DFTK at the precision, which is used for the lattice vectors.\n",
    "Apart from setting up the model with an explicit cast of the lattice\n",
    "vectors to `Float32`, there is thus no change in user code required:\n",
    "\n",
    "[^HLC2020]:\n",
    "    M. F. Herbst, A. Levitt, E. Cancès.\n",
    "    *A posteriori error estimation for the non-self-consistent Kohn-Sham equations*\n",
    "    [ArXiv 2004.13549](https://arxiv.org/abs/2004.13549)"
   ],
   "metadata": {}
  },
  {
   "outputs": [
    {
     "name": "stdout",
     "output_type": "stream",
     "text": [
      "n     Energy            log10(ΔE)   log10(Δρ)   Diag   Δtime\n",
      "---   ---------------   ---------   ---------   ----   ------\n",
      "  1   -7.900539398193                   -0.70    4.6    48.6s\n",
      "  2   -7.905041694641       -2.35       -1.52    1.0    9.67s\n",
      "  3   -7.905211448669       -3.77       -2.52    1.0    1.28s\n",
      "  4   -7.905242919922       -4.50       -2.83    2.6   50.1ms\n",
      "  5   -7.905245780945       -5.54       -2.98    1.0   36.6ms\n",
      "  6   -7.905244827271   +   -6.02       -4.61    1.0   36.5ms\n"
     ]
    }
   ],
   "cell_type": "code",
   "source": [
    "using DFTK\n",
    "using PseudoPotentialData\n",
    "using AtomsBuilder\n",
    "\n",
    "# Use AtomsBuilder to setup silicon lattice and cast model to Float32\n",
    "pseudopotentials = PseudoFamily(\"cp2k.nc.sr.lda.v0_1.largecore.gth\")\n",
    "model = model_DFT(bulk(:Si); functionals=LDA(), pseudopotentials)\n",
    "basis = PlaneWaveBasis(convert(Model{Float32}, model), Ecut=7, kgrid=[4, 4, 4])\n",
    "\n",
    "# Run the SCF\n",
    "scfres = self_consistent_field(basis, tol=1e-3);"
   ],
   "metadata": {},
   "execution_count": 1
  },
  {
   "cell_type": "markdown",
   "source": [
    "To check the calculation has really run in Float32,\n",
    "we check the energies and density are expressed in this floating-point type:"
   ],
   "metadata": {}
  },
  {
   "outputs": [
    {
     "output_type": "execute_result",
     "data": {
      "text/plain": "Energy breakdown (in Ha):\n    Kinetic             3.1029332 \n    AtomicLocal         -2.1975160\n    AtomicNonlocal      1.7296957 \n    Ewald               -8.3994751\n    PspCorrection       -0.2947882\n    Hartree             0.5528390 \n    Xc                  -2.3989332\n\n    total               -7.905244827271"
     },
     "metadata": {},
     "execution_count": 2
    }
   ],
   "cell_type": "code",
   "source": [
    "scfres.energies"
   ],
   "metadata": {},
   "execution_count": 2
  },
  {
   "outputs": [
    {
     "output_type": "execute_result",
     "data": {
      "text/plain": "Float32"
     },
     "metadata": {},
     "execution_count": 3
    }
   ],
   "cell_type": "code",
   "source": [
    "eltype(scfres.energies.total)"
   ],
   "metadata": {},
   "execution_count": 3
  },
  {
   "outputs": [
    {
     "output_type": "execute_result",
     "data": {
      "text/plain": "Float32"
     },
     "metadata": {},
     "execution_count": 4
    }
   ],
   "cell_type": "code",
   "source": [
    "eltype(scfres.ρ)"
   ],
   "metadata": {},
   "execution_count": 4
  },
  {
   "cell_type": "markdown",
   "source": [
    "> **Generic linear algebra routines**\n",
    ">\n",
    "> For more unusual floating-point types (like IntervalArithmetic or DoubleFloats),\n",
    "> which are not directly supported in the standard `LinearAlgebra` and `FFTW`\n",
    "> libraries one additional step is required: One needs to explicitly enable the generic\n",
    "> versions of standard linear-algebra operations like `cholesky` or `qr` or standard\n",
    "> `fft` operations, which DFTK requires. THis is done by loading the\n",
    "> `GenericLinearAlgebra` package in the user script\n",
    "> (i.e. just add ad `using GenericLinearAlgebra` next to your `using DFTK` call)."
   ],
   "metadata": {}
  }
 ],
 "nbformat_minor": 3,
 "metadata": {
  "language_info": {
   "file_extension": ".jl",
   "mimetype": "application/julia",
   "name": "julia",
   "version": "1.11.5"
  },
  "kernelspec": {
   "name": "julia-1.11",
   "display_name": "Julia 1.11.5",
   "language": "julia"
  }
 },
 "nbformat": 4
}
