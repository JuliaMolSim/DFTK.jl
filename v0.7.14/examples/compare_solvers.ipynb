{
 "cells": [
  {
   "cell_type": "markdown",
   "source": [
    "# Comparison of DFT solvers"
   ],
   "metadata": {}
  },
  {
   "cell_type": "markdown",
   "source": [
    "We compare four different approaches for solving the DFT minimisation problem,\n",
    "namely a density-based SCF, a potential-based SCF, direct minimisation and Newton."
   ],
   "metadata": {}
  },
  {
   "cell_type": "markdown",
   "source": [
    "First we setup our problem"
   ],
   "metadata": {}
  },
  {
   "outputs": [
    {
     "output_type": "execute_result",
     "data": {
      "text/plain": "1.0e-6"
     },
     "metadata": {},
     "execution_count": 1
    }
   ],
   "cell_type": "code",
   "source": [
    "using AtomsBuilder\n",
    "using DFTK\n",
    "using LinearAlgebra\n",
    "using PseudoPotentialData\n",
    "\n",
    "pseudopotentials = PseudoFamily(\"dojo.nc.sr.pbesol.v0_4_1.standard.upf\")\n",
    "model = model_DFT(bulk(:Si); functionals=PBEsol(), pseudopotentials)\n",
    "basis = PlaneWaveBasis(model; Ecut=5, kgrid=[3, 3, 3])\n",
    "\n",
    "# Convergence we desire in the density\n",
    "tol = 1e-6"
   ],
   "metadata": {},
   "execution_count": 1
  },
  {
   "cell_type": "markdown",
   "source": [
    "## Density-based self-consistent field"
   ],
   "metadata": {}
  },
  {
   "outputs": [
    {
     "name": "stdout",
     "output_type": "stream",
     "text": [
      "n     Energy            log10(ΔE)   log10(Δρ)   Diag   Δtime\n",
      "---   ---------------   ---------   ---------   ----   ------\n",
      "  1   -8.397862487303                   -0.89    5.0   26.0ms\n",
      "  2   -8.400259061147       -2.62       -1.73    1.0   19.1ms\n",
      "  3   -8.400401317403       -3.85       -2.90    1.2   19.2ms\n",
      "  4   -8.400427724762       -4.58       -2.90    3.2   54.7ms\n",
      "  5   -8.400427950638       -6.65       -3.04    1.0   18.9ms\n",
      "  6   -8.400428150302       -6.70       -5.02    1.0   18.8ms\n",
      "  7   -8.400428155880       -8.25       -4.43    3.5   25.7ms\n",
      "  8   -8.400428156260       -9.42       -5.44    1.2   19.8ms\n",
      "  9   -8.400428156276      -10.81       -6.22    1.5   20.2ms\n"
     ]
    }
   ],
   "cell_type": "code",
   "source": [
    "scfres_scf = self_consistent_field(basis; tol);"
   ],
   "metadata": {},
   "execution_count": 2
  },
  {
   "cell_type": "markdown",
   "source": [
    "## Potential-based SCF"
   ],
   "metadata": {}
  },
  {
   "outputs": [
    {
     "name": "stdout",
     "output_type": "stream",
     "text": [
      "n     Energy            log10(ΔE)   log10(Δρ)   α      Diag   Δtime\n",
      "---   ---------------   ---------   ---------   ----   ----   ------\n",
      "  1   -8.397784329128                   -0.90           4.5    964ms\n",
      "  2   -8.400378564449       -2.59       -1.77   0.80    2.2    506ms\n",
      "  3   -8.400422927669       -4.35       -2.94   0.80    1.0    187ms\n",
      "  4   -8.400428107744       -5.29       -3.43   0.80    2.2   19.5ms\n",
      "  5   -8.400428152775       -7.35       -4.83   0.80    1.2   17.1ms\n",
      "  6   -8.400428156267       -8.46       -5.36   0.80    3.2   21.7ms\n",
      "  7   -8.400428156276      -11.07       -6.75   0.80    1.0   16.5ms\n"
     ]
    }
   ],
   "cell_type": "code",
   "source": [
    "scfres_scfv = DFTK.scf_potential_mixing(basis; tol);"
   ],
   "metadata": {},
   "execution_count": 3
  },
  {
   "cell_type": "markdown",
   "source": [
    "## Direct minimization"
   ],
   "metadata": {}
  },
  {
   "outputs": [
    {
     "name": "stdout",
     "output_type": "stream",
     "text": [
      "┌ Warning: x_tol is deprecated. Use x_abstol or x_reltol instead. The provided value (-1) will be used as x_abstol.\n",
      "└ @ Optim ~/.julia/packages/Optim/7krni/src/types.jl:110\n",
      "┌ Warning: f_tol is deprecated. Use f_abstol or f_reltol instead. The provided value (-1) will be used as f_reltol.\n",
      "└ @ Optim ~/.julia/packages/Optim/7krni/src/types.jl:120\n",
      "n     Energy            log10(ΔE)   log10(Δρ)   Δtime\n",
      "---   ---------------   ---------   ---------   ------\n",
      "  1   +0.787045022311                   -1.05    2.42s\n",
      "  2   -1.899677898645        0.43       -0.61    118ms\n",
      "  3   -4.689837972909        0.45       -0.40   44.0ms\n",
      "  4   -6.205767352642        0.18       -0.50   87.2ms\n",
      "  5   -7.589315887883        0.14       -0.74   43.9ms\n",
      "  6   -7.907351073719       -0.50       -1.44   32.6ms\n",
      "  7   -8.211250895508       -0.52       -1.71   32.4ms\n",
      "  8   -8.291074794018       -1.10       -2.11   56.2ms\n",
      "  9   -8.346642568920       -1.26       -2.23   32.7ms\n",
      " 10   -8.367161776604       -1.69       -2.33   32.7ms\n",
      " 11   -8.381405311472       -1.85       -2.56   32.9ms\n",
      " 12   -8.389398252648       -2.10       -2.62   33.5ms\n",
      " 13   -8.393546128604       -2.38       -2.66   37.4ms\n",
      " 14   -8.395450581270       -2.72       -2.92   33.3ms\n",
      " 15   -8.396560638202       -2.95       -3.04   33.0ms\n",
      " 16   -8.397751516437       -2.92       -3.13   33.3ms\n",
      " 17   -8.398857616490       -2.96       -3.05   36.1ms\n",
      " 18   -8.399788595763       -3.03       -3.21   32.9ms\n",
      " 19   -8.400149191040       -3.44       -3.45   32.6ms\n",
      " 20   -8.400311957844       -3.79       -3.90   32.9ms\n",
      " 21   -8.400375902937       -4.19       -3.85   35.4ms\n",
      " 22   -8.400403508963       -4.56       -4.05   32.6ms\n",
      " 23   -8.400413534993       -5.00       -4.25   35.3ms\n",
      " 24   -8.400422627200       -5.04       -4.27   32.6ms\n",
      " 25   -8.400425370599       -5.56       -4.59   32.7ms\n",
      " 26   -8.400426754795       -5.86       -4.99   35.3ms\n",
      " 27   -8.400427519684       -6.12       -5.01   32.6ms\n",
      " 28   -8.400427845298       -6.49       -5.04   35.1ms\n",
      " 29   -8.400428056224       -6.68       -5.04   32.5ms\n",
      " 30   -8.400428115846       -7.22       -5.28   32.4ms\n",
      " 31   -8.400428142362       -7.58       -5.74   35.1ms\n",
      " 32   -8.400428146938       -8.34       -5.64   32.7ms\n",
      " 33   -8.400428153898       -8.16       -6.40   32.6ms\n"
     ]
    }
   ],
   "cell_type": "code",
   "source": [
    "scfres_dm = direct_minimization(basis; tol);"
   ],
   "metadata": {},
   "execution_count": 4
  },
  {
   "cell_type": "markdown",
   "source": [
    "## Newton algorithm"
   ],
   "metadata": {}
  },
  {
   "cell_type": "markdown",
   "source": [
    "Start not too far from the solution to ensure convergence:\n",
    "We run first a very crude SCF to get close and then switch to Newton."
   ],
   "metadata": {}
  },
  {
   "outputs": [
    {
     "name": "stdout",
     "output_type": "stream",
     "text": [
      "n     Energy            log10(ΔE)   log10(Δρ)   Diag   Δtime\n",
      "---   ---------------   ---------   ---------   ----   ------\n",
      "  1   -8.397887576760                   -0.90    5.2   26.1ms\n"
     ]
    }
   ],
   "cell_type": "code",
   "source": [
    "scfres_start = self_consistent_field(basis; tol=0.5);"
   ],
   "metadata": {},
   "execution_count": 5
  },
  {
   "cell_type": "markdown",
   "source": [
    "Remove the virtual orbitals (which Newton cannot treat yet)"
   ],
   "metadata": {}
  },
  {
   "outputs": [
    {
     "name": "stdout",
     "output_type": "stream",
     "text": [
      "n     Energy            log10(ΔE)   log10(Δρ)   Δtime\n",
      "---   ---------------   ---------   ---------   ------\n",
      "  1   -8.400427980102                   -1.78    23.7s\n",
      "  2   -8.400428156277       -6.75       -4.02    2.19s\n",
      "  3   -8.400428156277      -14.75       -7.81    109ms\n"
     ]
    }
   ],
   "cell_type": "code",
   "source": [
    "ψ = DFTK.select_occupied_orbitals(basis, scfres_start.ψ, scfres_start.occupation).ψ\n",
    "scfres_newton = newton(basis, ψ; tol);"
   ],
   "metadata": {},
   "execution_count": 6
  },
  {
   "cell_type": "markdown",
   "source": [
    "## Comparison of results"
   ],
   "metadata": {}
  },
  {
   "outputs": [
    {
     "name": "stdout",
     "output_type": "stream",
     "text": [
      "|ρ_newton - ρ_scf|  = 6.279734902357257e-7\n",
      "|ρ_newton - ρ_scfv| = 3.2576285338069753e-7\n",
      "|ρ_newton - ρ_dm|   = 1.255792358320856e-6\n"
     ]
    }
   ],
   "cell_type": "code",
   "source": [
    "println(\"|ρ_newton - ρ_scf|  = \", norm(scfres_newton.ρ - scfres_scf.ρ))\n",
    "println(\"|ρ_newton - ρ_scfv| = \", norm(scfres_newton.ρ - scfres_scfv.ρ))\n",
    "println(\"|ρ_newton - ρ_dm|   = \", norm(scfres_newton.ρ - scfres_dm.ρ))"
   ],
   "metadata": {},
   "execution_count": 7
  }
 ],
 "nbformat_minor": 3,
 "metadata": {
  "language_info": {
   "file_extension": ".jl",
   "mimetype": "application/julia",
   "name": "julia",
   "version": "1.11.5"
  },
  "kernelspec": {
   "name": "julia-1.11",
   "display_name": "Julia 1.11.5",
   "language": "julia"
  }
 },
 "nbformat": 4
}
