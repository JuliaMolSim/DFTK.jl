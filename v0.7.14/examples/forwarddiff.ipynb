{
 "cells": [
  {
   "cell_type": "markdown",
   "source": [
    "# Polarizability using automatic differentiation\n",
    "\n",
    "Simple example for computing properties using (forward-mode)\n",
    "automatic differentiation.\n",
    "For a more classical approach and more details about computing polarizabilities,\n",
    "see Polarizability by linear response."
   ],
   "metadata": {}
  },
  {
   "outputs": [],
   "cell_type": "code",
   "source": [
    "using DFTK\n",
    "using LinearAlgebra\n",
    "using ForwardDiff\n",
    "using PseudoPotentialData\n",
    "\n",
    "# Construct PlaneWaveBasis given a particular electric field strength\n",
    "# Again we take the example of a Helium atom.\n",
    "function make_basis(ε::T; a=10., Ecut=30) where {T}\n",
    "    lattice = T(a) * I(3)  # lattice is a cube of $a$ Bohrs\n",
    "    # Helium at the center of the box\n",
    "    pseudopotentials = PseudoFamily(\"cp2k.nc.sr.lda.v0_1.semicore.gth\")\n",
    "    atoms     = [ElementPsp(:He, pseudopotentials)]\n",
    "    positions = [[1/2, 1/2, 1/2]]\n",
    "\n",
    "    model = model_DFT(lattice, atoms, positions;\n",
    "                      functionals=[:lda_x, :lda_c_vwn],\n",
    "                      extra_terms=[ExternalFromReal(r -> -ε * (r[1] - a/2))],\n",
    "                      symmetries=false)\n",
    "    PlaneWaveBasis(model; Ecut, kgrid=[1, 1, 1])  # No k-point sampling on isolated system\n",
    "end\n",
    "\n",
    "# dipole moment of a given density (assuming the current geometry)\n",
    "function dipole(basis, ρ)\n",
    "    @assert isdiag(basis.model.lattice)\n",
    "    a  = basis.model.lattice[1, 1]\n",
    "    rr = [a * (r[1] - 1/2) for r in r_vectors(basis)]\n",
    "    sum(rr .* ρ) * basis.dvol\n",
    "end\n",
    "\n",
    "# Function to compute the dipole for a given field strength\n",
    "function compute_dipole(ε; tol=1e-8, kwargs...)\n",
    "    scfres = self_consistent_field(make_basis(ε; kwargs...); tol)\n",
    "    dipole(scfres.basis, scfres.ρ)\n",
    "end;"
   ],
   "metadata": {},
   "execution_count": 1
  },
  {
   "cell_type": "markdown",
   "source": [
    "With this in place we can compute the polarizability from finite differences\n",
    "(just like in the previous example):"
   ],
   "metadata": {}
  },
  {
   "outputs": [
    {
     "name": "stdout",
     "output_type": "stream",
     "text": [
      "n     Energy            log10(ΔE)   log10(Δρ)   Diag   Δtime\n",
      "---   ---------------   ---------   ---------   ----   ------\n",
      "  1   -2.770904698735                   -0.53    9.0    199ms\n",
      "  2   -2.772147228434       -2.91       -1.32    1.0    106ms\n",
      "  3   -2.772170496369       -4.63       -2.52    1.0    468ms\n",
      "  4   -2.772170679481       -6.74       -3.33    1.0   98.9ms\n",
      "  5   -2.772170721367       -7.38       -3.90    2.0    145ms\n",
      "  6   -2.772170722982       -8.79       -5.29    1.0    137ms\n",
      "  7   -2.772170723013      -10.51       -5.34    2.0    121ms\n",
      "  8   -2.772170723015      -11.70       -6.12    1.0    107ms\n",
      "  9   -2.772170723015      -13.19       -6.45    2.0    120ms\n",
      " 10   -2.772170723015      -13.59       -7.55    1.0    108ms\n",
      " 11   -2.772170723015   +  -14.40       -7.90    1.0    109ms\n",
      " 12   -2.772170723015   +    -Inf       -8.73    1.0    108ms\n",
      "n     Energy            log10(ΔE)   log10(Δρ)   Diag   Δtime\n",
      "---   ---------------   ---------   ---------   ----   ------\n",
      "  1   -2.770736877770                   -0.53    8.0    150ms\n",
      "  2   -2.772056242709       -2.88       -1.31    1.0   98.5ms\n",
      "  3   -2.772083051610       -4.57       -2.53    1.0    453ms\n",
      "  4   -2.772083375044       -6.49       -3.41    1.0   96.8ms\n",
      "  5   -2.772083416409       -7.38       -3.96    2.0    114ms\n",
      "  6   -2.772083417783       -8.86       -5.35    1.0    104ms\n",
      "  7   -2.772083417808      -10.61       -5.29    2.0    118ms\n",
      "  8   -2.772083417810      -11.55       -6.05    1.0    108ms\n",
      "  9   -2.772083417811      -12.67       -6.66    2.0    120ms\n",
      " 10   -2.772083417811   +  -14.18       -7.72    1.0    107ms\n",
      " 11   -2.772083417811      -14.12       -8.36    2.0    122ms\n"
     ]
    },
    {
     "output_type": "execute_result",
     "data": {
      "text/plain": "1.773557944571622"
     },
     "metadata": {},
     "execution_count": 2
    }
   ],
   "cell_type": "code",
   "source": [
    "polarizability_fd = let\n",
    "    ε = 0.01\n",
    "    (compute_dipole(ε) - compute_dipole(0.0)) / ε\n",
    "end"
   ],
   "metadata": {},
   "execution_count": 2
  },
  {
   "cell_type": "markdown",
   "source": [
    "We do the same thing using automatic differentiation. Under the hood this uses\n",
    "custom rules to implicitly differentiate through the self-consistent\n",
    "field fixed-point problem. This leads to a density-functional perturbation\n",
    "theory problem, which is automatically set up and solved in the background."
   ],
   "metadata": {}
  },
  {
   "outputs": [
    {
     "name": "stdout",
     "output_type": "stream",
     "text": [
      "n     Energy            log10(ΔE)   log10(Δρ)   Diag   Δtime\n",
      "---   ---------------   ---------   ---------   ----   ------\n",
      "  1   -2.770682786334                   -0.53    8.0    159ms\n",
      "  2   -2.772051318557       -2.86       -1.31    1.0    141ms\n",
      "  3   -2.772082881078       -4.50       -2.60    1.0    461ms\n",
      "  4   -2.772083384372       -6.30       -3.73    1.0   99.0ms\n",
      "  5   -2.772083417302       -7.48       -4.18    2.0    115ms\n",
      "  6   -2.772083417780       -9.32       -5.26    1.0    104ms\n",
      "  7   -2.772083417809      -10.54       -5.46    2.0    119ms\n",
      "  8   -2.772083417810      -11.93       -6.21    1.0    110ms\n",
      "  9   -2.772083417811      -12.90       -6.59    2.0    125ms\n",
      " 10   -2.772083417811   +  -14.75       -7.35    1.0    112ms\n",
      " 11   -2.772083417811      -14.12       -7.94    1.0    113ms\n",
      " 12   -2.772083417811   +  -14.18       -8.46    1.0    111ms\n",
      "Solving response problem\n",
      "Iter  Restart  Krydim  log10(res)  avg(CG)  Δtime   Comment\n",
      "----  -------  ------  ----------  -------  ------  ---------------\n",
      "                                      13.0   458ms  Non-interacting\n",
      "   1        0       1       -0.60     11.0   138ms  \n",
      "   2        0       2       -2.42      8.0   116ms  \n",
      "   3        0       3       -3.55      6.0   109ms  \n",
      "   4        0       4       -5.33      5.0   104ms  \n",
      "   5        0       5       -7.54      2.0  90.2ms  \n",
      "   6        0       6      -10.51      1.0  88.1ms  \n",
      "   7        1       1       -7.87     13.0   224ms  Restart\n",
      "   8        1       2       -9.64      1.0  87.0ms  \n",
      "                                      13.0   126ms  Final orbitals\n",
      "\n",
      "Polarizability via ForwardDiff:       1.772534975323363\n",
      "Polarizability via finite difference: 1.773557944571622\n"
     ]
    }
   ],
   "cell_type": "code",
   "source": [
    "polarizability = ForwardDiff.derivative(compute_dipole, 0.0)\n",
    "println()\n",
    "println(\"Polarizability via ForwardDiff:       $polarizability\")\n",
    "println(\"Polarizability via finite difference: $polarizability_fd\")"
   ],
   "metadata": {},
   "execution_count": 3
  }
 ],
 "nbformat_minor": 3,
 "metadata": {
  "language_info": {
   "file_extension": ".jl",
   "mimetype": "application/julia",
   "name": "julia",
   "version": "1.11.5"
  },
  "kernelspec": {
   "name": "julia-1.11",
   "display_name": "Julia 1.11.5",
   "language": "julia"
  }
 },
 "nbformat": 4
}
