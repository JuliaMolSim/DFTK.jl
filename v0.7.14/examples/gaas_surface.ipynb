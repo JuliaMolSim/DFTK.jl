{
 "cells": [
  {
   "cell_type": "markdown",
   "source": [
    "# Modelling a gallium arsenide surface\n",
    "\n",
    "This example shows how to use the atomistic simulation environment or ASE for short,\n",
    "to set up and run a particular calculation of a gallium arsenide surface.\n",
    "ASE is a Python package to simplify the process of setting up,\n",
    "running and analysing results from atomistic simulations across different simulation codes.\n",
    "For more details on the integration DFTK provides with ASE,\n",
    "see Atomistic simulation environment.\n",
    "\n",
    "In this example we will consider modelling the (1, 1, 0) GaAs surface separated by vacuum."
   ],
   "metadata": {}
  },
  {
   "cell_type": "markdown",
   "source": [
    "Parameters of the calculation. Since this surface is far from easy to converge,\n",
    "we made the problem simpler by choosing a smaller `Ecut` and smaller values\n",
    "for `n_GaAs` and `n_vacuum`.\n",
    "More interesting settings are `Ecut = 15` and `n_GaAs = n_vacuum = 20`."
   ],
   "metadata": {}
  },
  {
   "outputs": [],
   "cell_type": "code",
   "source": [
    "miller = (1, 1, 0)   # Surface Miller indices\n",
    "n_GaAs = 2           # Number of GaAs layers\n",
    "n_vacuum = 4         # Number of vacuum layers\n",
    "Ecut = 5             # Hartree\n",
    "kgrid = (4, 4, 1);   # Monkhorst-Pack mesh"
   ],
   "metadata": {},
   "execution_count": 1
  },
  {
   "cell_type": "markdown",
   "source": [
    "Use ASE to build the structure:"
   ],
   "metadata": {}
  },
  {
   "outputs": [],
   "cell_type": "code",
   "source": [
    "using ASEconvert\n",
    "using PythonCall\n",
    "\n",
    "a = 5.6537  # GaAs lattice parameter in Ångström (because ASE uses Å as length unit)\n",
    "gaas = ase.build.bulk(\"GaAs\", \"zincblende\"; a)\n",
    "surface = ase.build.surface(gaas, miller, n_GaAs, 0, periodic=true);"
   ],
   "metadata": {},
   "execution_count": 2
  },
  {
   "cell_type": "markdown",
   "source": [
    "Get the amount of vacuum in Ångström we need to add"
   ],
   "metadata": {}
  },
  {
   "outputs": [],
   "cell_type": "code",
   "source": [
    "d_vacuum = maximum(maximum, surface.cell) / n_GaAs * n_vacuum\n",
    "surface = ase.build.surface(gaas, miller, n_GaAs, d_vacuum, periodic=true);"
   ],
   "metadata": {},
   "execution_count": 3
  },
  {
   "cell_type": "markdown",
   "source": [
    "Write an image of the surface and embed it as a nice illustration:"
   ],
   "metadata": {}
  },
  {
   "outputs": [
    {
     "output_type": "execute_result",
     "data": {
      "text/plain": "Python: None"
     },
     "metadata": {},
     "execution_count": 4
    }
   ],
   "cell_type": "code",
   "source": [
    "ase.io.write(\"surface.png\", surface * pytuple((3, 3, 1)), rotation=\"-90x, 30y, -75z\")"
   ],
   "metadata": {},
   "execution_count": 4
  },
  {
   "cell_type": "markdown",
   "source": [
    "<img src=\"https://docs.dftk.org/stable/surface.png\" width=500 height=500 />"
   ],
   "metadata": {}
  },
  {
   "cell_type": "markdown",
   "source": [
    "Use the `pyconvert` function from `PythonCall` to convert the ASE atoms\n",
    "to an AtomsBase-compatible system.\n",
    "This can then be used in the same way as other `AtomsBase` systems\n",
    "(see AtomsBase integration for details) to construct a DFTK model:"
   ],
   "metadata": {}
  },
  {
   "outputs": [
    {
     "output_type": "execute_result",
     "data": {
      "text/plain": "Model(gga_x_pbe+gga_c_pbe, 3D):\n    lattice (in Bohr)    : [7.55469   , 0         , 0         ]\n                           [0         , 7.55469   , 0         ]\n                           [0         , 0         , 40.0648   ]\n    unit cell volume     : 2286.6 Bohr³\n\n    atoms                : As₂Ga₂\n    atom potentials      : ElementPsp(Ga, \"/home/runner/.julia/artifacts/9a2a5dc89d1b33bff2ad61eaf2d000191050d15c/Ga.gth\")\n                           ElementPsp(As, \"/home/runner/.julia/artifacts/9a2a5dc89d1b33bff2ad61eaf2d000191050d15c/As.gth\")\n                           ElementPsp(Ga, \"/home/runner/.julia/artifacts/9a2a5dc89d1b33bff2ad61eaf2d000191050d15c/Ga.gth\")\n                           ElementPsp(As, \"/home/runner/.julia/artifacts/9a2a5dc89d1b33bff2ad61eaf2d000191050d15c/As.gth\")\n\n    num. electrons       : 16\n    spin polarization    : none\n    temperature          : 0.001 Ha\n    smearing             : DFTK.Smearing.Gaussian()\n\n    terms                : Kinetic()\n                           AtomicLocal()\n                           AtomicNonlocal()\n                           Ewald(nothing)\n                           PspCorrection()\n                           Hartree()\n                           Xc(gga_x_pbe, gga_c_pbe)\n                           Entropy()"
     },
     "metadata": {},
     "execution_count": 5
    }
   ],
   "cell_type": "code",
   "source": [
    "using DFTK\n",
    "using PseudoPotentialData\n",
    "\n",
    "pseudopotentials = PseudoFamily(\"cp2k.nc.sr.pbe.v0_1.largecore.gth\")\n",
    "model = model_DFT(pyconvert(AbstractSystem, surface);\n",
    "                  functionals=PBE(),\n",
    "                  temperature=1e-3,\n",
    "                  smearing=DFTK.Smearing.Gaussian(),\n",
    "                  pseudopotentials)"
   ],
   "metadata": {},
   "execution_count": 5
  },
  {
   "cell_type": "markdown",
   "source": [
    "In the above we use the `pseudopotential` keyword argument to\n",
    "assign the respective pseudopotentials to the imported `model.atoms`.\n",
    "Try lowering the SCF convergence tolerance (`tol`)\n",
    "or try `mixing=KerkerMixing()` to see the full challenge of this system."
   ],
   "metadata": {}
  },
  {
   "outputs": [
    {
     "name": "stdout",
     "output_type": "stream",
     "text": [
      "n     Energy            log10(ΔE)   log10(Δρ)   Diag   Δtime\n",
      "---   ---------------   ---------   ---------   ----   ------\n",
      "  1   -16.58729010574                   -0.58    5.2    1.55s\n",
      "  2   -16.72503042774       -0.86       -1.01    1.0    262ms\n",
      "  3   -16.73051477142       -2.26       -1.57    2.0    261ms\n",
      "  4   -16.73121487562       -3.15       -2.16    1.0    222ms\n",
      "  5   -16.73131937367       -3.98       -2.58    1.9    245ms\n",
      "  6   -16.73133243806       -4.88       -2.80    2.0    250ms\n",
      "  7   -16.73084530414   +   -3.31       -2.46    2.2    265ms\n",
      "  8   -16.73121481405       -3.43       -2.67    2.3    572ms\n",
      "  9   -16.73102773678   +   -3.73       -2.55    2.1    241ms\n",
      " 10   -16.73132383199       -3.53       -3.15    1.1    197ms\n",
      " 11   -16.73133989587       -4.79       -3.67    2.0    234ms\n",
      " 12   -16.73133916050   +   -6.13       -3.68    1.6    214ms\n",
      " 13   -16.73133944423       -6.55       -3.80    1.9    235ms\n",
      " 14   -16.73134002025       -6.24       -4.12    1.1    204ms\n",
      " 15   -16.73134018590       -6.78       -4.63    1.6    232ms\n",
      " 16   -16.73134020008       -7.85       -5.08    1.9    243ms\n",
      " 17   -16.73134020039       -9.51       -5.44    1.8    246ms\n",
      " 18   -16.73134020034   +  -10.31       -5.76    1.9    253ms\n",
      " 19   -16.73134020042      -10.12       -6.10    1.8    239ms\n"
     ]
    }
   ],
   "cell_type": "code",
   "source": [
    "basis  = PlaneWaveBasis(model; Ecut, kgrid)\n",
    "scfres = self_consistent_field(basis; tol=1e-6, mixing=LdosMixing());"
   ],
   "metadata": {},
   "execution_count": 6
  },
  {
   "outputs": [
    {
     "output_type": "execute_result",
     "data": {
      "text/plain": "Energy breakdown (in Ha):\n    Kinetic             5.8593976 \n    AtomicLocal         -105.6100109\n    AtomicNonlocal      2.3494812 \n    Ewald               35.5044300\n    PspCorrection       0.2016043 \n    Hartree             49.5614248\n    Xc                  -4.5976636\n    Entropy             -0.0000035\n\n    total               -16.731340200417"
     },
     "metadata": {},
     "execution_count": 7
    }
   ],
   "cell_type": "code",
   "source": [
    "scfres.energies"
   ],
   "metadata": {},
   "execution_count": 7
  }
 ],
 "nbformat_minor": 3,
 "metadata": {
  "language_info": {
   "file_extension": ".jl",
   "mimetype": "application/julia",
   "name": "julia",
   "version": "1.11.5"
  },
  "kernelspec": {
   "name": "julia-1.11",
   "display_name": "Julia 1.11.5",
   "language": "julia"
  }
 },
 "nbformat": 4
}
