{
 "cells": [
  {
   "cell_type": "markdown",
   "source": [
    "# Phonon computations\n",
    "\n",
    "This is a quick sketch how to run a simple phonon calculation using DFTK.\n",
    "First we run an SCF calculation."
   ],
   "metadata": {}
  },
  {
   "outputs": [
    {
     "name": "stdout",
     "output_type": "stream",
     "text": [
      "n     Energy            log10(ΔE)   log10(Δρ)   Diag   Δtime\n",
      "---   ---------------   ---------   ---------   ----   ------\n",
      "  1   -7.916459887894                   -0.69    4.6    113ms\n",
      "  2   -7.921212924259       -2.32       -1.52    1.0   52.3ms\n",
      "  3   -7.921405285646       -3.72       -2.49    1.2   54.7ms\n",
      "  4   -7.921440858056       -4.45       -2.82    2.5   82.6ms\n",
      "  5   -7.921441619296       -6.12       -3.00    1.1   53.3ms\n",
      "  6   -7.921442005619       -6.41       -4.52    1.0   52.3ms\n",
      "  7   -7.921442021710       -7.79       -4.54    3.0   80.6ms\n",
      "  8   -7.921442022122       -9.39       -5.17    1.0   56.2ms\n",
      "  9   -7.921442022141      -10.72       -5.35    1.5   57.7ms\n",
      " 10   -7.921442022143      -11.57       -5.98    1.0   56.4ms\n",
      " 11   -7.921442022144      -12.14       -6.31    1.6   60.4ms\n",
      " 12   -7.921442022144      -13.30       -6.65    1.4   59.0ms\n",
      " 13   -7.921442022144      -14.01       -7.19    1.1   54.7ms\n",
      " 14   -7.921442022144      -14.57       -8.00    2.0   67.4ms\n"
     ]
    }
   ],
   "cell_type": "code",
   "source": [
    "using AtomsBuilder\n",
    "using DFTK\n",
    "using PseudoPotentialData\n",
    "\n",
    "pseudopotentials = PseudoFamily(\"cp2k.nc.sr.lda.v0_1.semicore.gth\")\n",
    "model  = model_DFT(bulk(:Si); pseudopotentials, functionals=LDA())\n",
    "basis  = PlaneWaveBasis(model; Ecut=10, kgrid=[4, 4, 4])\n",
    "scfres = self_consistent_field(basis, tol=1e-8);\n",
    "nothing  # hide"
   ],
   "metadata": {},
   "execution_count": 1
  },
  {
   "cell_type": "markdown",
   "source": [
    "Next we compute the phonon modes at the q-point `[1/4, 1/4, 1/4]`."
   ],
   "metadata": {}
  },
  {
   "outputs": [
    {
     "name": "stdout",
     "output_type": "stream",
     "text": [
      "Iter  Restart  Krydim  log10(res)  avg(CG)  Δtime   Comment\n",
      "----  -------  ------  ----------  -------  ------  ---------------\n",
      "                                      72.9   2.66s  Non-interacting\n",
      "   1        0       1        0.31     52.5   18.0s  \n",
      "   2        0       2       -0.52     47.0   1.47s  \n",
      "   3        0       3       -2.40     41.6   1.29s  \n",
      "   4        0       4       -4.46     29.6   1.03s  \n",
      "   5        0       5       -6.46     17.4   724ms  \n",
      "   6        0       6       -8.91      4.0   405ms  \n",
      "   7        1       1       -7.80     55.9   2.44s  Restart\n",
      "   8        1       2       -8.77      5.8   464ms  \n",
      "                                      72.8   1.97s  Final orbitals\n",
      "Iter  Restart  Krydim  log10(res)  avg(CG)  Δtime   Comment\n",
      "----  -------  ------  ----------  -------  ------  ---------------\n",
      "                                      72.9   1.79s  Non-interacting\n",
      "   1        0       1        0.31     52.5   1.67s  \n",
      "   2        0       2       -0.52     47.0   1.44s  \n",
      "   3        0       3       -2.40     41.6   1.31s  \n",
      "   4        0       4       -4.46     29.6   1.03s  \n",
      "   5        0       5       -6.46     17.4   723ms  \n",
      "   6        0       6       -8.91      4.0   413ms  \n",
      "   7        1       1       -7.80     55.9   2.32s  Restart\n",
      "   8        1       2       -8.77      5.8   452ms  \n",
      "                                      72.8   1.95s  Final orbitals\n",
      "Iter  Restart  Krydim  log10(res)  avg(CG)  Δtime   Comment\n",
      "----  -------  ------  ----------  -------  ------  ---------------\n",
      "                                      72.9   1.83s  Non-interacting\n",
      "   1        0       1        0.31     52.5   1.67s  \n",
      "   2        0       2       -0.52     47.0   1.44s  \n",
      "   3        0       3       -2.40     41.6   1.33s  \n",
      "   4        0       4       -4.46     29.6   1.02s  \n",
      "   5        0       5       -6.46     17.4   1.11s  \n",
      "   6        0       6       -8.91      4.0   400ms  \n",
      "   7        1       1       -7.80     55.9   1.96s  Restart\n",
      "   8        1       2       -8.77      5.8   453ms  \n",
      "                                      72.7   1.95s  Final orbitals\n",
      "Iter  Restart  Krydim  log10(res)  avg(CG)  Δtime   Comment\n",
      "----  -------  ------  ----------  -------  ------  ---------------\n",
      "                                      72.9   1.79s  Non-interacting\n",
      "   1        0       1        0.31     52.5   1.66s  \n",
      "   2        0       2       -0.52     47.0   1.43s  \n",
      "   3        0       3       -2.40     41.6   1.69s  \n",
      "   4        0       4       -4.46     29.6   1.03s  \n",
      "   5        0       5       -6.46     17.4   745ms  \n",
      "   6        0       6       -8.91      4.0   417ms  \n",
      "   7        1       1       -7.81     55.8   1.96s  Restart\n",
      "   8        1       2       -8.82      5.6   447ms  \n",
      "                                      72.8   1.95s  Final orbitals\n",
      "Iter  Restart  Krydim  log10(res)  avg(CG)  Δtime   Comment\n",
      "----  -------  ------  ----------  -------  ------  ---------------\n",
      "                                      72.9   1.79s  Non-interacting\n",
      "   1        0       1        0.31     52.5   1.64s  \n",
      "   2        0       2       -0.52     47.0   1.79s  \n",
      "   3        0       3       -2.40     41.6   1.33s  \n",
      "   4        0       4       -4.46     29.6   1.03s  \n",
      "   5        0       5       -6.46     17.4   768ms  \n",
      "   6        0       6       -8.91      4.0   403ms  \n",
      "   7        1       1       -7.81     55.8   1.97s  Restart\n",
      "   8        1       2       -8.82      5.6   452ms  \n",
      "                                      72.7   1.95s  Final orbitals\n",
      "Iter  Restart  Krydim  log10(res)  avg(CG)  Δtime   Comment\n",
      "----  -------  ------  ----------  -------  ------  ---------------\n",
      "                                      72.9   2.14s  Non-interacting\n",
      "   1        0       1        0.31     52.5   1.70s  \n",
      "   2        0       2       -0.52     47.0   1.46s  \n",
      "   3        0       3       -2.40     41.6   1.31s  \n",
      "   4        0       4       -4.46     29.6   1.02s  \n",
      "   5        0       5       -6.46     17.4   729ms  \n",
      "   6        0       6       -8.91      4.0   404ms  \n",
      "   7        1       1       -7.81     55.8   1.95s  Restart\n",
      "   8        1       2       -8.82      5.6   443ms  \n",
      "                                      72.8   2.31s  Final orbitals\n",
      "125.591932 seconds (144.75 M allocations: 82.840 GiB, 6.19% gc time, 30.96% compilation time)\n"
     ]
    }
   ],
   "cell_type": "code",
   "source": [
    "scfres = DFTK.unfold_bz(scfres)\n",
    "phret_q0 = @time DFTK.phonon_modes(scfres; q=[0.25, 0.25, 0.25]);\n",
    "nothing  # hide"
   ],
   "metadata": {},
   "execution_count": 2
  },
  {
   "cell_type": "markdown",
   "source": [
    "These are the final phonon frequencies:"
   ],
   "metadata": {}
  },
  {
   "outputs": [
    {
     "output_type": "execute_result",
     "data": {
      "text/plain": "6-element Vector{Float64}:\n -0.003498155359859895\n -0.0029774511656817694\n -0.002977451164090287\n  0.004302230640614572\n  0.004302230642654138\n  0.0043532017695473695"
     },
     "metadata": {},
     "execution_count": 3
    }
   ],
   "cell_type": "code",
   "source": [
    "phret_q0.frequencies"
   ],
   "metadata": {},
   "execution_count": 3
  },
  {
   "cell_type": "markdown",
   "source": [
    "> **Preliminary implementation**\n",
    ">\n",
    "> Practical phonon computations have only seen rudimentary testing as of now.\n",
    "> As of now we do not yet recommend relying on this feature for production\n",
    "> calculations. We appreciate any issues, bug reports or PRs."
   ],
   "metadata": {}
  }
 ],
 "nbformat_minor": 3,
 "metadata": {
  "language_info": {
   "file_extension": ".jl",
   "mimetype": "application/julia",
   "name": "julia",
   "version": "1.11.5"
  },
  "kernelspec": {
   "name": "julia-1.11",
   "display_name": "Julia 1.11.5",
   "language": "julia"
  }
 },
 "nbformat": 4
}
