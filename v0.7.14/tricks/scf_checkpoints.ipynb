{
 "cells": [
  {
   "cell_type": "markdown",
   "source": [
    "# Saving SCF results on disk and SCF checkpoints\n",
    "\n",
    "For longer DFT calculations it is pretty standard to run them on a cluster\n",
    "in advance and to perform postprocessing (band structure calculation,\n",
    "plotting of density, etc.) at a later point and potentially on a different\n",
    "machine.\n",
    "\n",
    "To support such workflows DFTK offers the two functions `save_scfres`\n",
    "and `load_scfres`, which allow to save the data structure returned\n",
    "by `self_consistent_field` on disk or retrieve it back into memory,\n",
    "respectively. For this purpose DFTK uses the\n",
    "[JLD2.jl](https://github.com/JuliaIO/JLD2.jl) file format and Julia package.\n",
    "\n",
    "> **Availability of `load_scfres`, `save_scfres` and checkpointing**\n",
    ">\n",
    "> As JLD2 is an optional dependency of DFTK these three functions are only\n",
    "> available once one has *both* imported DFTK and JLD2 (`using DFTK`\n",
    "> and `using JLD2`).\n",
    "\n",
    "To illustrate the use of the functions in practice we will compute\n",
    "the total energy of the O₂ molecule at PBE level. To get the triplet\n",
    "ground state we use a collinear spin polarisation\n",
    "(see Collinear spin and magnetic systems for details)\n",
    "and a bit of temperature to ease convergence:"
   ],
   "metadata": {}
  },
  {
   "outputs": [
    {
     "name": "stdout",
     "output_type": "stream",
     "text": [
      "n     Energy            log10(ΔE)   log10(Δρ)   Magnet   |Magn|   Diag   Δtime\n",
      "---   ---------------   ---------   ---------   ------   ------   ----   ------\n",
      "  1   -27.64774212460                   -0.13    0.001    0.195    7.0    572ms\n",
      "  2   -28.92466587959        0.11       -0.83    0.704    0.708    2.0    937ms\n",
      "  3   -28.93135496752       -2.17       -1.13    1.214    1.224    2.5    113ms\n",
      "  4   -28.93789425872       -2.18       -1.19    1.789    1.809    1.5   75.9ms\n",
      "  5   -28.93910873980       -2.92       -0.98    2.000    2.063    2.0   81.5ms\n",
      "  6   -28.93958454294       -3.32       -1.90    1.976    2.012    1.5   77.9ms\n",
      "  7   -28.93961149885       -4.57       -2.97    1.985    2.022    1.0   76.5ms\n"
     ]
    }
   ],
   "cell_type": "code",
   "source": [
    "using DFTK\n",
    "using LinearAlgebra\n",
    "using JLD2\n",
    "using PseudoPotentialData\n",
    "\n",
    "d = 2.079  # oxygen-oxygen bondlength\n",
    "a = 9.0    # size of the simulation box\n",
    "lattice = a * I(3)\n",
    "pseudopotentials = PseudoFamily(\"cp2k.nc.sr.pbe.v0_1.semicore.gth\")\n",
    "O = ElementPsp(:O, pseudopotentials)\n",
    "atoms     = [O, O]\n",
    "positions = d / 2a * [[0, 0, 1], [0, 0, -1]]\n",
    "magnetic_moments = [1., 1.]\n",
    "\n",
    "Ecut  = 10  # Far too small to be converged\n",
    "model = model_DFT(lattice, atoms, positions;\n",
    "                  functionals=PBE(),\n",
    "                  temperature=0.02, smearing=Smearing.Gaussian(),\n",
    "                  magnetic_moments)\n",
    "basis = PlaneWaveBasis(model; Ecut, kgrid=[1, 1, 1])\n",
    "\n",
    "scfres = self_consistent_field(basis, tol=1e-2, ρ=guess_density(basis, magnetic_moments))\n",
    "save_scfres(\"scfres.jld2\", scfres);"
   ],
   "metadata": {},
   "execution_count": 1
  },
  {
   "outputs": [
    {
     "output_type": "execute_result",
     "data": {
      "text/plain": "Energy breakdown (in Ha):\n    Kinetic             16.7732745\n    AtomicLocal         -58.4958539\n    AtomicNonlocal      4.7085532 \n    Ewald               -4.8994689\n    PspCorrection       0.0044178 \n    Hartree             19.3617893\n    Xc                  -6.3914358\n    Entropy             -0.0008878\n\n    total               -28.939611498848"
     },
     "metadata": {},
     "execution_count": 2
    }
   ],
   "cell_type": "code",
   "source": [
    "scfres.energies"
   ],
   "metadata": {},
   "execution_count": 2
  },
  {
   "cell_type": "markdown",
   "source": [
    "The `scfres.jld2` file could now be transferred to a different computer,\n",
    "Where one could fire up a REPL to inspect the results of the above\n",
    "calculation:"
   ],
   "metadata": {}
  },
  {
   "outputs": [
    {
     "output_type": "execute_result",
     "data": {
      "text/plain": "(:α, :history_Δρ, :converged, :occupation, :occupation_threshold, :algorithm, :basis, :runtime_ns, :n_iter, :n_matvec, :history_Etot, :εF, :energies, :ρ, :timedout, :n_bands_converge, :τ, :eigenvalues, :ψ, :ham)"
     },
     "metadata": {},
     "execution_count": 3
    }
   ],
   "cell_type": "code",
   "source": [
    "using DFTK\n",
    "using JLD2\n",
    "loaded = load_scfres(\"scfres.jld2\")\n",
    "propertynames(loaded)"
   ],
   "metadata": {},
   "execution_count": 3
  },
  {
   "outputs": [
    {
     "output_type": "execute_result",
     "data": {
      "text/plain": "Energy breakdown (in Ha):\n    Kinetic             16.7732745\n    AtomicLocal         -58.4958539\n    AtomicNonlocal      4.7085532 \n    Ewald               -4.8994689\n    PspCorrection       0.0044178 \n    Hartree             19.3617893\n    Xc                  -6.3914358\n    Entropy             -0.0008878\n\n    total               -28.939611498848"
     },
     "metadata": {},
     "execution_count": 4
    }
   ],
   "cell_type": "code",
   "source": [
    "loaded.energies"
   ],
   "metadata": {},
   "execution_count": 4
  },
  {
   "cell_type": "markdown",
   "source": [
    "Since the loaded data contains exactly the same data as the `scfres` returned by the\n",
    "SCF calculation one could use it to plot a band structure, e.g.\n",
    "`plot_bandstructure(load_scfres(\"scfres.jld2\"))` directly from the stored data.\n",
    "\n",
    "Notice that both `load_scfres` and `save_scfres` work by transferring all data\n",
    "to/from the master process, which performs the IO operations without parallelisation.\n",
    "Since this can become slow, both functions support optional arguments to speed up\n",
    "the processing. An overview:\n",
    "- `save_scfres(\"scfres.jld2\", scfres; save_ψ=false)` avoids saving\n",
    "  the Bloch wave, which is usually faster and saves storage space.\n",
    "- `load_scfres(\"scfres.jld2\", basis)` avoids reconstructing the basis from the file,\n",
    "  but uses the passed basis instead. This save the time of constructing the basis\n",
    "  twice and allows to specify parallelisation options (via the passed basis). Usually\n",
    "  this is useful for continuing a calculation on a supercomputer or cluster.\n",
    "\n",
    "See also the discussion on Input and output formats on JLD2 files."
   ],
   "metadata": {}
  },
  {
   "cell_type": "markdown",
   "source": [
    "## Checkpointing of SCF calculations\n",
    "A related feature, which is very useful especially for longer calculations with DFTK\n",
    "is automatic checkpointing, where the state of the SCF is periodically written to disk.\n",
    "The advantage is that in case the calculation errors or gets aborted due\n",
    "to overrunning the walltime limit one does not need to start from scratch,\n",
    "but can continue the calculation from the last checkpoint.\n",
    "\n",
    "The easiest way to enable checkpointing is to use the `kwargs_scf_checkpoints`\n",
    "function, which does two things. (1) It sets up checkpointing using the\n",
    "`ScfSaveCheckpoints` callback and (2) if a checkpoint file is detected,\n",
    "the stored density is used to continue the calculation instead of the usual\n",
    "atomic-orbital based guess. In practice this is done by modifying the keyword arguments\n",
    "passed to # `self_consistent_field` appropriately, e.g. by using the density\n",
    "or orbitals from the checkpoint file. For example:"
   ],
   "metadata": {}
  },
  {
   "outputs": [
    {
     "name": "stdout",
     "output_type": "stream",
     "text": [
      "n     Energy            log10(ΔE)   log10(Δρ)   Magnet   |Magn|   α      Diag   Δtime\n",
      "---   ---------------   ---------   ---------   ------   ------   ----   ----   ------\n",
      "  1   -27.64799459108                   -0.13    0.001    0.183   0.80    7.0    209ms\n",
      "  2   -28.92457775365        0.11       -0.83    0.691    0.695   0.80    2.0    908ms\n",
      "  3   -28.93116035202       -2.18       -1.13    1.196    1.206   0.80    2.0    104ms\n",
      "  4   -28.93777426616       -2.18       -1.19    1.779    1.798   0.80    1.5   81.5ms\n",
      "  5   -28.93922063180       -2.84       -1.03    2.000    2.060   0.80    2.0   92.8ms\n",
      "  6   -28.93958276059       -3.44       -1.87    1.975    2.011   0.80    1.5   85.7ms\n",
      "  7   -28.93961126429       -4.55       -3.13    1.985    2.023   0.80    1.0   83.8ms\n"
     ]
    }
   ],
   "cell_type": "code",
   "source": [
    "checkpointargs = kwargs_scf_checkpoints(basis; ρ=guess_density(basis, magnetic_moments))\n",
    "scfres = self_consistent_field(basis; tol=1e-2, checkpointargs...);"
   ],
   "metadata": {},
   "execution_count": 5
  },
  {
   "cell_type": "markdown",
   "source": [
    "Notice that the `ρ` argument is now passed to kwargs_scf_checkpoints instead.\n",
    "If we run in the same folder the SCF again (here using a tighter tolerance),\n",
    "the calculation just continues."
   ],
   "metadata": {}
  },
  {
   "outputs": [
    {
     "name": "stdout",
     "output_type": "stream",
     "text": [
      "n     Energy            log10(ΔE)   log10(Δρ)   Magnet   |Magn|   α      Diag   Δtime\n",
      "---   ---------------   ---------   ---------   ------   ------   ----   ----   ------\n",
      "  1   -28.93961277289                   -3.26    1.986    2.023   0.80   10.5    134ms\n"
     ]
    }
   ],
   "cell_type": "code",
   "source": [
    "checkpointargs = kwargs_scf_checkpoints(basis; ρ=guess_density(basis, magnetic_moments))\n",
    "scfres = self_consistent_field(basis; tol=1e-3, checkpointargs...);"
   ],
   "metadata": {},
   "execution_count": 6
  },
  {
   "cell_type": "markdown",
   "source": [
    "Since only the density is stored in a checkpoint\n",
    "(and not the Bloch waves), the first step needs a slightly elevated number\n",
    "of diagonalizations. Notice, that reconstructing the `checkpointargs` in this second\n",
    "call is important as the `checkpointargs` now contain different data,\n",
    "such that the SCF continues from the checkpoint.\n",
    "By default checkpoint is saved in the file `dftk_scf_checkpoint.jld2`, which can be changed\n",
    "using the `filename` keyword argument of `kwargs_scf_checkpoints`. Note that the\n",
    "file is not deleted by DFTK, so it is your responsibility to clean it up. Further note\n",
    "that warnings or errors will arise if you try to use a checkpoint, which is incompatible\n",
    "with your calculation.\n",
    "\n",
    "We can also inspect the checkpoint file manually using the `load_scfres` function\n",
    "and use it manually to continue the calculation:"
   ],
   "metadata": {}
  },
  {
   "outputs": [
    {
     "name": "stdout",
     "output_type": "stream",
     "text": [
      "n     Energy            log10(ΔE)   log10(Δρ)   Magnet   |Magn|   Diag   Δtime\n",
      "---   ---------------   ---------   ---------   ------   ------   ----   ------\n",
      "  1   -28.93888544078                   -2.37    1.986    2.020    5.5   83.9ms\n",
      "  2   -28.93948443328       -3.22       -2.82    1.985    2.020    1.0   83.8ms\n",
      "  3   -28.93961095261       -3.90       -2.65    1.985    2.022    4.5    115ms\n",
      "  4   -28.93961216021       -5.92       -2.80    1.985    2.022    1.0   71.0ms\n",
      "  5   -28.93961270533       -6.26       -2.94    1.985    2.023    1.0   71.0ms\n",
      "  6   -28.93961285292       -6.83       -3.04    1.985    2.023    1.0   71.4ms\n",
      "  7   -28.93961307384       -6.66       -3.29    1.985    2.023    1.0   72.9ms\n",
      "  8   -28.93961311163       -7.42       -3.39    1.985    2.023    1.0   71.9ms\n",
      "  9   -28.93961316564       -7.27       -3.94    1.985    2.023    1.5   76.2ms\n",
      " 10   -28.93961317235       -8.17       -4.67    1.985    2.023    2.0   81.0ms\n"
     ]
    }
   ],
   "cell_type": "code",
   "source": [
    "oldstate = load_scfres(\"dftk_scf_checkpoint.jld2\")\n",
    "scfres   = self_consistent_field(oldstate.basis, ρ=oldstate.ρ, ψ=oldstate.ψ, tol=1e-4);"
   ],
   "metadata": {},
   "execution_count": 7
  },
  {
   "cell_type": "markdown",
   "source": [
    "Some details on what happens under the hood in this mechanism: When using the\n",
    "`kwargs_scf_checkpoints` function, the `ScfSaveCheckpoints` callback is employed\n",
    "during the SCF, which causes the density to be stored to the JLD2 file in every iteration.\n",
    "When reading the file, the `kwargs_scf_checkpoints` transparently patches away the `ψ`\n",
    "and `ρ` keyword arguments and replaces them by the data obtained from the file.\n",
    "For more details on using callbacks with DFTK's `self_consistent_field` function\n",
    "see Monitoring self-consistent field calculations."
   ],
   "metadata": {}
  },
  {
   "cell_type": "markdown",
   "source": [
    "(Cleanup files generated by this notebook)"
   ],
   "metadata": {}
  },
  {
   "outputs": [],
   "cell_type": "code",
   "source": [
    "rm(\"dftk_scf_checkpoint.jld2\")\n",
    "rm(\"scfres.jld2\")"
   ],
   "metadata": {},
   "execution_count": 8
  }
 ],
 "nbformat_minor": 3,
 "metadata": {
  "language_info": {
   "file_extension": ".jl",
   "mimetype": "application/julia",
   "name": "julia",
   "version": "1.11.5"
  },
  "kernelspec": {
   "name": "julia-1.11",
   "display_name": "Julia 1.11.5",
   "language": "julia"
  }
 },
 "nbformat": 4
}
