{
 "cells": [
  {
   "cell_type": "markdown",
   "source": [
    "# AtomsBase integration"
   ],
   "metadata": {}
  },
  {
   "cell_type": "markdown",
   "source": [
    "[AtomsBase.jl](https://github.com/JuliaMolSim/AtomsBase.jl) is a common interface\n",
    "for representing atomic structures in Julia. DFTK directly supports using such\n",
    "structures to run a calculation as is demonstrated here."
   ],
   "metadata": {}
  },
  {
   "outputs": [],
   "cell_type": "code",
   "source": [
    "using DFTK\n",
    "using AtomsBuilder"
   ],
   "metadata": {},
   "execution_count": 1
  },
  {
   "cell_type": "markdown",
   "source": [
    "## Feeding an AtomsBase AbstractSystem to DFTK\n",
    "\n",
    "In this example we construct a bulk silicon system using the `bulk` function\n",
    "from [AtomsBuilder](https://github.com/JuliaMolSim/AtomsBuilder.jl). This function\n",
    "uses tabulated data to set up a reasonable starting geometry and lattice for bulk silicon."
   ],
   "metadata": {}
  },
  {
   "outputs": [
    {
     "output_type": "execute_result",
     "data": {
      "text/plain": "FlexibleSystem(Si₂, periodicity = TTT):\n    cell_vectors      : [       0    2.715    2.715;\n                            2.715        0    2.715;\n                            2.715    2.715        0]u\"Å\"\n\n    Atom(Si, [       0,        0,        0]u\"Å\")\n    Atom(Si, [  1.3575,   1.3575,   1.3575]u\"Å\")\n"
     },
     "metadata": {},
     "execution_count": 2
    }
   ],
   "cell_type": "code",
   "source": [
    "system = bulk(:Si)"
   ],
   "metadata": {},
   "execution_count": 2
  },
  {
   "cell_type": "markdown",
   "source": [
    "By default the atoms of an `AbstractSystem` employ the bare Coulomb potential.\n",
    "To employ pseudpotential models (which is almost always advisable for\n",
    "plane-wave DFT) one employs the `pseudopotential` keyword argument in\n",
    "model constructors such as `model_DFT`.\n",
    "For example we can employ a `PseudoFamily` object\n",
    "from the [PseudoPotentialData](https://github.com/JuliaMolSim/PseudoPotentialData.jl)\n",
    "package. See its documentation for more information on the available\n",
    "pseudopotential families and how to select them."
   ],
   "metadata": {}
  },
  {
   "outputs": [
    {
     "output_type": "execute_result",
     "data": {
      "text/plain": "Model(lda_x+lda_c_pw, 3D):\n    lattice (in Bohr)    : [0         , 5.13061   , 5.13061   ]\n                           [5.13061   , 0         , 5.13061   ]\n                           [5.13061   , 5.13061   , 0         ]\n    unit cell volume     : 270.11 Bohr³\n\n    atoms                : Si₂\n    atom potentials      : ElementPsp(Si, \"/home/runner/.julia/artifacts/326db5c901e2681584ec5c06fc17f6c96e516ff9/Si.upf\")\n                           ElementPsp(Si, \"/home/runner/.julia/artifacts/326db5c901e2681584ec5c06fc17f6c96e516ff9/Si.upf\")\n\n    num. electrons       : 8\n    spin polarization    : none\n    temperature          : 0.001 Ha\n    smearing             : DFTK.Smearing.FermiDirac()\n\n    terms                : Kinetic()\n                           AtomicLocal()\n                           AtomicNonlocal()\n                           Ewald(nothing)\n                           PspCorrection()\n                           Hartree()\n                           Xc(lda_x, lda_c_pw)\n                           Entropy()"
     },
     "metadata": {},
     "execution_count": 3
    }
   ],
   "cell_type": "code",
   "source": [
    "using PseudoPotentialData  # defines PseudoFamily\n",
    "\n",
    "pd_lda_family = PseudoFamily(\"dojo.nc.sr.lda.v0_4_1.standard.upf\")\n",
    "model = model_DFT(system; functionals=LDA(), temperature=1e-3,\n",
    "                  pseudopotentials=pd_lda_family)"
   ],
   "metadata": {},
   "execution_count": 3
  },
  {
   "cell_type": "markdown",
   "source": [
    "Alternatively the `pseudopotentials` object also accepts a `Dict{Symbol,String}`,\n",
    "which provides for each element symbol the filename or identifier\n",
    "of the pseudopotential to be employed, e.g."
   ],
   "metadata": {}
  },
  {
   "outputs": [
    {
     "output_type": "execute_result",
     "data": {
      "text/plain": "Model(lda_x+lda_c_pw, 3D):\n    lattice (in Bohr)    : [0         , 5.13061   , 5.13061   ]\n                           [5.13061   , 0         , 5.13061   ]\n                           [5.13061   , 5.13061   , 0         ]\n    unit cell volume     : 270.11 Bohr³\n\n    atoms                : Si₂\n    atom potentials      : ElementPsp(Si, \"/home/runner/.julia/artifacts/966fd9cdcd7dbaba6dc2bf43ee50dd81e63e8837/Si.gth\")\n                           ElementPsp(Si, \"/home/runner/.julia/artifacts/966fd9cdcd7dbaba6dc2bf43ee50dd81e63e8837/Si.gth\")\n\n    num. electrons       : 8\n    spin polarization    : none\n    temperature          : 0.001 Ha\n    smearing             : DFTK.Smearing.FermiDirac()\n\n    terms                : Kinetic()\n                           AtomicLocal()\n                           AtomicNonlocal()\n                           Ewald(nothing)\n                           PspCorrection()\n                           Hartree()\n                           Xc(lda_x, lda_c_pw)\n                           Entropy()"
     },
     "metadata": {},
     "execution_count": 4
    }
   ],
   "cell_type": "code",
   "source": [
    "path_to_pspfile = PseudoFamily(\"cp2k.nc.sr.lda.v0_1.semicore.gth\")[:Si]\n",
    "model = model_DFT(system; functionals=LDA(), temperature=1e-3,\n",
    "                  pseudopotentials=Dict(:Si => path_to_pspfile))"
   ],
   "metadata": {},
   "execution_count": 4
  },
  {
   "cell_type": "markdown",
   "source": [
    "We can then discretise such a model and solve:"
   ],
   "metadata": {}
  },
  {
   "outputs": [
    {
     "name": "stdout",
     "output_type": "stream",
     "text": [
      "n     Energy            log10(ΔE)   log10(Δρ)   Diag   Δtime\n",
      "---   ---------------   ---------   ---------   ----   ------\n",
      "  1   -7.921749172194                   -0.69    5.5    285ms\n",
      "  2   -7.926133457674       -2.36       -1.22    1.0    548ms\n",
      "  3   -7.926833082332       -3.16       -2.37    2.0    181ms\n",
      "  4   -7.926861312757       -4.55       -2.99    3.1    201ms\n",
      "  5   -7.926861646168       -6.48       -3.38    2.1    165ms\n",
      "  6   -7.926861670578       -7.61       -3.84    1.4    154ms\n",
      "  7   -7.926861679666       -8.04       -4.20    1.5    151ms\n",
      "  8   -7.926861681782       -8.67       -5.00    1.6    153ms\n",
      "  9   -7.926861681857      -10.12       -5.19    2.5    178ms\n",
      " 10   -7.926861681869      -10.94       -5.61    1.0    143ms\n",
      " 11   -7.926861681872      -11.47       -6.23    1.1    152ms\n",
      " 12   -7.926861681873      -12.69       -7.57    2.1    171ms\n",
      " 13   -7.926861681873      -14.05       -7.53    4.0    213ms\n",
      " 14   -7.926861681873   +  -14.57       -8.66    1.0    147ms\n"
     ]
    }
   ],
   "cell_type": "code",
   "source": [
    "basis  = PlaneWaveBasis(model; Ecut=15, kgrid=[4, 4, 4])\n",
    "scfres = self_consistent_field(basis, tol=1e-8);"
   ],
   "metadata": {},
   "execution_count": 5
  },
  {
   "cell_type": "markdown",
   "source": [
    "If we did not want to use\n",
    "[AtomsBuilder](https://github.com/JuliaMolSim/AtomsBuilder.jl)\n",
    "we could of course use any other package\n",
    "which yields an AbstractSystem object. This includes:"
   ],
   "metadata": {}
  },
  {
   "cell_type": "markdown",
   "source": [
    "### Reading a system using AtomsIO\n",
    "\n",
    "Read a file using [AtomsIO](https://github.com/mfherbst/AtomsIO.jl),\n",
    "which directly yields an AbstractSystem."
   ],
   "metadata": {}
  },
  {
   "outputs": [],
   "cell_type": "code",
   "source": [
    "using AtomsIO\n",
    "system = load_system(\"Si.extxyz\");"
   ],
   "metadata": {},
   "execution_count": 6
  },
  {
   "cell_type": "markdown",
   "source": [
    "Run the LDA calculation:"
   ],
   "metadata": {}
  },
  {
   "outputs": [
    {
     "name": "stdout",
     "output_type": "stream",
     "text": [
      "n     Energy            log10(ΔE)   log10(Δρ)   Diag   Δtime\n",
      "---   ---------------   ---------   ---------   ----   ------\n",
      "  1   -7.921738734235                   -0.69    5.5    221ms\n",
      "  2   -7.926133821672       -2.36       -1.22    1.0    143ms\n",
      "  3   -7.926834652160       -3.15       -2.37    2.0    182ms\n",
      "  4   -7.926861217919       -4.58       -3.02    3.0    198ms\n",
      "  5   -7.926861657100       -6.36       -3.47    2.1    166ms\n",
      "  6   -7.926861675617       -7.73       -4.05    1.6    155ms\n",
      "  7   -7.926861677419       -8.74       -4.03    1.8    163ms\n",
      "  8   -7.926861678160       -9.13       -4.03    1.0    144ms\n",
      "  9   -7.926861681245       -8.51       -3.95    1.0    148ms\n",
      " 10   -7.926861681744       -9.30       -4.20    1.0    149ms\n",
      " 11   -7.926861681754      -11.03       -4.22    1.0    149ms\n",
      " 12   -7.926861681782      -10.54       -4.29    1.0    146ms\n",
      " 13   -7.926861681870      -10.06       -5.43    1.0    148ms\n",
      " 14   -7.926861681869   +  -12.05       -5.10    1.8    158ms\n",
      " 15   -7.926861681857   +  -10.92       -4.62    1.1    149ms\n",
      " 16   -7.926861681872      -10.83       -5.53    1.1    151ms\n",
      " 17   -7.926861681872      -12.64       -5.46    1.0    152ms\n",
      " 18   -7.926861681873      -12.28       -5.95    1.0    147ms\n",
      " 19   -7.926861681873      -13.18       -6.45    1.0    148ms\n",
      " 20   -7.926861681873   +  -14.57       -6.58    2.2    165ms\n",
      " 21   -7.926861681873      -14.15       -7.47    1.0    149ms\n",
      " 22   -7.926861681873      -14.75       -7.41    2.1    618ms\n",
      " 23   -7.926861681873   +  -14.27       -8.45    1.0    144ms\n"
     ]
    }
   ],
   "cell_type": "code",
   "source": [
    "pseudopotentials = PseudoFamily(\"cp2k.nc.sr.lda.v0_1.semicore.gth\")\n",
    "model  = model_DFT(system; pseudopotentials, functionals=LDA(), temperature=1e-3)\n",
    "basis  = PlaneWaveBasis(model; Ecut=15, kgrid=[4, 4, 4])\n",
    "scfres = self_consistent_field(basis, tol=1e-8);"
   ],
   "metadata": {},
   "execution_count": 7
  },
  {
   "cell_type": "markdown",
   "source": [
    "The same could be achieved using [ExtXYZ](https://github.com/libAtoms/ExtXYZ.jl)\n",
    "by `system = Atoms(read_frame(\"Si.extxyz\"))`,\n",
    "since the `ExtXYZ.Atoms` object is directly AtomsBase-compatible."
   ],
   "metadata": {}
  },
  {
   "cell_type": "markdown",
   "source": [
    "### Directly setting up a system in AtomsBase"
   ],
   "metadata": {}
  },
  {
   "outputs": [
    {
     "name": "stdout",
     "output_type": "stream",
     "text": [
      "n     Energy            log10(ΔE)   log10(Δρ)   Diag   Δtime\n",
      "---   ---------------   ---------   ---------   ----   ------\n",
      "  1   -7.921727180253                   -0.69    5.6    215ms\n",
      "  2   -7.926133585530       -2.36       -1.22    1.0    127ms\n",
      "  3   -7.926835924756       -3.15       -2.37    2.0    152ms\n",
      "  4   -7.926864678171       -4.54       -2.98    3.1    225ms\n",
      "  5   -7.926865047819       -6.43       -3.34    1.9    150ms\n",
      "  6   -7.926865079069       -7.51       -3.77    1.6    137ms\n",
      "  7   -7.926865090878       -7.93       -4.21    1.2    129ms\n"
     ]
    }
   ],
   "cell_type": "code",
   "source": [
    "using AtomsBase\n",
    "using Unitful\n",
    "using UnitfulAtomic\n",
    "\n",
    "# Construct a system in the AtomsBase world\n",
    "a = 10.26u\"bohr\"  # Silicon lattice constant\n",
    "lattice = a / 2 * [[0, 1, 1.],  # Lattice as vector of vectors\n",
    "                   [1, 0, 1.],\n",
    "                   [1, 1, 0.]]\n",
    "atoms  = [:Si => ones(3)/8, :Si => -ones(3)/8]\n",
    "system = periodic_system(atoms, lattice; fractional=true)\n",
    "\n",
    "# Now run the LDA calculation:\n",
    "pseudopotentials = PseudoFamily(\"cp2k.nc.sr.lda.v0_1.semicore.gth\")\n",
    "model  = model_DFT(system; pseudopotentials, functionals=LDA(), temperature=1e-3)\n",
    "basis  = PlaneWaveBasis(model; Ecut=15, kgrid=[4, 4, 4])\n",
    "scfres = self_consistent_field(basis, tol=1e-4);"
   ],
   "metadata": {},
   "execution_count": 8
  },
  {
   "cell_type": "markdown",
   "source": [
    "## Obtaining an AbstractSystem from DFTK data"
   ],
   "metadata": {}
  },
  {
   "cell_type": "markdown",
   "source": [
    "At any point we can also get back the DFTK model as an\n",
    "AtomsBase-compatible `AbstractSystem`:"
   ],
   "metadata": {}
  },
  {
   "outputs": [
    {
     "output_type": "execute_result",
     "data": {
      "text/plain": "FlexibleSystem(Si₂, periodicity = TTT):\n    cell_vectors      : [       0     5.13     5.13;\n                             5.13        0     5.13;\n                             5.13     5.13        0]u\"a₀\"\n\n    Atom(Si, [  1.2825,   1.2825,   1.2825]u\"a₀\")\n    Atom(Si, [ -1.2825,  -1.2825,  -1.2825]u\"a₀\")\n"
     },
     "metadata": {},
     "execution_count": 9
    }
   ],
   "cell_type": "code",
   "source": [
    "second_system = atomic_system(model)"
   ],
   "metadata": {},
   "execution_count": 9
  },
  {
   "cell_type": "markdown",
   "source": [
    "Similarly DFTK offers a method to the `atomic_system` and `periodic_system` functions\n",
    "(from AtomsBase), which enable a seamless conversion of the usual data structures for\n",
    "setting up DFTK calculations into an `AbstractSystem`:"
   ],
   "metadata": {}
  },
  {
   "outputs": [
    {
     "output_type": "execute_result",
     "data": {
      "text/plain": "FlexibleSystem(Si₂, periodicity = TTT):\n    cell_vectors      : [       0  5.13155  5.13155;\n                          5.13155        0  5.13155;\n                          5.13155  5.13155        0]u\"a₀\"\n\n    Atom(Si, [ 1.28289,  1.28289,  1.28289]u\"a₀\")\n    Atom(Si, [-1.28289, -1.28289, -1.28289]u\"a₀\")\n"
     },
     "metadata": {},
     "execution_count": 10
    }
   ],
   "cell_type": "code",
   "source": [
    "lattice = 5.431u\"Å\" / 2 * [[0 1 1.];\n",
    "                           [1 0 1.];\n",
    "                           [1 1 0.]];\n",
    "Si = ElementPsp(:Si, pseudopotentials)\n",
    "atoms     = [Si, Si]\n",
    "positions = [ones(3)/8, -ones(3)/8]\n",
    "\n",
    "third_system = atomic_system(lattice, atoms, positions)"
   ],
   "metadata": {},
   "execution_count": 10
  }
 ],
 "nbformat_minor": 3,
 "metadata": {
  "language_info": {
   "file_extension": ".jl",
   "mimetype": "application/julia",
   "name": "julia",
   "version": "1.11.5"
  },
  "kernelspec": {
   "name": "julia-1.11",
   "display_name": "Julia 1.11.5",
   "language": "julia"
  }
 },
 "nbformat": 4
}
