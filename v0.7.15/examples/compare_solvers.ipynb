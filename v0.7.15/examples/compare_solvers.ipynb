{
 "cells": [
  {
   "cell_type": "markdown",
   "source": [
    "# Comparison of DFT solvers"
   ],
   "metadata": {}
  },
  {
   "cell_type": "markdown",
   "source": [
    "We compare four different approaches for solving the DFT minimisation problem,\n",
    "namely a density-based SCF, a potential-based SCF, direct minimisation and Newton."
   ],
   "metadata": {}
  },
  {
   "cell_type": "markdown",
   "source": [
    "First we setup our problem"
   ],
   "metadata": {}
  },
  {
   "outputs": [
    {
     "name": "stdout",
     "output_type": "stream",
     "text": [
      " Downloading artifact: dojo.nc.sr.pbesol.v0_4_1.standard.upf\n"
     ]
    },
    {
     "output_type": "execute_result",
     "data": {
      "text/plain": "1.0e-6"
     },
     "metadata": {},
     "execution_count": 1
    }
   ],
   "cell_type": "code",
   "source": [
    "using AtomsBuilder\n",
    "using DFTK\n",
    "using LinearAlgebra\n",
    "using PseudoPotentialData\n",
    "\n",
    "pseudopotentials = PseudoFamily(\"dojo.nc.sr.pbesol.v0_4_1.standard.upf\")\n",
    "model = model_DFT(bulk(:Si); functionals=PBEsol(), pseudopotentials)\n",
    "basis = PlaneWaveBasis(model; Ecut=5, kgrid=[3, 3, 3])\n",
    "\n",
    "# Convergence we desire in the density\n",
    "tol = 1e-6"
   ],
   "metadata": {},
   "execution_count": 1
  },
  {
   "cell_type": "markdown",
   "source": [
    "## Density-based self-consistent field"
   ],
   "metadata": {}
  },
  {
   "outputs": [
    {
     "name": "stdout",
     "output_type": "stream",
     "text": [
      "n     Energy            log10(ΔE)   log10(Δρ)   Diag   Δtime\n",
      "---   ---------------   ---------   ---------   ----   ------\n",
      "  1   -8.397807683005                   -0.90    5.2   62.4ms\n",
      "  2   -8.400237723330       -2.61       -1.74    1.0   19.3ms\n",
      "  3   -8.400404604187       -3.78       -2.97    1.5   20.1ms\n",
      "  4   -8.400427862976       -4.63       -2.98    3.2   24.4ms\n",
      "  5   -8.400427927672       -7.19       -3.02    1.0   19.3ms\n",
      "  6   -8.400428149309       -6.65       -4.67    1.0   19.0ms\n",
      "  7   -8.400428155819       -8.19       -4.42    2.8   45.7ms\n",
      "  8   -8.400428156247       -9.37       -5.10    1.0   19.7ms\n",
      "  9   -8.400428156275      -10.56       -6.60    1.0   19.8ms\n"
     ]
    }
   ],
   "cell_type": "code",
   "source": [
    "scfres_scf = self_consistent_field(basis; tol);"
   ],
   "metadata": {},
   "execution_count": 2
  },
  {
   "cell_type": "markdown",
   "source": [
    "## Potential-based SCF"
   ],
   "metadata": {}
  },
  {
   "outputs": [
    {
     "name": "stdout",
     "output_type": "stream",
     "text": [
      "n     Energy            log10(ΔE)   log10(Δρ)   α      Diag   Δtime\n",
      "---   ---------------   ---------   ---------   ----   ----   ------\n",
      "  1   -8.397806444056                   -0.90           5.2    604ms\n",
      "  2   -8.400382161421       -2.59       -1.79   0.80    2.0    547ms\n",
      "  3   -8.400422238155       -4.40       -3.02   0.80    1.0    202ms\n",
      "  4   -8.400428116205       -5.23       -3.41   0.80    2.5   21.0ms\n",
      "  5   -8.400428153460       -7.43       -4.55   0.80    1.0   17.0ms\n",
      "  6   -8.400428156234       -8.56       -5.68   0.80    2.2   20.1ms\n",
      "  7   -8.400428156277      -10.37       -6.31   0.80    3.0   59.4ms\n"
     ]
    }
   ],
   "cell_type": "code",
   "source": [
    "scfres_scfv = DFTK.scf_potential_mixing(basis; tol);"
   ],
   "metadata": {},
   "execution_count": 3
  },
  {
   "cell_type": "markdown",
   "source": [
    "## Direct minimization"
   ],
   "metadata": {}
  },
  {
   "outputs": [
    {
     "name": "stdout",
     "output_type": "stream",
     "text": [
      "┌ Warning: x_tol is deprecated. Use x_abstol or x_reltol instead. The provided value (-1) will be used as x_abstol.\n",
      "└ @ Optim ~/.julia/packages/Optim/7krni/src/types.jl:110\n",
      "┌ Warning: f_tol is deprecated. Use f_abstol or f_reltol instead. The provided value (-1) will be used as f_reltol.\n",
      "└ @ Optim ~/.julia/packages/Optim/7krni/src/types.jl:120\n",
      "n     Energy            log10(ΔE)   log10(Δρ)   Δtime\n",
      "---   ---------------   ---------   ---------   ------\n",
      "  1   +1.030984982622                   -1.07    2.52s\n",
      "  2   -1.342092463780        0.38       -0.69    125ms\n",
      "  3   -4.333030614006        0.48       -0.41   87.5ms\n",
      "  4   -5.886637770556        0.19       -0.47   44.6ms\n",
      "  5   -7.477222243094        0.20       -0.75   44.6ms\n",
      "  6   -7.962479251928       -0.31       -1.19   33.1ms\n",
      "  7   -8.188689477827       -0.65       -1.44   58.5ms\n",
      "  8   -8.261864208048       -1.14       -1.84   33.0ms\n",
      "  9   -8.309430961835       -1.32       -1.99   32.9ms\n",
      " 10   -8.340665172619       -1.51       -1.98   33.1ms\n",
      " 11   -8.365475509350       -1.61       -2.21   33.2ms\n",
      " 12   -8.384295725683       -1.73       -2.39   32.7ms\n",
      " 13   -8.393198003338       -2.05       -2.62   36.8ms\n",
      " 14   -8.398215027184       -2.30       -2.97   32.9ms\n",
      " 15   -8.399299975160       -2.96       -3.46   32.9ms\n",
      " 16   -8.400037349072       -3.13       -3.07   36.6ms\n",
      " 17   -8.400253501480       -3.67       -3.46   32.9ms\n",
      " 18   -8.400359691835       -3.97       -3.72   32.7ms\n",
      " 19   -8.400405933257       -4.33       -3.57   32.6ms\n",
      " 20   -8.400418524038       -4.90       -3.81   36.9ms\n",
      " 21   -8.400425177325       -5.18       -4.31   33.4ms\n",
      " 22   -8.400427002238       -5.74       -4.45   35.9ms\n",
      " 23   -8.400427854931       -6.07       -4.60   32.9ms\n",
      " 24   -8.400427993868       -6.86       -5.67   32.6ms\n",
      " 25   -8.400428101182       -6.97       -5.25   35.9ms\n",
      " 26   -8.400428125985       -7.61       -5.33   32.7ms\n",
      " 27   -8.400428143447       -7.76       -5.30   35.4ms\n",
      " 28   -8.400428151291       -8.11       -5.94   32.9ms\n",
      " 29   -8.400428154209       -8.53       -6.01   32.8ms\n"
     ]
    }
   ],
   "cell_type": "code",
   "source": [
    "scfres_dm = direct_minimization(basis; tol);"
   ],
   "metadata": {},
   "execution_count": 4
  },
  {
   "cell_type": "markdown",
   "source": [
    "## Newton algorithm"
   ],
   "metadata": {}
  },
  {
   "cell_type": "markdown",
   "source": [
    "Start not too far from the solution to ensure convergence:\n",
    "We run first a very crude SCF to get close and then switch to Newton."
   ],
   "metadata": {}
  },
  {
   "outputs": [
    {
     "name": "stdout",
     "output_type": "stream",
     "text": [
      "n     Energy            log10(ΔE)   log10(Δρ)   Diag   Δtime\n",
      "---   ---------------   ---------   ---------   ----   ------\n",
      "  1   -8.397799642488                   -0.90    5.5   27.0ms\n"
     ]
    }
   ],
   "cell_type": "code",
   "source": [
    "scfres_start = self_consistent_field(basis; tol=0.5);"
   ],
   "metadata": {},
   "execution_count": 5
  },
  {
   "cell_type": "markdown",
   "source": [
    "Remove the virtual orbitals (which Newton cannot treat yet)"
   ],
   "metadata": {}
  },
  {
   "outputs": [
    {
     "name": "stdout",
     "output_type": "stream",
     "text": [
      "n     Energy            log10(ΔE)   log10(Δρ)   Δtime\n",
      "---   ---------------   ---------   ---------   ------\n",
      "  1   -8.400427978011                   -1.78    25.3s\n",
      "  2   -8.400428156277       -6.75       -4.02    2.64s\n",
      "  3   -8.400428156277      -14.45       -7.81    118ms\n"
     ]
    }
   ],
   "cell_type": "code",
   "source": [
    "ψ = DFTK.select_occupied_orbitals(basis, scfres_start.ψ, scfres_start.occupation).ψ\n",
    "scfres_newton = newton(basis, ψ; tol);"
   ],
   "metadata": {},
   "execution_count": 6
  },
  {
   "cell_type": "markdown",
   "source": [
    "## Comparison of results"
   ],
   "metadata": {}
  },
  {
   "outputs": [
    {
     "name": "stdout",
     "output_type": "stream",
     "text": [
      "|ρ_newton - ρ_scf|  = 7.54710688039219e-7\n",
      "|ρ_newton - ρ_scfv| = 1.6032366028009072e-7\n",
      "|ρ_newton - ρ_dm|   = 1.0346387872161044e-6\n"
     ]
    }
   ],
   "cell_type": "code",
   "source": [
    "println(\"|ρ_newton - ρ_scf|  = \", norm(scfres_newton.ρ - scfres_scf.ρ))\n",
    "println(\"|ρ_newton - ρ_scfv| = \", norm(scfres_newton.ρ - scfres_scfv.ρ))\n",
    "println(\"|ρ_newton - ρ_dm|   = \", norm(scfres_newton.ρ - scfres_dm.ρ))"
   ],
   "metadata": {},
   "execution_count": 7
  }
 ],
 "nbformat_minor": 3,
 "metadata": {
  "language_info": {
   "file_extension": ".jl",
   "mimetype": "application/julia",
   "name": "julia",
   "version": "1.11.5"
  },
  "kernelspec": {
   "name": "julia-1.11",
   "display_name": "Julia 1.11.5",
   "language": "julia"
  }
 },
 "nbformat": 4
}
