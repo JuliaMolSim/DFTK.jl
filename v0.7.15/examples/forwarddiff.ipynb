{
 "cells": [
  {
   "cell_type": "markdown",
   "source": [
    "# Polarizability using automatic differentiation\n",
    "\n",
    "Simple example for computing properties using (forward-mode)\n",
    "automatic differentiation.\n",
    "For a more classical approach and more details about computing polarizabilities,\n",
    "see Polarizability by linear response."
   ],
   "metadata": {}
  },
  {
   "outputs": [],
   "cell_type": "code",
   "source": [
    "using DFTK\n",
    "using LinearAlgebra\n",
    "using ForwardDiff\n",
    "using PseudoPotentialData\n",
    "\n",
    "# Construct PlaneWaveBasis given a particular electric field strength\n",
    "# Again we take the example of a Helium atom.\n",
    "function make_basis(ε::T; a=10., Ecut=30) where {T}\n",
    "    lattice = T(a) * I(3)  # lattice is a cube of $a$ Bohrs\n",
    "    # Helium at the center of the box\n",
    "    pseudopotentials = PseudoFamily(\"cp2k.nc.sr.lda.v0_1.semicore.gth\")\n",
    "    atoms     = [ElementPsp(:He, pseudopotentials)]\n",
    "    positions = [[1/2, 1/2, 1/2]]\n",
    "\n",
    "    model = model_DFT(lattice, atoms, positions;\n",
    "                      functionals=[:lda_x, :lda_c_vwn],\n",
    "                      extra_terms=[ExternalFromReal(r -> -ε * (r[1] - a/2))],\n",
    "                      symmetries=false)\n",
    "    PlaneWaveBasis(model; Ecut, kgrid=[1, 1, 1])  # No k-point sampling on isolated system\n",
    "end\n",
    "\n",
    "# dipole moment of a given density (assuming the current geometry)\n",
    "function dipole(basis, ρ)\n",
    "    @assert isdiag(basis.model.lattice)\n",
    "    a  = basis.model.lattice[1, 1]\n",
    "    rr = [a * (r[1] - 1/2) for r in r_vectors(basis)]\n",
    "    sum(rr .* ρ) * basis.dvol\n",
    "end\n",
    "\n",
    "# Function to compute the dipole for a given field strength\n",
    "function compute_dipole(ε; tol=1e-8, kwargs...)\n",
    "    scfres = self_consistent_field(make_basis(ε; kwargs...); tol)\n",
    "    dipole(scfres.basis, scfres.ρ)\n",
    "end;"
   ],
   "metadata": {},
   "execution_count": 1
  },
  {
   "cell_type": "markdown",
   "source": [
    "With this in place we can compute the polarizability from finite differences\n",
    "(just like in the previous example):"
   ],
   "metadata": {}
  },
  {
   "outputs": [
    {
     "name": "stdout",
     "output_type": "stream",
     "text": [
      "n     Energy            log10(ΔE)   log10(Δρ)   Diag   Δtime\n",
      "---   ---------------   ---------   ---------   ----   ------\n",
      "  1   -2.770823894709                   -0.53    9.0    169ms\n",
      "  2   -2.772142293067       -2.88       -1.31    1.0    104ms\n",
      "  3   -2.772170433588       -4.55       -2.55    1.0   99.3ms\n",
      "  4   -2.772170686287       -6.60       -3.45    1.0    102ms\n",
      "  5   -2.772170721073       -7.46       -3.89    2.0    121ms\n",
      "  6   -2.772170722967       -8.72       -5.36    1.0    109ms\n",
      "  7   -2.772170723012      -10.35       -5.30    3.0    139ms\n",
      "  8   -2.772170723015      -11.52       -5.91    1.0    481ms\n",
      "  9   -2.772170723015      -12.57       -6.90    1.0    107ms\n",
      " 10   -2.772170723015   +  -13.85       -7.84    1.0    129ms\n",
      " 11   -2.772170723015      -13.56       -7.92    2.0    135ms\n",
      " 12   -2.772170723015   +  -13.99       -8.70    1.0    107ms\n",
      "n     Energy            log10(ΔE)   log10(Δρ)   Diag   Δtime\n",
      "---   ---------------   ---------   ---------   ----   ------\n",
      "  1   -2.770771350837                   -0.52    9.0    167ms\n",
      "  2   -2.772060337443       -2.89       -1.32    1.0    102ms\n",
      "  3   -2.772082969152       -4.65       -2.43    1.0   97.5ms\n",
      "  4   -2.772083335202       -6.44       -3.12    1.0    102ms\n",
      "  5   -2.772083417727       -7.08       -4.48    2.0    118ms\n",
      "  6   -2.772083417765      -10.43       -4.64    1.0    108ms\n",
      "  7   -2.772083417809      -10.36       -5.73    1.0    110ms\n",
      "  8   -2.772083417811      -11.71       -6.06    2.0    490ms\n",
      "  9   -2.772083417811      -13.16       -6.44    1.0    106ms\n",
      " 10   -2.772083417811      -13.36       -7.69    1.0    114ms\n",
      " 11   -2.772083417811   +  -13.56       -8.49    2.0    137ms\n"
     ]
    },
    {
     "output_type": "execute_result",
     "data": {
      "text/plain": "1.773557997019131"
     },
     "metadata": {},
     "execution_count": 2
    }
   ],
   "cell_type": "code",
   "source": [
    "polarizability_fd = let\n",
    "    ε = 0.01\n",
    "    (compute_dipole(ε) - compute_dipole(0.0)) / ε\n",
    "end"
   ],
   "metadata": {},
   "execution_count": 2
  },
  {
   "cell_type": "markdown",
   "source": [
    "We do the same thing using automatic differentiation. Under the hood this uses\n",
    "custom rules to implicitly differentiate through the self-consistent\n",
    "field fixed-point problem. This leads to a density-functional perturbation\n",
    "theory problem, which is automatically set up and solved in the background."
   ],
   "metadata": {}
  },
  {
   "outputs": [
    {
     "name": "stdout",
     "output_type": "stream",
     "text": [
      "n     Energy            log10(ΔE)   log10(Δρ)   Diag   Δtime\n",
      "---   ---------------   ---------   ---------   ----   ------\n",
      "  1   -2.770502834147                   -0.53    9.0    172ms\n",
      "  2   -2.772052687405       -2.81       -1.29    1.0   97.9ms\n",
      "  3   -2.772082921744       -4.52       -2.70    1.0    103ms\n",
      "  4   -2.772083389667       -6.33       -4.11    1.0    104ms\n",
      "  5   -2.772083417768       -7.55       -4.82    2.0    120ms\n",
      "  6   -2.772083417808      -10.40       -5.88    1.0    487ms\n",
      "  7   -2.772083417811      -11.55       -6.21    2.0    116ms\n",
      "  8   -2.772083417811      -13.63       -6.35    1.0    104ms\n",
      "  9   -2.772083417811      -13.73       -7.86    1.0    107ms\n",
      " 10   -2.772083417811      -13.97       -7.79    3.0    135ms\n",
      " 11   -2.772083417811      -14.51       -8.26    1.0    108ms\n",
      "Solving response problem\n",
      "Iter  Restart  Krydim  log10(res)  avg(CG)  Δtime   Comment\n",
      "----  -------  ------  ----------  -------  ------  ---------------\n",
      "                                      13.0  82.6ms  Non-interacting\n",
      "   1        0       1       -0.60     10.0   153ms  \n",
      "   2        0       2       -2.42      8.0   122ms  \n",
      "   3        0       3       -3.55      6.0   112ms  \n",
      "   4        0       4       -5.33      5.0   106ms  \n",
      "   5        0       5       -7.81      2.0  93.9ms  \n",
      "   6        0       6      -10.49      1.0  87.9ms  \n",
      "   7        1       1       -9.02     11.0   619ms  Restart\n",
      "                                      13.0   123ms  Final orbitals\n",
      "\n",
      "Polarizability via ForwardDiff:       1.7725349584874064\n",
      "Polarizability via finite difference: 1.773557997019131\n"
     ]
    }
   ],
   "cell_type": "code",
   "source": [
    "polarizability = ForwardDiff.derivative(compute_dipole, 0.0)\n",
    "println()\n",
    "println(\"Polarizability via ForwardDiff:       $polarizability\")\n",
    "println(\"Polarizability via finite difference: $polarizability_fd\")"
   ],
   "metadata": {},
   "execution_count": 3
  }
 ],
 "nbformat_minor": 3,
 "metadata": {
  "language_info": {
   "file_extension": ".jl",
   "mimetype": "application/julia",
   "name": "julia",
   "version": "1.11.5"
  },
  "kernelspec": {
   "name": "julia-1.11",
   "display_name": "Julia 1.11.5",
   "language": "julia"
  }
 },
 "nbformat": 4
}
