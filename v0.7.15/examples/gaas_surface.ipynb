{
 "cells": [
  {
   "cell_type": "markdown",
   "source": [
    "# Modelling a gallium arsenide surface\n",
    "\n",
    "This example shows how to use the atomistic simulation environment or ASE for short,\n",
    "to set up and run a particular calculation of a gallium arsenide surface.\n",
    "ASE is a Python package to simplify the process of setting up,\n",
    "running and analysing results from atomistic simulations across different simulation codes.\n",
    "For more details on the integration DFTK provides with ASE,\n",
    "see Atomistic simulation environment (ASE).\n",
    "\n",
    "In this example we will consider modelling the (1, 1, 0) GaAs surface separated by vacuum."
   ],
   "metadata": {}
  },
  {
   "cell_type": "markdown",
   "source": [
    "Parameters of the calculation. Since this surface is far from easy to converge,\n",
    "we made the problem simpler by choosing a smaller `Ecut` and smaller values\n",
    "for `n_GaAs` and `n_vacuum`.\n",
    "More interesting settings are `Ecut = 15` and `n_GaAs = n_vacuum = 20`."
   ],
   "metadata": {}
  },
  {
   "outputs": [],
   "cell_type": "code",
   "source": [
    "miller = (1, 1, 0)   # Surface Miller indices\n",
    "n_GaAs = 2           # Number of GaAs layers\n",
    "n_vacuum = 4         # Number of vacuum layers\n",
    "Ecut = 5             # Hartree\n",
    "kgrid = (4, 4, 1);   # Monkhorst-Pack mesh"
   ],
   "metadata": {},
   "execution_count": 1
  },
  {
   "cell_type": "markdown",
   "source": [
    "Use ASE to build the structure:"
   ],
   "metadata": {}
  },
  {
   "outputs": [],
   "cell_type": "code",
   "source": [
    "using ASEconvert\n",
    "using PythonCall\n",
    "\n",
    "a = 5.6537  # GaAs lattice parameter in Ångström (because ASE uses Å as length unit)\n",
    "gaas = ase.build.bulk(\"GaAs\", \"zincblende\"; a)\n",
    "surface = ase.build.surface(gaas, miller, n_GaAs, 0, periodic=true);"
   ],
   "metadata": {},
   "execution_count": 2
  },
  {
   "cell_type": "markdown",
   "source": [
    "Get the amount of vacuum in Ångström we need to add"
   ],
   "metadata": {}
  },
  {
   "outputs": [],
   "cell_type": "code",
   "source": [
    "d_vacuum = maximum(maximum, surface.cell) / n_GaAs * n_vacuum\n",
    "surface = ase.build.surface(gaas, miller, n_GaAs, d_vacuum, periodic=true);"
   ],
   "metadata": {},
   "execution_count": 3
  },
  {
   "cell_type": "markdown",
   "source": [
    "Write an image of the surface and embed it as a nice illustration:"
   ],
   "metadata": {}
  },
  {
   "outputs": [
    {
     "output_type": "execute_result",
     "data": {
      "text/plain": "Python: None"
     },
     "metadata": {},
     "execution_count": 4
    }
   ],
   "cell_type": "code",
   "source": [
    "ase.io.write(\"surface.png\", surface * pytuple((3, 3, 1)), rotation=\"-90x, 30y, -75z\")"
   ],
   "metadata": {},
   "execution_count": 4
  },
  {
   "cell_type": "markdown",
   "source": [
    "<img src=\"https://docs.dftk.org/stable/surface.png\" width=500 height=500 />"
   ],
   "metadata": {}
  },
  {
   "cell_type": "markdown",
   "source": [
    "Use the `pyconvert` function from `PythonCall` to convert the ASE atoms\n",
    "to an AtomsBase-compatible system.\n",
    "This can then be used in the same way as other `AtomsBase` systems\n",
    "(see AtomsBase integration for details) to construct a DFTK model:"
   ],
   "metadata": {}
  },
  {
   "outputs": [
    {
     "output_type": "execute_result",
     "data": {
      "text/plain": "Model(gga_x_pbe+gga_c_pbe, 3D):\n    lattice (in Bohr)    : [7.55469   , 0         , 0         ]\n                           [0         , 7.55469   , 0         ]\n                           [0         , 0         , 40.0648   ]\n    unit cell volume     : 2286.6 Bohr³\n\n    atoms                : As₂Ga₂\n    atom potentials      : ElementPsp(Ga, \"/home/runner/.julia/artifacts/9a2a5dc89d1b33bff2ad61eaf2d000191050d15c/Ga.gth\")\n                           ElementPsp(As, \"/home/runner/.julia/artifacts/9a2a5dc89d1b33bff2ad61eaf2d000191050d15c/As.gth\")\n                           ElementPsp(Ga, \"/home/runner/.julia/artifacts/9a2a5dc89d1b33bff2ad61eaf2d000191050d15c/Ga.gth\")\n                           ElementPsp(As, \"/home/runner/.julia/artifacts/9a2a5dc89d1b33bff2ad61eaf2d000191050d15c/As.gth\")\n\n    num. electrons       : 16\n    spin polarization    : none\n    temperature          : 0.001 Ha\n    smearing             : DFTK.Smearing.Gaussian()\n\n    terms                : Kinetic()\n                           AtomicLocal()\n                           AtomicNonlocal()\n                           Ewald(nothing)\n                           PspCorrection()\n                           Hartree()\n                           Xc(gga_x_pbe, gga_c_pbe)\n                           Entropy()"
     },
     "metadata": {},
     "execution_count": 5
    }
   ],
   "cell_type": "code",
   "source": [
    "using DFTK\n",
    "using PseudoPotentialData\n",
    "\n",
    "pseudopotentials = PseudoFamily(\"cp2k.nc.sr.pbe.v0_1.largecore.gth\")\n",
    "model = model_DFT(pyconvert(AbstractSystem, surface);\n",
    "                  functionals=PBE(),\n",
    "                  temperature=1e-3,\n",
    "                  smearing=DFTK.Smearing.Gaussian(),\n",
    "                  pseudopotentials)"
   ],
   "metadata": {},
   "execution_count": 5
  },
  {
   "cell_type": "markdown",
   "source": [
    "In the above we use the `pseudopotential` keyword argument to\n",
    "assign the respective pseudopotentials to the imported `model.atoms`.\n",
    "Try lowering the SCF convergence tolerance (`tol`)\n",
    "or try `mixing=KerkerMixing()` to see the full challenge of this system."
   ],
   "metadata": {}
  },
  {
   "outputs": [
    {
     "name": "stdout",
     "output_type": "stream",
     "text": [
      "n     Energy            log10(ΔE)   log10(Δρ)   Diag   Δtime\n",
      "---   ---------------   ---------   ---------   ----   ------\n",
      "  1   -16.58743655565                   -0.58    5.3    1.82s\n",
      "  2   -16.72507215009       -0.86       -1.01    1.0    279ms\n",
      "  3   -16.73050756573       -2.26       -1.57    2.2    269ms\n",
      "  4   -16.73121303514       -3.15       -2.16    1.0    220ms\n",
      "  5   -16.73132186579       -3.96       -2.58    1.9    244ms\n",
      "  6   -16.73133294651       -4.96       -2.81    2.0    250ms\n",
      "  7   -16.73071003901   +   -3.21       -2.41    2.2    265ms\n",
      "  8   -16.73130100986       -3.23       -2.85    2.3    573ms\n",
      "  9   -16.73120688575   +   -4.03       -2.73    2.0    232ms\n",
      " 10   -16.73133364262       -3.90       -3.35    1.8    218ms\n",
      " 11   -16.73133965312       -5.22       -3.75    1.0    193ms\n",
      " 12   -16.73134008927       -6.36       -3.96    1.9    241ms\n",
      " 13   -16.73134015988       -7.15       -4.29    1.6    225ms\n",
      " 14   -16.73134018370       -7.62       -4.66    1.4    218ms\n",
      " 15   -16.73134019960       -7.80       -5.05    2.0    245ms\n",
      " 16   -16.73134019862   +   -9.01       -5.15    1.4    222ms\n",
      " 17   -16.73134019936       -9.13       -5.22    2.0    234ms\n",
      " 18   -16.73134020038       -8.99       -5.79    1.0    201ms\n",
      " 19   -16.73134020041      -10.46       -6.15    1.1    524ms\n"
     ]
    }
   ],
   "cell_type": "code",
   "source": [
    "basis  = PlaneWaveBasis(model; Ecut, kgrid)\n",
    "scfres = self_consistent_field(basis; tol=1e-6, mixing=LdosMixing());"
   ],
   "metadata": {},
   "execution_count": 6
  },
  {
   "outputs": [
    {
     "output_type": "execute_result",
     "data": {
      "text/plain": "Energy breakdown (in Ha):\n    Kinetic             5.8593967 \n    AtomicLocal         -105.6100032\n    AtomicNonlocal      2.3494809 \n    Ewald               35.5044300\n    PspCorrection       0.2016043 \n    Hartree             49.5614179\n    Xc                  -4.5976633\n    Entropy             -0.0000035\n\n    total               -16.731340200415"
     },
     "metadata": {},
     "execution_count": 7
    }
   ],
   "cell_type": "code",
   "source": [
    "scfres.energies"
   ],
   "metadata": {},
   "execution_count": 7
  }
 ],
 "nbformat_minor": 3,
 "metadata": {
  "language_info": {
   "file_extension": ".jl",
   "mimetype": "application/julia",
   "name": "julia",
   "version": "1.11.5"
  },
  "kernelspec": {
   "name": "julia-1.11",
   "display_name": "Julia 1.11.5",
   "language": "julia"
  }
 },
 "nbformat": 4
}
