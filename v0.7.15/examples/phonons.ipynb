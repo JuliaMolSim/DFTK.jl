{
 "cells": [
  {
   "cell_type": "markdown",
   "source": [
    "# Phonon computations\n",
    "\n",
    "This is a quick sketch how to run a simple phonon calculation using DFTK.\n",
    "First we run an SCF calculation."
   ],
   "metadata": {}
  },
  {
   "outputs": [
    {
     "name": "stdout",
     "output_type": "stream",
     "text": [
      "n     Energy            log10(ΔE)   log10(Δρ)   Diag   Δtime\n",
      "---   ---------------   ---------   ---------   ----   ------\n",
      "  1   -7.916448349404                   -0.69    4.8    104ms\n",
      "  2   -7.921208691179       -2.32       -1.52    1.0   52.6ms\n",
      "  3   -7.921404522876       -3.71       -2.49    1.4   80.7ms\n",
      "  4   -7.921440843063       -4.44       -2.82    2.8   75.2ms\n",
      "  5   -7.921441596832       -6.12       -2.98    1.1   54.2ms\n",
      "  6   -7.921442006636       -6.39       -4.51    1.0   53.1ms\n",
      "  7   -7.921442021746       -7.82       -4.56    2.9   92.2ms\n",
      "  8   -7.921442022126       -9.42       -5.18    1.0   53.9ms\n",
      "  9   -7.921442022143      -10.79       -6.05    1.4   58.4ms\n",
      " 10   -7.921442022144      -11.98       -5.85    2.4   71.1ms\n",
      " 11   -7.921442022144      -12.38       -6.46    1.0   58.2ms\n",
      " 12   -7.921442022144      -13.64       -7.19    1.0   54.9ms\n",
      " 13   -7.921442022144      -14.45       -7.55    1.5   61.6ms\n",
      " 14   -7.921442022144   +  -14.75       -8.38    1.1   59.6ms\n"
     ]
    }
   ],
   "cell_type": "code",
   "source": [
    "using AtomsBuilder\n",
    "using DFTK\n",
    "using PseudoPotentialData\n",
    "\n",
    "pseudopotentials = PseudoFamily(\"cp2k.nc.sr.lda.v0_1.semicore.gth\")\n",
    "model  = model_DFT(bulk(:Si); pseudopotentials, functionals=LDA())\n",
    "basis  = PlaneWaveBasis(model; Ecut=10, kgrid=[4, 4, 4])\n",
    "scfres = self_consistent_field(basis, tol=1e-8);\n",
    "nothing  # hide"
   ],
   "metadata": {},
   "execution_count": 1
  },
  {
   "cell_type": "markdown",
   "source": [
    "Next we compute the phonon modes at the q-point `[1/4, 1/4, 1/4]`."
   ],
   "metadata": {}
  },
  {
   "outputs": [
    {
     "name": "stdout",
     "output_type": "stream",
     "text": [
      "Iter  Restart  Krydim  log10(res)  avg(CG)  Δtime   Comment\n",
      "----  -------  ------  ----------  -------  ------  ---------------\n",
      "                                      73.1   2.77s  Non-interacting\n",
      "   1        0       1        0.31     52.8   18.7s  \n",
      "   2        0       2       -0.52     47.2   1.91s  \n",
      "   3        0       3       -2.40     41.8   1.38s  \n",
      "   4        0       4       -4.46     29.9   1.07s  \n",
      "   5        0       5       -6.46     17.5   756ms  \n",
      "   6        0       6       -8.92      4.0   420ms  \n",
      "   7        1       1       -7.85     55.7   2.11s  Restart\n",
      "   8        1       2       -9.03      5.6   459ms  \n",
      "                                      72.9   2.03s  Final orbitals\n",
      "Iter  Restart  Krydim  log10(res)  avg(CG)  Δtime   Comment\n",
      "----  -------  ------  ----------  -------  ------  ---------------\n",
      "                                      73.0   1.84s  Non-interacting\n",
      "   1        0       1        0.31     52.8   2.09s  \n",
      "   2        0       2       -0.52     47.2   1.53s  \n",
      "   3        0       3       -2.40     41.8   1.38s  \n",
      "   4        0       4       -4.46     29.9   1.08s  \n",
      "   5        0       5       -6.46     17.5   773ms  \n",
      "   6        0       6       -8.92      4.0   423ms  \n",
      "   7        1       1       -7.85     55.7   2.02s  Restart\n",
      "   8        1       2       -9.03      5.6   479ms  \n",
      "                                      72.9   2.01s  Final orbitals\n",
      "Iter  Restart  Krydim  log10(res)  avg(CG)  Δtime   Comment\n",
      "----  -------  ------  ----------  -------  ------  ---------------\n",
      "                                      73.0   1.81s  Non-interacting\n",
      "   1        0       1        0.31     52.8   1.76s  \n",
      "   2        0       2       -0.52     47.2   1.51s  \n",
      "   3        0       3       -2.40     41.8   1.37s  \n",
      "   4        0       4       -4.46     29.9   1.08s  \n",
      "   5        0       5       -6.46     17.5   761ms  \n",
      "   6        0       6       -8.92      4.0   427ms  \n",
      "   7        1       1       -7.85     55.7   2.02s  Restart\n",
      "   8        1       2       -9.03      5.6   462ms  \n",
      "                                      72.9   2.37s  Final orbitals\n",
      "Iter  Restart  Krydim  log10(res)  avg(CG)  Δtime   Comment\n",
      "----  -------  ------  ----------  -------  ------  ---------------\n",
      "                                      73.1   1.88s  Non-interacting\n",
      "   1        0       1        0.31     52.8   1.73s  \n",
      "   2        0       2       -0.52     47.2   1.49s  \n",
      "   3        0       3       -2.40     41.8   1.35s  \n",
      "   4        0       4       -4.46     29.9   1.06s  \n",
      "   5        0       5       -6.46     17.5   745ms  \n",
      "   6        0       6       -8.92      4.0   424ms  \n",
      "   7        1       1       -7.85     55.7   2.43s  Restart\n",
      "   8        1       2       -9.04      5.6   424ms  \n",
      "                                      72.9   2.00s  Final orbitals\n",
      "Iter  Restart  Krydim  log10(res)  avg(CG)  Δtime   Comment\n",
      "----  -------  ------  ----------  -------  ------  ---------------\n",
      "                                      73.1   1.89s  Non-interacting\n",
      "   1        0       1        0.31     52.8   1.74s  \n",
      "   2        0       2       -0.52     47.2   1.49s  \n",
      "   3        0       3       -2.40     41.8   1.36s  \n",
      "   4        0       4       -4.46     29.9   1.05s  \n",
      "   5        0       5       -6.46     17.5   744ms  \n",
      "   6        0       6       -8.92      4.0   413ms  \n",
      "   7        1       1       -7.85     55.7   2.39s  Restart\n",
      "   8        1       2       -9.04      5.6   439ms  \n",
      "                                      72.9   2.02s  Final orbitals\n",
      "Iter  Restart  Krydim  log10(res)  avg(CG)  Δtime   Comment\n",
      "----  -------  ------  ----------  -------  ------  ---------------\n",
      "                                      73.1   1.87s  Non-interacting\n",
      "   1        0       1        0.31     52.8   1.72s  \n",
      "   2        0       2       -0.52     47.2   1.48s  \n",
      "   3        0       3       -2.40     41.8   1.35s  \n",
      "   4        0       4       -4.46     29.9   1.06s  \n",
      "   5        0       5       -6.46     17.5   743ms  \n",
      "   6        0       6       -8.92      4.0   458ms  \n",
      "   7        1       1       -7.85     55.7   2.33s  Restart\n",
      "   8        1       2       -9.04      5.6   465ms  \n",
      "                                      72.9   2.01s  Final orbitals\n",
      "129.535828 seconds (144.85 M allocations: 83.012 GiB, 6.80% gc time, 31.27% compilation time)\n"
     ]
    }
   ],
   "cell_type": "code",
   "source": [
    "scfres = DFTK.unfold_bz(scfres)\n",
    "phret_q0 = @time DFTK.phonon_modes(scfres; q=[0.25, 0.25, 0.25]);\n",
    "nothing  # hide"
   ],
   "metadata": {},
   "execution_count": 2
  },
  {
   "cell_type": "markdown",
   "source": [
    "These are the final phonon frequencies:"
   ],
   "metadata": {}
  },
  {
   "outputs": [
    {
     "output_type": "execute_result",
     "data": {
      "text/plain": "6-element Vector{Float64}:\n -0.0034981553634571673\n -0.002977451164477944\n -0.0029774511631113164\n  0.004302230617776421\n  0.00430223061860389\n  0.0043532017506919115"
     },
     "metadata": {},
     "execution_count": 3
    }
   ],
   "cell_type": "code",
   "source": [
    "phret_q0.frequencies"
   ],
   "metadata": {},
   "execution_count": 3
  },
  {
   "cell_type": "markdown",
   "source": [
    "> **Preliminary implementation**\n",
    ">\n",
    "> Practical phonon computations have only seen rudimentary testing as of now.\n",
    "> As of now we do not yet recommend relying on this feature for production\n",
    "> calculations. We appreciate any issues, bug reports or PRs."
   ],
   "metadata": {}
  }
 ],
 "nbformat_minor": 3,
 "metadata": {
  "language_info": {
   "file_extension": ".jl",
   "mimetype": "application/julia",
   "name": "julia",
   "version": "1.11.5"
  },
  "kernelspec": {
   "name": "julia-1.11",
   "display_name": "Julia 1.11.5",
   "language": "julia"
  }
 },
 "nbformat": 4
}
