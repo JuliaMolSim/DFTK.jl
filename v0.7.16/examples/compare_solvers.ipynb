{
 "cells": [
  {
   "cell_type": "markdown",
   "source": [
    "# Comparison of DFT solvers"
   ],
   "metadata": {}
  },
  {
   "cell_type": "markdown",
   "source": [
    "We compare four different approaches for solving the DFT minimisation problem,\n",
    "namely a density-based SCF, a potential-based SCF, direct minimisation and Newton."
   ],
   "metadata": {}
  },
  {
   "cell_type": "markdown",
   "source": [
    "First we setup our problem"
   ],
   "metadata": {}
  },
  {
   "outputs": [
    {
     "output_type": "execute_result",
     "data": {
      "text/plain": "1.0e-6"
     },
     "metadata": {},
     "execution_count": 1
    }
   ],
   "cell_type": "code",
   "source": [
    "using AtomsBuilder\n",
    "using DFTK\n",
    "using LinearAlgebra\n",
    "using PseudoPotentialData\n",
    "\n",
    "pseudopotentials = PseudoFamily(\"dojo.nc.sr.pbesol.v0_4_1.standard.upf\")\n",
    "model = model_DFT(bulk(:Si); functionals=PBEsol(), pseudopotentials)\n",
    "basis = PlaneWaveBasis(model; Ecut=5, kgrid=[3, 3, 3])\n",
    "\n",
    "# Convergence we desire in the density\n",
    "tol = 1e-6"
   ],
   "metadata": {},
   "execution_count": 1
  },
  {
   "cell_type": "markdown",
   "source": [
    "## Density-based self-consistent field"
   ],
   "metadata": {}
  },
  {
   "outputs": [
    {
     "name": "stdout",
     "output_type": "stream",
     "text": [
      "n     Energy            log10(ΔE)   log10(Δρ)   Diag   Δtime\n",
      "---   ---------------   ---------   ---------   ----   ------\n",
      "  1   -8.397703008689                   -0.90    4.8   25.0ms\n",
      "  2   -8.400205046229       -2.60       -1.74    1.0   18.6ms\n",
      "  3   -8.400407222918       -3.69       -2.96    1.8   50.0ms\n",
      "  4   -8.400427897730       -4.68       -3.00    3.0   23.4ms\n",
      "  5   -8.400427976603       -7.10       -3.08    1.0   18.6ms\n",
      "  6   -8.400428146613       -6.77       -4.71    1.0   18.6ms\n",
      "  7   -8.400428151859       -8.28       -4.48    3.0   23.5ms\n",
      "  8   -8.400428152183       -9.49       -5.12    1.0   18.8ms\n",
      "  9   -8.400428152207      -10.62       -6.47    1.0   41.4ms\n"
     ]
    }
   ],
   "cell_type": "code",
   "source": [
    "scfres_scf = self_consistent_field(basis; tol);"
   ],
   "metadata": {},
   "execution_count": 2
  },
  {
   "cell_type": "markdown",
   "source": [
    "## Potential-based SCF"
   ],
   "metadata": {}
  },
  {
   "outputs": [
    {
     "name": "stdout",
     "output_type": "stream",
     "text": [
      "n     Energy            log10(ΔE)   log10(Δρ)   α      Diag   Δtime\n",
      "---   ---------------   ---------   ---------   ----   ----   ------\n",
      "  1   -8.397773248235                   -0.90           5.0    826ms\n",
      "  2   -8.400376448887       -2.58       -1.77   0.80    2.2    508ms\n",
      "  3   -8.400422276893       -4.34       -2.98   0.80    1.0    186ms\n",
      "  4   -8.400428107238       -5.23       -3.40   0.80    2.5   20.2ms\n",
      "  5   -8.400428148832       -7.38       -4.69   0.80    1.2   16.9ms\n",
      "  6   -8.400428152181       -8.48       -5.49   0.80    2.8   20.5ms\n",
      "  7   -8.400428152208      -10.56       -6.18   0.80    2.2   58.6ms\n"
     ]
    }
   ],
   "cell_type": "code",
   "source": [
    "scfres_scfv = DFTK.scf_potential_mixing(basis; tol);"
   ],
   "metadata": {},
   "execution_count": 3
  },
  {
   "cell_type": "markdown",
   "source": [
    "## Direct minimization"
   ],
   "metadata": {}
  },
  {
   "outputs": [
    {
     "name": "stdout",
     "output_type": "stream",
     "text": [
      "┌ Warning: x_tol is deprecated. Use x_abstol or x_reltol instead. The provided value (-1) will be used as x_abstol.\n",
      "└ @ Optim ~/.julia/packages/Optim/7krni/src/types.jl:110\n",
      "┌ Warning: f_tol is deprecated. Use f_abstol or f_reltol instead. The provided value (-1) will be used as f_reltol.\n",
      "└ @ Optim ~/.julia/packages/Optim/7krni/src/types.jl:120\n",
      "n     Energy            log10(ΔE)   log10(Δρ)   Δtime\n",
      "---   ---------------   ---------   ---------   ------\n",
      "  1   +1.451564217883                   -1.07    2.42s\n",
      "  2   -1.670673739798        0.49       -0.68    120ms\n",
      "  3   -4.197987194022        0.40       -0.42   43.3ms\n",
      "  4   -5.945974697708        0.24       -0.57   84.6ms\n",
      "  5   -7.404908828107        0.16       -0.72   43.7ms\n",
      "  6   -7.700079133346       -0.53       -1.33   32.4ms\n",
      "  7   -7.985053480536       -0.55       -1.44   32.3ms\n",
      "  8   -7.985935699004       -3.05       -1.78   56.8ms\n",
      "  9   -8.182191849185       -0.71       -1.46   32.4ms\n",
      " 10   -8.304583172656       -0.91       -1.54   43.5ms\n",
      " 11   -8.339616879716       -1.46       -2.16   32.2ms\n",
      " 12   -8.365238263156       -1.59       -2.05   33.0ms\n",
      " 13   -8.382050131120       -1.77       -2.47   35.1ms\n",
      " 14   -8.390566958309       -2.07       -2.61   33.4ms\n",
      " 15   -8.395979017027       -2.27       -2.57   32.3ms\n",
      " 16   -8.398227341715       -2.65       -3.16   32.6ms\n",
      " 17   -8.399500260142       -2.90       -3.13   35.2ms\n",
      " 18   -8.399973676169       -3.32       -3.41   32.4ms\n",
      " 19   -8.400227275588       -3.60       -3.56   32.0ms\n",
      " 20   -8.400343881964       -3.93       -3.80   35.1ms\n",
      " 21   -8.400396602252       -4.28       -3.73   32.2ms\n",
      " 22   -8.400411635930       -4.82       -4.50   32.0ms\n",
      " 23   -8.400420937682       -5.03       -4.11   34.9ms\n",
      " 24   -8.400425637725       -5.33       -4.27   32.2ms\n",
      " 25   -8.400427101712       -5.83       -4.37   32.3ms\n",
      " 26   -8.400427779529       -6.17       -4.78   35.3ms\n",
      " 27   -8.400427984143       -6.69       -4.88   32.1ms\n",
      " 28   -8.400428080790       -7.01       -5.15   35.1ms\n",
      " 29   -8.400428120130       -7.41       -5.30   32.2ms\n",
      " 30   -8.400428137979       -7.75       -5.49   32.3ms\n",
      " 31   -8.400428146666       -8.06       -6.04   34.7ms\n"
     ]
    }
   ],
   "cell_type": "code",
   "source": [
    "scfres_dm = direct_minimization(basis; tol);"
   ],
   "metadata": {},
   "execution_count": 4
  },
  {
   "cell_type": "markdown",
   "source": [
    "## Newton algorithm"
   ],
   "metadata": {}
  },
  {
   "cell_type": "markdown",
   "source": [
    "Start not too far from the solution to ensure convergence:\n",
    "We run first a very crude SCF to get close and then switch to Newton."
   ],
   "metadata": {}
  },
  {
   "outputs": [
    {
     "name": "stdout",
     "output_type": "stream",
     "text": [
      "n     Energy            log10(ΔE)   log10(Δρ)   Diag   Δtime\n",
      "---   ---------------   ---------   ---------   ----   ------\n",
      "  1   -8.397867962757                   -0.90    5.2   26.1ms\n"
     ]
    }
   ],
   "cell_type": "code",
   "source": [
    "scfres_start = self_consistent_field(basis; tol=0.5);"
   ],
   "metadata": {},
   "execution_count": 5
  },
  {
   "cell_type": "markdown",
   "source": [
    "Remove the virtual orbitals (which Newton cannot treat yet)"
   ],
   "metadata": {}
  },
  {
   "outputs": [
    {
     "name": "stdout",
     "output_type": "stream",
     "text": [
      "n     Energy            log10(ΔE)   log10(Δρ)   Δtime\n",
      "---   ---------------   ---------   ---------   ------\n",
      "  1   -8.400427979196                   -1.78    24.2s\n",
      "  2   -8.400428152209       -6.76       -4.02    1.95s\n",
      "  3   -8.400428152209      -14.45       -7.82    101ms\n"
     ]
    }
   ],
   "cell_type": "code",
   "source": [
    "ψ = DFTK.select_occupied_orbitals(basis, scfres_start.ψ, scfres_start.occupation).ψ\n",
    "scfres_newton = newton(basis, ψ; tol);"
   ],
   "metadata": {},
   "execution_count": 6
  },
  {
   "cell_type": "markdown",
   "source": [
    "## Comparison of results"
   ],
   "metadata": {}
  },
  {
   "outputs": [
    {
     "name": "stdout",
     "output_type": "stream",
     "text": [
      "|ρ_newton - ρ_scf|  = 6.05885444763951e-7\n",
      "|ρ_newton - ρ_scfv| = 3.4395084441889135e-7\n",
      "|ρ_newton - ρ_dm|   = 2.810614849705745e-6\n"
     ]
    }
   ],
   "cell_type": "code",
   "source": [
    "println(\"|ρ_newton - ρ_scf|  = \", norm(scfres_newton.ρ - scfres_scf.ρ))\n",
    "println(\"|ρ_newton - ρ_scfv| = \", norm(scfres_newton.ρ - scfres_scfv.ρ))\n",
    "println(\"|ρ_newton - ρ_dm|   = \", norm(scfres_newton.ρ - scfres_dm.ρ))"
   ],
   "metadata": {},
   "execution_count": 7
  }
 ],
 "nbformat_minor": 3,
 "metadata": {
  "language_info": {
   "file_extension": ".jl",
   "mimetype": "application/julia",
   "name": "julia",
   "version": "1.11.5"
  },
  "kernelspec": {
   "name": "julia-1.11",
   "display_name": "Julia 1.11.5",
   "language": "julia"
  }
 },
 "nbformat": 4
}
