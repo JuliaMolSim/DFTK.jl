{
 "cells": [
  {
   "cell_type": "markdown",
   "source": [
    "# Polarizability using automatic differentiation\n",
    "\n",
    "Simple example for computing properties using (forward-mode)\n",
    "automatic differentiation.\n",
    "For a more classical approach and more details about computing polarizabilities,\n",
    "see Polarizability by linear response."
   ],
   "metadata": {}
  },
  {
   "outputs": [],
   "cell_type": "code",
   "source": [
    "using DFTK\n",
    "using LinearAlgebra\n",
    "using ForwardDiff\n",
    "using PseudoPotentialData\n",
    "\n",
    "# Construct PlaneWaveBasis given a particular electric field strength\n",
    "# Again we take the example of a Helium atom.\n",
    "function make_basis(ε::T; a=10., Ecut=30) where {T}\n",
    "    lattice = T(a) * I(3)  # lattice is a cube of $a$ Bohrs\n",
    "    # Helium at the center of the box\n",
    "    pseudopotentials = PseudoFamily(\"cp2k.nc.sr.lda.v0_1.semicore.gth\")\n",
    "    atoms     = [ElementPsp(:He, pseudopotentials)]\n",
    "    positions = [[1/2, 1/2, 1/2]]\n",
    "\n",
    "    model = model_DFT(lattice, atoms, positions;\n",
    "                      functionals=[:lda_x, :lda_c_vwn],\n",
    "                      extra_terms=[ExternalFromReal(r -> -ε * (r[1] - a/2))],\n",
    "                      symmetries=false)\n",
    "    PlaneWaveBasis(model; Ecut, kgrid=[1, 1, 1])  # No k-point sampling on isolated system\n",
    "end\n",
    "\n",
    "# dipole moment of a given density (assuming the current geometry)\n",
    "function dipole(basis, ρ)\n",
    "    @assert isdiag(basis.model.lattice)\n",
    "    a  = basis.model.lattice[1, 1]\n",
    "    rr = [a * (r[1] - 1/2) for r in r_vectors(basis)]\n",
    "    sum(rr .* ρ) * basis.dvol\n",
    "end\n",
    "\n",
    "# Function to compute the dipole for a given field strength\n",
    "function compute_dipole(ε; tol=1e-8, kwargs...)\n",
    "    scfres = self_consistent_field(make_basis(ε; kwargs...); tol)\n",
    "    dipole(scfres.basis, scfres.ρ)\n",
    "end;"
   ],
   "metadata": {},
   "execution_count": 1
  },
  {
   "cell_type": "markdown",
   "source": [
    "With this in place we can compute the polarizability from finite differences\n",
    "(just like in the previous example):"
   ],
   "metadata": {}
  },
  {
   "outputs": [
    {
     "name": "stdout",
     "output_type": "stream",
     "text": [
      "n     Energy            log10(ΔE)   log10(Δρ)   Diag   Δtime\n",
      "---   ---------------   ---------   ---------   ----   ------\n",
      "  1   -2.771002743383                   -0.53    9.0    176ms\n",
      "  2   -2.772151607798       -2.94       -1.32    1.0    105ms\n",
      "  3   -2.772170426366       -4.73       -2.50    1.0    101ms\n",
      "  4   -2.772170667643       -6.62       -3.26    1.0    145ms\n",
      "  5   -2.772170722171       -7.26       -4.01    2.0    445ms\n",
      "  6   -2.772170722851       -9.17       -4.44    1.0    103ms\n",
      "  7   -2.772170723010       -9.80       -5.32    1.0    135ms\n",
      "  8   -2.772170723015      -11.30       -6.50    2.0    132ms\n",
      "  9   -2.772170723015   +  -14.24       -6.49    2.0    119ms\n",
      " 10   -2.772170723015      -13.48       -7.27    1.0    108ms\n",
      " 11   -2.772170723015   +  -14.01       -7.69    1.0    114ms\n",
      " 12   -2.772170723015      -14.07       -8.19    2.0    125ms\n",
      "n     Energy            log10(ΔE)   log10(Δρ)   Diag   Δtime\n",
      "---   ---------------   ---------   ---------   ----   ------\n",
      "  1   -2.770734883657                   -0.53    8.0    148ms\n",
      "  2   -2.772053359461       -2.88       -1.31    1.0   98.5ms\n",
      "  3   -2.772082763628       -4.53       -2.55    1.0    100ms\n",
      "  4   -2.772083348946       -6.23       -3.47    1.0    102ms\n",
      "  5   -2.772083416068       -7.17       -3.89    2.0    120ms\n",
      "  6   -2.772083417773       -8.77       -5.09    1.0    105ms\n",
      "  7   -2.772083417810      -10.44       -5.48    2.0    163ms\n",
      "  8   -2.772083417811      -12.01       -5.93    1.0    429ms\n",
      "  9   -2.772083417811      -13.32       -7.14    1.0    105ms\n",
      " 10   -2.772083417811      -13.81       -7.31    2.0    143ms\n",
      " 11   -2.772083417811   +  -13.77       -7.31    1.0    114ms\n",
      " 12   -2.772083417811      -13.77       -8.16    1.0    116ms\n"
     ]
    },
    {
     "output_type": "execute_result",
     "data": {
      "text/plain": "1.773557946792601"
     },
     "metadata": {},
     "execution_count": 2
    }
   ],
   "cell_type": "code",
   "source": [
    "polarizability_fd = let\n",
    "    ε = 0.01\n",
    "    (compute_dipole(ε) - compute_dipole(0.0)) / ε\n",
    "end"
   ],
   "metadata": {},
   "execution_count": 2
  },
  {
   "cell_type": "markdown",
   "source": [
    "We do the same thing using automatic differentiation. Under the hood this uses\n",
    "custom rules to implicitly differentiate through the self-consistent\n",
    "field fixed-point problem. This leads to a density-functional perturbation\n",
    "theory problem, which is automatically set up and solved in the background."
   ],
   "metadata": {}
  },
  {
   "outputs": [
    {
     "name": "stdout",
     "output_type": "stream",
     "text": [
      "n     Energy            log10(ΔE)   log10(Δρ)   Diag   Δtime\n",
      "---   ---------------   ---------   ---------   ----   ------\n",
      "  1   -2.770813722049                   -0.52    8.0    160ms\n",
      "  2   -2.772059651235       -2.90       -1.32    1.0    106ms\n",
      "  3   -2.772083166579       -4.63       -2.51    1.0    100ms\n",
      "  4   -2.772083366651       -6.70       -3.28    1.0    102ms\n",
      "  5   -2.772083415890       -7.31       -3.88    2.0    118ms\n",
      "  6   -2.772083417778       -8.72       -5.18    1.0    485ms\n",
      "  7   -2.772083417810      -10.50       -5.45    2.0    116ms\n",
      "  8   -2.772083417811      -12.14       -6.51    1.0    105ms\n",
      "  9   -2.772083417811      -13.67       -7.20    2.0    118ms\n",
      " 10   -2.772083417811      -15.05       -7.77    1.0    107ms\n",
      " 11   -2.772083417811      -14.40       -8.64    1.0    107ms\n",
      "Solving response problem\n",
      "Iter  Restart  Krydim  log10(res)  avg(CG)  Δtime   Comment\n",
      "----  -------  ------  ----------  -------  ------  ---------------\n",
      "                                      13.0  92.6ms  Non-interacting\n",
      "   1        0       1       -0.60     11.0   144ms  \n",
      "   2        0       2       -2.42      8.0   117ms  \n",
      "   3        0       3       -3.55      6.0   109ms  \n",
      "   4        0       4       -5.33      5.0   105ms  \n",
      "   5        0       5       -7.78      2.0  90.7ms  \n",
      "   6        0       6      -10.48      1.0  86.9ms  \n",
      "   7        1       1       -8.02     13.0   267ms  Restart\n",
      "   8        1       2       -9.08      2.0   434ms  \n",
      "                                      13.0   120ms  Final orbitals\n",
      "\n",
      "Polarizability via ForwardDiff:       1.7725349745911432\n",
      "Polarizability via finite difference: 1.773557946792601\n"
     ]
    }
   ],
   "cell_type": "code",
   "source": [
    "polarizability = ForwardDiff.derivative(compute_dipole, 0.0)\n",
    "println()\n",
    "println(\"Polarizability via ForwardDiff:       $polarizability\")\n",
    "println(\"Polarizability via finite difference: $polarizability_fd\")"
   ],
   "metadata": {},
   "execution_count": 3
  }
 ],
 "nbformat_minor": 3,
 "metadata": {
  "language_info": {
   "file_extension": ".jl",
   "mimetype": "application/julia",
   "name": "julia",
   "version": "1.11.5"
  },
  "kernelspec": {
   "name": "julia-1.11",
   "display_name": "Julia 1.11.5",
   "language": "julia"
  }
 },
 "nbformat": 4
}
