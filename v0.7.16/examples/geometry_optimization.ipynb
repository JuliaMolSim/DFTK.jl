{
 "cells": [
  {
   "cell_type": "markdown",
   "source": [
    "# Geometry optimization\n",
    "\n",
    "We use DFTK and the [GeometryOptimization](https://github.com/JuliaMolSim/GeometryOptimization.jl/)\n",
    "package to find the minimal-energy bond length of the $H_2$ molecule.\n",
    "First we set up an appropriate `DFTKCalculator` (see AtomsCalculators integration),\n",
    "for which we use the LDA model just like in the Tutorial for silicon\n",
    "in combination with a pseudodojo pseudopotential (see Pseudopotentials)."
   ],
   "metadata": {}
  },
  {
   "outputs": [
    {
     "output_type": "execute_result",
     "data": {
      "text/plain": "DFTKCalculator(functionals=Xc(lda_x, lda_c_pw), pseudopotentials=PseudoFamily(\"dojo.nc.sr.pbe.v0_4_1.standard.upf\"), Ecut=10, kgrid=[1, 1, 1])"
     },
     "metadata": {},
     "execution_count": 1
    }
   ],
   "cell_type": "code",
   "source": [
    "using DFTK\n",
    "using PseudoPotentialData\n",
    "\n",
    "pseudopotentials = PseudoFamily(\"dojo.nc.sr.pbe.v0_4_1.standard.upf\")\n",
    "calc = DFTKCalculator(;\n",
    "    model_kwargs = (; functionals=LDA(), pseudopotentials),  # model_DFT keyword arguments\n",
    "    basis_kwargs = (; kgrid=[1, 1, 1], Ecut=10)  # PlaneWaveBasis keyword arguments\n",
    ")"
   ],
   "metadata": {},
   "execution_count": 1
  },
  {
   "cell_type": "markdown",
   "source": [
    "Next we set up an initial hydrogen molecule within a box of vacuum.\n",
    "We use the parameters of the\n",
    "[equivalent tutorial from ABINIT](https://docs.abinit.org/tutorial/base1/)\n",
    "and DFTK's AtomsBase integration to setup the hydrogen molecule.\n",
    "We employ a simulation box of 10 bohr times 10 bohr times 10 bohr and a\n",
    "pseudodojo pseudopotential."
   ],
   "metadata": {}
  },
  {
   "outputs": [
    {
     "output_type": "execute_result",
     "data": {
      "text/plain": "FlexibleSystem(H₂, periodicity = TTT):\n    cell_vectors      : [      10        0        0;\n                                0       10        0;\n                                0        0       10]u\"a₀\"\n\n    Atom(H,  [       0,        0,        0]u\"a₀\")\n    Atom(H,  [     1.4,        0,        0]u\"a₀\")\n"
     },
     "metadata": {},
     "execution_count": 2
    }
   ],
   "cell_type": "code",
   "source": [
    "using LinearAlgebra\n",
    "using Unitful\n",
    "using UnitfulAtomic\n",
    "\n",
    "r0 = 1.4   # Initial bond length in Bohr\n",
    "a  = 10.0  # Box size in Bohr\n",
    "\n",
    "cell_vectors = [[a, 0, 0]u\"bohr\", [0, a, 0]u\"bohr\", [0, 0, a]u\"bohr\"]\n",
    "h2_crude = periodic_system([:H => [0, 0, 0.]u\"bohr\",\n",
    "                            :H => [r0, 0, 0]u\"bohr\"],\n",
    "                           cell_vectors)"
   ],
   "metadata": {},
   "execution_count": 2
  },
  {
   "cell_type": "markdown",
   "source": [
    "Finally we call `minimize_energy!` to start the geometry optimisation.\n",
    "We use `verbosity=2` to get some insight into the minimisation.\n",
    "With `verbosity=1` only a summarising table would be printed and with\n",
    "`verbosity=0` (default) the minimisation would be quiet."
   ],
   "metadata": {}
  },
  {
   "outputs": [
    {
     "name": "stdout",
     "output_type": "stream",
     "text": [
      "n     Energy            log10(ΔE)   log10(Δρ)   α      Diag   Δtime\n",
      "---   ---------------   ---------   ---------   ----   ----   ------\n",
      "  1   -1.110460401867                   -0.82   0.80    8.0    388ms\n",
      "  2   -1.117179105018       -2.17       -1.85   0.80    1.0   17.2ms\n",
      "  3   -1.117249971415       -4.15       -2.66   0.80    1.0   56.1ms\n",
      "  4   -1.117251067150       -5.96       -3.29   0.80    1.0   17.5ms\n",
      "  5   -1.117251187135       -6.92       -4.23   0.80    1.0   17.5ms\n",
      "  6   -1.117251190043       -8.54       -4.79   0.80    2.0   31.4ms\n",
      "  7   -1.117251190138      -10.02       -5.44   0.80    1.0   18.3ms\n",
      "  8   -1.117251190143      -11.32       -6.15   0.80    1.0   18.9ms\n",
      "  9   -1.117251190143      -12.58       -6.71   0.80    2.0   22.6ms\n",
      " 10   -1.117251190143      -13.99       -7.31   0.80    1.0   19.1ms\n",
      " 11   -1.117251190143      -14.81       -8.10   0.80    2.0   22.5ms\n",
      " 12   -1.117251190143      -14.75       -8.58   0.80    1.0   19.0ms\n",
      "n     Energy            log10(ΔE)   log10(Δρ)   α      Diag   Δtime\n",
      "---   ---------------   ---------   ---------   ----   ----   ------\n",
      "  1   -1.117251190143                   -8.99   0.80    1.0    2.52s\n",
      "  2   -1.117251190143      -14.88       -9.99   0.80    1.0   17.2ms\n",
      "\n",
      "Geometry optimisation convergence (in atomic units)\n",
      "┌─────┬─────────────────┬───────────┬─────────────┬────────┐\n",
      "│   n │          Energy │ log10(ΔE) │  max(Force) │  Δtime │\n",
      "├─────┼─────────────────┼───────────┼─────────────┼────────┤\n",
      "│   0 │ -1.117251190143 │           │   0.0269318 │  11.2s │\n",
      "└─────┴─────────────────┴───────────┴─────────────┴────────┘\n",
      "\n",
      "n     Energy            log10(ΔE)   log10(Δρ)   α      Diag   Δtime\n",
      "---   ---------------   ---------   ---------   ----   ----   ------\n",
      "  1   -1.117517998057                   -2.46   0.80    1.0   10.7ms\n",
      "  2   -1.117520586051       -5.59       -3.49   0.80    1.0   16.7ms\n",
      "  3   -1.117520612985       -7.57       -4.23   0.80    1.0   16.8ms\n",
      "  4   -1.117520613449       -9.33       -5.14   0.80    1.0   30.3ms\n",
      "  5   -1.117520613464      -10.81       -5.92   0.80    1.0   17.5ms\n",
      "  6   -1.117520613465      -12.13       -6.42   0.80    1.0   17.7ms\n",
      "  7   -1.117520613465      -13.35       -7.39   0.80    1.0   20.1ms\n",
      "  8   -1.117520613465      -14.33       -8.18   0.80    1.0   18.8ms\n",
      "  9   -1.117520613465   +  -14.81       -8.96   0.80    1.0   59.6ms\n",
      "n     Energy            log10(ΔE)   log10(Δρ)   α      Diag   Δtime\n",
      "---   ---------------   ---------   ---------   ----   ----   ------\n",
      "  1   -1.118247264593                   -1.69   0.80    1.0    329ms\n",
      "  2   -1.118339043933       -4.04       -2.70   0.80    1.0   16.9ms\n",
      "  3   -1.118340011112       -6.01       -3.44   0.80    1.0   17.0ms\n",
      "  4   -1.118340028553       -7.76       -4.36   0.80    1.0   17.2ms\n",
      "  5   -1.118340029137       -9.23       -5.12   0.80    1.0   17.5ms\n",
      "  6   -1.118340029164      -10.57       -5.62   0.80    1.0   17.8ms\n",
      "  7   -1.118340029166      -11.73       -6.68   0.80    1.0   18.2ms\n",
      "  8   -1.118340029166      -13.53       -7.58   0.80    1.0   18.7ms\n",
      "  9   -1.118340029166      -14.75       -8.12   0.80    1.0   18.5ms\n",
      " 10   -1.118340029166   +  -14.22       -8.55   0.80    1.0   23.5ms\n",
      "n     Energy            log10(ΔE)   log10(Δρ)   α      Diag   Δtime\n",
      "---   ---------------   ---------   ---------   ----   ----   ------\n",
      "  1   -1.118340029166                   -9.05   0.80    1.0   10.4ms\n",
      "  2   -1.118340029166      -14.81      -10.36   0.80    1.0   16.6ms\n",
      "n     Energy            log10(ΔE)   log10(Δρ)   α      Diag   Δtime\n",
      "---   ---------------   ---------   ---------   ----   ----   ------\n",
      "  1   -1.118340029166                  -11.04   0.80    1.0   10.3ms\n",
      "  2   -1.118340029166      -15.05      -11.41   0.80    1.0   22.9ms\n",
      "\n",
      "┌─────┬─────────────────┬───────────┬─────────────┬────────┐\n",
      "│   n │          Energy │ log10(ΔE) │  max(Force) │  Δtime │\n",
      "├─────┼─────────────────┼───────────┼─────────────┼────────┤\n",
      "│   1 │ -1.118340029166 │           │  0.00297055 │  2.08s │\n",
      "└─────┴─────────────────┴───────────┴─────────────┴────────┘\n",
      "\n",
      "n     Energy            log10(ΔE)   log10(Δρ)   α      Diag   Δtime\n",
      "---   ---------------   ---------   ---------   ----   ----   ------\n",
      "  1   -1.118346721507                   -3.09   0.80    1.0   10.4ms\n",
      "  2   -1.118346864758       -6.84       -4.11   0.80    1.0   16.6ms\n",
      "  3   -1.118346866235       -8.83       -4.86   0.80    1.0   16.8ms\n",
      "  4   -1.118346866261      -10.59       -5.78   0.80    1.0   23.2ms\n",
      "  5   -1.118346866262      -12.08       -6.55   0.80    1.0   17.8ms\n",
      "  6   -1.118346866262      -13.45       -7.04   0.80    1.0   18.1ms\n",
      "  7   -1.118346866262      -15.05       -8.13   0.80    1.0   18.3ms\n",
      "  8   -1.118346866262      -14.61       -8.95   0.80    1.0   23.0ms\n",
      "n     Energy            log10(ΔE)   log10(Δρ)   α      Diag   Δtime\n",
      "---   ---------------   ---------   ---------   ----   ----   ------\n",
      "  1   -1.118354724004                   -2.61   0.80    1.0   10.2ms\n",
      "  2   -1.118356087056       -5.87       -3.62   0.80    1.0   19.4ms\n",
      "  3   -1.118356101131       -7.85       -4.37   0.80    1.0   16.8ms\n",
      "  4   -1.118356101377       -9.61       -5.29   0.80    1.0   18.7ms\n",
      "  5   -1.118356101385      -11.10       -6.06   0.80    1.0   17.5ms\n",
      "  6   -1.118356101386      -12.45       -6.55   0.80    1.0   19.3ms\n",
      "  7   -1.118356101386      -13.59       -7.65   0.80    1.0   18.4ms\n",
      "  8   -1.118356101386   +  -14.75       -8.45   0.80    1.0   20.0ms\n",
      "n     Energy            log10(ΔE)   log10(Δρ)   α      Diag   Δtime\n",
      "---   ---------------   ---------   ---------   ----   ----   ------\n",
      "  1   -1.118356101386                   -9.24   0.80    1.0   12.7ms\n",
      "  2   -1.118356101386   +  -15.05       -9.82   0.80    1.0   16.6ms\n",
      "n     Energy            log10(ΔE)   log10(Δρ)   α      Diag   Δtime\n",
      "---   ---------------   ---------   ---------   ----   ----   ------\n",
      "  1   -1.118356101386                  -10.62   0.80    1.0   12.8ms\n",
      "  2   -1.118356101386      -15.65      -11.46   0.80    1.0   18.0ms\n",
      "\n",
      "┌─────┬─────────────────┬───────────┬─────────────┬────────┐\n",
      "│   n │          Energy │ log10(ΔE) │  max(Force) │  Δtime │\n",
      "├─────┼─────────────────┼───────────┼─────────────┼────────┤\n",
      "│   2 │ -1.118356101386 │     -4.79 │  4.47268e-5 │  578ms │\n",
      "└─────┴─────────────────┴───────────┴─────────────┴────────┘\n",
      "\n",
      "n     Energy            log10(ΔE)   log10(Δρ)   α      Diag   Δtime\n",
      "---   ---------------   ---------   ---------   ----   ----   ------\n",
      "  1   -1.118356102848                   -4.94   0.80    1.0   10.4ms\n",
      "  2   -1.118356102877      -10.54       -5.96   0.80    1.0   16.5ms\n",
      "  3   -1.118356102877      -12.53       -6.70   0.80    1.0   22.0ms\n",
      "  4   -1.118356102877      -14.15       -7.62   0.80    1.0   17.1ms\n",
      "  5   -1.118356102877   +  -15.05       -8.39   0.80    1.0   19.2ms\n",
      "  6   -1.118356102877   +  -15.65       -8.89   0.80    1.0   17.9ms\n",
      "n     Energy            log10(ΔE)   log10(Δρ)   α      Diag   Δtime\n",
      "---   ---------------   ---------   ---------   ----   ----   ------\n",
      "  1   -1.118356104771                   -4.40   0.80    1.0   10.3ms\n",
      "  2   -1.118356105116       -9.46       -5.42   0.80    1.0   19.1ms\n",
      "  3   -1.118356105120      -11.45       -6.17   0.80    1.0   18.2ms\n",
      "  4   -1.118356105120      -13.21       -7.09   0.80    1.0   18.4ms\n",
      "  5   -1.118356105120      -14.57       -7.86   0.80    1.0   19.1ms\n",
      "  6   -1.118356105120   +  -15.05       -8.35   0.80    1.0   19.1ms\n",
      "  7   -1.118356105120      -15.65       -9.45   0.80    1.0   18.3ms\n",
      "n     Energy            log10(ΔE)   log10(Δρ)   α      Diag   Δtime\n",
      "---   ---------------   ---------   ---------   ----   ----   ------\n",
      "  1   -1.118356105120                  -10.08   0.80    1.0   12.7ms\n",
      "  2   -1.118356105120      -14.70      -11.02   0.80    1.0   18.0ms\n",
      "n     Energy            log10(ΔE)   log10(Δρ)   α      Diag   Δtime\n",
      "---   ---------------   ---------   ---------   ----   ----   ------\n",
      "  1   -1.118356105120                  -11.67   0.80    1.0   10.2ms\n",
      "  2   -1.118356105120   +  -15.05      -12.44   0.80    1.0   18.0ms\n",
      "\n",
      "┌─────┬─────────────────┬───────────┬─────────────┬────────┐\n",
      "│   n │          Energy │ log10(ΔE) │  max(Force) │  Δtime │\n",
      "├─────┼─────────────────┼───────────┼─────────────┼────────┤\n",
      "│   3 │ -1.118356105120 │     -8.43 │  1.09497e-8 │  531ms │\n",
      "└─────┴─────────────────┴───────────┴─────────────┴────────┘\n",
      "\n"
     ]
    }
   ],
   "cell_type": "code",
   "source": [
    "using GeometryOptimization\n",
    "results = minimize_energy!(h2_crude, calc; tol_forces=2e-6, verbosity=2)\n",
    "nothing  # hide"
   ],
   "metadata": {},
   "execution_count": 3
  },
  {
   "cell_type": "markdown",
   "source": [
    "Structure after optimisation (note that the atom has wrapped around)"
   ],
   "metadata": {}
  },
  {
   "outputs": [
    {
     "output_type": "execute_result",
     "data": {
      "text/plain": "FlexibleSystem(H₂, periodicity = TTT):\n    cell_vectors      : [      10        0        0;\n                                0       10        0;\n                                0        0       10]u\"a₀\"\n\n    Atom(H,  [-0.0431829, 1.68666e-12, 8.86323e-12]u\"a₀\")\n    Atom(H,  [ 1.44318, 1.81042e-12, 1.01548e-11]u\"a₀\")\n"
     },
     "metadata": {},
     "execution_count": 4
    }
   ],
   "cell_type": "code",
   "source": [
    "results.system"
   ],
   "metadata": {},
   "execution_count": 4
  },
  {
   "cell_type": "markdown",
   "source": [
    "Compute final bond length:"
   ],
   "metadata": {}
  },
  {
   "outputs": [
    {
     "name": "stdout",
     "output_type": "stream",
     "text": [
      "Optimal bond length: 1.4863658650159428 a₀\n"
     ]
    }
   ],
   "cell_type": "code",
   "source": [
    "rmin = norm(position(results.system[1]) - position(results.system[2]))\n",
    "println(\"Optimal bond length: \", rmin)"
   ],
   "metadata": {},
   "execution_count": 5
  },
  {
   "cell_type": "markdown",
   "source": [
    "Our results (1.486 Bohr) agrees with the\n",
    "[equivalent tutorial from ABINIT](https://docs.abinit.org/tutorial/base1/).\n",
    "\n",
    "> **Cell optimisations**\n",
    ">\n",
    "> Recent versions of [GeometryOptimization](https://github.com/JuliaMolSim/GeometryOptimization.jl/)\n",
    "> support cell shape optimisations as well by passing `variablecell=true` to `minimize_energy!`.\n",
    "> See the\n",
    "> [GeometryOptimization documentation](https://juliamolsim.github.io/GeometryOptimization.jl/stable/examples/variablecell/)\n",
    "> for an example."
   ],
   "metadata": {}
  }
 ],
 "nbformat_minor": 3,
 "metadata": {
  "language_info": {
   "file_extension": ".jl",
   "mimetype": "application/julia",
   "name": "julia",
   "version": "1.11.5"
  },
  "kernelspec": {
   "name": "julia-1.11",
   "display_name": "Julia 1.11.5",
   "language": "julia"
  }
 },
 "nbformat": 4
}
