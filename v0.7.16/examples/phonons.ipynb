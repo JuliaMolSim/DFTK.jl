{
 "cells": [
  {
   "cell_type": "markdown",
   "source": [
    "# Phonon computations\n",
    "\n",
    "This is a quick sketch how to run a simple phonon calculation using DFTK."
   ],
   "metadata": {}
  },
  {
   "cell_type": "markdown",
   "source": [
    "> **Preliminary implementation**\n",
    ">\n",
    "> Practical phonon computations have only seen rudimentary testing as of now.\n",
    "> As of now we do not yet recommend relying on this feature for production\n",
    "> calculations. We appreciate any issues, bug reports or PRs.\n",
    "\n",
    "First we run an SCF calculation."
   ],
   "metadata": {}
  },
  {
   "outputs": [
    {
     "name": "stdout",
     "output_type": "stream",
     "text": [
      "n     Energy            log10(ΔE)   log10(Δρ)   Diag   Δtime\n",
      "---   ---------------   ---------   ---------   ----   ------\n",
      "  1   -7.916455725259                   -0.69    4.9    101ms\n",
      "  2   -7.921212304052       -2.32       -1.52    1.0   51.3ms\n",
      "  3   -7.921404997498       -3.72       -2.49    1.2   73.3ms\n",
      "  4   -7.921440917055       -4.44       -2.82    2.5   70.7ms\n",
      "  5   -7.921441567594       -6.19       -2.97    1.1   52.6ms\n",
      "  6   -7.921442005955       -6.36       -4.46    1.0   51.5ms\n",
      "  7   -7.921442021751       -7.80       -4.57    2.8   76.5ms\n",
      "  8   -7.921442022127       -9.42       -5.26    1.0   64.2ms\n",
      "  9   -7.921442022128      -12.07       -5.04    2.0   62.2ms\n",
      " 10   -7.921442022143      -10.82       -5.80    1.0   52.4ms\n",
      " 11   -7.921442022144      -12.12       -7.13    1.0   52.1ms\n",
      " 12   -7.921442022144      -13.24       -6.49    3.2   85.4ms\n",
      " 13   -7.921442022144      -13.82       -7.38    1.0   52.3ms\n",
      " 14   -7.921442022144      -14.75       -7.72    1.0   98.0ms\n",
      " 15   -7.921442022144   +  -15.05       -8.35    1.0   62.1ms\n"
     ]
    }
   ],
   "cell_type": "code",
   "source": [
    "using AtomsBuilder\n",
    "using DFTK\n",
    "using PseudoPotentialData\n",
    "\n",
    "pseudopotentials = PseudoFamily(\"cp2k.nc.sr.lda.v0_1.semicore.gth\")\n",
    "model  = model_DFT(bulk(:Si); pseudopotentials, functionals=LDA())\n",
    "basis  = PlaneWaveBasis(model; Ecut=10, kgrid=[4, 4, 4])\n",
    "scfres = self_consistent_field(basis, tol=1e-8);\n",
    "nothing  # hide"
   ],
   "metadata": {},
   "execution_count": 1
  },
  {
   "cell_type": "markdown",
   "source": [
    "Next we compute the phonon modes at the q-point `[1/4, 1/4, 1/4]`."
   ],
   "metadata": {}
  },
  {
   "outputs": [
    {
     "name": "stdout",
     "output_type": "stream",
     "text": [
      "Iter  Restart  Krydim  log10(res)  avg(CG)  Δtime   Comment\n",
      "----  -------  ------  ----------  -------  ------  ---------------\n",
      "                                      73.0   2.69s  Non-interacting\n",
      "   1        0       1        0.31     52.4   18.0s  \n",
      "   2        0       2       -0.52     47.0   1.85s  \n",
      "   3        0       3       -2.40     41.7   1.33s  \n",
      "   4        0       4       -4.46     29.7   1.03s  \n",
      "   5        0       5       -6.46     17.4   745ms  \n",
      "   6        0       6       -8.91      4.0   408ms  \n",
      "   7        1       1       -7.84     55.5   2.06s  Restart\n",
      "   8        1       2       -8.95      5.6   459ms  \n",
      "                                      72.8   1.97s  Final orbitals\n",
      "Iter  Restart  Krydim  log10(res)  avg(CG)  Δtime   Comment\n",
      "----  -------  ------  ----------  -------  ------  ---------------\n",
      "                                      72.9   1.76s  Non-interacting\n",
      "   1        0       1        0.31     52.4   2.01s  \n",
      "   2        0       2       -0.52     47.0   1.44s  \n",
      "   3        0       3       -2.40     41.7   1.33s  \n",
      "   4        0       4       -4.46     29.7   1.03s  \n",
      "   5        0       5       -6.46     17.4   743ms  \n",
      "   6        0       6       -8.91      4.0   412ms  \n",
      "   7        1       1       -7.84     55.5   1.94s  Restart\n",
      "   8        1       2       -8.95      5.6   439ms  \n",
      "                                      72.8   1.91s  Final orbitals\n",
      "Iter  Restart  Krydim  log10(res)  avg(CG)  Δtime   Comment\n",
      "----  -------  ------  ----------  -------  ------  ---------------\n",
      "                                      73.0   2.19s  Non-interacting\n",
      "   1        0       1        0.31     52.4   1.67s  \n",
      "   2        0       2       -0.52     47.0   1.44s  \n",
      "   3        0       3       -2.40     41.7   1.31s  \n",
      "   4        0       4       -4.46     29.7   1.02s  \n",
      "   5        0       5       -6.46     17.4   721ms  \n",
      "   6        0       6       -8.91      4.0   413ms  \n",
      "   7        1       1       -7.84     55.5   1.92s  Restart\n",
      "   8        1       2       -8.95      5.6   450ms  \n",
      "                                      72.8   1.90s  Final orbitals\n",
      "Iter  Restart  Krydim  log10(res)  avg(CG)  Δtime   Comment\n",
      "----  -------  ------  ----------  -------  ------  ---------------\n",
      "                                      73.0   1.74s  Non-interacting\n",
      "   1        0       1        0.31     52.4   1.65s  \n",
      "   2        0       2       -0.52     47.0   1.42s  \n",
      "   3        0       3       -2.40     41.7   1.29s  \n",
      "   4        0       4       -4.46     29.7   1.01s  \n",
      "   5        0       5       -6.46     17.4   718ms  \n",
      "   6        0       6       -8.91      4.0   399ms  \n",
      "   7        1       1       -7.84     55.5   1.91s  Restart\n",
      "   8        1       2       -8.95      5.6   439ms  \n",
      "                                      72.7   2.27s  Final orbitals\n",
      "Iter  Restart  Krydim  log10(res)  avg(CG)  Δtime   Comment\n",
      "----  -------  ------  ----------  -------  ------  ---------------\n",
      "                                      73.0   1.77s  Non-interacting\n",
      "   1        0       1        0.31     52.4   1.65s  \n",
      "   2        0       2       -0.52     47.0   1.42s  \n",
      "   3        0       3       -2.40     41.7   1.30s  \n",
      "   4        0       4       -4.46     29.7   1.01s  \n",
      "   5        0       5       -6.46     17.4   721ms  \n",
      "   6        0       6       -8.91      4.0   401ms  \n",
      "   7        1       1       -7.84     55.5   1.92s  Restart\n",
      "   8        1       2       -8.95      5.6   826ms  \n",
      "                                      72.8   1.89s  Final orbitals\n",
      "Iter  Restart  Krydim  log10(res)  avg(CG)  Δtime   Comment\n",
      "----  -------  ------  ----------  -------  ------  ---------------\n",
      "                                      72.9   1.77s  Non-interacting\n",
      "   1        0       1        0.31     52.4   1.65s  \n",
      "   2        0       2       -0.52     47.0   1.42s  \n",
      "   3        0       3       -2.40     41.7   1.30s  \n",
      "   4        0       4       -4.46     29.7   1.01s  \n",
      "   5        0       5       -6.46     17.4   728ms  \n",
      "   6        0       6       -8.91      4.0   402ms  \n",
      "   7        1       1       -7.84     55.5   2.32s  Restart\n",
      "   8        1       2       -8.95      5.6   435ms  \n",
      "                                      72.8   1.91s  Final orbitals\n",
      "124.582829 seconds (143.05 M allocations: 82.764 GiB, 5.86% gc time, 31.35% compilation time)\n"
     ]
    }
   ],
   "cell_type": "code",
   "source": [
    "scfres = DFTK.unfold_bz(scfres)\n",
    "phret_q0 = @time DFTK.phonon_modes(scfres; q=[0.25, 0.25, 0.25]);\n",
    "nothing  # hide"
   ],
   "metadata": {},
   "execution_count": 2
  },
  {
   "cell_type": "markdown",
   "source": [
    "These are the final phonon frequencies:"
   ],
   "metadata": {}
  },
  {
   "outputs": [
    {
     "output_type": "execute_result",
     "data": {
      "text/plain": "6-element Vector{Float64}:\n -0.003498155357541749\n -0.002977451158409315\n -0.0029774511582851067\n  0.004302230630232087\n  0.004302230630319907\n  0.004353201760142032"
     },
     "metadata": {},
     "execution_count": 3
    }
   ],
   "cell_type": "code",
   "source": [
    "phret_q0.frequencies"
   ],
   "metadata": {},
   "execution_count": 3
  }
 ],
 "nbformat_minor": 3,
 "metadata": {
  "language_info": {
   "file_extension": ".jl",
   "mimetype": "application/julia",
   "name": "julia",
   "version": "1.11.5"
  },
  "kernelspec": {
   "name": "julia-1.11",
   "display_name": "Julia 1.11.5",
   "language": "julia"
  }
 },
 "nbformat": 4
}
