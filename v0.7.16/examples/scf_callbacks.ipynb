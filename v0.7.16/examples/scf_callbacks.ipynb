{
 "cells": [
  {
   "cell_type": "markdown",
   "source": [
    "# Monitoring self-consistent field calculations\n",
    "\n",
    "The `self_consistent_field` function takes as the `callback`\n",
    "keyword argument one function to be called after each iteration.\n",
    "This function gets passed the complete internal state of the SCF\n",
    "solver and can thus be used both to monitor and debug the iterations\n",
    "as well as to quickly patch it with additional functionality.\n",
    "\n",
    "This example discusses a few aspects of the `callback` function\n",
    "taking again our favourite silicon example."
   ],
   "metadata": {}
  },
  {
   "cell_type": "markdown",
   "source": [
    "We setup silicon in an LDA model using `AtomsBuilder`\n",
    "to build a bulk silicon lattice,\n",
    "(see AtomsBase integration for more details."
   ],
   "metadata": {}
  },
  {
   "outputs": [],
   "cell_type": "code",
   "source": [
    "using DFTK\n",
    "using AtomsBuilder\n",
    "using PseudoPotentialData\n",
    "\n",
    "pseudopotentials = PseudoFamily(\"dojo.nc.sr.lda.v0_4_1.standard.upf\")\n",
    "model = model_DFT(bulk(:Si); functionals=LDA(), pseudopotentials)\n",
    "basis = PlaneWaveBasis(model; Ecut=5, kgrid=[3, 3, 3]);"
   ],
   "metadata": {},
   "execution_count": 1
  },
  {
   "cell_type": "markdown",
   "source": [
    "DFTK already defines a few callback functions for standard\n",
    "tasks. One example is the usual convergence table,\n",
    "which is defined in the callback `ScfDefaultCallback`.\n",
    "Another example is `ScfSaveCheckpoints`, which stores the state\n",
    "of an SCF at each iterations to allow resuming from a failed\n",
    "calculation at a later point.\n",
    "See Saving SCF results on disk and SCF checkpoints for details\n",
    "how to use checkpointing with DFTK."
   ],
   "metadata": {}
  },
  {
   "cell_type": "markdown",
   "source": [
    "In this example we define a custom callback, which plots\n",
    "the change in density at each SCF iteration after the SCF\n",
    "has finished. This example is a bit artificial, since the norms\n",
    "of all density differences is available as `scfres.history_Δρ`\n",
    "after the SCF has finished and could be directly plotted, but\n",
    "the following nicely illustrates the use of callbacks in DFTK."
   ],
   "metadata": {}
  },
  {
   "cell_type": "markdown",
   "source": [
    "To enable plotting we first define the empty canvas\n",
    "and an empty container for all the density differences:"
   ],
   "metadata": {}
  },
  {
   "outputs": [],
   "cell_type": "code",
   "source": [
    "using Plots\n",
    "p = plot(; yaxis=:log)\n",
    "density_differences = Float64[];"
   ],
   "metadata": {},
   "execution_count": 2
  },
  {
   "cell_type": "markdown",
   "source": [
    "The callback function itself gets passed a named tuple\n",
    "similar to the one returned by `self_consistent_field`,\n",
    "which contains the input and output density of the SCF step\n",
    "as `ρin` and `ρout`. Since the callback gets called\n",
    "both during the SCF iterations as well as after convergence\n",
    "just before `self_consistent_field` finishes we can both\n",
    "collect the data and initiate the plotting in one function."
   ],
   "metadata": {}
  },
  {
   "outputs": [],
   "cell_type": "code",
   "source": [
    "using LinearAlgebra\n",
    "\n",
    "function plot_callback(info)\n",
    "    if info.stage == :finalize\n",
    "        plot!(p, density_differences, label=\"|ρout - ρin|\", markershape=:x)\n",
    "    else\n",
    "        push!(density_differences, norm(info.ρout - info.ρin))\n",
    "    end\n",
    "    info\n",
    "end\n",
    "callback = ScfDefaultCallback() ∘ plot_callback;"
   ],
   "metadata": {},
   "execution_count": 3
  },
  {
   "cell_type": "markdown",
   "source": [
    "Notice that for constructing the `callback` function we chained the `plot_callback`\n",
    "(which does the plotting) with the `ScfDefaultCallback`. The latter is the function\n",
    "responsible for printing the usual convergence table. Therefore if we simply did\n",
    "`callback=plot_callback` the SCF would go silent. The chaining of both callbacks\n",
    "(`plot_callback` for plotting and `ScfDefaultCallback()` for the convergence table)\n",
    "makes sure both features are enabled. We run the SCF with the chained callback …"
   ],
   "metadata": {}
  },
  {
   "outputs": [
    {
     "name": "stdout",
     "output_type": "stream",
     "text": [
      "n     Energy            log10(ΔE)   log10(Δρ)   α      Diag   Δtime\n",
      "---   ---------------   ---------   ---------   ----   ----   ------\n",
      "  1   -8.457149998634                   -0.89   0.80    5.0    104ms\n",
      "  2   -8.460022510949       -2.54       -1.72   0.80    1.0    168ms\n",
      "  3   -8.460187429230       -3.78       -2.89   0.80    1.5   18.1ms\n",
      "  4   -8.460214699383       -4.56       -2.91   0.80    3.2   22.1ms\n",
      "  5   -8.460214844229       -6.84       -3.00   0.80    1.0   16.9ms\n",
      "  6   -8.460215132313       -6.54       -4.63   0.80    1.0   17.0ms\n",
      "  7   -8.460215139842       -8.12       -4.44   0.80    3.0   21.7ms\n",
      "  8   -8.460215140316       -9.32       -5.99   0.80    1.0   17.0ms\n"
     ]
    }
   ],
   "cell_type": "code",
   "source": [
    "scfres = self_consistent_field(basis; tol=1e-5, callback);"
   ],
   "metadata": {},
   "execution_count": 4
  },
  {
   "cell_type": "markdown",
   "source": [
    "… and show the plot"
   ],
   "metadata": {}
  },
  {
   "outputs": [
    {
     "output_type": "execute_result",
     "data": {
      "text/plain": "Plot{Plots.GRBackend() n=1}",
      "image/png": "[encoded data removed]",
      "text/html": [
       "<?xml version=\"1.0\" encoding=\"utf-8\"?>\n",
       "<svg xmlns=\"http://www.w3.org/2000/svg\" xmlns:xlink=\"http://www.w3.org/1999/xlink\" width=\"600\" height=\"400\" viewBox=\"0 0 2400 1600\">\n",
       "<defs>\n",
       "  <clipPath id=\"clip320\">\n",
       "    <rect x=\"0\" y=\"0\" width=\"2400\" height=\"1600\"/>\n",
       "  </clipPath>\n",
       "</defs>\n",
       "<path clip-path=\"url(#clip320)\" d=\"M0 1600 L2400 1600 L2400 0 L0 0  Z\" fill=\"#ffffff\" fill-rule=\"evenodd\" fill-opacity=\"1\"/>\n",
       "<defs>\n",
       "  <clipPath id=\"clip321\">\n",
       "    <rect x=\"480\" y=\"0\" width=\"1681\" height=\"1600\"/>\n",
       "  </clipPath>\n",
       "</defs>\n",
       "<path clip-path=\"url(#clip320)\" d=\"M188.574 1486.45 L2352.76 1486.45 L2352.76 47.2441 L188.574 47.2441  Z\" fill=\"#ffffff\" fill-rule=\"evenodd\" fill-opacity=\"1\"/>\n",
       "<defs>\n",
       "  <clipPath id=\"clip322\">\n",
       "    <rect x=\"188\" y=\"47\" width=\"2165\" height=\"1440\"/>\n",
       "  </clipPath>\n",
       "</defs>\n",
       "<polyline clip-path=\"url(#clip322)\" style=\"stroke:#000000; stroke-linecap:round; stroke-linejoin:round; stroke-width:2; stroke-opacity:0.1; fill:none\" points=\"541.493,1486.45 541.493,47.2441 \"/>\n",
       "<polyline clip-path=\"url(#clip322)\" style=\"stroke:#000000; stroke-linecap:round; stroke-linejoin:round; stroke-width:2; stroke-opacity:0.1; fill:none\" points=\"1124.83,1486.45 1124.83,47.2441 \"/>\n",
       "<polyline clip-path=\"url(#clip322)\" style=\"stroke:#000000; stroke-linecap:round; stroke-linejoin:round; stroke-width:2; stroke-opacity:0.1; fill:none\" points=\"1708.17,1486.45 1708.17,47.2441 \"/>\n",
       "<polyline clip-path=\"url(#clip322)\" style=\"stroke:#000000; stroke-linecap:round; stroke-linejoin:round; stroke-width:2; stroke-opacity:0.1; fill:none\" points=\"2291.51,1486.45 2291.51,47.2441 \"/>\n",
       "<polyline clip-path=\"url(#clip322)\" style=\"stroke:#000000; stroke-linecap:round; stroke-linejoin:round; stroke-width:2; stroke-opacity:0.1; fill:none\" points=\"188.574,846.148 2352.76,846.148 \"/>\n",
       "<polyline clip-path=\"url(#clip322)\" style=\"stroke:#000000; stroke-linecap:round; stroke-linejoin:round; stroke-width:2; stroke-opacity:0.1; fill:none\" points=\"188.574,47.2616 2352.76,47.2616 \"/>\n",
       "<polyline clip-path=\"url(#clip320)\" style=\"stroke:#000000; stroke-linecap:round; stroke-linejoin:round; stroke-width:4; stroke-opacity:1; fill:none\" points=\"188.574,1486.45 2352.76,1486.45 \"/>\n",
       "<polyline clip-path=\"url(#clip320)\" style=\"stroke:#000000; stroke-linecap:round; stroke-linejoin:round; stroke-width:4; stroke-opacity:1; fill:none\" points=\"541.493,1486.45 541.493,1467.55 \"/>\n",
       "<polyline clip-path=\"url(#clip320)\" style=\"stroke:#000000; stroke-linecap:round; stroke-linejoin:round; stroke-width:4; stroke-opacity:1; fill:none\" points=\"1124.83,1486.45 1124.83,1467.55 \"/>\n",
       "<polyline clip-path=\"url(#clip320)\" style=\"stroke:#000000; stroke-linecap:round; stroke-linejoin:round; stroke-width:4; stroke-opacity:1; fill:none\" points=\"1708.17,1486.45 1708.17,1467.55 \"/>\n",
       "<polyline clip-path=\"url(#clip320)\" style=\"stroke:#000000; stroke-linecap:round; stroke-linejoin:round; stroke-width:4; stroke-opacity:1; fill:none\" points=\"2291.51,1486.45 2291.51,1467.55 \"/>\n",
       "<path clip-path=\"url(#clip320)\" d=\"M536.146 1544.91 L552.466 1544.91 L552.466 1548.85 L530.521 1548.85 L530.521 1544.91 Q533.183 1542.16 537.767 1537.53 Q542.373 1532.88 543.554 1531.53 Q545.799 1529.01 546.679 1527.27 Q547.581 1525.51 547.581 1523.82 Q547.581 1521.07 545.637 1519.33 Q543.716 1517.6 540.614 1517.6 Q538.415 1517.6 535.961 1518.36 Q533.531 1519.13 530.753 1520.68 L530.753 1515.95 Q533.577 1514.82 536.03 1514.24 Q538.484 1513.66 540.521 1513.66 Q545.892 1513.66 549.086 1516.35 Q552.28 1519.03 552.28 1523.52 Q552.28 1525.65 551.47 1527.57 Q550.683 1529.47 548.577 1532.07 Q547.998 1532.74 544.896 1535.95 Q541.794 1539.15 536.146 1544.91 Z\" fill=\"#000000\" fill-rule=\"nonzero\" fill-opacity=\"1\" /><path clip-path=\"url(#clip320)\" d=\"M1127.84 1518.36 L1116.03 1536.81 L1127.84 1536.81 L1127.84 1518.36 M1126.61 1514.29 L1132.49 1514.29 L1132.49 1536.81 L1137.42 1536.81 L1137.42 1540.7 L1132.49 1540.7 L1132.49 1548.85 L1127.84 1548.85 L1127.84 1540.7 L1112.24 1540.7 L1112.24 1536.19 L1126.61 1514.29 Z\" fill=\"#000000\" fill-rule=\"nonzero\" fill-opacity=\"1\" /><path clip-path=\"url(#clip320)\" d=\"M1708.57 1529.7 Q1705.43 1529.7 1703.57 1531.86 Q1701.74 1534.01 1701.74 1537.76 Q1701.74 1541.49 1703.57 1543.66 Q1705.43 1545.82 1708.57 1545.82 Q1711.72 1545.82 1713.55 1543.66 Q1715.4 1541.49 1715.4 1537.76 Q1715.4 1534.01 1713.55 1531.86 Q1711.72 1529.7 1708.57 1529.7 M1717.86 1515.05 L1717.86 1519.31 Q1716.1 1518.48 1714.29 1518.04 Q1712.51 1517.6 1710.75 1517.6 Q1706.12 1517.6 1703.67 1520.72 Q1701.24 1523.85 1700.89 1530.17 Q1702.25 1528.15 1704.31 1527.09 Q1706.37 1526 1708.85 1526 Q1714.06 1526 1717.07 1529.17 Q1720.1 1532.32 1720.1 1537.76 Q1720.1 1543.08 1716.95 1546.3 Q1713.8 1549.52 1708.57 1549.52 Q1702.58 1549.52 1699.41 1544.94 Q1696.24 1540.33 1696.24 1531.6 Q1696.24 1523.41 1700.12 1518.55 Q1704.01 1513.66 1710.56 1513.66 Q1712.32 1513.66 1714.11 1514.01 Q1715.91 1514.36 1717.86 1515.05 Z\" fill=\"#000000\" fill-rule=\"nonzero\" fill-opacity=\"1\" /><path clip-path=\"url(#clip320)\" d=\"M2291.51 1532.44 Q2288.17 1532.44 2286.25 1534.22 Q2284.35 1536 2284.35 1539.13 Q2284.35 1542.25 2286.25 1544.03 Q2288.17 1545.82 2291.51 1545.82 Q2294.84 1545.82 2296.76 1544.03 Q2298.68 1542.23 2298.68 1539.13 Q2298.68 1536 2296.76 1534.22 Q2294.86 1532.44 2291.51 1532.44 M2286.83 1530.45 Q2283.82 1529.7 2282.13 1527.64 Q2280.46 1525.58 2280.46 1522.62 Q2280.46 1518.48 2283.4 1516.07 Q2286.37 1513.66 2291.51 1513.66 Q2296.67 1513.66 2299.61 1516.07 Q2302.55 1518.48 2302.55 1522.62 Q2302.55 1525.58 2300.86 1527.64 Q2299.19 1529.7 2296.2 1530.45 Q2299.58 1531.23 2301.46 1533.52 Q2303.36 1535.82 2303.36 1539.13 Q2303.36 1544.15 2300.28 1546.83 Q2297.22 1549.52 2291.51 1549.52 Q2285.79 1549.52 2282.71 1546.83 Q2279.65 1544.15 2279.65 1539.13 Q2279.65 1535.82 2281.55 1533.52 Q2283.45 1531.23 2286.83 1530.45 M2285.12 1523.06 Q2285.12 1525.75 2286.78 1527.25 Q2288.47 1528.76 2291.51 1528.76 Q2294.51 1528.76 2296.2 1527.25 Q2297.92 1525.75 2297.92 1523.06 Q2297.92 1520.38 2296.2 1518.87 Q2294.51 1517.37 2291.51 1517.37 Q2288.47 1517.37 2286.78 1518.87 Q2285.12 1520.38 2285.12 1523.06 Z\" fill=\"#000000\" fill-rule=\"nonzero\" fill-opacity=\"1\" /><polyline clip-path=\"url(#clip320)\" style=\"stroke:#000000; stroke-linecap:round; stroke-linejoin:round; stroke-width:4; stroke-opacity:1; fill:none\" points=\"188.574,1486.45 188.574,47.2441 \"/>\n",
       "<polyline clip-path=\"url(#clip320)\" style=\"stroke:#000000; stroke-linecap:round; stroke-linejoin:round; stroke-width:4; stroke-opacity:1; fill:none\" points=\"188.574,846.148 207.472,846.148 \"/>\n",
       "<polyline clip-path=\"url(#clip320)\" style=\"stroke:#000000; stroke-linecap:round; stroke-linejoin:round; stroke-width:4; stroke-opacity:1; fill:none\" points=\"188.574,47.2616 207.472,47.2616 \"/>\n",
       "<path clip-path=\"url(#clip320)\" d=\"M51.6634 865.941 L59.3023 865.941 L59.3023 839.575 L50.9921 841.242 L50.9921 836.982 L59.256 835.316 L63.9319 835.316 L63.9319 865.941 L71.5707 865.941 L71.5707 869.876 L51.6634 869.876 L51.6634 865.941 Z\" fill=\"#000000\" fill-rule=\"nonzero\" fill-opacity=\"1\" /><path clip-path=\"url(#clip320)\" d=\"M91.0151 838.394 Q87.404 838.394 85.5753 841.959 Q83.7697 845.501 83.7697 852.63 Q83.7697 859.737 85.5753 863.302 Q87.404 866.843 91.0151 866.843 Q94.6493 866.843 96.4548 863.302 Q98.2835 859.737 98.2835 852.63 Q98.2835 845.501 96.4548 841.959 Q94.6493 838.394 91.0151 838.394 M91.0151 834.691 Q96.8252 834.691 99.8808 839.297 Q102.959 843.88 102.959 852.63 Q102.959 861.357 99.8808 865.964 Q96.8252 870.547 91.0151 870.547 Q85.2049 870.547 82.1262 865.964 Q79.0707 861.357 79.0707 852.63 Q79.0707 843.88 82.1262 839.297 Q85.2049 834.691 91.0151 834.691 Z\" fill=\"#000000\" fill-rule=\"nonzero\" fill-opacity=\"1\" /><path clip-path=\"url(#clip320)\" d=\"M102.959 828.792 L127.071 828.792 L127.071 831.989 L102.959 831.989 L102.959 828.792 Z\" fill=\"#000000\" fill-rule=\"nonzero\" fill-opacity=\"1\" /><path clip-path=\"url(#clip320)\" d=\"M146.782 827.325 Q149.509 827.908 151.032 829.751 Q152.574 831.594 152.574 834.303 Q152.574 838.459 149.716 840.735 Q146.857 843.011 141.591 843.011 Q139.823 843.011 137.942 842.653 Q136.08 842.315 134.086 841.619 L134.086 837.951 Q135.666 838.873 137.547 839.343 Q139.428 839.813 141.478 839.813 Q145.051 839.813 146.913 838.403 Q148.794 836.992 148.794 834.303 Q148.794 831.82 147.045 830.428 Q145.315 829.018 142.211 829.018 L138.939 829.018 L138.939 825.896 L142.362 825.896 Q145.164 825.896 146.65 824.786 Q148.136 823.658 148.136 821.551 Q148.136 819.388 146.593 818.241 Q145.07 817.075 142.211 817.075 Q140.65 817.075 138.863 817.413 Q137.077 817.752 134.933 818.467 L134.933 815.081 Q137.096 814.479 138.976 814.178 Q140.876 813.877 142.55 813.877 Q146.876 813.877 149.396 815.852 Q151.916 817.808 151.916 821.156 Q151.916 823.488 150.581 825.106 Q149.245 826.704 146.782 827.325 Z\" fill=\"#000000\" fill-rule=\"nonzero\" fill-opacity=\"1\" /><path clip-path=\"url(#clip320)\" d=\"M81.8687 67.054 L89.5075 67.054 L89.5075 40.6885 L81.1974 42.3551 L81.1974 38.0959 L89.4612 36.4292 L94.1371 36.4292 L94.1371 67.054 L101.776 67.054 L101.776 70.9892 L81.8687 70.9892 L81.8687 67.054 Z\" fill=\"#000000\" fill-rule=\"nonzero\" fill-opacity=\"1\" /><path clip-path=\"url(#clip320)\" d=\"M121.22 39.5079 Q117.609 39.5079 115.781 43.0727 Q113.975 46.6143 113.975 53.7439 Q113.975 60.8504 115.781 64.4152 Q117.609 67.9568 121.22 67.9568 Q124.855 67.9568 126.66 64.4152 Q128.489 60.8504 128.489 53.7439 Q128.489 46.6143 126.66 43.0727 Q124.855 39.5079 121.22 39.5079 M121.22 35.8042 Q127.03 35.8042 130.086 40.4107 Q133.165 44.994 133.165 53.7439 Q133.165 62.4707 130.086 67.0772 Q127.03 71.6605 121.22 71.6605 Q115.41 71.6605 112.331 67.0772 Q109.276 62.4707 109.276 53.7439 Q109.276 44.994 112.331 40.4107 Q115.41 35.8042 121.22 35.8042 Z\" fill=\"#000000\" fill-rule=\"nonzero\" fill-opacity=\"1\" /><path clip-path=\"url(#clip320)\" d=\"M142.87 18.0002 Q139.936 18.0002 138.45 20.8966 Q136.983 23.7742 136.983 29.567 Q136.983 35.341 138.45 38.2374 Q139.936 41.115 142.87 41.115 Q145.822 41.115 147.289 38.2374 Q148.775 35.341 148.775 29.567 Q148.775 23.7742 147.289 20.8966 Q145.822 18.0002 142.87 18.0002 M142.87 14.991 Q147.59 14.991 150.073 18.7338 Q152.574 22.4577 152.574 29.567 Q152.574 36.6576 150.073 40.4003 Q147.59 44.1242 142.87 44.1242 Q138.149 44.1242 135.647 40.4003 Q133.165 36.6576 133.165 29.567 Q133.165 22.4577 135.647 18.7338 Q138.149 14.991 142.87 14.991 Z\" fill=\"#000000\" fill-rule=\"nonzero\" fill-opacity=\"1\" /><polyline clip-path=\"url(#clip322)\" style=\"stroke:#009af9; stroke-linecap:round; stroke-linejoin:round; stroke-width:4; stroke-opacity:1; fill:none\" points=\"249.825,87.9763 541.493,309.678 833.162,620.321 1124.83,625.667 1416.5,649.434 1708.17,1085.12 1999.84,1032.54 2291.51,1445.72 \"/>\n",
       "<line clip-path=\"url(#clip322)\" x1=\"249.825\" y1=\"87.9763\" x2=\"233.825\" y2=\"71.9763\" style=\"stroke:#009af9; stroke-width:4; stroke-opacity:1\"/>\n",
       "<line clip-path=\"url(#clip322)\" x1=\"249.825\" y1=\"87.9763\" x2=\"233.825\" y2=\"103.976\" style=\"stroke:#009af9; stroke-width:4; stroke-opacity:1\"/>\n",
       "<line clip-path=\"url(#clip322)\" x1=\"249.825\" y1=\"87.9763\" x2=\"265.825\" y2=\"103.976\" style=\"stroke:#009af9; stroke-width:4; stroke-opacity:1\"/>\n",
       "<line clip-path=\"url(#clip322)\" x1=\"249.825\" y1=\"87.9763\" x2=\"265.825\" y2=\"71.9763\" style=\"stroke:#009af9; stroke-width:4; stroke-opacity:1\"/>\n",
       "<line clip-path=\"url(#clip322)\" x1=\"541.493\" y1=\"309.678\" x2=\"525.493\" y2=\"293.678\" style=\"stroke:#009af9; stroke-width:4; stroke-opacity:1\"/>\n",
       "<line clip-path=\"url(#clip322)\" x1=\"541.493\" y1=\"309.678\" x2=\"525.493\" y2=\"325.678\" style=\"stroke:#009af9; stroke-width:4; stroke-opacity:1\"/>\n",
       "<line clip-path=\"url(#clip322)\" x1=\"541.493\" y1=\"309.678\" x2=\"557.493\" y2=\"325.678\" style=\"stroke:#009af9; stroke-width:4; stroke-opacity:1\"/>\n",
       "<line clip-path=\"url(#clip322)\" x1=\"541.493\" y1=\"309.678\" x2=\"557.493\" y2=\"293.678\" style=\"stroke:#009af9; stroke-width:4; stroke-opacity:1\"/>\n",
       "<line clip-path=\"url(#clip322)\" x1=\"833.162\" y1=\"620.321\" x2=\"817.162\" y2=\"604.321\" style=\"stroke:#009af9; stroke-width:4; stroke-opacity:1\"/>\n",
       "<line clip-path=\"url(#clip322)\" x1=\"833.162\" y1=\"620.321\" x2=\"817.162\" y2=\"636.321\" style=\"stroke:#009af9; stroke-width:4; stroke-opacity:1\"/>\n",
       "<line clip-path=\"url(#clip322)\" x1=\"833.162\" y1=\"620.321\" x2=\"849.162\" y2=\"636.321\" style=\"stroke:#009af9; stroke-width:4; stroke-opacity:1\"/>\n",
       "<line clip-path=\"url(#clip322)\" x1=\"833.162\" y1=\"620.321\" x2=\"849.162\" y2=\"604.321\" style=\"stroke:#009af9; stroke-width:4; stroke-opacity:1\"/>\n",
       "<line clip-path=\"url(#clip322)\" x1=\"1124.83\" y1=\"625.667\" x2=\"1108.83\" y2=\"609.667\" style=\"stroke:#009af9; stroke-width:4; stroke-opacity:1\"/>\n",
       "<line clip-path=\"url(#clip322)\" x1=\"1124.83\" y1=\"625.667\" x2=\"1108.83\" y2=\"641.667\" style=\"stroke:#009af9; stroke-width:4; stroke-opacity:1\"/>\n",
       "<line clip-path=\"url(#clip322)\" x1=\"1124.83\" y1=\"625.667\" x2=\"1140.83\" y2=\"641.667\" style=\"stroke:#009af9; stroke-width:4; stroke-opacity:1\"/>\n",
       "<line clip-path=\"url(#clip322)\" x1=\"1124.83\" y1=\"625.667\" x2=\"1140.83\" y2=\"609.667\" style=\"stroke:#009af9; stroke-width:4; stroke-opacity:1\"/>\n",
       "<line clip-path=\"url(#clip322)\" x1=\"1416.5\" y1=\"649.434\" x2=\"1400.5\" y2=\"633.434\" style=\"stroke:#009af9; stroke-width:4; stroke-opacity:1\"/>\n",
       "<line clip-path=\"url(#clip322)\" x1=\"1416.5\" y1=\"649.434\" x2=\"1400.5\" y2=\"665.434\" style=\"stroke:#009af9; stroke-width:4; stroke-opacity:1\"/>\n",
       "<line clip-path=\"url(#clip322)\" x1=\"1416.5\" y1=\"649.434\" x2=\"1432.5\" y2=\"665.434\" style=\"stroke:#009af9; stroke-width:4; stroke-opacity:1\"/>\n",
       "<line clip-path=\"url(#clip322)\" x1=\"1416.5\" y1=\"649.434\" x2=\"1432.5\" y2=\"633.434\" style=\"stroke:#009af9; stroke-width:4; stroke-opacity:1\"/>\n",
       "<line clip-path=\"url(#clip322)\" x1=\"1708.17\" y1=\"1085.12\" x2=\"1692.17\" y2=\"1069.12\" style=\"stroke:#009af9; stroke-width:4; stroke-opacity:1\"/>\n",
       "<line clip-path=\"url(#clip322)\" x1=\"1708.17\" y1=\"1085.12\" x2=\"1692.17\" y2=\"1101.12\" style=\"stroke:#009af9; stroke-width:4; stroke-opacity:1\"/>\n",
       "<line clip-path=\"url(#clip322)\" x1=\"1708.17\" y1=\"1085.12\" x2=\"1724.17\" y2=\"1101.12\" style=\"stroke:#009af9; stroke-width:4; stroke-opacity:1\"/>\n",
       "<line clip-path=\"url(#clip322)\" x1=\"1708.17\" y1=\"1085.12\" x2=\"1724.17\" y2=\"1069.12\" style=\"stroke:#009af9; stroke-width:4; stroke-opacity:1\"/>\n",
       "<line clip-path=\"url(#clip322)\" x1=\"1999.84\" y1=\"1032.54\" x2=\"1983.84\" y2=\"1016.54\" style=\"stroke:#009af9; stroke-width:4; stroke-opacity:1\"/>\n",
       "<line clip-path=\"url(#clip322)\" x1=\"1999.84\" y1=\"1032.54\" x2=\"1983.84\" y2=\"1048.54\" style=\"stroke:#009af9; stroke-width:4; stroke-opacity:1\"/>\n",
       "<line clip-path=\"url(#clip322)\" x1=\"1999.84\" y1=\"1032.54\" x2=\"2015.84\" y2=\"1048.54\" style=\"stroke:#009af9; stroke-width:4; stroke-opacity:1\"/>\n",
       "<line clip-path=\"url(#clip322)\" x1=\"1999.84\" y1=\"1032.54\" x2=\"2015.84\" y2=\"1016.54\" style=\"stroke:#009af9; stroke-width:4; stroke-opacity:1\"/>\n",
       "<line clip-path=\"url(#clip322)\" x1=\"2291.51\" y1=\"1445.72\" x2=\"2275.51\" y2=\"1429.72\" style=\"stroke:#009af9; stroke-width:4; stroke-opacity:1\"/>\n",
       "<line clip-path=\"url(#clip322)\" x1=\"2291.51\" y1=\"1445.72\" x2=\"2275.51\" y2=\"1461.72\" style=\"stroke:#009af9; stroke-width:4; stroke-opacity:1\"/>\n",
       "<line clip-path=\"url(#clip322)\" x1=\"2291.51\" y1=\"1445.72\" x2=\"2307.51\" y2=\"1461.72\" style=\"stroke:#009af9; stroke-width:4; stroke-opacity:1\"/>\n",
       "<line clip-path=\"url(#clip322)\" x1=\"2291.51\" y1=\"1445.72\" x2=\"2307.51\" y2=\"1429.72\" style=\"stroke:#009af9; stroke-width:4; stroke-opacity:1\"/>\n",
       "<path clip-path=\"url(#clip320)\" d=\"M1816.01 198.898 L2280.62 198.898 L2280.62 95.2176 L1816.01 95.2176  Z\" fill=\"#ffffff\" fill-rule=\"evenodd\" fill-opacity=\"1\"/>\n",
       "<polyline clip-path=\"url(#clip320)\" style=\"stroke:#000000; stroke-linecap:round; stroke-linejoin:round; stroke-width:4; stroke-opacity:1; fill:none\" points=\"1816.01,198.898 2280.62,198.898 2280.62,95.2176 1816.01,95.2176 1816.01,198.898 \"/>\n",
       "<polyline clip-path=\"url(#clip320)\" style=\"stroke:#009af9; stroke-linecap:round; stroke-linejoin:round; stroke-width:4; stroke-opacity:1; fill:none\" points=\"1840.05,147.058 1984.33,147.058 \"/>\n",
       "<line clip-path=\"url(#clip320)\" x1=\"1912.19\" y1=\"147.058\" x2=\"1889.93\" y2=\"124.792\" style=\"stroke:#009af9; stroke-width:4.55111; stroke-opacity:1\"/>\n",
       "<line clip-path=\"url(#clip320)\" x1=\"1912.19\" y1=\"147.058\" x2=\"1889.93\" y2=\"169.323\" style=\"stroke:#009af9; stroke-width:4.55111; stroke-opacity:1\"/>\n",
       "<line clip-path=\"url(#clip320)\" x1=\"1912.19\" y1=\"147.058\" x2=\"1934.46\" y2=\"169.323\" style=\"stroke:#009af9; stroke-width:4.55111; stroke-opacity:1\"/>\n",
       "<line clip-path=\"url(#clip320)\" x1=\"1912.19\" y1=\"147.058\" x2=\"1934.46\" y2=\"124.792\" style=\"stroke:#009af9; stroke-width:4.55111; stroke-opacity:1\"/>\n",
       "<path clip-path=\"url(#clip320)\" d=\"M2012.31 128.111 L2012.31 175.518 L2008.38 175.518 L2008.38 128.111 L2012.31 128.111 Z\" fill=\"#000000\" fill-rule=\"nonzero\" fill-opacity=\"1\" /><path clip-path=\"url(#clip320)\" d=\"M2024.72 143.041 Q2026.13 140.68 2029.63 138.597 Q2030.99 137.787 2035.21 137.787 Q2039.93 137.787 2042.87 141.537 Q2045.83 145.287 2045.83 151.398 Q2045.83 157.509 2042.87 161.259 Q2039.93 165.009 2035.21 165.009 Q2032.36 165.009 2030.3 163.898 Q2028.26 162.763 2026.92 160.449 L2026.92 174.199 L2022.64 174.199 L2022.64 151.629 Q2022.64 146.282 2024.72 143.041 M2041.41 151.398 Q2041.41 146.699 2039.46 144.037 Q2037.54 141.352 2034.16 141.352 Q2030.78 141.352 2028.84 144.037 Q2026.92 146.699 2026.92 151.398 Q2026.92 156.097 2028.84 158.782 Q2030.78 161.444 2034.16 161.444 Q2037.54 161.444 2039.46 158.782 Q2041.41 156.097 2041.41 151.398 Z\" fill=\"#000000\" fill-rule=\"nonzero\" fill-opacity=\"1\" /><path clip-path=\"url(#clip320)\" d=\"M2062.94 141.398 Q2059.51 141.398 2057.52 144.083 Q2055.53 146.745 2055.53 151.398 Q2055.53 156.051 2057.5 158.736 Q2059.49 161.398 2062.94 161.398 Q2066.34 161.398 2068.33 158.713 Q2070.32 156.027 2070.32 151.398 Q2070.32 146.791 2068.33 144.106 Q2066.34 141.398 2062.94 141.398 M2062.94 137.787 Q2068.49 137.787 2071.66 141.398 Q2074.83 145.009 2074.83 151.398 Q2074.83 157.764 2071.66 161.398 Q2068.49 165.009 2062.94 165.009 Q2057.36 165.009 2054.19 161.398 Q2051.04 157.764 2051.04 151.398 Q2051.04 145.009 2054.19 141.398 Q2057.36 137.787 2062.94 137.787 Z\" fill=\"#000000\" fill-rule=\"nonzero\" fill-opacity=\"1\" /><path clip-path=\"url(#clip320)\" d=\"M2081.46 154.106 L2081.46 138.412 L2085.71 138.412 L2085.71 153.944 Q2085.71 157.625 2087.15 159.476 Q2088.58 161.305 2091.46 161.305 Q2094.9 161.305 2096.89 159.106 Q2098.91 156.907 2098.91 153.111 L2098.91 138.412 L2103.17 138.412 L2103.17 164.338 L2098.91 164.338 L2098.91 160.356 Q2097.36 162.717 2095.3 163.875 Q2093.26 165.009 2090.55 165.009 Q2086.08 165.009 2083.77 162.231 Q2081.46 159.453 2081.46 154.106 M2092.17 137.787 L2092.17 137.787 Z\" fill=\"#000000\" fill-rule=\"nonzero\" fill-opacity=\"1\" /><path clip-path=\"url(#clip320)\" d=\"M2116.15 131.051 L2116.15 138.412 L2124.93 138.412 L2124.93 141.722 L2116.15 141.722 L2116.15 155.796 Q2116.15 158.967 2117.01 159.87 Q2117.89 160.773 2120.55 160.773 L2124.93 160.773 L2124.93 164.338 L2120.55 164.338 Q2115.62 164.338 2113.75 162.509 Q2111.87 160.657 2111.87 155.796 L2111.87 141.722 L2108.75 141.722 L2108.75 138.412 L2111.87 138.412 L2111.87 131.051 L2116.15 131.051 Z\" fill=\"#000000\" fill-rule=\"nonzero\" fill-opacity=\"1\" /><path clip-path=\"url(#clip320)\" d=\"M2143.45 149.453 L2155.92 149.453 L2155.92 153.25 L2143.45 153.25 L2143.45 149.453 Z\" fill=\"#000000\" fill-rule=\"nonzero\" fill-opacity=\"1\" /><path clip-path=\"url(#clip320)\" d=\"M2179.7 143.041 Q2181.11 140.68 2184.6 138.597 Q2185.97 137.787 2190.18 137.787 Q2194.9 137.787 2197.84 141.537 Q2200.81 145.287 2200.81 151.398 Q2200.81 157.509 2197.84 161.259 Q2194.9 165.009 2190.18 165.009 Q2187.33 165.009 2185.27 163.898 Q2183.24 162.763 2181.89 160.449 L2181.89 174.199 L2177.61 174.199 L2177.61 151.629 Q2177.61 146.282 2179.7 143.041 M2196.39 151.398 Q2196.39 146.699 2194.44 144.037 Q2192.52 141.352 2189.14 141.352 Q2185.76 141.352 2183.82 144.037 Q2181.89 146.699 2181.89 151.398 Q2181.89 156.097 2183.82 158.782 Q2185.76 161.444 2189.14 161.444 Q2192.52 161.444 2194.44 158.782 Q2196.39 156.097 2196.39 151.398 Z\" fill=\"#000000\" fill-rule=\"nonzero\" fill-opacity=\"1\" /><path clip-path=\"url(#clip320)\" d=\"M2207.87 138.412 L2212.13 138.412 L2212.13 164.338 L2207.87 164.338 L2207.87 138.412 M2207.87 128.319 L2212.13 128.319 L2212.13 133.713 L2207.87 133.713 L2207.87 128.319 Z\" fill=\"#000000\" fill-rule=\"nonzero\" fill-opacity=\"1\" /><path clip-path=\"url(#clip320)\" d=\"M2242.59 148.689 L2242.59 164.338 L2238.33 164.338 L2238.33 148.828 Q2238.33 145.148 2236.89 143.319 Q2235.46 141.49 2232.59 141.49 Q2229.14 141.49 2227.15 143.69 Q2225.16 145.889 2225.16 149.685 L2225.16 164.338 L2220.88 164.338 L2220.88 138.412 L2225.16 138.412 L2225.16 142.44 Q2226.69 140.102 2228.75 138.944 Q2230.83 137.787 2233.54 137.787 Q2238.01 137.787 2240.3 140.565 Q2242.59 143.319 2242.59 148.689 Z\" fill=\"#000000\" fill-rule=\"nonzero\" fill-opacity=\"1\" /><path clip-path=\"url(#clip320)\" d=\"M2256.57 128.111 L2256.57 175.518 L2252.63 175.518 L2252.63 128.111 L2256.57 128.111 Z\" fill=\"#000000\" fill-rule=\"nonzero\" fill-opacity=\"1\" /></svg>\n"
      ],
      "image/svg+xml": [
       "<?xml version=\"1.0\" encoding=\"utf-8\"?>\n",
       "<svg xmlns=\"http://www.w3.org/2000/svg\" xmlns:xlink=\"http://www.w3.org/1999/xlink\" width=\"600\" height=\"400\" viewBox=\"0 0 2400 1600\">\n",
       "<defs>\n",
       "  <clipPath id=\"clip290\">\n",
       "    <rect x=\"0\" y=\"0\" width=\"2400\" height=\"1600\"/>\n",
       "  </clipPath>\n",
       "</defs>\n",
       "<path clip-path=\"url(#clip290)\" d=\"M0 1600 L2400 1600 L2400 0 L0 0  Z\" fill=\"#ffffff\" fill-rule=\"evenodd\" fill-opacity=\"1\"/>\n",
       "<defs>\n",
       "  <clipPath id=\"clip291\">\n",
       "    <rect x=\"480\" y=\"0\" width=\"1681\" height=\"1600\"/>\n",
       "  </clipPath>\n",
       "</defs>\n",
       "<path clip-path=\"url(#clip290)\" d=\"M188.574 1486.45 L2352.76 1486.45 L2352.76 47.2441 L188.574 47.2441  Z\" fill=\"#ffffff\" fill-rule=\"evenodd\" fill-opacity=\"1\"/>\n",
       "<defs>\n",
       "  <clipPath id=\"clip292\">\n",
       "    <rect x=\"188\" y=\"47\" width=\"2165\" height=\"1440\"/>\n",
       "  </clipPath>\n",
       "</defs>\n",
       "<polyline clip-path=\"url(#clip292)\" style=\"stroke:#000000; stroke-linecap:round; stroke-linejoin:round; stroke-width:2; stroke-opacity:0.1; fill:none\" points=\"541.493,1486.45 541.493,47.2441 \"/>\n",
       "<polyline clip-path=\"url(#clip292)\" style=\"stroke:#000000; stroke-linecap:round; stroke-linejoin:round; stroke-width:2; stroke-opacity:0.1; fill:none\" points=\"1124.83,1486.45 1124.83,47.2441 \"/>\n",
       "<polyline clip-path=\"url(#clip292)\" style=\"stroke:#000000; stroke-linecap:round; stroke-linejoin:round; stroke-width:2; stroke-opacity:0.1; fill:none\" points=\"1708.17,1486.45 1708.17,47.2441 \"/>\n",
       "<polyline clip-path=\"url(#clip292)\" style=\"stroke:#000000; stroke-linecap:round; stroke-linejoin:round; stroke-width:2; stroke-opacity:0.1; fill:none\" points=\"2291.51,1486.45 2291.51,47.2441 \"/>\n",
       "<polyline clip-path=\"url(#clip292)\" style=\"stroke:#000000; stroke-linecap:round; stroke-linejoin:round; stroke-width:2; stroke-opacity:0.1; fill:none\" points=\"188.574,846.148 2352.76,846.148 \"/>\n",
       "<polyline clip-path=\"url(#clip292)\" style=\"stroke:#000000; stroke-linecap:round; stroke-linejoin:round; stroke-width:2; stroke-opacity:0.1; fill:none\" points=\"188.574,47.2616 2352.76,47.2616 \"/>\n",
       "<polyline clip-path=\"url(#clip290)\" style=\"stroke:#000000; stroke-linecap:round; stroke-linejoin:round; stroke-width:4; stroke-opacity:1; fill:none\" points=\"188.574,1486.45 2352.76,1486.45 \"/>\n",
       "<polyline clip-path=\"url(#clip290)\" style=\"stroke:#000000; stroke-linecap:round; stroke-linejoin:round; stroke-width:4; stroke-opacity:1; fill:none\" points=\"541.493,1486.45 541.493,1467.55 \"/>\n",
       "<polyline clip-path=\"url(#clip290)\" style=\"stroke:#000000; stroke-linecap:round; stroke-linejoin:round; stroke-width:4; stroke-opacity:1; fill:none\" points=\"1124.83,1486.45 1124.83,1467.55 \"/>\n",
       "<polyline clip-path=\"url(#clip290)\" style=\"stroke:#000000; stroke-linecap:round; stroke-linejoin:round; stroke-width:4; stroke-opacity:1; fill:none\" points=\"1708.17,1486.45 1708.17,1467.55 \"/>\n",
       "<polyline clip-path=\"url(#clip290)\" style=\"stroke:#000000; stroke-linecap:round; stroke-linejoin:round; stroke-width:4; stroke-opacity:1; fill:none\" points=\"2291.51,1486.45 2291.51,1467.55 \"/>\n",
       "<path clip-path=\"url(#clip290)\" d=\"M536.146 1544.91 L552.466 1544.91 L552.466 1548.85 L530.521 1548.85 L530.521 1544.91 Q533.183 1542.16 537.767 1537.53 Q542.373 1532.88 543.554 1531.53 Q545.799 1529.01 546.679 1527.27 Q547.581 1525.51 547.581 1523.82 Q547.581 1521.07 545.637 1519.33 Q543.716 1517.6 540.614 1517.6 Q538.415 1517.6 535.961 1518.36 Q533.531 1519.13 530.753 1520.68 L530.753 1515.95 Q533.577 1514.82 536.03 1514.24 Q538.484 1513.66 540.521 1513.66 Q545.892 1513.66 549.086 1516.35 Q552.28 1519.03 552.28 1523.52 Q552.28 1525.65 551.47 1527.57 Q550.683 1529.47 548.577 1532.07 Q547.998 1532.74 544.896 1535.95 Q541.794 1539.15 536.146 1544.91 Z\" fill=\"#000000\" fill-rule=\"nonzero\" fill-opacity=\"1\" /><path clip-path=\"url(#clip290)\" d=\"M1127.84 1518.36 L1116.03 1536.81 L1127.84 1536.81 L1127.84 1518.36 M1126.61 1514.29 L1132.49 1514.29 L1132.49 1536.81 L1137.42 1536.81 L1137.42 1540.7 L1132.49 1540.7 L1132.49 1548.85 L1127.84 1548.85 L1127.84 1540.7 L1112.24 1540.7 L1112.24 1536.19 L1126.61 1514.29 Z\" fill=\"#000000\" fill-rule=\"nonzero\" fill-opacity=\"1\" /><path clip-path=\"url(#clip290)\" d=\"M1708.57 1529.7 Q1705.43 1529.7 1703.57 1531.86 Q1701.74 1534.01 1701.74 1537.76 Q1701.74 1541.49 1703.57 1543.66 Q1705.43 1545.82 1708.57 1545.82 Q1711.72 1545.82 1713.55 1543.66 Q1715.4 1541.49 1715.4 1537.76 Q1715.4 1534.01 1713.55 1531.86 Q1711.72 1529.7 1708.57 1529.7 M1717.86 1515.05 L1717.86 1519.31 Q1716.1 1518.48 1714.29 1518.04 Q1712.51 1517.6 1710.75 1517.6 Q1706.12 1517.6 1703.67 1520.72 Q1701.24 1523.85 1700.89 1530.17 Q1702.25 1528.15 1704.31 1527.09 Q1706.37 1526 1708.85 1526 Q1714.06 1526 1717.07 1529.17 Q1720.1 1532.32 1720.1 1537.76 Q1720.1 1543.08 1716.95 1546.3 Q1713.8 1549.52 1708.57 1549.52 Q1702.58 1549.52 1699.41 1544.94 Q1696.24 1540.33 1696.24 1531.6 Q1696.24 1523.41 1700.12 1518.55 Q1704.01 1513.66 1710.56 1513.66 Q1712.32 1513.66 1714.11 1514.01 Q1715.91 1514.36 1717.86 1515.05 Z\" fill=\"#000000\" fill-rule=\"nonzero\" fill-opacity=\"1\" /><path clip-path=\"url(#clip290)\" d=\"M2291.51 1532.44 Q2288.17 1532.44 2286.25 1534.22 Q2284.35 1536 2284.35 1539.13 Q2284.35 1542.25 2286.25 1544.03 Q2288.17 1545.82 2291.51 1545.82 Q2294.84 1545.82 2296.76 1544.03 Q2298.68 1542.23 2298.68 1539.13 Q2298.68 1536 2296.76 1534.22 Q2294.86 1532.44 2291.51 1532.44 M2286.83 1530.45 Q2283.82 1529.7 2282.13 1527.64 Q2280.46 1525.58 2280.46 1522.62 Q2280.46 1518.48 2283.4 1516.07 Q2286.37 1513.66 2291.51 1513.66 Q2296.67 1513.66 2299.61 1516.07 Q2302.55 1518.48 2302.55 1522.62 Q2302.55 1525.58 2300.86 1527.64 Q2299.19 1529.7 2296.2 1530.45 Q2299.58 1531.23 2301.46 1533.52 Q2303.36 1535.82 2303.36 1539.13 Q2303.36 1544.15 2300.28 1546.83 Q2297.22 1549.52 2291.51 1549.52 Q2285.79 1549.52 2282.71 1546.83 Q2279.65 1544.15 2279.65 1539.13 Q2279.65 1535.82 2281.55 1533.52 Q2283.45 1531.23 2286.83 1530.45 M2285.12 1523.06 Q2285.12 1525.75 2286.78 1527.25 Q2288.47 1528.76 2291.51 1528.76 Q2294.51 1528.76 2296.2 1527.25 Q2297.92 1525.75 2297.92 1523.06 Q2297.92 1520.38 2296.2 1518.87 Q2294.51 1517.37 2291.51 1517.37 Q2288.47 1517.37 2286.78 1518.87 Q2285.12 1520.38 2285.12 1523.06 Z\" fill=\"#000000\" fill-rule=\"nonzero\" fill-opacity=\"1\" /><polyline clip-path=\"url(#clip290)\" style=\"stroke:#000000; stroke-linecap:round; stroke-linejoin:round; stroke-width:4; stroke-opacity:1; fill:none\" points=\"188.574,1486.45 188.574,47.2441 \"/>\n",
       "<polyline clip-path=\"url(#clip290)\" style=\"stroke:#000000; stroke-linecap:round; stroke-linejoin:round; stroke-width:4; stroke-opacity:1; fill:none\" points=\"188.574,846.148 207.472,846.148 \"/>\n",
       "<polyline clip-path=\"url(#clip290)\" style=\"stroke:#000000; stroke-linecap:round; stroke-linejoin:round; stroke-width:4; stroke-opacity:1; fill:none\" points=\"188.574,47.2616 207.472,47.2616 \"/>\n",
       "<path clip-path=\"url(#clip290)\" d=\"M51.6634 865.941 L59.3023 865.941 L59.3023 839.575 L50.9921 841.242 L50.9921 836.982 L59.256 835.316 L63.9319 835.316 L63.9319 865.941 L71.5707 865.941 L71.5707 869.876 L51.6634 869.876 L51.6634 865.941 Z\" fill=\"#000000\" fill-rule=\"nonzero\" fill-opacity=\"1\" /><path clip-path=\"url(#clip290)\" d=\"M91.0151 838.394 Q87.404 838.394 85.5753 841.959 Q83.7697 845.501 83.7697 852.63 Q83.7697 859.737 85.5753 863.302 Q87.404 866.843 91.0151 866.843 Q94.6493 866.843 96.4548 863.302 Q98.2835 859.737 98.2835 852.63 Q98.2835 845.501 96.4548 841.959 Q94.6493 838.394 91.0151 838.394 M91.0151 834.691 Q96.8252 834.691 99.8808 839.297 Q102.959 843.88 102.959 852.63 Q102.959 861.357 99.8808 865.964 Q96.8252 870.547 91.0151 870.547 Q85.2049 870.547 82.1262 865.964 Q79.0707 861.357 79.0707 852.63 Q79.0707 843.88 82.1262 839.297 Q85.2049 834.691 91.0151 834.691 Z\" fill=\"#000000\" fill-rule=\"nonzero\" fill-opacity=\"1\" /><path clip-path=\"url(#clip290)\" d=\"M102.959 828.792 L127.071 828.792 L127.071 831.989 L102.959 831.989 L102.959 828.792 Z\" fill=\"#000000\" fill-rule=\"nonzero\" fill-opacity=\"1\" /><path clip-path=\"url(#clip290)\" d=\"M146.782 827.325 Q149.509 827.908 151.032 829.751 Q152.574 831.594 152.574 834.303 Q152.574 838.459 149.716 840.735 Q146.857 843.011 141.591 843.011 Q139.823 843.011 137.942 842.653 Q136.08 842.315 134.086 841.619 L134.086 837.951 Q135.666 838.873 137.547 839.343 Q139.428 839.813 141.478 839.813 Q145.051 839.813 146.913 838.403 Q148.794 836.992 148.794 834.303 Q148.794 831.82 147.045 830.428 Q145.315 829.018 142.211 829.018 L138.939 829.018 L138.939 825.896 L142.362 825.896 Q145.164 825.896 146.65 824.786 Q148.136 823.658 148.136 821.551 Q148.136 819.388 146.593 818.241 Q145.07 817.075 142.211 817.075 Q140.65 817.075 138.863 817.413 Q137.077 817.752 134.933 818.467 L134.933 815.081 Q137.096 814.479 138.976 814.178 Q140.876 813.877 142.55 813.877 Q146.876 813.877 149.396 815.852 Q151.916 817.808 151.916 821.156 Q151.916 823.488 150.581 825.106 Q149.245 826.704 146.782 827.325 Z\" fill=\"#000000\" fill-rule=\"nonzero\" fill-opacity=\"1\" /><path clip-path=\"url(#clip290)\" d=\"M81.8687 67.054 L89.5075 67.054 L89.5075 40.6885 L81.1974 42.3551 L81.1974 38.0959 L89.4612 36.4292 L94.1371 36.4292 L94.1371 67.054 L101.776 67.054 L101.776 70.9892 L81.8687 70.9892 L81.8687 67.054 Z\" fill=\"#000000\" fill-rule=\"nonzero\" fill-opacity=\"1\" /><path clip-path=\"url(#clip290)\" d=\"M121.22 39.5079 Q117.609 39.5079 115.781 43.0727 Q113.975 46.6143 113.975 53.7439 Q113.975 60.8504 115.781 64.4152 Q117.609 67.9568 121.22 67.9568 Q124.855 67.9568 126.66 64.4152 Q128.489 60.8504 128.489 53.7439 Q128.489 46.6143 126.66 43.0727 Q124.855 39.5079 121.22 39.5079 M121.22 35.8042 Q127.03 35.8042 130.086 40.4107 Q133.165 44.994 133.165 53.7439 Q133.165 62.4707 130.086 67.0772 Q127.03 71.6605 121.22 71.6605 Q115.41 71.6605 112.331 67.0772 Q109.276 62.4707 109.276 53.7439 Q109.276 44.994 112.331 40.4107 Q115.41 35.8042 121.22 35.8042 Z\" fill=\"#000000\" fill-rule=\"nonzero\" fill-opacity=\"1\" /><path clip-path=\"url(#clip290)\" d=\"M142.87 18.0002 Q139.936 18.0002 138.45 20.8966 Q136.983 23.7742 136.983 29.567 Q136.983 35.341 138.45 38.2374 Q139.936 41.115 142.87 41.115 Q145.822 41.115 147.289 38.2374 Q148.775 35.341 148.775 29.567 Q148.775 23.7742 147.289 20.8966 Q145.822 18.0002 142.87 18.0002 M142.87 14.991 Q147.59 14.991 150.073 18.7338 Q152.574 22.4577 152.574 29.567 Q152.574 36.6576 150.073 40.4003 Q147.59 44.1242 142.87 44.1242 Q138.149 44.1242 135.647 40.4003 Q133.165 36.6576 133.165 29.567 Q133.165 22.4577 135.647 18.7338 Q138.149 14.991 142.87 14.991 Z\" fill=\"#000000\" fill-rule=\"nonzero\" fill-opacity=\"1\" /><polyline clip-path=\"url(#clip292)\" style=\"stroke:#009af9; stroke-linecap:round; stroke-linejoin:round; stroke-width:4; stroke-opacity:1; fill:none\" points=\"249.825,87.9763 541.493,309.678 833.162,620.321 1124.83,625.667 1416.5,649.434 1708.17,1085.12 1999.84,1032.54 2291.51,1445.72 \"/>\n",
       "<line clip-path=\"url(#clip292)\" x1=\"249.825\" y1=\"87.9763\" x2=\"233.825\" y2=\"71.9763\" style=\"stroke:#009af9; stroke-width:4; stroke-opacity:1\"/>\n",
       "<line clip-path=\"url(#clip292)\" x1=\"249.825\" y1=\"87.9763\" x2=\"233.825\" y2=\"103.976\" style=\"stroke:#009af9; stroke-width:4; stroke-opacity:1\"/>\n",
       "<line clip-path=\"url(#clip292)\" x1=\"249.825\" y1=\"87.9763\" x2=\"265.825\" y2=\"103.976\" style=\"stroke:#009af9; stroke-width:4; stroke-opacity:1\"/>\n",
       "<line clip-path=\"url(#clip292)\" x1=\"249.825\" y1=\"87.9763\" x2=\"265.825\" y2=\"71.9763\" style=\"stroke:#009af9; stroke-width:4; stroke-opacity:1\"/>\n",
       "<line clip-path=\"url(#clip292)\" x1=\"541.493\" y1=\"309.678\" x2=\"525.493\" y2=\"293.678\" style=\"stroke:#009af9; stroke-width:4; stroke-opacity:1\"/>\n",
       "<line clip-path=\"url(#clip292)\" x1=\"541.493\" y1=\"309.678\" x2=\"525.493\" y2=\"325.678\" style=\"stroke:#009af9; stroke-width:4; stroke-opacity:1\"/>\n",
       "<line clip-path=\"url(#clip292)\" x1=\"541.493\" y1=\"309.678\" x2=\"557.493\" y2=\"325.678\" style=\"stroke:#009af9; stroke-width:4; stroke-opacity:1\"/>\n",
       "<line clip-path=\"url(#clip292)\" x1=\"541.493\" y1=\"309.678\" x2=\"557.493\" y2=\"293.678\" style=\"stroke:#009af9; stroke-width:4; stroke-opacity:1\"/>\n",
       "<line clip-path=\"url(#clip292)\" x1=\"833.162\" y1=\"620.321\" x2=\"817.162\" y2=\"604.321\" style=\"stroke:#009af9; stroke-width:4; stroke-opacity:1\"/>\n",
       "<line clip-path=\"url(#clip292)\" x1=\"833.162\" y1=\"620.321\" x2=\"817.162\" y2=\"636.321\" style=\"stroke:#009af9; stroke-width:4; stroke-opacity:1\"/>\n",
       "<line clip-path=\"url(#clip292)\" x1=\"833.162\" y1=\"620.321\" x2=\"849.162\" y2=\"636.321\" style=\"stroke:#009af9; stroke-width:4; stroke-opacity:1\"/>\n",
       "<line clip-path=\"url(#clip292)\" x1=\"833.162\" y1=\"620.321\" x2=\"849.162\" y2=\"604.321\" style=\"stroke:#009af9; stroke-width:4; stroke-opacity:1\"/>\n",
       "<line clip-path=\"url(#clip292)\" x1=\"1124.83\" y1=\"625.667\" x2=\"1108.83\" y2=\"609.667\" style=\"stroke:#009af9; stroke-width:4; stroke-opacity:1\"/>\n",
       "<line clip-path=\"url(#clip292)\" x1=\"1124.83\" y1=\"625.667\" x2=\"1108.83\" y2=\"641.667\" style=\"stroke:#009af9; stroke-width:4; stroke-opacity:1\"/>\n",
       "<line clip-path=\"url(#clip292)\" x1=\"1124.83\" y1=\"625.667\" x2=\"1140.83\" y2=\"641.667\" style=\"stroke:#009af9; stroke-width:4; stroke-opacity:1\"/>\n",
       "<line clip-path=\"url(#clip292)\" x1=\"1124.83\" y1=\"625.667\" x2=\"1140.83\" y2=\"609.667\" style=\"stroke:#009af9; stroke-width:4; stroke-opacity:1\"/>\n",
       "<line clip-path=\"url(#clip292)\" x1=\"1416.5\" y1=\"649.434\" x2=\"1400.5\" y2=\"633.434\" style=\"stroke:#009af9; stroke-width:4; stroke-opacity:1\"/>\n",
       "<line clip-path=\"url(#clip292)\" x1=\"1416.5\" y1=\"649.434\" x2=\"1400.5\" y2=\"665.434\" style=\"stroke:#009af9; stroke-width:4; stroke-opacity:1\"/>\n",
       "<line clip-path=\"url(#clip292)\" x1=\"1416.5\" y1=\"649.434\" x2=\"1432.5\" y2=\"665.434\" style=\"stroke:#009af9; stroke-width:4; stroke-opacity:1\"/>\n",
       "<line clip-path=\"url(#clip292)\" x1=\"1416.5\" y1=\"649.434\" x2=\"1432.5\" y2=\"633.434\" style=\"stroke:#009af9; stroke-width:4; stroke-opacity:1\"/>\n",
       "<line clip-path=\"url(#clip292)\" x1=\"1708.17\" y1=\"1085.12\" x2=\"1692.17\" y2=\"1069.12\" style=\"stroke:#009af9; stroke-width:4; stroke-opacity:1\"/>\n",
       "<line clip-path=\"url(#clip292)\" x1=\"1708.17\" y1=\"1085.12\" x2=\"1692.17\" y2=\"1101.12\" style=\"stroke:#009af9; stroke-width:4; stroke-opacity:1\"/>\n",
       "<line clip-path=\"url(#clip292)\" x1=\"1708.17\" y1=\"1085.12\" x2=\"1724.17\" y2=\"1101.12\" style=\"stroke:#009af9; stroke-width:4; stroke-opacity:1\"/>\n",
       "<line clip-path=\"url(#clip292)\" x1=\"1708.17\" y1=\"1085.12\" x2=\"1724.17\" y2=\"1069.12\" style=\"stroke:#009af9; stroke-width:4; stroke-opacity:1\"/>\n",
       "<line clip-path=\"url(#clip292)\" x1=\"1999.84\" y1=\"1032.54\" x2=\"1983.84\" y2=\"1016.54\" style=\"stroke:#009af9; stroke-width:4; stroke-opacity:1\"/>\n",
       "<line clip-path=\"url(#clip292)\" x1=\"1999.84\" y1=\"1032.54\" x2=\"1983.84\" y2=\"1048.54\" style=\"stroke:#009af9; stroke-width:4; stroke-opacity:1\"/>\n",
       "<line clip-path=\"url(#clip292)\" x1=\"1999.84\" y1=\"1032.54\" x2=\"2015.84\" y2=\"1048.54\" style=\"stroke:#009af9; stroke-width:4; stroke-opacity:1\"/>\n",
       "<line clip-path=\"url(#clip292)\" x1=\"1999.84\" y1=\"1032.54\" x2=\"2015.84\" y2=\"1016.54\" style=\"stroke:#009af9; stroke-width:4; stroke-opacity:1\"/>\n",
       "<line clip-path=\"url(#clip292)\" x1=\"2291.51\" y1=\"1445.72\" x2=\"2275.51\" y2=\"1429.72\" style=\"stroke:#009af9; stroke-width:4; stroke-opacity:1\"/>\n",
       "<line clip-path=\"url(#clip292)\" x1=\"2291.51\" y1=\"1445.72\" x2=\"2275.51\" y2=\"1461.72\" style=\"stroke:#009af9; stroke-width:4; stroke-opacity:1\"/>\n",
       "<line clip-path=\"url(#clip292)\" x1=\"2291.51\" y1=\"1445.72\" x2=\"2307.51\" y2=\"1461.72\" style=\"stroke:#009af9; stroke-width:4; stroke-opacity:1\"/>\n",
       "<line clip-path=\"url(#clip292)\" x1=\"2291.51\" y1=\"1445.72\" x2=\"2307.51\" y2=\"1429.72\" style=\"stroke:#009af9; stroke-width:4; stroke-opacity:1\"/>\n",
       "<path clip-path=\"url(#clip290)\" d=\"M1816.01 198.898 L2280.62 198.898 L2280.62 95.2176 L1816.01 95.2176  Z\" fill=\"#ffffff\" fill-rule=\"evenodd\" fill-opacity=\"1\"/>\n",
       "<polyline clip-path=\"url(#clip290)\" style=\"stroke:#000000; stroke-linecap:round; stroke-linejoin:round; stroke-width:4; stroke-opacity:1; fill:none\" points=\"1816.01,198.898 2280.62,198.898 2280.62,95.2176 1816.01,95.2176 1816.01,198.898 \"/>\n",
       "<polyline clip-path=\"url(#clip290)\" style=\"stroke:#009af9; stroke-linecap:round; stroke-linejoin:round; stroke-width:4; stroke-opacity:1; fill:none\" points=\"1840.05,147.058 1984.33,147.058 \"/>\n",
       "<line clip-path=\"url(#clip290)\" x1=\"1912.19\" y1=\"147.058\" x2=\"1889.93\" y2=\"124.792\" style=\"stroke:#009af9; stroke-width:4.55111; stroke-opacity:1\"/>\n",
       "<line clip-path=\"url(#clip290)\" x1=\"1912.19\" y1=\"147.058\" x2=\"1889.93\" y2=\"169.323\" style=\"stroke:#009af9; stroke-width:4.55111; stroke-opacity:1\"/>\n",
       "<line clip-path=\"url(#clip290)\" x1=\"1912.19\" y1=\"147.058\" x2=\"1934.46\" y2=\"169.323\" style=\"stroke:#009af9; stroke-width:4.55111; stroke-opacity:1\"/>\n",
       "<line clip-path=\"url(#clip290)\" x1=\"1912.19\" y1=\"147.058\" x2=\"1934.46\" y2=\"124.792\" style=\"stroke:#009af9; stroke-width:4.55111; stroke-opacity:1\"/>\n",
       "<path clip-path=\"url(#clip290)\" d=\"M2012.31 128.111 L2012.31 175.518 L2008.38 175.518 L2008.38 128.111 L2012.31 128.111 Z\" fill=\"#000000\" fill-rule=\"nonzero\" fill-opacity=\"1\" /><path clip-path=\"url(#clip290)\" d=\"M2024.72 143.041 Q2026.13 140.68 2029.63 138.597 Q2030.99 137.787 2035.21 137.787 Q2039.93 137.787 2042.87 141.537 Q2045.83 145.287 2045.83 151.398 Q2045.83 157.509 2042.87 161.259 Q2039.93 165.009 2035.21 165.009 Q2032.36 165.009 2030.3 163.898 Q2028.26 162.763 2026.92 160.449 L2026.92 174.199 L2022.64 174.199 L2022.64 151.629 Q2022.64 146.282 2024.72 143.041 M2041.41 151.398 Q2041.41 146.699 2039.46 144.037 Q2037.54 141.352 2034.16 141.352 Q2030.78 141.352 2028.84 144.037 Q2026.92 146.699 2026.92 151.398 Q2026.92 156.097 2028.84 158.782 Q2030.78 161.444 2034.16 161.444 Q2037.54 161.444 2039.46 158.782 Q2041.41 156.097 2041.41 151.398 Z\" fill=\"#000000\" fill-rule=\"nonzero\" fill-opacity=\"1\" /><path clip-path=\"url(#clip290)\" d=\"M2062.94 141.398 Q2059.51 141.398 2057.52 144.083 Q2055.53 146.745 2055.53 151.398 Q2055.53 156.051 2057.5 158.736 Q2059.49 161.398 2062.94 161.398 Q2066.34 161.398 2068.33 158.713 Q2070.32 156.027 2070.32 151.398 Q2070.32 146.791 2068.33 144.106 Q2066.34 141.398 2062.94 141.398 M2062.94 137.787 Q2068.49 137.787 2071.66 141.398 Q2074.83 145.009 2074.83 151.398 Q2074.83 157.764 2071.66 161.398 Q2068.49 165.009 2062.94 165.009 Q2057.36 165.009 2054.19 161.398 Q2051.04 157.764 2051.04 151.398 Q2051.04 145.009 2054.19 141.398 Q2057.36 137.787 2062.94 137.787 Z\" fill=\"#000000\" fill-rule=\"nonzero\" fill-opacity=\"1\" /><path clip-path=\"url(#clip290)\" d=\"M2081.46 154.106 L2081.46 138.412 L2085.71 138.412 L2085.71 153.944 Q2085.71 157.625 2087.15 159.476 Q2088.58 161.305 2091.46 161.305 Q2094.9 161.305 2096.89 159.106 Q2098.91 156.907 2098.91 153.111 L2098.91 138.412 L2103.17 138.412 L2103.17 164.338 L2098.91 164.338 L2098.91 160.356 Q2097.36 162.717 2095.3 163.875 Q2093.26 165.009 2090.55 165.009 Q2086.08 165.009 2083.77 162.231 Q2081.46 159.453 2081.46 154.106 M2092.17 137.787 L2092.17 137.787 Z\" fill=\"#000000\" fill-rule=\"nonzero\" fill-opacity=\"1\" /><path clip-path=\"url(#clip290)\" d=\"M2116.15 131.051 L2116.15 138.412 L2124.93 138.412 L2124.93 141.722 L2116.15 141.722 L2116.15 155.796 Q2116.15 158.967 2117.01 159.87 Q2117.89 160.773 2120.55 160.773 L2124.93 160.773 L2124.93 164.338 L2120.55 164.338 Q2115.62 164.338 2113.75 162.509 Q2111.87 160.657 2111.87 155.796 L2111.87 141.722 L2108.75 141.722 L2108.75 138.412 L2111.87 138.412 L2111.87 131.051 L2116.15 131.051 Z\" fill=\"#000000\" fill-rule=\"nonzero\" fill-opacity=\"1\" /><path clip-path=\"url(#clip290)\" d=\"M2143.45 149.453 L2155.92 149.453 L2155.92 153.25 L2143.45 153.25 L2143.45 149.453 Z\" fill=\"#000000\" fill-rule=\"nonzero\" fill-opacity=\"1\" /><path clip-path=\"url(#clip290)\" d=\"M2179.7 143.041 Q2181.11 140.68 2184.6 138.597 Q2185.97 137.787 2190.18 137.787 Q2194.9 137.787 2197.84 141.537 Q2200.81 145.287 2200.81 151.398 Q2200.81 157.509 2197.84 161.259 Q2194.9 165.009 2190.18 165.009 Q2187.33 165.009 2185.27 163.898 Q2183.24 162.763 2181.89 160.449 L2181.89 174.199 L2177.61 174.199 L2177.61 151.629 Q2177.61 146.282 2179.7 143.041 M2196.39 151.398 Q2196.39 146.699 2194.44 144.037 Q2192.52 141.352 2189.14 141.352 Q2185.76 141.352 2183.82 144.037 Q2181.89 146.699 2181.89 151.398 Q2181.89 156.097 2183.82 158.782 Q2185.76 161.444 2189.14 161.444 Q2192.52 161.444 2194.44 158.782 Q2196.39 156.097 2196.39 151.398 Z\" fill=\"#000000\" fill-rule=\"nonzero\" fill-opacity=\"1\" /><path clip-path=\"url(#clip290)\" d=\"M2207.87 138.412 L2212.13 138.412 L2212.13 164.338 L2207.87 164.338 L2207.87 138.412 M2207.87 128.319 L2212.13 128.319 L2212.13 133.713 L2207.87 133.713 L2207.87 128.319 Z\" fill=\"#000000\" fill-rule=\"nonzero\" fill-opacity=\"1\" /><path clip-path=\"url(#clip290)\" d=\"M2242.59 148.689 L2242.59 164.338 L2238.33 164.338 L2238.33 148.828 Q2238.33 145.148 2236.89 143.319 Q2235.46 141.49 2232.59 141.49 Q2229.14 141.49 2227.15 143.69 Q2225.16 145.889 2225.16 149.685 L2225.16 164.338 L2220.88 164.338 L2220.88 138.412 L2225.16 138.412 L2225.16 142.44 Q2226.69 140.102 2228.75 138.944 Q2230.83 137.787 2233.54 137.787 Q2238.01 137.787 2240.3 140.565 Q2242.59 143.319 2242.59 148.689 Z\" fill=\"#000000\" fill-rule=\"nonzero\" fill-opacity=\"1\" /><path clip-path=\"url(#clip290)\" d=\"M2256.57 128.111 L2256.57 175.518 L2252.63 175.518 L2252.63 128.111 L2256.57 128.111 Z\" fill=\"#000000\" fill-rule=\"nonzero\" fill-opacity=\"1\" /></svg>\n"
      ]
     },
     "metadata": {},
     "execution_count": 5
    }
   ],
   "cell_type": "code",
   "source": [
    "p"
   ],
   "metadata": {},
   "execution_count": 5
  },
  {
   "cell_type": "markdown",
   "source": [
    "The `info` object passed to the callback contains not just the densities\n",
    "but also the complete Bloch wave (in `ψ`), the `occupation`, band `eigenvalues`\n",
    "and so on.\n",
    "See [`src/scf/self_consistent_field.jl`](https://dftk.org/blob/master/src/scf/self_consistent_field.jl#L101)\n",
    "for all currently available keys.\n",
    "\n",
    "> **Debugging with callbacks**\n",
    ">\n",
    "> Very handy for debugging SCF algorithms is to employ callbacks\n",
    "> with an `@infiltrate` from [Infiltrator.jl](https://github.com/JuliaDebug/Infiltrator.jl)\n",
    "> to interactively monitor what is happening each SCF step."
   ],
   "metadata": {}
  }
 ],
 "nbformat_minor": 3,
 "metadata": {
  "language_info": {
   "file_extension": ".jl",
   "mimetype": "application/julia",
   "name": "julia",
   "version": "1.11.5"
  },
  "kernelspec": {
   "name": "julia-1.11",
   "display_name": "Julia 1.11.5",
   "language": "julia"
  }
 },
 "nbformat": 4
}
