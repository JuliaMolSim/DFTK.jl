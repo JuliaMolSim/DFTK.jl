{
 "cells": [
  {
   "cell_type": "markdown",
   "source": [
    "# Comparison of DFT solvers"
   ],
   "metadata": {}
  },
  {
   "cell_type": "markdown",
   "source": [
    "We compare four different approaches for solving the DFT minimisation problem,\n",
    "namely a density-based SCF, a potential-based SCF, direct minimisation and Newton."
   ],
   "metadata": {}
  },
  {
   "cell_type": "markdown",
   "source": [
    "First we setup our problem"
   ],
   "metadata": {}
  },
  {
   "outputs": [
    {
     "output_type": "execute_result",
     "data": {
      "text/plain": "1.0e-6"
     },
     "metadata": {},
     "execution_count": 1
    }
   ],
   "cell_type": "code",
   "source": [
    "using AtomsBuilder\n",
    "using DFTK\n",
    "using LinearAlgebra\n",
    "using PseudoPotentialData\n",
    "\n",
    "pseudopotentials = PseudoFamily(\"dojo.nc.sr.pbesol.v0_4_1.standard.upf\")\n",
    "model = model_DFT(bulk(:Si); functionals=PBEsol(), pseudopotentials)\n",
    "basis = PlaneWaveBasis(model; Ecut=5, kgrid=[3, 3, 3])\n",
    "\n",
    "# Convergence we desire in the density\n",
    "tol = 1e-6"
   ],
   "metadata": {},
   "execution_count": 1
  },
  {
   "cell_type": "markdown",
   "source": [
    "## Density-based self-consistent field"
   ],
   "metadata": {}
  },
  {
   "outputs": [
    {
     "name": "stdout",
     "output_type": "stream",
     "text": [
      "n     Energy            log10(ΔE)   log10(Δρ)   Diag   Δtime\n",
      "---   ---------------   ---------   ---------   ----   ------\n",
      "  1   -8.397853690651                   -0.90    5.2   25.8ms\n",
      "  2   -8.400240399366       -2.62       -1.74    1.0   18.5ms\n",
      "  3   -8.400406689561       -3.78       -2.98    1.5   47.7ms\n",
      "  4   -8.400427850130       -4.67       -2.99    3.0   23.4ms\n",
      "  5   -8.400427918235       -7.17       -3.02    1.0   18.7ms\n",
      "  6   -8.400428145226       -6.64       -4.44    1.0   18.9ms\n",
      "  7   -8.400428151672       -8.19       -4.41    2.2   22.0ms\n",
      "  8   -8.400428152182       -9.29       -5.24    1.0   18.8ms\n",
      "  9   -8.400428152207      -10.61       -6.46    1.5   39.5ms\n"
     ]
    }
   ],
   "cell_type": "code",
   "source": [
    "scfres_scf = self_consistent_field(basis; tol);"
   ],
   "metadata": {},
   "execution_count": 2
  },
  {
   "cell_type": "markdown",
   "source": [
    "## Potential-based SCF"
   ],
   "metadata": {}
  },
  {
   "outputs": [
    {
     "name": "stdout",
     "output_type": "stream",
     "text": [
      "n     Energy            log10(ΔE)   log10(Δρ)   α      Diag   Δtime\n",
      "---   ---------------   ---------   ---------   ----   ----   ------\n",
      "  1   -8.397802890027                   -0.90           5.2    578ms\n",
      "  2   -8.400385065686       -2.59       -1.79   0.80    2.0    492ms\n",
      "  3   -8.400423170028       -4.42       -3.01   0.80    1.0    189ms\n",
      "  4   -8.400428106362       -5.31       -3.43   0.80    2.5   20.2ms\n",
      "  5   -8.400428149978       -7.36       -4.52   0.80    1.2   16.9ms\n",
      "  6   -8.400428152176       -8.66       -5.89   0.80    2.0   19.0ms\n",
      "  7   -8.400428152209      -10.48       -6.12   0.80    3.2   22.2ms\n"
     ]
    }
   ],
   "cell_type": "code",
   "source": [
    "scfres_scfv = DFTK.scf_potential_mixing(basis; tol);"
   ],
   "metadata": {},
   "execution_count": 3
  },
  {
   "cell_type": "markdown",
   "source": [
    "## Direct minimization"
   ],
   "metadata": {}
  },
  {
   "outputs": [
    {
     "name": "stdout",
     "output_type": "stream",
     "text": [
      "┌ Warning: x_tol is deprecated. Use x_abstol or x_reltol instead. The provided value (-1) will be used as x_abstol.\n",
      "└ @ Optim ~/.julia/packages/Optim/7krni/src/types.jl:110\n",
      "┌ Warning: f_tol is deprecated. Use f_abstol or f_reltol instead. The provided value (-1) will be used as f_reltol.\n",
      "└ @ Optim ~/.julia/packages/Optim/7krni/src/types.jl:120\n",
      "n     Energy            log10(ΔE)   log10(Δρ)   Δtime\n",
      "---   ---------------   ---------   ---------   ------\n",
      "  1   +1.182432787158                   -1.07    4.00s\n",
      "  2   -1.772645068320        0.47       -0.69    120ms\n",
      "  3   -4.394453195879        0.42       -0.38   76.8ms\n",
      "  4   -6.070407069797        0.22       -0.49   44.4ms\n",
      "  5   -7.518389716472        0.16       -0.68   43.8ms\n",
      "  6   -7.992591229457       -0.32       -1.22   32.4ms\n",
      "  7   -8.203621625503       -0.68       -1.51   55.2ms\n",
      "  8   -8.279330143488       -1.12       -1.70   32.4ms\n",
      "  9   -8.326103186107       -1.33       -2.16   32.3ms\n",
      " 10   -8.360281738574       -1.47       -2.37   32.4ms\n",
      " 11   -8.380546561224       -1.69       -2.27   32.2ms\n",
      " 12   -8.388801248180       -2.08       -2.73   35.3ms\n",
      " 13   -8.393040003552       -2.37       -3.01   32.2ms\n",
      " 14   -8.395063395825       -2.69       -2.89   32.4ms\n",
      " 15   -8.396359358113       -2.89       -2.97   32.6ms\n",
      " 16   -8.397697009851       -2.87       -2.94   34.9ms\n",
      " 17   -8.399023259935       -2.88       -2.86   32.2ms\n",
      " 18   -8.399769420441       -3.13       -3.19   32.5ms\n",
      " 19   -8.400157445560       -3.41       -3.48   35.4ms\n",
      " 20   -8.400320666094       -3.79       -3.48   32.4ms\n",
      " 21   -8.400387701947       -4.17       -3.71   32.4ms\n",
      " 22   -8.400413813323       -4.58       -4.21   34.7ms\n",
      " 23   -8.400422019905       -5.09       -4.25   32.2ms\n",
      " 24   -8.400425941317       -5.41       -4.20   35.1ms\n",
      " 25   -8.400426983142       -5.98       -4.41   32.3ms\n",
      " 26   -8.400427714283       -6.14       -5.36   32.2ms\n",
      " 27   -8.400427951682       -6.62       -4.82   34.9ms\n",
      " 28   -8.400428081094       -6.89       -5.49   32.2ms\n",
      " 29   -8.400428119262       -7.42       -5.15   32.2ms\n",
      " 30   -8.400428141104       -7.66       -5.36   34.8ms\n",
      " 31   -8.400428146779       -8.25       -5.83   32.4ms\n",
      " 32   -8.400428150057       -8.48       -6.13   32.2ms\n"
     ]
    }
   ],
   "cell_type": "code",
   "source": [
    "scfres_dm = direct_minimization(basis; tol);"
   ],
   "metadata": {},
   "execution_count": 4
  },
  {
   "cell_type": "markdown",
   "source": [
    "## Newton algorithm"
   ],
   "metadata": {}
  },
  {
   "cell_type": "markdown",
   "source": [
    "Start not too far from the solution to ensure convergence:\n",
    "We run first a very crude SCF to get close and then switch to Newton."
   ],
   "metadata": {}
  },
  {
   "outputs": [
    {
     "name": "stdout",
     "output_type": "stream",
     "text": [
      "n     Energy            log10(ΔE)   log10(Δρ)   Diag   Δtime\n",
      "---   ---------------   ---------   ---------   ----   ------\n",
      "  1   -8.397832006819                   -0.90    5.2   26.0ms\n"
     ]
    }
   ],
   "cell_type": "code",
   "source": [
    "scfres_start = self_consistent_field(basis; tol=0.5);"
   ],
   "metadata": {},
   "execution_count": 5
  },
  {
   "cell_type": "markdown",
   "source": [
    "Remove the virtual orbitals (which Newton cannot treat yet)"
   ],
   "metadata": {}
  },
  {
   "outputs": [
    {
     "name": "stdout",
     "output_type": "stream",
     "text": [
      "n     Energy            log10(ΔE)   log10(Δρ)   Δtime\n",
      "---   ---------------   ---------   ---------   ------\n",
      "  1   -8.400427981622                   -1.79    28.6s\n",
      "  2   -8.400428152209       -6.77       -4.03    1.95s\n",
      "  3   -8.400428152209      -14.45       -7.83    104ms\n"
     ]
    }
   ],
   "cell_type": "code",
   "source": [
    "ψ = DFTK.select_occupied_orbitals(basis, scfres_start.ψ, scfres_start.occupation).ψ\n",
    "scfres_newton = newton(basis, ψ; tol);"
   ],
   "metadata": {},
   "execution_count": 6
  },
  {
   "cell_type": "markdown",
   "source": [
    "## Comparison of results"
   ],
   "metadata": {}
  },
  {
   "outputs": [
    {
     "name": "stdout",
     "output_type": "stream",
     "text": [
      "|ρ_newton - ρ_scf|  = 7.40967408409478e-7\n",
      "|ρ_newton - ρ_scfv| = 7.168900063636921e-8\n",
      "|ρ_newton - ρ_dm|   = 1.427567406616185e-6\n"
     ]
    }
   ],
   "cell_type": "code",
   "source": [
    "println(\"|ρ_newton - ρ_scf|  = \", norm(scfres_newton.ρ - scfres_scf.ρ))\n",
    "println(\"|ρ_newton - ρ_scfv| = \", norm(scfres_newton.ρ - scfres_scfv.ρ))\n",
    "println(\"|ρ_newton - ρ_dm|   = \", norm(scfres_newton.ρ - scfres_dm.ρ))"
   ],
   "metadata": {},
   "execution_count": 7
  }
 ],
 "nbformat_minor": 3,
 "metadata": {
  "language_info": {
   "file_extension": ".jl",
   "mimetype": "application/julia",
   "name": "julia",
   "version": "1.11.7"
  },
  "kernelspec": {
   "name": "julia-1.11",
   "display_name": "Julia 1.11.7",
   "language": "julia"
  }
 },
 "nbformat": 4
}
