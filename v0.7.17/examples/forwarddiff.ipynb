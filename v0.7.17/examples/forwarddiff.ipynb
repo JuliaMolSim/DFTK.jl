{
 "cells": [
  {
   "cell_type": "markdown",
   "source": [
    "# Polarizability using automatic differentiation\n",
    "\n",
    "Simple example for computing properties using (forward-mode)\n",
    "automatic differentiation.\n",
    "For a more classical approach and more details about computing polarizabilities,\n",
    "see Polarizability by linear response."
   ],
   "metadata": {}
  },
  {
   "outputs": [],
   "cell_type": "code",
   "source": [
    "using DFTK\n",
    "using LinearAlgebra\n",
    "using ForwardDiff\n",
    "using PseudoPotentialData\n",
    "\n",
    "# Construct PlaneWaveBasis given a particular electric field strength\n",
    "# Again we take the example of a Helium atom.\n",
    "function make_basis(ε::T; a=10., Ecut=30) where {T}\n",
    "    lattice = T(a) * I(3)  # lattice is a cube of $a$ Bohrs\n",
    "    # Helium at the center of the box\n",
    "    pseudopotentials = PseudoFamily(\"cp2k.nc.sr.lda.v0_1.semicore.gth\")\n",
    "    atoms     = [ElementPsp(:He, pseudopotentials)]\n",
    "    positions = [[1/2, 1/2, 1/2]]\n",
    "\n",
    "    model = model_DFT(lattice, atoms, positions;\n",
    "                      functionals=[:lda_x, :lda_c_vwn],\n",
    "                      extra_terms=[ExternalFromReal(r -> -ε * (r[1] - a/2))],\n",
    "                      symmetries=false)\n",
    "    PlaneWaveBasis(model; Ecut, kgrid=[1, 1, 1])  # No k-point sampling on isolated system\n",
    "end\n",
    "\n",
    "# dipole moment of a given density (assuming the current geometry)\n",
    "function dipole(basis, ρ)\n",
    "    @assert isdiag(basis.model.lattice)\n",
    "    a  = basis.model.lattice[1, 1]\n",
    "    rr = [a * (r[1] - 1/2) for r in r_vectors(basis)]\n",
    "    sum(rr .* ρ) * basis.dvol\n",
    "end\n",
    "\n",
    "# Function to compute the dipole for a given field strength\n",
    "function compute_dipole(ε; tol=1e-8, kwargs...)\n",
    "    scfres = self_consistent_field(make_basis(ε; kwargs...); tol)\n",
    "    dipole(scfres.basis, scfres.ρ)\n",
    "end;"
   ],
   "metadata": {},
   "execution_count": 1
  },
  {
   "cell_type": "markdown",
   "source": [
    "With this in place we can compute the polarizability from finite differences\n",
    "(just like in the previous example):"
   ],
   "metadata": {}
  },
  {
   "outputs": [
    {
     "name": "stdout",
     "output_type": "stream",
     "text": [
      "n     Energy            log10(ΔE)   log10(Δρ)   Diag   Δtime\n",
      "---   ---------------   ---------   ---------   ----   ------\n",
      "  1   -2.770818573708                   -0.52    9.0    167ms\n",
      "  2   -2.772143892869       -2.88       -1.32    1.0    103ms\n",
      "  3   -2.772170384335       -4.58       -2.52    1.0    140ms\n",
      "  4   -2.772170672610       -6.54       -3.32    1.0    420ms\n",
      "  5   -2.772170721499       -7.31       -3.91    2.0    117ms\n",
      "  6   -2.772170722972       -8.83       -5.39    1.0    137ms\n",
      "  7   -2.772170723013      -10.38       -5.36    3.0    146ms\n",
      "  8   -2.772170723015      -11.82       -5.88    1.0    104ms\n",
      "  9   -2.772170723015      -12.83       -6.50    1.0    107ms\n",
      " 10   -2.772170723015   +  -14.88       -7.32    1.0    106ms\n",
      " 11   -2.772170723015   +    -Inf       -7.39    2.0    121ms\n",
      " 12   -2.772170723015      -13.91       -7.84    1.0    109ms\n",
      " 13   -2.772170723015   +  -14.12       -8.62    1.0    118ms\n",
      "n     Energy            log10(ΔE)   log10(Δρ)   Diag   Δtime\n",
      "---   ---------------   ---------   ---------   ----   ------\n",
      "  1   -2.770809386459                   -0.53    8.0    150ms\n",
      "  2   -2.772057745630       -2.90       -1.31    1.0   98.5ms\n",
      "  3   -2.772083086025       -4.60       -2.56    1.0    101ms\n",
      "  4   -2.772083381384       -6.53       -3.55    1.0    102ms\n",
      "  5   -2.772083416396       -7.46       -3.96    2.0    482ms\n",
      "  6   -2.772083417771       -8.86       -5.29    1.0    100ms\n",
      "  7   -2.772083417808      -10.43       -5.34    2.0    123ms\n",
      "  8   -2.772083417811      -11.62       -6.36    1.0    130ms\n",
      "  9   -2.772083417811      -13.31       -6.78    1.0    102ms\n",
      " 10   -2.772083417811      -13.99       -7.55    2.0    120ms\n",
      " 11   -2.772083417811   +  -14.01       -7.67    1.0    113ms\n",
      " 12   -2.772083417811      -13.78       -8.10    1.0    108ms\n"
     ]
    },
    {
     "output_type": "execute_result",
     "data": {
      "text/plain": "1.7735580679044824"
     },
     "metadata": {},
     "execution_count": 2
    }
   ],
   "cell_type": "code",
   "source": [
    "polarizability_fd = let\n",
    "    ε = 0.01\n",
    "    (compute_dipole(ε) - compute_dipole(0.0)) / ε\n",
    "end"
   ],
   "metadata": {},
   "execution_count": 2
  },
  {
   "cell_type": "markdown",
   "source": [
    "We do the same thing using automatic differentiation. Under the hood this uses\n",
    "custom rules to implicitly differentiate through the self-consistent\n",
    "field fixed-point problem. This leads to a density-functional perturbation\n",
    "theory problem, which is automatically set up and solved in the background."
   ],
   "metadata": {}
  },
  {
   "outputs": [
    {
     "name": "stdout",
     "output_type": "stream",
     "text": [
      "n     Energy            log10(ΔE)   log10(Δρ)   Diag   Δtime\n",
      "---   ---------------   ---------   ---------   ----   ------\n",
      "  1   -2.770757074237                   -0.52    9.0    175ms\n",
      "  2   -2.772059113465       -2.89       -1.33    1.0    105ms\n",
      "  3   -2.772082825038       -4.63       -2.40    1.0    100ms\n",
      "  4   -2.772083330661       -6.30       -3.10    1.0    144ms\n",
      "  5   -2.772083417638       -7.06       -4.78    2.0    451ms\n",
      "  6   -2.772083417794       -9.81       -4.81    2.0    122ms\n",
      "  7   -2.772083417810      -10.81       -5.81    1.0    127ms\n",
      "  8   -2.772083417811      -12.04       -6.15    2.0    119ms\n",
      "  9   -2.772083417811      -13.78       -6.87    1.0    107ms\n",
      " 10   -2.772083417811      -14.24       -8.19    1.0    108ms\n",
      "Solving response problem\n",
      "Iter  Restart  Krydim  log10(res)  avg(CG)  Δtime   Comment\n",
      "----  -------  ------  ----------  -------  ------  ---------------\n",
      "                                      13.0  79.5ms  Non-interacting\n",
      "   1        0       1       -0.60     10.0   148ms  \n",
      "   2        0       2       -2.42      8.0   118ms  \n",
      "   3        0       3       -3.55      6.0   109ms  \n",
      "   4        0       4       -5.33      5.0   104ms  \n",
      "   5        0       5       -7.43      1.0  85.7ms  \n",
      "   6        0       6      -10.26      1.0   127ms  \n",
      "   7        1       1       -7.60     13.0   547ms  Restart\n",
      "   8        1       2       -9.10      1.0  82.1ms  \n",
      "                                      13.0   123ms  Final orbitals\n",
      "\n",
      "Polarizability via ForwardDiff:       1.7725349582883458\n",
      "Polarizability via finite difference: 1.7735580679044824\n"
     ]
    }
   ],
   "cell_type": "code",
   "source": [
    "polarizability = ForwardDiff.derivative(compute_dipole, 0.0)\n",
    "println()\n",
    "println(\"Polarizability via ForwardDiff:       $polarizability\")\n",
    "println(\"Polarizability via finite difference: $polarizability_fd\")"
   ],
   "metadata": {},
   "execution_count": 3
  }
 ],
 "nbformat_minor": 3,
 "metadata": {
  "language_info": {
   "file_extension": ".jl",
   "mimetype": "application/julia",
   "name": "julia",
   "version": "1.11.7"
  },
  "kernelspec": {
   "name": "julia-1.11",
   "display_name": "Julia 1.11.7",
   "language": "julia"
  }
 },
 "nbformat": 4
}
