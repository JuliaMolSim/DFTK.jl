{
 "cells": [
  {
   "cell_type": "markdown",
   "source": [
    "# Phonon computations\n",
    "\n",
    "This is a quick sketch how to run a simple phonon calculation using DFTK."
   ],
   "metadata": {}
  },
  {
   "cell_type": "markdown",
   "source": [
    "> **Preliminary implementation**\n",
    ">\n",
    "> Practical phonon computations have only seen rudimentary testing as of now.\n",
    "> As of now we do not yet recommend relying on this feature for production\n",
    "> calculations. We appreciate any issues, bug reports or PRs.\n",
    "\n",
    "First we run an SCF calculation."
   ],
   "metadata": {}
  },
  {
   "outputs": [
    {
     "name": "stdout",
     "output_type": "stream",
     "text": [
      "n     Energy            log10(ΔE)   log10(Δρ)   Diag   Δtime\n",
      "---   ---------------   ---------   ---------   ----   ------\n",
      "  1   -7.916437313755                   -0.69    5.0    119ms\n",
      "  2   -7.921207574410       -2.32       -1.52    1.0   50.8ms\n",
      "  3   -7.921403957151       -3.71       -2.49    1.4   54.3ms\n",
      "  4   -7.921440978220       -4.43       -2.82    2.8   84.3ms\n",
      "  5   -7.921441574576       -6.22       -2.97    1.0   51.2ms\n",
      "  6   -7.921442007990       -6.36       -4.49    1.0   51.2ms\n",
      "  7   -7.921442021709       -7.86       -4.54    2.8   77.0ms\n",
      "  8   -7.921442022126       -9.38       -5.22    1.0   54.9ms\n",
      "  9   -7.921442022138      -10.94       -5.37    2.0   61.5ms\n",
      " 10   -7.921442022143      -11.25       -5.84    1.0   54.7ms\n",
      " 11   -7.921442022144      -12.21       -6.54    1.1   54.1ms\n",
      " 12   -7.921442022144      -13.35       -6.88    1.9   63.8ms\n",
      " 13   -7.921442022144      -14.57       -7.64    1.1   53.7ms\n",
      " 14   -7.921442022144   +    -Inf       -8.09    1.9   66.0ms\n"
     ]
    }
   ],
   "cell_type": "code",
   "source": [
    "using AtomsBuilder\n",
    "using DFTK\n",
    "using PseudoPotentialData\n",
    "\n",
    "pseudopotentials = PseudoFamily(\"cp2k.nc.sr.lda.v0_1.semicore.gth\")\n",
    "model  = model_DFT(bulk(:Si); pseudopotentials, functionals=LDA())\n",
    "basis  = PlaneWaveBasis(model; Ecut=10, kgrid=[4, 4, 4])\n",
    "scfres = self_consistent_field(basis, tol=1e-8);\n",
    "nothing  # hide"
   ],
   "metadata": {},
   "execution_count": 1
  },
  {
   "cell_type": "markdown",
   "source": [
    "Next we compute the phonon modes at the q-point `[1/4, 1/4, 1/4]`."
   ],
   "metadata": {}
  },
  {
   "outputs": [
    {
     "name": "stdout",
     "output_type": "stream",
     "text": [
      "Iter  Restart  Krydim  log10(res)  avg(CG)  Δtime   Comment\n",
      "----  -------  ------  ----------  -------  ------  ---------------\n",
      "                                      73.0   2.60s  Non-interacting\n",
      "   1        0       1        0.31     52.7   22.4s  \n",
      "   2        0       2       -0.52     47.2   1.43s  \n",
      "   3        0       3       -2.40     41.8   1.27s  \n",
      "   4        0       4       -4.46     29.9   982ms  \n",
      "   5        0       5       -6.46     17.7   711ms  \n",
      "   6        0       6       -8.91      4.0   387ms  \n",
      "   7        1       1       -7.86     55.6   1.99s  Restart\n",
      "   8        1       2       -9.02      5.5   444ms  \n",
      "                                      72.9   1.89s  Final orbitals\n",
      "Iter  Restart  Krydim  log10(res)  avg(CG)  Δtime   Comment\n",
      "----  -------  ------  ----------  -------  ------  ---------------\n",
      "                                      73.0   2.08s  Non-interacting\n",
      "   1        0       1        0.31     52.7   1.60s  \n",
      "   2        0       2       -0.52     47.2   1.38s  \n",
      "   3        0       3       -2.40     41.8   1.26s  \n",
      "   4        0       4       -4.46     29.9   994ms  \n",
      "   5        0       5       -6.46     17.7   707ms  \n",
      "   6        0       6       -8.91      4.0   393ms  \n",
      "   7        1       1       -7.86     55.6   1.86s  Restart\n",
      "   8        1       2       -9.02      5.5   425ms  \n",
      "                                      72.9   1.85s  Final orbitals\n",
      "Iter  Restart  Krydim  log10(res)  avg(CG)  Δtime   Comment\n",
      "----  -------  ------  ----------  -------  ------  ---------------\n",
      "                                      73.0   1.70s  Non-interacting\n",
      "   1        0       1        0.31     52.7   1.61s  \n",
      "   2        0       2       -0.52     47.2   1.39s  \n",
      "   3        0       3       -2.40     41.8   1.26s  \n",
      "   4        0       4       -4.46     29.9   993ms  \n",
      "   5        0       5       -6.46     17.7   709ms  \n",
      "   6        0       6       -8.91      4.0   389ms  \n",
      "   7        1       1       -7.86     55.6   1.89s  Restart\n",
      "   8        1       2       -9.02      5.5   429ms  \n",
      "                                      72.8   2.21s  Final orbitals\n",
      "Iter  Restart  Krydim  log10(res)  avg(CG)  Δtime   Comment\n",
      "----  -------  ------  ----------  -------  ------  ---------------\n",
      "                                      73.1   1.73s  Non-interacting\n",
      "   1        0       1        0.31     52.7   1.62s  \n",
      "   2        0       2       -0.52     47.2   1.40s  \n",
      "   3        0       3       -2.40     41.8   1.25s  \n",
      "   4        0       4       -4.46     29.9   989ms  \n",
      "   5        0       5       -6.46     17.6   697ms  \n",
      "   6        0       6       -8.91      4.0   394ms  \n",
      "   7        1       1       -7.86     55.6   2.26s  Restart\n",
      "   8        1       2       -8.97      5.5   412ms  \n",
      "                                      72.9   1.85s  Final orbitals\n",
      "Iter  Restart  Krydim  log10(res)  avg(CG)  Δtime   Comment\n",
      "----  -------  ------  ----------  -------  ------  ---------------\n",
      "                                      73.0   1.72s  Non-interacting\n",
      "   1        0       1        0.31     52.7   1.60s  \n",
      "   2        0       2       -0.52     47.2   1.39s  \n",
      "   3        0       3       -2.40     41.8   1.27s  \n",
      "   4        0       4       -4.46     29.9   996ms  \n",
      "   5        0       5       -6.46     17.6   701ms  \n",
      "   6        0       6       -8.91      4.0   397ms  \n",
      "   7        1       1       -7.86     55.6   2.26s  Restart\n",
      "   8        1       2       -8.97      5.5   418ms  \n",
      "                                      72.9   1.86s  Final orbitals\n",
      "Iter  Restart  Krydim  log10(res)  avg(CG)  Δtime   Comment\n",
      "----  -------  ------  ----------  -------  ------  ---------------\n",
      "                                      73.0   1.73s  Non-interacting\n",
      "   1        0       1        0.31     52.7   1.60s  \n",
      "   2        0       2       -0.52     47.2   1.40s  \n",
      "   3        0       3       -2.40     41.8   1.26s  \n",
      "   4        0       4       -4.46     29.9   982ms  \n",
      "   5        0       5       -6.46     17.6   701ms  \n",
      "   6        0       6       -8.91      4.0   396ms  \n",
      "   7        1       1       -7.86     55.6   2.22s  Restart\n",
      "   8        1       2       -8.97      5.5   430ms  \n",
      "                                      72.8   1.86s  Final orbitals\n",
      "126.074988 seconds (142.51 M allocations: 82.576 GiB, 5.51% gc time, 34.24% compilation time)\n"
     ]
    }
   ],
   "cell_type": "code",
   "source": [
    "scfres = DFTK.unfold_bz(scfres)\n",
    "phret_q0 = @time DFTK.phonon_modes(scfres; q=[0.25, 0.25, 0.25]);\n",
    "nothing  # hide"
   ],
   "metadata": {},
   "execution_count": 2
  },
  {
   "cell_type": "markdown",
   "source": [
    "These are the final phonon frequencies:"
   ],
   "metadata": {}
  },
  {
   "outputs": [
    {
     "output_type": "execute_result",
     "data": {
      "text/plain": "6-element Vector{Float64}:\n -0.0034981553621156766\n -0.0029774511617812957\n -0.00297745116137843\n  0.004302230618219201\n  0.00430223061843963\n  0.004353201749930729"
     },
     "metadata": {},
     "execution_count": 3
    }
   ],
   "cell_type": "code",
   "source": [
    "phret_q0.frequencies"
   ],
   "metadata": {},
   "execution_count": 3
  }
 ],
 "nbformat_minor": 3,
 "metadata": {
  "language_info": {
   "file_extension": ".jl",
   "mimetype": "application/julia",
   "name": "julia",
   "version": "1.11.7"
  },
  "kernelspec": {
   "name": "julia-1.11",
   "display_name": "Julia 1.11.7",
   "language": "julia"
  }
 },
 "nbformat": 4
}
