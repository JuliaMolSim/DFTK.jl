{
 "cells": [
  {
   "cell_type": "markdown",
   "source": [
    "# Creating and modelling metallic supercells\n",
    "\n",
    "In this section we will be concerned with modelling supercells of aluminium.\n",
    "When dealing with periodic problems there is no unique definition of the\n",
    "lattice: Clearly any duplication of the lattice along an axis is also a valid\n",
    "repetitive unit to describe exactly the same system.\n",
    "This is exactly what a **supercell** is: An $n$-fold repetition along one (or multiple)\n",
    "axes of the original lattice.\n",
    "\n",
    "The following code achieves this for aluminium:"
   ],
   "metadata": {}
  },
  {
   "outputs": [],
   "cell_type": "code",
   "source": [
    "using AtomsBuilder\n",
    "using DFTK\n",
    "using LinearAlgebra\n",
    "using Unitful\n",
    "using UnitfulAtomic\n",
    "using PseudoPotentialData\n",
    "\n",
    "function aluminium_setup(repeat=1; Ecut=7.0, kgrid=[2, 2, 2])\n",
    "    # Use AtomsBuilder to setup aluminium cubic unit cell (4 Al atoms)\n",
    "    # with provided lattice constant, see AtomsBase integration for details.\n",
    "    unit_cell = bulk(:Al; a=7.65339u\"bohr\", cubic=true)\n",
    "    supercell = unit_cell * (repeat, 1, 1)  # Make a supercell\n",
    "\n",
    "    # Select standard pseudodojo pseudopotentials, construct an LDA model, discretize\n",
    "    # Note: We disable symmetries explicitly here. Otherwise the problem sizes\n",
    "    #       we are able to run on the CI are too simple to observe the numerical\n",
    "    #       instabilities we want to trigger here.\n",
    "    pseudopotentials = PseudoFamily(\"dojo.nc.sr.lda.v0_4_1.standard.upf\")\n",
    "    model = model_DFT(supercell; pseudopotentials, functionals=LDA(),\n",
    "                      temperature=1e-3, symmetries=false)\n",
    "    PlaneWaveBasis(model; Ecut, kgrid)\n",
    "end;"
   ],
   "metadata": {},
   "execution_count": 1
  },
  {
   "cell_type": "markdown",
   "source": [
    "As expected we obtain the unit cell for `repeat=1`:"
   ],
   "metadata": {}
  },
  {
   "outputs": [
    {
     "output_type": "execute_result",
     "data": {
      "text/plain": "PlaneWaveBasis discretization:\n    architecture         : DFTK.CPU()\n    num. mpi processes   : 1\n    num. julia threads   : 1\n    num. DFTK  threads   : 1\n    num. blas  threads   : 2\n    num. fft   threads   : 1\n\n    Ecut                 : 7.0 Ha\n    fft_size             : (24, 24, 24), 13824 total points\n    kgrid                : MonkhorstPack([2, 2, 2])\n    num.   red. kpoints  : 8\n    num. irred. kpoints  : 8\n\n    Discretized Model(lda_x+lda_c_pw, 3D):\n        lattice (in Bohr)    : [7.65339   , 0         , 0         ]\n                               [0         , 7.65339   , 0         ]\n                               [0         , 0         , 7.65339   ]\n        unit cell volume     : 448.29 Bohr³\n    \n        atoms                : Al₄\n        pseudopot. family    : PseudoFamily(\"dojo.nc.sr.lda.v0_4_1.standard.upf\")\n    \n        num. electrons       : 12\n        spin polarization    : none\n        temperature          : 0.001 Ha\n        smearing             : DFTK.Smearing.FermiDirac()\n    \n        terms                : Kinetic()\n                               AtomicLocal()\n                               AtomicNonlocal()\n                               Ewald(nothing)\n                               PspCorrection()\n                               Hartree()\n                               Xc(lda_x, lda_c_pw)\n                               Entropy()"
     },
     "metadata": {},
     "execution_count": 2
    }
   ],
   "cell_type": "code",
   "source": [
    "aluminium_setup(1)"
   ],
   "metadata": {},
   "execution_count": 2
  },
  {
   "cell_type": "markdown",
   "source": [
    "and 5-fold as large supercell with `repeat=5`:"
   ],
   "metadata": {}
  },
  {
   "outputs": [
    {
     "output_type": "execute_result",
     "data": {
      "text/plain": "PlaneWaveBasis discretization:\n    architecture         : DFTK.CPU()\n    num. mpi processes   : 1\n    num. julia threads   : 1\n    num. DFTK  threads   : 1\n    num. blas  threads   : 2\n    num. fft   threads   : 1\n\n    Ecut                 : 7.0 Ha\n    fft_size             : (96, 24, 24), 55296 total points\n    kgrid                : MonkhorstPack([2, 2, 2])\n    num.   red. kpoints  : 8\n    num. irred. kpoints  : 8\n\n    Discretized Model(lda_x+lda_c_pw, 3D):\n        lattice (in Bohr)    : [38.267    , 0         , 0         ]\n                               [0         , 7.65339   , 0         ]\n                               [0         , 0         , 7.65339   ]\n        unit cell volume     : 2241.5 Bohr³\n    \n        atoms                : Al₂₀\n        pseudopot. family    : PseudoFamily(\"dojo.nc.sr.lda.v0_4_1.standard.upf\")\n    \n        num. electrons       : 60\n        spin polarization    : none\n        temperature          : 0.001 Ha\n        smearing             : DFTK.Smearing.FermiDirac()\n    \n        terms                : Kinetic()\n                               AtomicLocal()\n                               AtomicNonlocal()\n                               Ewald(nothing)\n                               PspCorrection()\n                               Hartree()\n                               Xc(lda_x, lda_c_pw)\n                               Entropy()"
     },
     "metadata": {},
     "execution_count": 3
    }
   ],
   "cell_type": "code",
   "source": [
    "aluminium_setup(5)"
   ],
   "metadata": {},
   "execution_count": 3
  },
  {
   "cell_type": "markdown",
   "source": [
    "As we will see in this notebook the modelling of a system generally becomes\n",
    "harder if the system becomes larger.\n",
    "\n",
    "- This sounds like a trivial statement as *per se* the cost per SCF step increases\n",
    "  as the system (and thus $N$) gets larger.\n",
    "- But there is more to it:\n",
    "  If one is not careful also the *number of SCF iterations* increases\n",
    "  as the system gets larger.\n",
    "- The aim of a proper computational treatment of such supercells is therefore\n",
    "  to ensure that the **number of SCF iterations remains constant** when the\n",
    "  system size increases."
   ],
   "metadata": {}
  },
  {
   "cell_type": "markdown",
   "source": [
    "For achieving the latter DFTK by default employs the `LdosMixing`\n",
    "preconditioner [^HL2021] during the SCF iterations. This mixing approach is\n",
    "completely parameter free, but still automatically adapts to the treated\n",
    "system in order to efficiently prevent charge sloshing. As a result,\n",
    "modelling aluminium slabs indeed takes roughly the same number of SCF iterations\n",
    "irrespective of the supercell size:\n",
    "\n",
    "[^HL2021]:\n",
    "   M. F. Herbst and A. Levitt.\n",
    "   *Black-box inhomogeneous preconditioning for self-consistent field iterations in density functional theory.*\n",
    "   J. Phys. Cond. Matt *33* 085503 (2021). [ArXiv:2009.01665](https://arxiv.org/abs/2009.01665)"
   ],
   "metadata": {}
  },
  {
   "outputs": [
    {
     "name": "stdout",
     "output_type": "stream",
     "text": [
      "n     Energy            log10(ΔE)   log10(Δρ)   Diag   Δtime\n",
      "---   ---------------   ---------   ---------   ----   ------\n",
      "  1   -9.355101859059                   -1.10    6.0    152ms\n",
      "  2   -9.356737913282       -2.79       -1.43    1.0   76.1ms\n",
      "  3   -9.357057630142       -3.50       -2.77    2.4    144ms\n",
      "  4   -9.357110188977       -4.28       -2.99    8.0    498ms\n",
      "  5   -9.357110793981       -6.22       -3.13    1.1   77.7ms\n",
      "  6   -9.357111151947       -6.45       -3.28    1.1   77.0ms\n",
      "  7   -9.357111369655       -6.66       -3.44    1.0   78.4ms\n",
      "  8   -9.357111458165       -7.05       -3.61    1.0   76.1ms\n",
      "  9   -9.357111498465       -7.39       -3.89    2.1   91.1ms\n",
      " 10   -9.357111507504       -8.04       -4.23    1.5   88.6ms\n"
     ]
    }
   ],
   "cell_type": "code",
   "source": [
    "self_consistent_field(aluminium_setup(1); tol=1e-4);"
   ],
   "metadata": {},
   "execution_count": 4
  },
  {
   "outputs": [
    {
     "name": "stdout",
     "output_type": "stream",
     "text": [
      "n     Energy            log10(ΔE)   log10(Δρ)   Diag   Δtime\n",
      "---   ---------------   ---------   ---------   ----   ------\n",
      "  1   -18.75236958959                   -0.97    6.9    478ms\n",
      "┌ Warning: Eigensolver not converged\n",
      "│   n_iter =\n",
      "│    8-element Vector{Int64}:\n",
      "│     1\n",
      "│     1\n",
      "│     1\n",
      "│     6\n",
      "│     1\n",
      "│     2\n",
      "│     1\n",
      "│     1\n",
      "└ @ DFTK ~/work/DFTK.jl/DFTK.jl/src/scf/self_consistent_field.jl:76\n",
      "  2   -18.75920409423       -2.17       -1.33    1.8    268ms\n",
      "  3   -18.79242271442       -1.48       -2.20    4.0    318ms\n",
      "  4   -18.79259658569       -3.76       -2.53    7.0    483ms\n",
      "  5   -18.79260434958       -5.11       -3.22    1.6    264ms\n",
      "  6   -18.79260624130       -5.72       -3.61    5.4    410ms\n",
      "  7   -18.79260638310       -6.85       -3.99    3.5    300ms\n",
      "  8   -18.79260639393       -7.97       -4.48    2.8    291ms\n"
     ]
    }
   ],
   "cell_type": "code",
   "source": [
    "self_consistent_field(aluminium_setup(2); tol=1e-4);"
   ],
   "metadata": {},
   "execution_count": 5
  },
  {
   "outputs": [
    {
     "name": "stdout",
     "output_type": "stream",
     "text": [
      "n     Energy            log10(ΔE)   log10(Δρ)   Diag   Δtime\n",
      "---   ---------------   ---------   ---------   ----   ------\n",
      "  1   -37.55030338104                   -0.84    9.0    1.91s\n",
      "┌ Warning: Eigensolver not converged\n",
      "│   n_iter =\n",
      "│    8-element Vector{Int64}:\n",
      "│      1\n",
      "│      1\n",
      "│      1\n",
      "│      1\n",
      "│      1\n",
      "│     11\n",
      "│      1\n",
      "│      4\n",
      "└ @ DFTK ~/work/DFTK.jl/DFTK.jl/src/scf/self_consistent_field.jl:76\n",
      "  2   -37.55751817870       -2.14       -1.23    2.6    756ms\n",
      "  3   -37.55991785175       -2.62       -2.44    6.4    1.14s\n",
      "┌ Warning: Eigensolver not converged\n",
      "│   n_iter =\n",
      "│    8-element Vector{Int64}:\n",
      "│     15\n",
      "│      5\n",
      "│     20\n",
      "│     24\n",
      "│     26\n",
      "│     19\n",
      "│     22\n",
      "│     12\n",
      "└ @ DFTK ~/work/DFTK.jl/DFTK.jl/src/scf/self_consistent_field.jl:76\n",
      "  4   -37.56493629018       -2.30       -2.17   17.9    2.14s\n",
      "  5   -37.56493543168   +   -6.07       -2.12    1.6    827ms\n",
      "  6   -37.56494919346       -4.86       -3.60    1.0    765ms\n",
      "  7   -37.56494965467       -6.34       -3.75   12.2    1.88s\n",
      "  8   -37.56494987007       -6.67       -4.40    1.6    780ms\n"
     ]
    }
   ],
   "cell_type": "code",
   "source": [
    "self_consistent_field(aluminium_setup(4); tol=1e-4);"
   ],
   "metadata": {},
   "execution_count": 6
  },
  {
   "cell_type": "markdown",
   "source": [
    "When switching off explicitly the `LdosMixing`, by selecting `mixing=SimpleMixing()`,\n",
    "the performance of number of required SCF steps starts to increase as we increase\n",
    "the size of the modelled problem:"
   ],
   "metadata": {}
  },
  {
   "outputs": [
    {
     "name": "stdout",
     "output_type": "stream",
     "text": [
      "n     Energy            log10(ΔE)   log10(Δρ)   Diag   Δtime\n",
      "---   ---------------   ---------   ---------   ----   ------\n",
      "  1   -9.355219050565                   -1.10    5.9    169ms\n",
      "  2   -9.356820268352       -2.80       -1.91    1.0   65.9ms\n",
      "  3   -9.357087174574       -3.57       -2.57    3.4    116ms\n",
      "  4   -9.357090600285       -5.47       -2.59    5.6    148ms\n",
      "  5   -9.357111153629       -4.69       -3.58    1.0   67.0ms\n",
      "  6   -9.357111417630       -6.58       -3.85    3.8    118ms\n",
      "  7   -9.357111502063       -7.07       -4.36    1.5   74.2ms\n"
     ]
    }
   ],
   "cell_type": "code",
   "source": [
    "self_consistent_field(aluminium_setup(1); tol=1e-4, mixing=SimpleMixing());"
   ],
   "metadata": {},
   "execution_count": 7
  },
  {
   "outputs": [
    {
     "name": "stdout",
     "output_type": "stream",
     "text": [
      "n     Energy            log10(ΔE)   log10(Δρ)   Diag   Δtime\n",
      "---   ---------------   ---------   ---------   ----   ------\n",
      "  1   -37.54832379542                   -0.84    9.1    1.74s\n",
      "  2   -37.53629195692   +   -1.92       -1.56    2.6    671ms\n",
      "  3   -18.05145641754   +    1.29       -0.42    9.1    1.69s\n",
      "  4   -37.50877729934        1.29       -1.56    7.5    1.55s\n",
      "  5   -37.52939138192       -1.69       -1.72    2.4    845ms\n",
      "  6   -37.39334843298   +   -0.87       -1.44    5.2    1.34s\n",
      "  7   -37.52660067852       -0.88       -1.75    4.5    1.04s\n",
      "  8   -37.56377191234       -1.43       -2.41    1.8    772ms\n",
      "  9   -37.56483008783       -2.98       -2.65    4.5    1.27s\n",
      " 10   -37.56443165149   +   -3.40       -2.47    2.9    1.05s\n",
      " 11   -37.56486152072       -3.37       -2.91    2.6    1.21s\n",
      " 12   -37.56493334126       -4.14       -3.33    2.0    795ms\n",
      " 13   -37.56494662797       -4.88       -3.63    2.9    934ms\n",
      " 14   -37.56494954135       -5.54       -3.90    3.4    1.07s\n",
      " 15   -37.56494973355       -6.72       -4.27    2.1    856ms\n"
     ]
    }
   ],
   "cell_type": "code",
   "source": [
    "self_consistent_field(aluminium_setup(4); tol=1e-4, mixing=SimpleMixing());"
   ],
   "metadata": {},
   "execution_count": 8
  },
  {
   "cell_type": "markdown",
   "source": [
    "For completion let us note that the more traditional `mixing=KerkerMixing()`\n",
    "approach would also help in this particular setting to obtain a constant\n",
    "number of SCF iterations for an increasing system size (try it!). In contrast\n",
    "to `LdosMixing`, however, `KerkerMixing` is only suitable to model bulk metallic\n",
    "system (like the case we are considering here). When modelling metallic surfaces\n",
    "or mixtures of metals and insulators, `KerkerMixing` fails, while `LdosMixing`\n",
    "still works well. See the Modelling a gallium arsenide surface example\n",
    "or [^HL2021] for details. Due to the general applicability of `LdosMixing` this\n",
    "method is the default mixing approach in DFTK."
   ],
   "metadata": {}
  }
 ],
 "nbformat_minor": 3,
 "metadata": {
  "language_info": {
   "file_extension": ".jl",
   "mimetype": "application/julia",
   "name": "julia",
   "version": "1.11.7"
  },
  "kernelspec": {
   "name": "julia-1.11",
   "display_name": "Julia 1.11.7",
   "language": "julia"
  }
 },
 "nbformat": 4
}
