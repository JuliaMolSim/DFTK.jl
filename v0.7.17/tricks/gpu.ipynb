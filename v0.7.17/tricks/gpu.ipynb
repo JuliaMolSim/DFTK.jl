{
 "cells": [
  {
   "cell_type": "markdown",
   "source": [
    "# Using DFTK on GPUs\n",
    "\n",
    "In this example we will look how DFTK can be used on\n",
    "Graphics Processing Units.\n",
    "In its current state runs based on Nvidia GPUs\n",
    "using the [CUDA.jl](https://github.com/JuliaGPU/CUDA.jl) Julia\n",
    "package are better supported and there are considerably less rough\n",
    "edges.\n",
    "\n",
    "> **GPU parallelism not supported everywhere**\n",
    ">\n",
    "> GPU support is still a relatively new feature in DFTK.\n",
    "> While basic SCF computations and e.g. forces are supported,\n",
    "> this is not yet the case for all parts of the code.\n",
    "> In most cases there is no intrinsic limitation and typically it only takes\n",
    "> minor code modification to make it work on GPUs.\n",
    "> If you require GPU support in one of our routines, where this is not\n",
    "> yet supported, feel free to open an issue on github or otherwise get in touch."
   ],
   "metadata": {}
  },
  {
   "outputs": [],
   "cell_type": "code",
   "source": [
    "using AtomsBuilder\n",
    "using DFTK\n",
    "using PseudoPotentialData"
   ],
   "metadata": {},
   "execution_count": 1
  },
  {
   "cell_type": "markdown",
   "source": [
    "**Model setup.** First step is to setup a `Model` in DFTK.\n",
    "This proceeds exactly as in the standard CPU case\n",
    "(see also our Tutorial)."
   ],
   "metadata": {}
  },
  {
   "outputs": [],
   "cell_type": "code",
   "source": [
    "silicon = bulk(:Si)\n",
    "\n",
    "model  = model_DFT(silicon;\n",
    "                   functionals=PBE(),\n",
    "                   pseudopotentials=PseudoFamily(\"dojo.nc.sr.pbe.v0_4_1.standard.upf\"))\n",
    "nothing  # hide"
   ],
   "metadata": {},
   "execution_count": 2
  },
  {
   "cell_type": "markdown",
   "source": [
    "Next is the selection of the computational architecture.\n",
    "This effectively makes the choice, whether the computation will be run\n",
    "on the CPU or on a GPU.\n",
    "\n",
    "**Nvidia GPUs.**\n",
    "Supported via [CUDA.jl](https://github.com/JuliaGPU/CUDA.jl).\n",
    "If you install the CUDA package, all required Nvidia cuda libraries\n",
    "will be automatically downloaded. So literally, the only thing\n",
    "you have to do is:"
   ],
   "metadata": {}
  },
  {
   "outputs": [
    {
     "output_type": "execute_result",
     "data": {
      "text/plain": "DFTK.GPU{CUDA.CuArray}()"
     },
     "metadata": {},
     "execution_count": 3
    }
   ],
   "cell_type": "code",
   "source": [
    "using CUDA\n",
    "architecture = DFTK.GPU(CuArray)"
   ],
   "metadata": {},
   "execution_count": 3
  },
  {
   "cell_type": "markdown",
   "source": [
    "**AMD GPUs.** Supported via [AMDGPU.jl](https://github.com/JuliaGPU/AMDGPU.jl).\n",
    "Here you need to [install ROCm](https://rocm.docs.amd.com/) manually.\n",
    "With that in place you can then select:"
   ],
   "metadata": {}
  },
  {
   "outputs": [
    {
     "name": "stdout",
     "output_type": "stream",
     "text": [
      "Precompiling DFTKAMDGPUExt...\n",
      "Info Given DFTKAMDGPUExt was explicitly requested, output will be shown live \u001b[0K\n",
      "\u001b[0K\u001b[91m\u001b[1mERROR: \u001b[22m\u001b[39mLoadError: could not load symbol \"hipDeviceGet\":\n",
      "\u001b[0K/opt/hostedtoolcache/julia/1.11.7/x64/bin/julia: undefined symbol: hipDeviceGet\n",
      "\u001b[0KStacktrace:\n",
      "\u001b[0K  [1] \u001b[0m\u001b[1mmacro expansion\u001b[22m\n",
      "\u001b[0K\u001b[90m    @\u001b[39m \u001b[90m~/.julia/packages/GPUToolbox/XaIIx/src/\u001b[39m\u001b[90m\u001b[4mccalls.jl:143\u001b[24m\u001b[39m\u001b[90m [inlined]\u001b[39m\n",
      "\u001b[0K  [2] \u001b[0m\u001b[1mmacro expansion\u001b[22m\n",
      "\u001b[0K\u001b[90m    @\u001b[39m \u001b[90m~/.julia/packages/AMDGPU/Zmbiq/src/\u001b[39m\u001b[90m\u001b[4mutils.jl:122\u001b[24m\u001b[39m\u001b[90m [inlined]\u001b[39m\n",
      "\u001b[0K  [3] \u001b[0m\u001b[1mhipDeviceGet\u001b[22m\n",
      "\u001b[0K\u001b[90m    @\u001b[39m \u001b[90m~/.julia/packages/AMDGPU/Zmbiq/src/hip/\u001b[39m\u001b[90m\u001b[4mlibhip.jl:3683\u001b[24m\u001b[39m\u001b[90m [inlined]\u001b[39m\n",
      "\u001b[0K  [4] \u001b[0m\u001b[1mAMDGPU.HIP.HIPDevice\u001b[22m\u001b[0m\u001b[1m(\u001b[22m\u001b[90mdevice_id\u001b[39m::\u001b[0mInt64\u001b[0m\u001b[1m)\u001b[22m\n",
      "\u001b[0K\u001b[90m    @\u001b[39m \u001b[35mAMDGPU.HIP\u001b[39m \u001b[90m~/.julia/packages/AMDGPU/Zmbiq/src/hip/\u001b[39m\u001b[90m\u001b[4mdevice.jl:15\u001b[24m\u001b[39m\n",
      "\u001b[0K  [5] \u001b[0m\u001b[1mTaskLocalState\u001b[22m\n",
      "\u001b[0K\u001b[90m    @\u001b[39m \u001b[90m~/.julia/packages/AMDGPU/Zmbiq/src/\u001b[39m\u001b[90m\u001b[4mtls.jl:11\u001b[24m\u001b[39m\u001b[90m [inlined]\u001b[39m\n",
      "\u001b[0K  [6] \u001b[0m\u001b[1m#25\u001b[22m\n",
      "\u001b[0K\u001b[90m    @\u001b[39m \u001b[90m~/.julia/packages/AMDGPU/Zmbiq/src/\u001b[39m\u001b[90m\u001b[4mtls.jl:27\u001b[24m\u001b[39m\u001b[90m [inlined]\u001b[39m\n",
      "\u001b[0K  [7] \u001b[0m\u001b[1mget!\u001b[22m\u001b[0m\u001b[1m(\u001b[22m\u001b[90mdefault\u001b[39m::\u001b[0mAMDGPU.var\"#25#26\"\u001b[90m{Tuple{}}\u001b[39m, \u001b[90md\u001b[39m::\u001b[0mIdDict\u001b[90m{Any, Any}\u001b[39m, \u001b[90mkey\u001b[39m::\u001b[0mAny\u001b[0m\u001b[1m)\u001b[22m\n",
      "\u001b[0K\u001b[90m    @\u001b[39m \u001b[90mBase\u001b[39m \u001b[90m./\u001b[39m\u001b[90m\u001b[4middict.jl:171\u001b[24m\u001b[39m\n",
      "\u001b[0K  [8] \u001b[0m\u001b[1mtask_local_state!\u001b[22m\u001b[0m\u001b[1m(\u001b[22m\u001b[0m\u001b[1m)\u001b[22m\n",
      "\u001b[0K\u001b[90m    @\u001b[39m \u001b[35mAMDGPU\u001b[39m \u001b[90m~/.julia/packages/AMDGPU/Zmbiq/src/\u001b[39m\u001b[90m\u001b[4mtls.jl:26\u001b[24m\u001b[39m\n",
      "\u001b[0K  [9] \u001b[0m\u001b[1mdevice\u001b[22m\n",
      "\u001b[0K\u001b[90m    @\u001b[39m \u001b[90m~/.julia/packages/AMDGPU/Zmbiq/src/\u001b[39m\u001b[90m\u001b[4mtls.jl:45\u001b[24m\u001b[39m\u001b[90m [inlined]\u001b[39m\n",
      "\u001b[0K [10] \u001b[0m\u001b[1mAMDGPU.ROCArray{StaticArraysCore.SVector{3, Int64}, 3, AMDGPU.Runtime.Mem.HIPBuffer}\u001b[22m\u001b[0m\u001b[1m(\u001b[22m::\u001b[0mUndefInitializer, \u001b[90mdims\u001b[39m::\u001b[0mTuple\u001b[90m{Int64, Int64, Int64}\u001b[39m\u001b[0m\u001b[1m)\u001b[22m\n",
      "\u001b[0K\u001b[90m    @\u001b[39m \u001b[35mAMDGPU\u001b[39m \u001b[90m~/.julia/packages/AMDGPU/Zmbiq/src/\u001b[39m\u001b[90m\u001b[4marray.jl:9\u001b[24m\u001b[39m\n",
      "\u001b[0K [11] \u001b[0m\u001b[1mROCArray\u001b[22m\n",
      "\u001b[0K\u001b[90m    @\u001b[39m \u001b[90m~/.julia/packages/AMDGPU/Zmbiq/src/\u001b[39m\u001b[90m\u001b[4marray.jl:111\u001b[24m\u001b[39m\u001b[90m [inlined]\u001b[39m\n",
      "\u001b[0K [12] \u001b[0m\u001b[1mROCArray\u001b[22m\n",
      "\u001b[0K\u001b[90m    @\u001b[39m \u001b[90m~/.julia/packages/AMDGPU/Zmbiq/src/\u001b[39m\u001b[90m\u001b[4marray.jl:116\u001b[24m\u001b[39m\u001b[90m [inlined]\u001b[39m\n",
      "\u001b[0K [13] \u001b[0m\u001b[1mROCArray\u001b[22m\n",
      "\u001b[0K\u001b[90m    @\u001b[39m \u001b[90m~/.julia/packages/AMDGPU/Zmbiq/src/\u001b[39m\u001b[90m\u001b[4marray.jl:119\u001b[24m\u001b[39m\u001b[90m [inlined]\u001b[39m\n",
      "\u001b[0K [14] \u001b[0m\u001b[1mto_device\u001b[22m\n",
      "\u001b[0K\u001b[90m    @\u001b[39m \u001b[90m~/work/DFTK.jl/DFTK.jl/src/\u001b[39m\u001b[90m\u001b[4marchitecture.jl:25\u001b[24m\u001b[39m\u001b[90m [inlined]\u001b[39m\n",
      "\u001b[0K [15] \u001b[0m\u001b[1mDFTK.FFTGrid\u001b[22m\u001b[0m\u001b[1m(\u001b[22m\u001b[90mfft_size\u001b[39m::\u001b[0mTuple\u001b[90m{Int64, Int64, Int64}\u001b[39m, \u001b[90munit_cell_volume\u001b[39m::\u001b[0mFloat64, \u001b[90march\u001b[39m::\u001b[0mDFTK.GPU\u001b[90m{AMDGPU.ROCArray}\u001b[39m\u001b[0m\u001b[1m)\u001b[22m\n",
      "\u001b[0K\u001b[90m    @\u001b[39m \u001b[36mDFTK\u001b[39m \u001b[90m~/work/DFTK.jl/DFTK.jl/src/\u001b[39m\u001b[90m\u001b[4mfft.jl:78\u001b[24m\u001b[39m\n",
      "\u001b[0K [16] \u001b[0m\u001b[1mDFTK.PlaneWaveBasis\u001b[22m\u001b[0m\u001b[1m(\u001b[22m\u001b[90mmodel\u001b[39m::\u001b[0mDFTK.Model\u001b[90m{Float64, Float64}\u001b[39m, \u001b[90mEcut\u001b[39m::\u001b[0mInt64, \u001b[90mfft_size\u001b[39m::\u001b[0mTuple\u001b[90m{Int64, Int64, Int64}\u001b[39m, \u001b[90mvariational\u001b[39m::\u001b[0mBool, \u001b[90mkgrid\u001b[39m::\u001b[0mDFTK.MonkhorstPack, \u001b[90msymmetries_respect_rgrid\u001b[39m::\u001b[0mBool, \u001b[90muse_symmetries_for_kpoint_reduction\u001b[39m::\u001b[0mBool, \u001b[90mcomm_kpts\u001b[39m::\u001b[0mMPI.Comm, \u001b[90marchitecture\u001b[39m::\u001b[0mDFTK.GPU\u001b[90m{AMDGPU.ROCArray}\u001b[39m\u001b[0m\u001b[1m)\u001b[22m\n",
      "\u001b[0K\u001b[90m    @\u001b[39m \u001b[36mDFTK\u001b[39m \u001b[90m~/work/DFTK.jl/DFTK.jl/src/\u001b[39m\u001b[90m\u001b[4mPlaneWaveBasis.jl:181\u001b[24m\u001b[39m\n",
      "\u001b[0K [17] \u001b[0m\u001b[1mDFTK.PlaneWaveBasis\u001b[22m\u001b[0m\u001b[1m(\u001b[22m\u001b[90mmodel\u001b[39m::\u001b[0mDFTK.Model\u001b[90m{Float64, Float64}\u001b[39m; \u001b[90mEcut\u001b[39m::\u001b[0mInt64, \u001b[90msupersampling\u001b[39m::\u001b[0mFloat64, \u001b[90mkgrid\u001b[39m::\u001b[0mVector\u001b[90m{Int64}\u001b[39m, \u001b[90mkshift\u001b[39m::\u001b[0mNothing, \u001b[90mvariational\u001b[39m::\u001b[0mBool, \u001b[90mfft_size\u001b[39m::\u001b[0mNothing, \u001b[90msymmetries_respect_rgrid\u001b[39m::\u001b[0mBool, \u001b[90muse_symmetries_for_kpoint_reduction\u001b[39m::\u001b[0mBool, \u001b[90mcomm_kpts\u001b[39m::\u001b[0mMPI.Comm, \u001b[90marchitecture\u001b[39m::\u001b[0mDFTK.GPU\u001b[90m{AMDGPU.ROCArray}\u001b[39m\u001b[0m\u001b[1m)\u001b[22m\n",
      "\u001b[0K\u001b[90m    @\u001b[39m \u001b[36mDFTK\u001b[39m \u001b[90m~/work/DFTK.jl/DFTK.jl/src/\u001b[39m\u001b[90m\u001b[4mPlaneWaveBasis.jl:283\u001b[24m\u001b[39m\n",
      "\u001b[0K [18] \u001b[0m\u001b[1mprecompilation_workflow\u001b[22m\u001b[0m\u001b[1m(\u001b[22m\u001b[90mlattice\u001b[39m::\u001b[0mMatrix\u001b[90m{Float64}\u001b[39m, \u001b[90matoms\u001b[39m::\u001b[0mVector\u001b[90m{DFTK.ElementPsp{DFTK.PspUpf{Float64, Interpolations.Extrapolation{Float64, 1, Interpolations.GriddedInterpolation{Float64, 1, Vector{Float64}, Interpolations.Gridded{Interpolations.Linear{Interpolations.Throw{Interpolations.OnGrid}}}, Tuple{Vector{Float64}}}, Interpolations.Gridded{Interpolations.Linear{Interpolations.Throw{Interpolations.OnGrid}}}, Interpolations.Throw{Nothing}}}}}\u001b[39m, \u001b[90mpositions\u001b[39m::\u001b[0mVector\u001b[90m{Vector{Float64}}\u001b[39m, \u001b[90mmagnetic_moments\u001b[39m::\u001b[0mVector\u001b[90m{Int64}\u001b[39m; \u001b[90mEcut\u001b[39m::\u001b[0mInt64, \u001b[90mkgrid\u001b[39m::\u001b[0mVector\u001b[90m{Int64}\u001b[39m, \u001b[90mbasis_kwargs\u001b[39m::\u001b[0m@Kwargs\u001b[90m{architecture::DFTK.GPU{AMDGPU.ROCArray}}\u001b[39m\u001b[0m\u001b[1m)\u001b[22m\n",
      "\u001b[0K\u001b[90m    @\u001b[39m \u001b[36mDFTK\u001b[39m \u001b[90m~/work/DFTK.jl/DFTK.jl/src/\u001b[39m\u001b[90m\u001b[4mDFTK.jl:253\u001b[24m\u001b[39m\n",
      "\u001b[0K [19] \u001b[0m\u001b[1mmacro expansion\u001b[22m\n",
      "\u001b[0K\u001b[90m    @\u001b[39m \u001b[90m~/work/DFTK.jl/DFTK.jl/ext/\u001b[39m\u001b[90m\u001b[4mDFTKAMDGPUExt.jl:30\u001b[24m\u001b[39m\u001b[90m [inlined]\u001b[39m\n",
      "\u001b[0K [20] \u001b[0m\u001b[1mmacro expansion\u001b[22m\n",
      "\u001b[0K\u001b[90m    @\u001b[39m \u001b[90m~/.julia/packages/PrecompileTools/L8A3n/src/\u001b[39m\u001b[90m\u001b[4mworkloads.jl:78\u001b[24m\u001b[39m\u001b[90m [inlined]\u001b[39m\n",
      "\u001b[0K [21] \u001b[0m\u001b[1mmacro expansion\u001b[22m\n",
      "\u001b[0K\u001b[90m    @\u001b[39m \u001b[90m~/work/DFTK.jl/DFTK.jl/ext/\u001b[39m\u001b[90m\u001b[4mDFTKAMDGPUExt.jl:29\u001b[24m\u001b[39m\u001b[90m [inlined]\u001b[39m\n",
      "\u001b[0K [22] \u001b[0m\u001b[1mmacro expansion\u001b[22m\n",
      "\u001b[0K\u001b[90m    @\u001b[39m \u001b[90m~/.julia/packages/PrecompileTools/L8A3n/src/\u001b[39m\u001b[90m\u001b[4mworkloads.jl:140\u001b[24m\u001b[39m\u001b[90m [inlined]\u001b[39m\n",
      "\u001b[0K [23] top-level scope\n",
      "\u001b[0K\u001b[90m    @\u001b[39m \u001b[90m~/work/DFTK.jl/DFTK.jl/ext/\u001b[39m\u001b[90m\u001b[4mDFTKAMDGPUExt.jl:17\u001b[24m\u001b[39m\n",
      "\u001b[0K [24] \u001b[0m\u001b[1minclude\u001b[22m\n",
      "\u001b[0K\u001b[90m    @\u001b[39m \u001b[90m./\u001b[39m\u001b[90m\u001b[4mBase.jl:562\u001b[24m\u001b[39m\u001b[90m [inlined]\u001b[39m\n",
      "\u001b[0K [25] \u001b[0m\u001b[1minclude_package_for_output\u001b[22m\u001b[0m\u001b[1m(\u001b[22m\u001b[90mpkg\u001b[39m::\u001b[0mBase.PkgId, \u001b[90minput\u001b[39m::\u001b[0mString, \u001b[90mdepot_path\u001b[39m::\u001b[0mVector\u001b[90m{String}\u001b[39m, \u001b[90mdl_load_path\u001b[39m::\u001b[0mVector\u001b[90m{String}\u001b[39m, \u001b[90mload_path\u001b[39m::\u001b[0mVector\u001b[90m{String}\u001b[39m, \u001b[90mconcrete_deps\u001b[39m::\u001b[0mVector\u001b[90m{Pair{Base.PkgId, UInt128}}\u001b[39m, \u001b[90msource\u001b[39m::\u001b[0mNothing\u001b[0m\u001b[1m)\u001b[22m\n",
      "\u001b[0K\u001b[90m    @\u001b[39m \u001b[90mBase\u001b[39m \u001b[90m./\u001b[39m\u001b[90m\u001b[4mloading.jl:2881\u001b[24m\u001b[39m\n",
      "\u001b[0K [26] top-level scope\n",
      "\u001b[0K\u001b[90m    @\u001b[39m \u001b[90m\u001b[4mstdin:6\u001b[24m\u001b[39m\n",
      "\u001b[0Kin expression starting at /home/runner/work/DFTK.jl/DFTK.jl/ext/DFTKAMDGPUExt.jl:1\n",
      "\u001b[0Kin expression starting at stdin:6\n",
      "           ✗ DFTK → DFTKAMDGPUExt\n",
      "  0 dependencies successfully precompiled in 14 seconds. 243 already precompiled.\n",
      "\n",
      "┌ Error: Error during loading of extension DFTKAMDGPUExt of DFTK, use `Base.retry_load_extensions()` to retry.\n",
      "│   exception =\n",
      "│    1-element ExceptionStack:\n",
      "│    The following 1 direct dependency failed to precompile:\n",
      "│    \n",
      "│    DFTKAMDGPUExt \n",
      "│    \n",
      "│    Failed to precompile DFTKAMDGPUExt [c329a431-6d11-5754-83ad-b562f3ebddcd] to \"/home/runner/.julia/compiled/v1.11/DFTKAMDGPUExt/jl_S7Sd42\".\n",
      "│    \u001b[91m\u001b[1mERROR: \u001b[22m\u001b[39mLoadError: could not load symbol \"hipDeviceGet\":\n",
      "│    /opt/hostedtoolcache/julia/1.11.7/x64/bin/julia: undefined symbol: hipDeviceGet\n",
      "│    Stacktrace:\n",
      "│      [1] \u001b[0m\u001b[1mmacro expansion\u001b[22m\n",
      "│    \u001b[90m    @\u001b[39m \u001b[90m~/.julia/packages/GPUToolbox/XaIIx/src/\u001b[39m\u001b[90m\u001b[4mccalls.jl:143\u001b[24m\u001b[39m\u001b[90m [inlined]\u001b[39m\n",
      "│      [2] \u001b[0m\u001b[1mmacro expansion\u001b[22m\n",
      "│    \u001b[90m    @\u001b[39m \u001b[90m~/.julia/packages/AMDGPU/Zmbiq/src/\u001b[39m\u001b[90m\u001b[4mutils.jl:122\u001b[24m\u001b[39m\u001b[90m [inlined]\u001b[39m\n",
      "│      [3] \u001b[0m\u001b[1mhipDeviceGet\u001b[22m\n",
      "│    \u001b[90m    @\u001b[39m \u001b[90m~/.julia/packages/AMDGPU/Zmbiq/src/hip/\u001b[39m\u001b[90m\u001b[4mlibhip.jl:3683\u001b[24m\u001b[39m\u001b[90m [inlined]\u001b[39m\n",
      "│      [4] \u001b[0m\u001b[1mAMDGPU.HIP.HIPDevice\u001b[22m\u001b[0m\u001b[1m(\u001b[22m\u001b[90mdevice_id\u001b[39m::\u001b[0mInt64\u001b[0m\u001b[1m)\u001b[22m\n",
      "│    \u001b[90m    @\u001b[39m \u001b[35mAMDGPU.HIP\u001b[39m \u001b[90m~/.julia/packages/AMDGPU/Zmbiq/src/hip/\u001b[39m\u001b[90m\u001b[4mdevice.jl:15\u001b[24m\u001b[39m\n",
      "│      [5] \u001b[0m\u001b[1mTaskLocalState\u001b[22m\n",
      "│    \u001b[90m    @\u001b[39m \u001b[90m~/.julia/packages/AMDGPU/Zmbiq/src/\u001b[39m\u001b[90m\u001b[4mtls.jl:11\u001b[24m\u001b[39m\u001b[90m [inlined]\u001b[39m\n",
      "│      [6] \u001b[0m\u001b[1m#25\u001b[22m\n",
      "│    \u001b[90m    @\u001b[39m \u001b[90m~/.julia/packages/AMDGPU/Zmbiq/src/\u001b[39m\u001b[90m\u001b[4mtls.jl:27\u001b[24m\u001b[39m\u001b[90m [inlined]\u001b[39m\n",
      "│      [7] \u001b[0m\u001b[1mget!\u001b[22m\u001b[0m\u001b[1m(\u001b[22m\u001b[90mdefault\u001b[39m::\u001b[0mAMDGPU.var\"#25#26\"\u001b[90m{Tuple{}}\u001b[39m, \u001b[90md\u001b[39m::\u001b[0mIdDict\u001b[90m{Any, Any}\u001b[39m, \u001b[90mkey\u001b[39m::\u001b[0mAny\u001b[0m\u001b[1m)\u001b[22m\n",
      "│    \u001b[90m    @\u001b[39m \u001b[90mBase\u001b[39m \u001b[90m./\u001b[39m\u001b[90m\u001b[4middict.jl:171\u001b[24m\u001b[39m\n",
      "│      [8] \u001b[0m\u001b[1mtask_local_state!\u001b[22m\u001b[0m\u001b[1m(\u001b[22m\u001b[0m\u001b[1m)\u001b[22m\n",
      "│    \u001b[90m    @\u001b[39m \u001b[35mAMDGPU\u001b[39m \u001b[90m~/.julia/packages/AMDGPU/Zmbiq/src/\u001b[39m\u001b[90m\u001b[4mtls.jl:26\u001b[24m\u001b[39m\n",
      "│      [9] \u001b[0m\u001b[1mdevice\u001b[22m\n",
      "│    \u001b[90m    @\u001b[39m \u001b[90m~/.julia/packages/AMDGPU/Zmbiq/src/\u001b[39m\u001b[90m\u001b[4mtls.jl:45\u001b[24m\u001b[39m\u001b[90m [inlined]\u001b[39m\n",
      "│     [10] \u001b[0m\u001b[1mAMDGPU.ROCArray{StaticArraysCore.SVector{3, Int64}, 3, AMDGPU.Runtime.Mem.HIPBuffer}\u001b[22m\u001b[0m\u001b[1m(\u001b[22m::\u001b[0mUndefInitializer, \u001b[90mdims\u001b[39m::\u001b[0mTuple\u001b[90m{Int64, Int64, Int64}\u001b[39m\u001b[0m\u001b[1m)\u001b[22m\n",
      "│    \u001b[90m    @\u001b[39m \u001b[35mAMDGPU\u001b[39m \u001b[90m~/.julia/packages/AMDGPU/Zmbiq/src/\u001b[39m\u001b[90m\u001b[4marray.jl:9\u001b[24m\u001b[39m\n",
      "│     [11] \u001b[0m\u001b[1mROCArray\u001b[22m\n",
      "│    \u001b[90m    @\u001b[39m \u001b[90m~/.julia/packages/AMDGPU/Zmbiq/src/\u001b[39m\u001b[90m\u001b[4marray.jl:111\u001b[24m\u001b[39m\u001b[90m [inlined]\u001b[39m\n",
      "│     [12] \u001b[0m\u001b[1mROCArray\u001b[22m\n",
      "│    \u001b[90m    @\u001b[39m \u001b[90m~/.julia/packages/AMDGPU/Zmbiq/src/\u001b[39m\u001b[90m\u001b[4marray.jl:116\u001b[24m\u001b[39m\u001b[90m [inlined]\u001b[39m\n",
      "│     [13] \u001b[0m\u001b[1mROCArray\u001b[22m\n",
      "│    \u001b[90m    @\u001b[39m \u001b[90m~/.julia/packages/AMDGPU/Zmbiq/src/\u001b[39m\u001b[90m\u001b[4marray.jl:119\u001b[24m\u001b[39m\u001b[90m [inlined]\u001b[39m\n",
      "│     [14] \u001b[0m\u001b[1mto_device\u001b[22m\n",
      "│    \u001b[90m    @\u001b[39m \u001b[90m~/work/DFTK.jl/DFTK.jl/src/\u001b[39m\u001b[90m\u001b[4marchitecture.jl:25\u001b[24m\u001b[39m\u001b[90m [inlined]\u001b[39m\n",
      "│     [15] \u001b[0m\u001b[1mDFTK.FFTGrid\u001b[22m\u001b[0m\u001b[1m(\u001b[22m\u001b[90mfft_size\u001b[39m::\u001b[0mTuple\u001b[90m{Int64, Int64, Int64}\u001b[39m, \u001b[90munit_cell_volume\u001b[39m::\u001b[0mFloat64, \u001b[90march\u001b[39m::\u001b[0mDFTK.GPU\u001b[90m{AMDGPU.ROCArray}\u001b[39m\u001b[0m\u001b[1m)\u001b[22m\n",
      "│    \u001b[90m    @\u001b[39m \u001b[36mDFTK\u001b[39m \u001b[90m~/work/DFTK.jl/DFTK.jl/src/\u001b[39m\u001b[90m\u001b[4mfft.jl:78\u001b[24m\u001b[39m\n",
      "│     [16] \u001b[0m\u001b[1mDFTK.PlaneWaveBasis\u001b[22m\u001b[0m\u001b[1m(\u001b[22m\u001b[90mmodel\u001b[39m::\u001b[0mDFTK.Model\u001b[90m{Float64, Float64}\u001b[39m, \u001b[90mEcut\u001b[39m::\u001b[0mInt64, \u001b[90mfft_size\u001b[39m::\u001b[0mTuple\u001b[90m{Int64, Int64, Int64}\u001b[39m, \u001b[90mvariational\u001b[39m::\u001b[0mBool, \u001b[90mkgrid\u001b[39m::\u001b[0mDFTK.MonkhorstPack, \u001b[90msymmetries_respect_rgrid\u001b[39m::\u001b[0mBool, \u001b[90muse_symmetries_for_kpoint_reduction\u001b[39m::\u001b[0mBool, \u001b[90mcomm_kpts\u001b[39m::\u001b[0mMPI.Comm, \u001b[90marchitecture\u001b[39m::\u001b[0mDFTK.GPU\u001b[90m{AMDGPU.ROCArray}\u001b[39m\u001b[0m\u001b[1m)\u001b[22m\n",
      "│    \u001b[90m    @\u001b[39m \u001b[36mDFTK\u001b[39m \u001b[90m~/work/DFTK.jl/DFTK.jl/src/\u001b[39m\u001b[90m\u001b[4mPlaneWaveBasis.jl:181\u001b[24m\u001b[39m\n",
      "│     [17] \u001b[0m\u001b[1mDFTK.PlaneWaveBasis\u001b[22m\u001b[0m\u001b[1m(\u001b[22m\u001b[90mmodel\u001b[39m::\u001b[0mDFTK.Model\u001b[90m{Float64, Float64}\u001b[39m; \u001b[90mEcut\u001b[39m::\u001b[0mInt64, \u001b[90msupersampling\u001b[39m::\u001b[0mFloat64, \u001b[90mkgrid\u001b[39m::\u001b[0mVector\u001b[90m{Int64}\u001b[39m, \u001b[90mkshift\u001b[39m::\u001b[0mNothing, \u001b[90mvariational\u001b[39m::\u001b[0mBool, \u001b[90mfft_size\u001b[39m::\u001b[0mNothing, \u001b[90msymmetries_respect_rgrid\u001b[39m::\u001b[0mBool, \u001b[90muse_symmetries_for_kpoint_reduction\u001b[39m::\u001b[0mBool, \u001b[90mcomm_kpts\u001b[39m::\u001b[0mMPI.Comm, \u001b[90marchitecture\u001b[39m::\u001b[0mDFTK.GPU\u001b[90m{AMDGPU.ROCArray}\u001b[39m\u001b[0m\u001b[1m)\u001b[22m\n",
      "│    \u001b[90m    @\u001b[39m \u001b[36mDFTK\u001b[39m \u001b[90m~/work/DFTK.jl/DFTK.jl/src/\u001b[39m\u001b[90m\u001b[4mPlaneWaveBasis.jl:283\u001b[24m\u001b[39m\n",
      "│     [18] \u001b[0m\u001b[1mprecompilation_workflow\u001b[22m\u001b[0m\u001b[1m(\u001b[22m\u001b[90mlattice\u001b[39m::\u001b[0mMatrix\u001b[90m{Float64}\u001b[39m, \u001b[90matoms\u001b[39m::\u001b[0mVector\u001b[90m{DFTK.ElementPsp{DFTK.PspUpf{Float64, Interpolations.Extrapolation{Float64, 1, Interpolations.GriddedInterpolation{Float64, 1, Vector{Float64}, Interpolations.Gridded{Interpolations.Linear{Interpolations.Throw{Interpolations.OnGrid}}}, Tuple{Vector{Float64}}}, Interpolations.Gridded{Interpolations.Linear{Interpolations.Throw{Interpolations.OnGrid}}}, Interpolations.Throw{Nothing}}}}}\u001b[39m, \u001b[90mpositions\u001b[39m::\u001b[0mVector\u001b[90m{Vector{Float64}}\u001b[39m, \u001b[90mmagnetic_moments\u001b[39m::\u001b[0mVector\u001b[90m{Int64}\u001b[39m; \u001b[90mEcut\u001b[39m::\u001b[0mInt64, \u001b[90mkgrid\u001b[39m::\u001b[0mVector\u001b[90m{Int64}\u001b[39m, \u001b[90mbasis_kwargs\u001b[39m::\u001b[0m@Kwargs\u001b[90m{architecture::DFTK.GPU{AMDGPU.ROCArray}}\u001b[39m\u001b[0m\u001b[1m)\u001b[22m\n",
      "│    \u001b[90m    @\u001b[39m \u001b[36mDFTK\u001b[39m \u001b[90m~/work/DFTK.jl/DFTK.jl/src/\u001b[39m\u001b[90m\u001b[4mDFTK.jl:253\u001b[24m\u001b[39m\n",
      "│     [19] \u001b[0m\u001b[1mmacro expansion\u001b[22m\n",
      "│    \u001b[90m    @\u001b[39m \u001b[90m~/work/DFTK.jl/DFTK.jl/ext/\u001b[39m\u001b[90m\u001b[4mDFTKAMDGPUExt.jl:30\u001b[24m\u001b[39m\u001b[90m [inlined]\u001b[39m\n",
      "│     [20] \u001b[0m\u001b[1mmacro expansion\u001b[22m\n",
      "│    \u001b[90m    @\u001b[39m \u001b[90m~/.julia/packages/PrecompileTools/L8A3n/src/\u001b[39m\u001b[90m\u001b[4mworkloads.jl:78\u001b[24m\u001b[39m\u001b[90m [inlined]\u001b[39m\n",
      "│     [21] \u001b[0m\u001b[1mmacro expansion\u001b[22m\n",
      "│    \u001b[90m    @\u001b[39m \u001b[90m~/work/DFTK.jl/DFTK.jl/ext/\u001b[39m\u001b[90m\u001b[4mDFTKAMDGPUExt.jl:29\u001b[24m\u001b[39m\u001b[90m [inlined]\u001b[39m\n",
      "│     [22] \u001b[0m\u001b[1mmacro expansion\u001b[22m\n",
      "│    \u001b[90m    @\u001b[39m \u001b[90m~/.julia/packages/PrecompileTools/L8A3n/src/\u001b[39m\u001b[90m\u001b[4mworkloads.jl:140\u001b[24m\u001b[39m\u001b[90m [inlined]\u001b[39m\n",
      "│     [23] top-level scope\n",
      "│    \u001b[90m    @\u001b[39m \u001b[90m~/work/DFTK.jl/DFTK.jl/ext/\u001b[39m\u001b[90m\u001b[4mDFTKAMDGPUExt.jl:17\u001b[24m\u001b[39m\n",
      "│     [24] \u001b[0m\u001b[1minclude\u001b[22m\n",
      "│    \u001b[90m    @\u001b[39m \u001b[90m./\u001b[39m\u001b[90m\u001b[4mBase.jl:562\u001b[24m\u001b[39m\u001b[90m [inlined]\u001b[39m\n",
      "│     [25] \u001b[0m\u001b[1minclude_package_for_output\u001b[22m\u001b[0m\u001b[1m(\u001b[22m\u001b[90mpkg\u001b[39m::\u001b[0mBase.PkgId, \u001b[90minput\u001b[39m::\u001b[0mString, \u001b[90mdepot_path\u001b[39m::\u001b[0mVector\u001b[90m{String}\u001b[39m, \u001b[90mdl_load_path\u001b[39m::\u001b[0mVector\u001b[90m{String}\u001b[39m, \u001b[90mload_path\u001b[39m::\u001b[0mVector\u001b[90m{String}\u001b[39m, \u001b[90mconcrete_deps\u001b[39m::\u001b[0mVector\u001b[90m{Pair{Base.PkgId, UInt128}}\u001b[39m, \u001b[90msource\u001b[39m::\u001b[0mNothing\u001b[0m\u001b[1m)\u001b[22m\n",
      "│    \u001b[90m    @\u001b[39m \u001b[90mBase\u001b[39m \u001b[90m./\u001b[39m\u001b[90m\u001b[4mloading.jl:2881\u001b[24m\u001b[39m\n",
      "│     [26] top-level scope\n",
      "│    \u001b[90m    @\u001b[39m \u001b[90m\u001b[4mstdin:6\u001b[24m\u001b[39m\n",
      "│    in expression starting at /home/runner/work/DFTK.jl/DFTK.jl/ext/DFTKAMDGPUExt.jl:1\n",
      "│    in expression starting at stdin:\n",
      "└ @ Base loading.jl:1550\n"
     ]
    },
    {
     "output_type": "execute_result",
     "data": {
      "text/plain": "DFTK.GPU{AMDGPU.ROCArray}()"
     },
     "metadata": {},
     "execution_count": 4
    }
   ],
   "cell_type": "code",
   "source": [
    "using AMDGPU\n",
    "architecture = DFTK.GPU(ROCArray)"
   ],
   "metadata": {},
   "execution_count": 4
  },
  {
   "cell_type": "markdown",
   "source": [
    "**Portable architecture selection.**\n",
    "To make sure this script runs on the github CI (where we don't have GPUs\n",
    "available) we check for the availability of GPUs before selecting an\n",
    "architecture:"
   ],
   "metadata": {}
  },
  {
   "outputs": [
    {
     "output_type": "execute_result",
     "data": {
      "text/plain": "DFTK.CPU()"
     },
     "metadata": {},
     "execution_count": 5
    }
   ],
   "cell_type": "code",
   "source": [
    "architecture = has_cuda() ? DFTK.GPU(CuArray) : DFTK.CPU()"
   ],
   "metadata": {},
   "execution_count": 5
  },
  {
   "cell_type": "markdown",
   "source": [
    "**Basis and SCF.**\n",
    "Based on the `architecture` we construct a `PlaneWaveBasis` object\n",
    "as usual:"
   ],
   "metadata": {}
  },
  {
   "outputs": [],
   "cell_type": "code",
   "source": [
    "basis  = PlaneWaveBasis(model; Ecut=30, kgrid=(5, 5, 5), architecture)\n",
    "nothing  # hide"
   ],
   "metadata": {},
   "execution_count": 6
  },
  {
   "cell_type": "markdown",
   "source": [
    "... and run the SCF and some post-processing:"
   ],
   "metadata": {}
  },
  {
   "outputs": [
    {
     "name": "stdout",
     "output_type": "stream",
     "text": [
      "n     Energy            log10(ΔE)   log10(Δρ)   Diag   Δtime\n",
      "---   ---------------   ---------   ---------   ----   ------\n",
      "  1   -8.457742907378                   -0.94    5.4    2.30s\n",
      "  2   -8.459895326468       -2.67       -1.78    1.0    1.32s\n",
      "  3   -8.460053507663       -3.80       -2.91    2.2    386ms\n",
      "  4   -8.460064825356       -4.95       -3.36    3.1    1.13s\n",
      "  5   -8.460064906652       -7.09       -3.89    1.4    386ms\n",
      "  6   -8.460064914748       -8.09       -4.98    1.6    346ms\n",
      "  7   -8.460064915251       -9.30       -5.22    3.1    462ms\n",
      "  8   -8.460064915265      -10.85       -6.59    1.0    291ms\n"
     ]
    },
    {
     "output_type": "execute_result",
     "data": {
      "text/plain": "2-element Vector{StaticArraysCore.SVector{3, Float64}}:\n [-1.5206091441501848e-14, -1.3099935824332006e-14, -1.8761543096106978e-14]\n [1.618725078393129e-14, 1.3620191176754727e-14, 1.913060458590724e-14]"
     },
     "metadata": {},
     "execution_count": 7
    }
   ],
   "cell_type": "code",
   "source": [
    "scfres = self_consistent_field(basis; tol=1e-6)\n",
    "compute_forces(scfres)"
   ],
   "metadata": {},
   "execution_count": 7
  },
  {
   "cell_type": "markdown",
   "source": [
    "> **GPU performance**\n",
    ">\n",
    "> Our current (May 2025) benchmarks show DFTK to have reasonable performance\n",
    "> on Nvidia / CUDA GPUs with up to a 100-fold speed-up over single-threaded\n",
    "> CPU execution. However, support on AMD GPUs has been less benchmarked and\n",
    "> there are likely rough edges. Since GPU support in DFTK is relatively new\n",
    "> we appreciate any experience reports or bug reports."
   ],
   "metadata": {}
  }
 ],
 "nbformat_minor": 3,
 "metadata": {
  "language_info": {
   "file_extension": ".jl",
   "mimetype": "application/julia",
   "name": "julia",
   "version": "1.11.7"
  },
  "kernelspec": {
   "name": "julia-1.11",
   "display_name": "Julia 1.11.7",
   "language": "julia"
  }
 },
 "nbformat": 4
}
