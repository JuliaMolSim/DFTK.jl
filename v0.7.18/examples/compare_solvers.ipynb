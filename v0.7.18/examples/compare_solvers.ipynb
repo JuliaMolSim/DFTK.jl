{
 "cells": [
  {
   "cell_type": "markdown",
   "source": [
    "# Comparison of DFT solvers"
   ],
   "metadata": {}
  },
  {
   "cell_type": "markdown",
   "source": [
    "We compare four different approaches for solving the DFT minimisation problem,\n",
    "namely a density-based SCF, a potential-based SCF, direct minimisation and Newton."
   ],
   "metadata": {}
  },
  {
   "cell_type": "markdown",
   "source": [
    "First we setup our problem"
   ],
   "metadata": {}
  },
  {
   "outputs": [
    {
     "output_type": "execute_result",
     "data": {
      "text/plain": "1.0e-6"
     },
     "metadata": {},
     "execution_count": 1
    }
   ],
   "cell_type": "code",
   "source": [
    "using AtomsBuilder\n",
    "using DFTK\n",
    "using LinearAlgebra\n",
    "using PseudoPotentialData\n",
    "\n",
    "pseudopotentials = PseudoFamily(\"dojo.nc.sr.pbesol.v0_4_1.standard.upf\")\n",
    "model = model_DFT(bulk(:Si); functionals=PBEsol(), pseudopotentials)\n",
    "basis = PlaneWaveBasis(model; Ecut=5, kgrid=[3, 3, 3])\n",
    "\n",
    "# Convergence we desire in the density\n",
    "tol = 1e-6"
   ],
   "metadata": {},
   "execution_count": 1
  },
  {
   "cell_type": "markdown",
   "source": [
    "## Density-based self-consistent field"
   ],
   "metadata": {}
  },
  {
   "outputs": [
    {
     "name": "stdout",
     "output_type": "stream",
     "text": [
      "n     Energy            log10(ΔE)   log10(Δρ)   Diag   Δtime\n",
      "---   ---------------   ---------   ---------   ----   ------\n",
      "  1   -8.397855702409                   -0.90    5.0   26.9ms\n",
      "  2   -8.400230649558       -2.62       -1.74    1.0   19.1ms\n",
      "  3   -8.400407215966       -3.75       -2.99    1.5   20.2ms\n",
      "  4   -8.400427865079       -4.69       -3.00    3.2   25.3ms\n",
      "  5   -8.400427942122       -7.11       -3.05    1.0   19.5ms\n",
      "  6   -8.400428145596       -6.69       -4.68    1.0   19.1ms\n",
      "  7   -8.400428151779       -8.21       -4.44    2.8   75.9ms\n",
      "  8   -8.400428152183       -9.39       -5.22    1.0   19.6ms\n",
      "  9   -8.400428152207      -10.62       -6.36    1.5   20.4ms\n"
     ]
    }
   ],
   "cell_type": "code",
   "source": [
    "scfres_scf = self_consistent_field(basis; tol);"
   ],
   "metadata": {},
   "execution_count": 2
  },
  {
   "cell_type": "markdown",
   "source": [
    "## Potential-based SCF"
   ],
   "metadata": {}
  },
  {
   "outputs": [
    {
     "name": "stdout",
     "output_type": "stream",
     "text": [
      "n     Energy            log10(ΔE)   log10(Δρ)   α      Diag   Δtime\n",
      "---   ---------------   ---------   ---------   ----   ----   ------\n",
      "  1   -8.397858886486                   -0.90           5.2    888ms\n",
      "  2   -8.400385956291       -2.60       -1.79   0.80    2.2    491ms\n",
      "  3   -8.400422755765       -4.43       -3.03   0.80    1.0    208ms\n",
      "  4   -8.400428100440       -5.27       -3.39   0.80    2.5   20.4ms\n",
      "  5   -8.400428148321       -7.32       -4.40   0.80    1.0   16.5ms\n",
      "  6   -8.400428152135       -8.42       -5.67   0.80    2.5   20.1ms\n",
      "  7   -8.400428152209      -10.13       -5.87   0.80    3.2   22.5ms\n",
      "  8   -8.400428152209      -12.51       -7.27   0.80    1.0   16.8ms\n"
     ]
    }
   ],
   "cell_type": "code",
   "source": [
    "scfres_scfv = DFTK.scf_potential_mixing(basis; tol);"
   ],
   "metadata": {},
   "execution_count": 3
  },
  {
   "cell_type": "markdown",
   "source": [
    "## Direct minimization"
   ],
   "metadata": {}
  },
  {
   "outputs": [
    {
     "name": "stdout",
     "output_type": "stream",
     "text": [
      "┌ Warning: x_tol is deprecated. Use x_abstol or x_reltol instead. The provided value (-1) will be used as x_abstol.\n",
      "└ @ Optim ~/.julia/packages/Optim/7krni/src/types.jl:110\n",
      "┌ Warning: f_tol is deprecated. Use f_abstol or f_reltol instead. The provided value (-1) will be used as f_reltol.\n",
      "└ @ Optim ~/.julia/packages/Optim/7krni/src/types.jl:120\n",
      "n     Energy            log10(ΔE)   log10(Δρ)   Δtime\n",
      "---   ---------------   ---------   ---------   ------\n",
      "  1   +1.406907334485                   -1.10    3.57s\n",
      "  2   -1.290860587140        0.43       -0.66    142ms\n",
      "  3   -4.295833361420        0.48       -0.39   43.4ms\n",
      "  4   -5.796477310654        0.18       -0.48   43.6ms\n",
      "  5   -7.447438602780        0.22       -0.70   78.9ms\n",
      "  6   -7.783679954424       -0.47       -1.31   32.4ms\n",
      "  7   -8.174286616945       -0.41       -1.66   32.0ms\n",
      "  8   -8.273075317775       -1.01       -1.83   32.4ms\n",
      "  9   -8.334395551315       -1.21       -2.05   32.2ms\n",
      " 10   -8.363409229897       -1.54       -2.05   32.1ms\n",
      " 11   -8.379888097456       -1.78       -2.36   54.4ms\n",
      " 12   -8.387780007574       -2.10       -2.47   32.5ms\n",
      " 13   -8.391394128546       -2.44       -2.69   32.1ms\n",
      " 14   -8.393449641024       -2.69       -3.51   32.3ms\n",
      " 15   -8.394477518331       -2.99       -3.05   32.2ms\n",
      " 16   -8.395329170063       -3.07       -3.31   32.1ms\n",
      " 17   -8.396906783488       -2.80       -2.81   38.5ms\n",
      " 18   -8.397945996192       -2.98       -2.82   32.7ms\n",
      " 19   -8.399376753517       -2.84       -3.14   32.4ms\n",
      " 20   -8.399876189063       -3.30       -3.20   32.1ms\n",
      " 21   -8.400210726699       -3.48       -3.64   37.2ms\n",
      " 22   -8.400301814980       -4.04       -3.83   32.1ms\n",
      " 23   -8.400387192975       -4.07       -4.29   32.3ms\n",
      " 24   -8.400403208671       -4.80       -4.28   32.4ms\n",
      " 25   -8.400421620836       -4.73       -4.50   32.8ms\n",
      " 26   -8.400422952353       -5.88       -4.65   36.7ms\n",
      " 27   -8.400426800696       -5.41       -4.92   32.1ms\n",
      " 28   -8.400427298033       -6.30       -4.62   32.3ms\n",
      " 29   -8.400427840961       -6.27       -4.77   32.1ms\n",
      " 30   -8.400427945358       -6.98       -5.17   37.5ms\n",
      " 31   -8.400428090482       -6.84       -5.50   32.4ms\n",
      " 32   -8.400428117441       -7.57       -5.73   32.3ms\n",
      " 33   -8.400428140502       -7.64       -5.88   32.4ms\n",
      " 34   -8.400428144737       -8.37       -5.64   32.4ms\n",
      " 35   -8.400428149583       -8.31       -6.39   36.8ms\n"
     ]
    }
   ],
   "cell_type": "code",
   "source": [
    "scfres_dm = direct_minimization(basis; tol);"
   ],
   "metadata": {},
   "execution_count": 4
  },
  {
   "cell_type": "markdown",
   "source": [
    "## Newton algorithm"
   ],
   "metadata": {}
  },
  {
   "cell_type": "markdown",
   "source": [
    "Start not too far from the solution to ensure convergence:\n",
    "We run first a very crude SCF to get close and then switch to Newton."
   ],
   "metadata": {}
  },
  {
   "outputs": [
    {
     "name": "stdout",
     "output_type": "stream",
     "text": [
      "n     Energy            log10(ΔE)   log10(Δρ)   Diag   Δtime\n",
      "---   ---------------   ---------   ---------   ----   ------\n",
      "  1   -8.397835008758                   -0.90    5.0   26.3ms\n"
     ]
    }
   ],
   "cell_type": "code",
   "source": [
    "scfres_start = self_consistent_field(basis; tol=0.5);"
   ],
   "metadata": {},
   "execution_count": 5
  },
  {
   "cell_type": "markdown",
   "source": [
    "Remove the virtual orbitals (which Newton cannot treat yet)"
   ],
   "metadata": {}
  },
  {
   "outputs": [
    {
     "name": "stdout",
     "output_type": "stream",
     "text": [
      "n     Energy            log10(ΔE)   log10(Δρ)   Δtime\n",
      "---   ---------------   ---------   ---------   ------\n",
      "  1   -8.400427985742                   -1.79    8.33s\n",
      "  2   -8.400428152209       -6.78       -4.04    3.24s\n",
      "  3   -8.400428152209      -14.75       -7.84    128ms\n"
     ]
    }
   ],
   "cell_type": "code",
   "source": [
    "ψ = DFTK.select_occupied_orbitals(basis, scfres_start.ψ, scfres_start.occupation).ψ\n",
    "scfres_newton = newton(basis, ψ; tol);"
   ],
   "metadata": {},
   "execution_count": 6
  },
  {
   "cell_type": "markdown",
   "source": [
    "## Comparison of results"
   ],
   "metadata": {}
  },
  {
   "outputs": [
    {
     "name": "stdout",
     "output_type": "stream",
     "text": [
      "|ρ_newton - ρ_scf|  = 1.242275604599734e-6\n",
      "|ρ_newton - ρ_scfv| = 9.07347330865052e-8\n",
      "|ρ_newton - ρ_dm|   = 2.5626092002056975e-6\n"
     ]
    }
   ],
   "cell_type": "code",
   "source": [
    "println(\"|ρ_newton - ρ_scf|  = \", norm(scfres_newton.ρ - scfres_scf.ρ))\n",
    "println(\"|ρ_newton - ρ_scfv| = \", norm(scfres_newton.ρ - scfres_scfv.ρ))\n",
    "println(\"|ρ_newton - ρ_dm|   = \", norm(scfres_newton.ρ - scfres_dm.ρ))"
   ],
   "metadata": {},
   "execution_count": 7
  }
 ],
 "nbformat_minor": 3,
 "metadata": {
  "language_info": {
   "file_extension": ".jl",
   "mimetype": "application/julia",
   "name": "julia",
   "version": "1.12.0"
  },
  "kernelspec": {
   "name": "julia-1.12",
   "display_name": "Julia 1.12.0",
   "language": "julia"
  }
 },
 "nbformat": 4
}
