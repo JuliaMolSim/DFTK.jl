{
 "cells": [
  {
   "cell_type": "markdown",
   "source": [
    "# Elastic constants"
   ],
   "metadata": {}
  },
  {
   "cell_type": "markdown",
   "source": [
    "We compute *clamped-ion* elastic constants of a crystal using\n",
    "the algorithmic differentiation density-functional perturbation theory (AD-DFPT) approach\n",
    "as introduced in [^SPH25].\n",
    "\n",
    "[^SPH25]:\n",
    "    Schmitz, N. F., Ploumhans, B., & Herbst, M. F. (2025)\n",
    "    *Algorithmic differentiation for plane-wave DFT: materials design, error control and learning model parameters.*\n",
    "    [arXiv:2509.07785](https://arxiv.org/abs/2509.07785)\n",
    "\n",
    "We consider a crystal in its equilibrium configuration, where all atomic forces\n",
    "and stresses vanish.  Homogeneous strains $η$ are then applied\n",
    "relative to this relaxed structure.\n",
    "The elastic constants are derived from the stress-strain relationship.\n",
    "In [Voigt notation](https://en.wikipedia.org/wiki/Voigt_notation),\n",
    "the stress $\\sigma$ and strain $\\eta$ tensors are represented as 6-component vectors.\n",
    "The elastic constants $C$ are then given by\n",
    "the Jacobian of the stress with respect to strain, forming a $6 \\times 6$ matrix\n",
    "$$\n",
    "  C = \\frac{\\partial \\sigma}{\\partial \\eta}.\n",
    "$$\n",
    "\n",
    "The sparsity pattern of the matrix $C$ follows from crystal symmetry\n",
    "and is tabulated in standard references (eg. Table 9 in [^Nye1985]).\n",
    "This sparsity can be used a priori to reduce the number of strain patterns\n",
    "that need to be probed to extract all independent components of $C$.\n",
    "For example, cubic crystals have only three independent elastic constants\n",
    "$C_{11}$, $C_{12}$ and $C_{44}$, with the pattern\n",
    "$$\n",
    "C = \\begin{pmatrix}\n",
    "  C_{11} & C_{12} & C_{12} & 0      & 0      & 0 \\\\\n",
    "  C_{12} & C_{11} & C_{12} & 0      & 0      & 0 \\\\\n",
    "  C_{12} & C_{12} & C_{11} & 0      & 0      & 0 \\\\\n",
    "  0      & 0      & 0      & C_{44} & 0      & 0 \\\\\n",
    "  0      & 0      & 0      & 0      & C_{44} & 0 \\\\\n",
    "  0      & 0      & 0      & 0      & 0      & C_{44} \\\\\n",
    "\\end{pmatrix}.\n",
    "$$\n",
    "Thus we can just choose a suitable strain pattern $\\dot{\\eta} = (1, 0, 0, 1, 0, 0)^\\top$,\n",
    "such that $C\\dot{\\eta} = (C_{11}, C_{12}, C_{12}, C_{44}, 0, 0)^\\top$. That is,\n",
    "for cubic crystals like diamond silicon we obtain all independent elastic\n",
    "constants from a single Jacobian-vector product on the stress-strain function.\n",
    "\n",
    "[^Nye1985]:\n",
    "     Nye, J. F. (1985).\n",
    "     *Physical Properties of Crystals*. Oxford University Press.\n",
    "     Comment: Since the elastic tensor transforms equivariantly under rotations,\n",
    "     its numerical components depend on the chosen Cartesian coordinate frame.\n",
    "     These tabulated patterns assume a standardized orientation of the structure\n",
    "     with respect to conventional crystallographic axes.\n",
    "\n",
    "This example computes the *clamped-ion* elastic tensor, keeping internal\n",
    "atomic positions fixed under strain.  The *relaxed-ion* tensor includes\n",
    "additional corrections from internal relaxations, which can be obtained\n",
    "from first-order atomic displacements in DFPT (see [^Wu2005]).\n",
    "\n",
    "[^Wu2005]:\n",
    "    Wu, X., Vanderbilt, D., & Hamann, D. R. (2005).\n",
    "    *Systematic treatment of displacements, strains, and electric fields in density-functional perturbation theory.*\n",
    "    [Physical Review B, 72(3), 035105](https://doi.org/10.1103/PhysRevB.72.035105)."
   ],
   "metadata": {}
  },
  {
   "outputs": [],
   "cell_type": "code",
   "source": [
    "using DFTK\n",
    "using PseudoPotentialData\n",
    "using LinearAlgebra\n",
    "using ForwardDiff\n",
    "using DifferentiationInterface\n",
    "using AtomsBuilder\n",
    "using Unitful\n",
    "using UnitfulAtomic\n",
    "\n",
    "\n",
    "pseudopotentials = PseudoFamily(\"dojo.nc.sr.pbe.v0_4_1.standard.upf\")\n",
    "a0_pbe = 10.33u\"bohr\"  # Equilibrium lattice constant of silicon with PBE\n",
    "model0 = model_DFT(bulk(:Si; a=a0_pbe); pseudopotentials, functionals=PBE())\n",
    "\n",
    "Ecut = recommended_cutoff(model0).Ecut\n",
    "kgrid = [4, 4, 4]\n",
    "tol = 1e-6\n",
    "\n",
    "function symmetries_from_strain(model0, voigt_strain)\n",
    "    lattice = DFTK.voigt_strain_to_full(voigt_strain) * model0.lattice\n",
    "    model = Model(model0; lattice, symmetries=true)\n",
    "    model.symmetries\n",
    "end\n",
    "\n",
    "strain_pattern = [1., 0., 0., 1., 0., 0.];  # recovers [c11, c12, c12, c44, 0, 0]"
   ],
   "metadata": {},
   "execution_count": 1
  },
  {
   "cell_type": "markdown",
   "source": [
    "For elastic constants beyond the bulk modulus, symmetry-breaking strains\n",
    "are required. That is, the symmetry group of the crystal is reduced.\n",
    "Here we simply precompute the relevant subgroup by applying the automatic\n",
    "symmetry detection (spglib) to the finitely perturbed crystal."
   ],
   "metadata": {}
  },
  {
   "outputs": [
    {
     "name": "stdout",
     "output_type": "stream",
     "text": [
      "n     Energy            log10(ΔE)   log10(Δρ)   Diag   Δtime\n",
      "---   ---------------   ---------   ---------   ----   ------\n",
      "  1   -8.453494440738                   -0.94    5.5    1.04s\n",
      "  2   -8.455629699233       -2.67       -1.77    1.0    1.34s\n",
      "  3   -8.455777442276       -3.83       -2.89    1.9    201ms\n",
      "  4   -8.455790081294       -4.90       -3.33    3.0    303ms\n",
      "  5   -8.455790177174       -7.02       -3.86    1.3    170ms\n",
      "  6   -8.455790186639       -8.02       -4.67    1.3    177ms\n",
      "  7   -8.455790187688       -8.98       -5.39    2.4    238ms\n",
      "  8   -8.455790187712      -10.63       -5.92    2.2    233ms\n",
      "  9   -8.455790187713      -11.80       -6.63    2.0    216ms\n",
      "Solving response problem\n",
      "Iter  Restart  Krydim  log10(res)  avg(CG)  Δtime   Comment\n",
      "----  -------  ------  ----------  -------  ------  ---------------\n",
      "                                      66.7   5.82s  Non-interacting\n",
      "   1        0       1        0.11     51.2   12.8s  \n",
      "   2        0       2       -0.70     46.5   1.11s  \n",
      "   3        0       3       -1.71     40.6   699ms  \n",
      "   4        0       4       -2.78     32.8   595ms  \n",
      "   5        0       5       -4.04     24.1   484ms  \n",
      "   6        0       6       -5.56      9.9   290ms  \n",
      "   7        0       7       -7.81      4.0   214ms  \n",
      "   8        1       1       -6.69     66.4   1.93s  Restart\n",
      "                                      65.8   1.32s  Final orbitals\n"
     ]
    }
   ],
   "cell_type": "code",
   "source": [
    "symmetries_strain = symmetries_from_strain(model0, 0.01 * strain_pattern)\n",
    "\n",
    "\n",
    "function stress_from_strain(model0, voigt_strain; symmetries, Ecut, kgrid, tol)\n",
    "    lattice = DFTK.voigt_strain_to_full(voigt_strain) * model0.lattice\n",
    "    model = Model(model0; lattice, symmetries)\n",
    "    basis = PlaneWaveBasis(model; Ecut, kgrid)\n",
    "    scfres = self_consistent_field(basis; tol)\n",
    "    DFTK.full_stress_to_voigt(compute_stresses_cart(scfres))\n",
    "end\n",
    "\n",
    "stress_fn(voigt_strain) = stress_from_strain(model0, voigt_strain;\n",
    "                                             symmetries=symmetries_strain,\n",
    "                                             Ecut, kgrid, tol)\n",
    "stress, (dstress,) = value_and_pushforward(stress_fn, AutoForwardDiff(),\n",
    "                                           zeros(6), (strain_pattern,));"
   ],
   "metadata": {},
   "execution_count": 2
  },
  {
   "cell_type": "markdown",
   "source": [
    "We can inspect the stress to verify it is small (close to equilibrium):"
   ],
   "metadata": {}
  },
  {
   "outputs": [
    {
     "output_type": "execute_result",
     "data": {
      "text/plain": "6-element StaticArraysCore.SVector{6, Float64} with indices SOneTo(6):\n -2.312161881741115e-5\n -2.3121563899440012e-5\n -2.3121563899440025e-5\n -1.1022783780580221e-9\n  0.0\n  0.0"
     },
     "metadata": {},
     "execution_count": 3
    }
   ],
   "cell_type": "code",
   "source": [
    "stress"
   ],
   "metadata": {},
   "execution_count": 3
  },
  {
   "cell_type": "markdown",
   "source": [
    "The response of the stress to `strain_pattern` contains the elastic constants\n",
    "in atomic units, with the expected pattern $(c11, c12, c12, c44, 0, 0)$:"
   ],
   "metadata": {}
  },
  {
   "outputs": [
    {
     "output_type": "execute_result",
     "data": {
      "text/plain": "6-element StaticArraysCore.SVector{6, Float64} with indices SOneTo(6):\n 0.005319945145354186\n 0.002024899975180968\n 0.002024899975180968\n 0.0033519109986101516\n 0.0\n 0.0"
     },
     "metadata": {},
     "execution_count": 4
    }
   ],
   "cell_type": "code",
   "source": [
    "dstress"
   ],
   "metadata": {},
   "execution_count": 4
  },
  {
   "cell_type": "markdown",
   "source": [
    "Convert to GPa:"
   ],
   "metadata": {}
  },
  {
   "outputs": [
    {
     "name": "stdout",
     "output_type": "stream",
     "text": [
      "C11: 156.51818962668278 GPa\n",
      "C12: 59.5746139539075 GPa\n",
      "C44: 98.61662610382024 GPa\n"
     ]
    }
   ],
   "cell_type": "code",
   "source": [
    "println(\"C11: \", uconvert(u\"GPa\", dstress[1] * u\"hartree\" / u\"bohr\"^3))\n",
    "println(\"C12: \", uconvert(u\"GPa\", dstress[2] * u\"hartree\" / u\"bohr\"^3))\n",
    "println(\"C44: \", uconvert(u\"GPa\", dstress[4] * u\"hartree\" / u\"bohr\"^3))"
   ],
   "metadata": {},
   "execution_count": 5
  },
  {
   "cell_type": "markdown",
   "source": [
    "These results can be compared directly to finite differences of the stress_fn:"
   ],
   "metadata": {}
  },
  {
   "outputs": [
    {
     "name": "stdout",
     "output_type": "stream",
     "text": [
      "n     Energy            log10(ΔE)   log10(Δρ)   Diag   Δtime\n",
      "---   ---------------   ---------   ---------   ----   ------\n",
      "  1   -8.453541578340                   -0.94    5.4    436ms\n",
      "  2   -8.455633524705       -2.68       -1.77    1.0    156ms\n",
      "  3   -8.455781670349       -3.83       -2.88    1.9    205ms\n",
      "  4   -8.455795202074       -4.87       -3.29    3.1    286ms\n",
      "  5   -8.455795302861       -7.00       -3.77    1.3    172ms\n",
      "  6   -8.455795314121       -7.95       -4.74    1.3    173ms\n",
      "  7   -8.455795315171       -8.98       -5.23    2.5    251ms\n",
      "  8   -8.455795315196      -10.60       -5.83    1.8    199ms\n",
      "  9   -8.455795315198      -11.69       -6.52    1.9    214ms\n",
      "n     Energy            log10(ΔE)   log10(Δρ)   Diag   Δtime\n",
      "---   ---------------   ---------   ---------   ----   ------\n",
      "  1   -8.453499762204                   -0.94    5.4    418ms\n",
      "  2   -8.455624248262       -2.67       -1.77    1.0    156ms\n",
      "  3   -8.455770062328       -3.84       -2.89    1.9    201ms\n",
      "  4   -8.455782147803       -4.92       -3.31    3.1    283ms\n",
      "  5   -8.455782243953       -7.02       -3.86    1.2    169ms\n",
      "  6   -8.455782253613       -8.02       -4.96    1.3    176ms\n",
      "  7   -8.455782254364       -9.12       -5.48    2.9    278ms\n",
      "  8   -8.455782254371      -11.17       -6.09    1.7    198ms\n",
      "C11 (FD): 156.33830941965925 GPa\n",
      "C12 (FD): 59.56388220812988 GPa\n",
      "C44 (FD): 98.51448439399984 GPa\n"
     ]
    }
   ],
   "cell_type": "code",
   "source": [
    "h = 1e-3\n",
    "dstress_fd = (stress_fn(h * strain_pattern) - stress_fn(-h * strain_pattern)) / 2h\n",
    "println(\"C11 (FD): \", uconvert(u\"GPa\", dstress_fd[1] * u\"hartree\" / u\"bohr\"^3))\n",
    "println(\"C12 (FD): \", uconvert(u\"GPa\", dstress_fd[2] * u\"hartree\" / u\"bohr\"^3))\n",
    "println(\"C44 (FD): \", uconvert(u\"GPa\", dstress_fd[4] * u\"hartree\" / u\"bohr\"^3))"
   ],
   "metadata": {},
   "execution_count": 6
  },
  {
   "cell_type": "markdown",
   "source": [
    "Here are AD-DFPT results from increasing discretization parameters:\n",
    "\n",
    "| Ecut | kgrid         | c11    | c12   | c44    |\n",
    "|------|---------------|-------:|------:|-------:|\n",
    "| 18   | [4, 4, 4]     | 156.51 | 59.57 |  98.61 |\n",
    "| 18   | [8, 8, 8]     | 153.53 | 56.90 | 100.07 |\n",
    "| 24   | [8, 8, 8]     | 153.26 | 56.82 |  99.97 |\n",
    "| 24   | [14, 14, 14]  | 153.03 | 56.71 | 100.09 |\n",
    "\n",
    "For comparison, Materials Project for PBE *relaxed-ion* elastic constants of\n",
    "silicon [mp-149](https://next-gen.materialsproject.org/materials/mp-149):\n",
    "c11 = 153 GPa, c12 = 57 GPa, c44 = 74 GPa.\n",
    "Note the discrepancy in c44, which is due to us not yet including\n",
    "ionic relaxation in this example."
   ],
   "metadata": {}
  }
 ],
 "nbformat_minor": 3,
 "metadata": {
  "language_info": {
   "file_extension": ".jl",
   "mimetype": "application/julia",
   "name": "julia",
   "version": "1.12.0"
  },
  "kernelspec": {
   "name": "julia-1.12",
   "display_name": "Julia 1.12.0",
   "language": "julia"
  }
 },
 "nbformat": 4
}
