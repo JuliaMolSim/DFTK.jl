{
 "cells": [
  {
   "cell_type": "markdown",
   "source": [
    "# Polarizability using automatic differentiation\n",
    "\n",
    "Simple example for computing properties using (forward-mode)\n",
    "automatic differentiation.\n",
    "For a more classical approach and more details about computing polarizabilities,\n",
    "see Polarizability by linear response."
   ],
   "metadata": {}
  },
  {
   "outputs": [],
   "cell_type": "code",
   "source": [
    "using DFTK\n",
    "using LinearAlgebra\n",
    "using ForwardDiff\n",
    "using PseudoPotentialData\n",
    "\n",
    "# Construct PlaneWaveBasis given a particular electric field strength\n",
    "# Again we take the example of a Helium atom.\n",
    "function make_basis(ε::T; a=10., Ecut=30) where {T}\n",
    "    lattice = T(a) * I(3)  # lattice is a cube of $a$ Bohrs\n",
    "    # Helium at the center of the box\n",
    "    pseudopotentials = PseudoFamily(\"cp2k.nc.sr.lda.v0_1.semicore.gth\")\n",
    "    atoms     = [ElementPsp(:He, pseudopotentials)]\n",
    "    positions = [[1/2, 1/2, 1/2]]\n",
    "\n",
    "    model = model_DFT(lattice, atoms, positions;\n",
    "                      functionals=[:lda_x, :lda_c_vwn],\n",
    "                      extra_terms=[ExternalFromReal(r -> -ε * (r[1] - a/2))],\n",
    "                      symmetries=false)\n",
    "    PlaneWaveBasis(model; Ecut, kgrid=[1, 1, 1])  # No k-point sampling on isolated system\n",
    "end\n",
    "\n",
    "# dipole moment of a given density (assuming the current geometry)\n",
    "function dipole(basis, ρ)\n",
    "    @assert isdiag(basis.model.lattice)\n",
    "    a  = basis.model.lattice[1, 1]\n",
    "    rr = [a * (r[1] - 1/2) for r in r_vectors(basis)]\n",
    "    sum(rr .* ρ) * basis.dvol\n",
    "end\n",
    "\n",
    "# Function to compute the dipole for a given field strength\n",
    "function compute_dipole(ε; tol=1e-8, kwargs...)\n",
    "    scfres = self_consistent_field(make_basis(ε; kwargs...); tol)\n",
    "    dipole(scfres.basis, scfres.ρ)\n",
    "end;"
   ],
   "metadata": {},
   "execution_count": 1
  },
  {
   "cell_type": "markdown",
   "source": [
    "With this in place we can compute the polarizability from finite differences\n",
    "(just like in the previous example):"
   ],
   "metadata": {}
  },
  {
   "outputs": [
    {
     "name": "stdout",
     "output_type": "stream",
     "text": [
      "n     Energy            log10(ΔE)   log10(Δρ)   Diag   Δtime\n",
      "---   ---------------   ---------   ---------   ----   ------\n",
      "  1   -2.770864983615                   -0.52    9.0    164ms\n",
      "  2   -2.772144604657       -2.89       -1.32    1.0    120ms\n",
      "  3   -2.772170343786       -4.59       -2.52    1.0    100ms\n",
      "  4   -2.772170673981       -6.48       -3.37    1.0    115ms\n",
      "  5   -2.772170721322       -7.32       -3.90    2.0    121ms\n",
      "  6   -2.772170722959       -8.79       -5.09    1.0    107ms\n",
      "  7   -2.772170723014      -10.26       -5.40    2.0    127ms\n",
      "  8   -2.772170723015      -11.91       -6.22    1.0    115ms\n",
      "  9   -2.772170723015      -12.82       -6.50    2.0    130ms\n",
      " 10   -2.772170723015      -13.85       -7.27    1.0    115ms\n",
      " 11   -2.772170723015      -14.01       -8.07    2.0    130ms\n",
      "n     Energy            log10(ΔE)   log10(Δρ)   Diag   Δtime\n",
      "---   ---------------   ---------   ---------   ----   ------\n",
      "  1   -2.770788643527                   -0.52    9.0    168ms\n",
      "  2   -2.772061035909       -2.90       -1.32    1.0    114ms\n",
      "  3   -2.772083040113       -4.66       -2.44    1.0    101ms\n",
      "  4   -2.772083334475       -6.53       -3.13    1.0    106ms\n",
      "  5   -2.772083417102       -7.08       -4.08    2.0    201ms\n",
      "  6   -2.772083417704       -9.22       -4.66    1.0    775ms\n",
      "  7   -2.772083417810       -9.97       -5.92    2.0    122ms\n",
      "  8   -2.772083417810      -12.68       -6.02    2.0    121ms\n",
      "  9   -2.772083417811      -12.95       -7.58    1.0    116ms\n",
      " 10   -2.772083417811      -14.65       -8.07    2.0    161ms\n"
     ]
    },
    {
     "output_type": "execute_result",
     "data": {
      "text/plain": "1.7735578873637958"
     },
     "metadata": {},
     "execution_count": 2
    }
   ],
   "cell_type": "code",
   "source": [
    "polarizability_fd = let\n",
    "    ε = 0.01\n",
    "    (compute_dipole(ε) - compute_dipole(0.0)) / ε\n",
    "end"
   ],
   "metadata": {},
   "execution_count": 2
  },
  {
   "cell_type": "markdown",
   "source": [
    "We do the same thing using automatic differentiation. Under the hood this uses\n",
    "custom rules to implicitly differentiate through the self-consistent\n",
    "field fixed-point problem. This leads to a density-functional perturbation\n",
    "theory problem, which is automatically set up and solved in the background."
   ],
   "metadata": {}
  },
  {
   "outputs": [
    {
     "name": "stdout",
     "output_type": "stream",
     "text": [
      "n     Energy            log10(ΔE)   log10(Δρ)   Diag   Δtime\n",
      "---   ---------------   ---------   ---------   ----   ------\n",
      "  1   -2.770753200787                   -0.52    9.0    168ms\n",
      "  2   -2.772059601326       -2.88       -1.32    1.0    131ms\n",
      "  3   -2.772082996261       -4.63       -2.44    1.0    117ms\n",
      "  4   -2.772083329514       -6.48       -3.12    1.0    107ms\n",
      "  5   -2.772083417047       -7.06       -4.05    2.0    123ms\n",
      "  6   -2.772083417628       -9.24       -4.45    1.0    112ms\n",
      "  7   -2.772083417808       -9.75       -5.48    1.0    112ms\n",
      "  8   -2.772083417811      -11.64       -6.16    1.0    118ms\n",
      "  9   -2.772083417811      -13.12       -6.43    2.0    133ms\n",
      " 10   -2.772083417811      -13.65       -7.27    1.0    117ms\n",
      " 11   -2.772083417811   +  -14.21       -8.06    2.0    133ms\n",
      "Solving response problem\n",
      "Iter  Restart  Krydim  log10(res)  avg(CG)  Δtime   Comment\n",
      "----  -------  ------  ----------  -------  ------  ---------------\n",
      "                                      13.0   102ms  Non-interacting\n",
      "   1        0       1       -0.60     10.0   164ms  \n",
      "   2        0       2       -2.42      8.0   128ms  \n",
      "   3        0       3       -3.55      5.0   108ms  \n",
      "   4        0       4       -5.33      4.0   104ms  \n",
      "   5        0       5       -7.94      1.0  91.0ms  \n",
      "   6        0       6      -10.25      1.0  87.2ms  \n",
      "   7        1       1       -7.39     13.0   234ms  Restart\n",
      "   8        1       2       -8.98      1.0  86.2ms  \n",
      "                                      13.0   1.00s  Final orbitals\n",
      "\n",
      "Polarizability via ForwardDiff:       1.7725349917175823\n",
      "Polarizability via finite difference: 1.7735578873637958\n"
     ]
    }
   ],
   "cell_type": "code",
   "source": [
    "polarizability = ForwardDiff.derivative(compute_dipole, 0.0)\n",
    "println()\n",
    "println(\"Polarizability via ForwardDiff:       $polarizability\")\n",
    "println(\"Polarizability via finite difference: $polarizability_fd\")"
   ],
   "metadata": {},
   "execution_count": 3
  }
 ],
 "nbformat_minor": 3,
 "metadata": {
  "language_info": {
   "file_extension": ".jl",
   "mimetype": "application/julia",
   "name": "julia",
   "version": "1.12.0"
  },
  "kernelspec": {
   "name": "julia-1.12",
   "display_name": "Julia 1.12.0",
   "language": "julia"
  }
 },
 "nbformat": 4
}
