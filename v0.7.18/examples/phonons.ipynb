{
 "cells": [
  {
   "cell_type": "markdown",
   "source": [
    "# Phonon computations\n",
    "\n",
    "This is a quick sketch how to run a simple phonon calculation using DFTK."
   ],
   "metadata": {}
  },
  {
   "cell_type": "markdown",
   "source": [
    "> **Preliminary implementation**\n",
    ">\n",
    "> Practical phonon computations have only seen rudimentary testing as of now.\n",
    "> As of now we do not yet recommend relying on this feature for production\n",
    "> calculations. We appreciate any issues, bug reports or PRs.\n",
    "\n",
    "First we run an SCF calculation."
   ],
   "metadata": {}
  },
  {
   "outputs": [
    {
     "name": "stdout",
     "output_type": "stream",
     "text": [
      "n     Energy            log10(ΔE)   log10(Δρ)   Diag   Δtime\n",
      "---   ---------------   ---------   ---------   ----   ------\n",
      "  1   -7.916429961087                   -0.69    4.9    117ms\n",
      "  2   -7.921207358338       -2.32       -1.52    1.0   56.9ms\n",
      "  3   -7.921404521096       -3.71       -2.49    1.4   64.2ms\n",
      "  4   -7.921440855971       -4.44       -2.82    2.8   83.8ms\n",
      "  5   -7.921441560485       -6.15       -2.96    1.0   59.7ms\n",
      "  6   -7.921442005877       -6.35       -4.41    1.0   60.2ms\n",
      "  7   -7.921442021801       -7.80       -4.61    2.9    155ms\n",
      "  8   -7.921442022127       -9.49       -5.12    1.0   56.4ms\n",
      "  9   -7.921442022142      -10.83       -5.96    1.2   58.7ms\n",
      " 10   -7.921442022143      -11.90       -5.70    2.1   70.5ms\n",
      " 11   -7.921442022144      -12.16       -6.75    1.0   55.8ms\n",
      " 12   -7.921442022144      -13.73       -6.77    1.8   65.8ms\n",
      " 13   -7.921442022144      -15.05       -7.09    1.0   56.4ms\n",
      " 14   -7.921442022144      -14.75       -8.29    1.0    281ms\n"
     ]
    }
   ],
   "cell_type": "code",
   "source": [
    "using AtomsBuilder\n",
    "using DFTK\n",
    "using PseudoPotentialData\n",
    "\n",
    "pseudopotentials = PseudoFamily(\"cp2k.nc.sr.lda.v0_1.semicore.gth\")\n",
    "model  = model_DFT(bulk(:Si); pseudopotentials, functionals=LDA())\n",
    "basis  = PlaneWaveBasis(model; Ecut=10, kgrid=[4, 4, 4])\n",
    "scfres = self_consistent_field(basis, tol=1e-8);\n",
    "nothing  # hide"
   ],
   "metadata": {},
   "execution_count": 1
  },
  {
   "cell_type": "markdown",
   "source": [
    "Next we compute the phonon modes at the q-point `[1/4, 1/4, 1/4]`."
   ],
   "metadata": {}
  },
  {
   "outputs": [
    {
     "name": "stdout",
     "output_type": "stream",
     "text": [
      "Iter  Restart  Krydim  log10(res)  avg(CG)  Δtime   Comment\n",
      "----  -------  ------  ----------  -------  ------  ---------------\n",
      "                                      73.0   2.39s  Non-interacting\n",
      "   1        0       1        0.31     52.7   9.31s  \n",
      "   2        0       2       -0.52     47.2   1.61s  \n",
      "   3        0       3       -2.40     41.8   1.40s  \n",
      "   4        0       4       -4.46     29.9   1.11s  \n",
      "   5        0       5       -6.46     17.5   788ms  \n",
      "   6        0       6       -8.92      4.0   441ms  \n",
      "   7        1       1       -7.85     55.6   2.21s  Restart\n",
      "   8        1       2       -9.07      5.5   507ms  \n",
      "                                      72.8   2.12s  Final orbitals\n",
      "Iter  Restart  Krydim  log10(res)  avg(CG)  Δtime   Comment\n",
      "----  -------  ------  ----------  -------  ------  ---------------\n",
      "                                      73.0   1.94s  Non-interacting\n",
      "   1        0       1        0.31     52.7   1.79s  \n",
      "   2        0       2       -0.52     47.2   2.30s  \n",
      "   3        0       3       -2.40     41.8   1.37s  \n",
      "   4        0       4       -4.46     29.9   1.11s  \n",
      "   5        0       5       -6.46     17.5   790ms  \n",
      "   6        0       6       -8.92      4.0   435ms  \n",
      "   7        1       1       -7.85     55.6   2.11s  Restart\n",
      "   8        1       2       -9.07      5.5   476ms  \n",
      "                                      72.8   2.09s  Final orbitals\n",
      "Iter  Restart  Krydim  log10(res)  avg(CG)  Δtime   Comment\n",
      "----  -------  ------  ----------  -------  ------  ---------------\n",
      "                                      72.9   1.93s  Non-interacting\n",
      "   1        0       1        0.31     52.7   1.83s  \n",
      "   2        0       2       -0.52     47.2   1.53s  \n",
      "   3        0       3       -2.40     41.8   1.40s  \n",
      "   4        0       4       -4.46     29.9   1.10s  \n",
      "   5        0       5       -6.46     17.5   772ms  \n",
      "   6        0       6       -8.92      4.0   422ms  \n",
      "   7        1       1       -7.85     55.6   2.07s  Restart\n",
      "   8        1       2       -9.07      5.5   457ms  \n",
      "                                      72.8   2.05s  Final orbitals\n",
      "Iter  Restart  Krydim  log10(res)  avg(CG)  Δtime   Comment\n",
      "----  -------  ------  ----------  -------  ------  ---------------\n",
      "                                      73.0   1.84s  Non-interacting\n",
      "   1        0       1        0.31     52.7   1.79s  \n",
      "   2        0       2       -0.52     47.2   1.55s  \n",
      "   3        0       3       -2.40     41.8   1.42s  \n",
      "   4        0       4       -4.46     29.9   1.13s  \n",
      "   5        0       5       -6.46     17.6   799ms  \n",
      "   6        0       6       -8.92      4.0   453ms  \n",
      "   7        1       1       -7.83     55.8   2.12s  Restart\n",
      "   8        1       2       -9.01      5.5   478ms  \n",
      "                                      72.8   2.15s  Final orbitals\n",
      "Iter  Restart  Krydim  log10(res)  avg(CG)  Δtime   Comment\n",
      "----  -------  ------  ----------  -------  ------  ---------------\n",
      "                                      73.0   1.97s  Non-interacting\n",
      "   1        0       1        0.31     52.7   1.81s  \n",
      "   2        0       2       -0.52     47.2   1.56s  \n",
      "   3        0       3       -2.40     41.8   1.43s  \n",
      "   4        0       4       -4.46     29.9   1.12s  \n",
      "   5        0       5       -6.46     17.6   785ms  \n",
      "   6        0       6       -8.92      4.0   431ms  \n",
      "   7        1       1       -7.83     55.8   2.98s  Restart\n",
      "   8        1       2       -9.01      5.5   448ms  \n",
      "                                      72.8   2.08s  Final orbitals\n",
      "Iter  Restart  Krydim  log10(res)  avg(CG)  Δtime   Comment\n",
      "----  -------  ------  ----------  -------  ------  ---------------\n",
      "                                      72.9   2.00s  Non-interacting\n",
      "   1        0       1        0.31     52.7   1.83s  \n",
      "   2        0       2       -0.52     47.2   1.58s  \n",
      "   3        0       3       -2.40     41.8   1.45s  \n",
      "   4        0       4       -4.46     29.9   1.13s  \n",
      "   5        0       5       -6.46     17.6   800ms  \n",
      "   6        0       6       -8.92      4.0   440ms  \n",
      "   7        1       1       -7.83     55.8   2.14s  Restart\n",
      "   8        1       2       -9.01      5.5   490ms  \n",
      "                                      72.8   2.13s  Final orbitals\n",
      "121.561552 seconds (151.26 M allocations: 82.844 GiB, 6.57% gc time, 24.65% compilation time)\n"
     ]
    }
   ],
   "cell_type": "code",
   "source": [
    "scfres = DFTK.unfold_bz(scfres)\n",
    "phret_q0 = @time DFTK.phonon_modes(scfres; q=[0.25, 0.25, 0.25]);\n",
    "nothing  # hide"
   ],
   "metadata": {},
   "execution_count": 2
  },
  {
   "cell_type": "markdown",
   "source": [
    "These are the final phonon frequencies:"
   ],
   "metadata": {}
  },
  {
   "outputs": [
    {
     "output_type": "execute_result",
     "data": {
      "text/plain": "6-element Vector{Float64}:\n -0.003498155370395767\n -0.0029774511719160538\n -0.0029774511704598384\n  0.0043022306135756935\n  0.004302230614478071\n  0.004353201749370584"
     },
     "metadata": {},
     "execution_count": 3
    }
   ],
   "cell_type": "code",
   "source": [
    "phret_q0.frequencies"
   ],
   "metadata": {},
   "execution_count": 3
  }
 ],
 "nbformat_minor": 3,
 "metadata": {
  "language_info": {
   "file_extension": ".jl",
   "mimetype": "application/julia",
   "name": "julia",
   "version": "1.12.0"
  },
  "kernelspec": {
   "name": "julia-1.12",
   "display_name": "Julia 1.12.0",
   "language": "julia"
  }
 },
 "nbformat": 4
}
