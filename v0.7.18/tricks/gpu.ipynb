{
 "cells": [
  {
   "cell_type": "markdown",
   "source": [
    "# Using DFTK on GPUs\n",
    "\n",
    "In this example we will look how DFTK can be used on\n",
    "Graphics Processing Units.\n",
    "In its current state runs based on Nvidia GPUs\n",
    "using the [CUDA.jl](https://github.com/JuliaGPU/CUDA.jl) Julia\n",
    "package are better supported and there are considerably less rough\n",
    "edges.\n",
    "\n",
    "> **GPU parallelism not supported everywhere**\n",
    ">\n",
    "> GPU support is still a relatively new feature in DFTK.\n",
    "> While basic SCF computations and e.g. forces are supported,\n",
    "> this is not yet the case for all parts of the code.\n",
    "> In most cases there is no intrinsic limitation and typically it only takes\n",
    "> minor code modification to make it work on GPUs.\n",
    "> If you require GPU support in one of our routines, where this is not\n",
    "> yet supported, feel free to open an issue on github or otherwise get in touch."
   ],
   "metadata": {}
  },
  {
   "outputs": [],
   "cell_type": "code",
   "source": [
    "using AtomsBuilder\n",
    "using DFTK\n",
    "using PseudoPotentialData"
   ],
   "metadata": {},
   "execution_count": 1
  },
  {
   "cell_type": "markdown",
   "source": [
    "**Model setup.** First step is to setup a `Model` in DFTK.\n",
    "This proceeds exactly as in the standard CPU case\n",
    "(see also our Tutorial)."
   ],
   "metadata": {}
  },
  {
   "outputs": [],
   "cell_type": "code",
   "source": [
    "silicon = bulk(:Si)\n",
    "\n",
    "model  = model_DFT(silicon;\n",
    "                   functionals=PBE(),\n",
    "                   pseudopotentials=PseudoFamily(\"dojo.nc.sr.pbe.v0_4_1.standard.upf\"))\n",
    "nothing  # hide"
   ],
   "metadata": {},
   "execution_count": 2
  },
  {
   "cell_type": "markdown",
   "source": [
    "Next is the selection of the computational architecture.\n",
    "This effectively makes the choice, whether the computation will be run\n",
    "on the CPU or on a GPU.\n",
    "\n",
    "**Nvidia GPUs.**\n",
    "Supported via [CUDA.jl](https://github.com/JuliaGPU/CUDA.jl).\n",
    "If you install the CUDA package, all required Nvidia cuda libraries\n",
    "will be automatically downloaded. So literally, the only thing\n",
    "you have to do is:"
   ],
   "metadata": {}
  },
  {
   "outputs": [
    {
     "output_type": "execute_result",
     "data": {
      "text/plain": "DFTK.GPU{CUDA.CuArray}()"
     },
     "metadata": {},
     "execution_count": 3
    }
   ],
   "cell_type": "code",
   "source": [
    "using CUDA\n",
    "architecture = DFTK.GPU(CuArray)"
   ],
   "metadata": {},
   "execution_count": 3
  },
  {
   "cell_type": "markdown",
   "source": [
    "**AMD GPUs.** Supported via [AMDGPU.jl](https://github.com/JuliaGPU/AMDGPU.jl).\n",
    "Here you need to [install ROCm](https://rocm.docs.amd.com/) manually.\n",
    "With that in place you can then select:"
   ],
   "metadata": {}
  },
  {
   "outputs": [
    {
     "output_type": "execute_result",
     "data": {
      "text/plain": "DFTK.GPU{AMDGPU.ROCArray}()"
     },
     "metadata": {},
     "execution_count": 4
    }
   ],
   "cell_type": "code",
   "source": [
    "using AMDGPU\n",
    "architecture = DFTK.GPU(ROCArray)"
   ],
   "metadata": {},
   "execution_count": 4
  },
  {
   "cell_type": "markdown",
   "source": [
    "**Portable architecture selection.**\n",
    "To make sure this script runs on the github CI (where we don't have GPUs\n",
    "available) we check for the availability of GPUs before selecting an\n",
    "architecture:"
   ],
   "metadata": {}
  },
  {
   "outputs": [
    {
     "output_type": "execute_result",
     "data": {
      "text/plain": "DFTK.CPU()"
     },
     "metadata": {},
     "execution_count": 5
    }
   ],
   "cell_type": "code",
   "source": [
    "architecture = has_cuda() ? DFTK.GPU(CuArray) : DFTK.CPU()"
   ],
   "metadata": {},
   "execution_count": 5
  },
  {
   "cell_type": "markdown",
   "source": [
    "**Basis and SCF.**\n",
    "Based on the `architecture` we construct a `PlaneWaveBasis` object\n",
    "as usual:"
   ],
   "metadata": {}
  },
  {
   "outputs": [],
   "cell_type": "code",
   "source": [
    "basis  = PlaneWaveBasis(model; Ecut=30, kgrid=(5, 5, 5), architecture)\n",
    "nothing  # hide"
   ],
   "metadata": {},
   "execution_count": 6
  },
  {
   "cell_type": "markdown",
   "source": [
    "... and run the SCF and some post-processing:"
   ],
   "metadata": {}
  },
  {
   "outputs": [
    {
     "name": "stdout",
     "output_type": "stream",
     "text": [
      "n     Energy            log10(ΔE)   log10(Δρ)   Diag   Δtime\n",
      "---   ---------------   ---------   ---------   ----   ------\n",
      "  1   -8.457716916113                   -0.94    5.3    10.2s\n",
      "  2   -8.459884929322       -2.66       -1.79    1.0    4.45s\n",
      "  3   -8.460051573075       -3.78       -2.91    2.2    422ms\n",
      "  4   -8.460064811490       -4.88       -3.30    3.4    550ms\n",
      "  5   -8.460064903370       -7.04       -3.77    1.2    333ms\n",
      "  6   -8.460064914559       -7.95       -4.90    1.2    333ms\n",
      "  7   -8.460064915245       -9.16       -5.14    3.1    515ms\n",
      "  8   -8.460064915265      -10.70       -6.37    1.1    325ms\n"
     ]
    },
    {
     "output_type": "execute_result",
     "data": {
      "text/plain": "2-element Vector{StaticArraysCore.SVector{3, Float64}}:\n [-1.2798421890268202e-14, -1.4419877147756355e-14, -1.7546116197580747e-14]\n [1.6412941893813683e-14, 1.669014367798332e-14, 1.7254041816394855e-14]"
     },
     "metadata": {},
     "execution_count": 7
    }
   ],
   "cell_type": "code",
   "source": [
    "scfres = self_consistent_field(basis; tol=1e-6)\n",
    "compute_forces(scfres)"
   ],
   "metadata": {},
   "execution_count": 7
  },
  {
   "cell_type": "markdown",
   "source": [
    "> **GPU performance**\n",
    ">\n",
    "> Our current (May 2025) benchmarks show DFTK to have reasonable performance\n",
    "> on Nvidia / CUDA GPUs with up to a 100-fold speed-up over single-threaded\n",
    "> CPU execution. However, support on AMD GPUs has been less benchmarked and\n",
    "> there are likely rough edges. Since GPU support in DFTK is relatively new\n",
    "> we appreciate any experience reports or bug reports."
   ],
   "metadata": {}
  }
 ],
 "nbformat_minor": 3,
 "metadata": {
  "language_info": {
   "file_extension": ".jl",
   "mimetype": "application/julia",
   "name": "julia",
   "version": "1.12.0"
  },
  "kernelspec": {
   "name": "julia-1.12",
   "display_name": "Julia 1.12.0",
   "language": "julia"
  }
 },
 "nbformat": 4
}
