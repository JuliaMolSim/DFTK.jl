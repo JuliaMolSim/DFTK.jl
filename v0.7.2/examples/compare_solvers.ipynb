{
 "cells": [
  {
   "cell_type": "markdown",
   "source": [
    "# Comparison of DFT solvers"
   ],
   "metadata": {}
  },
  {
   "cell_type": "markdown",
   "source": [
    "We compare four different approaches for solving the DFT minimisation problem,\n",
    "namely a density-based SCF, a potential-based SCF, direct minimisation and Newton."
   ],
   "metadata": {}
  },
  {
   "cell_type": "markdown",
   "source": [
    "First we setup our problem"
   ],
   "metadata": {}
  },
  {
   "outputs": [
    {
     "output_type": "execute_result",
     "data": {
      "text/plain": "1.0e-6"
     },
     "metadata": {},
     "execution_count": 1
    }
   ],
   "cell_type": "code",
   "source": [
    "using AtomsBuilder\n",
    "using DFTK\n",
    "using LinearAlgebra\n",
    "using PseudoPotentialData\n",
    "\n",
    "pseudopotentials = PseudoFamily(\"dojo.nc.sr.pbesol.v0_4_1.oncvpsp3.standard.upf\")\n",
    "model = model_DFT(bulk(:Si); functionals=PBEsol(), pseudopotentials)\n",
    "basis = PlaneWaveBasis(model; Ecut=5, kgrid=[3, 3, 3])\n",
    "\n",
    "# Convergence we desire in the density\n",
    "tol = 1e-6"
   ],
   "metadata": {},
   "execution_count": 1
  },
  {
   "cell_type": "markdown",
   "source": [
    "## Density-based self-consistent field"
   ],
   "metadata": {}
  },
  {
   "outputs": [
    {
     "name": "stdout",
     "output_type": "stream",
     "text": [
      "n     Energy            log10(ΔE)   log10(Δρ)   Diag   Δtime\n",
      "---   ---------------   ---------   ---------   ----   ------\n",
      "  1   -8.397835393820                   -0.90    5.2   26.3ms\n",
      "  2   -8.400233952942       -2.62       -1.74    1.0   41.1ms\n",
      "  3   -8.400405678669       -3.77       -2.97    1.5   20.0ms\n",
      "  4   -8.400428711835       -4.64       -2.96    3.5   25.3ms\n",
      "  5   -8.400428787220       -7.12       -3.01    1.0   18.8ms\n",
      "  6   -8.400429017826       -6.64       -4.63    1.0   18.9ms\n",
      "  7   -8.400429023927       -8.21       -4.42    2.2   38.6ms\n",
      "  8   -8.400429024354       -9.37       -4.86    1.0   19.4ms\n",
      "  9   -8.400429024417      -10.20       -6.31    1.0   19.2ms\n"
     ]
    }
   ],
   "cell_type": "code",
   "source": [
    "scfres_scf = self_consistent_field(basis; tol);"
   ],
   "metadata": {},
   "execution_count": 2
  },
  {
   "cell_type": "markdown",
   "source": [
    "## Potential-based SCF"
   ],
   "metadata": {}
  },
  {
   "outputs": [
    {
     "name": "stdout",
     "output_type": "stream",
     "text": [
      "n     Energy            log10(ΔE)   log10(Δρ)   α      Diag   Δtime\n",
      "---   ---------------   ---------   ---------   ----   ----   ------\n",
      "  1   -8.397828904980                   -0.90           5.5    469ms\n",
      "  2   -8.400386908637       -2.59       -1.79   0.80    2.0    546ms\n",
      "  3   -8.400423419600       -4.44       -3.05   0.80    1.0    174ms\n",
      "  4   -8.400428985456       -5.25       -3.41   0.80    2.5   21.0ms\n",
      "  5   -8.400429021810       -7.44       -4.55   0.80    1.2   16.6ms\n",
      "  6   -8.400429024385       -8.59       -5.69   0.80    2.2   19.9ms\n",
      "  7   -8.400429024420      -10.45       -6.35   0.80    3.2   22.3ms\n"
     ]
    }
   ],
   "cell_type": "code",
   "source": [
    "scfres_scfv = DFTK.scf_potential_mixing(basis; tol);"
   ],
   "metadata": {},
   "execution_count": 3
  },
  {
   "cell_type": "markdown",
   "source": [
    "## Direct minimization"
   ],
   "metadata": {}
  },
  {
   "outputs": [
    {
     "name": "stdout",
     "output_type": "stream",
     "text": [
      "n     Energy            log10(ΔE)   log10(Δρ)   Δtime\n",
      "---   ---------------   ---------   ---------   ------\n",
      "  1   +0.795511903617                   -1.04    2.83s\n",
      "  2   -1.771030668195        0.41       -0.67    111ms\n",
      "  3   -3.713049252149        0.29       -0.39   39.2ms\n",
      "  4   -4.706567883807       -0.00       -0.45   66.1ms\n",
      "  5   -6.444802619533        0.24       -0.53   39.0ms\n",
      "  6   -7.426841501136       -0.01       -0.72   38.9ms\n",
      "  7   -7.594715307324       -0.78       -1.28   28.9ms\n",
      "  8   -8.120954287068       -0.28       -1.39   47.1ms\n",
      "  9   -8.177483465506       -1.25       -1.62   29.0ms\n",
      " 10   -8.280635168351       -0.99       -1.42   39.0ms\n",
      " 11   -8.319235595240       -1.41       -1.59   49.7ms\n",
      " 12   -8.352367537235       -1.48       -2.02   33.2ms\n",
      " 13   -8.370923500937       -1.73       -2.52   28.8ms\n",
      " 14   -8.382256485294       -1.95       -2.51   28.8ms\n",
      " 15   -8.390075777938       -2.11       -2.60   32.1ms\n",
      " 16   -8.394105133244       -2.39       -3.11   29.1ms\n",
      " 17   -8.394627012809       -3.28       -3.47   39.5ms\n",
      " 18   -8.394821241881       -3.71       -2.80   42.4ms\n",
      " 19   -8.395167822732       -3.46       -2.62   42.2ms\n",
      " 20   -8.396706556557       -2.81       -2.88   28.9ms\n",
      " 21   -8.399265784576       -2.59       -3.18   28.8ms\n",
      " 22   -8.399978602030       -3.15       -3.37   32.0ms\n",
      " 23   -8.400247296563       -3.57       -3.40   28.7ms\n",
      " 24   -8.400334383384       -4.06       -3.82   32.2ms\n",
      " 25   -8.400374704445       -4.39       -3.66   29.4ms\n",
      " 26   -8.400414853705       -4.40       -4.15   29.3ms\n",
      " 27   -8.400420723971       -5.23       -3.74   32.2ms\n",
      " 28   -8.400427110061       -5.19       -4.17   28.9ms\n",
      " 29   -8.400427211847       -6.99       -4.24   32.9ms\n",
      " 30   -8.400428644411       -5.84       -4.45   29.1ms\n",
      " 31   -8.400428820770       -6.75       -4.92   28.9ms\n",
      " 32   -8.400428967365       -6.83       -5.42   32.1ms\n",
      " 33   -8.400428981385       -7.85       -5.50   29.1ms\n",
      " 34   -8.400429006841       -7.59       -5.50   33.5ms\n",
      " 35   -8.400429013956       -8.15       -5.64   28.9ms\n",
      " 36   -8.400429021637       -8.11       -6.58   28.7ms\n"
     ]
    }
   ],
   "cell_type": "code",
   "source": [
    "scfres_dm = direct_minimization(basis; tol);"
   ],
   "metadata": {},
   "execution_count": 4
  },
  {
   "cell_type": "markdown",
   "source": [
    "## Newton algorithm"
   ],
   "metadata": {}
  },
  {
   "cell_type": "markdown",
   "source": [
    "Start not too far from the solution to ensure convergence:\n",
    "We run first a very crude SCF to get close and then switch to Newton."
   ],
   "metadata": {}
  },
  {
   "outputs": [
    {
     "name": "stdout",
     "output_type": "stream",
     "text": [
      "n     Energy            log10(ΔE)   log10(Δρ)   Diag   Δtime\n",
      "---   ---------------   ---------   ---------   ----   ------\n",
      "  1   -8.397816659995                   -0.90    5.2   26.6ms\n"
     ]
    }
   ],
   "cell_type": "code",
   "source": [
    "scfres_start = self_consistent_field(basis; tol=0.5);"
   ],
   "metadata": {},
   "execution_count": 5
  },
  {
   "cell_type": "markdown",
   "source": [
    "Remove the virtual orbitals (which Newton cannot treat yet)"
   ],
   "metadata": {}
  },
  {
   "outputs": [
    {
     "name": "stdout",
     "output_type": "stream",
     "text": [
      "n     Energy            log10(ΔE)   log10(Δρ)   Δtime\n",
      "---   ---------------   ---------   ---------   ------\n",
      "  1   -8.400428843177                   -1.78    25.2s\n",
      "  2   -8.400429024420       -6.74       -4.02    2.28s\n",
      "  3   -8.400429024420      -14.45       -7.80    126ms\n"
     ]
    }
   ],
   "cell_type": "code",
   "source": [
    "ψ = DFTK.select_occupied_orbitals(basis, scfres_start.ψ, scfres_start.occupation).ψ\n",
    "scfres_newton = newton(basis, ψ; tol);"
   ],
   "metadata": {},
   "execution_count": 6
  },
  {
   "cell_type": "markdown",
   "source": [
    "## Comparison of results"
   ],
   "metadata": {}
  },
  {
   "outputs": [
    {
     "name": "stdout",
     "output_type": "stream",
     "text": [
      "|ρ_newton - ρ_scf|  = 1.1795282597072996e-6\n",
      "|ρ_newton - ρ_scfv| = 1.430851510398848e-7\n",
      "|ρ_newton - ρ_dm|   = 3.1170757848405248e-6\n"
     ]
    }
   ],
   "cell_type": "code",
   "source": [
    "println(\"|ρ_newton - ρ_scf|  = \", norm(scfres_newton.ρ - scfres_scf.ρ))\n",
    "println(\"|ρ_newton - ρ_scfv| = \", norm(scfres_newton.ρ - scfres_scfv.ρ))\n",
    "println(\"|ρ_newton - ρ_dm|   = \", norm(scfres_newton.ρ - scfres_dm.ρ))"
   ],
   "metadata": {},
   "execution_count": 7
  }
 ],
 "nbformat_minor": 3,
 "metadata": {
  "language_info": {
   "file_extension": ".jl",
   "mimetype": "application/julia",
   "name": "julia",
   "version": "1.11.2"
  },
  "kernelspec": {
   "name": "julia-1.11",
   "display_name": "Julia 1.11.2",
   "language": "julia"
  }
 },
 "nbformat": 4
}
