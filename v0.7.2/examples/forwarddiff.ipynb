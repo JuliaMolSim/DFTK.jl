{
 "cells": [
  {
   "cell_type": "markdown",
   "source": [
    "# Polarizability using automatic differentiation\n",
    "\n",
    "Simple example for computing properties using (forward-mode)\n",
    "automatic differentiation.\n",
    "For a more classical approach and more details about computing polarizabilities,\n",
    "see Polarizability by linear response."
   ],
   "metadata": {}
  },
  {
   "outputs": [],
   "cell_type": "code",
   "source": [
    "using DFTK\n",
    "using LinearAlgebra\n",
    "using ForwardDiff\n",
    "\n",
    "# Construct PlaneWaveBasis given a particular electric field strength\n",
    "# Again we take the example of a Helium atom.\n",
    "function make_basis(ε::T; a=10., Ecut=30) where {T}\n",
    "    lattice=T(a) * I(3)  # lattice is a cube of $a$ Bohrs\n",
    "    # Helium at the center of the box\n",
    "    atoms     = [ElementPsp(:He, load_psp(\"hgh/lda/He-q2\"))]\n",
    "    positions = [[1/2, 1/2, 1/2]]\n",
    "\n",
    "    model = model_DFT(lattice, atoms, positions;\n",
    "                      functionals=[:lda_x, :lda_c_vwn],\n",
    "                      extra_terms=[ExternalFromReal(r -> -ε * (r[1] - a/2))],\n",
    "                      symmetries=false)\n",
    "    PlaneWaveBasis(model; Ecut, kgrid=[1, 1, 1])  # No k-point sampling on isolated system\n",
    "end\n",
    "\n",
    "# dipole moment of a given density (assuming the current geometry)\n",
    "function dipole(basis, ρ)\n",
    "    @assert isdiag(basis.model.lattice)\n",
    "    a  = basis.model.lattice[1, 1]\n",
    "    rr = [a * (r[1] - 1/2) for r in r_vectors(basis)]\n",
    "    sum(rr .* ρ) * basis.dvol\n",
    "end\n",
    "\n",
    "# Function to compute the dipole for a given field strength\n",
    "function compute_dipole(ε; tol=1e-8, kwargs...)\n",
    "    scfres = self_consistent_field(make_basis(ε; kwargs...); tol)\n",
    "    dipole(scfres.basis, scfres.ρ)\n",
    "end;"
   ],
   "metadata": {},
   "execution_count": 1
  },
  {
   "cell_type": "markdown",
   "source": [
    "With this in place we can compute the polarizability from finite differences\n",
    "(just like in the previous example):"
   ],
   "metadata": {}
  },
  {
   "outputs": [
    {
     "name": "stdout",
     "output_type": "stream",
     "text": [
      "n     Energy            log10(ΔE)   log10(Δρ)   Diag   Δtime\n",
      "---   ---------------   ---------   ---------   ----   ------\n",
      "  1   -2.770766952492                   -0.53    9.0    190ms\n",
      "  2   -2.772142252305       -2.86       -1.30    1.0    106ms\n",
      "  3   -2.772170178242       -4.55       -2.60    1.0    120ms\n",
      "  4   -2.772170710556       -6.27       -3.59    2.0    125ms\n",
      "  5   -2.772170722456       -7.92       -4.16    1.0    114ms\n",
      "  6   -2.772170722961       -9.30       -4.98    1.0    129ms\n",
      "  7   -2.772170723014      -10.28       -5.45    2.0    139ms\n",
      "  8   -2.772170723015      -12.08       -6.23    1.0    123ms\n",
      "  9   -2.772170723015      -13.70       -6.98    1.0    124ms\n",
      " 10   -2.772170723015      -14.75       -7.59    2.0    188ms\n",
      " 11   -2.772170723015      -14.27       -8.61    1.0    541ms\n",
      "n     Energy            log10(ΔE)   log10(Δρ)   Diag   Δtime\n",
      "---   ---------------   ---------   ---------   ----   ------\n",
      "  1   -2.770884876566                   -0.53    9.0    223ms\n",
      "  2   -2.772060344483       -2.93       -1.32    1.0    107ms\n",
      "  3   -2.772083174124       -4.64       -2.52    1.0    122ms\n",
      "  4   -2.772083371239       -6.71       -3.32    1.0    110ms\n",
      "  5   -2.772083414247       -7.37       -3.76    2.0    134ms\n",
      "  6   -2.772083417686       -8.46       -4.75    1.0    114ms\n",
      "  7   -2.772083417806       -9.92       -5.19    2.0    135ms\n",
      "  8   -2.772083417810      -11.41       -5.95    1.0    121ms\n",
      "  9   -2.772083417811      -12.36       -6.99    2.0    140ms\n",
      " 10   -2.772083417811      -14.07       -7.26    1.0    123ms\n",
      " 11   -2.772083417811   +  -14.12       -7.79    1.0    126ms\n",
      " 12   -2.772083417811   +  -14.10       -9.07    1.0    125ms\n"
     ]
    },
    {
     "output_type": "execute_result",
     "data": {
      "text/plain": "1.773557997262529"
     },
     "metadata": {},
     "execution_count": 2
    }
   ],
   "cell_type": "code",
   "source": [
    "polarizability_fd = let\n",
    "    ε = 0.01\n",
    "    (compute_dipole(ε) - compute_dipole(0.0)) / ε\n",
    "end"
   ],
   "metadata": {},
   "execution_count": 2
  },
  {
   "cell_type": "markdown",
   "source": [
    "We do the same thing using automatic differentiation. Under the hood this uses\n",
    "custom rules to implicitly differentiate through the self-consistent\n",
    "field fixed-point problem."
   ],
   "metadata": {}
  },
  {
   "outputs": [
    {
     "name": "stdout",
     "output_type": "stream",
     "text": [
      "n     Energy            log10(ΔE)   log10(Δρ)   Diag   Δtime\n",
      "---   ---------------   ---------   ---------   ----   ------\n",
      "  1   -2.770766232806                   -0.52    9.0    186ms\n",
      "  2   -2.772059915207       -2.89       -1.33    1.0    121ms\n",
      "  3   -2.772082874017       -4.64       -2.41    1.0    111ms\n",
      "  4   -2.772083337409       -6.33       -3.11    1.0    116ms\n",
      "  5   -2.772083417677       -7.10       -4.76    2.0    131ms\n",
      "  6   -2.772083417808       -9.88       -4.94    2.0    134ms\n",
      "  7   -2.772083417809      -11.98       -5.55    1.0    120ms\n",
      "  8   -2.772083417811      -11.75       -6.44    2.0    598ms\n",
      "  9   -2.772083417811      -13.56       -7.33    1.0    114ms\n",
      " 10   -2.772083417811      -14.40       -7.69    1.0    118ms\n",
      " 11   -2.772083417811   +  -13.94       -8.19    2.0    161ms\n",
      "\n",
      "Polarizability via ForwardDiff:       1.7725349676481679\n",
      "Polarizability via finite difference: 1.773557997262529\n"
     ]
    }
   ],
   "cell_type": "code",
   "source": [
    "polarizability = ForwardDiff.derivative(compute_dipole, 0.0)\n",
    "println()\n",
    "println(\"Polarizability via ForwardDiff:       $polarizability\")\n",
    "println(\"Polarizability via finite difference: $polarizability_fd\")"
   ],
   "metadata": {},
   "execution_count": 3
  }
 ],
 "nbformat_minor": 3,
 "metadata": {
  "language_info": {
   "file_extension": ".jl",
   "mimetype": "application/julia",
   "name": "julia",
   "version": "1.11.2"
  },
  "kernelspec": {
   "name": "julia-1.11",
   "display_name": "Julia 1.11.2",
   "language": "julia"
  }
 },
 "nbformat": 4
}
