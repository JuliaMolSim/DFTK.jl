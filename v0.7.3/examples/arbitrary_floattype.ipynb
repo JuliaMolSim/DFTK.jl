{
 "cells": [
  {
   "cell_type": "markdown",
   "source": [
    "# Arbitrary floating-point types\n",
    "\n",
    "Since DFTK is completely generic in the floating-point type\n",
    "in its routines, there is no reason to perform the computation\n",
    "using double-precision arithmetic (i.e.`Float64`).\n",
    "Other floating-point types such as `Float32` (single precision)\n",
    "are readily supported as well.\n",
    "On top of that we already reported[^HLC2020] calculations\n",
    "in DFTK using elevated precision\n",
    "from [DoubleFloats.jl](https://github.com/JuliaMath/DoubleFloats.jl)\n",
    "or interval arithmetic\n",
    "using [IntervalArithmetic.jl](https://github.com/JuliaIntervals/IntervalArithmetic.jl).\n",
    "In this example, however, we will concentrate on single-precision\n",
    "computations with `Float32`.\n",
    "\n",
    "The setup of such a reduced-precision calculation is basically identical\n",
    "to the regular case, since Julia automatically compiles all routines\n",
    "of DFTK at the precision, which is used for the lattice vectors.\n",
    "Apart from setting up the model with an explicit cast of the lattice\n",
    "vectors to `Float32`, there is thus no change in user code required:\n",
    "\n",
    "[^HLC2020]:\n",
    "    M. F. Herbst, A. Levitt, E. Cancès.\n",
    "    *A posteriori error estimation for the non-self-consistent Kohn-Sham equations*\n",
    "    [ArXiv 2004.13549](https://arxiv.org/abs/2004.13549)"
   ],
   "metadata": {}
  },
  {
   "outputs": [
    {
     "name": "stdout",
     "output_type": "stream",
     "text": [
      "n     Energy            log10(ΔE)   log10(Δρ)   Diag   Δtime\n",
      "---   ---------------   ---------   ---------   ----   ------\n",
      "  1   -7.900546073914                   -0.70    4.5    53.4s\n",
      "  2   -7.905008792877       -2.35       -1.52    1.0    10.7s\n",
      "  3   -7.905180931091       -3.76       -2.52    1.1    1.39s\n",
      "  4   -7.905211448669       -4.52       -2.83    2.5   50.8ms\n",
      "  5   -7.905213356018       -5.72       -2.99    1.1   37.5ms\n",
      "  6   -7.905212879181   +   -6.32       -4.57    1.0   37.2ms\n"
     ]
    }
   ],
   "cell_type": "code",
   "source": [
    "using DFTK\n",
    "\n",
    "# Setup silicon lattice\n",
    "a = 10.263141334305942  # lattice constant in Bohr\n",
    "lattice = a / 2 .* [[0 1 1.]; [1 0 1.]; [1 1 0.]]\n",
    "Si = ElementPsp(:Si, load_psp(\"hgh/lda/Si-q4\"))\n",
    "atoms = [Si, Si]\n",
    "positions = [ones(3)/8, -ones(3)/8]\n",
    "\n",
    "# Cast to Float32, setup model and basis\n",
    "model = model_DFT(lattice, atoms, positions; functionals=LDA())\n",
    "basis = PlaneWaveBasis(convert(Model{Float32}, model), Ecut=7, kgrid=[4, 4, 4])\n",
    "\n",
    "# Run the SCF\n",
    "scfres = self_consistent_field(basis, tol=1e-3);"
   ],
   "metadata": {},
   "execution_count": 1
  },
  {
   "cell_type": "markdown",
   "source": [
    "To check the calculation has really run in Float32,\n",
    "we check the energies and density are expressed in this floating-point type:"
   ],
   "metadata": {}
  },
  {
   "outputs": [
    {
     "output_type": "execute_result",
     "data": {
      "text/plain": "Energy breakdown (in Ha):\n    Kinetic             3.1021366 \n    AtomicLocal         -2.1988573\n    AtomicNonlocal      1.7295851 \n    Ewald               -8.3978958\n    PspCorrection       -0.2946220\n    Hartree             0.5530636 \n    Xc                  -2.3986230\n\n    total               -7.905212879181"
     },
     "metadata": {},
     "execution_count": 2
    }
   ],
   "cell_type": "code",
   "source": [
    "scfres.energies"
   ],
   "metadata": {},
   "execution_count": 2
  },
  {
   "outputs": [
    {
     "output_type": "execute_result",
     "data": {
      "text/plain": "Float32"
     },
     "metadata": {},
     "execution_count": 3
    }
   ],
   "cell_type": "code",
   "source": [
    "eltype(scfres.energies.total)"
   ],
   "metadata": {},
   "execution_count": 3
  },
  {
   "outputs": [
    {
     "output_type": "execute_result",
     "data": {
      "text/plain": "Float32"
     },
     "metadata": {},
     "execution_count": 4
    }
   ],
   "cell_type": "code",
   "source": [
    "eltype(scfres.ρ)"
   ],
   "metadata": {},
   "execution_count": 4
  },
  {
   "cell_type": "markdown",
   "source": [
    "> **Generic linear algebra routines**\n",
    ">\n",
    "> For more unusual floating-point types (like IntervalArithmetic or DoubleFloats),\n",
    "> which are not directly supported in the standard `LinearAlgebra` and `FFTW`\n",
    "> libraries one additional step is required: One needs to explicitly enable the generic\n",
    "> versions of standard linear-algebra operations like `cholesky` or `qr` or standard\n",
    "> `fft` operations, which DFTK requires. THis is done by loading the\n",
    "> `GenericLinearAlgebra` package in the user script\n",
    "> (i.e. just add ad `using GenericLinearAlgebra` next to your `using DFTK` call)."
   ],
   "metadata": {}
  }
 ],
 "nbformat_minor": 3,
 "metadata": {
  "language_info": {
   "file_extension": ".jl",
   "mimetype": "application/julia",
   "name": "julia",
   "version": "1.11.2"
  },
  "kernelspec": {
   "name": "julia-1.11",
   "display_name": "Julia 1.11.2",
   "language": "julia"
  }
 },
 "nbformat": 4
}
