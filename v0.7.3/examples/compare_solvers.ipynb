{
 "cells": [
  {
   "cell_type": "markdown",
   "source": [
    "# Comparison of DFT solvers"
   ],
   "metadata": {}
  },
  {
   "cell_type": "markdown",
   "source": [
    "We compare four different approaches for solving the DFT minimisation problem,\n",
    "namely a density-based SCF, a potential-based SCF, direct minimisation and Newton."
   ],
   "metadata": {}
  },
  {
   "cell_type": "markdown",
   "source": [
    "First we setup our problem"
   ],
   "metadata": {}
  },
  {
   "outputs": [
    {
     "output_type": "execute_result",
     "data": {
      "text/plain": "1.0e-6"
     },
     "metadata": {},
     "execution_count": 1
    }
   ],
   "cell_type": "code",
   "source": [
    "using AtomsBuilder\n",
    "using DFTK\n",
    "using LinearAlgebra\n",
    "using PseudoPotentialData\n",
    "\n",
    "pseudopotentials = PseudoFamily(\"dojo.nc.sr.pbesol.v0_4_1.oncvpsp3.standard.upf\")\n",
    "model = model_DFT(bulk(:Si); functionals=PBEsol(), pseudopotentials)\n",
    "basis = PlaneWaveBasis(model; Ecut=5, kgrid=[3, 3, 3])\n",
    "\n",
    "# Convergence we desire in the density\n",
    "tol = 1e-6"
   ],
   "metadata": {},
   "execution_count": 1
  },
  {
   "cell_type": "markdown",
   "source": [
    "## Density-based self-consistent field"
   ],
   "metadata": {}
  },
  {
   "outputs": [
    {
     "name": "stdout",
     "output_type": "stream",
     "text": [
      "n     Energy            log10(ΔE)   log10(Δρ)   Diag   Δtime\n",
      "---   ---------------   ---------   ---------   ----   ------\n",
      "  1   -8.397813246189                   -0.90    5.0   26.1ms\n",
      "  2   -8.400251927236       -2.61       -1.74    1.0   41.0ms\n",
      "  3   -8.400407474207       -3.81       -2.95    1.5   20.1ms\n",
      "  4   -8.400428711779       -4.67       -2.99    3.0   24.1ms\n",
      "  5   -8.400428822234       -6.96       -3.06    1.0   18.8ms\n",
      "  6   -8.400429017986       -6.71       -4.61    1.0   18.7ms\n",
      "  7   -8.400429023993       -8.22       -4.46    2.5   38.6ms\n",
      "  8   -8.400429024396       -9.39       -5.24    1.0   19.3ms\n",
      "  9   -8.400429024418      -10.64       -6.28    1.5   20.5ms\n"
     ]
    }
   ],
   "cell_type": "code",
   "source": [
    "scfres_scf = self_consistent_field(basis; tol);"
   ],
   "metadata": {},
   "execution_count": 2
  },
  {
   "cell_type": "markdown",
   "source": [
    "## Potential-based SCF"
   ],
   "metadata": {}
  },
  {
   "outputs": [
    {
     "name": "stdout",
     "output_type": "stream",
     "text": [
      "n     Energy            log10(ΔE)   log10(Δρ)   α      Diag   Δtime\n",
      "---   ---------------   ---------   ---------   ----   ----   ------\n",
      "  1   -8.397862365247                   -0.90           5.2    503ms\n",
      "  2   -8.400385905432       -2.60       -1.79   0.80    2.0    503ms\n",
      "  3   -8.400423698494       -4.42       -3.03   0.80    1.0    173ms\n",
      "  4   -8.400428984324       -5.28       -3.41   0.80    2.5   20.4ms\n",
      "  5   -8.400429021841       -7.43       -4.43   0.80    1.2   16.6ms\n",
      "  6   -8.400429024378       -8.60       -5.44   0.80    2.2   19.6ms\n",
      "  7   -8.400429024419      -10.38       -6.27   0.80    2.0   19.0ms\n"
     ]
    }
   ],
   "cell_type": "code",
   "source": [
    "scfres_scfv = DFTK.scf_potential_mixing(basis; tol);"
   ],
   "metadata": {},
   "execution_count": 3
  },
  {
   "cell_type": "markdown",
   "source": [
    "## Direct minimization"
   ],
   "metadata": {}
  },
  {
   "outputs": [
    {
     "name": "stdout",
     "output_type": "stream",
     "text": [
      "n     Energy            log10(ΔE)   log10(Δρ)   Δtime\n",
      "---   ---------------   ---------   ---------   ------\n",
      "  1   +0.604593747251                   -1.06    2.91s\n",
      "  2   -1.418072924455        0.31       -0.66    110ms\n",
      "  3   -3.859324213125        0.39       -0.40   68.6ms\n",
      "  4   -4.550784770540       -0.16       -0.49   39.9ms\n",
      "  5   -6.682372622957        0.33       -0.53   39.1ms\n",
      "  6   -7.477764944965       -0.10       -0.87   39.1ms\n",
      "  7   -7.835289067803       -0.45       -1.32   47.7ms\n",
      "  8   -8.166140891907       -0.48       -1.70   28.8ms\n",
      "  9   -8.263723756402       -1.01       -1.84   28.8ms\n",
      " 10   -8.327038718320       -1.20       -1.59   39.1ms\n",
      " 11   -8.366514919488       -1.40       -1.79   43.0ms\n",
      " 12   -8.380677535718       -1.85       -2.96   29.9ms\n",
      " 13   -8.384781402749       -2.39       -2.93   29.1ms\n",
      " 14   -8.389745400636       -2.30       -3.21   32.1ms\n",
      " 15   -8.390922865211       -2.93       -3.15   29.0ms\n",
      " 16   -8.392436654247       -2.82       -3.25   28.9ms\n",
      " 17   -8.392922401105       -3.31       -3.65   32.1ms\n",
      " 18   -8.393333543377       -3.39       -3.38   28.9ms\n",
      " 19   -8.393434274624       -4.00       -3.22   28.8ms\n",
      " 20   -8.393435743215       -5.83       -3.13   76.0ms\n",
      " 21   -8.393444268855       -5.07       -2.43   72.9ms\n",
      " 22   -8.393444370640       -6.99       -0.85    127ms\n",
      " 23   -8.393444370640   +    -Inf       -0.45    418ms\n",
      " 24   -8.393444370640   +    -Inf       -0.46    391ms\n",
      "┌ Warning: DM not converged.\n",
      "└ @ DFTK ~/work/DFTK.jl/DFTK.jl/src/scf/scf_callbacks.jl:60\n"
     ]
    }
   ],
   "cell_type": "code",
   "source": [
    "scfres_dm = direct_minimization(basis; tol);"
   ],
   "metadata": {},
   "execution_count": 4
  },
  {
   "cell_type": "markdown",
   "source": [
    "## Newton algorithm"
   ],
   "metadata": {}
  },
  {
   "cell_type": "markdown",
   "source": [
    "Start not too far from the solution to ensure convergence:\n",
    "We run first a very crude SCF to get close and then switch to Newton."
   ],
   "metadata": {}
  },
  {
   "outputs": [
    {
     "name": "stdout",
     "output_type": "stream",
     "text": [
      "n     Energy            log10(ΔE)   log10(Δρ)   Diag   Δtime\n",
      "---   ---------------   ---------   ---------   ----   ------\n",
      "  1   -8.397857091883                   -0.90    5.0   26.1ms\n"
     ]
    }
   ],
   "cell_type": "code",
   "source": [
    "scfres_start = self_consistent_field(basis; tol=0.5);"
   ],
   "metadata": {},
   "execution_count": 5
  },
  {
   "cell_type": "markdown",
   "source": [
    "Remove the virtual orbitals (which Newton cannot treat yet)"
   ],
   "metadata": {}
  },
  {
   "outputs": [
    {
     "name": "stdout",
     "output_type": "stream",
     "text": [
      "n     Energy            log10(ΔE)   log10(Δρ)   Δtime\n",
      "---   ---------------   ---------   ---------   ------\n",
      "  1   -8.400428854994                   -1.78    24.9s\n",
      "  2   -8.400429024420       -6.77       -4.03    2.86s\n",
      "  3   -8.400429024420      -14.27       -7.83    106ms\n"
     ]
    }
   ],
   "cell_type": "code",
   "source": [
    "ψ = DFTK.select_occupied_orbitals(basis, scfres_start.ψ, scfres_start.occupation).ψ\n",
    "scfres_newton = newton(basis, ψ; tol);"
   ],
   "metadata": {},
   "execution_count": 6
  },
  {
   "cell_type": "markdown",
   "source": [
    "## Comparison of results"
   ],
   "metadata": {}
  },
  {
   "outputs": [
    {
     "name": "stdout",
     "output_type": "stream",
     "text": [
      "|ρ_newton - ρ_scf|  = 1.0189292052508307e-6\n",
      "|ρ_newton - ρ_scfv| = 3.197711635440982e-7\n",
      "|ρ_newton - ρ_dm|   = 0.019961842918314248\n"
     ]
    }
   ],
   "cell_type": "code",
   "source": [
    "println(\"|ρ_newton - ρ_scf|  = \", norm(scfres_newton.ρ - scfres_scf.ρ))\n",
    "println(\"|ρ_newton - ρ_scfv| = \", norm(scfres_newton.ρ - scfres_scfv.ρ))\n",
    "println(\"|ρ_newton - ρ_dm|   = \", norm(scfres_newton.ρ - scfres_dm.ρ))"
   ],
   "metadata": {},
   "execution_count": 7
  }
 ],
 "nbformat_minor": 3,
 "metadata": {
  "language_info": {
   "file_extension": ".jl",
   "mimetype": "application/julia",
   "name": "julia",
   "version": "1.11.2"
  },
  "kernelspec": {
   "name": "julia-1.11",
   "display_name": "Julia 1.11.2",
   "language": "julia"
  }
 },
 "nbformat": 4
}
