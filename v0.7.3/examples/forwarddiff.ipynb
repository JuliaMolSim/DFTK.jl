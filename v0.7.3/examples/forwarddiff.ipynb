{
 "cells": [
  {
   "cell_type": "markdown",
   "source": [
    "# Polarizability using automatic differentiation\n",
    "\n",
    "Simple example for computing properties using (forward-mode)\n",
    "automatic differentiation.\n",
    "For a more classical approach and more details about computing polarizabilities,\n",
    "see Polarizability by linear response."
   ],
   "metadata": {}
  },
  {
   "outputs": [],
   "cell_type": "code",
   "source": [
    "using DFTK\n",
    "using LinearAlgebra\n",
    "using ForwardDiff\n",
    "\n",
    "# Construct PlaneWaveBasis given a particular electric field strength\n",
    "# Again we take the example of a Helium atom.\n",
    "function make_basis(ε::T; a=10., Ecut=30) where {T}\n",
    "    lattice=T(a) * I(3)  # lattice is a cube of $a$ Bohrs\n",
    "    # Helium at the center of the box\n",
    "    atoms     = [ElementPsp(:He, load_psp(\"hgh/lda/He-q2\"))]\n",
    "    positions = [[1/2, 1/2, 1/2]]\n",
    "\n",
    "    model = model_DFT(lattice, atoms, positions;\n",
    "                      functionals=[:lda_x, :lda_c_vwn],\n",
    "                      extra_terms=[ExternalFromReal(r -> -ε * (r[1] - a/2))],\n",
    "                      symmetries=false)\n",
    "    PlaneWaveBasis(model; Ecut, kgrid=[1, 1, 1])  # No k-point sampling on isolated system\n",
    "end\n",
    "\n",
    "# dipole moment of a given density (assuming the current geometry)\n",
    "function dipole(basis, ρ)\n",
    "    @assert isdiag(basis.model.lattice)\n",
    "    a  = basis.model.lattice[1, 1]\n",
    "    rr = [a * (r[1] - 1/2) for r in r_vectors(basis)]\n",
    "    sum(rr .* ρ) * basis.dvol\n",
    "end\n",
    "\n",
    "# Function to compute the dipole for a given field strength\n",
    "function compute_dipole(ε; tol=1e-8, kwargs...)\n",
    "    scfres = self_consistent_field(make_basis(ε; kwargs...); tol)\n",
    "    dipole(scfres.basis, scfres.ρ)\n",
    "end;"
   ],
   "metadata": {},
   "execution_count": 1
  },
  {
   "cell_type": "markdown",
   "source": [
    "With this in place we can compute the polarizability from finite differences\n",
    "(just like in the previous example):"
   ],
   "metadata": {}
  },
  {
   "outputs": [
    {
     "name": "stdout",
     "output_type": "stream",
     "text": [
      "n     Energy            log10(ΔE)   log10(Δρ)   Diag   Δtime\n",
      "---   ---------------   ---------   ---------   ----   ------\n",
      "  1   -2.770878751199                   -0.52    9.0    167ms\n",
      "  2   -2.772145046661       -2.90       -1.32    1.0    106ms\n",
      "  3   -2.772170512197       -4.59       -2.52    1.0    137ms\n",
      "  4   -2.772170684469       -6.76       -3.35    1.0    109ms\n",
      "  5   -2.772170721103       -7.44       -3.88    2.0    139ms\n",
      "  6   -2.772170722978       -8.73       -5.01    1.0    115ms\n",
      "  7   -2.772170723013      -10.45       -5.36    1.0    123ms\n",
      "  8   -2.772170723015      -11.74       -5.79    2.0    141ms\n",
      "  9   -2.772170723015      -12.89       -6.26    1.0    121ms\n",
      " 10   -2.772170723015      -13.32       -7.31    1.0    132ms\n",
      " 11   -2.772170723015   +  -13.78       -8.01    1.0    125ms\n",
      "n     Energy            log10(ΔE)   log10(Δρ)   Diag   Δtime\n",
      "---   ---------------   ---------   ---------   ----   ------\n",
      "  1   -2.770708851020                   -0.53    8.0    171ms\n",
      "  2   -2.772050106289       -2.87       -1.30    1.0    119ms\n",
      "  3   -2.772082539190       -4.49       -2.67    1.0    527ms\n",
      "  4   -2.772083411720       -6.06       -3.74    2.0    124ms\n",
      "  5   -2.772083417319       -8.25       -4.21    2.0    129ms\n",
      "  6   -2.772083417789       -9.33       -4.84    1.0    145ms\n",
      "  7   -2.772083417809      -10.69       -5.72    1.0    121ms\n",
      "  8   -2.772083417811      -11.74       -6.34    2.0    131ms\n",
      "  9   -2.772083417811      -13.49       -7.31    1.0    114ms\n",
      " 10   -2.772083417811   +  -14.21       -7.44    1.0    119ms\n",
      " 11   -2.772083417811   +  -14.51       -7.87    1.0    122ms\n",
      " 12   -2.772083417811   +  -14.21       -9.00    2.0    135ms\n"
     ]
    },
    {
     "output_type": "execute_result",
     "data": {
      "text/plain": "1.7735580431169493"
     },
     "metadata": {},
     "execution_count": 2
    }
   ],
   "cell_type": "code",
   "source": [
    "polarizability_fd = let\n",
    "    ε = 0.01\n",
    "    (compute_dipole(ε) - compute_dipole(0.0)) / ε\n",
    "end"
   ],
   "metadata": {},
   "execution_count": 2
  },
  {
   "cell_type": "markdown",
   "source": [
    "We do the same thing using automatic differentiation. Under the hood this uses\n",
    "custom rules to implicitly differentiate through the self-consistent\n",
    "field fixed-point problem."
   ],
   "metadata": {}
  },
  {
   "outputs": [
    {
     "name": "stdout",
     "output_type": "stream",
     "text": [
      "n     Energy            log10(ΔE)   log10(Δρ)   Diag   Δtime\n",
      "---   ---------------   ---------   ---------   ----   ------\n",
      "  1   -2.770800307436                   -0.52    9.0    198ms\n",
      "  2   -2.772062021875       -2.90       -1.32    1.0    121ms\n",
      "  3   -2.772083056422       -4.68       -2.45    1.0    551ms\n",
      "  4   -2.772083347159       -6.54       -3.15    1.0    108ms\n",
      "  5   -2.772083417605       -7.15       -4.28    2.0    131ms\n",
      "  6   -2.772083417736       -9.88       -4.65    1.0    114ms\n",
      "  7   -2.772083417810      -10.13       -5.72    1.0    135ms\n",
      "  8   -2.772083417811      -12.08       -6.85    1.0    118ms\n",
      "  9   -2.772083417811      -13.59       -7.28    2.0    133ms\n",
      " 10   -2.772083417811      -14.15       -7.73    1.0    121ms\n",
      " 11   -2.772083417811      -15.35       -8.57    1.0    125ms\n",
      "\n",
      "Polarizability via ForwardDiff:       1.7725349705022242\n",
      "Polarizability via finite difference: 1.7735580431169493\n"
     ]
    }
   ],
   "cell_type": "code",
   "source": [
    "polarizability = ForwardDiff.derivative(compute_dipole, 0.0)\n",
    "println()\n",
    "println(\"Polarizability via ForwardDiff:       $polarizability\")\n",
    "println(\"Polarizability via finite difference: $polarizability_fd\")"
   ],
   "metadata": {},
   "execution_count": 3
  }
 ],
 "nbformat_minor": 3,
 "metadata": {
  "language_info": {
   "file_extension": ".jl",
   "mimetype": "application/julia",
   "name": "julia",
   "version": "1.11.2"
  },
  "kernelspec": {
   "name": "julia-1.11",
   "display_name": "Julia 1.11.2",
   "language": "julia"
  }
 },
 "nbformat": 4
}
