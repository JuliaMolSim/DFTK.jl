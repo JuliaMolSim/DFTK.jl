{
 "cells": [
  {
   "cell_type": "markdown",
   "source": [
    "# Creating and modelling metallic supercells\n",
    "\n",
    "In this section we will be concerned with modelling supercells of aluminium.\n",
    "When dealing with periodic problems there is no unique definition of the\n",
    "lattice: Clearly any duplication of the lattice along an axis is also a valid\n",
    "repetitive unit to describe exactly the same system.\n",
    "This is exactly what a **supercell** is: An $n$-fold repetition along one (or multiple)\n",
    "axes of the original lattice.\n",
    "\n",
    "The following code achieves this for aluminium:"
   ],
   "metadata": {}
  },
  {
   "outputs": [],
   "cell_type": "code",
   "source": [
    "using AtomsBuilder\n",
    "using DFTK\n",
    "using LinearAlgebra\n",
    "using Unitful\n",
    "using UnitfulAtomic\n",
    "using PseudoPotentialData\n",
    "\n",
    "function aluminium_setup(repeat=1; Ecut=7.0, kgrid=[2, 2, 2])\n",
    "    # Use AtomsBuilder to setup aluminium cubic unit cell (4 Al atoms)\n",
    "    # with provided lattice constant, see AtomsBase integration for details.\n",
    "    unit_cell = bulk(:Al; a=7.65339u\"bohr\", cubic=true)\n",
    "    supercell = unit_cell * (repeat, 1, 1)  # Make a supercell\n",
    "\n",
    "    # Select standard pseudodojo pseudopotentials, construct an LDA model, discretize\n",
    "    # Note: We disable symmetries explicitly here. Otherwise the problem sizes\n",
    "    #       we are able to run on the CI are too simple to observe the numerical\n",
    "    #       instabilities we want to trigger here.\n",
    "    pseudopotentials = PseudoFamily(\"dojo.nc.sr.lda.v0_4_1.oncvpsp3.standard.upf\")\n",
    "    model = model_DFT(supercell; pseudopotentials, functionals=LDA(),\n",
    "                      temperature=1e-3, symmetries=false)\n",
    "    PlaneWaveBasis(model; Ecut, kgrid)\n",
    "end;"
   ],
   "metadata": {},
   "execution_count": 1
  },
  {
   "cell_type": "markdown",
   "source": [
    "As expected we obtain the unit cell for `repeat=1`:"
   ],
   "metadata": {}
  },
  {
   "outputs": [
    {
     "output_type": "execute_result",
     "data": {
      "text/plain": "PlaneWaveBasis discretization:\n    architecture         : DFTK.CPU()\n    num. mpi processes   : 1\n    num. julia threads   : 1\n    num. DFTK  threads   : 1\n    num. blas  threads   : 2\n    num. fft   threads   : 1\n\n    Ecut                 : 7.0 Ha\n    fft_size             : (24, 24, 24), 13824 total points\n    kgrid                : MonkhorstPack([2, 2, 2])\n    num.   red. kpoints  : 8\n    num. irred. kpoints  : 8\n\n    Discretized Model(lda_x+lda_c_pw, 3D):\n        lattice (in Bohr)    : [7.65339   , 0         , 0         ]\n                               [0         , 7.65339   , 0         ]\n                               [0         , 0         , 7.65339   ]\n        unit cell volume     : 448.29 Bohr³\n    \n        atoms                : Al₄\n        atom potentials      : ElementPsp(Al, \"/home/runner/.julia/artifacts/1ea71a84cf375286564538a9cab789991f4bf1f4/Al.upf\")\n                               ElementPsp(Al, \"/home/runner/.julia/artifacts/1ea71a84cf375286564538a9cab789991f4bf1f4/Al.upf\")\n                               ElementPsp(Al, \"/home/runner/.julia/artifacts/1ea71a84cf375286564538a9cab789991f4bf1f4/Al.upf\")\n                               ElementPsp(Al, \"/home/runner/.julia/artifacts/1ea71a84cf375286564538a9cab789991f4bf1f4/Al.upf\")\n    \n        num. electrons       : 12\n        spin polarization    : none\n        temperature          : 0.001 Ha\n        smearing             : DFTK.Smearing.FermiDirac()\n    \n        terms                : Kinetic()\n                               AtomicLocal()\n                               AtomicNonlocal()\n                               Ewald(nothing)\n                               PspCorrection()\n                               Hartree()\n                               Xc(lda_x, lda_c_pw)\n                               Entropy()"
     },
     "metadata": {},
     "execution_count": 2
    }
   ],
   "cell_type": "code",
   "source": [
    "aluminium_setup(1)"
   ],
   "metadata": {},
   "execution_count": 2
  },
  {
   "cell_type": "markdown",
   "source": [
    "and 5-fold as large supercell with `repeat=5`:"
   ],
   "metadata": {}
  },
  {
   "outputs": [
    {
     "output_type": "execute_result",
     "data": {
      "text/plain": "PlaneWaveBasis discretization:\n    architecture         : DFTK.CPU()\n    num. mpi processes   : 1\n    num. julia threads   : 1\n    num. DFTK  threads   : 1\n    num. blas  threads   : 2\n    num. fft   threads   : 1\n\n    Ecut                 : 7.0 Ha\n    fft_size             : (96, 24, 24), 55296 total points\n    kgrid                : MonkhorstPack([2, 2, 2])\n    num.   red. kpoints  : 8\n    num. irred. kpoints  : 8\n\n    Discretized Model(lda_x+lda_c_pw, 3D):\n        lattice (in Bohr)    : [38.267    , 0         , 0         ]\n                               [0         , 7.65339   , 0         ]\n                               [0         , 0         , 7.65339   ]\n        unit cell volume     : 2241.5 Bohr³\n    \n        atoms                : Al₂₀\n        atom potentials      : ElementPsp(Al, \"/home/runner/.julia/artifacts/1ea71a84cf375286564538a9cab789991f4bf1f4/Al.upf\")\n                               ElementPsp(Al, \"/home/runner/.julia/artifacts/1ea71a84cf375286564538a9cab789991f4bf1f4/Al.upf\")\n                               ElementPsp(Al, \"/home/runner/.julia/artifacts/1ea71a84cf375286564538a9cab789991f4bf1f4/Al.upf\")\n                               ElementPsp(Al, \"/home/runner/.julia/artifacts/1ea71a84cf375286564538a9cab789991f4bf1f4/Al.upf\")\n                               ElementPsp(Al, \"/home/runner/.julia/artifacts/1ea71a84cf375286564538a9cab789991f4bf1f4/Al.upf\")\n                               ElementPsp(Al, \"/home/runner/.julia/artifacts/1ea71a84cf375286564538a9cab789991f4bf1f4/Al.upf\")\n                               ElementPsp(Al, \"/home/runner/.julia/artifacts/1ea71a84cf375286564538a9cab789991f4bf1f4/Al.upf\")\n                               ElementPsp(Al, \"/home/runner/.julia/artifacts/1ea71a84cf375286564538a9cab789991f4bf1f4/Al.upf\")\n                               ElementPsp(Al, \"/home/runner/.julia/artifacts/1ea71a84cf375286564538a9cab789991f4bf1f4/Al.upf\")\n                               ElementPsp(Al, \"/home/runner/.julia/artifacts/1ea71a84cf375286564538a9cab789991f4bf1f4/Al.upf\")\n                               ElementPsp(Al, \"/home/runner/.julia/artifacts/1ea71a84cf375286564538a9cab789991f4bf1f4/Al.upf\")\n                               ElementPsp(Al, \"/home/runner/.julia/artifacts/1ea71a84cf375286564538a9cab789991f4bf1f4/Al.upf\")\n                               ElementPsp(Al, \"/home/runner/.julia/artifacts/1ea71a84cf375286564538a9cab789991f4bf1f4/Al.upf\")\n                               ElementPsp(Al, \"/home/runner/.julia/artifacts/1ea71a84cf375286564538a9cab789991f4bf1f4/Al.upf\")\n                               ElementPsp(Al, \"/home/runner/.julia/artifacts/1ea71a84cf375286564538a9cab789991f4bf1f4/Al.upf\")\n                               ElementPsp(Al, \"/home/runner/.julia/artifacts/1ea71a84cf375286564538a9cab789991f4bf1f4/Al.upf\")\n                               ElementPsp(Al, \"/home/runner/.julia/artifacts/1ea71a84cf375286564538a9cab789991f4bf1f4/Al.upf\")\n                               ElementPsp(Al, \"/home/runner/.julia/artifacts/1ea71a84cf375286564538a9cab789991f4bf1f4/Al.upf\")\n                               ElementPsp(Al, \"/home/runner/.julia/artifacts/1ea71a84cf375286564538a9cab789991f4bf1f4/Al.upf\")\n                               ElementPsp(Al, \"/home/runner/.julia/artifacts/1ea71a84cf375286564538a9cab789991f4bf1f4/Al.upf\")\n    \n        num. electrons       : 60\n        spin polarization    : none\n        temperature          : 0.001 Ha\n        smearing             : DFTK.Smearing.FermiDirac()\n    \n        terms                : Kinetic()\n                               AtomicLocal()\n                               AtomicNonlocal()\n                               Ewald(nothing)\n                               PspCorrection()\n                               Hartree()\n                               Xc(lda_x, lda_c_pw)\n                               Entropy()"
     },
     "metadata": {},
     "execution_count": 3
    }
   ],
   "cell_type": "code",
   "source": [
    "aluminium_setup(5)"
   ],
   "metadata": {},
   "execution_count": 3
  },
  {
   "cell_type": "markdown",
   "source": [
    "As we will see in this notebook the modelling of a system generally becomes\n",
    "harder if the system becomes larger.\n",
    "\n",
    "- This sounds like a trivial statement as *per se* the cost per SCF step increases\n",
    "  as the system (and thus $N$) gets larger.\n",
    "- But there is more to it:\n",
    "  If one is not careful also the *number of SCF iterations* increases\n",
    "  as the system gets larger.\n",
    "- The aim of a proper computational treatment of such supercells is therefore\n",
    "  to ensure that the **number of SCF iterations remains constant** when the\n",
    "  system size increases."
   ],
   "metadata": {}
  },
  {
   "cell_type": "markdown",
   "source": [
    "For achieving the latter DFTK by default employs the `LdosMixing`\n",
    "preconditioner [^HL2021] during the SCF iterations. This mixing approach is\n",
    "completely parameter free, but still automatically adapts to the treated\n",
    "system in order to efficiently prevent charge sloshing. As a result,\n",
    "modelling aluminium slabs indeed takes roughly the same number of SCF iterations\n",
    "irrespective of the supercell size:\n",
    "\n",
    "[^HL2021]:\n",
    "   M. F. Herbst and A. Levitt.\n",
    "   *Black-box inhomogeneous preconditioning for self-consistent field iterations in density functional theory.*\n",
    "   J. Phys. Cond. Matt *33* 085503 (2021). [ArXiv:2009.01665](https://arxiv.org/abs/2009.01665)"
   ],
   "metadata": {}
  },
  {
   "outputs": [
    {
     "name": "stdout",
     "output_type": "stream",
     "text": [
      "n     Energy            log10(ΔE)   log10(Δρ)   Diag   Δtime\n",
      "---   ---------------   ---------   ---------   ----   ------\n",
      "  1   -9.355232590009                   -1.09    6.8    188ms\n",
      "  2   -9.356717153090       -2.83       -1.42    1.5   96.7ms\n",
      "  3   -9.356973272312       -3.59       -2.63    4.1    176ms\n",
      "  4   -9.357012125050       -4.41       -3.17    3.4    462ms\n",
      "  5   -9.357012433187       -6.51       -3.32    3.2    123ms\n",
      "  6   -9.357012482992       -7.30       -3.45    1.0   82.0ms\n",
      "  7   -9.357012512870       -7.52       -3.57    1.0   80.2ms\n",
      "  8   -9.357012533527       -7.68       -3.74    1.0   81.1ms\n",
      "  9   -9.357012544729       -7.95       -4.02    2.5    106ms\n"
     ]
    }
   ],
   "cell_type": "code",
   "source": [
    "self_consistent_field(aluminium_setup(1); tol=1e-4);"
   ],
   "metadata": {},
   "execution_count": 4
  },
  {
   "outputs": [
    {
     "name": "stdout",
     "output_type": "stream",
     "text": [
      "n     Energy            log10(ΔE)   log10(Δρ)   Diag   Δtime\n",
      "---   ---------------   ---------   ---------   ----   ------\n",
      "  1   -18.78049066809                   -0.97    7.4    571ms\n",
      "  2   -18.79185491726       -1.94       -1.30    1.0    272ms\n",
      "  3   -18.79230710876       -3.34       -2.80    3.8    320ms\n",
      "  4   -18.79240743527       -4.00       -2.98    8.2    639ms\n",
      "  5   -18.79240844230       -6.00       -3.25    1.1    221ms\n",
      "  6   -18.79240856100       -6.93       -3.57    1.4    229ms\n",
      "  7   -18.79240859677       -7.45       -4.26    2.5    290ms\n"
     ]
    }
   ],
   "cell_type": "code",
   "source": [
    "self_consistent_field(aluminium_setup(2); tol=1e-4);"
   ],
   "metadata": {},
   "execution_count": 5
  },
  {
   "outputs": [
    {
     "name": "stdout",
     "output_type": "stream",
     "text": [
      "n     Energy            log10(ΔE)   log10(Δρ)   Diag   Δtime\n",
      "---   ---------------   ---------   ---------   ----   ------\n",
      "  1   -37.54978194200                   -0.84    9.4    2.16s\n",
      "  2   -37.56024423044       -1.98       -1.19    1.0    745ms\n",
      "  3   -37.56179294578       -2.81       -2.62    5.6    1.17s\n",
      "  4   -37.56451018552       -2.57       -2.42    7.6    1.79s\n",
      "  5   -37.56450974018   +   -6.35       -2.42   12.2    1.41s\n",
      "  6   -37.56450350681   +   -5.21       -2.41    1.0    774ms\n",
      "  7   -37.56440678087   +   -4.01       -2.24    5.6    1.11s\n",
      "  8   -37.56424772870   +   -3.80       -2.20    1.5    843ms\n",
      "  9   -37.56429927113       -4.29       -2.28    1.0    1.06s\n",
      " 10   -37.56438879453       -4.05       -2.41    1.0    751ms\n",
      " 11   -37.56443407709       -4.34       -2.48    1.0    749ms\n",
      " 12   -37.56447393821       -4.40       -2.57    1.0    746ms\n",
      " 13   -37.56452569919       -4.29       -2.79    1.0    738ms\n",
      " 14   -37.56452598365       -6.55       -2.78    1.0    702ms\n",
      " 15   -37.56453717996       -4.95       -2.89    1.0    989ms\n",
      " 16   -37.56455391263       -4.78       -4.24    1.5    754ms\n"
     ]
    }
   ],
   "cell_type": "code",
   "source": [
    "self_consistent_field(aluminium_setup(4); tol=1e-4);"
   ],
   "metadata": {},
   "execution_count": 6
  },
  {
   "cell_type": "markdown",
   "source": [
    "When switching off explicitly the `LdosMixing`, by selecting `mixing=SimpleMixing()`,\n",
    "the performance of number of required SCF steps starts to increase as we increase\n",
    "the size of the modelled problem:"
   ],
   "metadata": {}
  },
  {
   "outputs": [
    {
     "name": "stdout",
     "output_type": "stream",
     "text": [
      "n     Energy            log10(ΔE)   log10(Δρ)   Diag   Δtime\n",
      "---   ---------------   ---------   ---------   ----   ------\n",
      "  1   -9.355362979288                   -1.09    7.0    263ms\n",
      "  2   -9.356788315933       -2.85       -1.91    1.0   83.2ms\n",
      "  3   -9.356985643266       -3.70       -2.59    4.8    135ms\n",
      "  4   -9.356993496985       -5.10       -2.61    2.6    100ms\n",
      "  5   -9.357012245788       -4.73       -3.67    1.0   63.4ms\n",
      "  6   -9.357012464639       -6.66       -3.86    4.8    157ms\n",
      "  7   -9.357012544681       -7.10       -4.49    1.8   78.6ms\n"
     ]
    }
   ],
   "cell_type": "code",
   "source": [
    "self_consistent_field(aluminium_setup(1); tol=1e-4, mixing=SimpleMixing());"
   ],
   "metadata": {},
   "execution_count": 7
  },
  {
   "outputs": [
    {
     "name": "stdout",
     "output_type": "stream",
     "text": [
      "n     Energy            log10(ΔE)   log10(Δρ)   Diag   Δtime\n",
      "---   ---------------   ---------   ---------   ----   ------\n",
      "  1   -37.55534136730                   -0.84    8.9    1.94s\n",
      "  2   -37.52864138547   +   -1.57       -1.55    1.0    627ms\n",
      "  3   -7.894256030492   +    1.47       -0.33    8.5    1.72s\n",
      "  4   -37.54932420222        1.47       -1.81    8.2    1.98s\n",
      "  5   -37.56006308788       -1.97       -1.89    2.9    998ms\n",
      "  6   -37.55593742763   +   -2.38       -2.06    2.6    832ms\n",
      "  7   -37.54729640861   +   -2.06       -1.91    3.8    975ms\n",
      "  8   -37.46331289404   +   -1.08       -1.56    5.0    1.15s\n",
      "  9   -37.56342867801       -1.00       -2.36    5.1    1.41s\n",
      " 10   -37.56438472513       -3.02       -2.65    2.4    902ms\n",
      " 11   -37.56452227726       -3.86       -3.07    1.9    827ms\n",
      " 12   -37.56454690560       -4.61       -3.30    3.1    998ms\n",
      " 13   -37.56455284890       -5.23       -3.72    3.0    918ms\n",
      " 14   -37.56455385662       -6.00       -4.07    4.1    1.32s\n"
     ]
    }
   ],
   "cell_type": "code",
   "source": [
    "self_consistent_field(aluminium_setup(4); tol=1e-4, mixing=SimpleMixing());"
   ],
   "metadata": {},
   "execution_count": 8
  },
  {
   "cell_type": "markdown",
   "source": [
    "For completion let us note that the more traditional `mixing=KerkerMixing()`\n",
    "approach would also help in this particular setting to obtain a constant\n",
    "number of SCF iterations for an increasing system size (try it!). In contrast\n",
    "to `LdosMixing`, however, `KerkerMixing` is only suitable to model bulk metallic\n",
    "system (like the case we are considering here). When modelling metallic surfaces\n",
    "or mixtures of metals and insulators, `KerkerMixing` fails, while `LdosMixing`\n",
    "still works well. See the Modelling a gallium arsenide surface example\n",
    "or [^HL2021] for details. Due to the general applicability of `LdosMixing` this\n",
    "method is the default mixing approach in DFTK."
   ],
   "metadata": {}
  }
 ],
 "nbformat_minor": 3,
 "metadata": {
  "language_info": {
   "file_extension": ".jl",
   "mimetype": "application/julia",
   "name": "julia",
   "version": "1.11.2"
  },
  "kernelspec": {
   "name": "julia-1.11",
   "display_name": "Julia 1.11.2",
   "language": "julia"
  }
 },
 "nbformat": 4
}
