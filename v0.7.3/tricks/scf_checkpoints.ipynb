{
 "cells": [
  {
   "cell_type": "markdown",
   "source": [
    "# Saving SCF results on disk and SCF checkpoints\n",
    "\n",
    "For longer DFT calculations it is pretty standard to run them on a cluster\n",
    "in advance and to perform postprocessing (band structure calculation,\n",
    "plotting of density, etc.) at a later point and potentially on a different\n",
    "machine.\n",
    "\n",
    "To support such workflows DFTK offers the two functions `save_scfres`\n",
    "and `load_scfres`, which allow to save the data structure returned\n",
    "by `self_consistent_field` on disk or retrieve it back into memory,\n",
    "respectively. For this purpose DFTK uses the\n",
    "[JLD2.jl](https://github.com/JuliaIO/JLD2.jl) file format and Julia package.\n",
    "\n",
    "> **Availability of `load_scfres`, `save_scfres` and checkpointing**\n",
    ">\n",
    "> As JLD2 is an optional dependency of DFTK these three functions are only\n",
    "> available once one has *both* imported DFTK and JLD2 (`using DFTK`\n",
    "> and `using JLD2`).\n",
    "\n",
    "To illustrate the use of the functions in practice we will compute\n",
    "the total energy of the O₂ molecule at PBE level. To get the triplet\n",
    "ground state we use a collinear spin polarisation\n",
    "(see Collinear spin and magnetic systems for details)\n",
    "and a bit of temperature to ease convergence:"
   ],
   "metadata": {}
  },
  {
   "outputs": [
    {
     "name": "stdout",
     "output_type": "stream",
     "text": [
      "n     Energy            log10(ΔE)   log10(Δρ)   Magnet   Diag   Δtime\n",
      "---   ---------------   ---------   ---------   ------   ----   ------\n",
      "  1   -27.64363430861                   -0.13    0.001    6.0    122ms\n",
      "  2   -28.92265425736        0.11       -0.83    0.670    2.0    125ms\n",
      "  3   -28.93096348969       -2.08       -1.14    1.172    2.5   92.1ms\n",
      "  4   -28.93762458312       -2.18       -1.18    1.764    1.5   76.0ms\n",
      "  5   -28.93957269366       -2.71       -2.01    1.989    1.5   80.0ms\n"
     ]
    }
   ],
   "cell_type": "code",
   "source": [
    "using DFTK\n",
    "using LinearAlgebra\n",
    "using JLD2\n",
    "\n",
    "d = 2.079  # oxygen-oxygen bondlength\n",
    "a = 9.0    # size of the simulation box\n",
    "lattice = a * I(3)\n",
    "O = ElementPsp(:O, load_psp(\"hgh/pbe/O-q6.hgh\"))\n",
    "atoms     = [O, O]\n",
    "positions = d / 2a * [[0, 0, 1], [0, 0, -1]]\n",
    "magnetic_moments = [1., 1.]\n",
    "\n",
    "Ecut  = 10  # Far too small to be converged\n",
    "model = model_DFT(lattice, atoms, positions;\n",
    "                  functionals=PBE(),\n",
    "                  temperature=0.02, smearing=Smearing.Gaussian(),\n",
    "                  magnetic_moments)\n",
    "basis = PlaneWaveBasis(model; Ecut, kgrid=[1, 1, 1])\n",
    "\n",
    "scfres = self_consistent_field(basis, tol=1e-2, ρ=guess_density(basis, magnetic_moments))\n",
    "save_scfres(\"scfres.jld2\", scfres);"
   ],
   "metadata": {},
   "execution_count": 1
  },
  {
   "outputs": [
    {
     "output_type": "execute_result",
     "data": {
      "text/plain": "Energy breakdown (in Ha):\n    Kinetic             16.7575379\n    AtomicLocal         -58.4648899\n    AtomicNonlocal      4.7065405 \n    Ewald               -4.8994689\n    PspCorrection       0.0044178 \n    Hartree             19.3458083\n    Xc                  -6.3887367\n    Entropy             -0.0007817\n\n    total               -28.939572693657"
     },
     "metadata": {},
     "execution_count": 2
    }
   ],
   "cell_type": "code",
   "source": [
    "scfres.energies"
   ],
   "metadata": {},
   "execution_count": 2
  },
  {
   "cell_type": "markdown",
   "source": [
    "The `scfres.jld2` file could now be transferred to a different computer,\n",
    "Where one could fire up a REPL to inspect the results of the above\n",
    "calculation:"
   ],
   "metadata": {}
  },
  {
   "outputs": [
    {
     "output_type": "execute_result",
     "data": {
      "text/plain": "(:α, :history_Δρ, :converged, :occupation, :occupation_threshold, :algorithm, :basis, :runtime_ns, :n_iter, :n_matvec, :history_Etot, :εF, :energies, :ρ, :timedout, :n_bands_converge, :eigenvalues, :ψ, :ham)"
     },
     "metadata": {},
     "execution_count": 3
    }
   ],
   "cell_type": "code",
   "source": [
    "using DFTK\n",
    "using JLD2\n",
    "loaded = load_scfres(\"scfres.jld2\")\n",
    "propertynames(loaded)"
   ],
   "metadata": {},
   "execution_count": 3
  },
  {
   "outputs": [
    {
     "output_type": "execute_result",
     "data": {
      "text/plain": "Energy breakdown (in Ha):\n    Kinetic             16.7575379\n    AtomicLocal         -58.4648899\n    AtomicNonlocal      4.7065405 \n    Ewald               -4.8994689\n    PspCorrection       0.0044178 \n    Hartree             19.3458083\n    Xc                  -6.3887367\n    Entropy             -0.0007817\n\n    total               -28.939572693657"
     },
     "metadata": {},
     "execution_count": 4
    }
   ],
   "cell_type": "code",
   "source": [
    "loaded.energies"
   ],
   "metadata": {},
   "execution_count": 4
  },
  {
   "cell_type": "markdown",
   "source": [
    "Since the loaded data contains exactly the same data as the `scfres` returned by the\n",
    "SCF calculation one could use it to plot a band structure, e.g.\n",
    "`plot_bandstructure(load_scfres(\"scfres.jld2\"))` directly from the stored data.\n",
    "\n",
    "Notice that both `load_scfres` and `save_scfres` work by transferring all data\n",
    "to/from the master process, which performs the IO operations without parallelisation.\n",
    "Since this can become slow, both functions support optional arguments to speed up\n",
    "the processing. An overview:\n",
    "- `save_scfres(\"scfres.jld2\", scfres; save_ψ=false)` avoids saving\n",
    "  the Bloch wave, which is usually faster and saves storage space.\n",
    "- `load_scfres(\"scfres.jld2\", basis)` avoids reconstructing the basis from the file,\n",
    "  but uses the passed basis instead. This save the time of constructing the basis\n",
    "  twice and allows to specify parallelisation options (via the passed basis). Usually\n",
    "  this is useful for continuing a calculation on a supercomputer or cluster.\n",
    "\n",
    "See also the discussion on Input and output formats on JLD2 files."
   ],
   "metadata": {}
  },
  {
   "cell_type": "markdown",
   "source": [
    "## Checkpointing of SCF calculations\n",
    "A related feature, which is very useful especially for longer calculations with DFTK\n",
    "is automatic checkpointing, where the state of the SCF is periodically written to disk.\n",
    "The advantage is that in case the calculation errors or gets aborted due\n",
    "to overrunning the walltime limit one does not need to start from scratch,\n",
    "but can continue the calculation from the last checkpoint.\n",
    "\n",
    "The easiest way to enable checkpointing is to use the `kwargs_scf_checkpoints`\n",
    "function, which does two things. (1) It sets up checkpointing using the\n",
    "`ScfSaveCheckpoints` callback and (2) if a checkpoint file is detected,\n",
    "the stored density is used to continue the calculation instead of the usual\n",
    "atomic-orbital based guess. In practice this is done by modifying the keyword arguments\n",
    "passed to # `self_consistent_field` appropriately, e.g. by using the density\n",
    "or orbitals from the checkpoint file. For example:"
   ],
   "metadata": {}
  },
  {
   "outputs": [
    {
     "name": "stdout",
     "output_type": "stream",
     "text": [
      "n     Energy            log10(ΔE)   log10(Δρ)   Magnet   α      Diag   Δtime\n",
      "---   ---------------   ---------   ---------   ------   ----   ----   ------\n",
      "  1   -27.64502561916                   -0.13    0.001   0.80    6.5    199ms\n",
      "  2   -28.92284005235        0.11       -0.83    0.677   0.80    2.0    881ms\n",
      "  3   -28.93108260337       -2.08       -1.14    1.183   0.80    2.5    110ms\n",
      "  4   -28.93770469985       -2.18       -1.19    1.771   0.80    2.0   84.2ms\n",
      "  5   -28.93952646374       -2.74       -1.47    1.998   0.80    1.5   84.3ms\n",
      "  6   -28.93960119205       -4.13       -2.07    1.979   0.80    1.0   93.0ms\n"
     ]
    }
   ],
   "cell_type": "code",
   "source": [
    "checkpointargs = kwargs_scf_checkpoints(basis; ρ=guess_density(basis, magnetic_moments))\n",
    "scfres = self_consistent_field(basis; tol=1e-2, checkpointargs...);"
   ],
   "metadata": {},
   "execution_count": 5
  },
  {
   "cell_type": "markdown",
   "source": [
    "Notice that the `ρ` argument is now passed to kwargs_scf_checkpoints instead.\n",
    "If we run in the same folder the SCF again (here using a tighter tolerance),\n",
    "the calculation just continues."
   ],
   "metadata": {}
  },
  {
   "outputs": [
    {
     "name": "stdout",
     "output_type": "stream",
     "text": [
      "n     Energy            log10(ΔE)   log10(Δρ)   Magnet   α      Diag   Δtime\n",
      "---   ---------------   ---------   ---------   ------   ----   ----   ------\n",
      "  1   -28.93960988761                   -2.90    1.985   0.80    9.5    156ms\n",
      "  2   -28.93961260344       -5.57       -3.38    1.985   0.80    1.0   75.1ms\n"
     ]
    }
   ],
   "cell_type": "code",
   "source": [
    "checkpointargs = kwargs_scf_checkpoints(basis; ρ=guess_density(basis, magnetic_moments))\n",
    "scfres = self_consistent_field(basis; tol=1e-3, checkpointargs...);"
   ],
   "metadata": {},
   "execution_count": 6
  },
  {
   "cell_type": "markdown",
   "source": [
    "Since only the density is stored in a checkpoint\n",
    "(and not the Bloch waves), the first step needs a slightly elevated number\n",
    "of diagonalizations. Notice, that reconstructing the `checkpointargs` in this second\n",
    "call is important as the `checkpointargs` now contain different data,\n",
    "such that the SCF continues from the checkpoint.\n",
    "By default checkpoint is saved in the file `dftk_scf_checkpoint.jld2`, which can be changed\n",
    "using the `filename` keyword argument of `kwargs_scf_checkpoints`. Note that the\n",
    "file is not deleted by DFTK, so it is your responsibility to clean it up. Further note\n",
    "that warnings or errors will arise if you try to use a checkpoint, which is incompatible\n",
    "with your calculation.\n",
    "\n",
    "We can also inspect the checkpoint file manually using the `load_scfres` function\n",
    "and use it manually to continue the calculation:"
   ],
   "metadata": {}
  },
  {
   "outputs": [
    {
     "name": "stdout",
     "output_type": "stream",
     "text": [
      "n     Energy            log10(ΔE)   log10(Δρ)   Magnet   Diag   Δtime\n",
      "---   ---------------   ---------   ---------   ------   ----   ------\n",
      "  1   -28.93892335628                   -2.35    1.985    6.0    107ms\n",
      "  2   -28.93951170204       -3.23       -2.79    1.985    1.0   82.9ms\n",
      "  3   -28.93961157729       -4.00       -2.62    1.985    3.5   96.7ms\n",
      "  4   -28.93961234009       -6.12       -2.75    1.985    1.0   72.4ms\n",
      "  5   -28.93961286658       -6.28       -2.94    1.985    1.0   71.2ms\n",
      "  6   -28.93961294840       -7.09       -3.02    1.985    1.0   69.1ms\n",
      "  7   -28.93961309925       -6.82       -3.25    1.985    1.0   69.6ms\n",
      "  8   -28.93961315033       -7.29       -3.59    1.985    1.5   73.4ms\n",
      "  9   -28.93961317091       -7.69       -4.20    1.985    2.0   80.1ms\n"
     ]
    }
   ],
   "cell_type": "code",
   "source": [
    "oldstate = load_scfres(\"dftk_scf_checkpoint.jld2\")\n",
    "scfres   = self_consistent_field(oldstate.basis, ρ=oldstate.ρ, ψ=oldstate.ψ, tol=1e-4);"
   ],
   "metadata": {},
   "execution_count": 7
  },
  {
   "cell_type": "markdown",
   "source": [
    "Some details on what happens under the hood in this mechanism: When using the\n",
    "`kwargs_scf_checkpoints` function, the `ScfSaveCheckpoints` callback is employed\n",
    "during the SCF, which causes the density to be stored to the JLD2 file in every iteration.\n",
    "When reading the file, the `kwargs_scf_checkpoints` transparently patches away the `ψ`\n",
    "and `ρ` keyword arguments and replaces them by the data obtained from the file.\n",
    "For more details on using callbacks with DFTK's `self_consistent_field` function\n",
    "see Monitoring self-consistent field calculations."
   ],
   "metadata": {}
  },
  {
   "cell_type": "markdown",
   "source": [
    "(Cleanup files generated by this notebook)"
   ],
   "metadata": {}
  },
  {
   "outputs": [],
   "cell_type": "code",
   "source": [
    "rm(\"dftk_scf_checkpoint.jld2\")\n",
    "rm(\"scfres.jld2\")"
   ],
   "metadata": {},
   "execution_count": 8
  }
 ],
 "nbformat_minor": 3,
 "metadata": {
  "language_info": {
   "file_extension": ".jl",
   "mimetype": "application/julia",
   "name": "julia",
   "version": "1.11.2"
  },
  "kernelspec": {
   "name": "julia-1.11",
   "display_name": "Julia 1.11.2",
   "language": "julia"
  }
 },
 "nbformat": 4
}
