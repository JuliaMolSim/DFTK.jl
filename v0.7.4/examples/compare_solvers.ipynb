{
 "cells": [
  {
   "cell_type": "markdown",
   "source": [
    "# Comparison of DFT solvers"
   ],
   "metadata": {}
  },
  {
   "cell_type": "markdown",
   "source": [
    "We compare four different approaches for solving the DFT minimisation problem,\n",
    "namely a density-based SCF, a potential-based SCF, direct minimisation and Newton."
   ],
   "metadata": {}
  },
  {
   "cell_type": "markdown",
   "source": [
    "First we setup our problem"
   ],
   "metadata": {}
  },
  {
   "outputs": [
    {
     "output_type": "execute_result",
     "data": {
      "text/plain": "1.0e-6"
     },
     "metadata": {},
     "execution_count": 1
    }
   ],
   "cell_type": "code",
   "source": [
    "using AtomsBuilder\n",
    "using DFTK\n",
    "using LinearAlgebra\n",
    "using PseudoPotentialData\n",
    "\n",
    "pseudopotentials = PseudoFamily(\"dojo.nc.sr.pbesol.v0_4_1.oncvpsp3.standard.upf\")\n",
    "model = model_DFT(bulk(:Si); functionals=PBEsol(), pseudopotentials)\n",
    "basis = PlaneWaveBasis(model; Ecut=5, kgrid=[3, 3, 3])\n",
    "\n",
    "# Convergence we desire in the density\n",
    "tol = 1e-6"
   ],
   "metadata": {},
   "execution_count": 1
  },
  {
   "cell_type": "markdown",
   "source": [
    "## Density-based self-consistent field"
   ],
   "metadata": {}
  },
  {
   "outputs": [
    {
     "name": "stdout",
     "output_type": "stream",
     "text": [
      "n     Energy            log10(ΔE)   log10(Δρ)   Diag   Δtime\n",
      "---   ---------------   ---------   ---------   ----   ------\n",
      "  1   -8.397864285737                   -0.90    5.2   26.9ms\n",
      "  2   -8.400246182102       -2.62       -1.74    1.0   18.8ms\n",
      "  3   -8.400405772974       -3.80       -2.96    1.5   19.9ms\n",
      "  4   -8.400428699053       -4.64       -2.97    3.2   47.3ms\n",
      "  5   -8.400428806124       -6.97       -3.04    1.0   19.2ms\n",
      "  6   -8.400429017971       -6.67       -4.50    1.0   19.1ms\n",
      "  7   -8.400429023938       -8.22       -4.43    2.2   23.5ms\n",
      "  8   -8.400429024370       -9.37       -4.93    1.0   19.7ms\n",
      "  9   -8.400429024418      -10.32       -6.59    1.2   35.3ms\n"
     ]
    }
   ],
   "cell_type": "code",
   "source": [
    "scfres_scf = self_consistent_field(basis; tol);"
   ],
   "metadata": {},
   "execution_count": 2
  },
  {
   "cell_type": "markdown",
   "source": [
    "## Potential-based SCF"
   ],
   "metadata": {}
  },
  {
   "outputs": [
    {
     "name": "stdout",
     "output_type": "stream",
     "text": [
      "n     Energy            log10(ΔE)   log10(Δρ)   α      Diag   Δtime\n",
      "---   ---------------   ---------   ---------   ----   ----   ------\n",
      "  1   -8.397720295861                   -0.90           5.0    507ms\n",
      "  2   -8.400383326040       -2.57       -1.78   0.80    2.2    568ms\n",
      "  3   -8.400423103183       -4.40       -3.01   0.80    1.0    183ms\n",
      "  4   -8.400428968312       -5.23       -3.41   0.80    2.5   64.4ms\n",
      "  5   -8.400429021212       -7.28       -4.46   0.80    1.2   17.0ms\n",
      "  6   -8.400429024361       -8.50       -5.54   0.80    2.5   20.4ms\n",
      "  7   -8.400429024420      -10.23       -6.17   0.80    2.5   21.1ms\n"
     ]
    }
   ],
   "cell_type": "code",
   "source": [
    "scfres_scfv = DFTK.scf_potential_mixing(basis; tol);"
   ],
   "metadata": {},
   "execution_count": 3
  },
  {
   "cell_type": "markdown",
   "source": [
    "## Direct minimization"
   ],
   "metadata": {}
  },
  {
   "outputs": [
    {
     "name": "stdout",
     "output_type": "stream",
     "text": [
      "n     Energy            log10(ΔE)   log10(Δρ)   Δtime\n",
      "---   ---------------   ---------   ---------   ------\n",
      "  1   +0.931825400248                   -1.04    2.98s\n",
      "  2   -1.682723785687        0.42       -0.64    113ms\n",
      "  3   -3.676851491297        0.30       -0.44   39.8ms\n",
      "  4   -4.550129988430       -0.06       -0.51   64.3ms\n",
      "  5   -6.414312389356        0.27       -0.57   39.4ms\n",
      "  6   -7.219087678379       -0.09       -0.85   39.1ms\n",
      "  7   -7.301743285670       -1.08       -1.37   28.8ms\n",
      "  8   -7.798915034207       -0.30       -1.41   45.0ms\n",
      "  9   -8.085139356837       -0.54       -1.11   39.8ms\n",
      " 10   -8.201585371095       -0.93       -1.39   39.6ms\n",
      " 11   -8.251322607592       -1.30       -1.53   39.1ms\n",
      " 12   -8.253401346874       -2.68       -1.65   43.0ms\n",
      " 13   -8.273405939566       -1.70       -1.82   39.7ms\n",
      " 14   -8.317569012213       -1.35       -1.85   53.1ms\n",
      " 15   -8.340647708667       -1.64       -1.95   29.0ms\n",
      " 16   -8.379879939397       -1.41       -2.53   32.0ms\n",
      " 17   -8.391408088150       -1.94       -3.02   29.0ms\n",
      " 18   -8.397407799178       -2.22       -2.87   28.7ms\n",
      " 19   -8.398439226914       -2.99       -3.14   31.7ms\n",
      " 20   -8.399257433424       -3.09       -3.12   28.8ms\n",
      " 21   -8.399836322509       -3.24       -3.28   31.7ms\n",
      " 22   -8.400201860768       -3.44       -3.09   28.9ms\n",
      " 23   -8.400323753139       -3.91       -3.65   32.2ms\n",
      " 24   -8.400377210783       -4.27       -3.30   28.8ms\n",
      " 25   -8.400411879963       -4.46       -3.44   28.7ms\n",
      " 26   -8.400419876834       -5.10       -4.49   31.8ms\n",
      " 27   -8.400424580311       -5.33       -4.16   28.9ms\n",
      " 28   -8.400426554234       -5.70       -4.31   31.8ms\n",
      " 29   -8.400428160492       -5.79       -4.85   28.8ms\n",
      " 30   -8.400428448031       -6.54       -4.58   28.9ms\n",
      " 31   -8.400428857711       -6.39       -4.64   31.9ms\n",
      " 32   -8.400428888086       -7.52       -5.17   28.8ms\n",
      " 33   -8.400428967164       -7.10       -5.07   31.7ms\n",
      " 34   -8.400428999131       -7.50       -5.52   28.9ms\n",
      " 35   -8.400429015078       -7.80       -5.93   28.9ms\n",
      " 36   -8.400429020273       -8.28       -5.93   31.8ms\n",
      " 37   -8.400429022418       -8.67       -5.99   28.8ms\n",
      " 38   -8.400429023473       -8.98       -6.50   31.7ms\n"
     ]
    }
   ],
   "cell_type": "code",
   "source": [
    "scfres_dm = direct_minimization(basis; tol);"
   ],
   "metadata": {},
   "execution_count": 4
  },
  {
   "cell_type": "markdown",
   "source": [
    "## Newton algorithm"
   ],
   "metadata": {}
  },
  {
   "cell_type": "markdown",
   "source": [
    "Start not too far from the solution to ensure convergence:\n",
    "We run first a very crude SCF to get close and then switch to Newton."
   ],
   "metadata": {}
  },
  {
   "outputs": [
    {
     "name": "stdout",
     "output_type": "stream",
     "text": [
      "n     Energy            log10(ΔE)   log10(Δρ)   Diag   Δtime\n",
      "---   ---------------   ---------   ---------   ----   ------\n",
      "  1   -8.397775338969                   -0.90    5.0   28.0ms\n"
     ]
    }
   ],
   "cell_type": "code",
   "source": [
    "scfres_start = self_consistent_field(basis; tol=0.5);"
   ],
   "metadata": {},
   "execution_count": 5
  },
  {
   "cell_type": "markdown",
   "source": [
    "Remove the virtual orbitals (which Newton cannot treat yet)"
   ],
   "metadata": {}
  },
  {
   "outputs": [
    {
     "name": "stdout",
     "output_type": "stream",
     "text": [
      "n     Energy            log10(ΔE)   log10(Δρ)   Δtime\n",
      "---   ---------------   ---------   ---------   ------\n",
      "  1   -8.400428849238                   -1.78    25.3s\n",
      "  2   -8.400429024420       -6.76       -4.03    2.14s\n",
      "  3   -8.400429024420      -14.45       -7.83   98.3ms\n"
     ]
    }
   ],
   "cell_type": "code",
   "source": [
    "ψ = DFTK.select_occupied_orbitals(basis, scfres_start.ψ, scfres_start.occupation).ψ\n",
    "scfres_newton = newton(basis, ψ; tol);"
   ],
   "metadata": {},
   "execution_count": 6
  },
  {
   "cell_type": "markdown",
   "source": [
    "## Comparison of results"
   ],
   "metadata": {}
  },
  {
   "outputs": [
    {
     "name": "stdout",
     "output_type": "stream",
     "text": [
      "|ρ_newton - ρ_scf|  = 6.770657396281784e-7\n",
      "|ρ_newton - ρ_scfv| = 1.2172839874541666e-7\n",
      "|ρ_newton - ρ_dm|   = 1.0646301724645359e-6\n"
     ]
    }
   ],
   "cell_type": "code",
   "source": [
    "println(\"|ρ_newton - ρ_scf|  = \", norm(scfres_newton.ρ - scfres_scf.ρ))\n",
    "println(\"|ρ_newton - ρ_scfv| = \", norm(scfres_newton.ρ - scfres_scfv.ρ))\n",
    "println(\"|ρ_newton - ρ_dm|   = \", norm(scfres_newton.ρ - scfres_dm.ρ))"
   ],
   "metadata": {},
   "execution_count": 7
  }
 ],
 "nbformat_minor": 3,
 "metadata": {
  "language_info": {
   "file_extension": ".jl",
   "mimetype": "application/julia",
   "name": "julia",
   "version": "1.11.2"
  },
  "kernelspec": {
   "name": "julia-1.11",
   "display_name": "Julia 1.11.2",
   "language": "julia"
  }
 },
 "nbformat": 4
}
