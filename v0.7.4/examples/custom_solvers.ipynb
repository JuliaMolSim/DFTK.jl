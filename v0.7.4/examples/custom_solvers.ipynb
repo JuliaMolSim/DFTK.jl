{
 "cells": [
  {
   "cell_type": "markdown",
   "source": [
    "# Custom solvers\n",
    "In this example, we show how to define custom solvers. Our system\n",
    "will again be silicon, because we are not very imaginative"
   ],
   "metadata": {}
  },
  {
   "outputs": [],
   "cell_type": "code",
   "source": [
    "using DFTK, LinearAlgebra\n",
    "\n",
    "a = 10.26\n",
    "lattice = a / 2 * [[0 1 1.];\n",
    "                   [1 0 1.];\n",
    "                   [1 1 0.]]\n",
    "Si = ElementPsp(:Si, load_psp(\"hgh/lda/Si-q4\"))\n",
    "atoms = [Si, Si]\n",
    "positions =  [ones(3)/8, -ones(3)/8]\n",
    "\n",
    "# We take very (very) crude parameters\n",
    "model = model_DFT(lattice, atoms, positions; functionals=LDA())\n",
    "basis = PlaneWaveBasis(model; Ecut=5, kgrid=[1, 1, 1]);"
   ],
   "metadata": {},
   "execution_count": 1
  },
  {
   "cell_type": "markdown",
   "source": [
    "We define our custom fix-point solver: simply a damped fixed-point"
   ],
   "metadata": {}
  },
  {
   "outputs": [],
   "cell_type": "code",
   "source": [
    "function my_fp_solver(f, x0, info0; maxiter)\n",
    "    mixing_factor = .7\n",
    "    x = x0\n",
    "    info = info0\n",
    "    for n = 1:maxiter\n",
    "        fx, info = f(x, info)\n",
    "        if info.converged || info.timedout\n",
    "            break\n",
    "        end\n",
    "        x = x + mixing_factor * (fx - x)\n",
    "    end\n",
    "    (; fixpoint=x, info)\n",
    "end;"
   ],
   "metadata": {},
   "execution_count": 2
  },
  {
   "cell_type": "markdown",
   "source": [
    "Note that the fixpoint map `f` operates on an auxiliary variable `info` for\n",
    "state bookkeeping. Early termination criteria are flagged from inside\n",
    "the function `f` using boolean flags `info.converged` and `info.timedout`.\n",
    "For control over these criteria, see the `is_converged` and `maxtime`\n",
    "keyword arguments of `self_consistent_field`."
   ],
   "metadata": {}
  },
  {
   "cell_type": "markdown",
   "source": [
    "Our eigenvalue solver just forms the dense matrix and diagonalizes\n",
    "it explicitly (this only works for very small systems)"
   ],
   "metadata": {}
  },
  {
   "outputs": [],
   "cell_type": "code",
   "source": [
    "function my_eig_solver(A, X0; maxiter, tol, kwargs...)\n",
    "    n = size(X0, 2)\n",
    "    A = Array(A)\n",
    "    E = eigen(A)\n",
    "    λ = E.values[1:n]\n",
    "    X = E.vectors[:, 1:n]\n",
    "    (; λ, X, residual_norms=[], n_iter=0, converged=true, n_matvec=0)\n",
    "end;"
   ],
   "metadata": {},
   "execution_count": 3
  },
  {
   "cell_type": "markdown",
   "source": [
    "Finally we also define our custom mixing scheme. It will be a mixture\n",
    "of simple mixing (for the first 2 steps) and than default to Kerker mixing.\n",
    "In the mixing interface `δF` is $(ρ_\\text{out} - ρ_\\text{in})$, i.e.\n",
    "the difference in density between two subsequent SCF steps and the `mix`\n",
    "function returns $δρ$, which is added to $ρ_\\text{in}$ to yield $ρ_\\text{next}$,\n",
    "the density for the next SCF step."
   ],
   "metadata": {}
  },
  {
   "outputs": [],
   "cell_type": "code",
   "source": [
    "struct MyMixing\n",
    "    n_simple  # Number of iterations for simple mixing\n",
    "end\n",
    "MyMixing() = MyMixing(2)\n",
    "\n",
    "function DFTK.mix_density(mixing::MyMixing, basis, δF; n_iter, kwargs...)\n",
    "    if n_iter <= mixing.n_simple\n",
    "        return δF  # Simple mixing -> Do not modify update at all\n",
    "    else\n",
    "        # Use the default KerkerMixing from DFTK\n",
    "        DFTK.mix_density(KerkerMixing(), basis, δF; kwargs...)\n",
    "    end\n",
    "end"
   ],
   "metadata": {},
   "execution_count": 4
  },
  {
   "cell_type": "markdown",
   "source": [
    "That's it! Now we just run the SCF with these solvers"
   ],
   "metadata": {}
  },
  {
   "outputs": [
    {
     "name": "stdout",
     "output_type": "stream",
     "text": [
      "n     Energy            log10(ΔE)   log10(Δρ)   Diag   Δtime\n",
      "---   ---------------   ---------   ---------   ----   ------\n",
      "  1   -7.090073978406                   -0.39    0.0    1.57s\n",
      "  2   -7.226157343674       -0.87       -0.65    0.0    1.26s\n",
      "  3   -7.249782177445       -1.63       -1.17    0.0    130ms\n",
      "  4   -7.250986294028       -2.92       -1.48    0.0   72.3ms\n",
      "  5   -7.251258312426       -3.57       -1.78    0.0   74.2ms\n",
      "  6   -7.251319808416       -4.21       -2.07    0.0    115ms\n",
      "  7   -7.251334099764       -4.84       -2.35    0.0   72.5ms\n",
      "  8   -7.251337569219       -5.46       -2.62    0.0   80.2ms\n",
      "  9   -7.251338457710       -6.05       -2.88    0.0   93.1ms\n",
      " 10   -7.251338698748       -6.62       -3.14    0.0   71.0ms\n",
      " 11   -7.251338767946       -7.16       -3.39    0.0   80.1ms\n",
      " 12   -7.251338788853       -7.68       -3.64    0.0   72.3ms\n",
      " 13   -7.251338795449       -8.18       -3.88    0.0   79.0ms\n",
      " 14   -7.251338797603       -8.67       -4.12    0.0   77.3ms\n"
     ]
    }
   ],
   "cell_type": "code",
   "source": [
    "scfres = self_consistent_field(basis;\n",
    "                               tol=1e-4,\n",
    "                               solver=my_fp_solver,\n",
    "                               eigensolver=my_eig_solver,\n",
    "                               mixing=MyMixing());"
   ],
   "metadata": {},
   "execution_count": 5
  },
  {
   "cell_type": "markdown",
   "source": [
    "Note that the default convergence criterion is the difference in\n",
    "density. When this gets below `tol`, the fixed-point solver terminates.\n",
    "You can also customize this with the `is_converged` keyword argument to\n",
    "`self_consistent_field`, as shown below."
   ],
   "metadata": {}
  },
  {
   "cell_type": "markdown",
   "source": [
    "## Customizing the convergence criterion\n",
    "Here is an example of a defining a custom convergence criterion and specifying\n",
    "it using the `is_converged` callback keyword to `self_consistent_field`."
   ],
   "metadata": {}
  },
  {
   "outputs": [
    {
     "name": "stdout",
     "output_type": "stream",
     "text": [
      "n     Energy            log10(ΔE)   log10(Δρ)   Diag   Δtime\n",
      "---   ---------------   ---------   ---------   ----   ------\n",
      "  1   -7.090073978406                   -0.39    0.0    186ms\n",
      "  2   -7.226157343674       -0.87       -0.65    0.0    137ms\n",
      "  3   -7.249782177445       -1.63       -1.17    0.0   71.2ms\n",
      "  4   -7.250986294028       -2.92       -1.48    0.0    108ms\n",
      "  5   -7.251258312426       -3.57       -1.78    0.0   72.5ms\n",
      "  6   -7.251319808416       -4.21       -2.07    0.0   73.0ms\n",
      "  7   -7.251334099764       -4.84       -2.35    0.0    101ms\n",
      "  8   -7.251337569219       -5.46       -2.62    0.0   71.5ms\n",
      "  9   -7.251338457710       -6.05       -2.88    0.0   76.9ms\n",
      " 10   -7.251338698748       -6.62       -3.14    0.0   83.8ms\n",
      " 11   -7.251338767946       -7.16       -3.39    0.0   72.6ms\n",
      " 12   -7.251338788853       -7.68       -3.64    0.0   78.6ms\n",
      " 13   -7.251338795449       -8.18       -3.88    0.0   96.8ms\n",
      " 14   -7.251338797603       -8.67       -4.12    0.0   71.5ms\n",
      " 15   -7.251338798325       -9.14       -4.36    0.0   76.7ms\n",
      " 16   -7.251338798572       -9.61       -4.59    0.0   76.4ms\n",
      " 17   -7.251338798658      -10.07       -4.82    0.0   71.2ms\n"
     ]
    }
   ],
   "cell_type": "code",
   "source": [
    "function my_convergence_criterion(info)\n",
    "    tol = 1e-10\n",
    "    length(info.history_Etot) < 2 && return false\n",
    "    ΔE = (info.history_Etot[end-1] - info.history_Etot[end])\n",
    "    ΔE < tol\n",
    "end\n",
    "\n",
    "scfres2 = self_consistent_field(basis;\n",
    "                                solver=my_fp_solver,\n",
    "                                is_converged=my_convergence_criterion,\n",
    "                                eigensolver=my_eig_solver,\n",
    "                                mixing=MyMixing());"
   ],
   "metadata": {},
   "execution_count": 6
  }
 ],
 "nbformat_minor": 3,
 "metadata": {
  "language_info": {
   "file_extension": ".jl",
   "mimetype": "application/julia",
   "name": "julia",
   "version": "1.11.2"
  },
  "kernelspec": {
   "name": "julia-1.11",
   "display_name": "Julia 1.11.2",
   "language": "julia"
  }
 },
 "nbformat": 4
}
