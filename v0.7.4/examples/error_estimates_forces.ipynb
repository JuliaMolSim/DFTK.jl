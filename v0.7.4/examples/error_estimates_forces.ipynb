{
 "cells": [
  {
   "cell_type": "markdown",
   "source": [
    "# Practical error bounds for the forces\n",
    "\n",
    "DFTK includes an implementation of the strategy from [^CDKL2022] to compute\n",
    "practical error bounds for forces and other quantities of interest.\n",
    "\n",
    "This is an example showing how to compute error estimates for the forces\n",
    "on a ${\\rm TiO}_2$ molecule, from which we can either compute asymptotically\n",
    "valid error bounds or increase the precision on the computation of the forces.\n",
    "\n",
    "[^CDKL2022]:\n",
    "    E. Cancès, G. Dusson, G. Kemlin, and A. Levitt\n",
    "    *Practical error bounds for properties in plane-wave electronic structure calculations*\n",
    "    [SIAM Journal on Scientific Computing 44 (5), B1312-B1340](https://doi.org/10.1137/21M1456224)"
   ],
   "metadata": {}
  },
  {
   "outputs": [],
   "cell_type": "code",
   "source": [
    "using DFTK\n",
    "using Printf\n",
    "using LinearAlgebra\n",
    "using ForwardDiff"
   ],
   "metadata": {},
   "execution_count": 1
  },
  {
   "cell_type": "markdown",
   "source": [
    "## Setup\n",
    "We setup manually the ${\\rm TiO}_2$ configuration from\n",
    "[Materials Project](https://materialsproject.org/materials/mp-2657/)."
   ],
   "metadata": {}
  },
  {
   "outputs": [],
   "cell_type": "code",
   "source": [
    "Ti = ElementPsp(:Ti, load_psp(\"hgh/lda/ti-q4.hgh\"))\n",
    "O  = ElementPsp(:O,  load_psp(\"hgh/lda/o-q6.hgh\"))\n",
    "atoms     = [Ti, Ti, O, O, O, O]\n",
    "positions = [[0.5,     0.5,     0.5],  # Ti\n",
    "             [0.0,     0.0,     0.0],  # Ti\n",
    "             [0.19542, 0.80458, 0.5],  # O\n",
    "             [0.80458, 0.19542, 0.5],  # O\n",
    "             [0.30458, 0.30458, 0.0],  # O\n",
    "             [0.69542, 0.69542, 0.0]]  # O\n",
    "lattice   = [[8.79341  0.0      0.0];\n",
    "             [0.0      8.79341  0.0];\n",
    "             [0.0      0.0      5.61098]];"
   ],
   "metadata": {},
   "execution_count": 2
  },
  {
   "cell_type": "markdown",
   "source": [
    "We apply a small displacement to one of the $\\rm Ti$ atoms to get nonzero\n",
    "forces."
   ],
   "metadata": {}
  },
  {
   "outputs": [
    {
     "output_type": "execute_result",
     "data": {
      "text/plain": "3-element Vector{Float64}:\n 0.478\n 0.528\n 0.535"
     },
     "metadata": {},
     "execution_count": 3
    }
   ],
   "cell_type": "code",
   "source": [
    "positions[1] .+= [-0.022, 0.028, 0.035]"
   ],
   "metadata": {},
   "execution_count": 3
  },
  {
   "cell_type": "markdown",
   "source": [
    "We build a model with one $k$-point only, not too high `Ecut_ref` and small\n",
    "tolerance to limit computational time. These parameters can be increased for\n",
    "more precise results."
   ],
   "metadata": {}
  },
  {
   "outputs": [],
   "cell_type": "code",
   "source": [
    "model = model_DFT(lattice, atoms, positions; functionals=LDA())\n",
    "kgrid = [1, 1, 1]\n",
    "Ecut_ref = 35\n",
    "basis_ref = PlaneWaveBasis(model; Ecut=Ecut_ref, kgrid)\n",
    "tol = 1e-5;"
   ],
   "metadata": {},
   "execution_count": 4
  },
  {
   "cell_type": "markdown",
   "source": [
    "We also build a basis with smaller `Ecut`, to compute a variational approximation of the reference solution.\n",
    "\n",
    "> **Choice of convergence parameters**\n",
    ">\n",
    "> Be careful to choose `Ecut` not too close to `Ecut_ref`.\n",
    "> Note also that the current choice `Ecut_ref = 35` is such that the\n",
    "> reference solution is not converged and `Ecut = 15` is such that the\n",
    "> asymptotic regime (crucial to validate the approach) is barely established."
   ],
   "metadata": {}
  },
  {
   "outputs": [],
   "cell_type": "code",
   "source": [
    "Ecut = 15\n",
    "basis = PlaneWaveBasis(model; Ecut, kgrid);"
   ],
   "metadata": {},
   "execution_count": 5
  },
  {
   "cell_type": "markdown",
   "source": [
    "## Computations\n",
    "Compute the solution on the smaller basis:"
   ],
   "metadata": {}
  },
  {
   "outputs": [],
   "cell_type": "code",
   "source": [
    "scfres = self_consistent_field(basis; tol, callback=identity);"
   ],
   "metadata": {},
   "execution_count": 6
  },
  {
   "cell_type": "markdown",
   "source": [
    "Compute first order corrections `refinement.δψ` and `refinement.δρ`.\n",
    "Note that `refinement.ψ` and `refinement.ρ` are the quantities computed with `Ecut`\n",
    "and then extended to the reference grid.\n",
    "This step is roughly as expensive as the `self_consistent_field` call above."
   ],
   "metadata": {}
  },
  {
   "outputs": [],
   "cell_type": "code",
   "source": [
    "refinement = refine_scfres(scfres, basis_ref; tol, callback=identity);"
   ],
   "metadata": {},
   "execution_count": 7
  },
  {
   "cell_type": "markdown",
   "source": [
    "## Error estimates\n",
    "- Computation of the force from the variational solution without any post-processing:"
   ],
   "metadata": {}
  },
  {
   "outputs": [
    {
     "output_type": "execute_result",
     "data": {
      "text/plain": "6-element Vector{StaticArraysCore.SVector{3, Float64}}:\n [1.1354532721763568, -1.0152769251691862, 0.40016739493840614]\n [-0.5924216043086068, 0.8447863054209335, 0.46911652566797646]\n [-3.6627183883589387, 1.4344706146788726, -0.4095739598116898]\n [0.9251155336883627, 0.9709824300265488, -0.14999772478132037]\n [2.6530830373119976, 0.39946263117112224, -0.12658839205380512]\n [-0.45858344403964857, -2.6344327651007173, -0.18268540860700044]"
     },
     "metadata": {},
     "execution_count": 8
    }
   ],
   "cell_type": "code",
   "source": [
    "f = compute_forces(scfres)"
   ],
   "metadata": {},
   "execution_count": 8
  },
  {
   "cell_type": "markdown",
   "source": [
    "- Computation of the forces by a linearization argument when replacing the\n",
    "  error $P-P_*$ by the modified residual $R_{\\rm Schur}(P)$. The latter\n",
    "  quantity is computable in practice."
   ],
   "metadata": {}
  },
  {
   "outputs": [
    {
     "output_type": "execute_result",
     "data": {
      "text/plain": "6-element Vector{StaticArraysCore.SVector{3, Float64}}:\n [1.2910396353775058, -1.1015928433945232, 0.6908050164322301]\n [-0.40994915856682124, 0.710973299875159, 0.5337593627026868]\n [-4.203160607923642, 1.625846398702964, -0.6027094144481935]\n [0.8244299792993821, 1.238774743498181, -0.34575577502939137]\n [3.015571403656158, 0.49060246369089916, -0.09430360349865044]\n [-0.5197675829797008, -2.962424181105606, -0.17946739503853731]"
     },
     "metadata": {},
     "execution_count": 9
    }
   ],
   "cell_type": "code",
   "source": [
    "force_refinement = refine_forces(refinement)\n",
    "forces_refined = f + force_refinement.dF"
   ],
   "metadata": {},
   "execution_count": 9
  },
  {
   "cell_type": "markdown",
   "source": [
    "A practical estimate of the error on the forces is then the following:"
   ],
   "metadata": {}
  },
  {
   "outputs": [
    {
     "output_type": "execute_result",
     "data": {
      "text/plain": "6-element Vector{StaticArraysCore.SVector{3, Float64}}:\n [0.15558636320114894, -0.08631591822533702, 0.290637621493824]\n [0.18247244574178556, -0.13381300554577447, 0.0646428370347103]\n [-0.540442219564703, 0.1913757840240915, -0.19313545463650367]\n [-0.10068555438898064, 0.26779231347163224, -0.195758050248071]\n [0.36248836634416026, 0.09113983251977692, 0.03228478855515468]\n [-0.06118413894005226, -0.3279914160048887, 0.0032180135684631295]"
     },
     "metadata": {},
     "execution_count": 10
    }
   ],
   "cell_type": "code",
   "source": [
    "dF_estimate = forces_refined - f"
   ],
   "metadata": {},
   "execution_count": 10
  },
  {
   "cell_type": "markdown",
   "source": [
    "# Comparisons against non-practical estimates.\n",
    "For practical computations one can stop at `forces_refined` and `dF_estimate`.\n",
    "We continue here with a comparison of different ways to obtain the refined forces,\n",
    "noting that the computational cost is much higher."
   ],
   "metadata": {}
  },
  {
   "cell_type": "markdown",
   "source": [
    "## Computations\n",
    "We compute the reference solution $P_*$ from which we will compute the\n",
    "references forces."
   ],
   "metadata": {}
  },
  {
   "outputs": [],
   "cell_type": "code",
   "source": [
    "scfres_ref = self_consistent_field(basis_ref; tol, callback=identity)\n",
    "ψ_ref = DFTK.select_occupied_orbitals(basis_ref, scfres_ref.ψ, scfres_ref.occupation).ψ;"
   ],
   "metadata": {},
   "execution_count": 11
  },
  {
   "cell_type": "markdown",
   "source": [
    "- Compute the error $P-P_*$ on the associated orbitals $ϕ-ψ$ after aligning\n",
    "  them: this is done by solving $\\min |ϕ - ψU|$ for $U$ unitary matrix of\n",
    "  size $N×N$ ($N$ being the number of electrons) whose solution is\n",
    "  $U = S(S^*S)^{-1/2}$ where $S$ is the overlap matrix $ψ^*ϕ$."
   ],
   "metadata": {}
  },
  {
   "outputs": [],
   "cell_type": "code",
   "source": [
    "function compute_error(ϕ, ψ)\n",
    "    map(zip(ϕ, ψ)) do (ϕk, ψk)\n",
    "        S = ψk'ϕk\n",
    "        U = S*(S'S)^(-1/2)\n",
    "        ϕk - ψk*U\n",
    "    end\n",
    "end\n",
    "error = compute_error(refinement.ψ, ψ_ref);"
   ],
   "metadata": {},
   "execution_count": 12
  },
  {
   "cell_type": "markdown",
   "source": [
    "## Error estimates"
   ],
   "metadata": {}
  },
  {
   "cell_type": "markdown",
   "source": [
    "We start with different estimations of the forces:\n",
    "- Force from the reference solution"
   ],
   "metadata": {}
  },
  {
   "outputs": [],
   "cell_type": "code",
   "source": [
    "f_ref = compute_forces(scfres_ref)\n",
    "forces   = Dict(\"F(P_*)\" => f_ref)\n",
    "relerror = Dict(\"F(P_*)\" => 0.0)\n",
    "compute_relerror(f) = norm(f - f_ref) / norm(f_ref);"
   ],
   "metadata": {},
   "execution_count": 13
  },
  {
   "cell_type": "markdown",
   "source": [
    "- Force from the variational solution and relative error without\n",
    "  any post-processing:"
   ],
   "metadata": {}
  },
  {
   "outputs": [],
   "cell_type": "code",
   "source": [
    "forces[\"F(P)\"]   = f\n",
    "\n",
    "relerror[\"F(P)\"] = compute_relerror(f);"
   ],
   "metadata": {},
   "execution_count": 14
  },
  {
   "cell_type": "markdown",
   "source": [
    "We then try to improve $F(P)$ using the first order linearization:\n",
    "\n",
    "$$\n",
    "F(P) = F(P_*) + {\\rm d}F(P)·(P-P_*).\n",
    "$$"
   ],
   "metadata": {}
  },
  {
   "cell_type": "markdown",
   "source": [
    "To this end, we use the `ForwardDiff.jl` package to compute ${\\rm d}F(P)$\n",
    "using automatic differentiation."
   ],
   "metadata": {}
  },
  {
   "outputs": [],
   "cell_type": "code",
   "source": [
    "function df(basis, occupation, ψ, δψ, ρ)\n",
    "    δρ = DFTK.compute_δρ(basis, ψ, δψ, occupation)\n",
    "    ForwardDiff.derivative(ε -> compute_forces(basis, ψ.+ε.*δψ, occupation; ρ=ρ+ε.*δρ), 0)\n",
    "end;"
   ],
   "metadata": {},
   "execution_count": 15
  },
  {
   "cell_type": "markdown",
   "source": [
    "- Computation of the forces by a linearization argument if we have access to\n",
    "  the actual error $P-P_*$. Usually this is of course not the case, but this\n",
    "  is the \"best\" improvement we can hope for with a linearisation, so we are\n",
    "  aiming for this precision."
   ],
   "metadata": {}
  },
  {
   "outputs": [],
   "cell_type": "code",
   "source": [
    "df_err = df(basis_ref, refinement.occupation, refinement.ψ,\n",
    "            DFTK.proj_tangent(error, refinement.ψ), refinement.ρ)\n",
    "forces[\"F(P) - df(P)⋅(P-P_*)\"]   = f - df_err\n",
    "relerror[\"F(P) - df(P)⋅(P-P_*)\"] = compute_relerror(f - df_err);"
   ],
   "metadata": {},
   "execution_count": 16
  },
  {
   "cell_type": "markdown",
   "source": [
    "- Computation of the forces by a linearization argument when replacing the\n",
    "  error $P-P_*$ by the modified residual $R_{\\rm Schur}(P)$. The latter\n",
    "  quantity is computable in practice."
   ],
   "metadata": {}
  },
  {
   "outputs": [],
   "cell_type": "code",
   "source": [
    "forces[\"F(P) - df(P)⋅Rschur(P)\"]   = forces_refined\n",
    "relerror[\"F(P) - df(P)⋅Rschur(P)\"] = compute_relerror(forces_refined);"
   ],
   "metadata": {},
   "execution_count": 17
  },
  {
   "cell_type": "markdown",
   "source": [
    "Summary of all forces on the first atom (Ti)"
   ],
   "metadata": {}
  },
  {
   "outputs": [
    {
     "name": "stdout",
     "output_type": "stream",
     "text": [
      "                        F(P_*) = [1.47899, -1.25377, 0.81014]   (rel. error: 0.00000)\n",
      "                          F(P) = [1.13545, -1.01528, 0.40017]   (rel. error: 0.20484)\n",
      "        F(P) - df(P)⋅Rschur(P) = [1.29104, -1.10159, 0.69081]   (rel. error: 0.07838)\n",
      "          F(P) - df(P)⋅(P-P_*) = [1.50903, -1.28636, 0.86149]   (rel. error: 0.08072)\n"
     ]
    }
   ],
   "cell_type": "code",
   "source": [
    "for (key, value) in pairs(forces)\n",
    "    @printf(\"%30s = [%7.5f, %7.5f, %7.5f]   (rel. error: %7.5f)\\n\",\n",
    "            key, (value[1])..., relerror[key])\n",
    "end"
   ],
   "metadata": {},
   "execution_count": 18
  },
  {
   "cell_type": "markdown",
   "source": [
    "Notice how close the computable expression $F(P) - {\\rm d}F(P)⋅R_{\\rm Schur}(P)$\n",
    "is to the best linearization ansatz $F(P) - {\\rm d}F(P)⋅(P-P_*)$."
   ],
   "metadata": {}
  }
 ],
 "nbformat_minor": 3,
 "metadata": {
  "language_info": {
   "file_extension": ".jl",
   "mimetype": "application/julia",
   "name": "julia",
   "version": "1.11.2"
  },
  "kernelspec": {
   "name": "julia-1.11",
   "display_name": "Julia 1.11.2",
   "language": "julia"
  }
 },
 "nbformat": 4
}
