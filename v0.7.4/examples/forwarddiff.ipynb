{
 "cells": [
  {
   "cell_type": "markdown",
   "source": [
    "# Polarizability using automatic differentiation\n",
    "\n",
    "Simple example for computing properties using (forward-mode)\n",
    "automatic differentiation.\n",
    "For a more classical approach and more details about computing polarizabilities,\n",
    "see Polarizability by linear response."
   ],
   "metadata": {}
  },
  {
   "outputs": [],
   "cell_type": "code",
   "source": [
    "using DFTK\n",
    "using LinearAlgebra\n",
    "using ForwardDiff\n",
    "\n",
    "# Construct PlaneWaveBasis given a particular electric field strength\n",
    "# Again we take the example of a Helium atom.\n",
    "function make_basis(ε::T; a=10., Ecut=30) where {T}\n",
    "    lattice=T(a) * I(3)  # lattice is a cube of $a$ Bohrs\n",
    "    # Helium at the center of the box\n",
    "    atoms     = [ElementPsp(:He, load_psp(\"hgh/lda/He-q2\"))]\n",
    "    positions = [[1/2, 1/2, 1/2]]\n",
    "\n",
    "    model = model_DFT(lattice, atoms, positions;\n",
    "                      functionals=[:lda_x, :lda_c_vwn],\n",
    "                      extra_terms=[ExternalFromReal(r -> -ε * (r[1] - a/2))],\n",
    "                      symmetries=false)\n",
    "    PlaneWaveBasis(model; Ecut, kgrid=[1, 1, 1])  # No k-point sampling on isolated system\n",
    "end\n",
    "\n",
    "# dipole moment of a given density (assuming the current geometry)\n",
    "function dipole(basis, ρ)\n",
    "    @assert isdiag(basis.model.lattice)\n",
    "    a  = basis.model.lattice[1, 1]\n",
    "    rr = [a * (r[1] - 1/2) for r in r_vectors(basis)]\n",
    "    sum(rr .* ρ) * basis.dvol\n",
    "end\n",
    "\n",
    "# Function to compute the dipole for a given field strength\n",
    "function compute_dipole(ε; tol=1e-8, kwargs...)\n",
    "    scfres = self_consistent_field(make_basis(ε; kwargs...); tol)\n",
    "    dipole(scfres.basis, scfres.ρ)\n",
    "end;"
   ],
   "metadata": {},
   "execution_count": 1
  },
  {
   "cell_type": "markdown",
   "source": [
    "With this in place we can compute the polarizability from finite differences\n",
    "(just like in the previous example):"
   ],
   "metadata": {}
  },
  {
   "outputs": [
    {
     "name": "stdout",
     "output_type": "stream",
     "text": [
      "n     Energy            log10(ΔE)   log10(Δρ)   Diag   Δtime\n",
      "---   ---------------   ---------   ---------   ----   ------\n",
      "  1   -2.770834400869                   -0.52    9.0    168ms\n",
      "  2   -2.772146835488       -2.88       -1.33    1.0    137ms\n",
      "  3   -2.772170151442       -4.63       -2.41    1.0    123ms\n",
      "  4   -2.772170644270       -6.31       -3.11    1.0    112ms\n",
      "  5   -2.772170722690       -7.11       -4.43    2.0    139ms\n",
      "  6   -2.772170722854       -9.79       -4.57    1.0    116ms\n",
      "  7   -2.772170723012       -9.80       -5.56    1.0    120ms\n",
      "  8   -2.772170723014      -11.77       -5.63    2.0    138ms\n",
      "  9   -2.772170723015      -12.01       -6.14    1.0    123ms\n",
      " 10   -2.772170723015   +  -14.01       -6.44    1.0    127ms\n",
      " 11   -2.772170723015      -13.76       -6.76    1.0    127ms\n",
      " 12   -2.772170723015      -14.27       -7.64    1.0    569ms\n",
      " 13   -2.772170723015   +  -15.35       -8.01    2.0    133ms\n",
      "n     Energy            log10(ΔE)   log10(Δρ)   Diag   Δtime\n",
      "---   ---------------   ---------   ---------   ----   ------\n",
      "  1   -2.770730310547                   -0.52    9.0    181ms\n",
      "  2   -2.772058295332       -2.88       -1.32    1.0    121ms\n",
      "  3   -2.772082930315       -4.61       -2.43    1.0    120ms\n",
      "  4   -2.772083318521       -6.41       -3.12    1.0    112ms\n",
      "  5   -2.772083417276       -7.01       -4.09    2.0    129ms\n",
      "  6   -2.772083417659       -9.42       -4.58    1.0    115ms\n",
      "  7   -2.772083417808       -9.83       -5.33    1.0    118ms\n",
      "  8   -2.772083417810      -11.68       -5.70    1.0    123ms\n",
      "  9   -2.772083417811      -12.26       -6.08    1.0    123ms\n",
      " 10   -2.772083417811      -12.97       -7.40    2.0    160ms\n",
      " 11   -2.772083417811   +  -14.12       -7.82    1.0    132ms\n",
      " 12   -2.772083417811   +  -14.65       -8.47    1.0    633ms\n"
     ]
    },
    {
     "output_type": "execute_result",
     "data": {
      "text/plain": "1.7735578746157374"
     },
     "metadata": {},
     "execution_count": 2
    }
   ],
   "cell_type": "code",
   "source": [
    "polarizability_fd = let\n",
    "    ε = 0.01\n",
    "    (compute_dipole(ε) - compute_dipole(0.0)) / ε\n",
    "end"
   ],
   "metadata": {},
   "execution_count": 2
  },
  {
   "cell_type": "markdown",
   "source": [
    "We do the same thing using automatic differentiation. Under the hood this uses\n",
    "custom rules to implicitly differentiate through the self-consistent\n",
    "field fixed-point problem. This leads to a density-functional perturbation\n",
    "theory problem, which is automatically set up and solved in the background."
   ],
   "metadata": {}
  },
  {
   "outputs": [
    {
     "name": "stdout",
     "output_type": "stream",
     "text": [
      "n     Energy            log10(ΔE)   log10(Δρ)   Diag   Δtime\n",
      "---   ---------------   ---------   ---------   ----   ------\n",
      "  1   -2.770741925591                   -0.53    9.0    190ms\n",
      "  2   -2.772053315436       -2.88       -1.31    1.0    122ms\n",
      "  3   -2.772083024936       -4.53       -2.56    1.0    112ms\n",
      "  4   -2.772083374980       -6.46       -3.52    1.0    116ms\n",
      "  5   -2.772083415411       -7.39       -3.84    2.0    132ms\n",
      "  6   -2.772083417737       -8.63       -4.98    1.0    118ms\n",
      "  7   -2.772083417810      -10.14       -5.53    2.0    136ms\n",
      "  8   -2.772083417810      -12.03       -5.92    2.0    670ms\n",
      "  9   -2.772083417811      -12.88       -6.49    1.0    138ms\n",
      " 10   -2.772083417811      -13.71       -7.64    1.0    149ms\n",
      " 11   -2.772083417811      -14.31       -7.92    2.0    147ms\n",
      " 12   -2.772083417811   +  -14.40       -8.49    1.0    125ms\n",
      "\n",
      "Polarizability via ForwardDiff:       1.7725349645551904\n",
      "Polarizability via finite difference: 1.7735578746157374\n"
     ]
    }
   ],
   "cell_type": "code",
   "source": [
    "polarizability = ForwardDiff.derivative(compute_dipole, 0.0)\n",
    "println()\n",
    "println(\"Polarizability via ForwardDiff:       $polarizability\")\n",
    "println(\"Polarizability via finite difference: $polarizability_fd\")"
   ],
   "metadata": {},
   "execution_count": 3
  }
 ],
 "nbformat_minor": 3,
 "metadata": {
  "language_info": {
   "file_extension": ".jl",
   "mimetype": "application/julia",
   "name": "julia",
   "version": "1.11.2"
  },
  "kernelspec": {
   "name": "julia-1.11",
   "display_name": "Julia 1.11.2",
   "language": "julia"
  }
 },
 "nbformat": 4
}
