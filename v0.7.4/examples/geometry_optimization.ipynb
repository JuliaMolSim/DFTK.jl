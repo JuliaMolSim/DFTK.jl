{
 "cells": [
  {
   "cell_type": "markdown",
   "source": [
    "# Geometry optimization\n",
    "\n",
    "We use DFTK and the [GeometryOptimization](https://github.com/JuliaMolSim/GeometryOptimization.jl/)\n",
    "package to find the minimal-energy bond length of the $H_2$ molecule.\n",
    "First we set up an appropriate `DFTKCalculator` (see AtomsCalculators integration),\n",
    "for which we use the LDA model just like in the Tutorial for silicon\n",
    "in combination with a pseudodojo pseudopotential (see Pseudopotentials)."
   ],
   "metadata": {}
  },
  {
   "outputs": [
    {
     "output_type": "execute_result",
     "data": {
      "text/plain": "DFTKCalculator(functionals=Xc(lda_x, lda_c_pw), pseudopotentials=PseudoFamily(\"dojo.nc.sr.pbe.v0_4_1.oncvpsp3.standard.upf\"), Ecut=10, kgrid=[1, 1, 1])"
     },
     "metadata": {},
     "execution_count": 1
    }
   ],
   "cell_type": "code",
   "source": [
    "using DFTK\n",
    "using PseudoPotentialData\n",
    "\n",
    "pseudopotentials = PseudoFamily(\"dojo.nc.sr.pbe.v0_4_1.oncvpsp3.standard.upf\")\n",
    "calc = DFTKCalculator(;\n",
    "    model_kwargs = (; functionals=LDA(), pseudopotentials),  # model_DFT keyword arguments\n",
    "    basis_kwargs = (; kgrid=[1, 1, 1], Ecut=10)  # PlaneWaveBasis keyword arguments\n",
    ")"
   ],
   "metadata": {},
   "execution_count": 1
  },
  {
   "cell_type": "markdown",
   "source": [
    "Next we set up an initial hydrogen molecule within a box of vacuum.\n",
    "We use the parameters of the\n",
    "[equivalent tutorial from ABINIT](https://docs.abinit.org/tutorial/base1/)\n",
    "and DFTK's AtomsBase integration to setup the hydrogen molecule.\n",
    "We employ a simulation box of 10 bohr times 10 bohr times 10 bohr and a\n",
    "pseudodojo pseudopotential."
   ],
   "metadata": {}
  },
  {
   "outputs": [
    {
     "output_type": "execute_result",
     "data": {
      "text/plain": "FlexibleSystem(H₂, periodicity = TTT):\n    cell_vectors      : [      10        0        0;\n                                0       10        0;\n                                0        0       10]u\"a₀\"\n\n    Atom(H,  [       0,        0,        0]u\"a₀\")\n    Atom(H,  [     1.4,        0,        0]u\"a₀\")\n"
     },
     "metadata": {},
     "execution_count": 2
    }
   ],
   "cell_type": "code",
   "source": [
    "using LinearAlgebra\n",
    "using Unitful\n",
    "using UnitfulAtomic\n",
    "\n",
    "r0 = 1.4   # Initial bond length in Bohr\n",
    "a  = 10.0  # Box size in Bohr\n",
    "\n",
    "cell_vectors = [[a, 0, 0]u\"bohr\", [0, a, 0]u\"bohr\", [0, 0, a]u\"bohr\"]\n",
    "h2_crude = periodic_system([:H => [0, 0, 0.]u\"bohr\",\n",
    "                            :H => [r0, 0, 0]u\"bohr\"],\n",
    "                           cell_vectors)"
   ],
   "metadata": {},
   "execution_count": 2
  },
  {
   "cell_type": "markdown",
   "source": [
    "Finally we call `minimize_energy!` to start the geometry optimisation.\n",
    "We use `verbosity=2` to get some insight into the minimisation.\n",
    "With `verbosity=1` only a summarising table would be printed and with\n",
    "`verbosity=0` (default) the minimisation would be quiet."
   ],
   "metadata": {}
  },
  {
   "outputs": [
    {
     "name": "stdout",
     "output_type": "stream",
     "text": [
      "n     Energy            log10(ΔE)   log10(Δρ)   α      Diag   Δtime\n",
      "---   ---------------   ---------   ---------   ----   ----   ------\n",
      "  1   -1.110743614418                   -0.82   0.80    8.0    4.22s\n",
      "  2   -1.117207680017       -2.19       -1.89   0.80    1.0    2.01s\n",
      "  3   -1.117251980829       -4.35       -2.72   0.80    1.0   49.5ms\n",
      "  4   -1.117252489293       -6.29       -3.58   0.80    1.0   18.2ms\n",
      "  5   -1.117252499671       -7.98       -4.08   0.80    1.0   25.5ms\n",
      "  6   -1.117252500685       -8.99       -4.59   0.80    1.0   18.6ms\n",
      "  7   -1.117252500842       -9.81       -5.78   0.80    1.0   21.7ms\n",
      "  8   -1.117252500846      -11.40       -6.20   0.80    2.0   24.4ms\n",
      "  9   -1.117252500846      -12.98       -7.22   0.80    1.0   19.1ms\n",
      " 10   -1.117252500846      -14.42       -7.52   0.80    1.0   20.9ms\n",
      " 11   -1.117252500846   +  -14.95       -8.34   0.80    1.0   23.2ms\n",
      " 12   -1.117252500846      -15.35       -8.90   0.80    2.0   25.4ms\n",
      "n     Energy            log10(ΔE)   log10(Δρ)   α      Diag   Δtime\n",
      "---   ---------------   ---------   ---------   ----   ----   ------\n",
      "  1   -1.117252500846                   -9.40   0.80    1.0    2.06s\n",
      "  2   -1.117252500846      -14.65      -10.39   0.80    1.0   55.7ms\n",
      "\n",
      "Geometry optimisation convergence (in atomic units)\n",
      "┌─────┬─────────────────┬───────────┬────────────┬────────┐\n",
      "│   n │          Energy │ log10(ΔE) │ max(Force) │  Δtime │\n",
      "├─────┼─────────────────┼───────────┼────────────┼────────┤\n",
      "│   0 │ -1.117252500846 │           │  0.0269316 │  20.0s │\n",
      "└─────┴─────────────────┴───────────┴────────────┴────────┘\n",
      "\n",
      "n     Energy            log10(ΔE)   log10(Δρ)   α      Diag   Δtime\n",
      "---   ---------------   ---------   ---------   ----   ----   ------\n",
      "  1   -1.117519305134                   -2.46   0.80    1.0   41.6ms\n",
      "  2   -1.117521893091       -5.59       -3.49   0.80    1.0   17.8ms\n",
      "  3   -1.117521920024       -7.57       -4.23   0.80    1.0   17.7ms\n",
      "  4   -1.117521920488       -9.33       -5.14   0.80    1.0   32.9ms\n",
      "  5   -1.117521920504      -10.81       -5.92   0.80    1.0   18.8ms\n",
      "  6   -1.117521920505      -12.13       -6.42   0.80    1.0   21.9ms\n",
      "  7   -1.117521920505      -13.34       -7.39   0.80    1.0   19.2ms\n",
      "  8   -1.117521920505      -14.75       -8.18   0.80    1.0   21.6ms\n",
      "  9   -1.117521920505   +  -15.05       -8.97   0.80    1.0   21.1ms\n",
      "n     Energy            log10(ΔE)   log10(Δρ)   α      Diag   Δtime\n",
      "---   ---------------   ---------   ---------   ----   ----   ------\n",
      "  1   -1.118248561948                   -1.69   0.80    1.0   12.1ms\n",
      "  2   -1.118340340216       -4.04       -2.70   0.80    1.0   33.5ms\n",
      "  3   -1.118341307383       -6.01       -3.44   0.80    1.0   19.6ms\n",
      "  4   -1.118341324823       -7.76       -4.36   0.80    1.0   17.9ms\n",
      "  5   -1.118341325407       -9.23       -5.12   0.80    1.0   20.2ms\n",
      "  6   -1.118341325434      -10.57       -5.62   0.80    1.0   20.2ms\n",
      "  7   -1.118341325436      -11.73       -6.68   0.80    1.0   20.6ms\n",
      "  8   -1.118341325436      -13.54       -7.58   0.80    1.0   21.2ms\n",
      "  9   -1.118341325436   +  -14.65       -8.12   0.80    1.0   21.1ms\n",
      " 10   -1.118341325436   +  -15.65       -8.55   0.80    1.0   21.2ms\n",
      "n     Energy            log10(ΔE)   log10(Δρ)   α      Diag   Δtime\n",
      "---   ---------------   ---------   ---------   ----   ----   ------\n",
      "  1   -1.118341325436                   -9.05   0.80    1.0   11.2ms\n",
      "  2   -1.118341325436      -15.65      -10.36   0.80    1.0   26.3ms\n",
      "\n",
      "┌─────┬─────────────────┬───────────┬────────────┬────────┐\n",
      "│   n │          Energy │ log10(ΔE) │ max(Force) │  Δtime │\n",
      "├─────┼─────────────────┼───────────┼────────────┼────────┤\n",
      "│   1 │ -1.118341325436 │     -2.96 │ 0.00297051 │  2.16s │\n",
      "└─────┴─────────────────┴───────────┴────────────┴────────┘\n",
      "\n",
      "n     Energy            log10(ΔE)   log10(Δρ)   α      Diag   Δtime\n",
      "---   ---------------   ---------   ---------   ----   ----   ------\n",
      "  1   -1.118348017607                   -3.09   0.80    1.0   20.4ms\n",
      "  2   -1.118348160854       -6.84       -4.11   0.80    1.0   17.6ms\n",
      "  3   -1.118348162332       -8.83       -4.86   0.80    1.0   25.1ms\n",
      "  4   -1.118348162357      -10.59       -5.78   0.80    1.0   18.1ms\n",
      "  5   -1.118348162358      -12.08       -6.55   0.80    1.0   23.1ms\n",
      "  6   -1.118348162358      -13.39       -7.04   0.80    1.0   18.6ms\n",
      "  7   -1.118348162358      -14.88       -8.13   0.80    1.0   20.9ms\n",
      "  8   -1.118348162358      -15.35       -8.95   0.80    1.0   21.1ms\n",
      "n     Energy            log10(ΔE)   log10(Δρ)   α      Diag   Δtime\n",
      "---   ---------------   ---------   ---------   ----   ----   ------\n",
      "  1   -1.118356019879                   -2.61   0.80    1.0   10.9ms\n",
      "  2   -1.118357382893       -5.87       -3.62   0.80    1.0   23.0ms\n",
      "  3   -1.118357396968       -7.85       -4.37   0.80    1.0   19.7ms\n",
      "  4   -1.118357397214       -9.61       -5.29   0.80    1.0   19.8ms\n",
      "  5   -1.118357397222      -11.10       -6.06   0.80    1.0   18.5ms\n",
      "  6   -1.118357397223      -12.45       -6.55   0.80    1.0   21.0ms\n",
      "  7   -1.118357397223      -13.60       -7.65   0.80    1.0   21.3ms\n",
      "  8   -1.118357397223      -14.45       -8.45   0.80    1.0   21.3ms\n",
      "n     Energy            log10(ΔE)   log10(Δρ)   α      Diag   Δtime\n",
      "---   ---------------   ---------   ---------   ----   ----   ------\n",
      "  1   -1.118357397223                   -9.24   0.80    1.0   10.9ms\n",
      "  2   -1.118357397223   +  -14.26       -9.82   0.80    1.0   24.1ms\n",
      "\n",
      "┌─────┬─────────────────┬───────────┬────────────┬────────┐\n",
      "│   n │          Energy │ log10(ΔE) │ max(Force) │  Δtime │\n",
      "├─────┼─────────────────┼───────────┼────────────┼────────┤\n",
      "│   2 │ -1.118357397223 │     -4.79 │ 4.47255e-5 │  788ms │\n",
      "└─────┴─────────────────┴───────────┴────────────┴────────┘\n",
      "\n",
      "n     Energy            log10(ΔE)   log10(Δρ)   α      Diag   Δtime\n",
      "---   ---------------   ---------   ---------   ----   ----   ------\n",
      "  1   -1.118357398685                   -4.94   0.80    1.0   18.2ms\n",
      "  2   -1.118357398714      -10.54       -5.96   0.80    1.0   17.7ms\n",
      "  3   -1.118357398714      -12.53       -6.70   0.80    1.0   21.5ms\n",
      "  4   -1.118357398714      -14.18       -7.62   0.80    1.0   21.2ms\n",
      "  5   -1.118357398714   +  -15.35       -8.39   0.80    1.0   20.4ms\n",
      "  6   -1.118357398714      -14.75       -8.89   0.80    1.0   18.9ms\n",
      "n     Energy            log10(ΔE)   log10(Δρ)   α      Diag   Δtime\n",
      "---   ---------------   ---------   ---------   ----   ----   ------\n",
      "  1   -1.118357400607                   -4.40   0.80    1.0    440ms\n",
      "  2   -1.118357400953       -9.46       -5.42   0.80    1.0   21.1ms\n",
      "  3   -1.118357400956      -11.45       -6.17   0.80    1.0   17.8ms\n",
      "  4   -1.118357400956      -13.22       -7.09   0.80    1.0   18.4ms\n",
      "  5   -1.118357400956      -14.57       -7.86   0.80    1.0   18.4ms\n",
      "  6   -1.118357400956      -14.51       -8.35   0.80    1.0   21.2ms\n",
      "  7   -1.118357400956   +  -15.05       -9.45   0.80    1.0   23.0ms\n",
      "n     Energy            log10(ΔE)   log10(Δρ)   α      Diag   Δtime\n",
      "---   ---------------   ---------   ---------   ----   ----   ------\n",
      "  1   -1.118357400956                  -10.08   0.80    1.0   15.2ms\n",
      "  2   -1.118357400956      -14.57      -11.02   0.80    1.0   22.2ms\n",
      "\n",
      "┌─────┬─────────────────┬───────────┬────────────┬────────┐\n",
      "│   n │          Energy │ log10(ΔE) │ max(Force) │  Δtime │\n",
      "├─────┼─────────────────┼───────────┼────────────┼────────┤\n",
      "│   3 │ -1.118357400956 │     -8.43 │ 1.13088e-8 │  1.20s │\n",
      "└─────┴─────────────────┴───────────┴────────────┴────────┘\n",
      "\n"
     ]
    }
   ],
   "cell_type": "code",
   "source": [
    "using GeometryOptimization\n",
    "results = minimize_energy!(h2_crude, calc; tol_forces=2e-6, verbosity=2)\n",
    "nothing  # hide"
   ],
   "metadata": {},
   "execution_count": 3
  },
  {
   "cell_type": "markdown",
   "source": [
    "Structure after optimisation (note that the atom has wrapped around)"
   ],
   "metadata": {}
  },
  {
   "outputs": [
    {
     "output_type": "execute_result",
     "data": {
      "text/plain": "FlexibleSystem(H₂, periodicity = TTT):\n    cell_vectors      : [      10        0        0;\n                                0       10        0;\n                                0        0       10]u\"a₀\"\n\n    Atom(H,  [-0.0431826, 2.1052e-10, -9.07598e-11]u\"a₀\")\n    Atom(H,  [ 1.44318, 2.10925e-10, -9.31945e-11]u\"a₀\")\n"
     },
     "metadata": {},
     "execution_count": 4
    }
   ],
   "cell_type": "code",
   "source": [
    "results.system"
   ],
   "metadata": {},
   "execution_count": 4
  },
  {
   "cell_type": "markdown",
   "source": [
    "Compute final bond length:"
   ],
   "metadata": {}
  },
  {
   "outputs": [
    {
     "name": "stdout",
     "output_type": "stream",
     "text": [
      "Optimal bond length: 1.486365262193367 a₀\n"
     ]
    }
   ],
   "cell_type": "code",
   "source": [
    "rmin = norm(position(results.system[1]) - position(results.system[2]))\n",
    "println(\"Optimal bond length: \", rmin)"
   ],
   "metadata": {},
   "execution_count": 5
  },
  {
   "cell_type": "markdown",
   "source": [
    "Our results (1.486 Bohr) agrees with the\n",
    "[equivalent tutorial from ABINIT](https://docs.abinit.org/tutorial/base1/)."
   ],
   "metadata": {}
  }
 ],
 "nbformat_minor": 3,
 "metadata": {
  "language_info": {
   "file_extension": ".jl",
   "mimetype": "application/julia",
   "name": "julia",
   "version": "1.11.2"
  },
  "kernelspec": {
   "name": "julia-1.11",
   "display_name": "Julia 1.11.2",
   "language": "julia"
  }
 },
 "nbformat": 4
}
