{
 "cells": [
  {
   "cell_type": "markdown",
   "source": [
    "# Polarizability by linear response\n",
    "\n",
    "We compute the polarizability of a Helium atom. The polarizability\n",
    "is defined as the change in dipole moment\n",
    "$$\n",
    "μ = ∫ r ρ(r) dr\n",
    "$$\n",
    "with respect to a small uniform electric field $E = -x$.\n",
    "\n",
    "We compute this in two ways: first by finite differences (applying a\n",
    "finite electric field), then by linear response. Note that DFTK is\n",
    "not really adapted to isolated atoms because it uses periodic\n",
    "boundary conditions. Nevertheless we can simply embed the Helium\n",
    "atom in a large enough box (although this is computationally wasteful).\n",
    "\n",
    "As in other tests, this is not fully converged, convergence\n",
    "parameters were simply selected for fast execution on CI,"
   ],
   "metadata": {}
  },
  {
   "outputs": [],
   "cell_type": "code",
   "source": [
    "using DFTK\n",
    "using LinearAlgebra\n",
    "\n",
    "a = 10.\n",
    "lattice = a * I(3)  # cube of $a$ bohrs\n",
    "# Helium at the center of the box\n",
    "atoms     = [ElementPsp(:He, load_psp(\"hgh/lda/He-q2\"))]\n",
    "positions = [[1/2, 1/2, 1/2]]\n",
    "\n",
    "\n",
    "kgrid = [1, 1, 1]  # no k-point sampling for an isolated system\n",
    "Ecut = 30\n",
    "tol = 1e-8\n",
    "\n",
    "# dipole moment of a given density (assuming the current geometry)\n",
    "function dipole(basis, ρ)\n",
    "    rr = [(r[1] - a/2) for r in r_vectors_cart(basis)]\n",
    "    sum(rr .* ρ) * basis.dvol\n",
    "end;"
   ],
   "metadata": {},
   "execution_count": 1
  },
  {
   "cell_type": "markdown",
   "source": [
    "## Using finite differences\n",
    "We first compute the polarizability by finite differences.\n",
    "First compute the dipole moment at rest:"
   ],
   "metadata": {}
  },
  {
   "outputs": [
    {
     "name": "stdout",
     "output_type": "stream",
     "text": [
      "n     Energy            log10(ΔE)   log10(Δρ)   Diag   Δtime\n",
      "---   ---------------   ---------   ---------   ----   ------\n",
      "  1   -2.770415799303                   -0.52    9.0    214ms\n",
      "  2   -2.771692275371       -2.89       -1.32    1.0   94.4ms\n",
      "  3   -2.771714417797       -4.65       -2.47    1.0   97.5ms\n",
      "  4   -2.771714638090       -6.66       -3.15    1.0    100ms\n",
      "  5   -2.771714713736       -7.12       -3.92    2.0    123ms\n",
      "  6   -2.771714715073       -8.87       -4.51    1.0    110ms\n",
      "  7   -2.771714715244       -9.77       -5.10    1.0    129ms\n",
      "  8   -2.771714715248      -11.35       -5.66    1.0    171ms\n",
      "  9   -2.771714715250      -11.92       -6.17    2.0    557ms\n",
      " 10   -2.771714715250      -13.23       -6.75    1.0    147ms\n",
      " 11   -2.771714715250   +  -14.51       -8.04    1.0    148ms\n"
     ]
    },
    {
     "output_type": "execute_result",
     "data": {
      "text/plain": "-0.0001345734991356166"
     },
     "metadata": {},
     "execution_count": 2
    }
   ],
   "cell_type": "code",
   "source": [
    "model = model_DFT(lattice, atoms, positions;\n",
    "                  functionals=LDA(), symmetries=false)\n",
    "basis = PlaneWaveBasis(model; Ecut, kgrid)\n",
    "res   = self_consistent_field(basis; tol)\n",
    "μref  = dipole(basis, res.ρ)"
   ],
   "metadata": {},
   "execution_count": 2
  },
  {
   "cell_type": "markdown",
   "source": [
    "Then in a small uniform field:"
   ],
   "metadata": {}
  },
  {
   "outputs": [
    {
     "name": "stdout",
     "output_type": "stream",
     "text": [
      "n     Energy            log10(ΔE)   log10(Δρ)   Diag   Δtime\n",
      "---   ---------------   ---------   ---------   ----   ------\n",
      "  1   -2.770494164993                   -0.52    9.0    273ms\n",
      "  2   -2.771779270997       -2.89       -1.32    1.0    165ms\n",
      "  3   -2.771801648909       -4.65       -2.45    1.0   94.8ms\n",
      "  4   -2.771801994986       -6.46       -3.15    1.0    100ms\n",
      "  5   -2.771802074170       -7.10       -4.16    2.0    118ms\n",
      "  6   -2.771802074266      -10.02       -4.28    1.0    103ms\n",
      "  7   -2.771802074470       -9.69       -5.21    1.0    108ms\n",
      "  8   -2.771802074475      -11.33       -5.39    1.0    621ms\n",
      "  9   -2.771802074476      -12.03       -5.91    1.0    106ms\n",
      " 10   -2.771802074476      -12.92       -6.14    2.0    127ms\n",
      " 11   -2.771802074476      -13.32       -6.45    1.0    132ms\n",
      " 12   -2.771802074476      -13.74       -6.92    1.0    108ms\n",
      " 13   -2.771802074476      -14.75       -7.59    1.0    123ms\n",
      " 14   -2.771802074476   +  -14.18       -8.17    1.0    116ms\n"
     ]
    },
    {
     "output_type": "execute_result",
     "data": {
      "text/plain": "0.017612221673555452"
     },
     "metadata": {},
     "execution_count": 3
    }
   ],
   "cell_type": "code",
   "source": [
    "ε = .01\n",
    "model_ε = model_DFT(lattice, atoms, positions;\n",
    "                    functionals=LDA(),\n",
    "                    extra_terms=[ExternalFromReal(r -> -ε * (r[1] - a/2))],\n",
    "                    symmetries=false)\n",
    "basis_ε = PlaneWaveBasis(model_ε; Ecut, kgrid)\n",
    "res_ε   = self_consistent_field(basis_ε; tol)\n",
    "με = dipole(basis_ε, res_ε.ρ)"
   ],
   "metadata": {},
   "execution_count": 3
  },
  {
   "outputs": [
    {
     "name": "stdout",
     "output_type": "stream",
     "text": [
      "Reference dipole:  -0.0001345734991356166\n",
      "Displaced dipole:  0.017612221673555452\n",
      "Polarizability :   1.7746795172691068\n"
     ]
    }
   ],
   "cell_type": "code",
   "source": [
    "polarizability = (με - μref) / ε\n",
    "\n",
    "println(\"Reference dipole:  $μref\")\n",
    "println(\"Displaced dipole:  $με\")\n",
    "println(\"Polarizability :   $polarizability\")"
   ],
   "metadata": {},
   "execution_count": 4
  },
  {
   "cell_type": "markdown",
   "source": [
    "The result on more converged grids is very close to published results.\n",
    "For example [DOI 10.1039/C8CP03569E](https://doi.org/10.1039/C8CP03569E)\n",
    "quotes **1.65** with LSDA and **1.38** with CCSD(T)."
   ],
   "metadata": {}
  },
  {
   "cell_type": "markdown",
   "source": [
    "## Using linear response\n",
    "Now we use linear response (also known as density-functional perturbation theory)\n",
    "to compute this analytically; we refer to standard\n",
    "textbooks for the formalism. In the following, $χ_0$ is the\n",
    "independent-particle polarizability, and $K$ the\n",
    "Hartree-exchange-correlation kernel. We denote with $δV_{\\rm ext}$ an external\n",
    "perturbing potential (like in this case the uniform electric field). Then:\n",
    "$$\n",
    "δρ = χ_0 δV = χ_0 (δV_{\\rm ext} + K δρ),\n",
    "$$\n",
    "which implies\n",
    "$$\n",
    "δρ = (1-χ_0 K)^{-1} χ_0 δV_{\\rm ext}.\n",
    "$$\n",
    "From this we identify the polarizability operator to be $χ = (1-χ_0 K)^{-1} χ_0$.\n",
    "Numerically, we apply $χ$ to $δV = -x$ by solving a linear equation\n",
    "(the Dyson equation) iteratively."
   ],
   "metadata": {}
  },
  {
   "outputs": [
    {
     "name": "stdout",
     "output_type": "stream",
     "text": [
      "WARNING: using KrylovKit.basis in module ##281 conflicts with an existing identifier.\n",
      "[ Info: GMRES linsolve in iter 1; step 1: normres = 2.493920759516e-01\n",
      "[ Info: GMRES linsolve in iter 1; step 2: normres = 3.766551294755e-03\n",
      "[ Info: GMRES linsolve in iter 1; step 3: normres = 2.852762134024e-04\n",
      "[ Info: GMRES linsolve in iter 1; step 4: normres = 4.694594472474e-06\n",
      "[ Info: GMRES linsolve in iter 1; step 5: normres = 1.088788677617e-08\n",
      "[ Info: GMRES linsolve in iter 1; step 6: normres = 6.285835200023e-11\n",
      "[ Info: GMRES linsolve in iter 1; step 7: normres = 1.067628154460e-12\n",
      "[ Info: GMRES linsolve in iter 1; finished at step 7: normres = 1.067628154460e-12\n",
      "[ Info: GMRES linsolve in iter 2; step 1: normres = 9.286875058361e-11\n",
      "[ Info: GMRES linsolve in iter 2; step 2: normres = 6.638841658490e-12\n",
      "[ Info: GMRES linsolve in iter 2; step 3: normres = 3.201555543174e-13\n",
      "[ Info: GMRES linsolve in iter 2; finished at step 3: normres = 3.201555543174e-13\n",
      "┌ Info: GMRES linsolve converged at iteration 2, step 3:\n",
      "│ *  norm of residual = 3.201369741543299e-13\n",
      "└ *  number of operations = 12\n",
      "Non-interacting polarizability: 1.925712549071425\n",
      "Interacting polarizability:     1.7736548720039658\n"
     ]
    }
   ],
   "cell_type": "code",
   "source": [
    "using KrylovKit\n",
    "\n",
    "# Apply $(1- χ_0 K)$\n",
    "function dielectric_operator(δρ)\n",
    "    δV = apply_kernel(basis, δρ; res.ρ)\n",
    "    χ0δV = apply_χ0(res, δV)\n",
    "    δρ - χ0δV\n",
    "end\n",
    "\n",
    "# `δVext` is the potential from a uniform field interacting with the dielectric dipole\n",
    "# of the density.\n",
    "δVext = [-(r[1] - a/2) for r in r_vectors_cart(basis)]\n",
    "δVext = cat(δVext; dims=4)\n",
    "\n",
    "# Apply $χ_0$ once to get non-interacting dipole\n",
    "δρ_nointeract = apply_χ0(res, δVext)\n",
    "\n",
    "# Solve Dyson equation to get interacting dipole\n",
    "δρ = linsolve(dielectric_operator, δρ_nointeract, verbosity=3)[1]\n",
    "\n",
    "println(\"Non-interacting polarizability: $(dipole(basis, δρ_nointeract))\")\n",
    "println(\"Interacting polarizability:     $(dipole(basis, δρ))\")"
   ],
   "metadata": {},
   "execution_count": 5
  },
  {
   "cell_type": "markdown",
   "source": [
    "As expected, the interacting polarizability matches the finite difference\n",
    "result. The non-interacting polarizability is higher."
   ],
   "metadata": {}
  }
 ],
 "nbformat_minor": 3,
 "metadata": {
  "language_info": {
   "file_extension": ".jl",
   "mimetype": "application/julia",
   "name": "julia",
   "version": "1.11.2"
  },
  "kernelspec": {
   "name": "julia-1.11",
   "display_name": "Julia 1.11.2",
   "language": "julia"
  }
 },
 "nbformat": 4
}
