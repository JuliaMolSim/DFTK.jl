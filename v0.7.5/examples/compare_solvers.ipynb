{
 "cells": [
  {
   "cell_type": "markdown",
   "source": [
    "# Comparison of DFT solvers"
   ],
   "metadata": {}
  },
  {
   "cell_type": "markdown",
   "source": [
    "We compare four different approaches for solving the DFT minimisation problem,\n",
    "namely a density-based SCF, a potential-based SCF, direct minimisation and Newton."
   ],
   "metadata": {}
  },
  {
   "cell_type": "markdown",
   "source": [
    "First we setup our problem"
   ],
   "metadata": {}
  },
  {
   "outputs": [
    {
     "output_type": "execute_result",
     "data": {
      "text/plain": "1.0e-6"
     },
     "metadata": {},
     "execution_count": 1
    }
   ],
   "cell_type": "code",
   "source": [
    "using AtomsBuilder\n",
    "using DFTK\n",
    "using LinearAlgebra\n",
    "using PseudoPotentialData\n",
    "\n",
    "pseudopotentials = PseudoFamily(\"dojo.nc.sr.pbesol.v0_4_1.standard.upf\")\n",
    "model = model_DFT(bulk(:Si); functionals=PBEsol(), pseudopotentials)\n",
    "basis = PlaneWaveBasis(model; Ecut=5, kgrid=[3, 3, 3])\n",
    "\n",
    "# Convergence we desire in the density\n",
    "tol = 1e-6"
   ],
   "metadata": {},
   "execution_count": 1
  },
  {
   "cell_type": "markdown",
   "source": [
    "## Density-based self-consistent field"
   ],
   "metadata": {}
  },
  {
   "outputs": [
    {
     "name": "stdout",
     "output_type": "stream",
     "text": [
      "n     Energy            log10(ΔE)   log10(Δρ)   Diag   Δtime\n",
      "---   ---------------   ---------   ---------   ----   ------\n",
      "  1   -8.397743024906                   -0.89    5.2   50.1ms\n",
      "  2   -8.400250905218       -2.60       -1.73    1.0   19.2ms\n",
      "  3   -8.400405543230       -3.81       -2.90    1.8   20.7ms\n",
      "  4   -8.400428687677       -4.64       -2.94    3.0   24.9ms\n",
      "  5   -8.400428794383       -6.97       -2.99    1.0   19.2ms\n",
      "  6   -8.400429017352       -6.65       -4.76    1.0   40.4ms\n",
      "  7   -8.400429024053       -8.17       -4.45    3.2   26.0ms\n",
      "  8   -8.400429024402       -9.46       -5.34    1.0   19.5ms\n",
      "  9   -8.400429024418      -10.78       -6.51    1.0   19.6ms\n"
     ]
    }
   ],
   "cell_type": "code",
   "source": [
    "scfres_scf = self_consistent_field(basis; tol);"
   ],
   "metadata": {},
   "execution_count": 2
  },
  {
   "cell_type": "markdown",
   "source": [
    "## Potential-based SCF"
   ],
   "metadata": {}
  },
  {
   "outputs": [
    {
     "name": "stdout",
     "output_type": "stream",
     "text": [
      "n     Energy            log10(ΔE)   log10(Δρ)   α      Diag   Δtime\n",
      "---   ---------------   ---------   ---------   ----   ----   ------\n",
      "  1   -8.397839263438                   -0.90           5.2    523ms\n",
      "  2   -8.400385799439       -2.59       -1.78   0.80    2.0    508ms\n",
      "  3   -8.400423712509       -4.42       -3.00   0.80    1.0    184ms\n",
      "  4   -8.400428969794       -5.28       -3.42   0.80    2.5   19.9ms\n",
      "  5   -8.400429020098       -7.30       -4.61   0.80    1.2   16.5ms\n",
      "  6   -8.400429024385       -8.37       -5.73   0.80    2.5   20.4ms\n",
      "  7   -8.400429024420      -10.46       -5.96   0.80    2.8   44.4ms\n",
      "  8   -8.400429024420      -12.71       -6.99   0.80    1.0   16.5ms\n"
     ]
    }
   ],
   "cell_type": "code",
   "source": [
    "scfres_scfv = DFTK.scf_potential_mixing(basis; tol);"
   ],
   "metadata": {},
   "execution_count": 3
  },
  {
   "cell_type": "markdown",
   "source": [
    "## Direct minimization"
   ],
   "metadata": {}
  },
  {
   "outputs": [
    {
     "name": "stdout",
     "output_type": "stream",
     "text": [
      "n     Energy            log10(ΔE)   log10(Δρ)   Δtime\n",
      "---   ---------------   ---------   ---------   ------\n",
      "  1   +1.109688426927                   -1.02    2.77s\n",
      "  2   -1.329857394108        0.39       -0.70    110ms\n",
      "  3   -3.679546447584        0.37       -0.44   82.4ms\n",
      "  4   -4.372989903998       -0.16       -0.49   40.5ms\n",
      "  5   -6.453223954227        0.32       -0.56   42.0ms\n",
      "  6   -7.358249330358       -0.04       -0.83   64.8ms\n",
      "  7   -7.542035869660       -0.74       -1.33   29.7ms\n",
      "  8   -7.951535224181       -0.39       -1.67   29.6ms\n",
      "  9   -8.004523672491       -1.28       -1.74   29.7ms\n",
      " 10   -8.119538521473       -0.94       -1.73   29.9ms\n",
      " 11   -8.156290869132       -1.43       -2.13   33.5ms\n",
      " 12   -8.256747445647       -1.00       -1.97   29.6ms\n",
      " 13   -8.304472774703       -1.32       -2.09   29.8ms\n",
      " 14   -8.336987556961       -1.49       -2.21   32.5ms\n",
      " 15   -8.359532369602       -1.65       -2.11   29.8ms\n",
      " 16   -8.386154087146       -1.57       -2.19   29.7ms\n",
      " 17   -8.395578691655       -2.03       -2.22   44.0ms\n",
      " 18   -8.396645142210       -2.97       -2.70   40.6ms\n",
      " 19   -8.396735159984       -4.05       -2.74   32.9ms\n",
      " 20   -8.398277262129       -2.81       -3.03   29.9ms\n",
      " 21   -8.399575734553       -2.89       -3.43   39.8ms\n",
      " 22   -8.400105410523       -3.28       -3.18   30.1ms\n",
      " 23   -8.400299004702       -3.71       -3.80   32.7ms\n",
      " 24   -8.400372383538       -4.13       -3.64   30.1ms\n",
      " 25   -8.400410376880       -4.42       -3.71   29.8ms\n",
      " 26   -8.400421997811       -4.93       -4.47   32.6ms\n",
      " 27   -8.400426176963       -5.38       -4.16   29.8ms\n",
      " 28   -8.400427790208       -5.79       -4.56   32.6ms\n",
      " 29   -8.400428543409       -6.12       -5.06   29.7ms\n",
      " 30   -8.400428756631       -6.67       -5.09   29.6ms\n",
      " 31   -8.400428881001       -6.91       -4.95   32.4ms\n",
      " 32   -8.400428936621       -7.25       -5.04   29.3ms\n",
      " 33   -8.400428993629       -7.24       -5.18   32.4ms\n",
      " 34   -8.400429012123       -7.73       -5.07   29.7ms\n",
      " 35   -8.400429018238       -8.21       -5.80   32.1ms\n",
      " 36   -8.400429021260       -8.52       -5.41   29.7ms\n",
      " 37   -8.400429023258       -8.70       -5.74   29.6ms\n",
      " 38   -8.400429023920       -9.18       -6.22   32.5ms\n"
     ]
    }
   ],
   "cell_type": "code",
   "source": [
    "scfres_dm = direct_minimization(basis; tol);"
   ],
   "metadata": {},
   "execution_count": 4
  },
  {
   "cell_type": "markdown",
   "source": [
    "## Newton algorithm"
   ],
   "metadata": {}
  },
  {
   "cell_type": "markdown",
   "source": [
    "Start not too far from the solution to ensure convergence:\n",
    "We run first a very crude SCF to get close and then switch to Newton."
   ],
   "metadata": {}
  },
  {
   "outputs": [
    {
     "name": "stdout",
     "output_type": "stream",
     "text": [
      "n     Energy            log10(ΔE)   log10(Δρ)   Diag   Δtime\n",
      "---   ---------------   ---------   ---------   ----   ------\n",
      "  1   -8.397858033197                   -0.90    5.0   39.6ms\n"
     ]
    }
   ],
   "cell_type": "code",
   "source": [
    "scfres_start = self_consistent_field(basis; tol=0.5);"
   ],
   "metadata": {},
   "execution_count": 5
  },
  {
   "cell_type": "markdown",
   "source": [
    "Remove the virtual orbitals (which Newton cannot treat yet)"
   ],
   "metadata": {}
  },
  {
   "outputs": [
    {
     "name": "stdout",
     "output_type": "stream",
     "text": [
      "n     Energy            log10(ΔE)   log10(Δρ)   Δtime\n",
      "---   ---------------   ---------   ---------   ------\n",
      "  1   -8.400428845973                   -1.78    24.6s\n",
      "  2   -8.400429024420       -6.75       -4.02    2.69s\n",
      "  3   -8.400429024420      -14.75       -7.81    105ms\n"
     ]
    }
   ],
   "cell_type": "code",
   "source": [
    "ψ = DFTK.select_occupied_orbitals(basis, scfres_start.ψ, scfres_start.occupation).ψ\n",
    "scfres_newton = newton(basis, ψ; tol);"
   ],
   "metadata": {},
   "execution_count": 6
  },
  {
   "cell_type": "markdown",
   "source": [
    "## Comparison of results"
   ],
   "metadata": {}
  },
  {
   "outputs": [
    {
     "name": "stdout",
     "output_type": "stream",
     "text": [
      "|ρ_newton - ρ_scf|  = 1.4072553344552214e-6\n",
      "|ρ_newton - ρ_scfv| = 1.3498042024941967e-7\n",
      "|ρ_newton - ρ_dm|   = 1.0227806099774543e-6\n"
     ]
    }
   ],
   "cell_type": "code",
   "source": [
    "println(\"|ρ_newton - ρ_scf|  = \", norm(scfres_newton.ρ - scfres_scf.ρ))\n",
    "println(\"|ρ_newton - ρ_scfv| = \", norm(scfres_newton.ρ - scfres_scfv.ρ))\n",
    "println(\"|ρ_newton - ρ_dm|   = \", norm(scfres_newton.ρ - scfres_dm.ρ))"
   ],
   "metadata": {},
   "execution_count": 7
  }
 ],
 "nbformat_minor": 3,
 "metadata": {
  "language_info": {
   "file_extension": ".jl",
   "mimetype": "application/julia",
   "name": "julia",
   "version": "1.11.2"
  },
  "kernelspec": {
   "name": "julia-1.11",
   "display_name": "Julia 1.11.2",
   "language": "julia"
  }
 },
 "nbformat": 4
}
