{
 "cells": [
  {
   "cell_type": "markdown",
   "source": [
    "# Polarizability using automatic differentiation\n",
    "\n",
    "Simple example for computing properties using (forward-mode)\n",
    "automatic differentiation.\n",
    "For a more classical approach and more details about computing polarizabilities,\n",
    "see Polarizability by linear response."
   ],
   "metadata": {}
  },
  {
   "outputs": [],
   "cell_type": "code",
   "source": [
    "using DFTK\n",
    "using LinearAlgebra\n",
    "using ForwardDiff\n",
    "\n",
    "# Construct PlaneWaveBasis given a particular electric field strength\n",
    "# Again we take the example of a Helium atom.\n",
    "function make_basis(ε::T; a=10., Ecut=30) where {T}\n",
    "    lattice=T(a) * I(3)  # lattice is a cube of $a$ Bohrs\n",
    "    # Helium at the center of the box\n",
    "    atoms     = [ElementPsp(:He, load_psp(\"hgh/lda/He-q2\"))]\n",
    "    positions = [[1/2, 1/2, 1/2]]\n",
    "\n",
    "    model = model_DFT(lattice, atoms, positions;\n",
    "                      functionals=[:lda_x, :lda_c_vwn],\n",
    "                      extra_terms=[ExternalFromReal(r -> -ε * (r[1] - a/2))],\n",
    "                      symmetries=false)\n",
    "    PlaneWaveBasis(model; Ecut, kgrid=[1, 1, 1])  # No k-point sampling on isolated system\n",
    "end\n",
    "\n",
    "# dipole moment of a given density (assuming the current geometry)\n",
    "function dipole(basis, ρ)\n",
    "    @assert isdiag(basis.model.lattice)\n",
    "    a  = basis.model.lattice[1, 1]\n",
    "    rr = [a * (r[1] - 1/2) for r in r_vectors(basis)]\n",
    "    sum(rr .* ρ) * basis.dvol\n",
    "end\n",
    "\n",
    "# Function to compute the dipole for a given field strength\n",
    "function compute_dipole(ε; tol=1e-8, kwargs...)\n",
    "    scfres = self_consistent_field(make_basis(ε; kwargs...); tol)\n",
    "    dipole(scfres.basis, scfres.ρ)\n",
    "end;"
   ],
   "metadata": {},
   "execution_count": 1
  },
  {
   "cell_type": "markdown",
   "source": [
    "With this in place we can compute the polarizability from finite differences\n",
    "(just like in the previous example):"
   ],
   "metadata": {}
  },
  {
   "outputs": [
    {
     "name": "stdout",
     "output_type": "stream",
     "text": [
      "n     Energy            log10(ΔE)   log10(Δρ)   Diag   Δtime\n",
      "---   ---------------   ---------   ---------   ----   ------\n",
      "  1   -2.770854281101                   -0.52    9.0    181ms\n",
      "  2   -2.772145388521       -2.89       -1.32    1.0    128ms\n",
      "  3   -2.772170300462       -4.60       -2.50    1.0    109ms\n",
      "  4   -2.772170648148       -6.46       -3.25    1.0    112ms\n",
      "  5   -2.772170721171       -7.14       -3.87    2.0    525ms\n",
      "  6   -2.772170722844       -8.78       -4.52    1.0    111ms\n",
      "  7   -2.772170723010       -9.78       -5.14    2.0    135ms\n",
      "  8   -2.772170723015      -11.33       -6.29    1.0    149ms\n",
      "  9   -2.772170723015      -12.98       -6.28    2.0    159ms\n",
      " 10   -2.772170723015      -13.50       -7.03    1.0    119ms\n",
      " 11   -2.772170723015      -14.75       -7.48    1.0    119ms\n",
      " 12   -2.772170723015   +  -14.12       -8.34    1.0    128ms\n",
      "n     Energy            log10(ΔE)   log10(Δρ)   Diag   Δtime\n",
      "---   ---------------   ---------   ---------   ----   ------\n",
      "  1   -2.770657425287                   -0.53    9.0    184ms\n",
      "  2   -2.772054017801       -2.85       -1.30    1.0    110ms\n",
      "  3   -2.772083031822       -4.54       -2.64    1.0    111ms\n",
      "  4   -2.772083399691       -6.43       -4.15    1.0    114ms\n",
      "  5   -2.772083417773       -7.74       -4.84    2.0    130ms\n",
      "  6   -2.772083417808      -10.46       -5.68    1.0    117ms\n",
      "  7   -2.772083417811      -11.55       -6.13    2.0    133ms\n",
      "  8   -2.772083417811      -13.33       -6.96    1.0    515ms\n",
      "  9   -2.772083417811      -13.74       -7.56    2.0    129ms\n",
      " 10   -2.772083417811   +  -14.51       -7.87    1.0    118ms\n",
      " 11   -2.772083417811      -14.65       -8.92    1.0    132ms\n"
     ]
    },
    {
     "output_type": "execute_result",
     "data": {
      "text/plain": "1.773558033845541"
     },
     "metadata": {},
     "execution_count": 2
    }
   ],
   "cell_type": "code",
   "source": [
    "polarizability_fd = let\n",
    "    ε = 0.01\n",
    "    (compute_dipole(ε) - compute_dipole(0.0)) / ε\n",
    "end"
   ],
   "metadata": {},
   "execution_count": 2
  },
  {
   "cell_type": "markdown",
   "source": [
    "We do the same thing using automatic differentiation. Under the hood this uses\n",
    "custom rules to implicitly differentiate through the self-consistent\n",
    "field fixed-point problem. This leads to a density-functional perturbation\n",
    "theory problem, which is automatically set up and solved in the background."
   ],
   "metadata": {}
  },
  {
   "outputs": [
    {
     "name": "stdout",
     "output_type": "stream",
     "text": [
      "n     Energy            log10(ΔE)   log10(Δρ)   Diag   Δtime\n",
      "---   ---------------   ---------   ---------   ----   ------\n",
      "  1   -2.770760377912                   -0.52    9.0    187ms\n",
      "  2   -2.772058989104       -2.89       -1.32    1.0    118ms\n",
      "  3   -2.772082970364       -4.62       -2.44    1.0    116ms\n",
      "  4   -2.772083329359       -6.44       -3.11    1.0    114ms\n",
      "  5   -2.772083416831       -7.06       -3.98    2.0    132ms\n",
      "  6   -2.772083417604       -9.11       -4.38    1.0    527ms\n",
      "  7   -2.772083417807       -9.69       -5.60    1.0    113ms\n",
      "  8   -2.772083417810      -11.44       -5.81    2.0    146ms\n",
      "  9   -2.772083417811      -12.67       -6.26    1.0    134ms\n",
      " 10   -2.772083417811      -13.39       -7.05    1.0    118ms\n",
      " 11   -2.772083417811   +  -14.65       -7.59    1.0    119ms\n",
      " 12   -2.772083417811   +  -13.99       -8.54    2.0    132ms\n",
      "\n",
      "Polarizability via ForwardDiff:       1.7725349795236738\n",
      "Polarizability via finite difference: 1.773558033845541\n"
     ]
    }
   ],
   "cell_type": "code",
   "source": [
    "polarizability = ForwardDiff.derivative(compute_dipole, 0.0)\n",
    "println()\n",
    "println(\"Polarizability via ForwardDiff:       $polarizability\")\n",
    "println(\"Polarizability via finite difference: $polarizability_fd\")"
   ],
   "metadata": {},
   "execution_count": 3
  }
 ],
 "nbformat_minor": 3,
 "metadata": {
  "language_info": {
   "file_extension": ".jl",
   "mimetype": "application/julia",
   "name": "julia",
   "version": "1.11.2"
  },
  "kernelspec": {
   "name": "julia-1.11",
   "display_name": "Julia 1.11.2",
   "language": "julia"
  }
 },
 "nbformat": 4
}
