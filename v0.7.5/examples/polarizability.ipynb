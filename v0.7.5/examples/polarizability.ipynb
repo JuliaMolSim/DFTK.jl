{
 "cells": [
  {
   "cell_type": "markdown",
   "source": [
    "# Polarizability by linear response\n",
    "\n",
    "We compute the polarizability of a Helium atom. The polarizability\n",
    "is defined as the change in dipole moment\n",
    "$$\n",
    "μ = ∫ r ρ(r) dr\n",
    "$$\n",
    "with respect to a small uniform electric field $E = -x$.\n",
    "\n",
    "We compute this in two ways: first by finite differences (applying a\n",
    "finite electric field), then by linear response. Note that DFTK is\n",
    "not really adapted to isolated atoms because it uses periodic\n",
    "boundary conditions. Nevertheless we can simply embed the Helium\n",
    "atom in a large enough box (although this is computationally wasteful).\n",
    "\n",
    "As in other tests, this is not fully converged, convergence\n",
    "parameters were simply selected for fast execution on CI,"
   ],
   "metadata": {}
  },
  {
   "outputs": [],
   "cell_type": "code",
   "source": [
    "using DFTK\n",
    "using LinearAlgebra\n",
    "\n",
    "a = 10.\n",
    "lattice = a * I(3)  # cube of $a$ bohrs\n",
    "# Helium at the center of the box\n",
    "atoms     = [ElementPsp(:He, load_psp(\"hgh/lda/He-q2\"))]\n",
    "positions = [[1/2, 1/2, 1/2]]\n",
    "\n",
    "\n",
    "kgrid = [1, 1, 1]  # no k-point sampling for an isolated system\n",
    "Ecut = 30\n",
    "tol = 1e-8\n",
    "\n",
    "# dipole moment of a given density (assuming the current geometry)\n",
    "function dipole(basis, ρ)\n",
    "    rr = [(r[1] - a/2) for r in r_vectors_cart(basis)]\n",
    "    sum(rr .* ρ) * basis.dvol\n",
    "end;"
   ],
   "metadata": {},
   "execution_count": 1
  },
  {
   "cell_type": "markdown",
   "source": [
    "## Using finite differences\n",
    "We first compute the polarizability by finite differences.\n",
    "First compute the dipole moment at rest:"
   ],
   "metadata": {}
  },
  {
   "outputs": [
    {
     "name": "stdout",
     "output_type": "stream",
     "text": [
      "n     Energy            log10(ΔE)   log10(Δρ)   Diag   Δtime\n",
      "---   ---------------   ---------   ---------   ----   ------\n",
      "  1   -2.770466669193                   -0.53    9.0    193ms\n",
      "  2   -2.771690261241       -2.91       -1.32    1.0    133ms\n",
      "  3   -2.771714448227       -4.62       -2.51    1.0    445ms\n",
      "  4   -2.771714660150       -6.67       -3.29    1.0    111ms\n",
      "  5   -2.771714711727       -7.29       -3.76    2.0    143ms\n",
      "  6   -2.771714715120       -8.47       -4.76    1.0    112ms\n",
      "  7   -2.771714715248       -9.89       -5.29    2.0    111ms\n",
      "  8   -2.771714715249      -11.76       -6.02    1.0    102ms\n",
      "  9   -2.771714715250      -12.41       -6.60    2.0    115ms\n",
      " 10   -2.771714715250      -14.05       -7.09    1.0    101ms\n",
      " 11   -2.771714715250   +  -14.24       -7.65    1.0    104ms\n",
      " 12   -2.771714715250   +  -14.21       -8.10    1.0    104ms\n"
     ]
    },
    {
     "output_type": "execute_result",
     "data": {
      "text/plain": "-0.00013457304697586344"
     },
     "metadata": {},
     "execution_count": 2
    }
   ],
   "cell_type": "code",
   "source": [
    "model = model_DFT(lattice, atoms, positions;\n",
    "                  functionals=LDA(), symmetries=false)\n",
    "basis = PlaneWaveBasis(model; Ecut, kgrid)\n",
    "res   = self_consistent_field(basis; tol)\n",
    "μref  = dipole(basis, res.ρ)"
   ],
   "metadata": {},
   "execution_count": 2
  },
  {
   "cell_type": "markdown",
   "source": [
    "Then in a small uniform field:"
   ],
   "metadata": {}
  },
  {
   "outputs": [
    {
     "name": "stdout",
     "output_type": "stream",
     "text": [
      "n     Energy            log10(ΔE)   log10(Δρ)   Diag   Δtime\n",
      "---   ---------------   ---------   ---------   ----   ------\n",
      "  1   -2.770475947427                   -0.52    9.0    217ms\n",
      "  2   -2.771777670071       -2.89       -1.32    1.0    144ms\n",
      "  3   -2.771801608736       -4.62       -2.45    1.0    151ms\n",
      "  4   -2.771801990290       -6.42       -3.15    1.0    436ms\n",
      "  5   -2.771802073833       -7.08       -4.04    2.0    108ms\n",
      "  6   -2.771802074111       -9.56       -4.18    1.0    102ms\n",
      "  7   -2.771802074465       -9.45       -5.03    1.0    105ms\n",
      "  8   -2.771802074475      -11.03       -5.41    1.0    102ms\n",
      "  9   -2.771802074476      -11.88       -6.58    1.0    113ms\n",
      " 10   -2.771802074476      -13.32       -6.44    2.0    116ms\n",
      " 11   -2.771802074476      -13.55       -7.51    1.0    105ms\n",
      " 12   -2.771802074476   +  -14.88       -7.70    1.0    105ms\n",
      " 13   -2.771802074476      -14.12       -8.00    1.0    106ms\n"
     ]
    },
    {
     "output_type": "execute_result",
     "data": {
      "text/plain": "0.01761222206571159"
     },
     "metadata": {},
     "execution_count": 3
    }
   ],
   "cell_type": "code",
   "source": [
    "ε = .01\n",
    "model_ε = model_DFT(lattice, atoms, positions;\n",
    "                    functionals=LDA(),\n",
    "                    extra_terms=[ExternalFromReal(r -> -ε * (r[1] - a/2))],\n",
    "                    symmetries=false)\n",
    "basis_ε = PlaneWaveBasis(model_ε; Ecut, kgrid)\n",
    "res_ε   = self_consistent_field(basis_ε; tol)\n",
    "με = dipole(basis_ε, res_ε.ρ)"
   ],
   "metadata": {},
   "execution_count": 3
  },
  {
   "outputs": [
    {
     "name": "stdout",
     "output_type": "stream",
     "text": [
      "Reference dipole:  -0.00013457304697586344\n",
      "Displaced dipole:  0.01761222206571159\n",
      "Polarizability :   1.7746795112687452\n"
     ]
    }
   ],
   "cell_type": "code",
   "source": [
    "polarizability = (με - μref) / ε\n",
    "\n",
    "println(\"Reference dipole:  $μref\")\n",
    "println(\"Displaced dipole:  $με\")\n",
    "println(\"Polarizability :   $polarizability\")"
   ],
   "metadata": {},
   "execution_count": 4
  },
  {
   "cell_type": "markdown",
   "source": [
    "The result on more converged grids is very close to published results.\n",
    "For example [DOI 10.1039/C8CP03569E](https://doi.org/10.1039/C8CP03569E)\n",
    "quotes **1.65** with LSDA and **1.38** with CCSD(T)."
   ],
   "metadata": {}
  },
  {
   "cell_type": "markdown",
   "source": [
    "## Using linear response\n",
    "Now we use linear response (also known as density-functional perturbation theory)\n",
    "to compute this analytically; we refer to standard\n",
    "textbooks for the formalism. In the following, $χ_0$ is the\n",
    "independent-particle polarizability, and $K$ the\n",
    "Hartree-exchange-correlation kernel. We denote with $δV_{\\rm ext}$ an external\n",
    "perturbing potential (like in this case the uniform electric field). Then:\n",
    "$$\n",
    "δρ = χ_0 δV = χ_0 (δV_{\\rm ext} + K δρ),\n",
    "$$\n",
    "which implies\n",
    "$$\n",
    "δρ = (1-χ_0 K)^{-1} χ_0 δV_{\\rm ext}.\n",
    "$$\n",
    "From this we identify the polarizability operator to be $χ = (1-χ_0 K)^{-1} χ_0$.\n",
    "Numerically, we apply $χ$ to $δV = -x$ by solving a linear equation\n",
    "(the Dyson equation) iteratively."
   ],
   "metadata": {}
  },
  {
   "outputs": [
    {
     "name": "stdout",
     "output_type": "stream",
     "text": [
      "WARNING: using KrylovKit.basis in module ##281 conflicts with an existing identifier.\n",
      "[ Info: GMRES linsolve in iter 1; step 1: normres = 2.493920785154e-01\n",
      "[ Info: GMRES linsolve in iter 1; step 2: normres = 3.766551396997e-03\n",
      "[ Info: GMRES linsolve in iter 1; step 3: normres = 2.852765369991e-04\n",
      "[ Info: GMRES linsolve in iter 1; step 4: normres = 4.694603397963e-06\n",
      "[ Info: GMRES linsolve in iter 1; step 5: normres = 1.088789138733e-08\n",
      "[ Info: GMRES linsolve in iter 1; step 6: normres = 6.295433338168e-11\n",
      "[ Info: GMRES linsolve in iter 1; step 7: normres = 1.299921455383e-12\n",
      "[ Info: GMRES linsolve in iter 1; finished at step 7: normres = 1.299921455383e-12\n",
      "[ Info: GMRES linsolve in iter 2; step 1: normres = 9.770705105057e-11\n",
      "[ Info: GMRES linsolve in iter 2; step 2: normres = 1.565879634084e-11\n",
      "[ Info: GMRES linsolve in iter 2; step 3: normres = 3.266127297488e-13\n",
      "[ Info: GMRES linsolve in iter 2; finished at step 3: normres = 3.266127297488e-13\n",
      "┌ Info: GMRES linsolve converged at iteration 2, step 3:\n",
      "│ *  norm of residual = 3.265835706661194e-13\n",
      "└ *  number of operations = 12\n",
      "Non-interacting polarizability: 1.9257125263347168\n",
      "Interacting polarizability:     1.7736548538499455\n"
     ]
    }
   ],
   "cell_type": "code",
   "source": [
    "using KrylovKit\n",
    "\n",
    "# Apply $(1- χ_0 K)$\n",
    "function dielectric_operator(δρ)\n",
    "    δV = apply_kernel(basis, δρ; res.ρ)\n",
    "    χ0δV = apply_χ0(res, δV)\n",
    "    δρ - χ0δV\n",
    "end\n",
    "\n",
    "# `δVext` is the potential from a uniform field interacting with the dielectric dipole\n",
    "# of the density.\n",
    "δVext = [-(r[1] - a/2) for r in r_vectors_cart(basis)]\n",
    "δVext = cat(δVext; dims=4)\n",
    "\n",
    "# Apply $χ_0$ once to get non-interacting dipole\n",
    "δρ_nointeract = apply_χ0(res, δVext)\n",
    "\n",
    "# Solve Dyson equation to get interacting dipole\n",
    "δρ = linsolve(dielectric_operator, δρ_nointeract, verbosity=3)[1]\n",
    "\n",
    "println(\"Non-interacting polarizability: $(dipole(basis, δρ_nointeract))\")\n",
    "println(\"Interacting polarizability:     $(dipole(basis, δρ))\")"
   ],
   "metadata": {},
   "execution_count": 5
  },
  {
   "cell_type": "markdown",
   "source": [
    "As expected, the interacting polarizability matches the finite difference\n",
    "result. The non-interacting polarizability is higher."
   ],
   "metadata": {}
  }
 ],
 "nbformat_minor": 3,
 "metadata": {
  "language_info": {
   "file_extension": ".jl",
   "mimetype": "application/julia",
   "name": "julia",
   "version": "1.11.2"
  },
  "kernelspec": {
   "name": "julia-1.11",
   "display_name": "Julia 1.11.2",
   "language": "julia"
  }
 },
 "nbformat": 4
}
