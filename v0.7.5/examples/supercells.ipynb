{
 "cells": [
  {
   "cell_type": "markdown",
   "source": [
    "# Creating and modelling metallic supercells\n",
    "\n",
    "In this section we will be concerned with modelling supercells of aluminium.\n",
    "When dealing with periodic problems there is no unique definition of the\n",
    "lattice: Clearly any duplication of the lattice along an axis is also a valid\n",
    "repetitive unit to describe exactly the same system.\n",
    "This is exactly what a **supercell** is: An $n$-fold repetition along one (or multiple)\n",
    "axes of the original lattice.\n",
    "\n",
    "The following code achieves this for aluminium:"
   ],
   "metadata": {}
  },
  {
   "outputs": [],
   "cell_type": "code",
   "source": [
    "using AtomsBuilder\n",
    "using DFTK\n",
    "using LinearAlgebra\n",
    "using Unitful\n",
    "using UnitfulAtomic\n",
    "using PseudoPotentialData\n",
    "\n",
    "function aluminium_setup(repeat=1; Ecut=7.0, kgrid=[2, 2, 2])\n",
    "    # Use AtomsBuilder to setup aluminium cubic unit cell (4 Al atoms)\n",
    "    # with provided lattice constant, see AtomsBase integration for details.\n",
    "    unit_cell = bulk(:Al; a=7.65339u\"bohr\", cubic=true)\n",
    "    supercell = unit_cell * (repeat, 1, 1)  # Make a supercell\n",
    "\n",
    "    # Select standard pseudodojo pseudopotentials, construct an LDA model, discretize\n",
    "    # Note: We disable symmetries explicitly here. Otherwise the problem sizes\n",
    "    #       we are able to run on the CI are too simple to observe the numerical\n",
    "    #       instabilities we want to trigger here.\n",
    "    pseudopotentials = PseudoFamily(\"dojo.nc.sr.lda.v0_4_1.standard.upf\")\n",
    "    model = model_DFT(supercell; pseudopotentials, functionals=LDA(),\n",
    "                      temperature=1e-3, symmetries=false)\n",
    "    PlaneWaveBasis(model; Ecut, kgrid)\n",
    "end;"
   ],
   "metadata": {},
   "execution_count": 1
  },
  {
   "cell_type": "markdown",
   "source": [
    "As expected we obtain the unit cell for `repeat=1`:"
   ],
   "metadata": {}
  },
  {
   "outputs": [
    {
     "output_type": "execute_result",
     "data": {
      "text/plain": "PlaneWaveBasis discretization:\n    architecture         : DFTK.CPU()\n    num. mpi processes   : 1\n    num. julia threads   : 1\n    num. DFTK  threads   : 1\n    num. blas  threads   : 2\n    num. fft   threads   : 1\n\n    Ecut                 : 7.0 Ha\n    fft_size             : (24, 24, 24), 13824 total points\n    kgrid                : MonkhorstPack([2, 2, 2])\n    num.   red. kpoints  : 8\n    num. irred. kpoints  : 8\n\n    Discretized Model(lda_x+lda_c_pw, 3D):\n        lattice (in Bohr)    : [7.65339   , 0         , 0         ]\n                               [0         , 7.65339   , 0         ]\n                               [0         , 0         , 7.65339   ]\n        unit cell volume     : 448.29 Bohr³\n    \n        atoms                : Al₄\n        atom potentials      : ElementPsp(Al, \"/home/runner/.julia/artifacts/326db5c901e2681584ec5c06fc17f6c96e516ff9/Al.upf\")\n                               ElementPsp(Al, \"/home/runner/.julia/artifacts/326db5c901e2681584ec5c06fc17f6c96e516ff9/Al.upf\")\n                               ElementPsp(Al, \"/home/runner/.julia/artifacts/326db5c901e2681584ec5c06fc17f6c96e516ff9/Al.upf\")\n                               ElementPsp(Al, \"/home/runner/.julia/artifacts/326db5c901e2681584ec5c06fc17f6c96e516ff9/Al.upf\")\n    \n        num. electrons       : 12\n        spin polarization    : none\n        temperature          : 0.001 Ha\n        smearing             : DFTK.Smearing.FermiDirac()\n    \n        terms                : Kinetic()\n                               AtomicLocal()\n                               AtomicNonlocal()\n                               Ewald(nothing)\n                               PspCorrection()\n                               Hartree()\n                               Xc(lda_x, lda_c_pw)\n                               Entropy()"
     },
     "metadata": {},
     "execution_count": 2
    }
   ],
   "cell_type": "code",
   "source": [
    "aluminium_setup(1)"
   ],
   "metadata": {},
   "execution_count": 2
  },
  {
   "cell_type": "markdown",
   "source": [
    "and 5-fold as large supercell with `repeat=5`:"
   ],
   "metadata": {}
  },
  {
   "outputs": [
    {
     "output_type": "execute_result",
     "data": {
      "text/plain": "PlaneWaveBasis discretization:\n    architecture         : DFTK.CPU()\n    num. mpi processes   : 1\n    num. julia threads   : 1\n    num. DFTK  threads   : 1\n    num. blas  threads   : 2\n    num. fft   threads   : 1\n\n    Ecut                 : 7.0 Ha\n    fft_size             : (96, 24, 24), 55296 total points\n    kgrid                : MonkhorstPack([2, 2, 2])\n    num.   red. kpoints  : 8\n    num. irred. kpoints  : 8\n\n    Discretized Model(lda_x+lda_c_pw, 3D):\n        lattice (in Bohr)    : [38.267    , 0         , 0         ]\n                               [0         , 7.65339   , 0         ]\n                               [0         , 0         , 7.65339   ]\n        unit cell volume     : 2241.5 Bohr³\n    \n        atoms                : Al₂₀\n        atom potentials      : ElementPsp(Al, \"/home/runner/.julia/artifacts/326db5c901e2681584ec5c06fc17f6c96e516ff9/Al.upf\")\n                               ElementPsp(Al, \"/home/runner/.julia/artifacts/326db5c901e2681584ec5c06fc17f6c96e516ff9/Al.upf\")\n                               ElementPsp(Al, \"/home/runner/.julia/artifacts/326db5c901e2681584ec5c06fc17f6c96e516ff9/Al.upf\")\n                               ElementPsp(Al, \"/home/runner/.julia/artifacts/326db5c901e2681584ec5c06fc17f6c96e516ff9/Al.upf\")\n                               ElementPsp(Al, \"/home/runner/.julia/artifacts/326db5c901e2681584ec5c06fc17f6c96e516ff9/Al.upf\")\n                               ElementPsp(Al, \"/home/runner/.julia/artifacts/326db5c901e2681584ec5c06fc17f6c96e516ff9/Al.upf\")\n                               ElementPsp(Al, \"/home/runner/.julia/artifacts/326db5c901e2681584ec5c06fc17f6c96e516ff9/Al.upf\")\n                               ElementPsp(Al, \"/home/runner/.julia/artifacts/326db5c901e2681584ec5c06fc17f6c96e516ff9/Al.upf\")\n                               ElementPsp(Al, \"/home/runner/.julia/artifacts/326db5c901e2681584ec5c06fc17f6c96e516ff9/Al.upf\")\n                               ElementPsp(Al, \"/home/runner/.julia/artifacts/326db5c901e2681584ec5c06fc17f6c96e516ff9/Al.upf\")\n                               ElementPsp(Al, \"/home/runner/.julia/artifacts/326db5c901e2681584ec5c06fc17f6c96e516ff9/Al.upf\")\n                               ElementPsp(Al, \"/home/runner/.julia/artifacts/326db5c901e2681584ec5c06fc17f6c96e516ff9/Al.upf\")\n                               ElementPsp(Al, \"/home/runner/.julia/artifacts/326db5c901e2681584ec5c06fc17f6c96e516ff9/Al.upf\")\n                               ElementPsp(Al, \"/home/runner/.julia/artifacts/326db5c901e2681584ec5c06fc17f6c96e516ff9/Al.upf\")\n                               ElementPsp(Al, \"/home/runner/.julia/artifacts/326db5c901e2681584ec5c06fc17f6c96e516ff9/Al.upf\")\n                               ElementPsp(Al, \"/home/runner/.julia/artifacts/326db5c901e2681584ec5c06fc17f6c96e516ff9/Al.upf\")\n                               ElementPsp(Al, \"/home/runner/.julia/artifacts/326db5c901e2681584ec5c06fc17f6c96e516ff9/Al.upf\")\n                               ElementPsp(Al, \"/home/runner/.julia/artifacts/326db5c901e2681584ec5c06fc17f6c96e516ff9/Al.upf\")\n                               ElementPsp(Al, \"/home/runner/.julia/artifacts/326db5c901e2681584ec5c06fc17f6c96e516ff9/Al.upf\")\n                               ElementPsp(Al, \"/home/runner/.julia/artifacts/326db5c901e2681584ec5c06fc17f6c96e516ff9/Al.upf\")\n    \n        num. electrons       : 60\n        spin polarization    : none\n        temperature          : 0.001 Ha\n        smearing             : DFTK.Smearing.FermiDirac()\n    \n        terms                : Kinetic()\n                               AtomicLocal()\n                               AtomicNonlocal()\n                               Ewald(nothing)\n                               PspCorrection()\n                               Hartree()\n                               Xc(lda_x, lda_c_pw)\n                               Entropy()"
     },
     "metadata": {},
     "execution_count": 3
    }
   ],
   "cell_type": "code",
   "source": [
    "aluminium_setup(5)"
   ],
   "metadata": {},
   "execution_count": 3
  },
  {
   "cell_type": "markdown",
   "source": [
    "As we will see in this notebook the modelling of a system generally becomes\n",
    "harder if the system becomes larger.\n",
    "\n",
    "- This sounds like a trivial statement as *per se* the cost per SCF step increases\n",
    "  as the system (and thus $N$) gets larger.\n",
    "- But there is more to it:\n",
    "  If one is not careful also the *number of SCF iterations* increases\n",
    "  as the system gets larger.\n",
    "- The aim of a proper computational treatment of such supercells is therefore\n",
    "  to ensure that the **number of SCF iterations remains constant** when the\n",
    "  system size increases."
   ],
   "metadata": {}
  },
  {
   "cell_type": "markdown",
   "source": [
    "For achieving the latter DFTK by default employs the `LdosMixing`\n",
    "preconditioner [^HL2021] during the SCF iterations. This mixing approach is\n",
    "completely parameter free, but still automatically adapts to the treated\n",
    "system in order to efficiently prevent charge sloshing. As a result,\n",
    "modelling aluminium slabs indeed takes roughly the same number of SCF iterations\n",
    "irrespective of the supercell size:\n",
    "\n",
    "[^HL2021]:\n",
    "   M. F. Herbst and A. Levitt.\n",
    "   *Black-box inhomogeneous preconditioning for self-consistent field iterations in density functional theory.*\n",
    "   J. Phys. Cond. Matt *33* 085503 (2021). [ArXiv:2009.01665](https://arxiv.org/abs/2009.01665)"
   ],
   "metadata": {}
  },
  {
   "outputs": [
    {
     "name": "stdout",
     "output_type": "stream",
     "text": [
      "n     Energy            log10(ΔE)   log10(Δρ)   Diag   Δtime\n",
      "---   ---------------   ---------   ---------   ----   ------\n",
      "  1   -9.355147705846                   -1.10    6.0    160ms\n",
      "  2   -9.356676729567       -2.82       -1.43    1.0    108ms\n",
      "  3   -9.356963798455       -3.54       -2.83    2.4    146ms\n",
      "  4   -9.357011422599       -4.32       -3.02    6.6    471ms\n",
      "  5   -9.357011849360       -6.37       -3.14    1.0   78.7ms\n",
      "  6   -9.357012160588       -6.51       -3.28    2.6    103ms\n",
      "  7   -9.357012373358       -6.67       -3.43    1.0   79.2ms\n",
      "  8   -9.357012477287       -6.98       -3.60    1.0    103ms\n",
      "  9   -9.357012529763       -7.28       -3.87    1.0   78.2ms\n",
      " 10   -9.357012547199       -7.76       -4.14    3.5    117ms\n"
     ]
    }
   ],
   "cell_type": "code",
   "source": [
    "self_consistent_field(aluminium_setup(1); tol=1e-4);"
   ],
   "metadata": {},
   "execution_count": 4
  },
  {
   "outputs": [
    {
     "name": "stdout",
     "output_type": "stream",
     "text": [
      "n     Energy            log10(ΔE)   log10(Δρ)   Diag   Δtime\n",
      "---   ---------------   ---------   ---------   ----   ------\n",
      "  1   -18.74295648033                   -0.97    6.4    518ms\n",
      "┌ Warning: Eigensolver not converged\n",
      "│   n_iter =\n",
      "│    8-element Vector{Int64}:\n",
      "│     1\n",
      "│     1\n",
      "│     1\n",
      "│     7\n",
      "│     1\n",
      "│     7\n",
      "│     1\n",
      "│     1\n",
      "└ @ DFTK ~/work/DFTK.jl/DFTK.jl/src/scf/self_consistent_field.jl:76\n",
      "  2   -18.73126754850   +   -1.93       -1.38    2.5    255ms\n",
      "  3   -18.79196279264       -1.22       -1.72    4.9    346ms\n",
      "┌ Warning: Eigensolver not converged\n",
      "│   n_iter =\n",
      "│    8-element Vector{Int64}:\n",
      "│      1\n",
      "│     12\n",
      "│      1\n",
      "│      1\n",
      "│     10\n",
      "│      1\n",
      "│      1\n",
      "│      1\n",
      "└ @ DFTK ~/work/DFTK.jl/DFTK.jl/src/scf/self_consistent_field.jl:76\n",
      "  4   -18.79227014772       -3.51       -1.98    3.5    322ms\n",
      "  5   -18.79238783944       -3.93       -2.61    1.8    260ms\n",
      "  6   -18.79240643059       -4.73       -3.07    5.9    439ms\n",
      "  7   -18.79240750993       -5.97       -3.22    2.9    340ms\n",
      "  8   -18.79240836163       -6.07       -3.63    1.2    222ms\n",
      "  9   -18.79240852969       -6.77       -3.89    2.8    296ms\n",
      " 10   -18.79240859694       -7.17       -4.33    1.9    274ms\n"
     ]
    }
   ],
   "cell_type": "code",
   "source": [
    "self_consistent_field(aluminium_setup(2); tol=1e-4);"
   ],
   "metadata": {},
   "execution_count": 5
  },
  {
   "outputs": [
    {
     "name": "stdout",
     "output_type": "stream",
     "text": [
      "n     Energy            log10(ΔE)   log10(Δρ)   Diag   Δtime\n",
      "---   ---------------   ---------   ---------   ----   ------\n",
      "  1   -37.53950063564                   -0.84   10.0    1.55s\n",
      "  2   -37.55581402496       -1.79       -1.20    2.4    1.06s\n",
      "  3   -37.56005001657       -2.37       -2.27    6.0    1.17s\n",
      "  4   -37.56446395279       -2.36       -2.26   17.2    1.85s\n",
      "  5   -37.56450995725       -4.34       -2.41    2.4    860ms\n",
      "  6   -37.56455235123       -4.37       -3.50    1.1    1.06s\n",
      "  7   -37.56455321307       -6.06       -3.75   13.9    1.95s\n",
      "  8   -37.56455403272       -6.09       -4.24    2.2    850ms\n"
     ]
    }
   ],
   "cell_type": "code",
   "source": [
    "self_consistent_field(aluminium_setup(4); tol=1e-4);"
   ],
   "metadata": {},
   "execution_count": 6
  },
  {
   "cell_type": "markdown",
   "source": [
    "When switching off explicitly the `LdosMixing`, by selecting `mixing=SimpleMixing()`,\n",
    "the performance of number of required SCF steps starts to increase as we increase\n",
    "the size of the modelled problem:"
   ],
   "metadata": {}
  },
  {
   "outputs": [
    {
     "name": "stdout",
     "output_type": "stream",
     "text": [
      "n     Energy            log10(ΔE)   log10(Δρ)   Diag   Δtime\n",
      "---   ---------------   ---------   ---------   ----   ------\n",
      "  1   -9.355173413526                   -1.10    5.9    168ms\n",
      "  2   -9.356722702058       -2.81       -1.90    1.0   64.1ms\n",
      "  3   -9.356951420499       -3.64       -2.38    6.5    153ms\n",
      "  4   -9.356999139006       -4.32       -2.67    1.6   71.1ms\n",
      "  5   -9.357012154953       -4.89       -3.67    1.0   65.3ms\n",
      "  6   -9.357012492436       -6.47       -3.90    8.5    179ms\n",
      "  7   -9.357012537924       -7.34       -4.26    1.4   71.9ms\n"
     ]
    }
   ],
   "cell_type": "code",
   "source": [
    "self_consistent_field(aluminium_setup(1); tol=1e-4, mixing=SimpleMixing());"
   ],
   "metadata": {},
   "execution_count": 7
  },
  {
   "outputs": [
    {
     "name": "stdout",
     "output_type": "stream",
     "text": [
      "n     Energy            log10(ΔE)   log10(Δρ)   Diag   Δtime\n",
      "---   ---------------   ---------   ---------   ----   ------\n",
      "  1   -37.54576191541                   -0.84    8.1    1.80s\n",
      "  2   -37.53620484430   +   -2.02       -1.47    3.5    755ms\n",
      "  3   -22.98722645648   +    1.16       -0.47    9.9    1.78s\n",
      "  4   -30.65129521785        0.88       -0.63    9.1    2.20s\n",
      "  5   -37.38847478752        0.83       -1.35    6.2    1.38s\n",
      "  6   -34.52789122307   +    0.46       -0.83    6.2    1.27s\n",
      "  7   -37.49451762961        0.47       -1.55    6.6    1.32s\n",
      "  8   -37.55131024668       -1.25       -1.79    2.0    1.11s\n",
      "  9   -37.55494948803       -2.44       -2.00    1.4    724ms\n",
      " 10   -37.56320999304       -2.08       -2.32    2.6    967ms\n",
      " 11   -37.56418994899       -3.01       -2.52    3.8    1.11s\n",
      " 12   -37.56417144360   +   -4.73       -2.61    2.1    872ms\n",
      " 13   -37.56442667169       -3.59       -2.87    1.6    1.09s\n",
      " 14   -37.56449186270       -4.19       -3.03    2.8    844ms\n",
      " 15   -37.56454530852       -4.27       -3.46    2.8    978ms\n",
      " 16   -37.56454895211       -5.44       -3.65    4.1    1.33s\n",
      " 17   -37.56454960166       -6.19       -3.70    3.5    1.08s\n",
      " 18   -37.56455339462       -5.42       -4.07    2.6    901ms\n"
     ]
    }
   ],
   "cell_type": "code",
   "source": [
    "self_consistent_field(aluminium_setup(4); tol=1e-4, mixing=SimpleMixing());"
   ],
   "metadata": {},
   "execution_count": 8
  },
  {
   "cell_type": "markdown",
   "source": [
    "For completion let us note that the more traditional `mixing=KerkerMixing()`\n",
    "approach would also help in this particular setting to obtain a constant\n",
    "number of SCF iterations for an increasing system size (try it!). In contrast\n",
    "to `LdosMixing`, however, `KerkerMixing` is only suitable to model bulk metallic\n",
    "system (like the case we are considering here). When modelling metallic surfaces\n",
    "or mixtures of metals and insulators, `KerkerMixing` fails, while `LdosMixing`\n",
    "still works well. See the Modelling a gallium arsenide surface example\n",
    "or [^HL2021] for details. Due to the general applicability of `LdosMixing` this\n",
    "method is the default mixing approach in DFTK."
   ],
   "metadata": {}
  }
 ],
 "nbformat_minor": 3,
 "metadata": {
  "language_info": {
   "file_extension": ".jl",
   "mimetype": "application/julia",
   "name": "julia",
   "version": "1.11.2"
  },
  "kernelspec": {
   "name": "julia-1.11",
   "display_name": "Julia 1.11.2",
   "language": "julia"
  }
 },
 "nbformat": 4
}
