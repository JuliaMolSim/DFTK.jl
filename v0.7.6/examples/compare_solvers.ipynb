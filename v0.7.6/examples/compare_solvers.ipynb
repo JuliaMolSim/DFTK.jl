{
 "cells": [
  {
   "cell_type": "markdown",
   "source": [
    "# Comparison of DFT solvers"
   ],
   "metadata": {}
  },
  {
   "cell_type": "markdown",
   "source": [
    "We compare four different approaches for solving the DFT minimisation problem,\n",
    "namely a density-based SCF, a potential-based SCF, direct minimisation and Newton."
   ],
   "metadata": {}
  },
  {
   "cell_type": "markdown",
   "source": [
    "First we setup our problem"
   ],
   "metadata": {}
  },
  {
   "outputs": [
    {
     "name": "stdout",
     "output_type": "stream",
     "text": [
      " Downloading artifact: dojo.nc.sr.pbesol.v0_4_1.standard.upf\n"
     ]
    },
    {
     "output_type": "execute_result",
     "data": {
      "text/plain": "1.0e-6"
     },
     "metadata": {},
     "execution_count": 1
    }
   ],
   "cell_type": "code",
   "source": [
    "using AtomsBuilder\n",
    "using DFTK\n",
    "using LinearAlgebra\n",
    "using PseudoPotentialData\n",
    "\n",
    "pseudopotentials = PseudoFamily(\"dojo.nc.sr.pbesol.v0_4_1.standard.upf\")\n",
    "model = model_DFT(bulk(:Si); functionals=PBEsol(), pseudopotentials)\n",
    "basis = PlaneWaveBasis(model; Ecut=5, kgrid=[3, 3, 3])\n",
    "\n",
    "# Convergence we desire in the density\n",
    "tol = 1e-6"
   ],
   "metadata": {},
   "execution_count": 1
  },
  {
   "cell_type": "markdown",
   "source": [
    "## Density-based self-consistent field"
   ],
   "metadata": {}
  },
  {
   "outputs": [
    {
     "name": "stdout",
     "output_type": "stream",
     "text": [
      "n     Energy            log10(ΔE)   log10(Δρ)   Diag   Δtime\n",
      "---   ---------------   ---------   ---------   ----   ------\n",
      "  1   -8.397732184568                   -0.90    5.2   25.9ms\n",
      "  2   -8.400233566072       -2.60       -1.74    1.0   18.4ms\n",
      "  3   -8.400398587249       -3.78       -2.92    1.8   50.2ms\n",
      "  4   -8.400427822393       -4.53       -2.93    3.0   24.0ms\n",
      "  5   -8.400427868944       -7.33       -2.93    1.0   18.6ms\n",
      "  6   -8.400428146827       -6.56       -4.59    1.0   18.5ms\n",
      "  7   -8.400428155666       -8.05       -4.35    2.8   23.3ms\n",
      "  8   -8.400428156202       -9.27       -4.79    1.0   35.0ms\n",
      "  9   -8.400428156274      -10.14       -6.28    1.0   18.9ms\n"
     ]
    }
   ],
   "cell_type": "code",
   "source": [
    "scfres_scf = self_consistent_field(basis; tol);"
   ],
   "metadata": {},
   "execution_count": 2
  },
  {
   "cell_type": "markdown",
   "source": [
    "## Potential-based SCF"
   ],
   "metadata": {}
  },
  {
   "outputs": [
    {
     "name": "stdout",
     "output_type": "stream",
     "text": [
      "n     Energy            log10(ΔE)   log10(Δρ)   α      Diag   Δtime\n",
      "---   ---------------   ---------   ---------   ----   ----   ------\n",
      "  1   -8.397838971365                   -0.90           5.0    453ms\n",
      "  2   -8.400385434266       -2.59       -1.79   0.80    2.0    532ms\n",
      "  3   -8.400422984695       -4.43       -3.02   0.80    1.0    185ms\n",
      "  4   -8.400428119230       -5.29       -3.41   0.80    2.5   21.0ms\n",
      "  5   -8.400428153645       -7.46       -4.52   0.80    1.0   16.5ms\n",
      "  6   -8.400428156251       -8.58       -5.78   0.80    2.5   20.1ms\n",
      "  7   -8.400428156277      -10.59       -6.29   0.80    2.8   21.8ms\n"
     ]
    }
   ],
   "cell_type": "code",
   "source": [
    "scfres_scfv = DFTK.scf_potential_mixing(basis; tol);"
   ],
   "metadata": {},
   "execution_count": 3
  },
  {
   "cell_type": "markdown",
   "source": [
    "## Direct minimization"
   ],
   "metadata": {}
  },
  {
   "outputs": [
    {
     "name": "stdout",
     "output_type": "stream",
     "text": [
      "n     Energy            log10(ΔE)   log10(Δρ)   Δtime\n",
      "---   ---------------   ---------   ---------   ------\n",
      "  1   +0.762041365267                   -1.07    2.73s\n",
      "  2   -1.579307828432        0.37       -0.64    107ms\n",
      "  3   -3.716940096046        0.33       -0.40   39.0ms\n",
      "  4   -4.598620338247       -0.05       -0.47   68.3ms\n",
      "  5   -6.578335784565        0.30       -0.55   39.0ms\n",
      "  6   -7.438588738083       -0.07       -0.85   43.9ms\n",
      "  7   -7.464910342063       -1.58       -1.37   29.0ms\n",
      "  8   -7.903745996892       -0.36       -1.58   49.0ms\n",
      "  9   -8.246740054366       -0.46       -1.22   39.2ms\n",
      " 10   -8.322512551839       -1.12       -1.71   29.1ms\n",
      " 11   -8.365841057723       -1.36       -1.95   29.1ms\n",
      " 12   -8.378132747129       -1.91       -2.55   28.8ms\n",
      " 13   -8.391249979460       -1.88       -2.44   32.7ms\n",
      " 14   -8.395183572896       -2.41       -2.75   28.8ms\n",
      " 15   -8.398206005343       -2.52       -2.89   28.9ms\n",
      " 16   -8.398568622338       -3.44       -3.34   32.1ms\n",
      " 17   -8.399529365027       -3.02       -3.36   28.9ms\n",
      " 18   -8.400113030605       -3.23       -3.28   29.0ms\n",
      " 19   -8.400276548078       -3.79       -3.49   32.0ms\n",
      " 20   -8.400356818351       -4.10       -3.64   28.8ms\n",
      " 21   -8.400385915313       -4.54       -3.67   28.8ms\n",
      " 22   -8.400415464524       -4.53       -4.03   32.0ms\n",
      " 23   -8.400422668615       -5.14       -3.77   28.7ms\n",
      " 24   -8.400426116864       -5.46       -4.29   28.9ms\n",
      " 25   -8.400426704082       -6.23       -4.18   32.1ms\n",
      " 26   -8.400427758089       -5.98       -4.46   29.5ms\n",
      " 27   -8.400427865145       -6.97       -4.63   29.3ms\n",
      " 28   -8.400428056389       -6.72       -4.97   32.0ms\n",
      " 29   -8.400428080099       -7.63       -5.23   29.0ms\n",
      " 30   -8.400428130918       -7.29       -5.45   32.3ms\n",
      " 31   -8.400428143088       -7.91       -5.49   29.4ms\n",
      " 32   -8.400428152076       -8.05       -5.48   29.0ms\n",
      " 33   -8.400428153754       -8.78       -5.78   32.5ms\n",
      " 34   -8.400428155408       -8.78       -6.34   28.9ms\n"
     ]
    }
   ],
   "cell_type": "code",
   "source": [
    "scfres_dm = direct_minimization(basis; tol);"
   ],
   "metadata": {},
   "execution_count": 4
  },
  {
   "cell_type": "markdown",
   "source": [
    "## Newton algorithm"
   ],
   "metadata": {}
  },
  {
   "cell_type": "markdown",
   "source": [
    "Start not too far from the solution to ensure convergence:\n",
    "We run first a very crude SCF to get close and then switch to Newton."
   ],
   "metadata": {}
  },
  {
   "outputs": [
    {
     "name": "stdout",
     "output_type": "stream",
     "text": [
      "n     Energy            log10(ΔE)   log10(Δρ)   Diag   Δtime\n",
      "---   ---------------   ---------   ---------   ----   ------\n",
      "  1   -8.397830382981                   -0.90    5.0   40.8ms\n"
     ]
    }
   ],
   "cell_type": "code",
   "source": [
    "scfres_start = self_consistent_field(basis; tol=0.5);"
   ],
   "metadata": {},
   "execution_count": 5
  },
  {
   "cell_type": "markdown",
   "source": [
    "Remove the virtual orbitals (which Newton cannot treat yet)"
   ],
   "metadata": {}
  },
  {
   "outputs": [
    {
     "name": "stdout",
     "output_type": "stream",
     "text": [
      "n     Energy            log10(ΔE)   log10(Δρ)   Δtime\n",
      "---   ---------------   ---------   ---------   ------\n",
      "  1   -8.400427993866                   -1.79    23.7s\n",
      "  2   -8.400428156277       -6.79       -4.04    2.10s\n",
      "  3   -8.400428156277      -14.45       -7.85    110ms\n"
     ]
    }
   ],
   "cell_type": "code",
   "source": [
    "ψ = DFTK.select_occupied_orbitals(basis, scfres_start.ψ, scfres_start.occupation).ψ\n",
    "scfres_newton = newton(basis, ψ; tol);"
   ],
   "metadata": {},
   "execution_count": 6
  },
  {
   "cell_type": "markdown",
   "source": [
    "## Comparison of results"
   ],
   "metadata": {}
  },
  {
   "outputs": [
    {
     "name": "stdout",
     "output_type": "stream",
     "text": [
      "|ρ_newton - ρ_scf|  = 1.2168482113942163e-6\n",
      "|ρ_newton - ρ_scfv| = 4.4999930180595514e-8\n",
      "|ρ_newton - ρ_dm|   = 9.842086958354317e-7\n"
     ]
    }
   ],
   "cell_type": "code",
   "source": [
    "println(\"|ρ_newton - ρ_scf|  = \", norm(scfres_newton.ρ - scfres_scf.ρ))\n",
    "println(\"|ρ_newton - ρ_scfv| = \", norm(scfres_newton.ρ - scfres_scfv.ρ))\n",
    "println(\"|ρ_newton - ρ_dm|   = \", norm(scfres_newton.ρ - scfres_dm.ρ))"
   ],
   "metadata": {},
   "execution_count": 7
  }
 ],
 "nbformat_minor": 3,
 "metadata": {
  "language_info": {
   "file_extension": ".jl",
   "mimetype": "application/julia",
   "name": "julia",
   "version": "1.11.2"
  },
  "kernelspec": {
   "name": "julia-1.11",
   "display_name": "Julia 1.11.2",
   "language": "julia"
  }
 },
 "nbformat": 4
}
