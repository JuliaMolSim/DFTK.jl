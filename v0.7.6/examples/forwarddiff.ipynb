{
 "cells": [
  {
   "cell_type": "markdown",
   "source": [
    "# Polarizability using automatic differentiation\n",
    "\n",
    "Simple example for computing properties using (forward-mode)\n",
    "automatic differentiation.\n",
    "For a more classical approach and more details about computing polarizabilities,\n",
    "see Polarizability by linear response."
   ],
   "metadata": {}
  },
  {
   "outputs": [],
   "cell_type": "code",
   "source": [
    "using DFTK\n",
    "using LinearAlgebra\n",
    "using ForwardDiff\n",
    "\n",
    "# Construct PlaneWaveBasis given a particular electric field strength\n",
    "# Again we take the example of a Helium atom.\n",
    "function make_basis(ε::T; a=10., Ecut=30) where {T}\n",
    "    lattice=T(a) * I(3)  # lattice is a cube of $a$ Bohrs\n",
    "    # Helium at the center of the box\n",
    "    atoms     = [ElementPsp(:He, load_psp(\"hgh/lda/He-q2\"))]\n",
    "    positions = [[1/2, 1/2, 1/2]]\n",
    "\n",
    "    model = model_DFT(lattice, atoms, positions;\n",
    "                      functionals=[:lda_x, :lda_c_vwn],\n",
    "                      extra_terms=[ExternalFromReal(r -> -ε * (r[1] - a/2))],\n",
    "                      symmetries=false)\n",
    "    PlaneWaveBasis(model; Ecut, kgrid=[1, 1, 1])  # No k-point sampling on isolated system\n",
    "end\n",
    "\n",
    "# dipole moment of a given density (assuming the current geometry)\n",
    "function dipole(basis, ρ)\n",
    "    @assert isdiag(basis.model.lattice)\n",
    "    a  = basis.model.lattice[1, 1]\n",
    "    rr = [a * (r[1] - 1/2) for r in r_vectors(basis)]\n",
    "    sum(rr .* ρ) * basis.dvol\n",
    "end\n",
    "\n",
    "# Function to compute the dipole for a given field strength\n",
    "function compute_dipole(ε; tol=1e-8, kwargs...)\n",
    "    scfres = self_consistent_field(make_basis(ε; kwargs...); tol)\n",
    "    dipole(scfres.basis, scfres.ρ)\n",
    "end;"
   ],
   "metadata": {},
   "execution_count": 1
  },
  {
   "cell_type": "markdown",
   "source": [
    "With this in place we can compute the polarizability from finite differences\n",
    "(just like in the previous example):"
   ],
   "metadata": {}
  },
  {
   "outputs": [
    {
     "name": "stdout",
     "output_type": "stream",
     "text": [
      "n     Energy            log10(ΔE)   log10(Δρ)   Diag   Δtime\n",
      "---   ---------------   ---------   ---------   ----   ------\n",
      "  1   -2.770860415241                   -0.52    9.0    195ms\n",
      "  2   -2.772146813225       -2.89       -1.33    1.0    119ms\n",
      "  3   -2.772170140256       -4.63       -2.41    1.0    112ms\n",
      "  4   -2.772170642648       -6.30       -3.10    1.0    115ms\n",
      "  5   -2.772170722790       -7.10       -4.50    2.0    130ms\n",
      "  6   -2.772170722959       -9.77       -4.78    1.0    133ms\n",
      "  7   -2.772170723013      -10.27       -5.46    2.0    542ms\n",
      "  8   -2.772170723015      -11.69       -6.13    1.0    116ms\n",
      "  9   -2.772170723015      -12.83       -6.87    2.0    148ms\n",
      " 10   -2.772170723015      -13.82       -7.15    1.0    123ms\n",
      " 11   -2.772170723015   +  -14.12       -8.11    1.0    129ms\n",
      "n     Energy            log10(ΔE)   log10(Δρ)   Diag   Δtime\n",
      "---   ---------------   ---------   ---------   ----   ------\n",
      "  1   -2.770808794767                   -0.52    9.0    177ms\n",
      "  2   -2.772061628028       -2.90       -1.32    1.0    106ms\n",
      "  3   -2.772083150161       -4.67       -2.48    1.0    111ms\n",
      "  4   -2.772083347328       -6.71       -3.18    1.0    111ms\n",
      "  5   -2.772083415761       -7.16       -3.87    2.0    132ms\n",
      "  6   -2.772083417686       -8.72       -4.67    1.0    135ms\n",
      "  7   -2.772083417811       -9.91       -5.56    2.0    136ms\n",
      "  8   -2.772083417811      -13.69       -5.98    1.0    530ms\n",
      "  9   -2.772083417811      -13.12       -6.94    1.0    116ms\n",
      " 10   -2.772083417811   +  -14.57       -7.51    2.0    132ms\n",
      " 11   -2.772083417811   +  -14.51       -8.74    1.0    130ms\n"
     ]
    },
    {
     "output_type": "execute_result",
     "data": {
      "text/plain": "1.773557797493536"
     },
     "metadata": {},
     "execution_count": 2
    }
   ],
   "cell_type": "code",
   "source": [
    "polarizability_fd = let\n",
    "    ε = 0.01\n",
    "    (compute_dipole(ε) - compute_dipole(0.0)) / ε\n",
    "end"
   ],
   "metadata": {},
   "execution_count": 2
  },
  {
   "cell_type": "markdown",
   "source": [
    "We do the same thing using automatic differentiation. Under the hood this uses\n",
    "custom rules to implicitly differentiate through the self-consistent\n",
    "field fixed-point problem. This leads to a density-functional perturbation\n",
    "theory problem, which is automatically set up and solved in the background."
   ],
   "metadata": {}
  },
  {
   "outputs": [
    {
     "name": "stdout",
     "output_type": "stream",
     "text": [
      "n     Energy            log10(ΔE)   log10(Δρ)   Diag   Δtime\n",
      "---   ---------------   ---------   ---------   ----   ------\n",
      "  1   -2.770705933131                   -0.53    9.0    178ms\n",
      "  2   -2.772050212547       -2.87       -1.31    1.0    120ms\n",
      "  3   -2.772082647958       -4.49       -2.60    1.0    111ms\n",
      "  4   -2.772083416085       -6.11       -4.14    2.0    129ms\n",
      "  5   -2.772083417755       -8.78       -4.61    2.0    130ms\n",
      "  6   -2.772083417809      -10.27       -5.81    1.0    551ms\n",
      "  7   -2.772083417811      -11.72       -6.33    2.0    126ms\n",
      "  8   -2.772083417811      -13.68       -7.27    1.0    111ms\n",
      "  9   -2.772083417811   +  -14.51       -7.52    2.0    133ms\n",
      " 10   -2.772083417811      -15.05       -7.85    1.0    119ms\n",
      " 11   -2.772083417811      -14.35       -8.84    1.0    118ms\n",
      "\n",
      "Polarizability via ForwardDiff:       1.772534966876748\n",
      "Polarizability via finite difference: 1.773557797493536\n"
     ]
    }
   ],
   "cell_type": "code",
   "source": [
    "polarizability = ForwardDiff.derivative(compute_dipole, 0.0)\n",
    "println()\n",
    "println(\"Polarizability via ForwardDiff:       $polarizability\")\n",
    "println(\"Polarizability via finite difference: $polarizability_fd\")"
   ],
   "metadata": {},
   "execution_count": 3
  }
 ],
 "nbformat_minor": 3,
 "metadata": {
  "language_info": {
   "file_extension": ".jl",
   "mimetype": "application/julia",
   "name": "julia",
   "version": "1.11.2"
  },
  "kernelspec": {
   "name": "julia-1.11",
   "display_name": "Julia 1.11.2",
   "language": "julia"
  }
 },
 "nbformat": 4
}
