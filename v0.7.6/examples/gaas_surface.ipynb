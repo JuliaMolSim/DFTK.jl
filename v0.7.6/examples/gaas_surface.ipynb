{
 "cells": [
  {
   "cell_type": "markdown",
   "source": [
    "# Modelling a gallium arsenide surface\n",
    "\n",
    "This example shows how to use the atomistic simulation environment or ASE for short,\n",
    "to set up and run a particular calculation of a gallium arsenide surface.\n",
    "ASE is a Python package to simplify the process of setting up,\n",
    "running and analysing results from atomistic simulations across different simulation codes.\n",
    "For more details on the integration DFTK provides with ASE,\n",
    "see Atomistic simulation environment.\n",
    "\n",
    "In this example we will consider modelling the (1, 1, 0) GaAs surface separated by vacuum."
   ],
   "metadata": {}
  },
  {
   "cell_type": "markdown",
   "source": [
    "Parameters of the calculation. Since this surface is far from easy to converge,\n",
    "we made the problem simpler by choosing a smaller `Ecut` and smaller values\n",
    "for `n_GaAs` and `n_vacuum`.\n",
    "More interesting settings are `Ecut = 15` and `n_GaAs = n_vacuum = 20`."
   ],
   "metadata": {}
  },
  {
   "outputs": [],
   "cell_type": "code",
   "source": [
    "miller = (1, 1, 0)   # Surface Miller indices\n",
    "n_GaAs = 2           # Number of GaAs layers\n",
    "n_vacuum = 4         # Number of vacuum layers\n",
    "Ecut = 5             # Hartree\n",
    "kgrid = (4, 4, 1);   # Monkhorst-Pack mesh"
   ],
   "metadata": {},
   "execution_count": 1
  },
  {
   "cell_type": "markdown",
   "source": [
    "Use ASE to build the structure:"
   ],
   "metadata": {}
  },
  {
   "outputs": [],
   "cell_type": "code",
   "source": [
    "using ASEconvert\n",
    "using PythonCall\n",
    "\n",
    "a = 5.6537  # GaAs lattice parameter in Ångström (because ASE uses Å as length unit)\n",
    "gaas = ase.build.bulk(\"GaAs\", \"zincblende\"; a)\n",
    "surface = ase.build.surface(gaas, miller, n_GaAs, 0, periodic=true);"
   ],
   "metadata": {},
   "execution_count": 2
  },
  {
   "cell_type": "markdown",
   "source": [
    "Get the amount of vacuum in Ångström we need to add"
   ],
   "metadata": {}
  },
  {
   "outputs": [],
   "cell_type": "code",
   "source": [
    "d_vacuum = maximum(maximum, surface.cell) / n_GaAs * n_vacuum\n",
    "surface = ase.build.surface(gaas, miller, n_GaAs, d_vacuum, periodic=true);"
   ],
   "metadata": {},
   "execution_count": 3
  },
  {
   "cell_type": "markdown",
   "source": [
    "Write an image of the surface and embed it as a nice illustration:"
   ],
   "metadata": {}
  },
  {
   "outputs": [
    {
     "output_type": "execute_result",
     "data": {
      "text/plain": "Python: None"
     },
     "metadata": {},
     "execution_count": 4
    }
   ],
   "cell_type": "code",
   "source": [
    "ase.io.write(\"surface.png\", surface * pytuple((3, 3, 1)), rotation=\"-90x, 30y, -75z\")"
   ],
   "metadata": {},
   "execution_count": 4
  },
  {
   "cell_type": "markdown",
   "source": [
    "<img src=\"https://docs.dftk.org/stable/surface.png\" width=500 height=500 />"
   ],
   "metadata": {}
  },
  {
   "cell_type": "markdown",
   "source": [
    "Use the `pyconvert` function from `PythonCall` to convert the ASE atoms\n",
    "to an AtomsBase-compatible system.\n",
    "This can then be used in the same way as other `AtomsBase` systems\n",
    "(see AtomsBase integration for details) to construct a DFTK model:"
   ],
   "metadata": {}
  },
  {
   "outputs": [
    {
     "output_type": "execute_result",
     "data": {
      "text/plain": "Model(gga_x_pbe+gga_c_pbe, 3D):\n    lattice (in Bohr)    : [7.55469   , 0         , 0         ]\n                           [0         , 7.55469   , 0         ]\n                           [0         , 0         , 40.0648   ]\n    unit cell volume     : 2286.6 Bohr³\n\n    atoms                : As₂Ga₂\n    atom potentials      : ElementPsp(Ga, \"hgh/pbe/ga-q3.hgh\")\n                           ElementPsp(As, \"hgh/pbe/as-q5.hgh\")\n                           ElementPsp(Ga, \"hgh/pbe/ga-q3.hgh\")\n                           ElementPsp(As, \"hgh/pbe/as-q5.hgh\")\n\n    num. electrons       : 16\n    spin polarization    : none\n    temperature          : 0.001 Ha\n    smearing             : DFTK.Smearing.Gaussian()\n\n    terms                : Kinetic()\n                           AtomicLocal()\n                           AtomicNonlocal()\n                           Ewald(nothing)\n                           PspCorrection()\n                           Hartree()\n                           Xc(gga_x_pbe, gga_c_pbe)\n                           Entropy()"
     },
     "metadata": {},
     "execution_count": 5
    }
   ],
   "cell_type": "code",
   "source": [
    "using DFTK\n",
    "\n",
    "pseudopotentials = Dict(:Ga => \"hgh/pbe/ga-q3.hgh\",\n",
    "                        :As => \"hgh/pbe/as-q5.hgh\")\n",
    "model = model_DFT(pyconvert(AbstractSystem, surface);\n",
    "                  functionals=PBE(),\n",
    "                  temperature=1e-3,\n",
    "                  smearing=DFTK.Smearing.Gaussian(),\n",
    "                  pseudopotentials)"
   ],
   "metadata": {},
   "execution_count": 5
  },
  {
   "cell_type": "markdown",
   "source": [
    "In the above we use the `pseudopotential` keyword argument to\n",
    "assign the respective pseudopotentials to the imported `model.atoms`.\n",
    "Try lowering the SCF convergence tolerance (`tol`)\n",
    "or try `mixing=KerkerMixing()` to see the full challenge of this system."
   ],
   "metadata": {}
  },
  {
   "outputs": [
    {
     "name": "stdout",
     "output_type": "stream",
     "text": [
      "n     Energy            log10(ΔE)   log10(Δρ)   Diag   Δtime\n",
      "---   ---------------   ---------   ---------   ----   ------\n",
      "  1   -16.58678087320                   -0.58    5.2    1.13s\n",
      "  2   -16.72501532078       -0.86       -1.01    1.0    271ms\n",
      "  3   -16.73052503273       -2.26       -1.57    2.2    271ms\n",
      "  4   -16.73121737903       -3.16       -2.16    1.0    256ms\n",
      "  5   -16.73132162722       -3.98       -2.58    2.1    249ms\n",
      "  6   -16.73133191254       -4.99       -2.84    1.9    245ms\n",
      "  7   -16.73082662246   +   -3.30       -2.46    2.1    286ms\n",
      "  8   -16.73125410646       -3.37       -2.75    2.4    265ms\n",
      "  9   -16.73113392149   +   -3.92       -2.64    2.0    563ms\n",
      " 10   -16.73133942626       -3.69       -3.63    1.2    209ms\n",
      " 11   -16.73133531377   +   -5.39       -3.43    3.1    295ms\n",
      " 12   -16.73134010316       -5.32       -3.97    1.6    221ms\n",
      " 13   -16.73133977440   +   -6.48       -3.92    1.3    213ms\n",
      " 14   -16.73134017018       -6.40       -4.47    1.6    241ms\n",
      " 15   -16.73134019724       -7.57       -4.83    1.9    249ms\n",
      " 16   -16.73134019397   +   -8.48       -4.81    1.8    243ms\n",
      " 17   -16.73134019926       -8.28       -5.16    1.0    205ms\n",
      " 18   -16.73134019971       -9.34       -5.33    1.0    208ms\n",
      " 19   -16.73134020043       -9.14       -6.18    1.7    252ms\n"
     ]
    }
   ],
   "cell_type": "code",
   "source": [
    "basis  = PlaneWaveBasis(model; Ecut, kgrid)\n",
    "scfres = self_consistent_field(basis; tol=1e-6, mixing=LdosMixing());"
   ],
   "metadata": {},
   "execution_count": 6
  },
  {
   "outputs": [
    {
     "output_type": "execute_result",
     "data": {
      "text/plain": "Energy breakdown (in Ha):\n    Kinetic             5.8593983 \n    AtomicLocal         -105.6100262\n    AtomicNonlocal      2.3494816 \n    Ewald               35.5044300\n    PspCorrection       0.2016043 \n    Hartree             49.5614394\n    Xc                  -4.5976641\n    Entropy             -0.0000035\n\n    total               -16.731340200429"
     },
     "metadata": {},
     "execution_count": 7
    }
   ],
   "cell_type": "code",
   "source": [
    "scfres.energies"
   ],
   "metadata": {},
   "execution_count": 7
  }
 ],
 "nbformat_minor": 3,
 "metadata": {
  "language_info": {
   "file_extension": ".jl",
   "mimetype": "application/julia",
   "name": "julia",
   "version": "1.11.2"
  },
  "kernelspec": {
   "name": "julia-1.11",
   "display_name": "Julia 1.11.2",
   "language": "julia"
  }
 },
 "nbformat": 4
}
