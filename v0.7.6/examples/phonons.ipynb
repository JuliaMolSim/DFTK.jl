{
 "cells": [
  {
   "cell_type": "markdown",
   "source": [
    "# Phonon computations\n",
    "\n",
    "This is a quick sketch how to run a simple phonon calculation using DFTK.\n",
    "First we run an SCF calculation."
   ],
   "metadata": {}
  },
  {
   "outputs": [
    {
     "name": "stdout",
     "output_type": "stream",
     "text": [
      "n     Energy            log10(ΔE)   log10(Δρ)   Diag   Δtime\n",
      "---   ---------------   ---------   ---------   ----   ------\n",
      "  1   -7.916449654515                   -0.69    4.8    102ms\n",
      "  2   -7.921210463085       -2.32       -1.52    1.0   50.4ms\n",
      "  3   -7.921404283552       -3.71       -2.49    1.4   75.8ms\n",
      "  4   -7.921440956770       -4.44       -2.82    2.6   72.9ms\n",
      "  5   -7.921441584099       -6.20       -2.97    1.1   52.3ms\n",
      "  6   -7.921442005847       -6.37       -4.49    1.0   51.1ms\n",
      "  7   -7.921442021783       -7.80       -4.59    3.0    100ms\n",
      "  8   -7.921442022128       -9.46       -5.30    1.0   52.2ms\n",
      "  9   -7.921442022141      -10.90       -5.52    1.8   61.0ms\n",
      " 10   -7.921442022144      -11.51       -5.91    1.0   52.6ms\n",
      " 11   -7.921442022144      -12.42       -6.56    1.2   59.1ms\n",
      " 12   -7.921442022144      -13.34       -7.21    1.8   68.6ms\n",
      " 13   -7.921442022144   +  -14.75       -7.97    1.9   76.8ms\n",
      " 14   -7.921442022144      -14.45       -8.39    2.1   71.5ms\n"
     ]
    }
   ],
   "cell_type": "code",
   "source": [
    "using AtomsBuilder\n",
    "using DFTK\n",
    "using PseudoPotentialData\n",
    "\n",
    "pseudopotentials = PseudoFamily(\"cp2k.nc.sr.lda.v0_1.semicore.gth\")\n",
    "model  = model_DFT(bulk(:Si); pseudopotentials, functionals=LDA())\n",
    "basis  = PlaneWaveBasis(model; Ecut=10, kgrid=[4, 4, 4])\n",
    "scfres = self_consistent_field(basis, tol=1e-8);\n",
    "nothing  # hide"
   ],
   "metadata": {},
   "execution_count": 1
  },
  {
   "cell_type": "markdown",
   "source": [
    "Next we compute the phonon modes at the q-point `[1/4, 1/4, 1/4]`."
   ],
   "metadata": {}
  },
  {
   "outputs": [
    {
     "name": "stdout",
     "output_type": "stream",
     "text": [
      "147.829117 seconds (158.53 M allocations: 104.418 GiB, 7.23% gc time, 24.85% compilation time)\n"
     ]
    }
   ],
   "cell_type": "code",
   "source": [
    "scfres = DFTK.unfold_bz(scfres)\n",
    "phret_q0 = @time DFTK.phonon_modes(scfres; q=[0.25, 0.25, 0.25]);\n",
    "nothing  # hide"
   ],
   "metadata": {},
   "execution_count": 2
  },
  {
   "cell_type": "markdown",
   "source": [
    "These are the final phonon frequencies:"
   ],
   "metadata": {}
  },
  {
   "outputs": [
    {
     "output_type": "execute_result",
     "data": {
      "text/plain": "6-element Vector{Float64}:\n -0.0034981553600153758\n -0.002977451159912368\n -0.0029774511598733614\n  0.004302230623500131\n  0.004302230623846733\n  0.0043532017555314335"
     },
     "metadata": {},
     "execution_count": 3
    }
   ],
   "cell_type": "code",
   "source": [
    "phret_q0.frequencies"
   ],
   "metadata": {},
   "execution_count": 3
  }
 ],
 "nbformat_minor": 3,
 "metadata": {
  "language_info": {
   "file_extension": ".jl",
   "mimetype": "application/julia",
   "name": "julia",
   "version": "1.11.2"
  },
  "kernelspec": {
   "name": "julia-1.11",
   "display_name": "Julia 1.11.2",
   "language": "julia"
  }
 },
 "nbformat": 4
}
