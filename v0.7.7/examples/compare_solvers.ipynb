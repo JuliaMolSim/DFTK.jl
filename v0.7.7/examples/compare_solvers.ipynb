{
 "cells": [
  {
   "cell_type": "markdown",
   "source": [
    "# Comparison of DFT solvers"
   ],
   "metadata": {}
  },
  {
   "cell_type": "markdown",
   "source": [
    "We compare four different approaches for solving the DFT minimisation problem,\n",
    "namely a density-based SCF, a potential-based SCF, direct minimisation and Newton."
   ],
   "metadata": {}
  },
  {
   "cell_type": "markdown",
   "source": [
    "First we setup our problem"
   ],
   "metadata": {}
  },
  {
   "outputs": [
    {
     "output_type": "execute_result",
     "data": {
      "text/plain": "1.0e-6"
     },
     "metadata": {},
     "execution_count": 1
    }
   ],
   "cell_type": "code",
   "source": [
    "using AtomsBuilder\n",
    "using DFTK\n",
    "using LinearAlgebra\n",
    "using PseudoPotentialData\n",
    "\n",
    "pseudopotentials = PseudoFamily(\"dojo.nc.sr.pbesol.v0_4_1.standard.upf\")\n",
    "model = model_DFT(bulk(:Si); functionals=PBEsol(), pseudopotentials)\n",
    "basis = PlaneWaveBasis(model; Ecut=5, kgrid=[3, 3, 3])\n",
    "\n",
    "# Convergence we desire in the density\n",
    "tol = 1e-6"
   ],
   "metadata": {},
   "execution_count": 1
  },
  {
   "cell_type": "markdown",
   "source": [
    "## Density-based self-consistent field"
   ],
   "metadata": {}
  },
  {
   "outputs": [
    {
     "name": "stdout",
     "output_type": "stream",
     "text": [
      "n     Energy            log10(ΔE)   log10(Δρ)   Diag   Δtime\n",
      "---   ---------------   ---------   ---------   ----   ------\n",
      "  1   -8.397815128515                   -0.90    5.0   26.4ms\n",
      "  2   -8.400245566346       -2.61       -1.74    1.0   18.8ms\n",
      "  3   -8.400400252671       -3.81       -2.94    1.5   19.7ms\n",
      "  4   -8.400427745268       -4.56       -2.91    3.2   46.8ms\n",
      "  5   -8.400427973468       -6.64       -3.07    1.0   19.1ms\n",
      "  6   -8.400428149737       -6.75       -5.10    1.0   19.1ms\n",
      "  7   -8.400428155920       -8.21       -4.45    3.8   27.2ms\n",
      "  8   -8.400428156273       -9.45       -5.43    2.0   22.3ms\n",
      "  9   -8.400428156277      -11.46       -6.76    1.0   35.9ms\n"
     ]
    }
   ],
   "cell_type": "code",
   "source": [
    "scfres_scf = self_consistent_field(basis; tol);"
   ],
   "metadata": {},
   "execution_count": 2
  },
  {
   "cell_type": "markdown",
   "source": [
    "## Potential-based SCF"
   ],
   "metadata": {}
  },
  {
   "outputs": [
    {
     "name": "stdout",
     "output_type": "stream",
     "text": [
      "n     Energy            log10(ΔE)   log10(Δρ)   α      Diag   Δtime\n",
      "---   ---------------   ---------   ---------   ----   ----   ------\n",
      "  1   -8.397786154381                   -0.90           5.0    470ms\n",
      "  2   -8.400384269380       -2.59       -1.79   0.80    2.0    510ms\n",
      "  3   -8.400422739979       -4.41       -3.05   0.80    1.0    174ms\n",
      "  4   -8.400428115929       -5.27       -3.43   0.80    2.8   64.2ms\n",
      "  5   -8.400428154424       -7.41       -4.55   0.80    1.2   18.0ms\n",
      "  6   -8.400428156252       -8.74       -5.68   0.80    2.0   19.4ms\n",
      "  7   -8.400428156277      -10.62       -6.20   0.80    2.5   21.0ms\n"
     ]
    }
   ],
   "cell_type": "code",
   "source": [
    "scfres_scfv = DFTK.scf_potential_mixing(basis; tol);"
   ],
   "metadata": {},
   "execution_count": 3
  },
  {
   "cell_type": "markdown",
   "source": [
    "## Direct minimization"
   ],
   "metadata": {}
  },
  {
   "outputs": [
    {
     "name": "stdout",
     "output_type": "stream",
     "text": [
      "n     Energy            log10(ΔE)   log10(Δρ)   Δtime\n",
      "---   ---------------   ---------   ---------   ------\n",
      "  1   +0.837666085393                   -1.07    2.79s\n",
      "  2   -1.549850478857        0.38       -0.65    116ms\n",
      "  3   -3.911243537882        0.37       -0.41   39.7ms\n",
      "  4   -4.966350343338        0.02       -0.51   39.1ms\n",
      "  5   -6.911417040925        0.29       -0.56   63.9ms\n",
      "  6   -7.646878115449       -0.13       -0.95   39.6ms\n",
      "  7   -7.987326929088       -0.47       -1.31   29.1ms\n",
      "  8   -8.131779783726       -0.84       -1.54   29.3ms\n",
      "  9   -8.187187524969       -1.26       -1.59   29.0ms\n",
      " 10   -8.254598245266       -1.17       -1.42   53.3ms\n",
      " 11   -8.295358108220       -1.39       -1.52   49.9ms\n",
      " 12   -8.333326726225       -1.42       -1.81   39.3ms\n",
      " 13   -8.362863160808       -1.53       -2.11   33.0ms\n",
      " 14   -8.365116188135       -2.65       -2.85   29.7ms\n",
      " 15   -8.378533438367       -1.87       -2.93   29.1ms\n",
      " 16   -8.386865130848       -2.08       -2.59   32.2ms\n",
      " 17   -8.395574686962       -2.06       -2.67   28.9ms\n",
      " 18   -8.398882244358       -2.48       -2.88   29.0ms\n",
      " 19   -8.399703737869       -3.09       -3.11   32.0ms\n",
      " 20   -8.400228509109       -3.28       -3.57   29.0ms\n",
      " 21   -8.400230620130       -5.68       -3.41   29.5ms\n",
      " 22   -8.400367279104       -3.86       -3.76   32.5ms\n",
      " 23   -8.400388680882       -4.67       -4.02   29.3ms\n",
      " 24   -8.400409855144       -4.67       -4.40   28.9ms\n",
      " 25   -8.400422307383       -4.90       -4.52   32.0ms\n",
      " 26   -8.400425650504       -5.48       -4.40   29.2ms\n",
      " 27   -8.400427393214       -5.76       -4.93   31.9ms\n",
      " 28   -8.400427750459       -6.45       -4.60   29.0ms\n",
      " 29   -8.400428021345       -6.57       -4.93   29.0ms\n",
      " 30   -8.400428092997       -7.14       -5.52   32.0ms\n",
      " 31   -8.400428129691       -7.44       -5.84   29.1ms\n",
      " 32   -8.400428138926       -8.03       -5.79   29.1ms\n",
      " 33   -8.400428151288       -7.91       -5.81   37.3ms\n",
      " 34   -8.400428153651       -8.63       -5.94   29.2ms\n",
      " 35   -8.400428155187       -8.81       -5.91   29.0ms\n",
      " 36   -8.400428155609       -9.37       -6.72   32.2ms\n"
     ]
    }
   ],
   "cell_type": "code",
   "source": [
    "scfres_dm = direct_minimization(basis; tol);"
   ],
   "metadata": {},
   "execution_count": 4
  },
  {
   "cell_type": "markdown",
   "source": [
    "## Newton algorithm"
   ],
   "metadata": {}
  },
  {
   "cell_type": "markdown",
   "source": [
    "Start not too far from the solution to ensure convergence:\n",
    "We run first a very crude SCF to get close and then switch to Newton."
   ],
   "metadata": {}
  },
  {
   "outputs": [
    {
     "name": "stdout",
     "output_type": "stream",
     "text": [
      "n     Energy            log10(ΔE)   log10(Δρ)   Diag   Δtime\n",
      "---   ---------------   ---------   ---------   ----   ------\n",
      "  1   -8.397804603578                   -0.90    5.2   36.0ms\n"
     ]
    }
   ],
   "cell_type": "code",
   "source": [
    "scfres_start = self_consistent_field(basis; tol=0.5);"
   ],
   "metadata": {},
   "execution_count": 5
  },
  {
   "cell_type": "markdown",
   "source": [
    "Remove the virtual orbitals (which Newton cannot treat yet)"
   ],
   "metadata": {}
  },
  {
   "outputs": [
    {
     "name": "stdout",
     "output_type": "stream",
     "text": [
      "n     Energy            log10(ΔE)   log10(Δρ)   Δtime\n",
      "---   ---------------   ---------   ---------   ------\n",
      "  1   -8.400427979380                   -1.78    25.2s\n",
      "  2   -8.400428156277       -6.75       -4.02    2.45s\n",
      "  3   -8.400428156277      -14.75       -7.81    112ms\n"
     ]
    }
   ],
   "cell_type": "code",
   "source": [
    "ψ = DFTK.select_occupied_orbitals(basis, scfres_start.ψ, scfres_start.occupation).ψ\n",
    "scfres_newton = newton(basis, ψ; tol);"
   ],
   "metadata": {},
   "execution_count": 6
  },
  {
   "cell_type": "markdown",
   "source": [
    "## Comparison of results"
   ],
   "metadata": {}
  },
  {
   "outputs": [
    {
     "name": "stdout",
     "output_type": "stream",
     "text": [
      "|ρ_newton - ρ_scf|  = 1.6664287130821306e-7\n",
      "|ρ_newton - ρ_scfv| = 1.944982515687424e-7\n",
      "|ρ_newton - ρ_dm|   = 4.6076855876029103e-7\n"
     ]
    }
   ],
   "cell_type": "code",
   "source": [
    "println(\"|ρ_newton - ρ_scf|  = \", norm(scfres_newton.ρ - scfres_scf.ρ))\n",
    "println(\"|ρ_newton - ρ_scfv| = \", norm(scfres_newton.ρ - scfres_scfv.ρ))\n",
    "println(\"|ρ_newton - ρ_dm|   = \", norm(scfres_newton.ρ - scfres_dm.ρ))"
   ],
   "metadata": {},
   "execution_count": 7
  }
 ],
 "nbformat_minor": 3,
 "metadata": {
  "language_info": {
   "file_extension": ".jl",
   "mimetype": "application/julia",
   "name": "julia",
   "version": "1.11.2"
  },
  "kernelspec": {
   "name": "julia-1.11",
   "display_name": "Julia 1.11.2",
   "language": "julia"
  }
 },
 "nbformat": 4
}
