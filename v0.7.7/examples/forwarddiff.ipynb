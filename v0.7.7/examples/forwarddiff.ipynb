{
 "cells": [
  {
   "cell_type": "markdown",
   "source": [
    "# Polarizability using automatic differentiation\n",
    "\n",
    "Simple example for computing properties using (forward-mode)\n",
    "automatic differentiation.\n",
    "For a more classical approach and more details about computing polarizabilities,\n",
    "see Polarizability by linear response."
   ],
   "metadata": {}
  },
  {
   "outputs": [],
   "cell_type": "code",
   "source": [
    "using DFTK\n",
    "using LinearAlgebra\n",
    "using ForwardDiff\n",
    "using PseudoPotentialData\n",
    "\n",
    "# Construct PlaneWaveBasis given a particular electric field strength\n",
    "# Again we take the example of a Helium atom.\n",
    "function make_basis(ε::T; a=10., Ecut=30) where {T}\n",
    "    lattice = T(a) * I(3)  # lattice is a cube of $a$ Bohrs\n",
    "    # Helium at the center of the box\n",
    "    pseudopotentials = PseudoFamily(\"cp2k.nc.sr.lda.v0_1.semicore.gth\")\n",
    "    atoms     = [ElementPsp(:He, pseudopotentials)]\n",
    "    positions = [[1/2, 1/2, 1/2]]\n",
    "\n",
    "    model = model_DFT(lattice, atoms, positions;\n",
    "                      functionals=[:lda_x, :lda_c_vwn],\n",
    "                      extra_terms=[ExternalFromReal(r -> -ε * (r[1] - a/2))],\n",
    "                      symmetries=false)\n",
    "    PlaneWaveBasis(model; Ecut, kgrid=[1, 1, 1])  # No k-point sampling on isolated system\n",
    "end\n",
    "\n",
    "# dipole moment of a given density (assuming the current geometry)\n",
    "function dipole(basis, ρ)\n",
    "    @assert isdiag(basis.model.lattice)\n",
    "    a  = basis.model.lattice[1, 1]\n",
    "    rr = [a * (r[1] - 1/2) for r in r_vectors(basis)]\n",
    "    sum(rr .* ρ) * basis.dvol\n",
    "end\n",
    "\n",
    "# Function to compute the dipole for a given field strength\n",
    "function compute_dipole(ε; tol=1e-8, kwargs...)\n",
    "    scfres = self_consistent_field(make_basis(ε; kwargs...); tol)\n",
    "    dipole(scfres.basis, scfres.ρ)\n",
    "end;"
   ],
   "metadata": {},
   "execution_count": 1
  },
  {
   "cell_type": "markdown",
   "source": [
    "With this in place we can compute the polarizability from finite differences\n",
    "(just like in the previous example):"
   ],
   "metadata": {}
  },
  {
   "outputs": [
    {
     "name": "stdout",
     "output_type": "stream",
     "text": [
      "n     Energy            log10(ΔE)   log10(Δρ)   Diag   Δtime\n",
      "---   ---------------   ---------   ---------   ----   ------\n",
      "  1   -2.770889711212                   -0.52    9.0    178ms\n",
      "  2   -2.772148893775       -2.90       -1.32    1.0    108ms\n",
      "  3   -2.772170282769       -4.67       -2.43    1.0    110ms\n",
      "  4   -2.772170654891       -6.43       -3.15    1.0    115ms\n",
      "  5   -2.772170722916       -7.17       -4.56    2.0    133ms\n",
      "  6   -2.772170722994      -10.11       -4.70    1.0    127ms\n",
      "  7   -2.772170723013      -10.72       -5.53    1.0    122ms\n",
      "  8   -2.772170723014      -11.86       -5.76    1.0    541ms\n",
      "  9   -2.772170723015      -12.09       -6.32    2.0    132ms\n",
      " 10   -2.772170723015      -13.41       -6.87    1.0    131ms\n",
      " 11   -2.772170723015      -14.40       -7.49    2.0    182ms\n",
      " 12   -2.772170723015   +  -13.75       -8.14    1.0    120ms\n",
      "n     Energy            log10(ΔE)   log10(Δρ)   Diag   Δtime\n",
      "---   ---------------   ---------   ---------   ----   ------\n",
      "  1   -2.770741366267                   -0.53    8.0    175ms\n",
      "  2   -2.772052783326       -2.88       -1.31    1.0    117ms\n",
      "  3   -2.772082892521       -4.52       -2.62    1.0    109ms\n",
      "  4   -2.772083380214       -6.31       -3.90    1.0    111ms\n",
      "  5   -2.772083417011       -7.43       -4.10    2.0    129ms\n",
      "  6   -2.772083417776       -9.12       -5.13    1.0    118ms\n",
      "  7   -2.772083417808      -10.49       -5.39    2.0    136ms\n",
      "  8   -2.772083417810      -11.66       -6.35    1.0    122ms\n",
      "  9   -2.772083417811      -12.89       -7.16    2.0    564ms\n",
      " 10   -2.772083417811   +  -14.10       -7.24    1.0    117ms\n",
      " 11   -2.772083417811      -14.27       -8.20    1.0    118ms\n"
     ]
    },
    {
     "output_type": "execute_result",
     "data": {
      "text/plain": "1.7735579751937118"
     },
     "metadata": {},
     "execution_count": 2
    }
   ],
   "cell_type": "code",
   "source": [
    "polarizability_fd = let\n",
    "    ε = 0.01\n",
    "    (compute_dipole(ε) - compute_dipole(0.0)) / ε\n",
    "end"
   ],
   "metadata": {},
   "execution_count": 2
  },
  {
   "cell_type": "markdown",
   "source": [
    "We do the same thing using automatic differentiation. Under the hood this uses\n",
    "custom rules to implicitly differentiate through the self-consistent\n",
    "field fixed-point problem. This leads to a density-functional perturbation\n",
    "theory problem, which is automatically set up and solved in the background."
   ],
   "metadata": {}
  },
  {
   "outputs": [
    {
     "name": "stdout",
     "output_type": "stream",
     "text": [
      "n     Energy            log10(ΔE)   log10(Δρ)   Diag   Δtime\n",
      "---   ---------------   ---------   ---------   ----   ------\n",
      "  1   -2.770771552221                   -0.52    9.0    203ms\n",
      "  2   -2.772060016364       -2.89       -1.33    1.0    122ms\n",
      "  3   -2.772082860822       -4.64       -2.40    1.0    110ms\n",
      "  4   -2.772083337540       -6.32       -3.11    1.0    116ms\n",
      "  5   -2.772083417620       -7.10       -4.64    2.0    151ms\n",
      "  6   -2.772083417806       -9.73       -5.11    2.0    135ms\n",
      "  7   -2.772083417810      -11.43       -5.72    1.0    557ms\n",
      "  8   -2.772083417811      -12.21       -6.44    1.0    115ms\n",
      "  9   -2.772083417811      -13.08       -6.58    2.0    130ms\n",
      " 10   -2.772083417811      -14.03       -7.35    1.0    139ms\n",
      " 11   -2.772083417811      -14.18       -8.48    1.0    118ms\n",
      "\n",
      "Polarizability via ForwardDiff:       1.7725349609282757\n",
      "Polarizability via finite difference: 1.7735579751937118\n"
     ]
    }
   ],
   "cell_type": "code",
   "source": [
    "polarizability = ForwardDiff.derivative(compute_dipole, 0.0)\n",
    "println()\n",
    "println(\"Polarizability via ForwardDiff:       $polarizability\")\n",
    "println(\"Polarizability via finite difference: $polarizability_fd\")"
   ],
   "metadata": {},
   "execution_count": 3
  }
 ],
 "nbformat_minor": 3,
 "metadata": {
  "language_info": {
   "file_extension": ".jl",
   "mimetype": "application/julia",
   "name": "julia",
   "version": "1.11.2"
  },
  "kernelspec": {
   "name": "julia-1.11",
   "display_name": "Julia 1.11.2",
   "language": "julia"
  }
 },
 "nbformat": 4
}
