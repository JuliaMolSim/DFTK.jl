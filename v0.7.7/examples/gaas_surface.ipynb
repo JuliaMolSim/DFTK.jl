{
 "cells": [
  {
   "cell_type": "markdown",
   "source": [
    "# Modelling a gallium arsenide surface\n",
    "\n",
    "This example shows how to use the atomistic simulation environment or ASE for short,\n",
    "to set up and run a particular calculation of a gallium arsenide surface.\n",
    "ASE is a Python package to simplify the process of setting up,\n",
    "running and analysing results from atomistic simulations across different simulation codes.\n",
    "For more details on the integration DFTK provides with ASE,\n",
    "see Atomistic simulation environment.\n",
    "\n",
    "In this example we will consider modelling the (1, 1, 0) GaAs surface separated by vacuum."
   ],
   "metadata": {}
  },
  {
   "cell_type": "markdown",
   "source": [
    "Parameters of the calculation. Since this surface is far from easy to converge,\n",
    "we made the problem simpler by choosing a smaller `Ecut` and smaller values\n",
    "for `n_GaAs` and `n_vacuum`.\n",
    "More interesting settings are `Ecut = 15` and `n_GaAs = n_vacuum = 20`."
   ],
   "metadata": {}
  },
  {
   "outputs": [],
   "cell_type": "code",
   "source": [
    "miller = (1, 1, 0)   # Surface Miller indices\n",
    "n_GaAs = 2           # Number of GaAs layers\n",
    "n_vacuum = 4         # Number of vacuum layers\n",
    "Ecut = 5             # Hartree\n",
    "kgrid = (4, 4, 1);   # Monkhorst-Pack mesh"
   ],
   "metadata": {},
   "execution_count": 1
  },
  {
   "cell_type": "markdown",
   "source": [
    "Use ASE to build the structure:"
   ],
   "metadata": {}
  },
  {
   "outputs": [
    {
     "name": "stdout",
     "output_type": "stream",
     "text": [
      "    CondaPkg Found dependencies: /home/runner/.julia/packages/ASEconvert/kvmT8/CondaPkg.toml\n",
      "    CondaPkg Found dependencies: /home/runner/.julia/packages/PythonCall/Nr75f/CondaPkg.toml\n",
      "    CondaPkg Resolving changes\n",
      "             + ase\n",
      "             + libstdcxx-ng\n",
      "             + openssl\n",
      "             + python\n",
      "    CondaPkg Creating environment\n",
      "             │ /home/runner/.julia/artifacts/7973f2c7725e2d0eef7a95159454c4145f0945a2/bin/micromamba\n",
      "             │ -r /home/runner/.julia/scratchspaces/0b3b1443-0f03-428d-bdfb-f27f9c1191ea/root\n",
      "             │ create\n",
      "             │ -y\n",
      "             │ -p /home/runner/work/DFTK.jl/DFTK.jl/docs/.CondaPkg/env\n",
      "             │ --override-channels\n",
      "             │ --no-channel-priority\n",
      "             │ ase[version='>=3.23,<3.24']\n",
      "             │ libstdcxx-ng[version='>=3.4,<13.0']\n",
      "             │ openssl[version='>=3, <3.1']\n",
      "             │ python[version='>=3.8,<4',channel='conda-forge',build='*cpython*']\n",
      "             └ -c conda-forge\n",
      "\n",
      "Transaction\n",
      "\n",
      "  Prefix: /home/runner/work/DFTK.jl/DFTK.jl/docs/.CondaPkg/env\n",
      "\n",
      "  Updating specs:\n",
      "\n",
      "   - ase[version='>=3.23,<3.24']\n",
      "   - libstdcxx-ng[version='>=3.4,<13.0']\n",
      "   - openssl[version='>=3, <3.1']\n",
      "   - conda-forge::python[version='>=3.8,<4',build=*cpython*]\n",
      "\n",
      "\n",
      "  Package                   Version  Build                Channel           Size\n",
      "──────────────────────────────────────────────────────────────────────────────────\n",
      "  Install:\n",
      "──────────────────────────────────────────────────────────────────────────────────\n",
      "\n",
      "  + _libgcc_mutex               0.1  conda_forge          conda-forge     Cached\n",
      "  + libgfortran5             13.2.0  ha4646dd_0           conda-forge     Cached\n",
      "  + python_abi                 3.11  5_cp311              conda-forge     Cached\n",
      "  + ld_impl_linux-64           2.43  h712a8e2_2           conda-forge     Cached\n",
      "  + ca-certificates      2024.12.14  hbcca054_0           conda-forge     Cached\n",
      "  + libgomp                  12.4.0  h77fa898_1           conda-forge     Cached\n",
      "  + libgfortran-ng           13.2.0  h69a702a_0           conda-forge     Cached\n",
      "  + _openmp_mutex               4.5  2_gnu                conda-forge     Cached\n",
      "  + libgcc                   12.4.0  h77fa898_1           conda-forge     Cached\n",
      "  + libgcc-ng                12.4.0  h69a702a_1           conda-forge     Cached\n",
      "  + libstdcxx                12.4.0  hc0a3c3a_1           conda-forge     Cached\n",
      "  + xorg-libxdmcp             1.1.3  h7f98852_0           conda-forge     Cached\n",
      "  + pthread-stubs               0.4  h36c2ea0_1001        conda-forge     Cached\n",
      "  + libbrotlicommon           1.1.0  hd590300_1           conda-forge     Cached\n",
      "  + libdeflate                 1.21  h4bc722e_0           conda-forge     Cached\n",
      "  + libjpeg-turbo             3.0.0  hd590300_1           conda-forge     Cached\n",
      "  + libopenblas              0.3.27  pthreads_hac2b453_1  conda-forge     Cached\n",
      "  + xorg-libxau              1.0.11  hd590300_0           conda-forge     Cached\n",
      "  + libwebp-base              1.4.0  hd590300_0           conda-forge     Cached\n",
      "  + ncurses                     6.5  he02047a_1           conda-forge     Cached\n",
      "  + libzlib                   1.3.1  h4ab18f5_1           conda-forge     Cached\n",
      "  + libuuid                  2.38.1  h0b41bf4_0           conda-forge     Cached\n",
      "  + libnsl                    2.0.1  hd590300_0           conda-forge     Cached\n",
      "  + libffi                    3.4.2  h7f98852_5           conda-forge     Cached\n",
      "  + bzip2                     1.0.8  h4bc722e_7           conda-forge     Cached\n",
      "  + xz                        5.2.6  h166bdaf_0           conda-forge     Cached\n",
      "  + openssl                  3.0.14  h4ab18f5_0           conda-forge     Cached\n",
      "  + libstdcxx-ng             12.4.0  h4852527_1           conda-forge     Cached\n",
      "  + libbrotlienc              1.1.0  hd590300_1           conda-forge     Cached\n",
      "  + libbrotlidec              1.1.0  hd590300_1           conda-forge     Cached\n",
      "  + libblas                   3.9.0  24_linux64_openblas  conda-forge     Cached\n",
      "  + libxcb                     1.16  hd590300_0           conda-forge     Cached\n",
      "  + readline                    8.2  h8228510_1           conda-forge     Cached\n",
      "  + libpng                   1.6.43  h2797004_0           conda-forge     Cached\n",
      "  + tk                       8.6.13  noxft_h4845f30_101   conda-forge     Cached\n",
      "  + libsqlite                3.46.0  hde9e2c9_0           conda-forge     Cached\n",
      "  + zstd                      1.5.6  ha6fb4c9_0           conda-forge     Cached\n",
      "  + lerc                      4.0.0  h27087fc_0           conda-forge     Cached\n",
      "  + qhull                    2020.2  h434a139_5           conda-forge     Cached\n",
      "  + brotli-bin                1.1.0  hd590300_1           conda-forge     Cached\n",
      "  + libcblas                  3.9.0  24_linux64_openblas  conda-forge     Cached\n",
      "  + liblapack                 3.9.0  24_linux64_openblas  conda-forge     Cached\n",
      "  + freetype                 2.12.1  h267a509_2           conda-forge     Cached\n",
      "  + libtiff                   4.6.0  h46a8edc_4           conda-forge     Cached\n",
      "  + brotli                    1.1.0  hd590300_1           conda-forge     Cached\n",
      "  + openjpeg                  2.5.2  h488ebb8_0           conda-forge     Cached\n",
      "  + lcms2                      2.16  hb7c19ff_0           conda-forge     Cached\n",
      "  + tzdata                    2024b  hc8b5060_0           conda-forge     Cached\n",
      "  + python                   3.11.0  he550d4f_1_cpython   conda-forge     Cached\n",
      "  + wheel                    0.45.1  pyhd8ed1ab_1         conda-forge     Cached\n",
      "  + setuptools               75.8.0  pyhff2d567_0         conda-forge     Cached\n",
      "  + pip                      24.3.1  pyh8b19718_2         conda-forge     Cached\n",
      "  + zipp                     3.21.0  pyhd8ed1ab_1         conda-forge     Cached\n",
      "  + itsdangerous              2.2.0  pyhd8ed1ab_1         conda-forge     Cached\n",
      "  + click                     8.1.8  pyh707e725_0         conda-forge     Cached\n",
      "  + six                      1.17.0  pyhd8ed1ab_0         conda-forge     Cached\n",
      "  + munkres                   1.1.4  pyh9f0ad1d_0         conda-forge     Cached\n",
      "  + pyparsing                 3.2.1  pyhd8ed1ab_0         conda-forge     Cached\n",
      "  + packaging                  24.2  pyhd8ed1ab_2         conda-forge     Cached\n",
      "  + cycler                   0.12.1  pyhd8ed1ab_1         conda-forge     Cached\n",
      "  + certifi              2024.12.14  pyhd8ed1ab_0         conda-forge     Cached\n",
      "  + blinker                   1.9.0  pyhff2d567_0         conda-forge     Cached\n",
      "  + importlib-metadata        8.5.0  pyha770c72_1         conda-forge     Cached\n",
      "  + python-dateutil     2.9.0.post0  pyhff2d567_1         conda-forge     Cached\n",
      "  + markupsafe                2.1.5  py311h459d7ec_0      conda-forge     Cached\n",
      "  + pillow                   10.4.0  py311h82a398c_0      conda-forge     Cached\n",
      "  + kiwisolver                1.4.5  py311h9547e67_1      conda-forge     Cached\n",
      "  + numpy                     2.1.0  py311hed25524_0      conda-forge     Cached\n",
      "  + fonttools                4.53.1  py311h61187de_0      conda-forge     Cached\n",
      "  + contourpy                 1.2.1  py311h9547e67_0      conda-forge     Cached\n",
      "  + scipy                    1.14.0  py311h0a5b728_2      conda-forge     Cached\n",
      "  + matplotlib-base           3.9.2  py311h74b4f7c_0      conda-forge     Cached\n",
      "  + werkzeug                  3.1.3  pyhd8ed1ab_1         conda-forge     Cached\n",
      "  + jinja2                    3.1.5  pyhd8ed1ab_0         conda-forge     Cached\n",
      "  + flask                     3.1.0  pyhff2d567_0         conda-forge     Cached\n",
      "  + ase                      3.23.0  pyhd8ed1ab_0         conda-forge     Cached\n",
      "\n",
      "  Summary:\n",
      "\n",
      "  Install: 76 packages\n",
      "\n",
      "  Total download: 0 B\n",
      "\n",
      "──────────────────────────────────────────────────────────────────────────────────\n",
      "\n",
      "\n",
      "\n",
      "Transaction starting\n",
      "Linking _libgcc_mutex-0.1-conda_forge\n",
      "Linking libgfortran5-13.2.0-ha4646dd_0\n",
      "Linking python_abi-3.11-5_cp311\n",
      "Linking ld_impl_linux-64-2.43-h712a8e2_2\n",
      "Linking ca-certificates-2024.12.14-hbcca054_0\n",
      "Linking libgomp-12.4.0-h77fa898_1\n",
      "Linking libgfortran-ng-13.2.0-h69a702a_0\n",
      "Linking _openmp_mutex-4.5-2_gnu\n",
      "Linking libgcc-12.4.0-h77fa898_1\n",
      "Linking libgcc-ng-12.4.0-h69a702a_1\n",
      "Linking libstdcxx-12.4.0-hc0a3c3a_1\n",
      "Linking xorg-libxdmcp-1.1.3-h7f98852_0\n",
      "Linking pthread-stubs-0.4-h36c2ea0_1001\n",
      "Linking libbrotlicommon-1.1.0-hd590300_1\n",
      "Linking libdeflate-1.21-h4bc722e_0\n",
      "Linking libjpeg-turbo-3.0.0-hd590300_1\n",
      "Linking libopenblas-0.3.27-pthreads_hac2b453_1\n",
      "Linking xorg-libxau-1.0.11-hd590300_0\n",
      "Linking libwebp-base-1.4.0-hd590300_0\n",
      "Linking ncurses-6.5-he02047a_1\n",
      "Linking libzlib-1.3.1-h4ab18f5_1\n",
      "Linking libuuid-2.38.1-h0b41bf4_0\n",
      "Linking libnsl-2.0.1-hd590300_0\n",
      "Linking libffi-3.4.2-h7f98852_5\n",
      "Linking bzip2-1.0.8-h4bc722e_7\n",
      "Linking xz-5.2.6-h166bdaf_0\n",
      "Linking openssl-3.0.14-h4ab18f5_0\n",
      "Linking libstdcxx-ng-12.4.0-h4852527_1\n",
      "Linking libbrotlienc-1.1.0-hd590300_1\n",
      "Linking libbrotlidec-1.1.0-hd590300_1\n",
      "Linking libblas-3.9.0-24_linux64_openblas\n",
      "Linking libxcb-1.16-hd590300_0\n",
      "Linking readline-8.2-h8228510_1\n",
      "Linking libpng-1.6.43-h2797004_0\n",
      "Linking tk-8.6.13-noxft_h4845f30_101\n",
      "Linking libsqlite-3.46.0-hde9e2c9_0\n",
      "Linking zstd-1.5.6-ha6fb4c9_0\n",
      "Linking lerc-4.0.0-h27087fc_0\n",
      "Linking qhull-2020.2-h434a139_5\n",
      "Linking brotli-bin-1.1.0-hd590300_1\n",
      "Linking libcblas-3.9.0-24_linux64_openblas\n",
      "Linking liblapack-3.9.0-24_linux64_openblas\n",
      "Linking freetype-2.12.1-h267a509_2\n",
      "Linking libtiff-4.6.0-h46a8edc_4\n",
      "Linking brotli-1.1.0-hd590300_1\n",
      "Linking openjpeg-2.5.2-h488ebb8_0\n",
      "Linking lcms2-2.16-hb7c19ff_0\n",
      "Linking tzdata-2024b-hc8b5060_0\n",
      "Linking python-3.11.0-he550d4f_1_cpython\n",
      "Linking wheel-0.45.1-pyhd8ed1ab_1\n",
      "Linking setuptools-75.8.0-pyhff2d567_0\n",
      "Linking pip-24.3.1-pyh8b19718_2\n",
      "Linking zipp-3.21.0-pyhd8ed1ab_1\n",
      "Linking itsdangerous-2.2.0-pyhd8ed1ab_1\n",
      "Linking click-8.1.8-pyh707e725_0\n",
      "Linking six-1.17.0-pyhd8ed1ab_0\n",
      "Linking munkres-1.1.4-pyh9f0ad1d_0\n",
      "Linking pyparsing-3.2.1-pyhd8ed1ab_0\n",
      "Linking packaging-24.2-pyhd8ed1ab_2\n",
      "Linking cycler-0.12.1-pyhd8ed1ab_1\n",
      "Linking certifi-2024.12.14-pyhd8ed1ab_0\n",
      "Linking blinker-1.9.0-pyhff2d567_0\n",
      "Linking importlib-metadata-8.5.0-pyha770c72_1\n",
      "Linking python-dateutil-2.9.0.post0-pyhff2d567_1\n",
      "Linking markupsafe-2.1.5-py311h459d7ec_0\n",
      "Linking pillow-10.4.0-py311h82a398c_0\n",
      "Linking kiwisolver-1.4.5-py311h9547e67_1\n",
      "Linking numpy-2.1.0-py311hed25524_0\n",
      "Linking fonttools-4.53.1-py311h61187de_0\n",
      "Linking contourpy-1.2.1-py311h9547e67_0\n",
      "Linking scipy-1.14.0-py311h0a5b728_2\n",
      "Linking matplotlib-base-3.9.2-py311h74b4f7c_0\n",
      "Linking werkzeug-3.1.3-pyhd8ed1ab_1\n",
      "Linking jinja2-3.1.5-pyhd8ed1ab_0\n",
      "Linking flask-3.1.0-pyhff2d567_0\n",
      "Linking ase-3.23.0-pyhd8ed1ab_0\n",
      "\n",
      "Transaction finished\n",
      "\n",
      "To activate this environment, use:\n",
      "\n",
      "    micromamba activate /home/runner/work/DFTK.jl/DFTK.jl/docs/.CondaPkg/env\n",
      "\n",
      "Or to execute a single command in this environment, use:\n",
      "\n",
      "    micromamba run -p /home/runner/work/DFTK.jl/DFTK.jl/docs/.CondaPkg/env mycommand\n",
      "\n"
     ]
    }
   ],
   "cell_type": "code",
   "source": [
    "using ASEconvert\n",
    "using PythonCall\n",
    "\n",
    "a = 5.6537  # GaAs lattice parameter in Ångström (because ASE uses Å as length unit)\n",
    "gaas = ase.build.bulk(\"GaAs\", \"zincblende\"; a)\n",
    "surface = ase.build.surface(gaas, miller, n_GaAs, 0, periodic=true);"
   ],
   "metadata": {},
   "execution_count": 2
  },
  {
   "cell_type": "markdown",
   "source": [
    "Get the amount of vacuum in Ångström we need to add"
   ],
   "metadata": {}
  },
  {
   "outputs": [],
   "cell_type": "code",
   "source": [
    "d_vacuum = maximum(maximum, surface.cell) / n_GaAs * n_vacuum\n",
    "surface = ase.build.surface(gaas, miller, n_GaAs, d_vacuum, periodic=true);"
   ],
   "metadata": {},
   "execution_count": 3
  },
  {
   "cell_type": "markdown",
   "source": [
    "Write an image of the surface and embed it as a nice illustration:"
   ],
   "metadata": {}
  },
  {
   "outputs": [
    {
     "output_type": "execute_result",
     "data": {
      "text/plain": "Python: None"
     },
     "metadata": {},
     "execution_count": 4
    }
   ],
   "cell_type": "code",
   "source": [
    "ase.io.write(\"surface.png\", surface * pytuple((3, 3, 1)), rotation=\"-90x, 30y, -75z\")"
   ],
   "metadata": {},
   "execution_count": 4
  },
  {
   "cell_type": "markdown",
   "source": [
    "<img src=\"https://docs.dftk.org/stable/surface.png\" width=500 height=500 />"
   ],
   "metadata": {}
  },
  {
   "cell_type": "markdown",
   "source": [
    "Use the `pyconvert` function from `PythonCall` to convert the ASE atoms\n",
    "to an AtomsBase-compatible system.\n",
    "This can then be used in the same way as other `AtomsBase` systems\n",
    "(see AtomsBase integration for details) to construct a DFTK model:"
   ],
   "metadata": {}
  },
  {
   "outputs": [
    {
     "output_type": "execute_result",
     "data": {
      "text/plain": "Model(gga_x_pbe+gga_c_pbe, 3D):\n    lattice (in Bohr)    : [7.55469   , 0         , 0         ]\n                           [0         , 7.55469   , 0         ]\n                           [0         , 0         , 40.0648   ]\n    unit cell volume     : 2286.6 Bohr³\n\n    atoms                : As₂Ga₂\n    atom potentials      : ElementPsp(Ga, \"/home/runner/.julia/artifacts/9a2a5dc89d1b33bff2ad61eaf2d000191050d15c/Ga.gth\")\n                           ElementPsp(As, \"/home/runner/.julia/artifacts/9a2a5dc89d1b33bff2ad61eaf2d000191050d15c/As.gth\")\n                           ElementPsp(Ga, \"/home/runner/.julia/artifacts/9a2a5dc89d1b33bff2ad61eaf2d000191050d15c/Ga.gth\")\n                           ElementPsp(As, \"/home/runner/.julia/artifacts/9a2a5dc89d1b33bff2ad61eaf2d000191050d15c/As.gth\")\n\n    num. electrons       : 16\n    spin polarization    : none\n    temperature          : 0.001 Ha\n    smearing             : DFTK.Smearing.Gaussian()\n\n    terms                : Kinetic()\n                           AtomicLocal()\n                           AtomicNonlocal()\n                           Ewald(nothing)\n                           PspCorrection()\n                           Hartree()\n                           Xc(gga_x_pbe, gga_c_pbe)\n                           Entropy()"
     },
     "metadata": {},
     "execution_count": 5
    }
   ],
   "cell_type": "code",
   "source": [
    "using DFTK\n",
    "using PseudoPotentialData\n",
    "\n",
    "pseudopotentials = PseudoFamily(\"cp2k.nc.sr.pbe.v0_1.largecore.gth\")\n",
    "model = model_DFT(pyconvert(AbstractSystem, surface);\n",
    "                  functionals=PBE(),\n",
    "                  temperature=1e-3,\n",
    "                  smearing=DFTK.Smearing.Gaussian(),\n",
    "                  pseudopotentials)"
   ],
   "metadata": {},
   "execution_count": 5
  },
  {
   "cell_type": "markdown",
   "source": [
    "In the above we use the `pseudopotential` keyword argument to\n",
    "assign the respective pseudopotentials to the imported `model.atoms`.\n",
    "Try lowering the SCF convergence tolerance (`tol`)\n",
    "or try `mixing=KerkerMixing()` to see the full challenge of this system."
   ],
   "metadata": {}
  },
  {
   "outputs": [
    {
     "name": "stdout",
     "output_type": "stream",
     "text": [
      "n     Energy            log10(ΔE)   log10(Δρ)   Diag   Δtime\n",
      "---   ---------------   ---------   ---------   ----   ------\n",
      "  1   -16.58765094651                   -0.58    5.4    1.07s\n",
      "  2   -16.72502066185       -0.86       -1.01    1.0    279ms\n",
      "  3   -16.73053476950       -2.26       -1.57    2.0    273ms\n",
      "  4   -16.73121407885       -3.17       -2.16    1.0    226ms\n",
      "  5   -16.73132176423       -3.97       -2.58    1.8    245ms\n",
      "  6   -16.73133407357       -4.91       -2.82    2.0    269ms\n",
      "  7   -16.73097400354   +   -3.44       -2.53    2.1    264ms\n",
      "  8   -16.73116577313       -3.72       -2.63    2.4    592ms\n",
      "  9   -16.73106569961   +   -4.00       -2.58    2.1    245ms\n",
      " 10   -16.73131036931       -3.61       -3.03    1.0    202ms\n",
      " 11   -16.73133697791       -4.57       -3.45    1.9    229ms\n",
      " 12   -16.73133739301       -6.38       -3.52    1.2    212ms\n",
      " 13   -16.73133975996       -5.63       -3.88    2.0    248ms\n",
      " 14   -16.73134012552       -6.44       -4.26    1.1    208ms\n",
      " 15   -16.73134019901       -7.13       -4.73    2.0    255ms\n",
      " 16   -16.73134019664   +   -8.63       -4.84    2.0    261ms\n",
      " 17   -16.73134019942       -8.56       -5.10    1.0    204ms\n",
      " 18   -16.73134020024       -9.09       -5.38    1.1    207ms\n",
      " 19   -16.73134020042       -9.73       -5.96    1.7    235ms\n",
      " 20   -16.73134020043      -11.04       -6.16    2.0    262ms\n"
     ]
    }
   ],
   "cell_type": "code",
   "source": [
    "basis  = PlaneWaveBasis(model; Ecut, kgrid)\n",
    "scfres = self_consistent_field(basis; tol=1e-6, mixing=LdosMixing());"
   ],
   "metadata": {},
   "execution_count": 6
  },
  {
   "outputs": [
    {
     "output_type": "execute_result",
     "data": {
      "text/plain": "Energy breakdown (in Ha):\n    Kinetic             5.8593979 \n    AtomicLocal         -105.6100155\n    AtomicNonlocal      2.3494814 \n    Ewald               35.5044300\n    PspCorrection       0.2016043 \n    Hartree             49.5614291\n    Xc                  -4.5976639\n    Entropy             -0.0000035\n\n    total               -16.731340200434"
     },
     "metadata": {},
     "execution_count": 7
    }
   ],
   "cell_type": "code",
   "source": [
    "scfres.energies"
   ],
   "metadata": {},
   "execution_count": 7
  }
 ],
 "nbformat_minor": 3,
 "metadata": {
  "language_info": {
   "file_extension": ".jl",
   "mimetype": "application/julia",
   "name": "julia",
   "version": "1.11.2"
  },
  "kernelspec": {
   "name": "julia-1.11",
   "display_name": "Julia 1.11.2",
   "language": "julia"
  }
 },
 "nbformat": 4
}
