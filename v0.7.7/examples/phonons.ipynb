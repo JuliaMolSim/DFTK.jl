{
 "cells": [
  {
   "cell_type": "markdown",
   "source": [
    "# Phonon computations\n",
    "\n",
    "This is a quick sketch how to run a simple phonon calculation using DFTK.\n",
    "First we run an SCF calculation."
   ],
   "metadata": {}
  },
  {
   "outputs": [
    {
     "name": "stdout",
     "output_type": "stream",
     "text": [
      "n     Energy            log10(ΔE)   log10(Δρ)   Diag   Δtime\n",
      "---   ---------------   ---------   ---------   ----   ------\n",
      "  1   -7.916418704501                   -0.69    4.6    100ms\n",
      "  2   -7.921197901681       -2.32       -1.52    1.0   50.5ms\n",
      "  3   -7.921406407094       -3.68       -2.49    1.5   57.3ms\n",
      "  4   -7.921441104093       -4.46       -2.85    2.6    101ms\n",
      "  5   -7.921441711523       -6.22       -3.05    1.0   50.0ms\n",
      "  6   -7.921442008316       -6.53       -4.50    1.0   50.5ms\n",
      "  7   -7.921442021793       -7.87       -4.59    3.0   80.8ms\n",
      "  8   -7.921442022126       -9.48       -5.19    1.0   69.1ms\n",
      "  9   -7.921442022143      -10.76       -6.03    1.5   56.1ms\n",
      " 10   -7.921442022144      -12.13       -6.13    2.1   66.2ms\n",
      " 11   -7.921442022144      -12.71       -6.63    1.0   53.0ms\n",
      " 12   -7.921442022144      -13.80       -7.00    1.2    106ms\n",
      " 13   -7.921442022144      -14.75       -7.44    1.0    236ms\n",
      " 14   -7.921442022144      -14.75       -8.19    1.4   56.4ms\n"
     ]
    }
   ],
   "cell_type": "code",
   "source": [
    "using AtomsBuilder\n",
    "using DFTK\n",
    "using PseudoPotentialData\n",
    "\n",
    "pseudopotentials = PseudoFamily(\"cp2k.nc.sr.lda.v0_1.semicore.gth\")\n",
    "model  = model_DFT(bulk(:Si); pseudopotentials, functionals=LDA())\n",
    "basis  = PlaneWaveBasis(model; Ecut=10, kgrid=[4, 4, 4])\n",
    "scfres = self_consistent_field(basis, tol=1e-8);\n",
    "nothing  # hide"
   ],
   "metadata": {},
   "execution_count": 1
  },
  {
   "cell_type": "markdown",
   "source": [
    "Next we compute the phonon modes at the q-point `[1/4, 1/4, 1/4]`."
   ],
   "metadata": {}
  },
  {
   "outputs": [
    {
     "name": "stdout",
     "output_type": "stream",
     "text": [
      "147.175201 seconds (158.63 M allocations: 104.564 GiB, 7.02% gc time, 25.39% compilation time)\n"
     ]
    }
   ],
   "cell_type": "code",
   "source": [
    "scfres = DFTK.unfold_bz(scfres)\n",
    "phret_q0 = @time DFTK.phonon_modes(scfres; q=[0.25, 0.25, 0.25]);\n",
    "nothing  # hide"
   ],
   "metadata": {},
   "execution_count": 2
  },
  {
   "cell_type": "markdown",
   "source": [
    "These are the final phonon frequencies:"
   ],
   "metadata": {}
  },
  {
   "outputs": [
    {
     "output_type": "execute_result",
     "data": {
      "text/plain": "6-element Vector{Float64}:\n -0.0034981553615205984\n -0.0029774511663774555\n -0.0029774511647651797\n  0.0043022306371311245\n  0.0043022306377546084\n  0.004353201767121633"
     },
     "metadata": {},
     "execution_count": 3
    }
   ],
   "cell_type": "code",
   "source": [
    "phret_q0.frequencies"
   ],
   "metadata": {},
   "execution_count": 3
  }
 ],
 "nbformat_minor": 3,
 "metadata": {
  "language_info": {
   "file_extension": ".jl",
   "mimetype": "application/julia",
   "name": "julia",
   "version": "1.11.2"
  },
  "kernelspec": {
   "name": "julia-1.11",
   "display_name": "Julia 1.11.2",
   "language": "julia"
  }
 },
 "nbformat": 4
}
