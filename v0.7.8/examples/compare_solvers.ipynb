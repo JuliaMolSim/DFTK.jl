{
 "cells": [
  {
   "cell_type": "markdown",
   "source": [
    "# Comparison of DFT solvers"
   ],
   "metadata": {}
  },
  {
   "cell_type": "markdown",
   "source": [
    "We compare four different approaches for solving the DFT minimisation problem,\n",
    "namely a density-based SCF, a potential-based SCF, direct minimisation and Newton."
   ],
   "metadata": {}
  },
  {
   "cell_type": "markdown",
   "source": [
    "First we setup our problem"
   ],
   "metadata": {}
  },
  {
   "outputs": [
    {
     "output_type": "execute_result",
     "data": {
      "text/plain": "1.0e-6"
     },
     "metadata": {},
     "execution_count": 1
    }
   ],
   "cell_type": "code",
   "source": [
    "using AtomsBuilder\n",
    "using DFTK\n",
    "using LinearAlgebra\n",
    "using PseudoPotentialData\n",
    "\n",
    "pseudopotentials = PseudoFamily(\"dojo.nc.sr.pbesol.v0_4_1.standard.upf\")\n",
    "model = model_DFT(bulk(:Si); functionals=PBEsol(), pseudopotentials)\n",
    "basis = PlaneWaveBasis(model; Ecut=5, kgrid=[3, 3, 3])\n",
    "\n",
    "# Convergence we desire in the density\n",
    "tol = 1e-6"
   ],
   "metadata": {},
   "execution_count": 1
  },
  {
   "cell_type": "markdown",
   "source": [
    "## Density-based self-consistent field"
   ],
   "metadata": {}
  },
  {
   "outputs": [
    {
     "name": "stdout",
     "output_type": "stream",
     "text": [
      "n     Energy            log10(ΔE)   log10(Δρ)   Diag   Δtime\n",
      "---   ---------------   ---------   ---------   ----   ------\n",
      "  1   -8.397775552065                   -0.90    5.2   28.3ms\n",
      "  2   -8.400242081302       -2.61       -1.74    1.0   19.1ms\n",
      "  3   -8.400402488477       -3.79       -2.95    1.5   43.1ms\n",
      "  4   -8.400427813289       -4.60       -2.93    3.2   25.2ms\n",
      "  5   -8.400427831480       -7.74       -2.93    1.0   19.1ms\n",
      "  6   -8.400428145807       -6.50       -4.62    1.0   19.1ms\n",
      "  7   -8.400428155591       -8.01       -4.32    3.2   25.6ms\n",
      "  8   -8.400428156253       -9.18       -5.55    1.0   19.5ms\n",
      "  9   -8.400428156276      -10.64       -6.29    2.0   39.9ms\n"
     ]
    }
   ],
   "cell_type": "code",
   "source": [
    "scfres_scf = self_consistent_field(basis; tol);"
   ],
   "metadata": {},
   "execution_count": 2
  },
  {
   "cell_type": "markdown",
   "source": [
    "## Potential-based SCF"
   ],
   "metadata": {}
  },
  {
   "outputs": [
    {
     "name": "stdout",
     "output_type": "stream",
     "text": [
      "n     Energy            log10(ΔE)   log10(Δρ)   α      Diag   Δtime\n",
      "---   ---------------   ---------   ---------   ----   ----   ------\n",
      "  1   -8.397732847592                   -0.90           4.8    468ms\n",
      "  2   -8.400362208716       -2.58       -1.77   0.80    2.2    499ms\n",
      "  3   -8.400419250268       -4.24       -2.96   0.80    1.0    173ms\n",
      "  4   -8.400428102119       -5.05       -3.31   0.80    3.0   75.9ms\n",
      "  5   -8.400428151633       -7.31       -4.42   0.80    1.2   16.9ms\n",
      "  6   -8.400428156239       -8.34       -5.45   0.80    3.0   21.3ms\n",
      "  7   -8.400428156276      -10.44       -6.26   0.80    2.2   19.5ms\n"
     ]
    }
   ],
   "cell_type": "code",
   "source": [
    "scfres_scfv = DFTK.scf_potential_mixing(basis; tol);"
   ],
   "metadata": {},
   "execution_count": 3
  },
  {
   "cell_type": "markdown",
   "source": [
    "## Direct minimization"
   ],
   "metadata": {}
  },
  {
   "outputs": [
    {
     "name": "stdout",
     "output_type": "stream",
     "text": [
      "n     Energy            log10(ΔE)   log10(Δρ)   Δtime\n",
      "---   ---------------   ---------   ---------   ------\n",
      "  1   +0.946308383213                   -1.07    2.77s\n",
      "  2   -1.365211624405        0.36       -0.68    107ms\n",
      "  3   -3.525257210901        0.33       -0.41   38.9ms\n",
      "  4   -3.940299491671       -0.38       -0.47   39.1ms\n",
      "  5   -6.031596312734        0.32       -0.48   64.6ms\n",
      "  6   -6.765559486046       -0.13       -0.71   38.8ms\n",
      "  7   -7.760941373224       -0.00       -0.87   38.9ms\n",
      "  8   -7.910924858146       -0.82       -1.45   28.7ms\n",
      "  9   -8.113458605381       -0.69       -1.67   45.8ms\n",
      " 10   -8.186798478914       -1.13       -1.79   29.1ms\n",
      " 11   -8.309694100798       -0.91       -1.97   28.7ms\n",
      " 12   -8.355554975426       -1.34       -2.20   28.7ms\n",
      " 13   -8.377787481484       -1.65       -2.15   29.1ms\n",
      " 14   -8.389731347973       -1.92       -2.47   28.6ms\n",
      " 15   -8.393128662751       -2.47       -2.44   33.1ms\n",
      " 16   -8.397123839046       -2.40       -2.71   28.8ms\n",
      " 17   -8.398682714251       -2.81       -2.78   28.7ms\n",
      " 18   -8.399531796993       -3.07       -2.84   32.2ms\n",
      " 19   -8.399936068228       -3.39       -3.25   28.7ms\n",
      " 20   -8.400262467138       -3.49       -3.67   28.7ms\n",
      " 21   -8.400339345305       -4.11       -3.46   32.1ms\n",
      " 22   -8.400395086193       -4.25       -3.70   28.7ms\n",
      " 23   -8.400413026785       -4.75       -4.09   28.7ms\n",
      " 24   -8.400422685967       -5.02       -4.23   31.9ms\n",
      " 25   -8.400425488921       -5.55       -4.73   28.6ms\n",
      " 26   -8.400426973153       -5.83       -4.65   28.6ms\n",
      " 27   -8.400427245500       -6.56       -4.85   32.1ms\n",
      " 28   -8.400427751201       -6.30       -4.66   29.1ms\n",
      " 29   -8.400427932259       -6.74       -5.26   32.4ms\n",
      " 30   -8.400428073220       -6.85       -4.89   29.5ms\n",
      " 31   -8.400428120042       -7.33       -5.59   28.8ms\n",
      " 32   -8.400428138229       -7.74       -5.31   32.0ms\n",
      " 33   -8.400428148430       -7.99       -5.75   28.8ms\n",
      " 34   -8.400428152204       -8.42       -5.87   28.8ms\n",
      " 35   -8.400428154349       -8.67       -5.90   32.2ms\n",
      " 36   -8.400428155515       -8.93       -6.55   28.8ms\n"
     ]
    }
   ],
   "cell_type": "code",
   "source": [
    "scfres_dm = direct_minimization(basis; tol);"
   ],
   "metadata": {},
   "execution_count": 4
  },
  {
   "cell_type": "markdown",
   "source": [
    "## Newton algorithm"
   ],
   "metadata": {}
  },
  {
   "cell_type": "markdown",
   "source": [
    "Start not too far from the solution to ensure convergence:\n",
    "We run first a very crude SCF to get close and then switch to Newton."
   ],
   "metadata": {}
  },
  {
   "outputs": [
    {
     "name": "stdout",
     "output_type": "stream",
     "text": [
      "n     Energy            log10(ΔE)   log10(Δρ)   Diag   Δtime\n",
      "---   ---------------   ---------   ---------   ----   ------\n",
      "  1   -8.397797240772                   -0.90    5.0   26.4ms\n"
     ]
    }
   ],
   "cell_type": "code",
   "source": [
    "scfres_start = self_consistent_field(basis; tol=0.5);"
   ],
   "metadata": {},
   "execution_count": 5
  },
  {
   "cell_type": "markdown",
   "source": [
    "Remove the virtual orbitals (which Newton cannot treat yet)"
   ],
   "metadata": {}
  },
  {
   "outputs": [
    {
     "name": "stdout",
     "output_type": "stream",
     "text": [
      "n     Energy            log10(ΔE)   log10(Δρ)   Δtime\n",
      "---   ---------------   ---------   ---------   ------\n",
      "  1   -8.400427970868                   -1.78    24.3s\n",
      "  2   -8.400428156277       -6.73       -4.02    2.15s\n",
      "  3   -8.400428156277      -14.45       -7.79    125ms\n"
     ]
    }
   ],
   "cell_type": "code",
   "source": [
    "ψ = DFTK.select_occupied_orbitals(basis, scfres_start.ψ, scfres_start.occupation).ψ\n",
    "scfres_newton = newton(basis, ψ; tol);"
   ],
   "metadata": {},
   "execution_count": 6
  },
  {
   "cell_type": "markdown",
   "source": [
    "## Comparison of results"
   ],
   "metadata": {}
  },
  {
   "outputs": [
    {
     "name": "stdout",
     "output_type": "stream",
     "text": [
      "|ρ_newton - ρ_scf|  = 6.635300380031439e-7\n",
      "|ρ_newton - ρ_scfv| = 2.0390101233108131e-7\n",
      "|ρ_newton - ρ_dm|   = 1.109330286214458e-6\n"
     ]
    }
   ],
   "cell_type": "code",
   "source": [
    "println(\"|ρ_newton - ρ_scf|  = \", norm(scfres_newton.ρ - scfres_scf.ρ))\n",
    "println(\"|ρ_newton - ρ_scfv| = \", norm(scfres_newton.ρ - scfres_scfv.ρ))\n",
    "println(\"|ρ_newton - ρ_dm|   = \", norm(scfres_newton.ρ - scfres_dm.ρ))"
   ],
   "metadata": {},
   "execution_count": 7
  }
 ],
 "nbformat_minor": 3,
 "metadata": {
  "language_info": {
   "file_extension": ".jl",
   "mimetype": "application/julia",
   "name": "julia",
   "version": "1.11.3"
  },
  "kernelspec": {
   "name": "julia-1.11",
   "display_name": "Julia 1.11.3",
   "language": "julia"
  }
 },
 "nbformat": 4
}
