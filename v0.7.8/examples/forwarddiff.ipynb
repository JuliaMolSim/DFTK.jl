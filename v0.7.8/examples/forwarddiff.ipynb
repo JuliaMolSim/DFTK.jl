{
 "cells": [
  {
   "cell_type": "markdown",
   "source": [
    "# Polarizability using automatic differentiation\n",
    "\n",
    "Simple example for computing properties using (forward-mode)\n",
    "automatic differentiation.\n",
    "For a more classical approach and more details about computing polarizabilities,\n",
    "see Polarizability by linear response."
   ],
   "metadata": {}
  },
  {
   "outputs": [],
   "cell_type": "code",
   "source": [
    "using DFTK\n",
    "using LinearAlgebra\n",
    "using ForwardDiff\n",
    "using PseudoPotentialData\n",
    "\n",
    "# Construct PlaneWaveBasis given a particular electric field strength\n",
    "# Again we take the example of a Helium atom.\n",
    "function make_basis(ε::T; a=10., Ecut=30) where {T}\n",
    "    lattice = T(a) * I(3)  # lattice is a cube of $a$ Bohrs\n",
    "    # Helium at the center of the box\n",
    "    pseudopotentials = PseudoFamily(\"cp2k.nc.sr.lda.v0_1.semicore.gth\")\n",
    "    atoms     = [ElementPsp(:He, pseudopotentials)]\n",
    "    positions = [[1/2, 1/2, 1/2]]\n",
    "\n",
    "    model = model_DFT(lattice, atoms, positions;\n",
    "                      functionals=[:lda_x, :lda_c_vwn],\n",
    "                      extra_terms=[ExternalFromReal(r -> -ε * (r[1] - a/2))],\n",
    "                      symmetries=false)\n",
    "    PlaneWaveBasis(model; Ecut, kgrid=[1, 1, 1])  # No k-point sampling on isolated system\n",
    "end\n",
    "\n",
    "# dipole moment of a given density (assuming the current geometry)\n",
    "function dipole(basis, ρ)\n",
    "    @assert isdiag(basis.model.lattice)\n",
    "    a  = basis.model.lattice[1, 1]\n",
    "    rr = [a * (r[1] - 1/2) for r in r_vectors(basis)]\n",
    "    sum(rr .* ρ) * basis.dvol\n",
    "end\n",
    "\n",
    "# Function to compute the dipole for a given field strength\n",
    "function compute_dipole(ε; tol=1e-8, kwargs...)\n",
    "    scfres = self_consistent_field(make_basis(ε; kwargs...); tol)\n",
    "    dipole(scfres.basis, scfres.ρ)\n",
    "end;"
   ],
   "metadata": {},
   "execution_count": 1
  },
  {
   "cell_type": "markdown",
   "source": [
    "With this in place we can compute the polarizability from finite differences\n",
    "(just like in the previous example):"
   ],
   "metadata": {}
  },
  {
   "outputs": [
    {
     "name": "stdout",
     "output_type": "stream",
     "text": [
      "n     Energy            log10(ΔE)   log10(Δρ)   Diag   Δtime\n",
      "---   ---------------   ---------   ---------   ----   ------\n",
      "  1   -2.770848812875                   -0.52    9.0    180ms\n",
      "  2   -2.772147460715       -2.89       -1.32    1.0    118ms\n",
      "  3   -2.772170194783       -4.64       -2.43    1.0    109ms\n",
      "  4   -2.772170648329       -6.34       -3.13    1.0    113ms\n",
      "  5   -2.772170722716       -7.13       -4.29    2.0    129ms\n",
      "  6   -2.772170722849       -9.88       -4.48    1.0    119ms\n",
      "  7   -2.772170723012       -9.79       -5.40    1.0    120ms\n",
      "  8   -2.772170723014      -11.67       -5.56    2.0    135ms\n",
      "  9   -2.772170723015      -12.04       -6.55    1.0    539ms\n",
      " 10   -2.772170723015      -14.15       -6.61    2.0    130ms\n",
      " 11   -2.772170723015      -14.18       -7.14    1.0    126ms\n",
      " 12   -2.772170723015      -14.75       -7.96    1.0    135ms\n",
      " 13   -2.772170723015   +  -14.03       -8.51    2.0    133ms\n",
      "n     Energy            log10(ΔE)   log10(Δρ)   Diag   Δtime\n",
      "---   ---------------   ---------   ---------   ----   ------\n",
      "  1   -2.770747049402                   -0.52    9.0    188ms\n",
      "  2   -2.772058165649       -2.88       -1.32    1.0    117ms\n",
      "  3   -2.772082981966       -4.61       -2.45    1.0    110ms\n",
      "  4   -2.772083321376       -6.47       -3.12    1.0    111ms\n",
      "  5   -2.772083415760       -7.03       -3.87    2.0    129ms\n",
      "  6   -2.772083417669       -8.72       -4.60    1.0    117ms\n",
      "  7   -2.772083417810       -9.85       -5.36    2.0    136ms\n",
      "  8   -2.772083417810      -12.25       -6.00    1.0    139ms\n",
      "  9   -2.772083417811      -12.61       -6.81    2.0    541ms\n",
      " 10   -2.772083417811   +  -13.74       -7.76    1.0    116ms\n",
      " 11   -2.772083417811      -14.15       -8.42    2.0    144ms\n"
     ]
    },
    {
     "output_type": "execute_result",
     "data": {
      "text/plain": "1.7735582112779569"
     },
     "metadata": {},
     "execution_count": 2
    }
   ],
   "cell_type": "code",
   "source": [
    "polarizability_fd = let\n",
    "    ε = 0.01\n",
    "    (compute_dipole(ε) - compute_dipole(0.0)) / ε\n",
    "end"
   ],
   "metadata": {},
   "execution_count": 2
  },
  {
   "cell_type": "markdown",
   "source": [
    "We do the same thing using automatic differentiation. Under the hood this uses\n",
    "custom rules to implicitly differentiate through the self-consistent\n",
    "field fixed-point problem. This leads to a density-functional perturbation\n",
    "theory problem, which is automatically set up and solved in the background."
   ],
   "metadata": {}
  },
  {
   "outputs": [
    {
     "name": "stdout",
     "output_type": "stream",
     "text": [
      "n     Energy            log10(ΔE)   log10(Δρ)   Diag   Δtime\n",
      "---   ---------------   ---------   ---------   ----   ------\n",
      "  1   -2.770793143969                   -0.52    9.0    178ms\n",
      "  2   -2.772061188153       -2.90       -1.32    1.0    109ms\n",
      "  3   -2.772082991222       -4.66       -2.43    1.0    111ms\n",
      "  4   -2.772083338990       -6.46       -3.13    1.0    115ms\n",
      "  5   -2.772083417699       -7.10       -4.42    2.0    135ms\n",
      "  6   -2.772083417757      -10.23       -4.64    1.0    116ms\n",
      "  7   -2.772083417809      -10.29       -5.72    1.0    539ms\n",
      "  8   -2.772083417811      -11.71       -6.34    2.0    128ms\n",
      "  9   -2.772083417811      -13.83       -7.75    1.0    113ms\n",
      " 10   -2.772083417811      -13.80       -8.22    2.0    134ms\n",
      "\n",
      "Polarizability via ForwardDiff:       1.7725349863786195\n",
      "Polarizability via finite difference: 1.7735582112779569\n"
     ]
    }
   ],
   "cell_type": "code",
   "source": [
    "polarizability = ForwardDiff.derivative(compute_dipole, 0.0)\n",
    "println()\n",
    "println(\"Polarizability via ForwardDiff:       $polarizability\")\n",
    "println(\"Polarizability via finite difference: $polarizability_fd\")"
   ],
   "metadata": {},
   "execution_count": 3
  }
 ],
 "nbformat_minor": 3,
 "metadata": {
  "language_info": {
   "file_extension": ".jl",
   "mimetype": "application/julia",
   "name": "julia",
   "version": "1.11.3"
  },
  "kernelspec": {
   "name": "julia-1.11",
   "display_name": "Julia 1.11.3",
   "language": "julia"
  }
 },
 "nbformat": 4
}
