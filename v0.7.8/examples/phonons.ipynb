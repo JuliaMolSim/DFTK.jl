{
 "cells": [
  {
   "cell_type": "markdown",
   "source": [
    "# Phonon computations\n",
    "\n",
    "This is a quick sketch how to run a simple phonon calculation using DFTK.\n",
    "First we run an SCF calculation."
   ],
   "metadata": {}
  },
  {
   "outputs": [
    {
     "name": "stdout",
     "output_type": "stream",
     "text": [
      "n     Energy            log10(ΔE)   log10(Δρ)   Diag   Δtime\n",
      "---   ---------------   ---------   ---------   ----   ------\n",
      "  1   -7.916444633267                   -0.69    4.6    114ms\n",
      "  2   -7.921212775600       -2.32       -1.52    1.0   49.6ms\n",
      "  3   -7.921407128647       -3.71       -2.49    1.4   56.0ms\n",
      "  4   -7.921440995274       -4.47       -2.83    2.5   88.8ms\n",
      "  5   -7.921441656240       -6.18       -3.02    1.1   51.7ms\n",
      "  6   -7.921442008571       -6.45       -4.57    1.0   49.8ms\n",
      "  7   -7.921442021788       -7.88       -4.59    2.9   77.9ms\n",
      "  8   -7.921442022128       -9.47       -5.36    1.0   54.8ms\n",
      "  9   -7.921442022141      -10.89       -5.54    1.9   60.1ms\n",
      " 10   -7.921442022144      -11.50       -6.03    1.0   50.6ms\n",
      " 11   -7.921442022144      -12.57       -6.57    1.2   58.1ms\n",
      " 12   -7.921442022144      -13.56       -7.10    1.5   56.1ms\n",
      " 13   -7.921442022144      -15.05       -7.80    1.6   59.4ms\n",
      " 14   -7.921442022144      -15.05       -8.88    2.0   68.9ms\n"
     ]
    }
   ],
   "cell_type": "code",
   "source": [
    "using AtomsBuilder\n",
    "using DFTK\n",
    "using PseudoPotentialData\n",
    "\n",
    "pseudopotentials = PseudoFamily(\"cp2k.nc.sr.lda.v0_1.semicore.gth\")\n",
    "model  = model_DFT(bulk(:Si); pseudopotentials, functionals=LDA())\n",
    "basis  = PlaneWaveBasis(model; Ecut=10, kgrid=[4, 4, 4])\n",
    "scfres = self_consistent_field(basis, tol=1e-8);\n",
    "nothing  # hide"
   ],
   "metadata": {},
   "execution_count": 1
  },
  {
   "cell_type": "markdown",
   "source": [
    "Next we compute the phonon modes at the q-point `[1/4, 1/4, 1/4]`."
   ],
   "metadata": {}
  },
  {
   "outputs": [
    {
     "name": "stdout",
     "output_type": "stream",
     "text": [
      "148.458498 seconds (158.94 M allocations: 104.557 GiB, 7.49% gc time, 25.04% compilation time)\n"
     ]
    }
   ],
   "cell_type": "code",
   "source": [
    "scfres = DFTK.unfold_bz(scfres)\n",
    "phret_q0 = @time DFTK.phonon_modes(scfres; q=[0.25, 0.25, 0.25]);\n",
    "nothing  # hide"
   ],
   "metadata": {},
   "execution_count": 2
  },
  {
   "cell_type": "markdown",
   "source": [
    "These are the final phonon frequencies:"
   ],
   "metadata": {}
  },
  {
   "outputs": [
    {
     "output_type": "execute_result",
     "data": {
      "text/plain": "6-element Vector{Float64}:\n -0.0034981553607809734\n -0.002977451162337372\n -0.002977451162162232\n  0.004302230627821764\n  0.004302230627966563\n  0.004353201759366294"
     },
     "metadata": {},
     "execution_count": 3
    }
   ],
   "cell_type": "code",
   "source": [
    "phret_q0.frequencies"
   ],
   "metadata": {},
   "execution_count": 3
  }
 ],
 "nbformat_minor": 3,
 "metadata": {
  "language_info": {
   "file_extension": ".jl",
   "mimetype": "application/julia",
   "name": "julia",
   "version": "1.11.3"
  },
  "kernelspec": {
   "name": "julia-1.11",
   "display_name": "Julia 1.11.3",
   "language": "julia"
  }
 },
 "nbformat": 4
}
