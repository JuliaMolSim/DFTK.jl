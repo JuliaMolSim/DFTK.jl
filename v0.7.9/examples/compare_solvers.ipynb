{
 "cells": [
  {
   "cell_type": "markdown",
   "source": [
    "# Comparison of DFT solvers"
   ],
   "metadata": {}
  },
  {
   "cell_type": "markdown",
   "source": [
    "We compare four different approaches for solving the DFT minimisation problem,\n",
    "namely a density-based SCF, a potential-based SCF, direct minimisation and Newton."
   ],
   "metadata": {}
  },
  {
   "cell_type": "markdown",
   "source": [
    "First we setup our problem"
   ],
   "metadata": {}
  },
  {
   "outputs": [
    {
     "output_type": "execute_result",
     "data": {
      "text/plain": "1.0e-6"
     },
     "metadata": {},
     "execution_count": 1
    }
   ],
   "cell_type": "code",
   "source": [
    "using AtomsBuilder\n",
    "using DFTK\n",
    "using LinearAlgebra\n",
    "using PseudoPotentialData\n",
    "\n",
    "pseudopotentials = PseudoFamily(\"dojo.nc.sr.pbesol.v0_4_1.standard.upf\")\n",
    "model = model_DFT(bulk(:Si); functionals=PBEsol(), pseudopotentials)\n",
    "basis = PlaneWaveBasis(model; Ecut=5, kgrid=[3, 3, 3])\n",
    "\n",
    "# Convergence we desire in the density\n",
    "tol = 1e-6"
   ],
   "metadata": {},
   "execution_count": 1
  },
  {
   "cell_type": "markdown",
   "source": [
    "## Density-based self-consistent field"
   ],
   "metadata": {}
  },
  {
   "outputs": [
    {
     "name": "stdout",
     "output_type": "stream",
     "text": [
      "n     Energy            log10(ΔE)   log10(Δρ)   Diag   Δtime\n",
      "---   ---------------   ---------   ---------   ----   ------\n",
      "  1   -8.397881619231                   -0.90    5.2   27.6ms\n",
      "  2   -8.400248865337       -2.63       -1.74    1.0   21.5ms\n",
      "  3   -8.400406829544       -3.80       -2.96    1.5   22.7ms\n",
      "  4   -8.400427831736       -4.68       -2.97    3.2   27.3ms\n",
      "  5   -8.400427922022       -7.04       -3.02    1.0   45.2ms\n",
      "  6   -8.400428150008       -6.64       -4.61    1.0   19.5ms\n",
      "  7   -8.400428155806       -8.24       -4.44    2.2   23.4ms\n",
      "  8   -8.400428156249       -9.35       -5.16    1.0   20.0ms\n",
      "  9   -8.400428156275      -10.58       -6.47    1.2   20.9ms\n"
     ]
    }
   ],
   "cell_type": "code",
   "source": [
    "scfres_scf = self_consistent_field(basis; tol);"
   ],
   "metadata": {},
   "execution_count": 2
  },
  {
   "cell_type": "markdown",
   "source": [
    "## Potential-based SCF"
   ],
   "metadata": {}
  },
  {
   "outputs": [
    {
     "name": "stdout",
     "output_type": "stream",
     "text": [
      "n     Energy            log10(ΔE)   log10(Δρ)   α      Diag   Δtime\n",
      "---   ---------------   ---------   ---------   ----   ----   ------\n",
      "  1   -8.397804305552                   -0.90           5.5    488ms\n",
      "  2   -8.400384184276       -2.59       -1.79   0.80    2.0    527ms\n",
      "  3   -8.400422694129       -4.41       -3.01   0.80    1.0    180ms\n",
      "  4   -8.400428106287       -5.27       -3.42   0.80    2.2   20.3ms\n",
      "  5   -8.400428152860       -7.33       -4.64   0.80    1.2   16.8ms\n",
      "  6   -8.400428156243       -8.47       -5.65   0.80    2.8   66.8ms\n",
      "  7   -8.400428156276      -10.48       -5.85   0.80    2.2   20.8ms\n",
      "  8   -8.400428156277      -12.40       -6.93   0.80    1.0   16.5ms\n"
     ]
    }
   ],
   "cell_type": "code",
   "source": [
    "scfres_scfv = DFTK.scf_potential_mixing(basis; tol);"
   ],
   "metadata": {},
   "execution_count": 3
  },
  {
   "cell_type": "markdown",
   "source": [
    "## Direct minimization"
   ],
   "metadata": {}
  },
  {
   "outputs": [
    {
     "name": "stdout",
     "output_type": "stream",
     "text": [
      "n     Energy            log10(ΔE)   log10(Δρ)   Δtime\n",
      "---   ---------------   ---------   ---------   ------\n",
      "  1   +0.680406353674                   -1.08    2.85s\n",
      "  2   -1.846083895866        0.40       -0.65    156ms\n",
      "  3   -3.524403721224        0.22       -0.41   40.0ms\n",
      "  4   -4.315698887437       -0.10       -0.49   40.1ms\n",
      "  5   -5.952933983739        0.21       -0.51   40.2ms\n",
      "  6   -6.849331628373       -0.05       -0.72   68.0ms\n",
      "  7   -7.798709647502       -0.02       -0.88   40.3ms\n",
      "  8   -7.881662560143       -1.08       -1.48   29.3ms\n",
      "  9   -8.146333635650       -0.58       -1.69   29.2ms\n",
      " 10   -8.179099215309       -1.48       -2.01   34.3ms\n",
      " 11   -8.319926433093       -0.85       -1.82   29.5ms\n",
      " 12   -8.359517497653       -1.40       -2.29   29.3ms\n",
      " 13   -8.383124793950       -1.63       -2.43   29.2ms\n",
      " 14   -8.389905762043       -2.17       -2.56   33.3ms\n",
      " 15   -8.396345183739       -2.19       -2.89   30.7ms\n",
      " 16   -8.397549306578       -2.92       -2.85   29.0ms\n",
      " 17   -8.399216940412       -2.78       -3.00   33.1ms\n",
      " 18   -8.399762873767       -3.26       -3.14   29.2ms\n",
      " 19   -8.400178148360       -3.38       -3.56   29.4ms\n",
      " 20   -8.400298162735       -3.92       -3.57   33.1ms\n",
      " 21   -8.400384652042       -4.06       -3.67   29.3ms\n",
      " 22   -8.400403415676       -4.73       -3.88   32.8ms\n",
      " 23   -8.400422241147       -4.73       -4.12   29.1ms\n",
      " 24   -8.400424801610       -5.59       -4.32   29.1ms\n",
      " 25   -8.400426942948       -5.67       -4.76   33.0ms\n",
      " 26   -8.400427176501       -6.63       -4.58   29.4ms\n",
      " 27   -8.400427883552       -6.15       -5.00   29.7ms\n",
      " 28   -8.400427991392       -6.97       -4.95   33.4ms\n",
      " 29   -8.400428104444       -6.95       -5.28   29.4ms\n",
      " 30   -8.400428127349       -7.64       -5.55   29.7ms\n",
      " 31   -8.400428146825       -7.71       -5.97   33.5ms\n",
      " 32   -8.400428149863       -8.52       -6.35   29.3ms\n"
     ]
    }
   ],
   "cell_type": "code",
   "source": [
    "scfres_dm = direct_minimization(basis; tol);"
   ],
   "metadata": {},
   "execution_count": 4
  },
  {
   "cell_type": "markdown",
   "source": [
    "## Newton algorithm"
   ],
   "metadata": {}
  },
  {
   "cell_type": "markdown",
   "source": [
    "Start not too far from the solution to ensure convergence:\n",
    "We run first a very crude SCF to get close and then switch to Newton."
   ],
   "metadata": {}
  },
  {
   "outputs": [
    {
     "name": "stdout",
     "output_type": "stream",
     "text": [
      "n     Energy            log10(ΔE)   log10(Δρ)   Diag   Δtime\n",
      "---   ---------------   ---------   ---------   ----   ------\n",
      "  1   -8.397819614074                   -0.90    5.2   27.1ms\n"
     ]
    }
   ],
   "cell_type": "code",
   "source": [
    "scfres_start = self_consistent_field(basis; tol=0.5);"
   ],
   "metadata": {},
   "execution_count": 5
  },
  {
   "cell_type": "markdown",
   "source": [
    "Remove the virtual orbitals (which Newton cannot treat yet)"
   ],
   "metadata": {}
  },
  {
   "outputs": [
    {
     "name": "stdout",
     "output_type": "stream",
     "text": [
      "n     Energy            log10(ΔE)   log10(Δρ)   Δtime\n",
      "---   ---------------   ---------   ---------   ------\n",
      "  1   -8.400427986180                   -1.79    25.6s\n",
      "  2   -8.400428156277       -6.77       -4.03    2.18s\n",
      "  3   -8.400428156277      -14.75       -7.83   94.2ms\n"
     ]
    }
   ],
   "cell_type": "code",
   "source": [
    "ψ = DFTK.select_occupied_orbitals(basis, scfres_start.ψ, scfres_start.occupation).ψ\n",
    "scfres_newton = newton(basis, ψ; tol);"
   ],
   "metadata": {},
   "execution_count": 6
  },
  {
   "cell_type": "markdown",
   "source": [
    "## Comparison of results"
   ],
   "metadata": {}
  },
  {
   "outputs": [
    {
     "name": "stdout",
     "output_type": "stream",
     "text": [
      "|ρ_newton - ρ_scf|  = 2.1599198026355412e-7\n",
      "|ρ_newton - ρ_scfv| = 4.3678437666398486e-8\n",
      "|ρ_newton - ρ_dm|   = 9.62393857404865e-7\n"
     ]
    }
   ],
   "cell_type": "code",
   "source": [
    "println(\"|ρ_newton - ρ_scf|  = \", norm(scfres_newton.ρ - scfres_scf.ρ))\n",
    "println(\"|ρ_newton - ρ_scfv| = \", norm(scfres_newton.ρ - scfres_scfv.ρ))\n",
    "println(\"|ρ_newton - ρ_dm|   = \", norm(scfres_newton.ρ - scfres_dm.ρ))"
   ],
   "metadata": {},
   "execution_count": 7
  }
 ],
 "nbformat_minor": 3,
 "metadata": {
  "language_info": {
   "file_extension": ".jl",
   "mimetype": "application/julia",
   "name": "julia",
   "version": "1.11.3"
  },
  "kernelspec": {
   "name": "julia-1.11",
   "display_name": "Julia 1.11.3",
   "language": "julia"
  }
 },
 "nbformat": 4
}
