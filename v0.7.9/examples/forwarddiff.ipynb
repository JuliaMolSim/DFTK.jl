{
 "cells": [
  {
   "cell_type": "markdown",
   "source": [
    "# Polarizability using automatic differentiation\n",
    "\n",
    "Simple example for computing properties using (forward-mode)\n",
    "automatic differentiation.\n",
    "For a more classical approach and more details about computing polarizabilities,\n",
    "see Polarizability by linear response."
   ],
   "metadata": {}
  },
  {
   "outputs": [],
   "cell_type": "code",
   "source": [
    "using DFTK\n",
    "using LinearAlgebra\n",
    "using ForwardDiff\n",
    "using PseudoPotentialData\n",
    "\n",
    "# Construct PlaneWaveBasis given a particular electric field strength\n",
    "# Again we take the example of a Helium atom.\n",
    "function make_basis(ε::T; a=10., Ecut=30) where {T}\n",
    "    lattice = T(a) * I(3)  # lattice is a cube of $a$ Bohrs\n",
    "    # Helium at the center of the box\n",
    "    pseudopotentials = PseudoFamily(\"cp2k.nc.sr.lda.v0_1.semicore.gth\")\n",
    "    atoms     = [ElementPsp(:He, pseudopotentials)]\n",
    "    positions = [[1/2, 1/2, 1/2]]\n",
    "\n",
    "    model = model_DFT(lattice, atoms, positions;\n",
    "                      functionals=[:lda_x, :lda_c_vwn],\n",
    "                      extra_terms=[ExternalFromReal(r -> -ε * (r[1] - a/2))],\n",
    "                      symmetries=false)\n",
    "    PlaneWaveBasis(model; Ecut, kgrid=[1, 1, 1])  # No k-point sampling on isolated system\n",
    "end\n",
    "\n",
    "# dipole moment of a given density (assuming the current geometry)\n",
    "function dipole(basis, ρ)\n",
    "    @assert isdiag(basis.model.lattice)\n",
    "    a  = basis.model.lattice[1, 1]\n",
    "    rr = [a * (r[1] - 1/2) for r in r_vectors(basis)]\n",
    "    sum(rr .* ρ) * basis.dvol\n",
    "end\n",
    "\n",
    "# Function to compute the dipole for a given field strength\n",
    "function compute_dipole(ε; tol=1e-8, kwargs...)\n",
    "    scfres = self_consistent_field(make_basis(ε; kwargs...); tol)\n",
    "    dipole(scfres.basis, scfres.ρ)\n",
    "end;"
   ],
   "metadata": {},
   "execution_count": 1
  },
  {
   "cell_type": "markdown",
   "source": [
    "With this in place we can compute the polarizability from finite differences\n",
    "(just like in the previous example):"
   ],
   "metadata": {}
  },
  {
   "outputs": [
    {
     "name": "stdout",
     "output_type": "stream",
     "text": [
      "n     Energy            log10(ΔE)   log10(Δρ)   Diag   Δtime\n",
      "---   ---------------   ---------   ---------   ----   ------\n",
      "  1   -2.770882812452                   -0.53    8.0    174ms\n",
      "  2   -2.772141348290       -2.90       -1.31    1.0    123ms\n",
      "  3   -2.772170013210       -4.54       -2.57    1.0    111ms\n",
      "  4   -2.772170711354       -6.16       -3.62    2.0    129ms\n",
      "  5   -2.772170722517       -7.95       -4.24    1.0    119ms\n",
      "  6   -2.772170722969       -9.35       -4.91    1.0    122ms\n",
      "  7   -2.772170723015      -10.34       -5.63    2.0    136ms\n",
      "  8   -2.772170723015      -12.49       -6.42    1.0    124ms\n",
      "  9   -2.772170723015      -13.76       -7.04    1.0    122ms\n",
      " 10   -2.772170723015   +    -Inf       -7.89    2.0    139ms\n",
      " 11   -2.772170723015      -13.88       -8.44    1.0    586ms\n",
      "n     Energy            log10(ΔE)   log10(Δρ)   Diag   Δtime\n",
      "---   ---------------   ---------   ---------   ----   ------\n",
      "  1   -2.770751306822                   -0.52    9.0    190ms\n",
      "  2   -2.772060066151       -2.88       -1.32    1.0    134ms\n",
      "  3   -2.772082944629       -4.64       -2.42    1.0    108ms\n",
      "  4   -2.772083336520       -6.41       -3.11    1.0    121ms\n",
      "  5   -2.772083417758       -7.09       -4.68    2.0    125ms\n",
      "  6   -2.772083417802      -10.36       -4.75    1.0    114ms\n",
      "  7   -2.772083417807      -11.25       -5.42    1.0    117ms\n",
      "  8   -2.772083417811      -11.48       -6.44    2.0    409ms\n",
      "  9   -2.772083417811      -13.80       -6.61    1.0    148ms\n",
      " 10   -2.772083417811      -14.88       -7.67    1.0    117ms\n",
      " 11   -2.772083417811   +  -14.88       -8.14    1.0    121ms\n"
     ]
    },
    {
     "output_type": "execute_result",
     "data": {
      "text/plain": "1.7735580388181054"
     },
     "metadata": {},
     "execution_count": 2
    }
   ],
   "cell_type": "code",
   "source": [
    "polarizability_fd = let\n",
    "    ε = 0.01\n",
    "    (compute_dipole(ε) - compute_dipole(0.0)) / ε\n",
    "end"
   ],
   "metadata": {},
   "execution_count": 2
  },
  {
   "cell_type": "markdown",
   "source": [
    "We do the same thing using automatic differentiation. Under the hood this uses\n",
    "custom rules to implicitly differentiate through the self-consistent\n",
    "field fixed-point problem. This leads to a density-functional perturbation\n",
    "theory problem, which is automatically set up and solved in the background."
   ],
   "metadata": {}
  },
  {
   "outputs": [
    {
     "name": "stdout",
     "output_type": "stream",
     "text": [
      "n     Energy            log10(ΔE)   log10(Δρ)   Diag   Δtime\n",
      "---   ---------------   ---------   ---------   ----   ------\n",
      "  1   -2.770756214246                   -0.52    9.0    181ms\n",
      "  2   -2.772059806606       -2.88       -1.32    1.0    158ms\n",
      "  3   -2.772082981762       -4.63       -2.43    1.0    510ms\n",
      "  4   -2.772083333716       -6.45       -3.12    1.0    118ms\n",
      "  5   -2.772083417446       -7.08       -4.18    2.0    127ms\n",
      "  6   -2.772083417700       -9.60       -4.54    1.0    114ms\n",
      "  7   -2.772083417809       -9.96       -5.87    1.0    116ms\n",
      "  8   -2.772083417811      -11.76       -6.74    2.0    131ms\n",
      "  9   -2.772083417811      -14.27       -6.87    2.0    132ms\n",
      " 10   -2.772083417811   +  -14.65       -7.85    1.0    125ms\n",
      " 11   -2.772083417811      -15.05       -8.37    1.0    123ms\n",
      "Solving response problem\n",
      "[ Info: GMRES linsolve starts with norm of residual = 4.19e+00\n",
      "[ Info: GMRES linsolve in iteration 1; step 1: normres = 2.49e-01\n",
      "[ Info: GMRES linsolve in iteration 1; step 2: normres = 3.76e-03\n",
      "[ Info: GMRES linsolve in iteration 1; step 3: normres = 2.84e-04\n",
      "[ Info: GMRES linsolve in iteration 1; step 4: normres = 4.67e-06\n",
      "[ Info: GMRES linsolve in iteration 1; step 5: normres = 1.08e-08\n",
      "┌ Info: GMRES linsolve converged at iteration 1, step 6:\n",
      "│ * norm of residual = 1.11e-09\n",
      "└ * number of operations = 8\n",
      "\n",
      "Polarizability via ForwardDiff:       1.7725349791039\n",
      "Polarizability via finite difference: 1.7735580388181054\n"
     ]
    }
   ],
   "cell_type": "code",
   "source": [
    "polarizability = ForwardDiff.derivative(compute_dipole, 0.0)\n",
    "println()\n",
    "println(\"Polarizability via ForwardDiff:       $polarizability\")\n",
    "println(\"Polarizability via finite difference: $polarizability_fd\")"
   ],
   "metadata": {},
   "execution_count": 3
  }
 ],
 "nbformat_minor": 3,
 "metadata": {
  "language_info": {
   "file_extension": ".jl",
   "mimetype": "application/julia",
   "name": "julia",
   "version": "1.11.3"
  },
  "kernelspec": {
   "name": "julia-1.11",
   "display_name": "Julia 1.11.3",
   "language": "julia"
  }
 },
 "nbformat": 4
}
