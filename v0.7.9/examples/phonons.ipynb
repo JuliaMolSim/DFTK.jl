{
 "cells": [
  {
   "cell_type": "markdown",
   "source": [
    "# Phonon computations\n",
    "\n",
    "This is a quick sketch how to run a simple phonon calculation using DFTK.\n",
    "First we run an SCF calculation."
   ],
   "metadata": {}
  },
  {
   "outputs": [
    {
     "name": "stdout",
     "output_type": "stream",
     "text": [
      "n     Energy            log10(ΔE)   log10(Δρ)   Diag   Δtime\n",
      "---   ---------------   ---------   ---------   ----   ------\n",
      "  1   -7.916463884053                   -0.69    4.8    108ms\n",
      "  2   -7.921212028085       -2.32       -1.52    1.0   53.4ms\n",
      "  3   -7.921404703863       -3.72       -2.49    1.2   55.1ms\n",
      "  4   -7.921440855616       -4.44       -2.82    2.5   99.2ms\n",
      "  5   -7.921441558689       -6.15       -2.96    1.1   55.5ms\n",
      "  6   -7.921442005349       -6.35       -4.47    1.0   53.7ms\n",
      "  7   -7.921442021615       -7.79       -4.50    2.9    102ms\n",
      "  8   -7.921442022120       -9.30       -5.16    1.0   54.1ms\n",
      "  9   -7.921442022143      -10.65       -5.70    1.5   59.7ms\n",
      " 10   -7.921442022144      -12.02       -5.92    1.8   64.2ms\n",
      " 11   -7.921442022144      -12.30       -7.06    1.0   59.9ms\n",
      " 12   -7.921442022144      -13.56       -7.31    2.6   78.1ms\n",
      " 13   -7.921442022144      -15.05       -7.55    1.0   55.0ms\n",
      " 14   -7.921442022144   +    -Inf       -8.18    1.0    106ms\n"
     ]
    }
   ],
   "cell_type": "code",
   "source": [
    "using AtomsBuilder\n",
    "using DFTK\n",
    "using PseudoPotentialData\n",
    "\n",
    "pseudopotentials = PseudoFamily(\"cp2k.nc.sr.lda.v0_1.semicore.gth\")\n",
    "model  = model_DFT(bulk(:Si); pseudopotentials, functionals=LDA())\n",
    "basis  = PlaneWaveBasis(model; Ecut=10, kgrid=[4, 4, 4])\n",
    "scfres = self_consistent_field(basis, tol=1e-8);\n",
    "nothing  # hide"
   ],
   "metadata": {},
   "execution_count": 1
  },
  {
   "cell_type": "markdown",
   "source": [
    "Next we compute the phonon modes at the q-point `[1/4, 1/4, 1/4]`."
   ],
   "metadata": {}
  },
  {
   "outputs": [
    {
     "name": "stdout",
     "output_type": "stream",
     "text": [
      "160.272581 seconds (158.18 M allocations: 104.429 GiB, 8.24% gc time, 25.15% compilation time)\n"
     ]
    }
   ],
   "cell_type": "code",
   "source": [
    "scfres = DFTK.unfold_bz(scfres)\n",
    "phret_q0 = @time DFTK.phonon_modes(scfres; q=[0.25, 0.25, 0.25]);\n",
    "nothing  # hide"
   ],
   "metadata": {},
   "execution_count": 2
  },
  {
   "cell_type": "markdown",
   "source": [
    "These are the final phonon frequencies:"
   ],
   "metadata": {}
  },
  {
   "outputs": [
    {
     "output_type": "execute_result",
     "data": {
      "text/plain": "6-element Vector{Float64}:\n -0.0034981553586004104\n -0.002977451162483891\n -0.0029774511620439844\n  0.004302230638745478\n  0.004302230638779348\n  0.004353201767566929"
     },
     "metadata": {},
     "execution_count": 3
    }
   ],
   "cell_type": "code",
   "source": [
    "phret_q0.frequencies"
   ],
   "metadata": {},
   "execution_count": 3
  }
 ],
 "nbformat_minor": 3,
 "metadata": {
  "language_info": {
   "file_extension": ".jl",
   "mimetype": "application/julia",
   "name": "julia",
   "version": "1.11.3"
  },
  "kernelspec": {
   "name": "julia-1.11",
   "display_name": "Julia 1.11.3",
   "language": "julia"
  }
 },
 "nbformat": 4
}
