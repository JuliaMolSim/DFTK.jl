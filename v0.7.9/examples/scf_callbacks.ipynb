{
 "cells": [
  {
   "cell_type": "markdown",
   "source": [
    "# Monitoring self-consistent field calculations\n",
    "\n",
    "The `self_consistent_field` function takes as the `callback`\n",
    "keyword argument one function to be called after each iteration.\n",
    "This function gets passed the complete internal state of the SCF\n",
    "solver and can thus be used both to monitor and debug the iterations\n",
    "as well as to quickly patch it with additional functionality.\n",
    "\n",
    "This example discusses a few aspects of the `callback` function\n",
    "taking again our favourite silicon example."
   ],
   "metadata": {}
  },
  {
   "cell_type": "markdown",
   "source": [
    "We setup silicon in an LDA model using `AtomsBuilder`\n",
    "to build a bulk silicon lattice,\n",
    "(see AtomsBase integration for more details."
   ],
   "metadata": {}
  },
  {
   "outputs": [],
   "cell_type": "code",
   "source": [
    "using DFTK\n",
    "using AtomsBuilder\n",
    "using PseudoPotentialData\n",
    "\n",
    "pseudopotentials = PseudoFamily(\"dojo.nc.sr.lda.v0_4_1.standard.upf\")\n",
    "model = model_DFT(bulk(:Si); functionals=LDA(), pseudopotentials)\n",
    "basis = PlaneWaveBasis(model; Ecut=5, kgrid=[3, 3, 3]);"
   ],
   "metadata": {},
   "execution_count": 1
  },
  {
   "cell_type": "markdown",
   "source": [
    "DFTK already defines a few callback functions for standard\n",
    "tasks. One example is the usual convergence table,\n",
    "which is defined in the callback `ScfDefaultCallback`.\n",
    "Another example is `ScfSaveCheckpoints`, which stores the state\n",
    "of an SCF at each iterations to allow resuming from a failed\n",
    "calculation at a later point.\n",
    "See Saving SCF results on disk and SCF checkpoints for details\n",
    "how to use checkpointing with DFTK."
   ],
   "metadata": {}
  },
  {
   "cell_type": "markdown",
   "source": [
    "In this example we define a custom callback, which plots\n",
    "the change in density at each SCF iteration after the SCF\n",
    "has finished. This example is a bit artificial, since the norms\n",
    "of all density differences is available as `scfres.history_Δρ`\n",
    "after the SCF has finished and could be directly plotted, but\n",
    "the following nicely illustrates the use of callbacks in DFTK."
   ],
   "metadata": {}
  },
  {
   "cell_type": "markdown",
   "source": [
    "To enable plotting we first define the empty canvas\n",
    "and an empty container for all the density differences:"
   ],
   "metadata": {}
  },
  {
   "outputs": [],
   "cell_type": "code",
   "source": [
    "using Plots\n",
    "p = plot(; yaxis=:log)\n",
    "density_differences = Float64[];"
   ],
   "metadata": {},
   "execution_count": 2
  },
  {
   "cell_type": "markdown",
   "source": [
    "The callback function itself gets passed a named tuple\n",
    "similar to the one returned by `self_consistent_field`,\n",
    "which contains the input and output density of the SCF step\n",
    "as `ρin` and `ρout`. Since the callback gets called\n",
    "both during the SCF iterations as well as after convergence\n",
    "just before `self_consistent_field` finishes we can both\n",
    "collect the data and initiate the plotting in one function."
   ],
   "metadata": {}
  },
  {
   "outputs": [],
   "cell_type": "code",
   "source": [
    "using LinearAlgebra\n",
    "\n",
    "function plot_callback(info)\n",
    "    if info.stage == :finalize\n",
    "        plot!(p, density_differences, label=\"|ρout - ρin|\", markershape=:x)\n",
    "    else\n",
    "        push!(density_differences, norm(info.ρout - info.ρin))\n",
    "    end\n",
    "    info\n",
    "end\n",
    "callback = ScfDefaultCallback() ∘ plot_callback;"
   ],
   "metadata": {},
   "execution_count": 3
  },
  {
   "cell_type": "markdown",
   "source": [
    "Notice that for constructing the `callback` function we chained the `plot_callback`\n",
    "(which does the plotting) with the `ScfDefaultCallback`. The latter is the function\n",
    "responsible for printing the usual convergence table. Therefore if we simply did\n",
    "`callback=plot_callback` the SCF would go silent. The chaining of both callbacks\n",
    "(`plot_callback` for plotting and `ScfDefaultCallback()` for the convergence table)\n",
    "makes sure both features are enabled. We run the SCF with the chained callback …"
   ],
   "metadata": {}
  },
  {
   "outputs": [
    {
     "name": "stdout",
     "output_type": "stream",
     "text": [
      "n     Energy            log10(ΔE)   log10(Δρ)   α      Diag   Δtime\n",
      "---   ---------------   ---------   ---------   ----   ----   ------\n",
      "  1   -8.457128913651                   -0.89   0.80    5.0    104ms\n",
      "  2   -8.460007651869       -2.54       -1.72   0.80    1.0    140ms\n",
      "  3   -8.460188950541       -3.74       -2.91   0.80    1.5   19.1ms\n",
      "  4   -8.460214745911       -4.59       -2.93   0.80    3.5   24.2ms\n",
      "  5   -8.460214918059       -6.76       -3.05   0.80    1.0   40.1ms\n",
      "  6   -8.460215129194       -6.68       -5.05   0.80    1.0   16.3ms\n"
     ]
    }
   ],
   "cell_type": "code",
   "source": [
    "scfres = self_consistent_field(basis; tol=1e-5, callback);"
   ],
   "metadata": {},
   "execution_count": 4
  },
  {
   "cell_type": "markdown",
   "source": [
    "… and show the plot"
   ],
   "metadata": {}
  },
  {
   "outputs": [
    {
     "output_type": "execute_result",
     "data": {
      "text/plain": "Plot{Plots.GRBackend() n=1}",
      "image/png": "[encoded data removed]",
      "text/html": [
       "<?xml version=\"1.0\" encoding=\"utf-8\"?>\n",
       "<svg xmlns=\"http://www.w3.org/2000/svg\" xmlns:xlink=\"http://www.w3.org/1999/xlink\" width=\"600\" height=\"400\" viewBox=\"0 0 2400 1600\">\n",
       "<defs>\n",
       "  <clipPath id=\"clip300\">\n",
       "    <rect x=\"0\" y=\"0\" width=\"2400\" height=\"1600\"/>\n",
       "  </clipPath>\n",
       "</defs>\n",
       "<path clip-path=\"url(#clip300)\" d=\"M0 1600 L2400 1600 L2400 0 L0 0  Z\" fill=\"#ffffff\" fill-rule=\"evenodd\" fill-opacity=\"1\"/>\n",
       "<defs>\n",
       "  <clipPath id=\"clip301\">\n",
       "    <rect x=\"480\" y=\"0\" width=\"1681\" height=\"1600\"/>\n",
       "  </clipPath>\n",
       "</defs>\n",
       "<path clip-path=\"url(#clip300)\" d=\"M189.496 1486.45 L2352.76 1486.45 L2352.76 47.2441 L189.496 47.2441  Z\" fill=\"#ffffff\" fill-rule=\"evenodd\" fill-opacity=\"1\"/>\n",
       "<defs>\n",
       "  <clipPath id=\"clip302\">\n",
       "    <rect x=\"189\" y=\"47\" width=\"2164\" height=\"1440\"/>\n",
       "  </clipPath>\n",
       "</defs>\n",
       "<polyline clip-path=\"url(#clip302)\" style=\"stroke:#000000; stroke-linecap:round; stroke-linejoin:round; stroke-width:2; stroke-opacity:0.1; fill:none\" points=\"250.72,1486.45 250.72,47.2441 \"/>\n",
       "<polyline clip-path=\"url(#clip302)\" style=\"stroke:#000000; stroke-linecap:round; stroke-linejoin:round; stroke-width:2; stroke-opacity:0.1; fill:none\" points=\"658.883,1486.45 658.883,47.2441 \"/>\n",
       "<polyline clip-path=\"url(#clip302)\" style=\"stroke:#000000; stroke-linecap:round; stroke-linejoin:round; stroke-width:2; stroke-opacity:0.1; fill:none\" points=\"1067.04,1486.45 1067.04,47.2441 \"/>\n",
       "<polyline clip-path=\"url(#clip302)\" style=\"stroke:#000000; stroke-linecap:round; stroke-linejoin:round; stroke-width:2; stroke-opacity:0.1; fill:none\" points=\"1475.21,1486.45 1475.21,47.2441 \"/>\n",
       "<polyline clip-path=\"url(#clip302)\" style=\"stroke:#000000; stroke-linecap:round; stroke-linejoin:round; stroke-width:2; stroke-opacity:0.1; fill:none\" points=\"1883.37,1486.45 1883.37,47.2441 \"/>\n",
       "<polyline clip-path=\"url(#clip302)\" style=\"stroke:#000000; stroke-linecap:round; stroke-linejoin:round; stroke-width:2; stroke-opacity:0.1; fill:none\" points=\"2291.53,1486.45 2291.53,47.2441 \"/>\n",
       "<polyline clip-path=\"url(#clip302)\" style=\"stroke:#000000; stroke-linecap:round; stroke-linejoin:round; stroke-width:2; stroke-opacity:0.1; fill:none\" points=\"189.496,1342.91 2352.76,1342.91 \"/>\n",
       "<polyline clip-path=\"url(#clip302)\" style=\"stroke:#000000; stroke-linecap:round; stroke-linejoin:round; stroke-width:2; stroke-opacity:0.1; fill:none\" points=\"189.496,690.555 2352.76,690.555 \"/>\n",
       "<polyline clip-path=\"url(#clip300)\" style=\"stroke:#000000; stroke-linecap:round; stroke-linejoin:round; stroke-width:4; stroke-opacity:1; fill:none\" points=\"189.496,1486.45 2352.76,1486.45 \"/>\n",
       "<polyline clip-path=\"url(#clip300)\" style=\"stroke:#000000; stroke-linecap:round; stroke-linejoin:round; stroke-width:4; stroke-opacity:1; fill:none\" points=\"250.72,1486.45 250.72,1467.55 \"/>\n",
       "<polyline clip-path=\"url(#clip300)\" style=\"stroke:#000000; stroke-linecap:round; stroke-linejoin:round; stroke-width:4; stroke-opacity:1; fill:none\" points=\"658.883,1486.45 658.883,1467.55 \"/>\n",
       "<polyline clip-path=\"url(#clip300)\" style=\"stroke:#000000; stroke-linecap:round; stroke-linejoin:round; stroke-width:4; stroke-opacity:1; fill:none\" points=\"1067.04,1486.45 1067.04,1467.55 \"/>\n",
       "<polyline clip-path=\"url(#clip300)\" style=\"stroke:#000000; stroke-linecap:round; stroke-linejoin:round; stroke-width:4; stroke-opacity:1; fill:none\" points=\"1475.21,1486.45 1475.21,1467.55 \"/>\n",
       "<polyline clip-path=\"url(#clip300)\" style=\"stroke:#000000; stroke-linecap:round; stroke-linejoin:round; stroke-width:4; stroke-opacity:1; fill:none\" points=\"1883.37,1486.45 1883.37,1467.55 \"/>\n",
       "<polyline clip-path=\"url(#clip300)\" style=\"stroke:#000000; stroke-linecap:round; stroke-linejoin:round; stroke-width:4; stroke-opacity:1; fill:none\" points=\"2291.53,1486.45 2291.53,1467.55 \"/>\n",
       "<path clip-path=\"url(#clip300)\" d=\"M241.102 1544.91 L248.741 1544.91 L248.741 1518.55 L240.431 1520.21 L240.431 1515.95 L248.695 1514.29 L253.371 1514.29 L253.371 1544.91 L261.01 1544.91 L261.01 1548.85 L241.102 1548.85 L241.102 1544.91 Z\" fill=\"#000000\" fill-rule=\"nonzero\" fill-opacity=\"1\" /><path clip-path=\"url(#clip300)\" d=\"M653.535 1544.91 L669.855 1544.91 L669.855 1548.85 L647.91 1548.85 L647.91 1544.91 Q650.572 1542.16 655.156 1537.53 Q659.762 1532.88 660.943 1531.53 Q663.188 1529.01 664.068 1527.27 Q664.97 1525.51 664.97 1523.82 Q664.97 1521.07 663.026 1519.33 Q661.105 1517.6 658.003 1517.6 Q655.804 1517.6 653.35 1518.36 Q650.92 1519.13 648.142 1520.68 L648.142 1515.95 Q650.966 1514.82 653.42 1514.24 Q655.873 1513.66 657.91 1513.66 Q663.281 1513.66 666.475 1516.35 Q669.669 1519.03 669.669 1523.52 Q669.669 1525.65 668.859 1527.57 Q668.072 1529.47 665.966 1532.07 Q665.387 1532.74 662.285 1535.95 Q659.183 1539.15 653.535 1544.91 Z\" fill=\"#000000\" fill-rule=\"nonzero\" fill-opacity=\"1\" /><path clip-path=\"url(#clip300)\" d=\"M1071.29 1530.21 Q1074.65 1530.93 1076.52 1533.2 Q1078.42 1535.47 1078.42 1538.8 Q1078.42 1543.92 1074.9 1546.72 Q1071.39 1549.52 1064.9 1549.52 Q1062.73 1549.52 1060.41 1549.08 Q1058.12 1548.66 1055.67 1547.81 L1055.67 1543.29 Q1057.61 1544.43 1059.93 1545.01 Q1062.24 1545.58 1064.76 1545.58 Q1069.16 1545.58 1071.45 1543.85 Q1073.77 1542.11 1073.77 1538.8 Q1073.77 1535.75 1071.62 1534.03 Q1069.49 1532.3 1065.67 1532.3 L1061.64 1532.3 L1061.64 1528.45 L1065.85 1528.45 Q1069.3 1528.45 1071.13 1527.09 Q1072.96 1525.7 1072.96 1523.11 Q1072.96 1520.45 1071.06 1519.03 Q1069.19 1517.6 1065.67 1517.6 Q1063.75 1517.6 1061.55 1518.01 Q1059.35 1518.43 1056.71 1519.31 L1056.71 1515.14 Q1059.37 1514.4 1061.69 1514.03 Q1064.02 1513.66 1066.08 1513.66 Q1071.41 1513.66 1074.51 1516.09 Q1077.61 1518.5 1077.61 1522.62 Q1077.61 1525.49 1075.97 1527.48 Q1074.32 1529.45 1071.29 1530.21 Z\" fill=\"#000000\" fill-rule=\"nonzero\" fill-opacity=\"1\" /><path clip-path=\"url(#clip300)\" d=\"M1478.22 1518.36 L1466.41 1536.81 L1478.22 1536.81 L1478.22 1518.36 M1476.99 1514.29 L1482.87 1514.29 L1482.87 1536.81 L1487.8 1536.81 L1487.8 1540.7 L1482.87 1540.7 L1482.87 1548.85 L1478.22 1548.85 L1478.22 1540.7 L1462.61 1540.7 L1462.61 1536.19 L1476.99 1514.29 Z\" fill=\"#000000\" fill-rule=\"nonzero\" fill-opacity=\"1\" /><path clip-path=\"url(#clip300)\" d=\"M1873.65 1514.29 L1892 1514.29 L1892 1518.22 L1877.93 1518.22 L1877.93 1526.7 Q1878.95 1526.35 1879.97 1526.19 Q1880.99 1526 1882 1526 Q1887.79 1526 1891.17 1529.17 Q1894.55 1532.34 1894.55 1537.76 Q1894.55 1543.34 1891.08 1546.44 Q1887.61 1549.52 1881.29 1549.52 Q1879.11 1549.52 1876.84 1549.15 Q1874.6 1548.78 1872.19 1548.04 L1872.19 1543.34 Q1874.27 1544.47 1876.49 1545.03 Q1878.72 1545.58 1881.19 1545.58 Q1885.2 1545.58 1887.54 1543.48 Q1889.87 1541.37 1889.87 1537.76 Q1889.87 1534.15 1887.54 1532.04 Q1885.2 1529.94 1881.19 1529.94 Q1879.32 1529.94 1877.44 1530.35 Q1875.59 1530.77 1873.65 1531.65 L1873.65 1514.29 Z\" fill=\"#000000\" fill-rule=\"nonzero\" fill-opacity=\"1\" /><path clip-path=\"url(#clip300)\" d=\"M2291.94 1529.7 Q2288.79 1529.7 2286.94 1531.86 Q2285.11 1534.01 2285.11 1537.76 Q2285.11 1541.49 2286.94 1543.66 Q2288.79 1545.82 2291.94 1545.82 Q2295.08 1545.82 2296.91 1543.66 Q2298.77 1541.49 2298.77 1537.76 Q2298.77 1534.01 2296.91 1531.86 Q2295.08 1529.7 2291.94 1529.7 M2301.22 1515.05 L2301.22 1519.31 Q2299.46 1518.48 2297.65 1518.04 Q2295.87 1517.6 2294.11 1517.6 Q2289.48 1517.6 2287.03 1520.72 Q2284.6 1523.85 2284.25 1530.17 Q2285.62 1528.15 2287.68 1527.09 Q2289.74 1526 2292.21 1526 Q2297.42 1526 2300.43 1529.17 Q2303.46 1532.32 2303.46 1537.76 Q2303.46 1543.08 2300.32 1546.3 Q2297.17 1549.52 2291.94 1549.52 Q2285.94 1549.52 2282.77 1544.94 Q2279.6 1540.33 2279.6 1531.6 Q2279.6 1523.41 2283.49 1518.55 Q2287.38 1513.66 2293.93 1513.66 Q2295.69 1513.66 2297.47 1514.01 Q2299.27 1514.36 2301.22 1515.05 Z\" fill=\"#000000\" fill-rule=\"nonzero\" fill-opacity=\"1\" /><polyline clip-path=\"url(#clip300)\" style=\"stroke:#000000; stroke-linecap:round; stroke-linejoin:round; stroke-width:4; stroke-opacity:1; fill:none\" points=\"189.496,1486.45 189.496,47.2441 \"/>\n",
       "<polyline clip-path=\"url(#clip300)\" style=\"stroke:#000000; stroke-linecap:round; stroke-linejoin:round; stroke-width:4; stroke-opacity:1; fill:none\" points=\"189.496,1342.91 208.394,1342.91 \"/>\n",
       "<polyline clip-path=\"url(#clip300)\" style=\"stroke:#000000; stroke-linecap:round; stroke-linejoin:round; stroke-width:4; stroke-opacity:1; fill:none\" points=\"189.496,690.555 208.394,690.555 \"/>\n",
       "<path clip-path=\"url(#clip300)\" d=\"M51.6634 1362.7 L59.3023 1362.7 L59.3023 1336.34 L50.9921 1338 L50.9921 1333.74 L59.256 1332.08 L63.9319 1332.08 L63.9319 1362.7 L71.5707 1362.7 L71.5707 1366.64 L51.6634 1366.64 L51.6634 1362.7 Z\" fill=\"#000000\" fill-rule=\"nonzero\" fill-opacity=\"1\" /><path clip-path=\"url(#clip300)\" d=\"M91.0151 1335.16 Q87.404 1335.16 85.5753 1338.72 Q83.7697 1342.26 83.7697 1349.39 Q83.7697 1356.5 85.5753 1360.06 Q87.404 1363.61 91.0151 1363.61 Q94.6493 1363.61 96.4548 1360.06 Q98.2835 1356.5 98.2835 1349.39 Q98.2835 1342.26 96.4548 1338.72 Q94.6493 1335.16 91.0151 1335.16 M91.0151 1331.45 Q96.8252 1331.45 99.8808 1336.06 Q102.959 1340.64 102.959 1349.39 Q102.959 1358.12 99.8808 1362.73 Q96.8252 1367.31 91.0151 1367.31 Q85.2049 1367.31 82.1262 1362.73 Q79.0707 1358.12 79.0707 1349.39 Q79.0707 1340.64 82.1262 1336.06 Q85.2049 1331.45 91.0151 1331.45 Z\" fill=\"#000000\" fill-rule=\"nonzero\" fill-opacity=\"1\" /><path clip-path=\"url(#clip300)\" d=\"M102.959 1325.55 L127.071 1325.55 L127.071 1328.75 L102.959 1328.75 L102.959 1325.55 Z\" fill=\"#000000\" fill-rule=\"nonzero\" fill-opacity=\"1\" /><path clip-path=\"url(#clip300)\" d=\"M145.71 1314.46 L136.118 1329.45 L145.71 1329.45 L145.71 1314.46 M144.713 1311.15 L149.49 1311.15 L149.49 1329.45 L153.496 1329.45 L153.496 1332.61 L149.49 1332.61 L149.49 1339.23 L145.71 1339.23 L145.71 1332.61 L133.033 1332.61 L133.033 1328.94 L144.713 1311.15 Z\" fill=\"#000000\" fill-rule=\"nonzero\" fill-opacity=\"1\" /><path clip-path=\"url(#clip300)\" d=\"M53.3561 710.348 L60.995 710.348 L60.995 683.982 L52.6848 685.649 L52.6848 681.389 L60.9487 679.723 L65.6246 679.723 L65.6246 710.348 L73.2634 710.348 L73.2634 714.283 L53.3561 714.283 L53.3561 710.348 Z\" fill=\"#000000\" fill-rule=\"nonzero\" fill-opacity=\"1\" /><path clip-path=\"url(#clip300)\" d=\"M92.7078 682.801 Q89.0967 682.801 87.268 686.366 Q85.4624 689.908 85.4624 697.037 Q85.4624 704.144 87.268 707.709 Q89.0967 711.25 92.7078 711.25 Q96.342 711.25 98.1475 707.709 Q99.9762 704.144 99.9762 697.037 Q99.9762 689.908 98.1475 686.366 Q96.342 682.801 92.7078 682.801 M92.7078 679.098 Q98.5179 679.098 101.573 683.704 Q104.652 688.288 104.652 697.037 Q104.652 705.764 101.573 710.371 Q98.5179 714.954 92.7078 714.954 Q86.8976 714.954 83.8189 710.371 Q80.7634 705.764 80.7634 697.037 Q80.7634 688.288 83.8189 683.704 Q86.8976 679.098 92.7078 679.098 Z\" fill=\"#000000\" fill-rule=\"nonzero\" fill-opacity=\"1\" /><path clip-path=\"url(#clip300)\" d=\"M104.652 673.199 L128.764 673.199 L128.764 676.396 L104.652 676.396 L104.652 673.199 Z\" fill=\"#000000\" fill-rule=\"nonzero\" fill-opacity=\"1\" /><path clip-path=\"url(#clip300)\" d=\"M140.236 683.675 L153.496 683.675 L153.496 686.872 L135.666 686.872 L135.666 683.675 Q137.829 681.437 141.553 677.675 Q145.296 673.895 146.255 672.804 Q148.079 670.754 148.794 669.344 Q149.527 667.914 149.527 666.541 Q149.527 664.303 147.948 662.892 Q146.387 661.482 143.866 661.482 Q142.08 661.482 140.086 662.103 Q138.111 662.723 135.854 663.983 L135.854 660.147 Q138.149 659.225 140.142 658.755 Q142.136 658.285 143.791 658.285 Q148.155 658.285 150.75 660.466 Q153.345 662.648 153.345 666.297 Q153.345 668.027 152.687 669.588 Q152.048 671.13 150.336 673.237 Q149.866 673.782 147.346 676.396 Q144.826 678.992 140.236 683.675 Z\" fill=\"#000000\" fill-rule=\"nonzero\" fill-opacity=\"1\" /><polyline clip-path=\"url(#clip302)\" style=\"stroke:#009af9; stroke-linecap:round; stroke-linejoin:round; stroke-width:4; stroke-opacity:1; fill:none\" points=\"250.72,87.9763 658.883,359.71 1067.04,748.949 1475.21,753.688 1883.37,793.768 2291.53,1445.72 \"/>\n",
       "<line clip-path=\"url(#clip302)\" x1=\"250.72\" y1=\"87.9763\" x2=\"234.72\" y2=\"71.9763\" style=\"stroke:#009af9; stroke-width:4; stroke-opacity:1\"/>\n",
       "<line clip-path=\"url(#clip302)\" x1=\"250.72\" y1=\"87.9763\" x2=\"234.72\" y2=\"103.976\" style=\"stroke:#009af9; stroke-width:4; stroke-opacity:1\"/>\n",
       "<line clip-path=\"url(#clip302)\" x1=\"250.72\" y1=\"87.9763\" x2=\"266.72\" y2=\"103.976\" style=\"stroke:#009af9; stroke-width:4; stroke-opacity:1\"/>\n",
       "<line clip-path=\"url(#clip302)\" x1=\"250.72\" y1=\"87.9763\" x2=\"266.72\" y2=\"71.9763\" style=\"stroke:#009af9; stroke-width:4; stroke-opacity:1\"/>\n",
       "<line clip-path=\"url(#clip302)\" x1=\"658.883\" y1=\"359.71\" x2=\"642.883\" y2=\"343.71\" style=\"stroke:#009af9; stroke-width:4; stroke-opacity:1\"/>\n",
       "<line clip-path=\"url(#clip302)\" x1=\"658.883\" y1=\"359.71\" x2=\"642.883\" y2=\"375.71\" style=\"stroke:#009af9; stroke-width:4; stroke-opacity:1\"/>\n",
       "<line clip-path=\"url(#clip302)\" x1=\"658.883\" y1=\"359.71\" x2=\"674.883\" y2=\"375.71\" style=\"stroke:#009af9; stroke-width:4; stroke-opacity:1\"/>\n",
       "<line clip-path=\"url(#clip302)\" x1=\"658.883\" y1=\"359.71\" x2=\"674.883\" y2=\"343.71\" style=\"stroke:#009af9; stroke-width:4; stroke-opacity:1\"/>\n",
       "<line clip-path=\"url(#clip302)\" x1=\"1067.04\" y1=\"748.949\" x2=\"1051.04\" y2=\"732.949\" style=\"stroke:#009af9; stroke-width:4; stroke-opacity:1\"/>\n",
       "<line clip-path=\"url(#clip302)\" x1=\"1067.04\" y1=\"748.949\" x2=\"1051.04\" y2=\"764.949\" style=\"stroke:#009af9; stroke-width:4; stroke-opacity:1\"/>\n",
       "<line clip-path=\"url(#clip302)\" x1=\"1067.04\" y1=\"748.949\" x2=\"1083.04\" y2=\"764.949\" style=\"stroke:#009af9; stroke-width:4; stroke-opacity:1\"/>\n",
       "<line clip-path=\"url(#clip302)\" x1=\"1067.04\" y1=\"748.949\" x2=\"1083.04\" y2=\"732.949\" style=\"stroke:#009af9; stroke-width:4; stroke-opacity:1\"/>\n",
       "<line clip-path=\"url(#clip302)\" x1=\"1475.21\" y1=\"753.688\" x2=\"1459.21\" y2=\"737.688\" style=\"stroke:#009af9; stroke-width:4; stroke-opacity:1\"/>\n",
       "<line clip-path=\"url(#clip302)\" x1=\"1475.21\" y1=\"753.688\" x2=\"1459.21\" y2=\"769.688\" style=\"stroke:#009af9; stroke-width:4; stroke-opacity:1\"/>\n",
       "<line clip-path=\"url(#clip302)\" x1=\"1475.21\" y1=\"753.688\" x2=\"1491.21\" y2=\"769.688\" style=\"stroke:#009af9; stroke-width:4; stroke-opacity:1\"/>\n",
       "<line clip-path=\"url(#clip302)\" x1=\"1475.21\" y1=\"753.688\" x2=\"1491.21\" y2=\"737.688\" style=\"stroke:#009af9; stroke-width:4; stroke-opacity:1\"/>\n",
       "<line clip-path=\"url(#clip302)\" x1=\"1883.37\" y1=\"793.768\" x2=\"1867.37\" y2=\"777.768\" style=\"stroke:#009af9; stroke-width:4; stroke-opacity:1\"/>\n",
       "<line clip-path=\"url(#clip302)\" x1=\"1883.37\" y1=\"793.768\" x2=\"1867.37\" y2=\"809.768\" style=\"stroke:#009af9; stroke-width:4; stroke-opacity:1\"/>\n",
       "<line clip-path=\"url(#clip302)\" x1=\"1883.37\" y1=\"793.768\" x2=\"1899.37\" y2=\"809.768\" style=\"stroke:#009af9; stroke-width:4; stroke-opacity:1\"/>\n",
       "<line clip-path=\"url(#clip302)\" x1=\"1883.37\" y1=\"793.768\" x2=\"1899.37\" y2=\"777.768\" style=\"stroke:#009af9; stroke-width:4; stroke-opacity:1\"/>\n",
       "<line clip-path=\"url(#clip302)\" x1=\"2291.53\" y1=\"1445.72\" x2=\"2275.53\" y2=\"1429.72\" style=\"stroke:#009af9; stroke-width:4; stroke-opacity:1\"/>\n",
       "<line clip-path=\"url(#clip302)\" x1=\"2291.53\" y1=\"1445.72\" x2=\"2275.53\" y2=\"1461.72\" style=\"stroke:#009af9; stroke-width:4; stroke-opacity:1\"/>\n",
       "<line clip-path=\"url(#clip302)\" x1=\"2291.53\" y1=\"1445.72\" x2=\"2307.53\" y2=\"1461.72\" style=\"stroke:#009af9; stroke-width:4; stroke-opacity:1\"/>\n",
       "<line clip-path=\"url(#clip302)\" x1=\"2291.53\" y1=\"1445.72\" x2=\"2307.53\" y2=\"1429.72\" style=\"stroke:#009af9; stroke-width:4; stroke-opacity:1\"/>\n",
       "<path clip-path=\"url(#clip300)\" d=\"M1816.13 198.898 L2280.65 198.898 L2280.65 95.2176 L1816.13 95.2176  Z\" fill=\"#ffffff\" fill-rule=\"evenodd\" fill-opacity=\"1\"/>\n",
       "<polyline clip-path=\"url(#clip300)\" style=\"stroke:#000000; stroke-linecap:round; stroke-linejoin:round; stroke-width:4; stroke-opacity:1; fill:none\" points=\"1816.13,198.898 2280.65,198.898 2280.65,95.2176 1816.13,95.2176 1816.13,198.898 \"/>\n",
       "<polyline clip-path=\"url(#clip300)\" style=\"stroke:#009af9; stroke-linecap:round; stroke-linejoin:round; stroke-width:4; stroke-opacity:1; fill:none\" points=\"1840.16,147.058 1984.38,147.058 \"/>\n",
       "<line clip-path=\"url(#clip300)\" x1=\"1912.27\" y1=\"147.058\" x2=\"1890.02\" y2=\"124.802\" style=\"stroke:#009af9; stroke-width:4.55111; stroke-opacity:1\"/>\n",
       "<line clip-path=\"url(#clip300)\" x1=\"1912.27\" y1=\"147.058\" x2=\"1890.02\" y2=\"169.313\" style=\"stroke:#009af9; stroke-width:4.55111; stroke-opacity:1\"/>\n",
       "<line clip-path=\"url(#clip300)\" x1=\"1912.27\" y1=\"147.058\" x2=\"1934.53\" y2=\"169.313\" style=\"stroke:#009af9; stroke-width:4.55111; stroke-opacity:1\"/>\n",
       "<line clip-path=\"url(#clip300)\" x1=\"1912.27\" y1=\"147.058\" x2=\"1934.53\" y2=\"124.802\" style=\"stroke:#009af9; stroke-width:4.55111; stroke-opacity:1\"/>\n",
       "<path clip-path=\"url(#clip300)\" d=\"M2012.35 128.111 L2012.35 175.518 L2008.42 175.518 L2008.42 128.111 L2012.35 128.111 Z\" fill=\"#000000\" fill-rule=\"nonzero\" fill-opacity=\"1\" /><path clip-path=\"url(#clip300)\" d=\"M2024.76 143.041 Q2026.17 140.68 2029.67 138.597 Q2031.03 137.787 2035.25 137.787 Q2039.97 137.787 2042.91 141.537 Q2045.87 145.287 2045.87 151.398 Q2045.87 157.509 2042.91 161.259 Q2039.97 165.009 2035.25 165.009 Q2032.4 165.009 2030.34 163.898 Q2028.3 162.763 2026.96 160.449 L2026.96 174.199 L2022.68 174.199 L2022.68 151.629 Q2022.68 146.282 2024.76 143.041 M2041.45 151.398 Q2041.45 146.699 2039.51 144.037 Q2037.58 141.352 2034.2 141.352 Q2030.83 141.352 2028.88 144.037 Q2026.96 146.699 2026.96 151.398 Q2026.96 156.097 2028.88 158.782 Q2030.83 161.444 2034.2 161.444 Q2037.58 161.444 2039.51 158.782 Q2041.45 156.097 2041.45 151.398 Z\" fill=\"#000000\" fill-rule=\"nonzero\" fill-opacity=\"1\" /><path clip-path=\"url(#clip300)\" d=\"M2062.98 141.398 Q2059.55 141.398 2057.56 144.083 Q2055.57 146.745 2055.57 151.398 Q2055.57 156.051 2057.54 158.736 Q2059.53 161.398 2062.98 161.398 Q2066.38 161.398 2068.37 158.713 Q2070.36 156.027 2070.36 151.398 Q2070.36 146.791 2068.37 144.106 Q2066.38 141.398 2062.98 141.398 M2062.98 137.787 Q2068.53 137.787 2071.7 141.398 Q2074.88 145.009 2074.88 151.398 Q2074.88 157.764 2071.7 161.398 Q2068.53 165.009 2062.98 165.009 Q2057.4 165.009 2054.23 161.398 Q2051.08 157.764 2051.08 151.398 Q2051.08 145.009 2054.23 141.398 Q2057.4 137.787 2062.98 137.787 Z\" fill=\"#000000\" fill-rule=\"nonzero\" fill-opacity=\"1\" /><path clip-path=\"url(#clip300)\" d=\"M2081.5 154.106 L2081.5 138.412 L2085.76 138.412 L2085.76 153.944 Q2085.76 157.625 2087.19 159.476 Q2088.63 161.305 2091.5 161.305 Q2094.95 161.305 2096.94 159.106 Q2098.95 156.907 2098.95 153.111 L2098.95 138.412 L2103.21 138.412 L2103.21 164.338 L2098.95 164.338 L2098.95 160.356 Q2097.4 162.717 2095.34 163.875 Q2093.3 165.009 2090.59 165.009 Q2086.13 165.009 2083.81 162.231 Q2081.5 159.453 2081.5 154.106 M2092.21 137.787 L2092.21 137.787 Z\" fill=\"#000000\" fill-rule=\"nonzero\" fill-opacity=\"1\" /><path clip-path=\"url(#clip300)\" d=\"M2116.2 131.051 L2116.2 138.412 L2124.97 138.412 L2124.97 141.722 L2116.2 141.722 L2116.2 155.796 Q2116.2 158.967 2117.05 159.87 Q2117.93 160.773 2120.59 160.773 L2124.97 160.773 L2124.97 164.338 L2120.59 164.338 Q2115.66 164.338 2113.79 162.509 Q2111.91 160.657 2111.91 155.796 L2111.91 141.722 L2108.79 141.722 L2108.79 138.412 L2111.91 138.412 L2111.91 131.051 L2116.2 131.051 Z\" fill=\"#000000\" fill-rule=\"nonzero\" fill-opacity=\"1\" /><path clip-path=\"url(#clip300)\" d=\"M2143.49 149.453 L2155.96 149.453 L2155.96 153.25 L2143.49 153.25 L2143.49 149.453 Z\" fill=\"#000000\" fill-rule=\"nonzero\" fill-opacity=\"1\" /><path clip-path=\"url(#clip300)\" d=\"M2179.74 143.041 Q2181.15 140.68 2184.64 138.597 Q2186.01 137.787 2190.22 137.787 Q2194.94 137.787 2197.88 141.537 Q2200.85 145.287 2200.85 151.398 Q2200.85 157.509 2197.88 161.259 Q2194.94 165.009 2190.22 165.009 Q2187.38 165.009 2185.32 163.898 Q2183.28 162.763 2181.94 160.449 L2181.94 174.199 L2177.65 174.199 L2177.65 151.629 Q2177.65 146.282 2179.74 143.041 M2196.43 151.398 Q2196.43 146.699 2194.48 144.037 Q2192.56 141.352 2189.18 141.352 Q2185.8 141.352 2183.86 144.037 Q2181.94 146.699 2181.94 151.398 Q2181.94 156.097 2183.86 158.782 Q2185.8 161.444 2189.18 161.444 Q2192.56 161.444 2194.48 158.782 Q2196.43 156.097 2196.43 151.398 Z\" fill=\"#000000\" fill-rule=\"nonzero\" fill-opacity=\"1\" /><path clip-path=\"url(#clip300)\" d=\"M2207.91 138.412 L2212.17 138.412 L2212.17 164.338 L2207.91 164.338 L2207.91 138.412 M2207.91 128.319 L2212.17 128.319 L2212.17 133.713 L2207.91 133.713 L2207.91 128.319 Z\" fill=\"#000000\" fill-rule=\"nonzero\" fill-opacity=\"1\" /><path clip-path=\"url(#clip300)\" d=\"M2242.63 148.689 L2242.63 164.338 L2238.37 164.338 L2238.37 148.828 Q2238.37 145.148 2236.94 143.319 Q2235.5 141.49 2232.63 141.49 Q2229.18 141.49 2227.19 143.69 Q2225.2 145.889 2225.2 149.685 L2225.2 164.338 L2220.92 164.338 L2220.92 138.412 L2225.2 138.412 L2225.2 142.44 Q2226.73 140.102 2228.79 138.944 Q2230.87 137.787 2233.58 137.787 Q2238.05 137.787 2240.34 140.565 Q2242.63 143.319 2242.63 148.689 Z\" fill=\"#000000\" fill-rule=\"nonzero\" fill-opacity=\"1\" /><path clip-path=\"url(#clip300)\" d=\"M2256.61 128.111 L2256.61 175.518 L2252.68 175.518 L2252.68 128.111 L2256.61 128.111 Z\" fill=\"#000000\" fill-rule=\"nonzero\" fill-opacity=\"1\" /></svg>\n"
      ],
      "image/svg+xml": [
       "<?xml version=\"1.0\" encoding=\"utf-8\"?>\n",
       "<svg xmlns=\"http://www.w3.org/2000/svg\" xmlns:xlink=\"http://www.w3.org/1999/xlink\" width=\"600\" height=\"400\" viewBox=\"0 0 2400 1600\">\n",
       "<defs>\n",
       "  <clipPath id=\"clip270\">\n",
       "    <rect x=\"0\" y=\"0\" width=\"2400\" height=\"1600\"/>\n",
       "  </clipPath>\n",
       "</defs>\n",
       "<path clip-path=\"url(#clip270)\" d=\"M0 1600 L2400 1600 L2400 0 L0 0  Z\" fill=\"#ffffff\" fill-rule=\"evenodd\" fill-opacity=\"1\"/>\n",
       "<defs>\n",
       "  <clipPath id=\"clip271\">\n",
       "    <rect x=\"480\" y=\"0\" width=\"1681\" height=\"1600\"/>\n",
       "  </clipPath>\n",
       "</defs>\n",
       "<path clip-path=\"url(#clip270)\" d=\"M189.496 1486.45 L2352.76 1486.45 L2352.76 47.2441 L189.496 47.2441  Z\" fill=\"#ffffff\" fill-rule=\"evenodd\" fill-opacity=\"1\"/>\n",
       "<defs>\n",
       "  <clipPath id=\"clip272\">\n",
       "    <rect x=\"189\" y=\"47\" width=\"2164\" height=\"1440\"/>\n",
       "  </clipPath>\n",
       "</defs>\n",
       "<polyline clip-path=\"url(#clip272)\" style=\"stroke:#000000; stroke-linecap:round; stroke-linejoin:round; stroke-width:2; stroke-opacity:0.1; fill:none\" points=\"250.72,1486.45 250.72,47.2441 \"/>\n",
       "<polyline clip-path=\"url(#clip272)\" style=\"stroke:#000000; stroke-linecap:round; stroke-linejoin:round; stroke-width:2; stroke-opacity:0.1; fill:none\" points=\"658.883,1486.45 658.883,47.2441 \"/>\n",
       "<polyline clip-path=\"url(#clip272)\" style=\"stroke:#000000; stroke-linecap:round; stroke-linejoin:round; stroke-width:2; stroke-opacity:0.1; fill:none\" points=\"1067.04,1486.45 1067.04,47.2441 \"/>\n",
       "<polyline clip-path=\"url(#clip272)\" style=\"stroke:#000000; stroke-linecap:round; stroke-linejoin:round; stroke-width:2; stroke-opacity:0.1; fill:none\" points=\"1475.21,1486.45 1475.21,47.2441 \"/>\n",
       "<polyline clip-path=\"url(#clip272)\" style=\"stroke:#000000; stroke-linecap:round; stroke-linejoin:round; stroke-width:2; stroke-opacity:0.1; fill:none\" points=\"1883.37,1486.45 1883.37,47.2441 \"/>\n",
       "<polyline clip-path=\"url(#clip272)\" style=\"stroke:#000000; stroke-linecap:round; stroke-linejoin:round; stroke-width:2; stroke-opacity:0.1; fill:none\" points=\"2291.53,1486.45 2291.53,47.2441 \"/>\n",
       "<polyline clip-path=\"url(#clip272)\" style=\"stroke:#000000; stroke-linecap:round; stroke-linejoin:round; stroke-width:2; stroke-opacity:0.1; fill:none\" points=\"189.496,1342.91 2352.76,1342.91 \"/>\n",
       "<polyline clip-path=\"url(#clip272)\" style=\"stroke:#000000; stroke-linecap:round; stroke-linejoin:round; stroke-width:2; stroke-opacity:0.1; fill:none\" points=\"189.496,690.555 2352.76,690.555 \"/>\n",
       "<polyline clip-path=\"url(#clip270)\" style=\"stroke:#000000; stroke-linecap:round; stroke-linejoin:round; stroke-width:4; stroke-opacity:1; fill:none\" points=\"189.496,1486.45 2352.76,1486.45 \"/>\n",
       "<polyline clip-path=\"url(#clip270)\" style=\"stroke:#000000; stroke-linecap:round; stroke-linejoin:round; stroke-width:4; stroke-opacity:1; fill:none\" points=\"250.72,1486.45 250.72,1467.55 \"/>\n",
       "<polyline clip-path=\"url(#clip270)\" style=\"stroke:#000000; stroke-linecap:round; stroke-linejoin:round; stroke-width:4; stroke-opacity:1; fill:none\" points=\"658.883,1486.45 658.883,1467.55 \"/>\n",
       "<polyline clip-path=\"url(#clip270)\" style=\"stroke:#000000; stroke-linecap:round; stroke-linejoin:round; stroke-width:4; stroke-opacity:1; fill:none\" points=\"1067.04,1486.45 1067.04,1467.55 \"/>\n",
       "<polyline clip-path=\"url(#clip270)\" style=\"stroke:#000000; stroke-linecap:round; stroke-linejoin:round; stroke-width:4; stroke-opacity:1; fill:none\" points=\"1475.21,1486.45 1475.21,1467.55 \"/>\n",
       "<polyline clip-path=\"url(#clip270)\" style=\"stroke:#000000; stroke-linecap:round; stroke-linejoin:round; stroke-width:4; stroke-opacity:1; fill:none\" points=\"1883.37,1486.45 1883.37,1467.55 \"/>\n",
       "<polyline clip-path=\"url(#clip270)\" style=\"stroke:#000000; stroke-linecap:round; stroke-linejoin:round; stroke-width:4; stroke-opacity:1; fill:none\" points=\"2291.53,1486.45 2291.53,1467.55 \"/>\n",
       "<path clip-path=\"url(#clip270)\" d=\"M241.102 1544.91 L248.741 1544.91 L248.741 1518.55 L240.431 1520.21 L240.431 1515.95 L248.695 1514.29 L253.371 1514.29 L253.371 1544.91 L261.01 1544.91 L261.01 1548.85 L241.102 1548.85 L241.102 1544.91 Z\" fill=\"#000000\" fill-rule=\"nonzero\" fill-opacity=\"1\" /><path clip-path=\"url(#clip270)\" d=\"M653.535 1544.91 L669.855 1544.91 L669.855 1548.85 L647.91 1548.85 L647.91 1544.91 Q650.572 1542.16 655.156 1537.53 Q659.762 1532.88 660.943 1531.53 Q663.188 1529.01 664.068 1527.27 Q664.97 1525.51 664.97 1523.82 Q664.97 1521.07 663.026 1519.33 Q661.105 1517.6 658.003 1517.6 Q655.804 1517.6 653.35 1518.36 Q650.92 1519.13 648.142 1520.68 L648.142 1515.95 Q650.966 1514.82 653.42 1514.24 Q655.873 1513.66 657.91 1513.66 Q663.281 1513.66 666.475 1516.35 Q669.669 1519.03 669.669 1523.52 Q669.669 1525.65 668.859 1527.57 Q668.072 1529.47 665.966 1532.07 Q665.387 1532.74 662.285 1535.95 Q659.183 1539.15 653.535 1544.91 Z\" fill=\"#000000\" fill-rule=\"nonzero\" fill-opacity=\"1\" /><path clip-path=\"url(#clip270)\" d=\"M1071.29 1530.21 Q1074.65 1530.93 1076.52 1533.2 Q1078.42 1535.47 1078.42 1538.8 Q1078.42 1543.92 1074.9 1546.72 Q1071.39 1549.52 1064.9 1549.52 Q1062.73 1549.52 1060.41 1549.08 Q1058.12 1548.66 1055.67 1547.81 L1055.67 1543.29 Q1057.61 1544.43 1059.93 1545.01 Q1062.24 1545.58 1064.76 1545.58 Q1069.16 1545.58 1071.45 1543.85 Q1073.77 1542.11 1073.77 1538.8 Q1073.77 1535.75 1071.62 1534.03 Q1069.49 1532.3 1065.67 1532.3 L1061.64 1532.3 L1061.64 1528.45 L1065.85 1528.45 Q1069.3 1528.45 1071.13 1527.09 Q1072.96 1525.7 1072.96 1523.11 Q1072.96 1520.45 1071.06 1519.03 Q1069.19 1517.6 1065.67 1517.6 Q1063.75 1517.6 1061.55 1518.01 Q1059.35 1518.43 1056.71 1519.31 L1056.71 1515.14 Q1059.37 1514.4 1061.69 1514.03 Q1064.02 1513.66 1066.08 1513.66 Q1071.41 1513.66 1074.51 1516.09 Q1077.61 1518.5 1077.61 1522.62 Q1077.61 1525.49 1075.97 1527.48 Q1074.32 1529.45 1071.29 1530.21 Z\" fill=\"#000000\" fill-rule=\"nonzero\" fill-opacity=\"1\" /><path clip-path=\"url(#clip270)\" d=\"M1478.22 1518.36 L1466.41 1536.81 L1478.22 1536.81 L1478.22 1518.36 M1476.99 1514.29 L1482.87 1514.29 L1482.87 1536.81 L1487.8 1536.81 L1487.8 1540.7 L1482.87 1540.7 L1482.87 1548.85 L1478.22 1548.85 L1478.22 1540.7 L1462.61 1540.7 L1462.61 1536.19 L1476.99 1514.29 Z\" fill=\"#000000\" fill-rule=\"nonzero\" fill-opacity=\"1\" /><path clip-path=\"url(#clip270)\" d=\"M1873.65 1514.29 L1892 1514.29 L1892 1518.22 L1877.93 1518.22 L1877.93 1526.7 Q1878.95 1526.35 1879.97 1526.19 Q1880.99 1526 1882 1526 Q1887.79 1526 1891.17 1529.17 Q1894.55 1532.34 1894.55 1537.76 Q1894.55 1543.34 1891.08 1546.44 Q1887.61 1549.52 1881.29 1549.52 Q1879.11 1549.52 1876.84 1549.15 Q1874.6 1548.78 1872.19 1548.04 L1872.19 1543.34 Q1874.27 1544.47 1876.49 1545.03 Q1878.72 1545.58 1881.19 1545.58 Q1885.2 1545.58 1887.54 1543.48 Q1889.87 1541.37 1889.87 1537.76 Q1889.87 1534.15 1887.54 1532.04 Q1885.2 1529.94 1881.19 1529.94 Q1879.32 1529.94 1877.44 1530.35 Q1875.59 1530.77 1873.65 1531.65 L1873.65 1514.29 Z\" fill=\"#000000\" fill-rule=\"nonzero\" fill-opacity=\"1\" /><path clip-path=\"url(#clip270)\" d=\"M2291.94 1529.7 Q2288.79 1529.7 2286.94 1531.86 Q2285.11 1534.01 2285.11 1537.76 Q2285.11 1541.49 2286.94 1543.66 Q2288.79 1545.82 2291.94 1545.82 Q2295.08 1545.82 2296.91 1543.66 Q2298.77 1541.49 2298.77 1537.76 Q2298.77 1534.01 2296.91 1531.86 Q2295.08 1529.7 2291.94 1529.7 M2301.22 1515.05 L2301.22 1519.31 Q2299.46 1518.48 2297.65 1518.04 Q2295.87 1517.6 2294.11 1517.6 Q2289.48 1517.6 2287.03 1520.72 Q2284.6 1523.85 2284.25 1530.17 Q2285.62 1528.15 2287.68 1527.09 Q2289.74 1526 2292.21 1526 Q2297.42 1526 2300.43 1529.17 Q2303.46 1532.32 2303.46 1537.76 Q2303.46 1543.08 2300.32 1546.3 Q2297.17 1549.52 2291.94 1549.52 Q2285.94 1549.52 2282.77 1544.94 Q2279.6 1540.33 2279.6 1531.6 Q2279.6 1523.41 2283.49 1518.55 Q2287.38 1513.66 2293.93 1513.66 Q2295.69 1513.66 2297.47 1514.01 Q2299.27 1514.36 2301.22 1515.05 Z\" fill=\"#000000\" fill-rule=\"nonzero\" fill-opacity=\"1\" /><polyline clip-path=\"url(#clip270)\" style=\"stroke:#000000; stroke-linecap:round; stroke-linejoin:round; stroke-width:4; stroke-opacity:1; fill:none\" points=\"189.496,1486.45 189.496,47.2441 \"/>\n",
       "<polyline clip-path=\"url(#clip270)\" style=\"stroke:#000000; stroke-linecap:round; stroke-linejoin:round; stroke-width:4; stroke-opacity:1; fill:none\" points=\"189.496,1342.91 208.394,1342.91 \"/>\n",
       "<polyline clip-path=\"url(#clip270)\" style=\"stroke:#000000; stroke-linecap:round; stroke-linejoin:round; stroke-width:4; stroke-opacity:1; fill:none\" points=\"189.496,690.555 208.394,690.555 \"/>\n",
       "<path clip-path=\"url(#clip270)\" d=\"M51.6634 1362.7 L59.3023 1362.7 L59.3023 1336.34 L50.9921 1338 L50.9921 1333.74 L59.256 1332.08 L63.9319 1332.08 L63.9319 1362.7 L71.5707 1362.7 L71.5707 1366.64 L51.6634 1366.64 L51.6634 1362.7 Z\" fill=\"#000000\" fill-rule=\"nonzero\" fill-opacity=\"1\" /><path clip-path=\"url(#clip270)\" d=\"M91.0151 1335.16 Q87.404 1335.16 85.5753 1338.72 Q83.7697 1342.26 83.7697 1349.39 Q83.7697 1356.5 85.5753 1360.06 Q87.404 1363.61 91.0151 1363.61 Q94.6493 1363.61 96.4548 1360.06 Q98.2835 1356.5 98.2835 1349.39 Q98.2835 1342.26 96.4548 1338.72 Q94.6493 1335.16 91.0151 1335.16 M91.0151 1331.45 Q96.8252 1331.45 99.8808 1336.06 Q102.959 1340.64 102.959 1349.39 Q102.959 1358.12 99.8808 1362.73 Q96.8252 1367.31 91.0151 1367.31 Q85.2049 1367.31 82.1262 1362.73 Q79.0707 1358.12 79.0707 1349.39 Q79.0707 1340.64 82.1262 1336.06 Q85.2049 1331.45 91.0151 1331.45 Z\" fill=\"#000000\" fill-rule=\"nonzero\" fill-opacity=\"1\" /><path clip-path=\"url(#clip270)\" d=\"M102.959 1325.55 L127.071 1325.55 L127.071 1328.75 L102.959 1328.75 L102.959 1325.55 Z\" fill=\"#000000\" fill-rule=\"nonzero\" fill-opacity=\"1\" /><path clip-path=\"url(#clip270)\" d=\"M145.71 1314.46 L136.118 1329.45 L145.71 1329.45 L145.71 1314.46 M144.713 1311.15 L149.49 1311.15 L149.49 1329.45 L153.496 1329.45 L153.496 1332.61 L149.49 1332.61 L149.49 1339.23 L145.71 1339.23 L145.71 1332.61 L133.033 1332.61 L133.033 1328.94 L144.713 1311.15 Z\" fill=\"#000000\" fill-rule=\"nonzero\" fill-opacity=\"1\" /><path clip-path=\"url(#clip270)\" d=\"M53.3561 710.348 L60.995 710.348 L60.995 683.982 L52.6848 685.649 L52.6848 681.389 L60.9487 679.723 L65.6246 679.723 L65.6246 710.348 L73.2634 710.348 L73.2634 714.283 L53.3561 714.283 L53.3561 710.348 Z\" fill=\"#000000\" fill-rule=\"nonzero\" fill-opacity=\"1\" /><path clip-path=\"url(#clip270)\" d=\"M92.7078 682.801 Q89.0967 682.801 87.268 686.366 Q85.4624 689.908 85.4624 697.037 Q85.4624 704.144 87.268 707.709 Q89.0967 711.25 92.7078 711.25 Q96.342 711.25 98.1475 707.709 Q99.9762 704.144 99.9762 697.037 Q99.9762 689.908 98.1475 686.366 Q96.342 682.801 92.7078 682.801 M92.7078 679.098 Q98.5179 679.098 101.573 683.704 Q104.652 688.288 104.652 697.037 Q104.652 705.764 101.573 710.371 Q98.5179 714.954 92.7078 714.954 Q86.8976 714.954 83.8189 710.371 Q80.7634 705.764 80.7634 697.037 Q80.7634 688.288 83.8189 683.704 Q86.8976 679.098 92.7078 679.098 Z\" fill=\"#000000\" fill-rule=\"nonzero\" fill-opacity=\"1\" /><path clip-path=\"url(#clip270)\" d=\"M104.652 673.199 L128.764 673.199 L128.764 676.396 L104.652 676.396 L104.652 673.199 Z\" fill=\"#000000\" fill-rule=\"nonzero\" fill-opacity=\"1\" /><path clip-path=\"url(#clip270)\" d=\"M140.236 683.675 L153.496 683.675 L153.496 686.872 L135.666 686.872 L135.666 683.675 Q137.829 681.437 141.553 677.675 Q145.296 673.895 146.255 672.804 Q148.079 670.754 148.794 669.344 Q149.527 667.914 149.527 666.541 Q149.527 664.303 147.948 662.892 Q146.387 661.482 143.866 661.482 Q142.08 661.482 140.086 662.103 Q138.111 662.723 135.854 663.983 L135.854 660.147 Q138.149 659.225 140.142 658.755 Q142.136 658.285 143.791 658.285 Q148.155 658.285 150.75 660.466 Q153.345 662.648 153.345 666.297 Q153.345 668.027 152.687 669.588 Q152.048 671.13 150.336 673.237 Q149.866 673.782 147.346 676.396 Q144.826 678.992 140.236 683.675 Z\" fill=\"#000000\" fill-rule=\"nonzero\" fill-opacity=\"1\" /><polyline clip-path=\"url(#clip272)\" style=\"stroke:#009af9; stroke-linecap:round; stroke-linejoin:round; stroke-width:4; stroke-opacity:1; fill:none\" points=\"250.72,87.9763 658.883,359.71 1067.04,748.949 1475.21,753.688 1883.37,793.768 2291.53,1445.72 \"/>\n",
       "<line clip-path=\"url(#clip272)\" x1=\"250.72\" y1=\"87.9763\" x2=\"234.72\" y2=\"71.9763\" style=\"stroke:#009af9; stroke-width:4; stroke-opacity:1\"/>\n",
       "<line clip-path=\"url(#clip272)\" x1=\"250.72\" y1=\"87.9763\" x2=\"234.72\" y2=\"103.976\" style=\"stroke:#009af9; stroke-width:4; stroke-opacity:1\"/>\n",
       "<line clip-path=\"url(#clip272)\" x1=\"250.72\" y1=\"87.9763\" x2=\"266.72\" y2=\"103.976\" style=\"stroke:#009af9; stroke-width:4; stroke-opacity:1\"/>\n",
       "<line clip-path=\"url(#clip272)\" x1=\"250.72\" y1=\"87.9763\" x2=\"266.72\" y2=\"71.9763\" style=\"stroke:#009af9; stroke-width:4; stroke-opacity:1\"/>\n",
       "<line clip-path=\"url(#clip272)\" x1=\"658.883\" y1=\"359.71\" x2=\"642.883\" y2=\"343.71\" style=\"stroke:#009af9; stroke-width:4; stroke-opacity:1\"/>\n",
       "<line clip-path=\"url(#clip272)\" x1=\"658.883\" y1=\"359.71\" x2=\"642.883\" y2=\"375.71\" style=\"stroke:#009af9; stroke-width:4; stroke-opacity:1\"/>\n",
       "<line clip-path=\"url(#clip272)\" x1=\"658.883\" y1=\"359.71\" x2=\"674.883\" y2=\"375.71\" style=\"stroke:#009af9; stroke-width:4; stroke-opacity:1\"/>\n",
       "<line clip-path=\"url(#clip272)\" x1=\"658.883\" y1=\"359.71\" x2=\"674.883\" y2=\"343.71\" style=\"stroke:#009af9; stroke-width:4; stroke-opacity:1\"/>\n",
       "<line clip-path=\"url(#clip272)\" x1=\"1067.04\" y1=\"748.949\" x2=\"1051.04\" y2=\"732.949\" style=\"stroke:#009af9; stroke-width:4; stroke-opacity:1\"/>\n",
       "<line clip-path=\"url(#clip272)\" x1=\"1067.04\" y1=\"748.949\" x2=\"1051.04\" y2=\"764.949\" style=\"stroke:#009af9; stroke-width:4; stroke-opacity:1\"/>\n",
       "<line clip-path=\"url(#clip272)\" x1=\"1067.04\" y1=\"748.949\" x2=\"1083.04\" y2=\"764.949\" style=\"stroke:#009af9; stroke-width:4; stroke-opacity:1\"/>\n",
       "<line clip-path=\"url(#clip272)\" x1=\"1067.04\" y1=\"748.949\" x2=\"1083.04\" y2=\"732.949\" style=\"stroke:#009af9; stroke-width:4; stroke-opacity:1\"/>\n",
       "<line clip-path=\"url(#clip272)\" x1=\"1475.21\" y1=\"753.688\" x2=\"1459.21\" y2=\"737.688\" style=\"stroke:#009af9; stroke-width:4; stroke-opacity:1\"/>\n",
       "<line clip-path=\"url(#clip272)\" x1=\"1475.21\" y1=\"753.688\" x2=\"1459.21\" y2=\"769.688\" style=\"stroke:#009af9; stroke-width:4; stroke-opacity:1\"/>\n",
       "<line clip-path=\"url(#clip272)\" x1=\"1475.21\" y1=\"753.688\" x2=\"1491.21\" y2=\"769.688\" style=\"stroke:#009af9; stroke-width:4; stroke-opacity:1\"/>\n",
       "<line clip-path=\"url(#clip272)\" x1=\"1475.21\" y1=\"753.688\" x2=\"1491.21\" y2=\"737.688\" style=\"stroke:#009af9; stroke-width:4; stroke-opacity:1\"/>\n",
       "<line clip-path=\"url(#clip272)\" x1=\"1883.37\" y1=\"793.768\" x2=\"1867.37\" y2=\"777.768\" style=\"stroke:#009af9; stroke-width:4; stroke-opacity:1\"/>\n",
       "<line clip-path=\"url(#clip272)\" x1=\"1883.37\" y1=\"793.768\" x2=\"1867.37\" y2=\"809.768\" style=\"stroke:#009af9; stroke-width:4; stroke-opacity:1\"/>\n",
       "<line clip-path=\"url(#clip272)\" x1=\"1883.37\" y1=\"793.768\" x2=\"1899.37\" y2=\"809.768\" style=\"stroke:#009af9; stroke-width:4; stroke-opacity:1\"/>\n",
       "<line clip-path=\"url(#clip272)\" x1=\"1883.37\" y1=\"793.768\" x2=\"1899.37\" y2=\"777.768\" style=\"stroke:#009af9; stroke-width:4; stroke-opacity:1\"/>\n",
       "<line clip-path=\"url(#clip272)\" x1=\"2291.53\" y1=\"1445.72\" x2=\"2275.53\" y2=\"1429.72\" style=\"stroke:#009af9; stroke-width:4; stroke-opacity:1\"/>\n",
       "<line clip-path=\"url(#clip272)\" x1=\"2291.53\" y1=\"1445.72\" x2=\"2275.53\" y2=\"1461.72\" style=\"stroke:#009af9; stroke-width:4; stroke-opacity:1\"/>\n",
       "<line clip-path=\"url(#clip272)\" x1=\"2291.53\" y1=\"1445.72\" x2=\"2307.53\" y2=\"1461.72\" style=\"stroke:#009af9; stroke-width:4; stroke-opacity:1\"/>\n",
       "<line clip-path=\"url(#clip272)\" x1=\"2291.53\" y1=\"1445.72\" x2=\"2307.53\" y2=\"1429.72\" style=\"stroke:#009af9; stroke-width:4; stroke-opacity:1\"/>\n",
       "<path clip-path=\"url(#clip270)\" d=\"M1816.13 198.898 L2280.65 198.898 L2280.65 95.2176 L1816.13 95.2176  Z\" fill=\"#ffffff\" fill-rule=\"evenodd\" fill-opacity=\"1\"/>\n",
       "<polyline clip-path=\"url(#clip270)\" style=\"stroke:#000000; stroke-linecap:round; stroke-linejoin:round; stroke-width:4; stroke-opacity:1; fill:none\" points=\"1816.13,198.898 2280.65,198.898 2280.65,95.2176 1816.13,95.2176 1816.13,198.898 \"/>\n",
       "<polyline clip-path=\"url(#clip270)\" style=\"stroke:#009af9; stroke-linecap:round; stroke-linejoin:round; stroke-width:4; stroke-opacity:1; fill:none\" points=\"1840.16,147.058 1984.38,147.058 \"/>\n",
       "<line clip-path=\"url(#clip270)\" x1=\"1912.27\" y1=\"147.058\" x2=\"1890.02\" y2=\"124.802\" style=\"stroke:#009af9; stroke-width:4.55111; stroke-opacity:1\"/>\n",
       "<line clip-path=\"url(#clip270)\" x1=\"1912.27\" y1=\"147.058\" x2=\"1890.02\" y2=\"169.313\" style=\"stroke:#009af9; stroke-width:4.55111; stroke-opacity:1\"/>\n",
       "<line clip-path=\"url(#clip270)\" x1=\"1912.27\" y1=\"147.058\" x2=\"1934.53\" y2=\"169.313\" style=\"stroke:#009af9; stroke-width:4.55111; stroke-opacity:1\"/>\n",
       "<line clip-path=\"url(#clip270)\" x1=\"1912.27\" y1=\"147.058\" x2=\"1934.53\" y2=\"124.802\" style=\"stroke:#009af9; stroke-width:4.55111; stroke-opacity:1\"/>\n",
       "<path clip-path=\"url(#clip270)\" d=\"M2012.35 128.111 L2012.35 175.518 L2008.42 175.518 L2008.42 128.111 L2012.35 128.111 Z\" fill=\"#000000\" fill-rule=\"nonzero\" fill-opacity=\"1\" /><path clip-path=\"url(#clip270)\" d=\"M2024.76 143.041 Q2026.17 140.68 2029.67 138.597 Q2031.03 137.787 2035.25 137.787 Q2039.97 137.787 2042.91 141.537 Q2045.87 145.287 2045.87 151.398 Q2045.87 157.509 2042.91 161.259 Q2039.97 165.009 2035.25 165.009 Q2032.4 165.009 2030.34 163.898 Q2028.3 162.763 2026.96 160.449 L2026.96 174.199 L2022.68 174.199 L2022.68 151.629 Q2022.68 146.282 2024.76 143.041 M2041.45 151.398 Q2041.45 146.699 2039.51 144.037 Q2037.58 141.352 2034.2 141.352 Q2030.83 141.352 2028.88 144.037 Q2026.96 146.699 2026.96 151.398 Q2026.96 156.097 2028.88 158.782 Q2030.83 161.444 2034.2 161.444 Q2037.58 161.444 2039.51 158.782 Q2041.45 156.097 2041.45 151.398 Z\" fill=\"#000000\" fill-rule=\"nonzero\" fill-opacity=\"1\" /><path clip-path=\"url(#clip270)\" d=\"M2062.98 141.398 Q2059.55 141.398 2057.56 144.083 Q2055.57 146.745 2055.57 151.398 Q2055.57 156.051 2057.54 158.736 Q2059.53 161.398 2062.98 161.398 Q2066.38 161.398 2068.37 158.713 Q2070.36 156.027 2070.36 151.398 Q2070.36 146.791 2068.37 144.106 Q2066.38 141.398 2062.98 141.398 M2062.98 137.787 Q2068.53 137.787 2071.7 141.398 Q2074.88 145.009 2074.88 151.398 Q2074.88 157.764 2071.7 161.398 Q2068.53 165.009 2062.98 165.009 Q2057.4 165.009 2054.23 161.398 Q2051.08 157.764 2051.08 151.398 Q2051.08 145.009 2054.23 141.398 Q2057.4 137.787 2062.98 137.787 Z\" fill=\"#000000\" fill-rule=\"nonzero\" fill-opacity=\"1\" /><path clip-path=\"url(#clip270)\" d=\"M2081.5 154.106 L2081.5 138.412 L2085.76 138.412 L2085.76 153.944 Q2085.76 157.625 2087.19 159.476 Q2088.63 161.305 2091.5 161.305 Q2094.95 161.305 2096.94 159.106 Q2098.95 156.907 2098.95 153.111 L2098.95 138.412 L2103.21 138.412 L2103.21 164.338 L2098.95 164.338 L2098.95 160.356 Q2097.4 162.717 2095.34 163.875 Q2093.3 165.009 2090.59 165.009 Q2086.13 165.009 2083.81 162.231 Q2081.5 159.453 2081.5 154.106 M2092.21 137.787 L2092.21 137.787 Z\" fill=\"#000000\" fill-rule=\"nonzero\" fill-opacity=\"1\" /><path clip-path=\"url(#clip270)\" d=\"M2116.2 131.051 L2116.2 138.412 L2124.97 138.412 L2124.97 141.722 L2116.2 141.722 L2116.2 155.796 Q2116.2 158.967 2117.05 159.87 Q2117.93 160.773 2120.59 160.773 L2124.97 160.773 L2124.97 164.338 L2120.59 164.338 Q2115.66 164.338 2113.79 162.509 Q2111.91 160.657 2111.91 155.796 L2111.91 141.722 L2108.79 141.722 L2108.79 138.412 L2111.91 138.412 L2111.91 131.051 L2116.2 131.051 Z\" fill=\"#000000\" fill-rule=\"nonzero\" fill-opacity=\"1\" /><path clip-path=\"url(#clip270)\" d=\"M2143.49 149.453 L2155.96 149.453 L2155.96 153.25 L2143.49 153.25 L2143.49 149.453 Z\" fill=\"#000000\" fill-rule=\"nonzero\" fill-opacity=\"1\" /><path clip-path=\"url(#clip270)\" d=\"M2179.74 143.041 Q2181.15 140.68 2184.64 138.597 Q2186.01 137.787 2190.22 137.787 Q2194.94 137.787 2197.88 141.537 Q2200.85 145.287 2200.85 151.398 Q2200.85 157.509 2197.88 161.259 Q2194.94 165.009 2190.22 165.009 Q2187.38 165.009 2185.32 163.898 Q2183.28 162.763 2181.94 160.449 L2181.94 174.199 L2177.65 174.199 L2177.65 151.629 Q2177.65 146.282 2179.74 143.041 M2196.43 151.398 Q2196.43 146.699 2194.48 144.037 Q2192.56 141.352 2189.18 141.352 Q2185.8 141.352 2183.86 144.037 Q2181.94 146.699 2181.94 151.398 Q2181.94 156.097 2183.86 158.782 Q2185.8 161.444 2189.18 161.444 Q2192.56 161.444 2194.48 158.782 Q2196.43 156.097 2196.43 151.398 Z\" fill=\"#000000\" fill-rule=\"nonzero\" fill-opacity=\"1\" /><path clip-path=\"url(#clip270)\" d=\"M2207.91 138.412 L2212.17 138.412 L2212.17 164.338 L2207.91 164.338 L2207.91 138.412 M2207.91 128.319 L2212.17 128.319 L2212.17 133.713 L2207.91 133.713 L2207.91 128.319 Z\" fill=\"#000000\" fill-rule=\"nonzero\" fill-opacity=\"1\" /><path clip-path=\"url(#clip270)\" d=\"M2242.63 148.689 L2242.63 164.338 L2238.37 164.338 L2238.37 148.828 Q2238.37 145.148 2236.94 143.319 Q2235.5 141.49 2232.63 141.49 Q2229.18 141.49 2227.19 143.69 Q2225.2 145.889 2225.2 149.685 L2225.2 164.338 L2220.92 164.338 L2220.92 138.412 L2225.2 138.412 L2225.2 142.44 Q2226.73 140.102 2228.79 138.944 Q2230.87 137.787 2233.58 137.787 Q2238.05 137.787 2240.34 140.565 Q2242.63 143.319 2242.63 148.689 Z\" fill=\"#000000\" fill-rule=\"nonzero\" fill-opacity=\"1\" /><path clip-path=\"url(#clip270)\" d=\"M2256.61 128.111 L2256.61 175.518 L2252.68 175.518 L2252.68 128.111 L2256.61 128.111 Z\" fill=\"#000000\" fill-rule=\"nonzero\" fill-opacity=\"1\" /></svg>\n"
      ]
     },
     "metadata": {},
     "execution_count": 5
    }
   ],
   "cell_type": "code",
   "source": [
    "p"
   ],
   "metadata": {},
   "execution_count": 5
  },
  {
   "cell_type": "markdown",
   "source": [
    "The `info` object passed to the callback contains not just the densities\n",
    "but also the complete Bloch wave (in `ψ`), the `occupation`, band `eigenvalues`\n",
    "and so on.\n",
    "See [`src/scf/self_consistent_field.jl`](https://dftk.org/blob/master/src/scf/self_consistent_field.jl#L101)\n",
    "for all currently available keys.\n",
    "\n",
    "> **Debugging with callbacks**\n",
    ">\n",
    "> Very handy for debugging SCF algorithms is to employ callbacks\n",
    "> with an `@infiltrate` from [Infiltrator.jl](https://github.com/JuliaDebug/Infiltrator.jl)\n",
    "> to interactively monitor what is happening each SCF step."
   ],
   "metadata": {}
  }
 ],
 "nbformat_minor": 3,
 "metadata": {
  "language_info": {
   "file_extension": ".jl",
   "mimetype": "application/julia",
   "name": "julia",
   "version": "1.11.3"
  },
  "kernelspec": {
   "name": "julia-1.11",
   "display_name": "Julia 1.11.3",
   "language": "julia"
  }
 },
 "nbformat": 4
}
